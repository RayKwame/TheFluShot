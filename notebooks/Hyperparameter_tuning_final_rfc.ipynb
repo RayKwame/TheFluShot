{
 "cells": [
  {
   "cell_type": "markdown",
   "id": "a5c1f94d",
   "metadata": {},
   "source": [
    "# Combination of feature engineering and downsampling for feature importance--random forest (other vaccine included in features)"
   ]
  },
  {
   "cell_type": "code",
   "execution_count": 1,
   "id": "d48586fb",
   "metadata": {},
   "outputs": [
    {
     "name": "stdout",
     "output_type": "stream",
     "text": [
      "Requirement already satisfied: eli5 in /Users/christinarudolf/Documents/neuefische_ds/TheFluShot/.venv/lib/python3.8/site-packages (0.11.0)\n",
      "Requirement already satisfied: jinja2 in /Users/christinarudolf/Documents/neuefische_ds/TheFluShot/.venv/lib/python3.8/site-packages (from eli5) (3.0.1)\n",
      "Requirement already satisfied: graphviz in /Users/christinarudolf/Documents/neuefische_ds/TheFluShot/.venv/lib/python3.8/site-packages (from eli5) (0.17)\n",
      "Requirement already satisfied: tabulate>=0.7.7 in /Users/christinarudolf/Documents/neuefische_ds/TheFluShot/.venv/lib/python3.8/site-packages (from eli5) (0.8.9)\n",
      "Requirement already satisfied: attrs>16.0.0 in /Users/christinarudolf/Documents/neuefische_ds/TheFluShot/.venv/lib/python3.8/site-packages (from eli5) (21.2.0)\n",
      "Requirement already satisfied: scikit-learn>=0.20 in /Users/christinarudolf/Documents/neuefische_ds/TheFluShot/.venv/lib/python3.8/site-packages (from eli5) (0.24.2)\n",
      "Requirement already satisfied: numpy>=1.9.0 in /Users/christinarudolf/Documents/neuefische_ds/TheFluShot/.venv/lib/python3.8/site-packages (from eli5) (1.20.1)\n",
      "Requirement already satisfied: six in /Users/christinarudolf/Documents/neuefische_ds/TheFluShot/.venv/lib/python3.8/site-packages (from eli5) (1.16.0)\n",
      "Requirement already satisfied: scipy in /Users/christinarudolf/Documents/neuefische_ds/TheFluShot/.venv/lib/python3.8/site-packages (from eli5) (1.6.0)\n",
      "Requirement already satisfied: joblib>=0.11 in /Users/christinarudolf/Documents/neuefische_ds/TheFluShot/.venv/lib/python3.8/site-packages (from scikit-learn>=0.20->eli5) (1.0.1)\n",
      "Requirement already satisfied: threadpoolctl>=2.0.0 in /Users/christinarudolf/Documents/neuefische_ds/TheFluShot/.venv/lib/python3.8/site-packages (from scikit-learn>=0.20->eli5) (2.2.0)\n",
      "Requirement already satisfied: MarkupSafe>=2.0 in /Users/christinarudolf/Documents/neuefische_ds/TheFluShot/.venv/lib/python3.8/site-packages (from jinja2->eli5) (2.0.1)\n"
     ]
    }
   ],
   "source": [
    "import sys\n",
    "# adding to the path variables the one folder higher (locally, not changing system variables)\n",
    "sys.path.append(\"..\")\n",
    "import pandas as pd\n",
    "import numpy as np\n",
    "import warnings\n",
    "import mlflow\n",
    "from modeling.config import TRACKING_URI, EXPERIMENT_NAME\n",
    "\n",
    "RSEED = 42\n",
    "# Modeling Libraries\n",
    "\n",
    "import numpy as np\n",
    "import pandas as pd\n",
    "import matplotlib.pyplot as plt\n",
    "import seaborn as sns\n",
    "\n",
    "from sklearn.impute import SimpleImputer\n",
    "\n",
    "from sklearn.dummy import DummyClassifier\n",
    "from sklearn.multioutput import MultiOutputClassifier\n",
    "from sklearn.linear_model import LinearRegression\n",
    "from sklearn.pipeline import Pipeline\n",
    "from sklearn.compose import ColumnTransformer\n",
    "from sklearn.preprocessing import OneHotEncoder, StandardScaler\n",
    "from sklearn.impute import SimpleImputer\n",
    "from sklearn.model_selection import train_test_split\n",
    "from sklearn.model_selection import GridSearchCV, RandomizedSearchCV\n",
    "from sklearn.model_selection import cross_val_predict, cross_val_score, cross_validate\n",
    "from sklearn.metrics import roc_curve, confusion_matrix, accuracy_score, recall_score, precision_score, f1_score, roc_auc_score\n",
    "from sklearn import metrics\n",
    "\n",
    "from sklearn.linear_model import LogisticRegression\n",
    "from sklearn.linear_model import SGDClassifier\n",
    "from sklearn.ensemble import RandomForestClassifier\n",
    "\n",
    "# for resampling (data balancing)\n",
    "from sklearn.utils import resample\n",
    "\n",
    "# for feature importance\n",
    "!pip install eli5\n",
    "import eli5\n",
    "from eli5.sklearn import PermutationImportance\n",
    "\n",
    "warnings.filterwarnings('ignore')\n",
    "\n"
   ]
  },
  {
   "cell_type": "markdown",
   "id": "e75620a0",
   "metadata": {},
   "source": [
    "Data import:"
   ]
  },
  {
   "cell_type": "code",
   "execution_count": 2,
   "id": "db753668",
   "metadata": {},
   "outputs": [],
   "source": [
    "df = pd.read_csv('../data/Flu_Shot_Data_cleaned_2.csv')"
   ]
  },
  {
   "cell_type": "code",
   "execution_count": 3,
   "id": "5eac3654",
   "metadata": {},
   "outputs": [
    {
     "name": "stdout",
     "output_type": "stream",
     "text": [
      "<class 'pandas.core.frame.DataFrame'>\n",
      "RangeIndex: 26707 entries, 0 to 26706\n",
      "Data columns (total 38 columns):\n",
      " #   Column                       Non-Null Count  Dtype  \n",
      "---  ------                       --------------  -----  \n",
      " 0   Unnamed: 0                   26707 non-null  int64  \n",
      " 1   h1n1_vaccine                 26707 non-null  int64  \n",
      " 2   seasonal_vaccine             26707 non-null  int64  \n",
      " 3   h1n1_concern                 26615 non-null  float64\n",
      " 4   h1n1_knowledge               26591 non-null  float64\n",
      " 5   behavioral_antiviral_meds    26636 non-null  float64\n",
      " 6   behavioral_avoidance         26499 non-null  float64\n",
      " 7   behavioral_face_mask         26688 non-null  float64\n",
      " 8   behavioral_wash_hands        26665 non-null  float64\n",
      " 9   behavioral_large_gatherings  26620 non-null  float64\n",
      " 10  behavioral_outside_home      26625 non-null  float64\n",
      " 11  behavioral_touch_face        26579 non-null  float64\n",
      " 12  doctor_recc_h1n1             24547 non-null  float64\n",
      " 13  doctor_recc_seasonal         24547 non-null  float64\n",
      " 14  chronic_med_condition        25736 non-null  float64\n",
      " 15  child_under_6_months         25887 non-null  float64\n",
      " 16  health_worker                25903 non-null  float64\n",
      " 17  health_insurance             14433 non-null  float64\n",
      " 18  opinion_h1n1_vacc_effective  26316 non-null  float64\n",
      " 19  opinion_h1n1_risk            26319 non-null  float64\n",
      " 20  opinion_h1n1_sick_from_vacc  26312 non-null  float64\n",
      " 21  opinion_seas_vacc_effective  26245 non-null  float64\n",
      " 22  opinion_seas_risk            26193 non-null  float64\n",
      " 23  opinion_seas_sick_from_vacc  26170 non-null  float64\n",
      " 24  age_group                    26707 non-null  object \n",
      " 25  education                    25300 non-null  object \n",
      " 26  race                         26707 non-null  object \n",
      " 27  sex                          26707 non-null  object \n",
      " 28  income_poverty               22284 non-null  object \n",
      " 29  marital_status               25299 non-null  object \n",
      " 30  rent_or_own                  24665 non-null  object \n",
      " 31  employment_status            25244 non-null  object \n",
      " 32  hhs_geo_region               26707 non-null  object \n",
      " 33  census_msa                   26707 non-null  object \n",
      " 34  household_adults             26458 non-null  float64\n",
      " 35  household_children           26458 non-null  float64\n",
      " 36  employment_industry          13377 non-null  object \n",
      " 37  employment_occupation        13237 non-null  object \n",
      "dtypes: float64(23), int64(3), object(12)\n",
      "memory usage: 7.7+ MB\n"
     ]
    }
   ],
   "source": [
    "df.info()"
   ]
  },
  {
   "cell_type": "code",
   "execution_count": 4,
   "id": "106ee2eb",
   "metadata": {},
   "outputs": [],
   "source": [
    "# Getting rid of column 'Unnamed: 0'\n",
    "df = df.drop('Unnamed: 0', axis=1)"
   ]
  },
  {
   "cell_type": "code",
   "execution_count": 5,
   "id": "a3c75bcb",
   "metadata": {},
   "outputs": [
    {
     "data": {
      "text/plain": [
       "MSA, Not Principle  City    11645\n",
       "MSA, Principle City          7864\n",
       "Non-MSA                      7198\n",
       "Name: census_msa, dtype: int64"
      ]
     },
     "execution_count": 5,
     "metadata": {},
     "output_type": "execute_result"
    }
   ],
   "source": [
    "df.census_msa.value_counts()"
   ]
  },
  {
   "cell_type": "code",
   "execution_count": 6,
   "id": "e248a15e",
   "metadata": {},
   "outputs": [
    {
     "name": "stdout",
     "output_type": "stream",
     "text": [
      "<class 'pandas.core.frame.DataFrame'>\n",
      "RangeIndex: 26707 entries, 0 to 26706\n",
      "Data columns (total 37 columns):\n",
      " #   Column                       Non-Null Count  Dtype  \n",
      "---  ------                       --------------  -----  \n",
      " 0   h1n1_vaccine                 26707 non-null  int64  \n",
      " 1   seasonal_vaccine             26707 non-null  int64  \n",
      " 2   h1n1_concern                 26615 non-null  float64\n",
      " 3   h1n1_knowledge               26591 non-null  float64\n",
      " 4   behavioral_antiviral_meds    26636 non-null  float64\n",
      " 5   behavioral_avoidance         26499 non-null  float64\n",
      " 6   behavioral_face_mask         26688 non-null  float64\n",
      " 7   behavioral_wash_hands        26665 non-null  float64\n",
      " 8   behavioral_large_gatherings  26620 non-null  float64\n",
      " 9   behavioral_outside_home      26625 non-null  float64\n",
      " 10  behavioral_touch_face        26579 non-null  float64\n",
      " 11  doctor_recc_h1n1             24547 non-null  float64\n",
      " 12  doctor_recc_seasonal         24547 non-null  float64\n",
      " 13  chronic_med_condition        25736 non-null  float64\n",
      " 14  child_under_6_months         25887 non-null  float64\n",
      " 15  health_worker                25903 non-null  float64\n",
      " 16  health_insurance             14433 non-null  float64\n",
      " 17  opinion_h1n1_vacc_effective  26316 non-null  float64\n",
      " 18  opinion_h1n1_risk            26319 non-null  float64\n",
      " 19  opinion_h1n1_sick_from_vacc  26312 non-null  float64\n",
      " 20  opinion_seas_vacc_effective  26245 non-null  float64\n",
      " 21  opinion_seas_risk            26193 non-null  float64\n",
      " 22  opinion_seas_sick_from_vacc  26170 non-null  float64\n",
      " 23  age_group                    26707 non-null  object \n",
      " 24  education                    25300 non-null  object \n",
      " 25  race                         26707 non-null  object \n",
      " 26  sex                          26707 non-null  object \n",
      " 27  income_poverty               22284 non-null  object \n",
      " 28  marital_status               25299 non-null  object \n",
      " 29  rent_or_own                  24665 non-null  object \n",
      " 30  employment_status            25244 non-null  object \n",
      " 31  hhs_geo_region               26707 non-null  object \n",
      " 32  census_msa                   26707 non-null  object \n",
      " 33  household_adults             26458 non-null  float64\n",
      " 34  household_children           26458 non-null  float64\n",
      " 35  employment_industry          13377 non-null  object \n",
      " 36  employment_occupation        13237 non-null  object \n",
      "dtypes: float64(23), int64(2), object(12)\n",
      "memory usage: 7.5+ MB\n"
     ]
    }
   ],
   "source": [
    "df.info()"
   ]
  },
  {
   "cell_type": "markdown",
   "id": "00a1d658",
   "metadata": {},
   "source": [
    "Random forest (without 1-hot encoding) and the permutation importance will not work with:\n",
    "a.) string as features\n",
    "b.) missing data (https://datascience.stackexchange.com/questions/72764/can-random-forest-regressor-or-decision-trees-handle-missing-values-and-outliers )"
   ]
  },
  {
   "cell_type": "markdown",
   "id": "99948ed1",
   "metadata": {},
   "source": [
    "**Filling in missing values**"
   ]
  },
  {
   "cell_type": "markdown",
   "id": "90f3f285",
   "metadata": {},
   "source": [
    "A dummy value (-999) is used to replace NaN values. Apparently, as long as you use a dummy value that doesn't appear in the feature (such as -999), then the algorithm handles this automatically (https://www.kaggle.com/questions-and-answers/60595; https://www.analyticsvidhya.com/blog/2021/05/dealing-with-missing-values-in-python-a-complete-guide/ ). I have tried comparing this approach to analysis on a notebook that still had Nan values, and the resultant evaluation metrics remain largely the same (with variation of up to 0.02...but that could be due to the use of the random forest classifier)"
   ]
  },
  {
   "cell_type": "markdown",
   "id": "b9076fcd",
   "metadata": {},
   "source": [
    "**Converting string info to numerical**"
   ]
  },
  {
   "cell_type": "code",
   "execution_count": 7,
   "id": "e7cb63d3",
   "metadata": {},
   "outputs": [],
   "source": [
    "cleanup = {\"age_group\": {\"18 - 34 Years\": 1, \"35 - 44 Years\": 2, \"45 - 54 Years\": 3, \"55 - 64 Years\": 4,\n",
    "                                  \"65+ Years\": 5},\n",
    "            \"education\": {\"< 12 Years\": 1, \"12 Years\": 2, \"Some College\": 3, \"College Graduate\": 4},\n",
    "            \"race\": {\"White\": 1, \"Black\": 2, \"Hispanic\": 3, \"Other or Multiple\": 4},\n",
    "            \"sex\" : {\"Female\": 1, \"Male\": 2},\n",
    "            \"rent_or_own\" : {\"Own\": 1, \"Rent\": 2},\n",
    "            \"hhs_geo_region\" : {\"lzgpxyit\": 1, \"fpwskwrf\": 2, \"qufhixun\": 3, \"bhuqouqj\": 4, \"oxchjgsf\": 5, \"kbazzjca\": 6, \"mlyzmhmf\": 7, \"atmpeygn\": 8, \"lrircsnp\": 9, \"dqpwygqj\": 10},\n",
    "            \"census_msa\" : {\"MSA, Principle City\": 1, \"MSA, Not Principle  City\": 2, \"Non-MSA\": 3},\n",
    "            \"income_poverty\" : {\"Below Poverty\": 1, \"<= $75,000, Above Poverty\": 2, \"> $75,000\": 3},\n",
    "            \"employment_industry\" : {\"fcxhlnwr\": 1, \"wxleyezf\": 2, \"ldnlellj\": 3, \"pxcmvdjn\": 4, \"atmlpfrs\": 5, \"arjwrbjb\": 6, \"xicduogh\": 7, \"mfikgejo\": 8, \"vjjrobsf\": 9,\n",
    "                                    \"rucpziij\": 10, \"xqicxuve\": 11, \"saaquncn\": 12, \"cfqqtusy\": 13, \"nduyfdeo\": 14, \"mcubkhph\": 15, \"wlfvacwt\": 16, \"dotnnunm\": 17, \"haxffmxo\": 18, \"msuufmds\": 19, \"phxvnwax\": 20,\n",
    "                                    \"qnlwzans\": 21},\n",
    "           \"employment_occupation\" : {\"xtkaffoo\": 1, \"mxkfnird\": 2, \"emcorrxb\": 3, \"cmhcxjea\": 4, \"xgwztkwe\": 5, \"hfxkjkmi\": 6, \"qxajmpny\": 7, \"xqwwgdyp\": 8, \"kldqjyjy\": 9,\n",
    "                                    \"uqqtjvyb\": 10, \"tfqavkke\": 11, \"ukymxvdu\": 12, \"vlluhbov\": 13, \"oijqvulv\": 14, \"ccgxvspp\": 15, \"bxpfxfdn\": 16, \"haliazsg\": 17, \"rcertsgn\": 18, \"xzmlyyjv\": 19, \"dlvbwzss\": 20,\n",
    "                                    \"hodpvpew\": 21, \"dcjcmpih\": 22, \"pvmttkik\": 23},\n",
    "           \"marital_status\" : {\"Married\": 1, \"Not Married\": 2},\n",
    "           \"employment_status\" : {\"Employed\": 1, \"Not in Labor Force\": 2, \"Unemployed\": 3}\n",
    "                                  }"
   ]
  },
  {
   "cell_type": "code",
   "execution_count": 8,
   "id": "02b9b6a2",
   "metadata": {},
   "outputs": [],
   "source": [
    "df_num = df.replace(cleanup)"
   ]
  },
  {
   "cell_type": "code",
   "execution_count": 9,
   "id": "af5a4a3e",
   "metadata": {},
   "outputs": [
    {
     "name": "stdout",
     "output_type": "stream",
     "text": [
      "<class 'pandas.core.frame.DataFrame'>\n",
      "RangeIndex: 26707 entries, 0 to 26706\n",
      "Data columns (total 37 columns):\n",
      " #   Column                       Non-Null Count  Dtype  \n",
      "---  ------                       --------------  -----  \n",
      " 0   h1n1_vaccine                 26707 non-null  int64  \n",
      " 1   seasonal_vaccine             26707 non-null  int64  \n",
      " 2   h1n1_concern                 26615 non-null  float64\n",
      " 3   h1n1_knowledge               26591 non-null  float64\n",
      " 4   behavioral_antiviral_meds    26636 non-null  float64\n",
      " 5   behavioral_avoidance         26499 non-null  float64\n",
      " 6   behavioral_face_mask         26688 non-null  float64\n",
      " 7   behavioral_wash_hands        26665 non-null  float64\n",
      " 8   behavioral_large_gatherings  26620 non-null  float64\n",
      " 9   behavioral_outside_home      26625 non-null  float64\n",
      " 10  behavioral_touch_face        26579 non-null  float64\n",
      " 11  doctor_recc_h1n1             24547 non-null  float64\n",
      " 12  doctor_recc_seasonal         24547 non-null  float64\n",
      " 13  chronic_med_condition        25736 non-null  float64\n",
      " 14  child_under_6_months         25887 non-null  float64\n",
      " 15  health_worker                25903 non-null  float64\n",
      " 16  health_insurance             14433 non-null  float64\n",
      " 17  opinion_h1n1_vacc_effective  26316 non-null  float64\n",
      " 18  opinion_h1n1_risk            26319 non-null  float64\n",
      " 19  opinion_h1n1_sick_from_vacc  26312 non-null  float64\n",
      " 20  opinion_seas_vacc_effective  26245 non-null  float64\n",
      " 21  opinion_seas_risk            26193 non-null  float64\n",
      " 22  opinion_seas_sick_from_vacc  26170 non-null  float64\n",
      " 23  age_group                    26707 non-null  int64  \n",
      " 24  education                    25300 non-null  float64\n",
      " 25  race                         26707 non-null  int64  \n",
      " 26  sex                          26707 non-null  int64  \n",
      " 27  income_poverty               22284 non-null  float64\n",
      " 28  marital_status               25299 non-null  float64\n",
      " 29  rent_or_own                  24665 non-null  float64\n",
      " 30  employment_status            25244 non-null  float64\n",
      " 31  hhs_geo_region               26707 non-null  int64  \n",
      " 32  census_msa                   26707 non-null  int64  \n",
      " 33  household_adults             26458 non-null  float64\n",
      " 34  household_children           26458 non-null  float64\n",
      " 35  employment_industry          13377 non-null  float64\n",
      " 36  employment_occupation        13237 non-null  float64\n",
      "dtypes: float64(30), int64(7)\n",
      "memory usage: 7.5 MB\n"
     ]
    }
   ],
   "source": [
    "df_num.info()"
   ]
  },
  {
   "cell_type": "markdown",
   "id": "e8ae3802",
   "metadata": {},
   "source": [
    "## Checking feature correlation"
   ]
  },
  {
   "cell_type": "code",
   "execution_count": 10,
   "id": "d6263ad6",
   "metadata": {},
   "outputs": [
    {
     "name": "stdout",
     "output_type": "stream",
     "text": [
      "doctor_recc_h1n1             doctor_recc_seasonal           0.591868\n",
      "behavioral_large_gatherings  behavioral_outside_home        0.584085\n",
      "opinion_h1n1_risk            opinion_seas_risk              0.564522\n",
      "opinion_h1n1_sick_from_vacc  opinion_seas_sick_from_vacc    0.502192\n",
      "opinion_h1n1_vacc_effective  opinion_seas_vacc_effective    0.444043\n",
      "education                    income_poverty                 0.415926\n",
      "seasonal_vaccine             opinion_seas_vacc_effective    0.397874\n",
      "h1n1_vaccine                 doctor_recc_h1n1               0.393890\n",
      "seasonal_vaccine             opinion_seas_risk              0.389286\n",
      "dtype: float64\n"
     ]
    }
   ],
   "source": [
    "# getting the highly correlated features--numerical features, without imputing the dummy value\n",
    "s = df_num.corr(method='spearman').unstack().sort_values(kind=\"quicksort\", ascending=False).drop_duplicates()\n",
    "print(s[1:10])"
   ]
  },
  {
   "cell_type": "markdown",
   "id": "be883540",
   "metadata": {},
   "source": [
    "These results are consistent with previous results (feature_engineering notebook)"
   ]
  },
  {
   "cell_type": "markdown",
   "id": "66ffcc69",
   "metadata": {},
   "source": [
    "### Creating a new column based on recommendation (2 binary features)\n",
    "- applying a function that tells if both, none or either of the vaccines have been recommended"
   ]
  },
  {
   "cell_type": "code",
   "execution_count": 11,
   "id": "0136ccea",
   "metadata": {},
   "outputs": [],
   "source": [
    "def get_reco(row):\n",
    "    # none of the vaccines has been recommended\n",
    "    if row['doctor_recc_seasonal'] == 0 and row['doctor_recc_h1n1'] == 0:\n",
    "        val = 0\n",
    "    # both vaccines have been recommended\n",
    "    elif row['doctor_recc_seasonal'] == 0 and row['doctor_recc_h1n1'] == 1:\n",
    "        val = 1\n",
    "    # only seasonal vaccine has been recommended \n",
    "    elif row['doctor_recc_seasonal'] == 1 and row['doctor_recc_h1n1'] == 0:\n",
    "        val = 2\n",
    "    # only H1N1 vaccine has been recommended\n",
    "    elif row['doctor_recc_seasonal'] == 1 and row['doctor_recc_h1n1'] == 1:\n",
    "        val = 3\n",
    "    else:\n",
    "        val = None\n",
    "    return val "
   ]
  },
  {
   "cell_type": "code",
   "execution_count": 12,
   "id": "2892a940",
   "metadata": {},
   "outputs": [],
   "source": [
    "# Applying the function\n",
    "# values will be converted to categorical \n",
    "df_num['reco_vaccines'] = df_num.apply(get_reco, axis=1).astype('category')"
   ]
  },
  {
   "cell_type": "code",
   "execution_count": 13,
   "id": "c1e60490",
   "metadata": {},
   "outputs": [
    {
     "data": {
      "text/plain": [
       "0.0    15659\n",
       "3.0     4614\n",
       "2.0     3480\n",
       "1.0      794\n",
       "Name: reco_vaccines, dtype: int64"
      ]
     },
     "execution_count": 13,
     "metadata": {},
     "output_type": "execute_result"
    }
   ],
   "source": [
    "df_num['reco_vaccines'].value_counts()"
   ]
  },
  {
   "cell_type": "code",
   "execution_count": 14,
   "id": "34598b26",
   "metadata": {},
   "outputs": [
    {
     "name": "stdout",
     "output_type": "stream",
     "text": [
      "0.0    17073\n",
      "1.0     9547\n",
      "Name: behavioral_large_gatherings, dtype: int64\n",
      "0.0    17644\n",
      "1.0     8981\n",
      "Name: behavioral_outside_home, dtype: int64\n"
     ]
    }
   ],
   "source": [
    "print(df_num.behavioral_large_gatherings.value_counts())\n",
    "print(df_num.behavioral_outside_home.value_counts())"
   ]
  },
  {
   "cell_type": "markdown",
   "id": "5366dd0a",
   "metadata": {},
   "source": [
    "### Creating a new column based on 2 behavioural features"
   ]
  },
  {
   "cell_type": "markdown",
   "id": "c18040b9",
   "metadata": {},
   "source": [
    "- next, we will create a function that combines behaviour at large gatherings and outside of home\n",
    "- NOTE: we need to make an assumption that '0' refers to not having done it and '1' refers to having done it "
   ]
  },
  {
   "cell_type": "code",
   "execution_count": 15,
   "id": "99f995a4",
   "metadata": {},
   "outputs": [],
   "source": [
    "def get_behaviour(row):\n",
    "    # none of the behaviours applies \n",
    "    if row['behavioral_large_gatherings'] == 0 and row['behavioral_outside_home'] == 0:\n",
    "        val = 0\n",
    "    # both behaviours apply \n",
    "    elif row['behavioral_large_gatherings'] == 0 and row['behavioral_outside_home'] == 1:\n",
    "        val = 1\n",
    "    # only reducing time at large gatherings applies \n",
    "    elif row['behavioral_large_gatherings'] == 1 and row['behavioral_outside_home'] == 0:\n",
    "        val = 2\n",
    "    # only reduced contact with people outside of household applies \n",
    "    elif row['behavioral_large_gatherings'] == 1 and row['behavioral_outside_home'] == 1:\n",
    "        val = 3\n",
    "    else:\n",
    "        val = None\n",
    "    return val "
   ]
  },
  {
   "cell_type": "code",
   "execution_count": 16,
   "id": "17778965",
   "metadata": {},
   "outputs": [],
   "source": [
    "# Applying the function\n",
    "# values will be converted to categorical \n",
    "df_num['behaviour_gather_home'] = df_num.apply(get_behaviour, axis=1).astype('category')"
   ]
  },
  {
   "cell_type": "code",
   "execution_count": 17,
   "id": "b3de7e09",
   "metadata": {},
   "outputs": [
    {
     "data": {
      "text/plain": [
       "0.0    14808\n",
       "3.0     6723\n",
       "2.0     2796\n",
       "1.0     2224\n",
       "Name: behaviour_gather_home, dtype: int64"
      ]
     },
     "execution_count": 17,
     "metadata": {},
     "output_type": "execute_result"
    }
   ],
   "source": [
    "df_num.behaviour_gather_home.value_counts()"
   ]
  },
  {
   "cell_type": "markdown",
   "id": "01acbd3d",
   "metadata": {},
   "source": [
    "- we will now drop the columns that are no longer necessary "
   ]
  },
  {
   "cell_type": "code",
   "execution_count": 18,
   "id": "1d65164f",
   "metadata": {},
   "outputs": [],
   "source": [
    "removal = ['doctor_recc_seasonal', 'doctor_recc_h1n1', 'behavioral_large_gatherings', 'behavioral_outside_home']\n",
    "\n",
    "df_num.drop(removal, axis=1, inplace=True)"
   ]
  },
  {
   "cell_type": "code",
   "execution_count": 19,
   "id": "84910c48",
   "metadata": {},
   "outputs": [
    {
     "data": {
      "text/html": [
       "<div>\n",
       "<style scoped>\n",
       "    .dataframe tbody tr th:only-of-type {\n",
       "        vertical-align: middle;\n",
       "    }\n",
       "\n",
       "    .dataframe tbody tr th {\n",
       "        vertical-align: top;\n",
       "    }\n",
       "\n",
       "    .dataframe thead th {\n",
       "        text-align: right;\n",
       "    }\n",
       "</style>\n",
       "<table border=\"1\" class=\"dataframe\">\n",
       "  <thead>\n",
       "    <tr style=\"text-align: right;\">\n",
       "      <th></th>\n",
       "      <th>h1n1_vaccine</th>\n",
       "      <th>seasonal_vaccine</th>\n",
       "      <th>h1n1_concern</th>\n",
       "      <th>h1n1_knowledge</th>\n",
       "      <th>behavioral_antiviral_meds</th>\n",
       "      <th>behavioral_avoidance</th>\n",
       "      <th>behavioral_face_mask</th>\n",
       "      <th>behavioral_wash_hands</th>\n",
       "      <th>behavioral_touch_face</th>\n",
       "      <th>chronic_med_condition</th>\n",
       "      <th>...</th>\n",
       "      <th>rent_or_own</th>\n",
       "      <th>employment_status</th>\n",
       "      <th>hhs_geo_region</th>\n",
       "      <th>census_msa</th>\n",
       "      <th>household_adults</th>\n",
       "      <th>household_children</th>\n",
       "      <th>employment_industry</th>\n",
       "      <th>employment_occupation</th>\n",
       "      <th>reco_vaccines</th>\n",
       "      <th>behaviour_gather_home</th>\n",
       "    </tr>\n",
       "  </thead>\n",
       "  <tbody>\n",
       "    <tr>\n",
       "      <th>0</th>\n",
       "      <td>0</td>\n",
       "      <td>0</td>\n",
       "      <td>1.0</td>\n",
       "      <td>0.0</td>\n",
       "      <td>0.0</td>\n",
       "      <td>0.0</td>\n",
       "      <td>0.0</td>\n",
       "      <td>0.0</td>\n",
       "      <td>1.0</td>\n",
       "      <td>0.0</td>\n",
       "      <td>...</td>\n",
       "      <td>1.0</td>\n",
       "      <td>2.0</td>\n",
       "      <td>5</td>\n",
       "      <td>3</td>\n",
       "      <td>0.0</td>\n",
       "      <td>0.0</td>\n",
       "      <td>NaN</td>\n",
       "      <td>NaN</td>\n",
       "      <td>0.0</td>\n",
       "      <td>1.0</td>\n",
       "    </tr>\n",
       "    <tr>\n",
       "      <th>1</th>\n",
       "      <td>0</td>\n",
       "      <td>1</td>\n",
       "      <td>3.0</td>\n",
       "      <td>2.0</td>\n",
       "      <td>0.0</td>\n",
       "      <td>1.0</td>\n",
       "      <td>0.0</td>\n",
       "      <td>1.0</td>\n",
       "      <td>1.0</td>\n",
       "      <td>0.0</td>\n",
       "      <td>...</td>\n",
       "      <td>2.0</td>\n",
       "      <td>1.0</td>\n",
       "      <td>4</td>\n",
       "      <td>2</td>\n",
       "      <td>0.0</td>\n",
       "      <td>0.0</td>\n",
       "      <td>4.0</td>\n",
       "      <td>5.0</td>\n",
       "      <td>0.0</td>\n",
       "      <td>1.0</td>\n",
       "    </tr>\n",
       "    <tr>\n",
       "      <th>2</th>\n",
       "      <td>0</td>\n",
       "      <td>0</td>\n",
       "      <td>1.0</td>\n",
       "      <td>1.0</td>\n",
       "      <td>0.0</td>\n",
       "      <td>1.0</td>\n",
       "      <td>0.0</td>\n",
       "      <td>0.0</td>\n",
       "      <td>0.0</td>\n",
       "      <td>1.0</td>\n",
       "      <td>...</td>\n",
       "      <td>1.0</td>\n",
       "      <td>1.0</td>\n",
       "      <td>3</td>\n",
       "      <td>2</td>\n",
       "      <td>2.0</td>\n",
       "      <td>0.0</td>\n",
       "      <td>10.0</td>\n",
       "      <td>1.0</td>\n",
       "      <td>NaN</td>\n",
       "      <td>0.0</td>\n",
       "    </tr>\n",
       "    <tr>\n",
       "      <th>3</th>\n",
       "      <td>0</td>\n",
       "      <td>1</td>\n",
       "      <td>1.0</td>\n",
       "      <td>1.0</td>\n",
       "      <td>0.0</td>\n",
       "      <td>1.0</td>\n",
       "      <td>0.0</td>\n",
       "      <td>1.0</td>\n",
       "      <td>0.0</td>\n",
       "      <td>1.0</td>\n",
       "      <td>...</td>\n",
       "      <td>2.0</td>\n",
       "      <td>2.0</td>\n",
       "      <td>9</td>\n",
       "      <td>1</td>\n",
       "      <td>0.0</td>\n",
       "      <td>0.0</td>\n",
       "      <td>NaN</td>\n",
       "      <td>NaN</td>\n",
       "      <td>2.0</td>\n",
       "      <td>2.0</td>\n",
       "    </tr>\n",
       "    <tr>\n",
       "      <th>4</th>\n",
       "      <td>0</td>\n",
       "      <td>0</td>\n",
       "      <td>2.0</td>\n",
       "      <td>1.0</td>\n",
       "      <td>0.0</td>\n",
       "      <td>1.0</td>\n",
       "      <td>0.0</td>\n",
       "      <td>1.0</td>\n",
       "      <td>1.0</td>\n",
       "      <td>0.0</td>\n",
       "      <td>...</td>\n",
       "      <td>1.0</td>\n",
       "      <td>1.0</td>\n",
       "      <td>3</td>\n",
       "      <td>2</td>\n",
       "      <td>1.0</td>\n",
       "      <td>0.0</td>\n",
       "      <td>2.0</td>\n",
       "      <td>3.0</td>\n",
       "      <td>0.0</td>\n",
       "      <td>2.0</td>\n",
       "    </tr>\n",
       "    <tr>\n",
       "      <th>5</th>\n",
       "      <td>0</td>\n",
       "      <td>0</td>\n",
       "      <td>3.0</td>\n",
       "      <td>1.0</td>\n",
       "      <td>0.0</td>\n",
       "      <td>1.0</td>\n",
       "      <td>0.0</td>\n",
       "      <td>1.0</td>\n",
       "      <td>1.0</td>\n",
       "      <td>0.0</td>\n",
       "      <td>...</td>\n",
       "      <td>1.0</td>\n",
       "      <td>1.0</td>\n",
       "      <td>8</td>\n",
       "      <td>1</td>\n",
       "      <td>2.0</td>\n",
       "      <td>3.0</td>\n",
       "      <td>12.0</td>\n",
       "      <td>13.0</td>\n",
       "      <td>2.0</td>\n",
       "      <td>0.0</td>\n",
       "    </tr>\n",
       "    <tr>\n",
       "      <th>6</th>\n",
       "      <td>0</td>\n",
       "      <td>0</td>\n",
       "      <td>0.0</td>\n",
       "      <td>0.0</td>\n",
       "      <td>0.0</td>\n",
       "      <td>0.0</td>\n",
       "      <td>0.0</td>\n",
       "      <td>0.0</td>\n",
       "      <td>0.0</td>\n",
       "      <td>0.0</td>\n",
       "      <td>...</td>\n",
       "      <td>1.0</td>\n",
       "      <td>1.0</td>\n",
       "      <td>3</td>\n",
       "      <td>2</td>\n",
       "      <td>0.0</td>\n",
       "      <td>0.0</td>\n",
       "      <td>7.0</td>\n",
       "      <td>1.0</td>\n",
       "      <td>0.0</td>\n",
       "      <td>0.0</td>\n",
       "    </tr>\n",
       "    <tr>\n",
       "      <th>7</th>\n",
       "      <td>1</td>\n",
       "      <td>1</td>\n",
       "      <td>1.0</td>\n",
       "      <td>0.0</td>\n",
       "      <td>0.0</td>\n",
       "      <td>1.0</td>\n",
       "      <td>0.0</td>\n",
       "      <td>1.0</td>\n",
       "      <td>1.0</td>\n",
       "      <td>1.0</td>\n",
       "      <td>...</td>\n",
       "      <td>1.0</td>\n",
       "      <td>1.0</td>\n",
       "      <td>4</td>\n",
       "      <td>3</td>\n",
       "      <td>2.0</td>\n",
       "      <td>0.0</td>\n",
       "      <td>4.0</td>\n",
       "      <td>8.0</td>\n",
       "      <td>1.0</td>\n",
       "      <td>0.0</td>\n",
       "    </tr>\n",
       "    <tr>\n",
       "      <th>8</th>\n",
       "      <td>0</td>\n",
       "      <td>0</td>\n",
       "      <td>0.0</td>\n",
       "      <td>2.0</td>\n",
       "      <td>0.0</td>\n",
       "      <td>1.0</td>\n",
       "      <td>0.0</td>\n",
       "      <td>1.0</td>\n",
       "      <td>1.0</td>\n",
       "      <td>0.0</td>\n",
       "      <td>...</td>\n",
       "      <td>1.0</td>\n",
       "      <td>1.0</td>\n",
       "      <td>4</td>\n",
       "      <td>2</td>\n",
       "      <td>1.0</td>\n",
       "      <td>0.0</td>\n",
       "      <td>7.0</td>\n",
       "      <td>15.0</td>\n",
       "      <td>0.0</td>\n",
       "      <td>3.0</td>\n",
       "    </tr>\n",
       "    <tr>\n",
       "      <th>9</th>\n",
       "      <td>0</td>\n",
       "      <td>0</td>\n",
       "      <td>2.0</td>\n",
       "      <td>1.0</td>\n",
       "      <td>0.0</td>\n",
       "      <td>1.0</td>\n",
       "      <td>0.0</td>\n",
       "      <td>0.0</td>\n",
       "      <td>1.0</td>\n",
       "      <td>1.0</td>\n",
       "      <td>...</td>\n",
       "      <td>1.0</td>\n",
       "      <td>2.0</td>\n",
       "      <td>3</td>\n",
       "      <td>2</td>\n",
       "      <td>0.0</td>\n",
       "      <td>0.0</td>\n",
       "      <td>NaN</td>\n",
       "      <td>NaN</td>\n",
       "      <td>0.0</td>\n",
       "      <td>2.0</td>\n",
       "    </tr>\n",
       "    <tr>\n",
       "      <th>10</th>\n",
       "      <td>1</td>\n",
       "      <td>1</td>\n",
       "      <td>2.0</td>\n",
       "      <td>1.0</td>\n",
       "      <td>0.0</td>\n",
       "      <td>1.0</td>\n",
       "      <td>0.0</td>\n",
       "      <td>1.0</td>\n",
       "      <td>0.0</td>\n",
       "      <td>1.0</td>\n",
       "      <td>...</td>\n",
       "      <td>2.0</td>\n",
       "      <td>1.0</td>\n",
       "      <td>1</td>\n",
       "      <td>2</td>\n",
       "      <td>2.0</td>\n",
       "      <td>0.0</td>\n",
       "      <td>7.0</td>\n",
       "      <td>7.0</td>\n",
       "      <td>0.0</td>\n",
       "      <td>2.0</td>\n",
       "    </tr>\n",
       "    <tr>\n",
       "      <th>11</th>\n",
       "      <td>1</td>\n",
       "      <td>1</td>\n",
       "      <td>1.0</td>\n",
       "      <td>2.0</td>\n",
       "      <td>0.0</td>\n",
       "      <td>1.0</td>\n",
       "      <td>0.0</td>\n",
       "      <td>1.0</td>\n",
       "      <td>0.0</td>\n",
       "      <td>0.0</td>\n",
       "      <td>...</td>\n",
       "      <td>1.0</td>\n",
       "      <td>1.0</td>\n",
       "      <td>5</td>\n",
       "      <td>3</td>\n",
       "      <td>1.0</td>\n",
       "      <td>2.0</td>\n",
       "      <td>7.0</td>\n",
       "      <td>15.0</td>\n",
       "      <td>0.0</td>\n",
       "      <td>0.0</td>\n",
       "    </tr>\n",
       "    <tr>\n",
       "      <th>12</th>\n",
       "      <td>0</td>\n",
       "      <td>1</td>\n",
       "      <td>1.0</td>\n",
       "      <td>1.0</td>\n",
       "      <td>0.0</td>\n",
       "      <td>1.0</td>\n",
       "      <td>0.0</td>\n",
       "      <td>1.0</td>\n",
       "      <td>1.0</td>\n",
       "      <td>0.0</td>\n",
       "      <td>...</td>\n",
       "      <td>1.0</td>\n",
       "      <td>2.0</td>\n",
       "      <td>1</td>\n",
       "      <td>2</td>\n",
       "      <td>1.0</td>\n",
       "      <td>0.0</td>\n",
       "      <td>NaN</td>\n",
       "      <td>NaN</td>\n",
       "      <td>2.0</td>\n",
       "      <td>2.0</td>\n",
       "    </tr>\n",
       "    <tr>\n",
       "      <th>13</th>\n",
       "      <td>0</td>\n",
       "      <td>0</td>\n",
       "      <td>1.0</td>\n",
       "      <td>1.0</td>\n",
       "      <td>0.0</td>\n",
       "      <td>1.0</td>\n",
       "      <td>0.0</td>\n",
       "      <td>1.0</td>\n",
       "      <td>1.0</td>\n",
       "      <td>1.0</td>\n",
       "      <td>...</td>\n",
       "      <td>1.0</td>\n",
       "      <td>1.0</td>\n",
       "      <td>1</td>\n",
       "      <td>2</td>\n",
       "      <td>1.0</td>\n",
       "      <td>2.0</td>\n",
       "      <td>3.0</td>\n",
       "      <td>9.0</td>\n",
       "      <td>0.0</td>\n",
       "      <td>0.0</td>\n",
       "    </tr>\n",
       "    <tr>\n",
       "      <th>14</th>\n",
       "      <td>0</td>\n",
       "      <td>0</td>\n",
       "      <td>3.0</td>\n",
       "      <td>1.0</td>\n",
       "      <td>0.0</td>\n",
       "      <td>1.0</td>\n",
       "      <td>0.0</td>\n",
       "      <td>1.0</td>\n",
       "      <td>1.0</td>\n",
       "      <td>0.0</td>\n",
       "      <td>...</td>\n",
       "      <td>1.0</td>\n",
       "      <td>2.0</td>\n",
       "      <td>3</td>\n",
       "      <td>2</td>\n",
       "      <td>1.0</td>\n",
       "      <td>0.0</td>\n",
       "      <td>NaN</td>\n",
       "      <td>NaN</td>\n",
       "      <td>0.0</td>\n",
       "      <td>1.0</td>\n",
       "    </tr>\n",
       "    <tr>\n",
       "      <th>15</th>\n",
       "      <td>0</td>\n",
       "      <td>0</td>\n",
       "      <td>1.0</td>\n",
       "      <td>1.0</td>\n",
       "      <td>0.0</td>\n",
       "      <td>1.0</td>\n",
       "      <td>0.0</td>\n",
       "      <td>0.0</td>\n",
       "      <td>0.0</td>\n",
       "      <td>0.0</td>\n",
       "      <td>...</td>\n",
       "      <td>1.0</td>\n",
       "      <td>1.0</td>\n",
       "      <td>1</td>\n",
       "      <td>2</td>\n",
       "      <td>1.0</td>\n",
       "      <td>3.0</td>\n",
       "      <td>2.0</td>\n",
       "      <td>3.0</td>\n",
       "      <td>2.0</td>\n",
       "      <td>0.0</td>\n",
       "    </tr>\n",
       "    <tr>\n",
       "      <th>16</th>\n",
       "      <td>1</td>\n",
       "      <td>1</td>\n",
       "      <td>2.0</td>\n",
       "      <td>1.0</td>\n",
       "      <td>0.0</td>\n",
       "      <td>1.0</td>\n",
       "      <td>0.0</td>\n",
       "      <td>1.0</td>\n",
       "      <td>1.0</td>\n",
       "      <td>1.0</td>\n",
       "      <td>...</td>\n",
       "      <td>NaN</td>\n",
       "      <td>2.0</td>\n",
       "      <td>5</td>\n",
       "      <td>1</td>\n",
       "      <td>0.0</td>\n",
       "      <td>0.0</td>\n",
       "      <td>NaN</td>\n",
       "      <td>NaN</td>\n",
       "      <td>3.0</td>\n",
       "      <td>3.0</td>\n",
       "    </tr>\n",
       "    <tr>\n",
       "      <th>17</th>\n",
       "      <td>0</td>\n",
       "      <td>0</td>\n",
       "      <td>1.0</td>\n",
       "      <td>1.0</td>\n",
       "      <td>0.0</td>\n",
       "      <td>0.0</td>\n",
       "      <td>0.0</td>\n",
       "      <td>1.0</td>\n",
       "      <td>1.0</td>\n",
       "      <td>0.0</td>\n",
       "      <td>...</td>\n",
       "      <td>1.0</td>\n",
       "      <td>1.0</td>\n",
       "      <td>1</td>\n",
       "      <td>2</td>\n",
       "      <td>1.0</td>\n",
       "      <td>0.0</td>\n",
       "      <td>10.0</td>\n",
       "      <td>1.0</td>\n",
       "      <td>3.0</td>\n",
       "      <td>2.0</td>\n",
       "    </tr>\n",
       "    <tr>\n",
       "      <th>18</th>\n",
       "      <td>0</td>\n",
       "      <td>0</td>\n",
       "      <td>1.0</td>\n",
       "      <td>2.0</td>\n",
       "      <td>0.0</td>\n",
       "      <td>1.0</td>\n",
       "      <td>0.0</td>\n",
       "      <td>1.0</td>\n",
       "      <td>1.0</td>\n",
       "      <td>0.0</td>\n",
       "      <td>...</td>\n",
       "      <td>1.0</td>\n",
       "      <td>1.0</td>\n",
       "      <td>5</td>\n",
       "      <td>3</td>\n",
       "      <td>2.0</td>\n",
       "      <td>0.0</td>\n",
       "      <td>16.0</td>\n",
       "      <td>5.0</td>\n",
       "      <td>3.0</td>\n",
       "      <td>0.0</td>\n",
       "    </tr>\n",
       "    <tr>\n",
       "      <th>19</th>\n",
       "      <td>0</td>\n",
       "      <td>0</td>\n",
       "      <td>2.0</td>\n",
       "      <td>2.0</td>\n",
       "      <td>0.0</td>\n",
       "      <td>0.0</td>\n",
       "      <td>0.0</td>\n",
       "      <td>1.0</td>\n",
       "      <td>1.0</td>\n",
       "      <td>0.0</td>\n",
       "      <td>...</td>\n",
       "      <td>1.0</td>\n",
       "      <td>2.0</td>\n",
       "      <td>1</td>\n",
       "      <td>2</td>\n",
       "      <td>1.0</td>\n",
       "      <td>0.0</td>\n",
       "      <td>NaN</td>\n",
       "      <td>NaN</td>\n",
       "      <td>0.0</td>\n",
       "      <td>1.0</td>\n",
       "    </tr>\n",
       "  </tbody>\n",
       "</table>\n",
       "<p>20 rows × 35 columns</p>\n",
       "</div>"
      ],
      "text/plain": [
       "    h1n1_vaccine  seasonal_vaccine  h1n1_concern  h1n1_knowledge  \\\n",
       "0              0                 0           1.0             0.0   \n",
       "1              0                 1           3.0             2.0   \n",
       "2              0                 0           1.0             1.0   \n",
       "3              0                 1           1.0             1.0   \n",
       "4              0                 0           2.0             1.0   \n",
       "5              0                 0           3.0             1.0   \n",
       "6              0                 0           0.0             0.0   \n",
       "7              1                 1           1.0             0.0   \n",
       "8              0                 0           0.0             2.0   \n",
       "9              0                 0           2.0             1.0   \n",
       "10             1                 1           2.0             1.0   \n",
       "11             1                 1           1.0             2.0   \n",
       "12             0                 1           1.0             1.0   \n",
       "13             0                 0           1.0             1.0   \n",
       "14             0                 0           3.0             1.0   \n",
       "15             0                 0           1.0             1.0   \n",
       "16             1                 1           2.0             1.0   \n",
       "17             0                 0           1.0             1.0   \n",
       "18             0                 0           1.0             2.0   \n",
       "19             0                 0           2.0             2.0   \n",
       "\n",
       "    behavioral_antiviral_meds  behavioral_avoidance  behavioral_face_mask  \\\n",
       "0                         0.0                   0.0                   0.0   \n",
       "1                         0.0                   1.0                   0.0   \n",
       "2                         0.0                   1.0                   0.0   \n",
       "3                         0.0                   1.0                   0.0   \n",
       "4                         0.0                   1.0                   0.0   \n",
       "5                         0.0                   1.0                   0.0   \n",
       "6                         0.0                   0.0                   0.0   \n",
       "7                         0.0                   1.0                   0.0   \n",
       "8                         0.0                   1.0                   0.0   \n",
       "9                         0.0                   1.0                   0.0   \n",
       "10                        0.0                   1.0                   0.0   \n",
       "11                        0.0                   1.0                   0.0   \n",
       "12                        0.0                   1.0                   0.0   \n",
       "13                        0.0                   1.0                   0.0   \n",
       "14                        0.0                   1.0                   0.0   \n",
       "15                        0.0                   1.0                   0.0   \n",
       "16                        0.0                   1.0                   0.0   \n",
       "17                        0.0                   0.0                   0.0   \n",
       "18                        0.0                   1.0                   0.0   \n",
       "19                        0.0                   0.0                   0.0   \n",
       "\n",
       "    behavioral_wash_hands  behavioral_touch_face  chronic_med_condition  ...  \\\n",
       "0                     0.0                    1.0                    0.0  ...   \n",
       "1                     1.0                    1.0                    0.0  ...   \n",
       "2                     0.0                    0.0                    1.0  ...   \n",
       "3                     1.0                    0.0                    1.0  ...   \n",
       "4                     1.0                    1.0                    0.0  ...   \n",
       "5                     1.0                    1.0                    0.0  ...   \n",
       "6                     0.0                    0.0                    0.0  ...   \n",
       "7                     1.0                    1.0                    1.0  ...   \n",
       "8                     1.0                    1.0                    0.0  ...   \n",
       "9                     0.0                    1.0                    1.0  ...   \n",
       "10                    1.0                    0.0                    1.0  ...   \n",
       "11                    1.0                    0.0                    0.0  ...   \n",
       "12                    1.0                    1.0                    0.0  ...   \n",
       "13                    1.0                    1.0                    1.0  ...   \n",
       "14                    1.0                    1.0                    0.0  ...   \n",
       "15                    0.0                    0.0                    0.0  ...   \n",
       "16                    1.0                    1.0                    1.0  ...   \n",
       "17                    1.0                    1.0                    0.0  ...   \n",
       "18                    1.0                    1.0                    0.0  ...   \n",
       "19                    1.0                    1.0                    0.0  ...   \n",
       "\n",
       "    rent_or_own  employment_status  hhs_geo_region  census_msa  \\\n",
       "0           1.0                2.0               5           3   \n",
       "1           2.0                1.0               4           2   \n",
       "2           1.0                1.0               3           2   \n",
       "3           2.0                2.0               9           1   \n",
       "4           1.0                1.0               3           2   \n",
       "5           1.0                1.0               8           1   \n",
       "6           1.0                1.0               3           2   \n",
       "7           1.0                1.0               4           3   \n",
       "8           1.0                1.0               4           2   \n",
       "9           1.0                2.0               3           2   \n",
       "10          2.0                1.0               1           2   \n",
       "11          1.0                1.0               5           3   \n",
       "12          1.0                2.0               1           2   \n",
       "13          1.0                1.0               1           2   \n",
       "14          1.0                2.0               3           2   \n",
       "15          1.0                1.0               1           2   \n",
       "16          NaN                2.0               5           1   \n",
       "17          1.0                1.0               1           2   \n",
       "18          1.0                1.0               5           3   \n",
       "19          1.0                2.0               1           2   \n",
       "\n",
       "    household_adults  household_children  employment_industry  \\\n",
       "0                0.0                 0.0                  NaN   \n",
       "1                0.0                 0.0                  4.0   \n",
       "2                2.0                 0.0                 10.0   \n",
       "3                0.0                 0.0                  NaN   \n",
       "4                1.0                 0.0                  2.0   \n",
       "5                2.0                 3.0                 12.0   \n",
       "6                0.0                 0.0                  7.0   \n",
       "7                2.0                 0.0                  4.0   \n",
       "8                1.0                 0.0                  7.0   \n",
       "9                0.0                 0.0                  NaN   \n",
       "10               2.0                 0.0                  7.0   \n",
       "11               1.0                 2.0                  7.0   \n",
       "12               1.0                 0.0                  NaN   \n",
       "13               1.0                 2.0                  3.0   \n",
       "14               1.0                 0.0                  NaN   \n",
       "15               1.0                 3.0                  2.0   \n",
       "16               0.0                 0.0                  NaN   \n",
       "17               1.0                 0.0                 10.0   \n",
       "18               2.0                 0.0                 16.0   \n",
       "19               1.0                 0.0                  NaN   \n",
       "\n",
       "    employment_occupation  reco_vaccines  behaviour_gather_home  \n",
       "0                     NaN            0.0                    1.0  \n",
       "1                     5.0            0.0                    1.0  \n",
       "2                     1.0            NaN                    0.0  \n",
       "3                     NaN            2.0                    2.0  \n",
       "4                     3.0            0.0                    2.0  \n",
       "5                    13.0            2.0                    0.0  \n",
       "6                     1.0            0.0                    0.0  \n",
       "7                     8.0            1.0                    0.0  \n",
       "8                    15.0            0.0                    3.0  \n",
       "9                     NaN            0.0                    2.0  \n",
       "10                    7.0            0.0                    2.0  \n",
       "11                   15.0            0.0                    0.0  \n",
       "12                    NaN            2.0                    2.0  \n",
       "13                    9.0            0.0                    0.0  \n",
       "14                    NaN            0.0                    1.0  \n",
       "15                    3.0            2.0                    0.0  \n",
       "16                    NaN            3.0                    3.0  \n",
       "17                    1.0            3.0                    2.0  \n",
       "18                    5.0            3.0                    0.0  \n",
       "19                    NaN            0.0                    1.0  \n",
       "\n",
       "[20 rows x 35 columns]"
      ]
     },
     "execution_count": 19,
     "metadata": {},
     "output_type": "execute_result"
    }
   ],
   "source": [
    "df_num.head(20)"
   ]
  },
  {
   "cell_type": "markdown",
   "id": "4fa88fad",
   "metadata": {},
   "source": [
    "### Removal of feature depending on target"
   ]
  },
  {
   "cell_type": "markdown",
   "id": "b001acf5",
   "metadata": {},
   "source": [
    "#### Making dataframe for the H1N1 vacc output (seasonal vacc included in features)"
   ]
  },
  {
   "cell_type": "markdown",
   "id": "b1d96238",
   "metadata": {},
   "source": [
    "Dropping target variable:"
   ]
  },
  {
   "cell_type": "code",
   "execution_count": 20,
   "id": "815c376b",
   "metadata": {},
   "outputs": [],
   "source": [
    "X_h1n1 = df_num.drop(columns=['h1n1_vaccine'])"
   ]
  },
  {
   "cell_type": "markdown",
   "id": "8f432a8c",
   "metadata": {},
   "source": [
    "Filling missing values with dummy values:"
   ]
  },
  {
   "cell_type": "code",
   "execution_count": 21,
   "id": "ceb4d40a",
   "metadata": {},
   "outputs": [],
   "source": [
    "X_h1n1_cols = X_h1n1.columns"
   ]
  },
  {
   "cell_type": "code",
   "execution_count": 22,
   "id": "c4ae726e",
   "metadata": {},
   "outputs": [],
   "source": [
    "imp_const = SimpleImputer(strategy='constant', fill_value=-999)"
   ]
  },
  {
   "cell_type": "code",
   "execution_count": 23,
   "id": "1bbc322f",
   "metadata": {},
   "outputs": [],
   "source": [
    "X_h1n1 = imp_const.fit_transform(X_h1n1)"
   ]
  },
  {
   "cell_type": "code",
   "execution_count": 24,
   "id": "df4c7aa2",
   "metadata": {},
   "outputs": [],
   "source": [
    "X_h1n1 = pd.DataFrame(X_h1n1, columns=X_h1n1_cols)"
   ]
  },
  {
   "cell_type": "markdown",
   "id": "2da26469",
   "metadata": {},
   "source": [
    "Feature engineering:  \n",
    "- apply the following code if H1N1 is the single target variable \n",
    "- we take out the feature that is related to seasonal flu/vaccine"
   ]
  },
  {
   "cell_type": "code",
   "execution_count": 25,
   "id": "03cf4cfc",
   "metadata": {},
   "outputs": [],
   "source": [
    "list_seas = ['opinion_seas_risk', 'opinion_seas_sick_from_vacc']\n",
    "\n",
    "X_h1n1.drop(list_seas, axis=1, inplace=True)"
   ]
  },
  {
   "cell_type": "markdown",
   "id": "a2502324",
   "metadata": {},
   "source": [
    "#### Making dataframe for the seasonal vacc output (H1N1 vacc included in features)"
   ]
  },
  {
   "cell_type": "markdown",
   "id": "987c4016",
   "metadata": {},
   "source": [
    "Dropping target variable:"
   ]
  },
  {
   "cell_type": "code",
   "execution_count": 26,
   "id": "adf5382e",
   "metadata": {},
   "outputs": [],
   "source": [
    "X_seas = df_num.drop(columns=['seasonal_vaccine'])"
   ]
  },
  {
   "cell_type": "markdown",
   "id": "8eef07c7",
   "metadata": {},
   "source": [
    "Filling missing values with dummy values:"
   ]
  },
  {
   "cell_type": "code",
   "execution_count": 27,
   "id": "732f294d",
   "metadata": {},
   "outputs": [],
   "source": [
    "X_seas_cols = X_seas.columns"
   ]
  },
  {
   "cell_type": "code",
   "execution_count": 28,
   "id": "61b17f20",
   "metadata": {},
   "outputs": [],
   "source": [
    "imp_const = SimpleImputer(strategy='constant', fill_value=-999)"
   ]
  },
  {
   "cell_type": "code",
   "execution_count": 29,
   "id": "a951273e",
   "metadata": {},
   "outputs": [],
   "source": [
    "X_seas = imp_const.fit_transform(X_seas)"
   ]
  },
  {
   "cell_type": "code",
   "execution_count": 30,
   "id": "f866bcb4",
   "metadata": {},
   "outputs": [],
   "source": [
    "X_seas = pd.DataFrame(X_seas, columns=X_seas_cols)"
   ]
  },
  {
   "cell_type": "markdown",
   "id": "96155eb0",
   "metadata": {},
   "source": [
    "Feature engineering:\n",
    "- apply the following code if seasonal vaccine is the single target variable \n",
    "- we take out the feature that is related to H1N1 flu/vaccine"
   ]
  },
  {
   "cell_type": "code",
   "execution_count": 31,
   "id": "9d8a87ed",
   "metadata": {},
   "outputs": [],
   "source": [
    "list_h1n1 = ['opinion_h1n1_risk', 'opinion_h1n1_sick_from_vacc']\n",
    "\n",
    "X_seas.drop(list_h1n1, axis=1, inplace=True)"
   ]
  },
  {
   "cell_type": "markdown",
   "id": "56f31f18",
   "metadata": {},
   "source": [
    "# Prediction of H1N1 vaccination (seasonal vaccine in features)"
   ]
  },
  {
   "cell_type": "markdown",
   "id": "66247c2b",
   "metadata": {},
   "source": [
    "Setting up target variable:"
   ]
  },
  {
   "cell_type": "code",
   "execution_count": 32,
   "id": "47e19228",
   "metadata": {},
   "outputs": [
    {
     "data": {
      "text/plain": [
       "0        0\n",
       "1        0\n",
       "2        0\n",
       "3        0\n",
       "4        0\n",
       "        ..\n",
       "26702    0\n",
       "26703    0\n",
       "26704    0\n",
       "26705    0\n",
       "26706    0\n",
       "Name: h1n1_vaccine, Length: 26707, dtype: int64"
      ]
     },
     "execution_count": 32,
     "metadata": {},
     "output_type": "execute_result"
    }
   ],
   "source": [
    "y_h1n1 = df_num['h1n1_vaccine']\n",
    "#y_h1n1 = y_h1n1.to_numpy()\n",
    "y_h1n1"
   ]
  },
  {
   "cell_type": "markdown",
   "id": "4a91de95",
   "metadata": {},
   "source": [
    "Performing the test-train split:"
   ]
  },
  {
   "cell_type": "code",
   "execution_count": 33,
   "id": "0f34cf98",
   "metadata": {},
   "outputs": [],
   "source": [
    "X_h1n1_train, X_h1n1_test, y_h1n1_train, y_h1n1_test = train_test_split(X_h1n1, y_h1n1, stratify = y_h1n1, test_size=0.2, random_state=RSEED)"
   ]
  },
  {
   "cell_type": "code",
   "execution_count": 34,
   "id": "7117fe2c",
   "metadata": {},
   "outputs": [
    {
     "name": "stdout",
     "output_type": "stream",
     "text": [
      "X_h1n1_train shape: (21365, 32)\n",
      "X_h1n1_test shape: (5342, 32)\n",
      "y_h1n1_train: (21365,)\n",
      "y_h1n1_test: (5342,)\n"
     ]
    }
   ],
   "source": [
    "print('X_h1n1_train shape:', X_h1n1_train.shape)\n",
    "print('X_h1n1_test shape:', X_h1n1_test.shape)\n",
    "print('y_h1n1_train:', y_h1n1_train.shape)\n",
    "print('y_h1n1_test:', y_h1n1_test.shape)"
   ]
  },
  {
   "cell_type": "markdown",
   "id": "face632d",
   "metadata": {},
   "source": [
    "## Downsampling (Undersampling of the majority class (h1n1_vaccine == 0))"
   ]
  },
  {
   "cell_type": "markdown",
   "id": "8e60d449",
   "metadata": {},
   "source": [
    "https://towardsdatascience.com/methods-for-dealing-with-imbalanced-data-5b761be45a18"
   ]
  },
  {
   "cell_type": "markdown",
   "id": "18fe980f",
   "metadata": {},
   "source": [
    "**Creating concatenated training dataframe and separating into minority and majority class (for data balancing)**"
   ]
  },
  {
   "cell_type": "code",
   "execution_count": 35,
   "id": "dd459a15",
   "metadata": {},
   "outputs": [],
   "source": [
    "# concatenating our train data back together\n",
    "\n",
    "concat_train_df = pd.concat([X_h1n1_train, y_h1n1_train], axis = 1)\n",
    "\n",
    "# separating into minority and majority classes\n",
    "\n",
    "# majority class\n",
    "no_h1n1_vacc = concat_train_df[concat_train_df.h1n1_vaccine==0]\n",
    "\n",
    "# minority class\n",
    "yes_h1n1_vacc = concat_train_df[concat_train_df.h1n1_vaccine==1]"
   ]
  },
  {
   "cell_type": "markdown",
   "id": "9462a92f",
   "metadata": {},
   "source": [
    "**Undersampling of majority class (downsampling)**"
   ]
  },
  {
   "cell_type": "code",
   "execution_count": 36,
   "id": "bd1f755d",
   "metadata": {},
   "outputs": [],
   "source": [
    "# downsample minority class\n",
    "no_h1n1_vacc_downsampled = resample(no_h1n1_vacc,\n",
    "                                   replace = False,\n",
    "                                   n_samples = len(yes_h1n1_vacc),\n",
    "                                   random_state = RSEED)"
   ]
  },
  {
   "cell_type": "code",
   "execution_count": 37,
   "id": "2a08ecba",
   "metadata": {},
   "outputs": [],
   "source": [
    "# combine minority and downsampled majority\n",
    "\n",
    "downsampled = pd.concat([no_h1n1_vacc_downsampled, yes_h1n1_vacc])"
   ]
  },
  {
   "cell_type": "code",
   "execution_count": 38,
   "id": "a8449cf1",
   "metadata": {},
   "outputs": [
    {
     "data": {
      "text/plain": [
       "0    4539\n",
       "1    4539\n",
       "Name: h1n1_vaccine, dtype: int64"
      ]
     },
     "execution_count": 38,
     "metadata": {},
     "output_type": "execute_result"
    }
   ],
   "source": [
    "# checking new class counts\n",
    "downsampled.h1n1_vaccine.value_counts()"
   ]
  },
  {
   "cell_type": "code",
   "execution_count": 39,
   "id": "030213c1",
   "metadata": {},
   "outputs": [],
   "source": [
    "# relabelling the downsampled data as train dataset\n",
    "\n",
    "y_h1n1_downsamp_train = downsampled[['h1n1_vaccine']]\n",
    "\n",
    "X_downsamp_train =downsampled.drop(['h1n1_vaccine'], axis = 1)"
   ]
  },
  {
   "cell_type": "markdown",
   "id": "10a7385a",
   "metadata": {},
   "source": [
    "Making the predictor varaible into a flattened array:"
   ]
  },
  {
   "cell_type": "code",
   "execution_count": 40,
   "id": "8b9f1520",
   "metadata": {},
   "outputs": [],
   "source": [
    "y_h1n1_downsamp_train = y_h1n1_downsamp_train.to_numpy()\n",
    "y_h1n1_downsamp_train = y_h1n1_downsamp_train.ravel()"
   ]
  },
  {
   "cell_type": "code",
   "execution_count": 41,
   "id": "7343a281",
   "metadata": {},
   "outputs": [
    {
     "data": {
      "text/plain": [
       "array([0, 0, 0, ..., 1, 1, 1])"
      ]
     },
     "execution_count": 41,
     "metadata": {},
     "output_type": "execute_result"
    }
   ],
   "source": [
    "y_h1n1_downsamp_train"
   ]
  },
  {
   "cell_type": "code",
   "execution_count": 42,
   "id": "27947ec7",
   "metadata": {},
   "outputs": [],
   "source": [
    "y_h1n1_test = y_h1n1_test.to_numpy()"
   ]
  },
  {
   "cell_type": "code",
   "execution_count": 43,
   "id": "663a765d",
   "metadata": {},
   "outputs": [
    {
     "data": {
      "text/plain": [
       "array([1, 1, 0, ..., 1, 0, 0])"
      ]
     },
     "execution_count": 43,
     "metadata": {},
     "output_type": "execute_result"
    }
   ],
   "source": [
    "y_h1n1_test"
   ]
  },
  {
   "cell_type": "markdown",
   "id": "152d710f",
   "metadata": {},
   "source": [
    "## Modelling and prediction (RFC only)"
   ]
  },
  {
   "cell_type": "markdown",
   "id": "bf878e99",
   "metadata": {},
   "source": [
    "Instantiate the model:"
   ]
  },
  {
   "cell_type": "code",
   "execution_count": 44,
   "id": "c01bac9a",
   "metadata": {},
   "outputs": [],
   "source": [
    "rand_forst= RandomForestClassifier()"
   ]
  },
  {
   "cell_type": "markdown",
   "id": "7bf39165",
   "metadata": {},
   "source": [
    "Fitting the model:"
   ]
  },
  {
   "cell_type": "code",
   "execution_count": 45,
   "id": "40d57444",
   "metadata": {},
   "outputs": [],
   "source": [
    "h1n1_rand_forst_model = rand_forst.fit(X_downsamp_train, y_h1n1_downsamp_train)"
   ]
  },
  {
   "cell_type": "markdown",
   "id": "15c1b4f5",
   "metadata": {},
   "source": [
    "Making predictions:"
   ]
  },
  {
   "cell_type": "code",
   "execution_count": 46,
   "id": "b707e94b",
   "metadata": {},
   "outputs": [],
   "source": [
    "rand_forst_trainpreds = h1n1_rand_forst_model.predict(X_h1n1_train)\n",
    "rand_forst_testpreds = h1n1_rand_forst_model.predict(X_h1n1_test)"
   ]
  },
  {
   "cell_type": "markdown",
   "id": "6aab63b6",
   "metadata": {},
   "source": [
    "## Model evaluation (RFC only)"
   ]
  },
  {
   "cell_type": "markdown",
   "id": "2a8bdd6e",
   "metadata": {},
   "source": [
    "Train data"
   ]
  },
  {
   "cell_type": "code",
   "execution_count": 47,
   "id": "09b862e2",
   "metadata": {},
   "outputs": [
    {
     "name": "stdout",
     "output_type": "stream",
     "text": [
      "Accuracy: 0.90\n",
      "Recall: 1.00\n",
      "Precision: 0.67\n",
      "F1: 0.81\n",
      "ROC: 0.93\n"
     ]
    }
   ],
   "source": [
    "# Random Forest--Train data evaluation Metrics\n",
    "#check if these metrics are changing compared to previous results\n",
    "h1n1_rand_forst_train_acc = accuracy_score(y_h1n1_train, rand_forst_trainpreds)\n",
    "h1n1_rand_forst_train_recall = recall_score(y_h1n1_train, rand_forst_trainpreds)\n",
    "h1n1_rand_forst_train_precision = precision_score(y_h1n1_train, rand_forst_trainpreds)\n",
    "h1n1_rand_forst_train_f1 = f1_score(y_h1n1_train, rand_forst_trainpreds)\n",
    "h1n1_rand_forst_train_roc = roc_auc_score(y_h1n1_train, rand_forst_trainpreds)\n",
    "\n",
    "print(\"Accuracy: {:.2f}\".format(h1n1_rand_forst_train_acc))\n",
    "print(\"Recall: {:.2f}\".format(h1n1_rand_forst_train_recall))\n",
    "print(\"Precision: {:.2f}\".format(h1n1_rand_forst_train_precision))\n",
    "print(\"F1: {:.2f}\".format(h1n1_rand_forst_train_f1))\n",
    "print(\"ROC: {:.2f}\".format(h1n1_rand_forst_train_roc))"
   ]
  },
  {
   "cell_type": "markdown",
   "id": "a158eadb",
   "metadata": {},
   "source": [
    "Test data"
   ]
  },
  {
   "cell_type": "code",
   "execution_count": 48,
   "id": "d2383381",
   "metadata": {},
   "outputs": [
    {
     "name": "stdout",
     "output_type": "stream",
     "text": [
      "Accuracy: 0.81\n",
      "Recall: 0.79\n",
      "Precision: 0.53\n",
      "F1: 0.63\n",
      "ROC: 0.80\n"
     ]
    }
   ],
   "source": [
    "# Random Forest--Test data evaluation Metrics\n",
    "#check if these metrics are changing compared to previous results\n",
    "h1n1_rand_forst_test_acc = accuracy_score(y_h1n1_test, rand_forst_testpreds)\n",
    "h1n1_rand_forst_test_recall = recall_score(y_h1n1_test, rand_forst_testpreds)\n",
    "h1n1_rand_forst_test_precision = precision_score(y_h1n1_test, rand_forst_testpreds)\n",
    "h1n1_rand_forst_test_f1 = f1_score(y_h1n1_test, rand_forst_testpreds)\n",
    "h1n1_rand_forst_test_roc = roc_auc_score(y_h1n1_test, rand_forst_testpreds)\n",
    "\n",
    "print(\"Accuracy: {:.2f}\".format(h1n1_rand_forst_test_acc))\n",
    "print(\"Recall: {:.2f}\".format(h1n1_rand_forst_test_recall))\n",
    "print(\"Precision: {:.2f}\".format(h1n1_rand_forst_test_precision))\n",
    "print(\"F1: {:.2f}\".format(h1n1_rand_forst_test_f1))\n",
    "print(\"ROC: {:.2f}\".format(h1n1_rand_forst_test_roc))"
   ]
  },
  {
   "cell_type": "markdown",
   "id": "606f5db8",
   "metadata": {},
   "source": [
    "## Error evaluation of model"
   ]
  },
  {
   "cell_type": "markdown",
   "id": "7249be4c",
   "metadata": {},
   "source": [
    "**Confusion matrix**"
   ]
  },
  {
   "cell_type": "code",
   "execution_count": 49,
   "id": "322ae548",
   "metadata": {},
   "outputs": [
    {
     "data": {
      "image/png": "[encoded data removed]",
      "text/plain": [
       "<Figure size 432x288 with 2 Axes>"
      ]
     },
     "metadata": {
      "needs_background": "light"
     },
     "output_type": "display_data"
    }
   ],
   "source": [
    "cm = confusion_matrix(y_h1n1_test, rand_forst_testpreds)\n",
    "sns.heatmap(cm, cmap='Blues', annot=True, fmt='d', linewidths=.5, annot_kws={\"size\":25})\n",
    "plt.title(\"H1N1 flu vaccination prediction\", fontsize=20, y=1.1)\n",
    "plt.ylabel('Actual vaccination status', fontsize=16)\n",
    "plt.xlabel('Predicted vaccination status', fontsize=16)\n",
    "labels = ['Not vaccinated', 'Vaccinated']\n",
    "ax = plt.gca()\n",
    "ax.set_xticklabels(labels, fontsize=14)\n",
    "ax.set_yticklabels(labels, va=\"center\", fontsize=14)\n",
    "ax.yaxis.labelpad = 15\n",
    "ax.xaxis.labelpad = 15"
   ]
  },
  {
   "cell_type": "markdown",
   "id": "c74a6267",
   "metadata": {},
   "source": [
    "**ROC curve**"
   ]
  },
  {
   "cell_type": "code",
   "execution_count": 50,
   "id": "87e21c55",
   "metadata": {},
   "outputs": [
    {
     "data": {
      "image/png": "[encoded data removed]",
      "text/plain": [
       "<Figure size 432x288 with 1 Axes>"
      ]
     },
     "metadata": {
      "needs_background": "light"
     },
     "output_type": "display_data"
    },
    {
     "name": "stdout",
     "output_type": "stream",
     "text": [
      "AUC Random Forest:0.799\n"
     ]
    }
   ],
   "source": [
    "fpr_rand_forst, tpr_rand_forst, thresholds_rand_forst = metrics.roc_curve(y_h1n1_test, rand_forst_testpreds)\n",
    "\n",
    "plt.plot(fpr_rand_forst, tpr_rand_forst,'r-',label = 'Random Forest')\n",
    "plt.plot([0,1],[0,1],'k-',label='random')\n",
    "plt.plot([0,0,1,1],[0,1,1,1],'g-',label='perfect')\n",
    "plt.legend()\n",
    "plt.xlabel('False Positive Rate')\n",
    "plt.ylabel('True Positive Rate')\n",
    "plt.show()\n",
    "\n",
    "auc_rand_forst = roc_auc_score(y_h1n1_test, rand_forst_testpreds)\n",
    "print('AUC Random Forest:%.3f'% auc_rand_forst)"
   ]
  },
  {
   "cell_type": "markdown",
   "id": "58919809",
   "metadata": {},
   "source": [
    "## Setting up the Grid Search for hyperparameter tuning"
   ]
  },
  {
   "cell_type": "code",
   "execution_count": 63,
   "id": "6f845e24",
   "metadata": {},
   "outputs": [
    {
     "data": {
      "text/plain": [
       "{'bootstrap': True,\n",
       " 'ccp_alpha': 0.0,\n",
       " 'class_weight': None,\n",
       " 'criterion': 'gini',\n",
       " 'max_depth': None,\n",
       " 'max_features': 'auto',\n",
       " 'max_leaf_nodes': None,\n",
       " 'max_samples': None,\n",
       " 'min_impurity_decrease': 0.0,\n",
       " 'min_impurity_split': None,\n",
       " 'min_samples_leaf': 1,\n",
       " 'min_samples_split': 2,\n",
       " 'min_weight_fraction_leaf': 0.0,\n",
       " 'n_estimators': 100,\n",
       " 'n_jobs': None,\n",
       " 'oob_score': False,\n",
       " 'random_state': None,\n",
       " 'verbose': 0,\n",
       " 'warm_start': False}"
      ]
     },
     "execution_count": 63,
     "metadata": {},
     "output_type": "execute_result"
    }
   ],
   "source": [
    "h1n1_rand_forst_model.get_params()"
   ]
  },
  {
   "cell_type": "code",
   "execution_count": 67,
   "id": "da1e6c4f",
   "metadata": {},
   "outputs": [
    {
     "data": {
      "text/plain": [
       "dict_keys(['bootstrap', 'ccp_alpha', 'class_weight', 'criterion', 'max_depth', 'max_features', 'max_leaf_nodes', 'max_samples', 'min_impurity_decrease', 'min_impurity_split', 'min_samples_leaf', 'min_samples_split', 'min_weight_fraction_leaf', 'n_estimators', 'n_jobs', 'oob_score', 'random_state', 'verbose', 'warm_start'])"
      ]
     },
     "execution_count": 67,
     "metadata": {},
     "output_type": "execute_result"
    }
   ],
   "source": [
    "h1n1_rand_forst_model.get_params().keys()"
   ]
  },
  {
   "cell_type": "code",
   "execution_count": 68,
   "id": "ab62646a",
   "metadata": {},
   "outputs": [],
   "source": [
    "# will need to be adjusted in further runs \n",
    "# the pipeline step is accessed with 'estimators__estimator__'\n",
    "\n",
    "param_grid_unilabel = {\n",
    "    'n_estimators': np.linspace(10, 100, 200).astype(int),\n",
    "    'max_depth': [None] + list(np.linspace(3, 20).astype(int)),\n",
    "    'max_features': ['auto', 'sqrt', None] + list(np.arange(0.5, 1, 0.1)),\n",
    "    'max_leaf_nodes': [None] + list(np.linspace(10, 50, 500).astype(int)),\n",
    "    #'estimators__estimator__min_samples_split': [2, 5, 10],\n",
    "    'bootstrap': [True, False]\n",
    "}"
   ]
  },
  {
   "cell_type": "code",
   "execution_count": 69,
   "id": "959957a6",
   "metadata": {},
   "outputs": [],
   "source": [
    "# the random search model is created \n",
    "# we define roc_auc as our evaluation metric for the parameter search \n",
    "# set verbose to a higher number next time \n",
    "\n",
    "grid_rand_forst_unilabel = RandomizedSearchCV(h1n1_rand_forst_model, param_distributions=param_grid_unilabel, cv=5, scoring='roc_auc', verbose=50, n_jobs=-1, n_iter=100)"
   ]
  },
  {
   "cell_type": "markdown",
   "id": "0c57146b",
   "metadata": {},
   "source": [
    "## Fitting the grid search to our model"
   ]
  },
  {
   "cell_type": "code",
   "execution_count": 70,
   "id": "6bcec593",
   "metadata": {},
   "outputs": [
    {
     "name": "stdout",
     "output_type": "stream",
     "text": [
      "Fitting 5 folds for each of 100 candidates, totalling 500 fits\n",
      "[CV 5/5; 1/100] START bootstrap=False, max_depth=17, max_features=auto, max_leaf_nodes=32, n_estimators=22\n",
      "[CV 5/5; 1/100] END bootstrap=False, max_depth=17, max_features=auto, max_leaf_nodes=32, n_estimators=22;, score=0.872 total time=   0.2s\n",
      "[CV 2/5; 3/100] START bootstrap=False, max_depth=17, max_features=None, max_leaf_nodes=15, n_estimators=78\n",
      "[CV 2/5; 3/100] END bootstrap=False, max_depth=17, max_features=None, max_leaf_nodes=15, n_estimators=78;, score=0.871 total time=   2.2s\n",
      "[CV 2/5; 6/100] START bootstrap=False, max_depth=13, max_features=0.7, max_leaf_nodes=28, n_estimators=58\n",
      "[CV 2/5; 6/100] END bootstrap=False, max_depth=13, max_features=0.7, max_leaf_nodes=28, n_estimators=58;, score=0.889 total time=   1.6s\n",
      "[CV 5/5; 7/100] START bootstrap=True, max_depth=4, max_features=0.5, max_leaf_nodes=25, n_estimators=97\n",
      "[CV 5/5; 7/100] END bootstrap=True, max_depth=4, max_features=0.5, max_leaf_nodes=25, n_estimators=97;, score=0.877 total time=   1.5s\n",
      "[CV 3/5; 10/100] START bootstrap=True, max_depth=13, max_features=sqrt, max_leaf_nodes=18, n_estimators=76\n",
      "[CV 3/5; 10/100] END bootstrap=True, max_depth=13, max_features=sqrt, max_leaf_nodes=18, n_estimators=76;, score=0.878 total time=   0.7s\n",
      "[CV 1/5; 12/100] START bootstrap=False, max_depth=7, max_features=0.7999999999999999, max_leaf_nodes=24, n_estimators=87\n",
      "[CV 1/5; 12/100] END bootstrap=False, max_depth=7, max_features=0.7999999999999999, max_leaf_nodes=24, n_estimators=87;, score=0.878 total time=   2.4s\n",
      "[CV 4/5; 13/100] START bootstrap=False, max_depth=9, max_features=None, max_leaf_nodes=17, n_estimators=56\n",
      "[CV 4/5; 13/100] END bootstrap=False, max_depth=9, max_features=None, max_leaf_nodes=17, n_estimators=56;, score=0.878 total time=   1.6s\n",
      "[CV 3/5; 15/100] START bootstrap=False, max_depth=5, max_features=None, max_leaf_nodes=26, n_estimators=18\n",
      "[CV 3/5; 15/100] END bootstrap=False, max_depth=5, max_features=None, max_leaf_nodes=26, n_estimators=18;, score=0.865 total time=   0.5s\n",
      "[CV 2/5; 16/100] START bootstrap=False, max_depth=8, max_features=0.5, max_leaf_nodes=28, n_estimators=34\n",
      "[CV 2/5; 16/100] END bootstrap=False, max_depth=8, max_features=0.5, max_leaf_nodes=28, n_estimators=34;, score=0.890 total time=   0.6s\n",
      "[CV 1/5; 18/100] START bootstrap=True, max_depth=12, max_features=0.6, max_leaf_nodes=18, n_estimators=65\n",
      "[CV 1/5; 18/100] END bootstrap=True, max_depth=12, max_features=0.6, max_leaf_nodes=18, n_estimators=65;, score=0.879 total time=   1.0s\n",
      "[CV 4/5; 19/100] START bootstrap=False, max_depth=7, max_features=None, max_leaf_nodes=29, n_estimators=64\n",
      "[CV 4/5; 19/100] END bootstrap=False, max_depth=7, max_features=None, max_leaf_nodes=29, n_estimators=64;, score=0.885 total time=   2.0s\n",
      "[CV 5/5; 21/100] START bootstrap=True, max_depth=14, max_features=0.7999999999999999, max_leaf_nodes=17, n_estimators=42\n",
      "[CV 5/5; 21/100] END bootstrap=True, max_depth=14, max_features=0.7999999999999999, max_leaf_nodes=17, n_estimators=42;, score=0.879 total time=   0.8s\n",
      "[CV 5/5; 23/100] START bootstrap=False, max_depth=3, max_features=0.8999999999999999, max_leaf_nodes=47, n_estimators=76\n",
      "[CV 5/5; 23/100] END bootstrap=False, max_depth=3, max_features=0.8999999999999999, max_leaf_nodes=47, n_estimators=76;, score=0.862 total time=   1.3s\n",
      "[CV 3/5; 26/100] START bootstrap=True, max_depth=13, max_features=0.7, max_leaf_nodes=12, n_estimators=82\n",
      "[CV 3/5; 26/100] END bootstrap=True, max_depth=13, max_features=0.7, max_leaf_nodes=12, n_estimators=82;, score=0.877 total time=   1.3s\n",
      "[CV 1/5; 28/100] START bootstrap=False, max_depth=12, max_features=0.8999999999999999, max_leaf_nodes=18, n_estimators=97\n",
      "[CV 1/5; 28/100] END bootstrap=False, max_depth=12, max_features=0.8999999999999999, max_leaf_nodes=18, n_estimators=97;, score=0.871 total time=   2.5s\n",
      "[CV 2/5; 30/100] START bootstrap=False, max_depth=5, max_features=0.6, max_leaf_nodes=30, n_estimators=88\n",
      "[CV 2/5; 30/100] END bootstrap=False, max_depth=5, max_features=0.6, max_leaf_nodes=30, n_estimators=88;, score=0.889 total time=   1.6s\n",
      "[CV 5/5; 31/100] START bootstrap=False, max_depth=12, max_features=None, max_leaf_nodes=41, n_estimators=60\n",
      "[CV 5/5; 31/100] END bootstrap=False, max_depth=12, max_features=None, max_leaf_nodes=41, n_estimators=60;, score=0.876 total time=   2.0s\n",
      "[CV 5/5; 33/100] START bootstrap=True, max_depth=7, max_features=0.6, max_leaf_nodes=37, n_estimators=24\n",
      "[CV 5/5; 33/100] END bootstrap=True, max_depth=7, max_features=0.6, max_leaf_nodes=37, n_estimators=24;, score=0.883 total time=   0.4s\n",
      "[CV 5/5; 34/100] START bootstrap=True, max_depth=3, max_features=None, max_leaf_nodes=24, n_estimators=17\n",
      "[CV 5/5; 34/100] END bootstrap=True, max_depth=3, max_features=None, max_leaf_nodes=24, n_estimators=17;, score=0.859 total time=   0.3s\n",
      "[CV 5/5; 35/100] START bootstrap=False, max_depth=17, max_features=sqrt, max_leaf_nodes=32, n_estimators=76\n",
      "[CV 5/5; 35/100] END bootstrap=False, max_depth=17, max_features=sqrt, max_leaf_nodes=32, n_estimators=76;, score=0.874 total time=   0.7s\n",
      "[CV 3/5; 37/100] START bootstrap=False, max_depth=18, max_features=0.7, max_leaf_nodes=44, n_estimators=99\n",
      "[CV 3/5; 37/100] END bootstrap=False, max_depth=18, max_features=0.7, max_leaf_nodes=44, n_estimators=99;, score=0.885 total time=   2.6s\n",
      "[CV 2/5; 39/100] START bootstrap=True, max_depth=15, max_features=0.5, max_leaf_nodes=14, n_estimators=52\n",
      "[CV 2/5; 39/100] END bootstrap=True, max_depth=15, max_features=0.5, max_leaf_nodes=14, n_estimators=52;, score=0.885 total time=   0.8s\n",
      "[CV 3/5; 40/100] START bootstrap=False, max_depth=4, max_features=None, max_leaf_nodes=20, n_estimators=37\n",
      "[CV 3/5; 40/100] END bootstrap=False, max_depth=4, max_features=None, max_leaf_nodes=20, n_estimators=37;, score=0.857 total time=   1.1s\n",
      "[CV 5/5; 41/100] START bootstrap=True, max_depth=18, max_features=auto, max_leaf_nodes=11, n_estimators=69\n",
      "[CV 5/5; 41/100] END bootstrap=True, max_depth=18, max_features=auto, max_leaf_nodes=11, n_estimators=69;, score=0.865 total time=   0.5s\n",
      "[CV 3/5; 43/100] START bootstrap=False, max_depth=6, max_features=0.7, max_leaf_nodes=28, n_estimators=95\n",
      "[CV 3/5; 43/100] END bootstrap=False, max_depth=6, max_features=0.7, max_leaf_nodes=28, n_estimators=95;, score=0.882 total time=   2.1s\n",
      "[CV 5/5; 46/100] START bootstrap=False, max_depth=10, max_features=sqrt, max_leaf_nodes=40, n_estimators=73\n",
      "[CV 5/5; 46/100] END bootstrap=False, max_depth=10, max_features=sqrt, max_leaf_nodes=40, n_estimators=73;, score=0.876 total time=   0.7s\n",
      "[CV 3/5; 48/100] START bootstrap=True, max_depth=7, max_features=0.5, max_leaf_nodes=37, n_estimators=25\n",
      "[CV 3/5; 48/100] END bootstrap=True, max_depth=7, max_features=0.5, max_leaf_nodes=37, n_estimators=25;, score=0.887 total time=   0.4s\n",
      "[CV 3/5; 49/100] START bootstrap=False, max_depth=6, max_features=sqrt, max_leaf_nodes=15, n_estimators=92\n",
      "[CV 3/5; 49/100] END bootstrap=False, max_depth=6, max_features=sqrt, max_leaf_nodes=15, n_estimators=92;, score=0.878 total time=   0.7s\n",
      "[CV 1/5; 51/100] START bootstrap=False, max_depth=16, max_features=0.7999999999999999, max_leaf_nodes=35, n_estimators=11\n",
      "[CV 1/5; 51/100] END bootstrap=False, max_depth=16, max_features=0.7999999999999999, max_leaf_nodes=35, n_estimators=11;, score=0.877 total time=   0.3s\n",
      "[CV 4/5; 51/100] START bootstrap=False, max_depth=16, max_features=0.7999999999999999, max_leaf_nodes=35, n_estimators=11\n",
      "[CV 4/5; 51/100] END bootstrap=False, max_depth=16, max_features=0.7999999999999999, max_leaf_nodes=35, n_estimators=11;, score=0.893 total time=   0.3s\n",
      "[CV 2/5; 52/100] START bootstrap=True, max_depth=5, max_features=0.6, max_leaf_nodes=36, n_estimators=76\n",
      "[CV 2/5; 52/100] END bootstrap=True, max_depth=5, max_features=0.6, max_leaf_nodes=36, n_estimators=76;, score=0.890 total time=   1.4s\n",
      "[CV 5/5; 53/100] START bootstrap=False, max_depth=12, max_features=0.8999999999999999, max_leaf_nodes=20, n_estimators=75\n",
      "[CV 5/5; 53/100] END bootstrap=False, max_depth=12, max_features=0.8999999999999999, max_leaf_nodes=20, n_estimators=75;, score=0.878 total time=   2.2s\n",
      "[CV 4/5; 55/100] START bootstrap=False, max_depth=12, max_features=auto, max_leaf_nodes=11, n_estimators=68\n",
      "[CV 4/5; 55/100] END bootstrap=False, max_depth=12, max_features=auto, max_leaf_nodes=11, n_estimators=68;, score=0.877 total time=   0.7s[CV 1/5; 2/100] START bootstrap=True, max_depth=18, max_features=0.6, max_leaf_nodes=48, n_estimators=17\n",
      "[CV 1/5; 2/100] END bootstrap=True, max_depth=18, max_features=0.6, max_leaf_nodes=48, n_estimators=17;, score=0.884 total time=   0.3s\n",
      "[CV 4/5; 3/100] START bootstrap=False, max_depth=17, max_features=None, max_leaf_nodes=15, n_estimators=78\n",
      "[CV 4/5; 3/100] END bootstrap=False, max_depth=17, max_features=None, max_leaf_nodes=15, n_estimators=78;, score=0.876 total time=   2.2s\n",
      "[CV 4/5; 6/100] START bootstrap=False, max_depth=13, max_features=0.7, max_leaf_nodes=28, n_estimators=58\n",
      "[CV 4/5; 6/100] END bootstrap=False, max_depth=13, max_features=0.7, max_leaf_nodes=28, n_estimators=58;, score=0.893 total time=   1.6s\n",
      "[CV 3/5; 8/100] START bootstrap=False, max_depth=15, max_features=auto, max_leaf_nodes=10, n_estimators=82\n",
      "[CV 3/5; 8/100] END bootstrap=False, max_depth=15, max_features=auto, max_leaf_nodes=10, n_estimators=82;, score=0.875 total time=   0.7s\n",
      "[CV 4/5; 9/100] START bootstrap=True, max_depth=7, max_features=0.6, max_leaf_nodes=28, n_estimators=57\n",
      "[CV 4/5; 9/100] END bootstrap=True, max_depth=7, max_features=0.6, max_leaf_nodes=28, n_estimators=57;, score=0.895 total time=   1.2s\n",
      "[CV 4/5; 11/100] START bootstrap=False, max_depth=16, max_features=0.6, max_leaf_nodes=27, n_estimators=56\n",
      "[CV 4/5; 11/100] END bootstrap=False, max_depth=16, max_features=0.6, max_leaf_nodes=27, n_estimators=56;, score=0.894 total time=   1.3s\n",
      "[CV 3/5; 13/100] START bootstrap=False, max_depth=9, max_features=None, max_leaf_nodes=17, n_estimators=56\n",
      "[CV 3/5; 13/100] END bootstrap=False, max_depth=9, max_features=None, max_leaf_nodes=17, n_estimators=56;, score=0.863 total time=   1.7s\n",
      "[CV 4/5; 14/100] START bootstrap=True, max_depth=18, max_features=0.7999999999999999, max_leaf_nodes=35, n_estimators=82\n",
      "[CV 4/5; 14/100] END bootstrap=True, max_depth=18, max_features=0.7999999999999999, max_leaf_nodes=35, n_estimators=82;, score=0.895 total time=   1.6s\n",
      "[CV 3/5; 16/100] START bootstrap=False, max_depth=8, max_features=0.5, max_leaf_nodes=28, n_estimators=34\n",
      "[CV 3/5; 16/100] END bootstrap=False, max_depth=8, max_features=0.5, max_leaf_nodes=28, n_estimators=34;, score=0.885 total time=   0.6s\n",
      "[CV 5/5; 17/100] START bootstrap=False, max_depth=3, max_features=auto, max_leaf_nodes=46, n_estimators=88\n",
      "[CV 5/5; 17/100] END bootstrap=False, max_depth=3, max_features=auto, max_leaf_nodes=46, n_estimators=88;, score=0.862 total time=   0.5s\n",
      "[CV 3/5; 19/100] START bootstrap=False, max_depth=7, max_features=None, max_leaf_nodes=29, n_estimators=64\n",
      "[CV 3/5; 19/100] END bootstrap=False, max_depth=7, max_features=None, max_leaf_nodes=29, n_estimators=64;, score=0.872 total time=   2.0s\n",
      "[CV 3/5; 21/100] START bootstrap=True, max_depth=14, max_features=0.7999999999999999, max_leaf_nodes=17, n_estimators=42\n",
      "[CV 3/5; 21/100] END bootstrap=True, max_depth=14, max_features=0.7999999999999999, max_leaf_nodes=17, n_estimators=42;, score=0.882 total time=   0.8s\n",
      "[CV 4/5; 22/100] START bootstrap=True, max_depth=16, max_features=0.6, max_leaf_nodes=48, n_estimators=28\n",
      "[CV 4/5; 22/100] END bootstrap=True, max_depth=16, max_features=0.6, max_leaf_nodes=48, n_estimators=28;, score=0.896 total time=   0.5s\n",
      "[CV 1/5; 24/100] START bootstrap=True, max_depth=17, max_features=sqrt, max_leaf_nodes=40, n_estimators=37\n",
      "[CV 1/5; 24/100] END bootstrap=True, max_depth=17, max_features=sqrt, max_leaf_nodes=40, n_estimators=37;, score=0.875 total time=   0.4s\n",
      "[CV 5/5; 24/100] START bootstrap=True, max_depth=17, max_features=sqrt, max_leaf_nodes=40, n_estimators=37\n",
      "[CV 5/5; 24/100] END bootstrap=True, max_depth=17, max_features=sqrt, max_leaf_nodes=40, n_estimators=37;, score=0.877 total time=   0.3s\n",
      "[CV 2/5; 25/100] START bootstrap=True, max_depth=16, max_features=0.8999999999999999, max_leaf_nodes=44, n_estimators=51\n",
      "[CV 2/5; 25/100] END bootstrap=True, max_depth=16, max_features=0.8999999999999999, max_leaf_nodes=44, n_estimators=51;, score=0.892 total time=   1.2s\n",
      "[CV 5/5; 26/100] START bootstrap=True, max_depth=13, max_features=0.7, max_leaf_nodes=12, n_estimators=82\n",
      "[CV 5/5; 26/100] END bootstrap=True, max_depth=13, max_features=0.7, max_leaf_nodes=12, n_estimators=82;, score=0.875 total time=   1.3s\n",
      "[CV 2/5; 29/100] START bootstrap=False, max_depth=13, max_features=0.6, max_leaf_nodes=45, n_estimators=52\n",
      "[CV 2/5; 29/100] END bootstrap=False, max_depth=13, max_features=0.6, max_leaf_nodes=45, n_estimators=52;, score=0.892 total time=   1.2s\n",
      "[CV 5/5; 29/100] START bootstrap=False, max_depth=13, max_features=0.6, max_leaf_nodes=45, n_estimators=52\n",
      "[CV 5/5; 29/100] END bootstrap=False, max_depth=13, max_features=0.6, max_leaf_nodes=45, n_estimators=52;, score=0.886 total time=   1.2s\n",
      "[CV 1/5; 31/100] START bootstrap=False, max_depth=12, max_features=None, max_leaf_nodes=41, n_estimators=60\n",
      "[CV 1/5; 31/100] END bootstrap=False, max_depth=12, max_features=None, max_leaf_nodes=41, n_estimators=60;, score=0.870 total time=   2.0s\n",
      "[CV 4/5; 32/100] START bootstrap=True, max_depth=7, max_features=0.7, max_leaf_nodes=40, n_estimators=95\n",
      "[CV 4/5; 32/100] END bootstrap=True, max_depth=7, max_features=0.7, max_leaf_nodes=40, n_estimators=95;, score=0.895 total time=   1.8s\n",
      "[CV 2/5; 36/100] START bootstrap=False, max_depth=12, max_features=0.8999999999999999, max_leaf_nodes=45, n_estimators=31\n",
      "[CV 2/5; 36/100] END bootstrap=False, max_depth=12, max_features=0.8999999999999999, max_leaf_nodes=45, n_estimators=31;, score=0.887 total time=   1.0s\n",
      "[CV 5/5; 37/100] START bootstrap=False, max_depth=18, max_features=0.7, max_leaf_nodes=44, n_estimators=99\n",
      "[CV 5/5; 37/100] END bootstrap=False, max_depth=18, max_features=0.7, max_leaf_nodes=44, n_estimators=99;, score=0.884 total time=   2.6s\n",
      "[CV 1/5; 40/100] START bootstrap=False, max_depth=4, max_features=None, max_leaf_nodes=20, n_estimators=37\n",
      "[CV 1/5; 40/100] END bootstrap=False, max_depth=4, max_features=None, max_leaf_nodes=20, n_estimators=37;, score=0.856 total time=   1.1s\n",
      "[CV 2/5; 41/100] START bootstrap=True, max_depth=18, max_features=auto, max_leaf_nodes=11, n_estimators=69\n",
      "[CV 2/5; 41/100] END bootstrap=True, max_depth=18, max_features=auto, max_leaf_nodes=11, n_estimators=69;, score=0.879 total time=   0.5s\n",
      "[CV 5/5; 42/100] START bootstrap=True, max_depth=5, max_features=0.5, max_leaf_nodes=19, n_estimators=31\n",
      "[CV 5/5; 42/100] END bootstrap=True, max_depth=5, max_features=0.5, max_leaf_nodes=19, n_estimators=31;, score=0.878 total time=   0.4s\n",
      "[CV 3/5; 44/100] START bootstrap=True, max_depth=18, max_features=0.7, max_leaf_nodes=46, n_estimators=26\n",
      "[CV 3/5; 44/100] END bootstrap=True, max_depth=18, max_features=0.7, max_leaf_nodes=46, n_estimators=26;, score=0.887 total time=   0.5s\n",
      "[CV 1/5; 45/100] START bootstrap=True, max_depth=18, max_features=0.7, max_leaf_nodes=45, n_estimators=32\n",
      "[CV 1/5; 45/100] END bootstrap=True, max_depth=18, max_features=0.7, max_leaf_nodes=45, n_estimators=32;, score=0.882 total time=   0.7s\n",
      "[CV 4/5; 45/100] START bootstrap=True, max_depth=18, max_features=0.7, max_leaf_nodes=45, n_estimators=32\n",
      "[CV 4/5; 45/100] END bootstrap=True, max_depth=18, max_features=0.7, max_leaf_nodes=45, n_estimators=32;, score=0.895 total time=   0.6s\n",
      "[CV 4/5; 46/100] START bootstrap=False, max_depth=10, max_features=sqrt, max_leaf_nodes=40, n_estimators=73\n",
      "[CV 4/5; 46/100] END bootstrap=False, max_depth=10, max_features=sqrt, max_leaf_nodes=40, n_estimators=73;, score=0.886 total time=   0.7s\n",
      "[CV 1/5; 48/100] START bootstrap=True, max_depth=7, max_features=0.5, max_leaf_nodes=37, n_estimators=25\n",
      "[CV 1/5; 48/100] END bootstrap=True, max_depth=7, max_features=0.5, max_leaf_nodes=37, n_estimators=25;, score=0.881 total time=   0.4s\n",
      "[CV 1/5; 49/100] START bootstrap=False, max_depth=6, max_features=sqrt, max_leaf_nodes=15, n_estimators=92\n",
      "[CV 1/5; 49/100] END bootstrap=False, max_depth=6, max_features=sqrt, max_leaf_nodes=15, n_estimators=92;, score=0.869 total time=   0.7s\n",
      "[CV 4/5; 50/100] START bootstrap=False, max_depth=19, max_features=0.6, max_leaf_nodes=26, n_estimators=55\n",
      "[CV 4/5; 50/100] END bootstrap=False, max_depth=19, max_features=0.6, max_leaf_nodes=26, n_estimators=55;, score=0.894 total time=   1.3s\n",
      "[CV 2/5; 53/100] START bootstrap=False, max_depth=12, max_features=0.8999999999999999, max_leaf_nodes=20, n_estimators=75"
     ]
    }
   ],
   "source": [
    "rand_forst_unilabel = grid_rand_forst_unilabel.fit(X_downsamp_train, y_h1n1_downsamp_train)"
   ]
  },
  {
   "cell_type": "code",
   "execution_count": 71,
   "id": "d61ddb19",
   "metadata": {},
   "outputs": [
    {
     "name": "stdout",
     "output_type": "stream",
     "text": [
      "Best score:\n",
      "0.89\n",
      "Best parameters:\n",
      "{'n_estimators': 52, 'max_leaf_nodes': 48, 'max_features': 0.5, 'max_depth': 8, 'bootstrap': False}\n"
     ]
    }
   ],
   "source": [
    "# Show best parameters\n",
    "print('Best score:\\n{:.2f}'.format(rand_forst_unilabel.best_score_))\n",
    "print(\"Best parameters:\\n{}\".format(rand_forst_unilabel.best_params_))"
   ]
  },
  {
   "cell_type": "code",
   "execution_count": 73,
   "id": "a96d69c3",
   "metadata": {},
   "outputs": [],
   "source": [
    "# Save best model\n",
    "\n",
    "best_model_rand_forst_unilabel = rand_forst_unilabel.best_estimator_"
   ]
  },
  {
   "cell_type": "code",
   "execution_count": 75,
   "id": "cd0c60b7",
   "metadata": {},
   "outputs": [],
   "source": [
    "# Make predictions using the best model\n",
    "\n",
    "best_model_h1n1_train = best_model_rand_forst_unilabel.predict(X_h1n1_train)\n",
    "\n",
    "best_model_h1n1_test = best_model_rand_forst_unilabel.predict(X_h1n1_test)"
   ]
  },
  {
   "cell_type": "code",
   "execution_count": 78,
   "id": "9a2c76f1",
   "metadata": {},
   "outputs": [
    {
     "data": {
      "text/plain": [
       "1733"
      ]
     },
     "execution_count": 78,
     "metadata": {},
     "output_type": "execute_result"
    }
   ],
   "source": [
    "best_model_h1n1_test.sum()"
   ]
  },
  {
   "cell_type": "code",
   "execution_count": 79,
   "id": "145b5338",
   "metadata": {},
   "outputs": [
    {
     "data": {
      "text/plain": [
       "6869"
      ]
     },
     "execution_count": 79,
     "metadata": {},
     "output_type": "execute_result"
    }
   ],
   "source": [
    "best_model_h1n1_train.sum()"
   ]
  },
  {
   "cell_type": "code",
   "execution_count": 80,
   "id": "dddb22bf",
   "metadata": {},
   "outputs": [
    {
     "data": {
      "text/plain": [
       "4539"
      ]
     },
     "execution_count": 80,
     "metadata": {},
     "output_type": "execute_result"
    }
   ],
   "source": [
    "y_h1n1_train.sum()"
   ]
  },
  {
   "cell_type": "markdown",
   "id": "95a4201f",
   "metadata": {},
   "source": [
    "## Setting up the Grid Search for hyperparameter tuning"
   ]
  },
  {
   "cell_type": "code",
   "execution_count": 63,
   "id": "69f93d4b",
   "metadata": {},
   "outputs": [
    {
     "data": {
      "text/plain": [
       "{'bootstrap': True,\n",
       " 'ccp_alpha': 0.0,\n",
       " 'class_weight': None,\n",
       " 'criterion': 'gini',\n",
       " 'max_depth': None,\n",
       " 'max_features': 'auto',\n",
       " 'max_leaf_nodes': None,\n",
       " 'max_samples': None,\n",
       " 'min_impurity_decrease': 0.0,\n",
       " 'min_impurity_split': None,\n",
       " 'min_samples_leaf': 1,\n",
       " 'min_samples_split': 2,\n",
       " 'min_weight_fraction_leaf': 0.0,\n",
       " 'n_estimators': 100,\n",
       " 'n_jobs': None,\n",
       " 'oob_score': False,\n",
       " 'random_state': None,\n",
       " 'verbose': 0,\n",
       " 'warm_start': False}"
      ]
     },
     "execution_count": 63,
     "metadata": {},
     "output_type": "execute_result"
    }
   ],
   "source": [
    "h1n1_rand_forst_model.get_params()"
   ]
  },
  {
   "cell_type": "code",
   "execution_count": 67,
   "id": "f2ce347c",
   "metadata": {},
   "outputs": [
    {
     "data": {
      "text/plain": [
       "dict_keys(['bootstrap', 'ccp_alpha', 'class_weight', 'criterion', 'max_depth', 'max_features', 'max_leaf_nodes', 'max_samples', 'min_impurity_decrease', 'min_impurity_split', 'min_samples_leaf', 'min_samples_split', 'min_weight_fraction_leaf', 'n_estimators', 'n_jobs', 'oob_score', 'random_state', 'verbose', 'warm_start'])"
      ]
     },
     "execution_count": 67,
     "metadata": {},
     "output_type": "execute_result"
    }
   ],
   "source": [
    "h1n1_rand_forst_model.get_params().keys()"
   ]
  },
  {
   "cell_type": "code",
   "execution_count": 68,
   "id": "e09c2fed",
   "metadata": {},
   "outputs": [],
   "source": [
    "# will need to be adjusted in further runs \n",
    "# the pipeline step is accessed with 'estimators__estimator__'\n",
    "\n",
    "param_grid_unilabel = {\n",
    "    'n_estimators': np.linspace(10, 100, 200).astype(int),\n",
    "    'max_depth': [None] + list(np.linspace(3, 20).astype(int)),\n",
    "    'max_features': ['auto', 'sqrt', None] + list(np.arange(0.5, 1, 0.1)),\n",
    "    'max_leaf_nodes': [None] + list(np.linspace(10, 50, 500).astype(int)),\n",
    "    #'estimators__estimator__min_samples_split': [2, 5, 10],\n",
    "    'bootstrap': [True, False]\n",
    "}"
   ]
  },
  {
   "cell_type": "code",
   "execution_count": 69,
   "id": "999a4ec1",
   "metadata": {},
   "outputs": [],
   "source": [
    "# the random search model is created \n",
    "# we define roc_auc as our evaluation metric for the parameter search \n",
    "# set verbose to a higher number next time \n",
    "\n",
    "grid_rand_forst_unilabel = RandomizedSearchCV(h1n1_rand_forst_model, param_distributions=param_grid_unilabel, cv=5, scoring='roc_auc', verbose=50, n_jobs=-1, n_iter=100)"
   ]
  },
  {
   "cell_type": "markdown",
   "id": "4bca6a9f",
   "metadata": {},
   "source": [
    "## Fitting the grid search to our model"
   ]
  },
  {
   "cell_type": "code",
   "execution_count": 70,
   "id": "976d0ff2",
   "metadata": {},
   "outputs": [
    {
     "name": "stdout",
     "output_type": "stream",
     "text": [
      "Fitting 5 folds for each of 100 candidates, totalling 500 fits\n",
      "[CV 5/5; 1/100] START bootstrap=False, max_depth=17, max_features=auto, max_leaf_nodes=32, n_estimators=22\n",
      "[CV 5/5; 1/100] END bootstrap=False, max_depth=17, max_features=auto, max_leaf_nodes=32, n_estimators=22;, score=0.872 total time=   0.2s\n",
      "[CV 2/5; 3/100] START bootstrap=False, max_depth=17, max_features=None, max_leaf_nodes=15, n_estimators=78\n",
      "[CV 2/5; 3/100] END bootstrap=False, max_depth=17, max_features=None, max_leaf_nodes=15, n_estimators=78;, score=0.871 total time=   2.2s\n",
      "[CV 2/5; 6/100] START bootstrap=False, max_depth=13, max_features=0.7, max_leaf_nodes=28, n_estimators=58\n",
      "[CV 2/5; 6/100] END bootstrap=False, max_depth=13, max_features=0.7, max_leaf_nodes=28, n_estimators=58;, score=0.889 total time=   1.6s\n",
      "[CV 5/5; 7/100] START bootstrap=True, max_depth=4, max_features=0.5, max_leaf_nodes=25, n_estimators=97\n",
      "[CV 5/5; 7/100] END bootstrap=True, max_depth=4, max_features=0.5, max_leaf_nodes=25, n_estimators=97;, score=0.877 total time=   1.5s\n",
      "[CV 3/5; 10/100] START bootstrap=True, max_depth=13, max_features=sqrt, max_leaf_nodes=18, n_estimators=76\n",
      "[CV 3/5; 10/100] END bootstrap=True, max_depth=13, max_features=sqrt, max_leaf_nodes=18, n_estimators=76;, score=0.878 total time=   0.7s\n",
      "[CV 1/5; 12/100] START bootstrap=False, max_depth=7, max_features=0.7999999999999999, max_leaf_nodes=24, n_estimators=87\n",
      "[CV 1/5; 12/100] END bootstrap=False, max_depth=7, max_features=0.7999999999999999, max_leaf_nodes=24, n_estimators=87;, score=0.878 total time=   2.4s\n",
      "[CV 4/5; 13/100] START bootstrap=False, max_depth=9, max_features=None, max_leaf_nodes=17, n_estimators=56\n",
      "[CV 4/5; 13/100] END bootstrap=False, max_depth=9, max_features=None, max_leaf_nodes=17, n_estimators=56;, score=0.878 total time=   1.6s\n",
      "[CV 3/5; 15/100] START bootstrap=False, max_depth=5, max_features=None, max_leaf_nodes=26, n_estimators=18\n",
      "[CV 3/5; 15/100] END bootstrap=False, max_depth=5, max_features=None, max_leaf_nodes=26, n_estimators=18;, score=0.865 total time=   0.5s\n",
      "[CV 2/5; 16/100] START bootstrap=False, max_depth=8, max_features=0.5, max_leaf_nodes=28, n_estimators=34\n",
      "[CV 2/5; 16/100] END bootstrap=False, max_depth=8, max_features=0.5, max_leaf_nodes=28, n_estimators=34;, score=0.890 total time=   0.6s\n",
      "[CV 1/5; 18/100] START bootstrap=True, max_depth=12, max_features=0.6, max_leaf_nodes=18, n_estimators=65\n",
      "[CV 1/5; 18/100] END bootstrap=True, max_depth=12, max_features=0.6, max_leaf_nodes=18, n_estimators=65;, score=0.879 total time=   1.0s\n",
      "[CV 4/5; 19/100] START bootstrap=False, max_depth=7, max_features=None, max_leaf_nodes=29, n_estimators=64\n",
      "[CV 4/5; 19/100] END bootstrap=False, max_depth=7, max_features=None, max_leaf_nodes=29, n_estimators=64;, score=0.885 total time=   2.0s\n",
      "[CV 5/5; 21/100] START bootstrap=True, max_depth=14, max_features=0.7999999999999999, max_leaf_nodes=17, n_estimators=42\n",
      "[CV 5/5; 21/100] END bootstrap=True, max_depth=14, max_features=0.7999999999999999, max_leaf_nodes=17, n_estimators=42;, score=0.879 total time=   0.8s\n",
      "[CV 5/5; 23/100] START bootstrap=False, max_depth=3, max_features=0.8999999999999999, max_leaf_nodes=47, n_estimators=76\n",
      "[CV 5/5; 23/100] END bootstrap=False, max_depth=3, max_features=0.8999999999999999, max_leaf_nodes=47, n_estimators=76;, score=0.862 total time=   1.3s\n",
      "[CV 3/5; 26/100] START bootstrap=True, max_depth=13, max_features=0.7, max_leaf_nodes=12, n_estimators=82\n",
      "[CV 3/5; 26/100] END bootstrap=True, max_depth=13, max_features=0.7, max_leaf_nodes=12, n_estimators=82;, score=0.877 total time=   1.3s\n",
      "[CV 1/5; 28/100] START bootstrap=False, max_depth=12, max_features=0.8999999999999999, max_leaf_nodes=18, n_estimators=97\n",
      "[CV 1/5; 28/100] END bootstrap=False, max_depth=12, max_features=0.8999999999999999, max_leaf_nodes=18, n_estimators=97;, score=0.871 total time=   2.5s\n",
      "[CV 2/5; 30/100] START bootstrap=False, max_depth=5, max_features=0.6, max_leaf_nodes=30, n_estimators=88\n",
      "[CV 2/5; 30/100] END bootstrap=False, max_depth=5, max_features=0.6, max_leaf_nodes=30, n_estimators=88;, score=0.889 total time=   1.6s\n",
      "[CV 5/5; 31/100] START bootstrap=False, max_depth=12, max_features=None, max_leaf_nodes=41, n_estimators=60\n",
      "[CV 5/5; 31/100] END bootstrap=False, max_depth=12, max_features=None, max_leaf_nodes=41, n_estimators=60;, score=0.876 total time=   2.0s\n",
      "[CV 5/5; 33/100] START bootstrap=True, max_depth=7, max_features=0.6, max_leaf_nodes=37, n_estimators=24\n",
      "[CV 5/5; 33/100] END bootstrap=True, max_depth=7, max_features=0.6, max_leaf_nodes=37, n_estimators=24;, score=0.883 total time=   0.4s\n",
      "[CV 5/5; 34/100] START bootstrap=True, max_depth=3, max_features=None, max_leaf_nodes=24, n_estimators=17\n",
      "[CV 5/5; 34/100] END bootstrap=True, max_depth=3, max_features=None, max_leaf_nodes=24, n_estimators=17;, score=0.859 total time=   0.3s\n",
      "[CV 5/5; 35/100] START bootstrap=False, max_depth=17, max_features=sqrt, max_leaf_nodes=32, n_estimators=76\n",
      "[CV 5/5; 35/100] END bootstrap=False, max_depth=17, max_features=sqrt, max_leaf_nodes=32, n_estimators=76;, score=0.874 total time=   0.7s\n",
      "[CV 3/5; 37/100] START bootstrap=False, max_depth=18, max_features=0.7, max_leaf_nodes=44, n_estimators=99\n",
      "[CV 3/5; 37/100] END bootstrap=False, max_depth=18, max_features=0.7, max_leaf_nodes=44, n_estimators=99;, score=0.885 total time=   2.6s\n",
      "[CV 2/5; 39/100] START bootstrap=True, max_depth=15, max_features=0.5, max_leaf_nodes=14, n_estimators=52\n",
      "[CV 2/5; 39/100] END bootstrap=True, max_depth=15, max_features=0.5, max_leaf_nodes=14, n_estimators=52;, score=0.885 total time=   0.8s\n",
      "[CV 3/5; 40/100] START bootstrap=False, max_depth=4, max_features=None, max_leaf_nodes=20, n_estimators=37\n",
      "[CV 3/5; 40/100] END bootstrap=False, max_depth=4, max_features=None, max_leaf_nodes=20, n_estimators=37;, score=0.857 total time=   1.1s\n",
      "[CV 5/5; 41/100] START bootstrap=True, max_depth=18, max_features=auto, max_leaf_nodes=11, n_estimators=69\n",
      "[CV 5/5; 41/100] END bootstrap=True, max_depth=18, max_features=auto, max_leaf_nodes=11, n_estimators=69;, score=0.865 total time=   0.5s\n",
      "[CV 3/5; 43/100] START bootstrap=False, max_depth=6, max_features=0.7, max_leaf_nodes=28, n_estimators=95\n",
      "[CV 3/5; 43/100] END bootstrap=False, max_depth=6, max_features=0.7, max_leaf_nodes=28, n_estimators=95;, score=0.882 total time=   2.1s\n",
      "[CV 5/5; 46/100] START bootstrap=False, max_depth=10, max_features=sqrt, max_leaf_nodes=40, n_estimators=73\n",
      "[CV 5/5; 46/100] END bootstrap=False, max_depth=10, max_features=sqrt, max_leaf_nodes=40, n_estimators=73;, score=0.876 total time=   0.7s\n",
      "[CV 3/5; 48/100] START bootstrap=True, max_depth=7, max_features=0.5, max_leaf_nodes=37, n_estimators=25\n",
      "[CV 3/5; 48/100] END bootstrap=True, max_depth=7, max_features=0.5, max_leaf_nodes=37, n_estimators=25;, score=0.887 total time=   0.4s\n",
      "[CV 3/5; 49/100] START bootstrap=False, max_depth=6, max_features=sqrt, max_leaf_nodes=15, n_estimators=92\n",
      "[CV 3/5; 49/100] END bootstrap=False, max_depth=6, max_features=sqrt, max_leaf_nodes=15, n_estimators=92;, score=0.878 total time=   0.7s\n",
      "[CV 1/5; 51/100] START bootstrap=False, max_depth=16, max_features=0.7999999999999999, max_leaf_nodes=35, n_estimators=11\n",
      "[CV 1/5; 51/100] END bootstrap=False, max_depth=16, max_features=0.7999999999999999, max_leaf_nodes=35, n_estimators=11;, score=0.877 total time=   0.3s\n",
      "[CV 4/5; 51/100] START bootstrap=False, max_depth=16, max_features=0.7999999999999999, max_leaf_nodes=35, n_estimators=11\n",
      "[CV 4/5; 51/100] END bootstrap=False, max_depth=16, max_features=0.7999999999999999, max_leaf_nodes=35, n_estimators=11;, score=0.893 total time=   0.3s\n",
      "[CV 2/5; 52/100] START bootstrap=True, max_depth=5, max_features=0.6, max_leaf_nodes=36, n_estimators=76\n",
      "[CV 2/5; 52/100] END bootstrap=True, max_depth=5, max_features=0.6, max_leaf_nodes=36, n_estimators=76;, score=0.890 total time=   1.4s\n",
      "[CV 5/5; 53/100] START bootstrap=False, max_depth=12, max_features=0.8999999999999999, max_leaf_nodes=20, n_estimators=75\n",
      "[CV 5/5; 53/100] END bootstrap=False, max_depth=12, max_features=0.8999999999999999, max_leaf_nodes=20, n_estimators=75;, score=0.878 total time=   2.2s\n",
      "[CV 4/5; 55/100] START bootstrap=False, max_depth=12, max_features=auto, max_leaf_nodes=11, n_estimators=68\n",
      "[CV 4/5; 55/100] END bootstrap=False, max_depth=12, max_features=auto, max_leaf_nodes=11, n_estimators=68;, score=0.877 total time=   0.7s[CV 1/5; 2/100] START bootstrap=True, max_depth=18, max_features=0.6, max_leaf_nodes=48, n_estimators=17\n",
      "[CV 1/5; 2/100] END bootstrap=True, max_depth=18, max_features=0.6, max_leaf_nodes=48, n_estimators=17;, score=0.884 total time=   0.3s\n",
      "[CV 4/5; 3/100] START bootstrap=False, max_depth=17, max_features=None, max_leaf_nodes=15, n_estimators=78\n",
      "[CV 4/5; 3/100] END bootstrap=False, max_depth=17, max_features=None, max_leaf_nodes=15, n_estimators=78;, score=0.876 total time=   2.2s\n",
      "[CV 4/5; 6/100] START bootstrap=False, max_depth=13, max_features=0.7, max_leaf_nodes=28, n_estimators=58\n",
      "[CV 4/5; 6/100] END bootstrap=False, max_depth=13, max_features=0.7, max_leaf_nodes=28, n_estimators=58;, score=0.893 total time=   1.6s\n",
      "[CV 3/5; 8/100] START bootstrap=False, max_depth=15, max_features=auto, max_leaf_nodes=10, n_estimators=82\n",
      "[CV 3/5; 8/100] END bootstrap=False, max_depth=15, max_features=auto, max_leaf_nodes=10, n_estimators=82;, score=0.875 total time=   0.7s\n",
      "[CV 4/5; 9/100] START bootstrap=True, max_depth=7, max_features=0.6, max_leaf_nodes=28, n_estimators=57\n",
      "[CV 4/5; 9/100] END bootstrap=True, max_depth=7, max_features=0.6, max_leaf_nodes=28, n_estimators=57;, score=0.895 total time=   1.2s\n",
      "[CV 4/5; 11/100] START bootstrap=False, max_depth=16, max_features=0.6, max_leaf_nodes=27, n_estimators=56\n",
      "[CV 4/5; 11/100] END bootstrap=False, max_depth=16, max_features=0.6, max_leaf_nodes=27, n_estimators=56;, score=0.894 total time=   1.3s\n",
      "[CV 3/5; 13/100] START bootstrap=False, max_depth=9, max_features=None, max_leaf_nodes=17, n_estimators=56\n",
      "[CV 3/5; 13/100] END bootstrap=False, max_depth=9, max_features=None, max_leaf_nodes=17, n_estimators=56;, score=0.863 total time=   1.7s\n",
      "[CV 4/5; 14/100] START bootstrap=True, max_depth=18, max_features=0.7999999999999999, max_leaf_nodes=35, n_estimators=82\n",
      "[CV 4/5; 14/100] END bootstrap=True, max_depth=18, max_features=0.7999999999999999, max_leaf_nodes=35, n_estimators=82;, score=0.895 total time=   1.6s\n",
      "[CV 3/5; 16/100] START bootstrap=False, max_depth=8, max_features=0.5, max_leaf_nodes=28, n_estimators=34\n",
      "[CV 3/5; 16/100] END bootstrap=False, max_depth=8, max_features=0.5, max_leaf_nodes=28, n_estimators=34;, score=0.885 total time=   0.6s\n",
      "[CV 5/5; 17/100] START bootstrap=False, max_depth=3, max_features=auto, max_leaf_nodes=46, n_estimators=88\n",
      "[CV 5/5; 17/100] END bootstrap=False, max_depth=3, max_features=auto, max_leaf_nodes=46, n_estimators=88;, score=0.862 total time=   0.5s\n",
      "[CV 3/5; 19/100] START bootstrap=False, max_depth=7, max_features=None, max_leaf_nodes=29, n_estimators=64\n",
      "[CV 3/5; 19/100] END bootstrap=False, max_depth=7, max_features=None, max_leaf_nodes=29, n_estimators=64;, score=0.872 total time=   2.0s\n",
      "[CV 3/5; 21/100] START bootstrap=True, max_depth=14, max_features=0.7999999999999999, max_leaf_nodes=17, n_estimators=42\n",
      "[CV 3/5; 21/100] END bootstrap=True, max_depth=14, max_features=0.7999999999999999, max_leaf_nodes=17, n_estimators=42;, score=0.882 total time=   0.8s\n",
      "[CV 4/5; 22/100] START bootstrap=True, max_depth=16, max_features=0.6, max_leaf_nodes=48, n_estimators=28\n",
      "[CV 4/5; 22/100] END bootstrap=True, max_depth=16, max_features=0.6, max_leaf_nodes=48, n_estimators=28;, score=0.896 total time=   0.5s\n",
      "[CV 1/5; 24/100] START bootstrap=True, max_depth=17, max_features=sqrt, max_leaf_nodes=40, n_estimators=37\n",
      "[CV 1/5; 24/100] END bootstrap=True, max_depth=17, max_features=sqrt, max_leaf_nodes=40, n_estimators=37;, score=0.875 total time=   0.4s\n",
      "[CV 5/5; 24/100] START bootstrap=True, max_depth=17, max_features=sqrt, max_leaf_nodes=40, n_estimators=37\n",
      "[CV 5/5; 24/100] END bootstrap=True, max_depth=17, max_features=sqrt, max_leaf_nodes=40, n_estimators=37;, score=0.877 total time=   0.3s\n",
      "[CV 2/5; 25/100] START bootstrap=True, max_depth=16, max_features=0.8999999999999999, max_leaf_nodes=44, n_estimators=51\n",
      "[CV 2/5; 25/100] END bootstrap=True, max_depth=16, max_features=0.8999999999999999, max_leaf_nodes=44, n_estimators=51;, score=0.892 total time=   1.2s\n",
      "[CV 5/5; 26/100] START bootstrap=True, max_depth=13, max_features=0.7, max_leaf_nodes=12, n_estimators=82\n",
      "[CV 5/5; 26/100] END bootstrap=True, max_depth=13, max_features=0.7, max_leaf_nodes=12, n_estimators=82;, score=0.875 total time=   1.3s\n",
      "[CV 2/5; 29/100] START bootstrap=False, max_depth=13, max_features=0.6, max_leaf_nodes=45, n_estimators=52\n",
      "[CV 2/5; 29/100] END bootstrap=False, max_depth=13, max_features=0.6, max_leaf_nodes=45, n_estimators=52;, score=0.892 total time=   1.2s\n",
      "[CV 5/5; 29/100] START bootstrap=False, max_depth=13, max_features=0.6, max_leaf_nodes=45, n_estimators=52\n",
      "[CV 5/5; 29/100] END bootstrap=False, max_depth=13, max_features=0.6, max_leaf_nodes=45, n_estimators=52;, score=0.886 total time=   1.2s\n",
      "[CV 1/5; 31/100] START bootstrap=False, max_depth=12, max_features=None, max_leaf_nodes=41, n_estimators=60\n",
      "[CV 1/5; 31/100] END bootstrap=False, max_depth=12, max_features=None, max_leaf_nodes=41, n_estimators=60;, score=0.870 total time=   2.0s\n",
      "[CV 4/5; 32/100] START bootstrap=True, max_depth=7, max_features=0.7, max_leaf_nodes=40, n_estimators=95\n",
      "[CV 4/5; 32/100] END bootstrap=True, max_depth=7, max_features=0.7, max_leaf_nodes=40, n_estimators=95;, score=0.895 total time=   1.8s\n",
      "[CV 2/5; 36/100] START bootstrap=False, max_depth=12, max_features=0.8999999999999999, max_leaf_nodes=45, n_estimators=31\n",
      "[CV 2/5; 36/100] END bootstrap=False, max_depth=12, max_features=0.8999999999999999, max_leaf_nodes=45, n_estimators=31;, score=0.887 total time=   1.0s\n",
      "[CV 5/5; 37/100] START bootstrap=False, max_depth=18, max_features=0.7, max_leaf_nodes=44, n_estimators=99\n",
      "[CV 5/5; 37/100] END bootstrap=False, max_depth=18, max_features=0.7, max_leaf_nodes=44, n_estimators=99;, score=0.884 total time=   2.6s\n",
      "[CV 1/5; 40/100] START bootstrap=False, max_depth=4, max_features=None, max_leaf_nodes=20, n_estimators=37\n",
      "[CV 1/5; 40/100] END bootstrap=False, max_depth=4, max_features=None, max_leaf_nodes=20, n_estimators=37;, score=0.856 total time=   1.1s\n",
      "[CV 2/5; 41/100] START bootstrap=True, max_depth=18, max_features=auto, max_leaf_nodes=11, n_estimators=69\n",
      "[CV 2/5; 41/100] END bootstrap=True, max_depth=18, max_features=auto, max_leaf_nodes=11, n_estimators=69;, score=0.879 total time=   0.5s\n",
      "[CV 5/5; 42/100] START bootstrap=True, max_depth=5, max_features=0.5, max_leaf_nodes=19, n_estimators=31\n",
      "[CV 5/5; 42/100] END bootstrap=True, max_depth=5, max_features=0.5, max_leaf_nodes=19, n_estimators=31;, score=0.878 total time=   0.4s\n",
      "[CV 3/5; 44/100] START bootstrap=True, max_depth=18, max_features=0.7, max_leaf_nodes=46, n_estimators=26\n",
      "[CV 3/5; 44/100] END bootstrap=True, max_depth=18, max_features=0.7, max_leaf_nodes=46, n_estimators=26;, score=0.887 total time=   0.5s\n",
      "[CV 1/5; 45/100] START bootstrap=True, max_depth=18, max_features=0.7, max_leaf_nodes=45, n_estimators=32\n",
      "[CV 1/5; 45/100] END bootstrap=True, max_depth=18, max_features=0.7, max_leaf_nodes=45, n_estimators=32;, score=0.882 total time=   0.7s\n",
      "[CV 4/5; 45/100] START bootstrap=True, max_depth=18, max_features=0.7, max_leaf_nodes=45, n_estimators=32\n",
      "[CV 4/5; 45/100] END bootstrap=True, max_depth=18, max_features=0.7, max_leaf_nodes=45, n_estimators=32;, score=0.895 total time=   0.6s\n",
      "[CV 4/5; 46/100] START bootstrap=False, max_depth=10, max_features=sqrt, max_leaf_nodes=40, n_estimators=73\n",
      "[CV 4/5; 46/100] END bootstrap=False, max_depth=10, max_features=sqrt, max_leaf_nodes=40, n_estimators=73;, score=0.886 total time=   0.7s\n",
      "[CV 1/5; 48/100] START bootstrap=True, max_depth=7, max_features=0.5, max_leaf_nodes=37, n_estimators=25\n",
      "[CV 1/5; 48/100] END bootstrap=True, max_depth=7, max_features=0.5, max_leaf_nodes=37, n_estimators=25;, score=0.881 total time=   0.4s\n",
      "[CV 1/5; 49/100] START bootstrap=False, max_depth=6, max_features=sqrt, max_leaf_nodes=15, n_estimators=92\n",
      "[CV 1/5; 49/100] END bootstrap=False, max_depth=6, max_features=sqrt, max_leaf_nodes=15, n_estimators=92;, score=0.869 total time=   0.7s\n",
      "[CV 4/5; 50/100] START bootstrap=False, max_depth=19, max_features=0.6, max_leaf_nodes=26, n_estimators=55\n",
      "[CV 4/5; 50/100] END bootstrap=False, max_depth=19, max_features=0.6, max_leaf_nodes=26, n_estimators=55;, score=0.894 total time=   1.3s\n",
      "[CV 2/5; 53/100] START bootstrap=False, max_depth=12, max_features=0.8999999999999999, max_leaf_nodes=20, n_estimators=75"
     ]
    }
   ],
   "source": [
    "rand_forst_unilabel = grid_rand_forst_unilabel.fit(X_downsamp_train, y_h1n1_downsamp_train)"
   ]
  },
  {
   "cell_type": "code",
   "execution_count": 71,
   "id": "475caf16",
   "metadata": {},
   "outputs": [
    {
     "name": "stdout",
     "output_type": "stream",
     "text": [
      "Best score:\n",
      "0.89\n",
      "Best parameters:\n",
      "{'n_estimators': 52, 'max_leaf_nodes': 48, 'max_features': 0.5, 'max_depth': 8, 'bootstrap': False}\n"
     ]
    }
   ],
   "source": [
    "# Show best parameters\n",
    "print('Best score:\\n{:.2f}'.format(rand_forst_unilabel.best_score_))\n",
    "print(\"Best parameters:\\n{}\".format(rand_forst_unilabel.best_params_))"
   ]
  },
  {
   "cell_type": "code",
   "execution_count": 73,
   "id": "187ca8db",
   "metadata": {},
   "outputs": [],
   "source": [
    "# Save best model\n",
    "\n",
    "#best_model_rand_forst_unilabel = rand_forst_unilabel.best_estimator_"
   ]
  },
  {
   "cell_type": "code",
   "execution_count": 104,
   "id": "022d888c",
   "metadata": {},
   "outputs": [],
   "source": [
    "# running model manually using the best hyperparameters\n",
    "\n",
    "best_model_rand_forst_unilabel= RandomForestClassifier(n_estimators= 52, max_leaf_nodes=48, max_features=0.5, max_depth=8, bootstrap=False)"
   ]
  },
  {
   "cell_type": "code",
   "execution_count": 105,
   "id": "25bbfd03",
   "metadata": {},
   "outputs": [],
   "source": [
    "best_model_rand_forst_unilabel = best_model_rand_forst_unilabel.fit(X_downsamp_train, y_h1n1_downsamp_train)"
   ]
  },
  {
   "cell_type": "code",
   "execution_count": 106,
   "id": "f7a0e411",
   "metadata": {},
   "outputs": [],
   "source": [
    "# Make predictions using the best model\n",
    "\n",
    "best_model_h1n1_train = best_model_rand_forst_unilabel.predict(X_h1n1_train)\n",
    "\n",
    "best_model_h1n1_test = best_model_rand_forst_unilabel.predict(X_h1n1_test)"
   ]
  },
  {
   "cell_type": "markdown",
   "id": "6c1216ae",
   "metadata": {},
   "source": [
    "## Best model evaluation (RFC, hyperparameter turned)"
   ]
  },
  {
   "cell_type": "markdown",
   "id": "7f66fc00",
   "metadata": {},
   "source": [
    "Train data"
   ]
  },
  {
   "cell_type": "code",
   "execution_count": 107,
   "id": "387df8a6",
   "metadata": {},
   "outputs": [
    {
     "name": "stdout",
     "output_type": "stream",
     "text": [
      "Accuracy: 0.82\n",
      "Recall: 0.83\n",
      "Precision: 0.54\n",
      "F1: 0.66\n",
      "ROC: 0.82\n"
     ]
    }
   ],
   "source": [
    "# Random Forest--Train data evaluation Metrics\n",
    "#check if these metrics are changing compared to previous results\n",
    "h1n1_best_train_acc = accuracy_score(y_h1n1_train, best_model_h1n1_train)\n",
    "h1n1_best_train_recall = recall_score(y_h1n1_train, best_model_h1n1_train)\n",
    "h1n1_best_train_precision = precision_score(y_h1n1_train, best_model_h1n1_train)\n",
    "h1n1_best_train_f1 = f1_score(y_h1n1_train, best_model_h1n1_train)\n",
    "h1n1_best_train_roc = roc_auc_score(y_h1n1_train, best_model_h1n1_train)\n",
    "\n",
    "print(\"Accuracy: {:.2f}\".format(h1n1_best_train_acc))\n",
    "print(\"Recall: {:.2f}\".format(h1n1_best_train_recall))\n",
    "print(\"Precision: {:.2f}\".format(h1n1_best_train_precision))\n",
    "print(\"F1: {:.2f}\".format(h1n1_best_train_f1))\n",
    "print(\"ROC: {:.2f}\".format(h1n1_best_train_roc))"
   ]
  },
  {
   "cell_type": "markdown",
   "id": "1a4d1126",
   "metadata": {},
   "source": [
    "Test data"
   ]
  },
  {
   "cell_type": "code",
   "execution_count": 108,
   "id": "c178daca",
   "metadata": {},
   "outputs": [
    {
     "name": "stdout",
     "output_type": "stream",
     "text": [
      "Accuracy: 0.81\n",
      "Recall: 0.81\n",
      "Precision: 0.53\n",
      "F1: 0.64\n",
      "ROC: 0.81\n"
     ]
    }
   ],
   "source": [
    "# Random Forest--Test data evaluation Metrics\n",
    "#check if these metrics are changing compared to previous results\n",
    "h1n1_best_test_acc = accuracy_score(y_h1n1_test, best_model_h1n1_test)\n",
    "h1n1_best_test_recall = recall_score(y_h1n1_test, best_model_h1n1_test)\n",
    "h1n1_best_test_precision = precision_score(y_h1n1_test, best_model_h1n1_test)\n",
    "h1n1_best_test_f1 = f1_score(y_h1n1_test, best_model_h1n1_test)\n",
    "h1n1_best_test_roc = roc_auc_score(y_h1n1_test, best_model_h1n1_test)\n",
    "\n",
    "print(\"Accuracy: {:.2f}\".format(h1n1_best_test_acc))\n",
    "print(\"Recall: {:.2f}\".format(h1n1_best_test_recall))\n",
    "print(\"Precision: {:.2f}\".format(h1n1_best_test_precision))\n",
    "print(\"F1: {:.2f}\".format(h1n1_best_test_f1))\n",
    "print(\"ROC: {:.2f}\".format(h1n1_best_test_roc))"
   ]
  },
  {
   "cell_type": "markdown",
   "id": "58869cf7",
   "metadata": {},
   "source": [
    "## Error evaluation of model (after hyperparameter tuning)"
   ]
  },
  {
   "cell_type": "markdown",
   "id": "87bc64c8",
   "metadata": {},
   "source": [
    "**Confusion matrix**"
   ]
  },
  {
   "cell_type": "code",
   "execution_count": 109,
   "id": "a34f2fd4",
   "metadata": {},
   "outputs": [
    {
     "data": {
      "image/png": "[encoded data removed]",
      "text/plain": [
       "<Figure size 432x288 with 2 Axes>"
      ]
     },
     "metadata": {
      "needs_background": "light"
     },
     "output_type": "display_data"
    }
   ],
   "source": [
    "cm = confusion_matrix(y_h1n1_test, best_model_h1n1_test)\n",
    "sns.heatmap(cm, cmap='Blues', annot=True, fmt='d', linewidths=.5, annot_kws={\"size\":25})\n",
    "plt.title(\"H1N1 flu vaccination prediction\", fontsize=20, y=1.1)\n",
    "plt.ylabel('Actual vaccination status', fontsize=16)\n",
    "plt.xlabel('Predicted vaccination status', fontsize=16)\n",
    "labels = ['Not vaccinated', 'Vaccinated']\n",
    "ax = plt.gca()\n",
    "ax.set_xticklabels(labels, fontsize=14)\n",
    "ax.set_yticklabels(labels, va=\"center\", fontsize=14)\n",
    "ax.yaxis.labelpad = 15\n",
    "ax.xaxis.labelpad = 15"
   ]
  },
  {
   "cell_type": "markdown",
   "id": "e77654e0",
   "metadata": {},
   "source": [
    "**ROC curve**"
   ]
  },
  {
   "cell_type": "code",
   "execution_count": 84,
   "id": "bb478922",
   "metadata": {},
   "outputs": [
    {
     "data": {
      "image/png": "[encoded data removed]",
      "text/plain": [
       "<Figure size 432x288 with 1 Axes>"
      ]
     },
     "metadata": {
      "needs_background": "light"
     },
     "output_type": "display_data"
    },
    {
     "name": "stdout",
     "output_type": "stream",
     "text": [
      "AUC Random Forest:0.809\n"
     ]
    }
   ],
   "source": [
    "fpr_rand_forst, tpr_rand_forst, thresholds_rand_forst = metrics.roc_curve(y_h1n1_test, best_model_h1n1_test)\n",
    "\n",
    "plt.plot(fpr_rand_forst, tpr_rand_forst,'r-',label = 'Random Forest')\n",
    "plt.plot([0,1],[0,1],'k-',label='random')\n",
    "plt.plot([0,0,1,1],[0,1,1,1],'g-',label='perfect')\n",
    "plt.legend()\n",
    "plt.xlabel('False Positive Rate')\n",
    "plt.ylabel('True Positive Rate')\n",
    "plt.show()\n",
    "\n",
    "auc_rand_forst = roc_auc_score(y_h1n1_test, best_model_h1n1_test)\n",
    "print('AUC Random Forest:%.3f'% auc_rand_forst)"
   ]
  },
  {
   "cell_type": "markdown",
   "id": "210ed144",
   "metadata": {},
   "source": [
    "## Best model evaluation (RFC, hyperparameter turned)"
   ]
  },
  {
   "cell_type": "markdown",
   "id": "51b4a9ad",
   "metadata": {},
   "source": [
    "Train data"
   ]
  },
  {
   "cell_type": "code",
   "execution_count": 81,
   "id": "01218981",
   "metadata": {},
   "outputs": [
    {
     "name": "stdout",
     "output_type": "stream",
     "text": [
      "Accuracy: 0.82\n",
      "Recall: 0.83\n",
      "Precision: 0.55\n",
      "F1: 0.66\n",
      "ROC: 0.82\n"
     ]
    }
   ],
   "source": [
    "# Random Forest--Train data evaluation Metrics\n",
    "#check if these metrics are changing compared to previous results\n",
    "h1n1_best_train_acc = accuracy_score(y_h1n1_train, best_model_h1n1_train)\n",
    "h1n1_best_train_recall = recall_score(y_h1n1_train, best_model_h1n1_train)\n",
    "h1n1_best_train_precision = precision_score(y_h1n1_train, best_model_h1n1_train)\n",
    "h1n1_best_train_f1 = f1_score(y_h1n1_train, best_model_h1n1_train)\n",
    "h1n1_best_train_roc = roc_auc_score(y_h1n1_train, best_model_h1n1_train)\n",
    "\n",
    "print(\"Accuracy: {:.2f}\".format(h1n1_best_train_acc))\n",
    "print(\"Recall: {:.2f}\".format(h1n1_best_train_recall))\n",
    "print(\"Precision: {:.2f}\".format(h1n1_best_train_precision))\n",
    "print(\"F1: {:.2f}\".format(h1n1_best_train_f1))\n",
    "print(\"ROC: {:.2f}\".format(h1n1_best_train_roc))"
   ]
  },
  {
   "cell_type": "markdown",
   "id": "ba596af7",
   "metadata": {},
   "source": [
    "Test data"
   ]
  },
  {
   "cell_type": "code",
   "execution_count": 82,
   "id": "3068981c",
   "metadata": {},
   "outputs": [
    {
     "name": "stdout",
     "output_type": "stream",
     "text": [
      "Accuracy: 0.81\n",
      "Recall: 0.81\n",
      "Precision: 0.53\n",
      "F1: 0.64\n",
      "ROC: 0.81\n"
     ]
    }
   ],
   "source": [
    "# Random Forest--Test data evaluation Metrics\n",
    "#check if these metrics are changing compared to previous results\n",
    "h1n1_best_test_acc = accuracy_score(y_h1n1_test, best_model_h1n1_test)\n",
    "h1n1_best_test_recall = recall_score(y_h1n1_test, best_model_h1n1_test)\n",
    "h1n1_best_test_precision = precision_score(y_h1n1_test, best_model_h1n1_test)\n",
    "h1n1_best_test_f1 = f1_score(y_h1n1_test, best_model_h1n1_test)\n",
    "h1n1_best_test_roc = roc_auc_score(y_h1n1_test, best_model_h1n1_test)\n",
    "\n",
    "print(\"Accuracy: {:.2f}\".format(h1n1_best_test_acc))\n",
    "print(\"Recall: {:.2f}\".format(h1n1_best_test_recall))\n",
    "print(\"Precision: {:.2f}\".format(h1n1_best_test_precision))\n",
    "print(\"F1: {:.2f}\".format(h1n1_best_test_f1))\n",
    "print(\"ROC: {:.2f}\".format(h1n1_best_test_roc))"
   ]
  },
  {
   "cell_type": "markdown",
   "id": "c973a395",
   "metadata": {},
   "source": [
    "## Error evaluation of model (after hyperparameter tuning)"
   ]
  },
  {
   "cell_type": "markdown",
   "id": "dbdb433e",
   "metadata": {},
   "source": [
    "**Confusion matrix**"
   ]
  },
  {
   "cell_type": "code",
   "execution_count": 83,
   "id": "17fa2b41",
   "metadata": {},
   "outputs": [
    {
     "data": {
      "image/png": "[encoded data removed]",
      "text/plain": [
       "<Figure size 432x288 with 2 Axes>"
      ]
     },
     "metadata": {
      "needs_background": "light"
     },
     "output_type": "display_data"
    }
   ],
   "source": [
    "cm = confusion_matrix(y_h1n1_test, best_model_h1n1_test)\n",
    "sns.heatmap(cm, cmap='Blues', annot=True, fmt='d', linewidths=.5, annot_kws={\"size\":25})\n",
    "plt.title(\"H1N1 flu vaccination prediction\", fontsize=20, y=1.1)\n",
    "plt.ylabel('Actual vaccination status', fontsize=16)\n",
    "plt.xlabel('Predicted vaccination status', fontsize=16)\n",
    "labels = ['Not vaccinated', 'Vaccinated']\n",
    "ax = plt.gca()\n",
    "ax.set_xticklabels(labels, fontsize=14)\n",
    "ax.set_yticklabels(labels, va=\"center\", fontsize=14)\n",
    "ax.yaxis.labelpad = 15\n",
    "ax.xaxis.labelpad = 15"
   ]
  },
  {
   "cell_type": "markdown",
   "id": "c36841f9",
   "metadata": {},
   "source": [
    "**ROC curve**"
   ]
  },
  {
   "cell_type": "code",
   "execution_count": 84,
   "id": "d769526e",
   "metadata": {},
   "outputs": [
    {
     "data": {
      "image/png": "[encoded data removed]",
      "text/plain": [
       "<Figure size 432x288 with 1 Axes>"
      ]
     },
     "metadata": {
      "needs_background": "light"
     },
     "output_type": "display_data"
    },
    {
     "name": "stdout",
     "output_type": "stream",
     "text": [
      "AUC Random Forest:0.809\n"
     ]
    }
   ],
   "source": [
    "fpr_rand_forst, tpr_rand_forst, thresholds_rand_forst = metrics.roc_curve(y_h1n1_test, best_model_h1n1_test)\n",
    "\n",
    "plt.plot(fpr_rand_forst, tpr_rand_forst,'r-',label = 'Random Forest')\n",
    "plt.plot([0,1],[0,1],'k-',label='random')\n",
    "plt.plot([0,0,1,1],[0,1,1,1],'g-',label='perfect')\n",
    "plt.legend()\n",
    "plt.xlabel('False Positive Rate')\n",
    "plt.ylabel('True Positive Rate')\n",
    "plt.show()\n",
    "\n",
    "auc_rand_forst = roc_auc_score(y_h1n1_test, best_model_h1n1_test)\n",
    "print('AUC Random Forest:%.3f'% auc_rand_forst)"
   ]
  },
  {
   "cell_type": "markdown",
   "id": "54abdf9f",
   "metadata": {},
   "source": [
    "# Prediction of seasonal flu vaccination (H1N1 vaccine in features)"
   ]
  },
  {
   "cell_type": "markdown",
   "id": "3daa7d9d",
   "metadata": {},
   "source": [
    "Setting up target variable:"
   ]
  },
  {
   "cell_type": "code",
   "execution_count": 51,
   "id": "c7152534",
   "metadata": {},
   "outputs": [
    {
     "data": {
      "text/plain": [
       "array([0, 1, 0, ..., 1, 0, 0])"
      ]
     },
     "execution_count": 51,
     "metadata": {},
     "output_type": "execute_result"
    }
   ],
   "source": [
    "y_seas = df_num['seasonal_vaccine']\n",
    "y_seas = y_seas.to_numpy()\n",
    "y_seas"
   ]
  },
  {
   "cell_type": "markdown",
   "id": "9edf6274",
   "metadata": {},
   "source": [
    "Performing the test-train split:"
   ]
  },
  {
   "cell_type": "code",
   "execution_count": 52,
   "id": "b5bf33d4",
   "metadata": {},
   "outputs": [],
   "source": [
    "X_seas_train, X_seas_test, y_seas_train, y_seas_test = train_test_split(X_seas, y_seas, stratify = y_seas, test_size=0.2, random_state=RSEED)"
   ]
  },
  {
   "cell_type": "code",
   "execution_count": 53,
   "id": "deb90a2a",
   "metadata": {},
   "outputs": [
    {
     "name": "stdout",
     "output_type": "stream",
     "text": [
      "X_seas_train shape: (21365, 32)\n",
      "X_seas_test shape: (5342, 32)\n",
      "y_seas_train: (21365,)\n",
      "y_seas_test: (5342,)\n"
     ]
    }
   ],
   "source": [
    "print('X_seas_train shape:', X_seas_train.shape)\n",
    "print('X_seas_test shape:', X_seas_test.shape)\n",
    "print('y_seas_train:', y_seas_train.shape)\n",
    "print('y_seas_test:', y_seas_test.shape)"
   ]
  },
  {
   "cell_type": "markdown",
   "id": "55f2c886",
   "metadata": {},
   "source": [
    "## Modelling and prediction (RFC only)"
   ]
  },
  {
   "cell_type": "markdown",
   "id": "59c87a33",
   "metadata": {},
   "source": [
    "Instantiate the model:"
   ]
  },
  {
   "cell_type": "code",
   "execution_count": 54,
   "id": "00e08f2e",
   "metadata": {},
   "outputs": [],
   "source": [
    "rand_forst= RandomForestClassifier()"
   ]
  },
  {
   "cell_type": "markdown",
   "id": "e67964c2",
   "metadata": {},
   "source": [
    "Fitting the model:"
   ]
  },
  {
   "cell_type": "code",
   "execution_count": 55,
   "id": "431f6f27",
   "metadata": {},
   "outputs": [],
   "source": [
    "seas_rand_forst_model = rand_forst.fit(X_seas_train, y_seas_train)"
   ]
  },
  {
   "cell_type": "markdown",
   "id": "e63826e8",
   "metadata": {},
   "source": [
    "Making predictions:"
   ]
  },
  {
   "cell_type": "code",
   "execution_count": 56,
   "id": "98832380",
   "metadata": {},
   "outputs": [],
   "source": [
    "seas_rand_forst_trainpreds = seas_rand_forst_model.predict(X_seas_train)\n",
    "seas_rand_forst_testpreds = seas_rand_forst_model.predict(X_seas_test)"
   ]
  },
  {
   "cell_type": "markdown",
   "id": "228f344d",
   "metadata": {},
   "source": [
    "## Model evaluation (RFC only)"
   ]
  },
  {
   "cell_type": "markdown",
   "id": "eb166758",
   "metadata": {},
   "source": [
    "Train data"
   ]
  },
  {
   "cell_type": "code",
   "execution_count": 57,
   "id": "dd7c63de",
   "metadata": {},
   "outputs": [
    {
     "name": "stdout",
     "output_type": "stream",
     "text": [
      "Accuracy: 1.00\n",
      "Recall: 1.00\n",
      "Precision: 1.00\n",
      "F1: 1.00\n",
      "ROC: 1.00\n"
     ]
    }
   ],
   "source": [
    "# Random Forest--Train data evaluation Metrics\n",
    "#check if these metrics are changing compared to previous results\n",
    "seas_rand_forst_train_acc = accuracy_score(y_seas_train, seas_rand_forst_trainpreds)\n",
    "seas_rand_forst_train_recall = recall_score(y_seas_train, seas_rand_forst_trainpreds)\n",
    "seas_rand_forst_train_precision = precision_score(y_seas_train, seas_rand_forst_trainpreds)\n",
    "seas_rand_forst_train_f1 = f1_score(y_seas_train, seas_rand_forst_trainpreds)\n",
    "seas_rand_forst_train_roc = roc_auc_score(y_seas_train, seas_rand_forst_trainpreds)\n",
    "\n",
    "print(\"Accuracy: {:.2f}\".format(seas_rand_forst_train_acc))\n",
    "print(\"Recall: {:.2f}\".format(seas_rand_forst_train_recall))\n",
    "print(\"Precision: {:.2f}\".format(seas_rand_forst_train_precision))\n",
    "print(\"F1: {:.2f}\".format(seas_rand_forst_train_f1))\n",
    "print(\"ROC: {:.2f}\".format(seas_rand_forst_train_roc))"
   ]
  },
  {
   "cell_type": "markdown",
   "id": "f8cc8f6a",
   "metadata": {},
   "source": [
    "Test data"
   ]
  },
  {
   "cell_type": "code",
   "execution_count": 58,
   "id": "14d20f45",
   "metadata": {},
   "outputs": [
    {
     "name": "stdout",
     "output_type": "stream",
     "text": [
      "Accuracy: 0.80\n",
      "Recall: 0.76\n",
      "Precision: 0.80\n",
      "F1: 0.78\n",
      "ROC: 0.80\n"
     ]
    }
   ],
   "source": [
    "# Random Forest--Test data evaluation Metrics\n",
    "#check if these metrics are changing compared to previous results\n",
    "seas_rand_forst_test_acc = accuracy_score(y_seas_test, seas_rand_forst_testpreds)\n",
    "seas_rand_forst_test_recall = recall_score(y_seas_test, seas_rand_forst_testpreds)\n",
    "seas_rand_forst_test_precision = precision_score(y_seas_test, seas_rand_forst_testpreds)\n",
    "seas_rand_forst_test_f1 = f1_score(y_seas_test, seas_rand_forst_testpreds)\n",
    "seas_rand_forst_test_roc = roc_auc_score(y_seas_test, seas_rand_forst_testpreds)\n",
    "\n",
    "print(\"Accuracy: {:.2f}\".format(seas_rand_forst_test_acc))\n",
    "print(\"Recall: {:.2f}\".format(seas_rand_forst_test_recall))\n",
    "print(\"Precision: {:.2f}\".format(seas_rand_forst_test_precision))\n",
    "print(\"F1: {:.2f}\".format(seas_rand_forst_test_f1))\n",
    "print(\"ROC: {:.2f}\".format(seas_rand_forst_test_roc))"
   ]
  },
  {
   "cell_type": "markdown",
   "id": "b2ef4f65",
   "metadata": {},
   "source": [
    "## Error evaluation of model"
   ]
  },
  {
   "cell_type": "markdown",
   "id": "4a7467bf",
   "metadata": {},
   "source": [
    "**Confusion matrix**"
   ]
  },
  {
   "cell_type": "code",
   "execution_count": 59,
   "id": "b87d4470",
   "metadata": {},
   "outputs": [
    {
     "data": {
      "image/png": "[encoded data removed]",
      "text/plain": [
       "<Figure size 432x288 with 2 Axes>"
      ]
     },
     "metadata": {
      "needs_background": "light"
     },
     "output_type": "display_data"
    }
   ],
   "source": [
    "cm = confusion_matrix(y_seas_test, seas_rand_forst_testpreds)\n",
    "sns.heatmap(cm, cmap='Blues', annot=True, fmt='d', linewidths=.5, annot_kws={\"size\":25})\n",
    "plt.title(\"Seasonal flu vaccination prediction\", fontsize=20, y=1.1)\n",
    "plt.ylabel('Actual vaccination status', fontsize=16)\n",
    "plt.xlabel('Predicted vaccination status', fontsize=16)\n",
    "labels = ['Not vaccinated', 'Vaccinated']\n",
    "ax = plt.gca()\n",
    "ax.set_xticklabels(labels, fontsize=14)\n",
    "ax.set_yticklabels(labels, va=\"center\", fontsize=14)\n",
    "ax.yaxis.labelpad = 15\n",
    "ax.xaxis.labelpad = 15"
   ]
  },
  {
   "cell_type": "markdown",
   "id": "b42169be",
   "metadata": {},
   "source": [
    "**ROC curve**"
   ]
  },
  {
   "cell_type": "code",
   "execution_count": 60,
   "id": "4d8f1697",
   "metadata": {},
   "outputs": [
    {
     "data": {
      "image/png": "[encoded data removed]",
      "text/plain": [
       "<Figure size 432x288 with 1 Axes>"
      ]
     },
     "metadata": {
      "needs_background": "light"
     },
     "output_type": "display_data"
    },
    {
     "name": "stdout",
     "output_type": "stream",
     "text": [
      "AUC Random Forest:0.799\n"
     ]
    }
   ],
   "source": [
    "fpr_rand_forst, tpr_rand_forst, thresholds_rand_forst = metrics.roc_curve(y_seas_test, seas_rand_forst_testpreds)\n",
    "\n",
    "plt.plot(fpr_rand_forst, tpr_rand_forst,'r-',label = 'Random Forest')\n",
    "plt.plot([0,1],[0,1],'k-',label='random')\n",
    "plt.plot([0,0,1,1],[0,1,1,1],'g-',label='perfect')\n",
    "plt.legend()\n",
    "plt.xlabel('False Positive Rate')\n",
    "plt.ylabel('True Positive Rate')\n",
    "plt.show()\n",
    "\n",
    "auc_rand_forst = roc_auc_score(y_h1n1_test, rand_forst_testpreds)\n",
    "print('AUC Random Forest:%.3f'% auc_rand_forst)"
   ]
  },
  {
   "cell_type": "code",
   "execution_count": 61,
   "id": "3befa1b6",
   "metadata": {},
   "outputs": [
    {
     "data": {
      "text/plain": [
       "60762"
      ]
     },
     "execution_count": 61,
     "metadata": {},
     "output_type": "execute_result"
    }
   ],
   "source": [
    "df.isnull().sum().sum()"
   ]
  },
  {
   "cell_type": "code",
   "execution_count": 62,
   "id": "6df732a1",
   "metadata": {},
   "outputs": [
    {
     "name": "stdout",
     "output_type": "stream",
     "text": [
      "<class 'pandas.core.frame.DataFrame'>\n",
      "RangeIndex: 26707 entries, 0 to 26706\n",
      "Data columns (total 37 columns):\n",
      " #   Column                       Non-Null Count  Dtype  \n",
      "---  ------                       --------------  -----  \n",
      " 0   h1n1_vaccine                 26707 non-null  int64  \n",
      " 1   seasonal_vaccine             26707 non-null  int64  \n",
      " 2   h1n1_concern                 26615 non-null  float64\n",
      " 3   h1n1_knowledge               26591 non-null  float64\n",
      " 4   behavioral_antiviral_meds    26636 non-null  float64\n",
      " 5   behavioral_avoidance         26499 non-null  float64\n",
      " 6   behavioral_face_mask         26688 non-null  float64\n",
      " 7   behavioral_wash_hands        26665 non-null  float64\n",
      " 8   behavioral_large_gatherings  26620 non-null  float64\n",
      " 9   behavioral_outside_home      26625 non-null  float64\n",
      " 10  behavioral_touch_face        26579 non-null  float64\n",
      " 11  doctor_recc_h1n1             24547 non-null  float64\n",
      " 12  doctor_recc_seasonal         24547 non-null  float64\n",
      " 13  chronic_med_condition        25736 non-null  float64\n",
      " 14  child_under_6_months         25887 non-null  float64\n",
      " 15  health_worker                25903 non-null  float64\n",
      " 16  health_insurance             14433 non-null  float64\n",
      " 17  opinion_h1n1_vacc_effective  26316 non-null  float64\n",
      " 18  opinion_h1n1_risk            26319 non-null  float64\n",
      " 19  opinion_h1n1_sick_from_vacc  26312 non-null  float64\n",
      " 20  opinion_seas_vacc_effective  26245 non-null  float64\n",
      " 21  opinion_seas_risk            26193 non-null  float64\n",
      " 22  opinion_seas_sick_from_vacc  26170 non-null  float64\n",
      " 23  age_group                    26707 non-null  object \n",
      " 24  education                    25300 non-null  object \n",
      " 25  race                         26707 non-null  object \n",
      " 26  sex                          26707 non-null  object \n",
      " 27  income_poverty               22284 non-null  object \n",
      " 28  marital_status               25299 non-null  object \n",
      " 29  rent_or_own                  24665 non-null  object \n",
      " 30  employment_status            25244 non-null  object \n",
      " 31  hhs_geo_region               26707 non-null  object \n",
      " 32  census_msa                   26707 non-null  object \n",
      " 33  household_adults             26458 non-null  float64\n",
      " 34  household_children           26458 non-null  float64\n",
      " 35  employment_industry          13377 non-null  object \n",
      " 36  employment_occupation        13237 non-null  object \n",
      "dtypes: float64(23), int64(2), object(12)\n",
      "memory usage: 7.5+ MB\n"
     ]
    }
   ],
   "source": [
    "df.info()"
   ]
  },
  {
   "cell_type": "markdown",
   "id": "2dafcb79",
   "metadata": {},
   "source": [
    "## Setting up the Grid Search for hyperparameter tuning"
   ]
  },
  {
   "cell_type": "code",
   "execution_count": 85,
   "id": "fe573dcd",
   "metadata": {},
   "outputs": [
    {
     "data": {
      "text/plain": [
       "{'bootstrap': True,\n",
       " 'ccp_alpha': 0.0,\n",
       " 'class_weight': None,\n",
       " 'criterion': 'gini',\n",
       " 'max_depth': None,\n",
       " 'max_features': 'auto',\n",
       " 'max_leaf_nodes': None,\n",
       " 'max_samples': None,\n",
       " 'min_impurity_decrease': 0.0,\n",
       " 'min_impurity_split': None,\n",
       " 'min_samples_leaf': 1,\n",
       " 'min_samples_split': 2,\n",
       " 'min_weight_fraction_leaf': 0.0,\n",
       " 'n_estimators': 100,\n",
       " 'n_jobs': None,\n",
       " 'oob_score': False,\n",
       " 'random_state': None,\n",
       " 'verbose': 0,\n",
       " 'warm_start': False}"
      ]
     },
     "execution_count": 85,
     "metadata": {},
     "output_type": "execute_result"
    }
   ],
   "source": [
    "seas_rand_forst_model.get_params()"
   ]
  },
  {
   "cell_type": "code",
   "execution_count": 86,
   "id": "7c0c71fe",
   "metadata": {},
   "outputs": [
    {
     "data": {
      "text/plain": [
       "dict_keys(['bootstrap', 'ccp_alpha', 'class_weight', 'criterion', 'max_depth', 'max_features', 'max_leaf_nodes', 'max_samples', 'min_impurity_decrease', 'min_impurity_split', 'min_samples_leaf', 'min_samples_split', 'min_weight_fraction_leaf', 'n_estimators', 'n_jobs', 'oob_score', 'random_state', 'verbose', 'warm_start'])"
      ]
     },
     "execution_count": 86,
     "metadata": {},
     "output_type": "execute_result"
    }
   ],
   "source": [
    "seas_rand_forst_model.get_params().keys()"
   ]
  },
  {
   "cell_type": "code",
   "execution_count": 87,
   "id": "02a4c15c",
   "metadata": {},
   "outputs": [],
   "source": [
    "# will need to be adjusted in further runs \n",
    "# the pipeline step is accessed with 'estimators__estimator__'\n",
    "\n",
    "param_grid_unilabel = {\n",
    "    'n_estimators': np.linspace(10, 100, 200).astype(int),\n",
    "    'max_depth': [None] + list(np.linspace(3, 20).astype(int)),\n",
    "    'max_features': ['auto', 'sqrt', None] + list(np.arange(0.5, 1, 0.1)),\n",
    "    'max_leaf_nodes': [None] + list(np.linspace(10, 50, 500).astype(int)),\n",
    "    #'estimators__estimator__min_samples_split': [2, 5, 10],\n",
    "    'bootstrap': [True, False]\n",
    "}"
   ]
  },
  {
   "cell_type": "code",
   "execution_count": 88,
   "id": "46b8795a",
   "metadata": {},
   "outputs": [],
   "source": [
    "# the random search model is created \n",
    "# we define roc_auc as our evaluation metric for the parameter search \n",
    "# set verbose to a higher number next time \n",
    "\n",
    "seas_grid_rand_forst_unilabel = RandomizedSearchCV(seas_rand_forst_model, param_distributions=param_grid_unilabel, cv=5, scoring='roc_auc', verbose=50, n_jobs=-1, n_iter=100)"
   ]
  },
  {
   "cell_type": "markdown",
   "id": "2578010e",
   "metadata": {},
   "source": [
    "## Fitting the grid search to our model"
   ]
  },
  {
   "cell_type": "code",
   "execution_count": 89,
   "id": "b57d0a3e",
   "metadata": {},
   "outputs": [
    {
     "name": "stdout",
     "output_type": "stream",
     "text": [
      "Fitting 5 folds for each of 100 candidates, totalling 500 fits\n",
      "[CV 3/5; 1/100] START bootstrap=True, max_depth=16, max_features=0.7, max_leaf_nodes=24, n_estimators=46\n",
      "[CV 3/5; 1/100] END bootstrap=True, max_depth=16, max_features=0.7, max_leaf_nodes=24, n_estimators=46;, score=0.864 total time=   2.1s\n",
      "[CV 5/5; 3/100] START bootstrap=True, max_depth=10, max_features=0.7, max_leaf_nodes=49, n_estimators=66\n",
      "[CV 5/5; 3/100] END bootstrap=True, max_depth=10, max_features=0.7, max_leaf_nodes=49, n_estimators=66;, score=0.872 total time=   4.0s\n",
      "[CV 2/5; 6/100] START bootstrap=True, max_depth=18, max_features=auto, max_leaf_nodes=35, n_estimators=92\n",
      "[CV 2/5; 6/100] END bootstrap=True, max_depth=18, max_features=auto, max_leaf_nodes=35, n_estimators=92;, score=0.862 total time=   2.0s\n",
      "[CV 5/5; 7/100] START bootstrap=True, max_depth=7, max_features=0.7, max_leaf_nodes=29, n_estimators=13\n",
      "[CV 5/5; 7/100] END bootstrap=True, max_depth=7, max_features=0.7, max_leaf_nodes=29, n_estimators=13;, score=0.864 total time=   0.7s\n",
      "[CV 2/5; 9/100] START bootstrap=True, max_depth=16, max_features=0.7, max_leaf_nodes=36, n_estimators=92\n",
      "[CV 2/5; 9/100] END bootstrap=True, max_depth=16, max_features=0.7, max_leaf_nodes=36, n_estimators=92;, score=0.863 total time=   4.8s\n",
      "[CV 5/5; 11/100] START bootstrap=False, max_depth=18, max_features=0.7999999999999999, max_leaf_nodes=12, n_estimators=46\n",
      "[CV 5/5; 11/100] END bootstrap=False, max_depth=18, max_features=0.7999999999999999, max_leaf_nodes=12, n_estimators=46;, score=0.851 total time=   2.7s\n",
      "[CV 1/5; 13/100] START bootstrap=False, max_depth=16, max_features=sqrt, max_leaf_nodes=13, n_estimators=95\n",
      "[CV 1/5; 13/100] END bootstrap=False, max_depth=16, max_features=sqrt, max_leaf_nodes=13, n_estimators=95;, score=0.854 total time=   1.9s\n",
      "[CV 4/5; 13/100] START bootstrap=False, max_depth=16, max_features=sqrt, max_leaf_nodes=13, n_estimators=95\n",
      "[CV 4/5; 13/100] END bootstrap=False, max_depth=16, max_features=sqrt, max_leaf_nodes=13, n_estimators=95;, score=0.860 total time=   1.6s\n",
      "[CV 3/5; 14/100] START bootstrap=True, max_depth=8, max_features=0.6, max_leaf_nodes=14, n_estimators=86\n",
      "[CV 3/5; 14/100] END bootstrap=True, max_depth=8, max_features=0.6, max_leaf_nodes=14, n_estimators=86;, score=0.857 total time=   3.4s\n",
      "[CV 2/5; 16/100] START bootstrap=True, max_depth=3, max_features=auto, max_leaf_nodes=25, n_estimators=95\n",
      "[CV 2/5; 16/100] END bootstrap=True, max_depth=3, max_features=auto, max_leaf_nodes=25, n_estimators=95;, score=0.851 total time=   1.3s\n",
      "[CV 4/5; 17/100] START bootstrap=False, max_depth=4, max_features=auto, max_leaf_nodes=38, n_estimators=76\n",
      "[CV 4/5; 17/100] END bootstrap=False, max_depth=4, max_features=auto, max_leaf_nodes=38, n_estimators=76;, score=0.859 total time=   1.5s\n",
      "[CV 2/5; 19/100] START bootstrap=True, max_depth=5, max_features=0.8999999999999999, max_leaf_nodes=46, n_estimators=85\n",
      "[CV 2/5; 19/100] END bootstrap=True, max_depth=5, max_features=0.8999999999999999, max_leaf_nodes=46, n_estimators=85;, score=0.858 total time=   4.5s\n",
      "[CV 2/5; 21/100] START bootstrap=False, max_depth=17, max_features=0.7999999999999999, max_leaf_nodes=14, n_estimators=44\n",
      "[CV 2/5; 21/100] END bootstrap=False, max_depth=17, max_features=0.7999999999999999, max_leaf_nodes=14, n_estimators=44;, score=0.846 total time=   2.9s\n",
      "[CV 3/5; 22/100] START bootstrap=False, max_depth=13, max_features=0.6, max_leaf_nodes=20, n_estimators=95\n",
      "[CV 3/5; 22/100] END bootstrap=False, max_depth=13, max_features=0.6, max_leaf_nodes=20, n_estimators=95;, score=0.861 total time=   5.5s\n",
      "[CV 1/5; 26/100] START bootstrap=False, max_depth=11, max_features=0.5, max_leaf_nodes=35, n_estimators=16\n",
      "[CV 1/5; 26/100] END bootstrap=False, max_depth=11, max_features=0.5, max_leaf_nodes=35, n_estimators=16;, score=0.861 total time=   1.0s\n",
      "[CV 4/5; 26/100] START bootstrap=False, max_depth=11, max_features=0.5, max_leaf_nodes=35, n_estimators=16\n",
      "[CV 4/5; 26/100] END bootstrap=False, max_depth=11, max_features=0.5, max_leaf_nodes=35, n_estimators=16;, score=0.868 total time=   0.9s\n",
      "[CV 2/5; 27/100] START bootstrap=True, max_depth=4, max_features=None, max_leaf_nodes=49, n_estimators=92\n",
      "[CV 2/5; 27/100] END bootstrap=True, max_depth=4, max_features=None, max_leaf_nodes=49, n_estimators=92;, score=0.850 total time=   4.8s\n",
      "[CV 4/5; 29/100] START bootstrap=True, max_depth=9, max_features=None, max_leaf_nodes=28, n_estimators=10\n",
      "[CV 4/5; 29/100] END bootstrap=True, max_depth=9, max_features=None, max_leaf_nodes=28, n_estimators=10;, score=0.863 total time=   0.7s\n",
      "[CV 2/5; 31/100] START bootstrap=False, max_depth=10, max_features=0.5, max_leaf_nodes=31, n_estimators=35\n",
      "[CV 2/5; 31/100] END bootstrap=False, max_depth=10, max_features=0.5, max_leaf_nodes=31, n_estimators=35;, score=0.860 total time=   1.8s\n",
      "[CV 5/5; 31/100] START bootstrap=False, max_depth=10, max_features=0.5, max_leaf_nodes=31, n_estimators=35\n",
      "[CV 5/5; 31/100] END bootstrap=False, max_depth=10, max_features=0.5, max_leaf_nodes=31, n_estimators=35;, score=0.867 total time=   1.8s\n",
      "[CV 3/5; 32/100] START bootstrap=False, max_depth=10, max_features=0.8999999999999999, max_leaf_nodes=22, n_estimators=61\n",
      "[CV 3/5; 32/100] END bootstrap=False, max_depth=10, max_features=0.8999999999999999, max_leaf_nodes=22, n_estimators=61;, score=0.858 total time=   4.5s\n",
      "[CV 1/5; 35/100] START bootstrap=False, max_depth=17, max_features=sqrt, max_leaf_nodes=11, n_estimators=14\n",
      "[CV 1/5; 35/100] END bootstrap=False, max_depth=17, max_features=sqrt, max_leaf_nodes=11, n_estimators=14;, score=0.846 total time=   0.3s\n",
      "[CV 2/5; 35/100] START bootstrap=False, max_depth=17, max_features=sqrt, max_leaf_nodes=11, n_estimators=14\n",
      "[CV 2/5; 35/100] END bootstrap=False, max_depth=17, max_features=sqrt, max_leaf_nodes=11, n_estimators=14;, score=0.850 total time=   0.3s\n",
      "[CV 3/5; 35/100] START bootstrap=False, max_depth=17, max_features=sqrt, max_leaf_nodes=11, n_estimators=14\n",
      "[CV 3/5; 35/100] END bootstrap=False, max_depth=17, max_features=sqrt, max_leaf_nodes=11, n_estimators=14;, score=0.853 total time=   0.2s\n",
      "[CV 2/5; 36/100] START bootstrap=False, max_depth=17, max_features=None, max_leaf_nodes=33, n_estimators=14\n",
      "[CV 2/5; 36/100] END bootstrap=False, max_depth=17, max_features=None, max_leaf_nodes=33, n_estimators=14;, score=0.851 total time=   1.3s\n",
      "[CV 3/5; 37/100] START bootstrap=True, max_depth=14, max_features=0.5, max_leaf_nodes=34, n_estimators=88\n",
      "[CV 3/5; 37/100] END bootstrap=True, max_depth=14, max_features=0.5, max_leaf_nodes=34, n_estimators=88;, score=0.868 total time=   3.8s\n",
      "[CV 1/5; 42/100] START bootstrap=False, max_depth=3, max_features=auto, max_leaf_nodes=29, n_estimators=37\n",
      "[CV 1/5; 42/100] END bootstrap=False, max_depth=3, max_features=auto, max_leaf_nodes=29, n_estimators=37;, score=0.850 total time=   0.6s\n",
      "[CV 4/5; 42/100] START bootstrap=False, max_depth=3, max_features=auto, max_leaf_nodes=29, n_estimators=37\n",
      "[CV 4/5; 42/100] END bootstrap=False, max_depth=3, max_features=auto, max_leaf_nodes=29, n_estimators=37;, score=0.850 total time=   0.6s\n",
      "[CV 2/5; 43/100] START bootstrap=False, max_depth=13, max_features=None, max_leaf_nodes=31, n_estimators=47\n",
      "[CV 2/5; 43/100] END bootstrap=False, max_depth=13, max_features=None, max_leaf_nodes=31, n_estimators=47;, score=0.850 total time=   4.9s\n",
      "[CV 5/5; 44/100] START bootstrap=True, max_depth=6, max_features=0.8999999999999999, max_leaf_nodes=14, n_estimators=63\n",
      "[CV 5/5; 44/100] END bootstrap=True, max_depth=6, max_features=0.8999999999999999, max_leaf_nodes=14, n_estimators=63;, score=0.855 total time=   3.4s\n",
      "[CV 4/5; 46/100] START bootstrap=False, max_depth=9, max_features=0.5, max_leaf_nodes=41, n_estimators=92\n",
      "[CV 4/5; 46/100] END bootstrap=False, max_depth=9, max_features=0.5, max_leaf_nodes=41, n_estimators=92;, score=0.870 total time=   5.2s\n",
      "[CV 2/5; 49/100] START bootstrap=True, max_depth=14, max_features=sqrt, max_leaf_nodes=21, n_estimators=47\n",
      "[CV 2/5; 49/100] END bootstrap=True, max_depth=14, max_features=sqrt, max_leaf_nodes=21, n_estimators=47;, score=0.857 total time=   0.9s\n",
      "[CV 1/5; 50/100] START bootstrap=True, max_depth=3, max_features=0.7, max_leaf_nodes=33, n_estimators=55\n",
      "[CV 1/5; 50/100] END bootstrap=True, max_depth=3, max_features=0.7, max_leaf_nodes=33, n_estimators=55;, score=0.838 total time=   1.7s[CV 4/5; 1/100] START bootstrap=True, max_depth=16, max_features=0.7, max_leaf_nodes=24, n_estimators=46\n",
      "[CV 4/5; 1/100] END bootstrap=True, max_depth=16, max_features=0.7, max_leaf_nodes=24, n_estimators=46;, score=0.866 total time=   2.1s\n",
      "[CV 2/5; 4/100] START bootstrap=False, max_depth=10, max_features=0.5, max_leaf_nodes=31, n_estimators=28\n",
      "[CV 2/5; 4/100] END bootstrap=False, max_depth=10, max_features=0.5, max_leaf_nodes=31, n_estimators=28;, score=0.861 total time=   1.4s\n",
      "[CV 5/5; 4/100] START bootstrap=False, max_depth=10, max_features=0.5, max_leaf_nodes=31, n_estimators=28\n",
      "[CV 5/5; 4/100] END bootstrap=False, max_depth=10, max_features=0.5, max_leaf_nodes=31, n_estimators=28;, score=0.867 total time=   1.7s\n",
      "[CV 4/5; 5/100] START bootstrap=False, max_depth=10, max_features=None, max_leaf_nodes=29, n_estimators=26\n",
      "[CV 4/5; 5/100] END bootstrap=False, max_depth=10, max_features=None, max_leaf_nodes=29, n_estimators=26;, score=0.854 total time=   2.7s\n",
      "[CV 2/5; 7/100] START bootstrap=True, max_depth=7, max_features=0.7, max_leaf_nodes=29, n_estimators=13\n",
      "[CV 2/5; 7/100] END bootstrap=True, max_depth=7, max_features=0.7, max_leaf_nodes=29, n_estimators=13;, score=0.858 total time=   0.7s\n",
      "[CV 4/5; 8/100] START bootstrap=True, max_depth=15, max_features=0.5, max_leaf_nodes=34, n_estimators=91\n",
      "[CV 4/5; 8/100] END bootstrap=True, max_depth=15, max_features=0.5, max_leaf_nodes=34, n_estimators=91;, score=0.870 total time=   3.7s\n",
      "[CV 2/5; 10/100] START bootstrap=False, max_depth=5, max_features=auto, max_leaf_nodes=16, n_estimators=24\n",
      "[CV 2/5; 10/100] END bootstrap=False, max_depth=5, max_features=auto, max_leaf_nodes=16, n_estimators=24;, score=0.855 total time=   0.5s\n",
      "[CV 5/5; 10/100] START bootstrap=False, max_depth=5, max_features=auto, max_leaf_nodes=16, n_estimators=24\n",
      "[CV 5/5; 10/100] END bootstrap=False, max_depth=5, max_features=auto, max_leaf_nodes=16, n_estimators=24;, score=0.858 total time=   0.5s\n",
      "[CV 3/5; 11/100] START bootstrap=False, max_depth=18, max_features=0.7999999999999999, max_leaf_nodes=12, n_estimators=46\n",
      "[CV 3/5; 11/100] END bootstrap=False, max_depth=18, max_features=0.7999999999999999, max_leaf_nodes=12, n_estimators=46;, score=0.850 total time=   2.6s\n",
      "[CV 4/5; 12/100] START bootstrap=True, max_depth=6, max_features=None, max_leaf_nodes=37, n_estimators=75\n",
      "[CV 4/5; 12/100] END bootstrap=True, max_depth=6, max_features=None, max_leaf_nodes=37, n_estimators=75;, score=0.868 total time=   5.1s\n",
      "[CV 2/5; 15/100] START bootstrap=True, max_depth=20, max_features=0.7999999999999999, max_leaf_nodes=17, n_estimators=52\n",
      "[CV 2/5; 15/100] END bootstrap=True, max_depth=20, max_features=0.7999999999999999, max_leaf_nodes=17, n_estimators=52;, score=0.854 total time=   2.7s\n",
      "[CV 4/5; 16/100] START bootstrap=True, max_depth=3, max_features=auto, max_leaf_nodes=25, n_estimators=95\n",
      "[CV 4/5; 16/100] END bootstrap=True, max_depth=3, max_features=auto, max_leaf_nodes=25, n_estimators=95;, score=0.853 total time=   1.3s\n",
      "[CV 2/5; 18/100] START bootstrap=False, max_depth=7, max_features=0.7, max_leaf_nodes=44, n_estimators=58\n",
      "[CV 2/5; 18/100] END bootstrap=False, max_depth=7, max_features=0.7, max_leaf_nodes=44, n_estimators=58;, score=0.862 total time=   4.4s\n",
      "[CV 5/5; 19/100] START bootstrap=True, max_depth=5, max_features=0.8999999999999999, max_leaf_nodes=46, n_estimators=85\n",
      "[CV 5/5; 19/100] END bootstrap=True, max_depth=5, max_features=0.8999999999999999, max_leaf_nodes=46, n_estimators=85;, score=0.863 total time=   4.4s\n",
      "[CV 1/5; 23/100] START bootstrap=True, max_depth=18, max_features=sqrt, max_leaf_nodes=11, n_estimators=33\n",
      "[CV 1/5; 23/100] END bootstrap=True, max_depth=18, max_features=sqrt, max_leaf_nodes=11, n_estimators=33;, score=0.853 total time=   0.6s\n",
      "[CV 4/5; 23/100] START bootstrap=True, max_depth=18, max_features=sqrt, max_leaf_nodes=11, n_estimators=33\n",
      "[CV 4/5; 23/100] END bootstrap=True, max_depth=18, max_features=sqrt, max_leaf_nodes=11, n_estimators=33;, score=0.856 total time=   0.5s\n",
      "[CV 2/5; 24/100] START bootstrap=True, max_depth=15, max_features=None, max_leaf_nodes=28, n_estimators=14\n",
      "[CV 2/5; 24/100] END bootstrap=True, max_depth=15, max_features=None, max_leaf_nodes=28, n_estimators=14;, score=0.857 total time=   0.9s\n",
      "[CV 5/5; 24/100] START bootstrap=True, max_depth=15, max_features=None, max_leaf_nodes=28, n_estimators=14\n",
      "[CV 5/5; 24/100] END bootstrap=True, max_depth=15, max_features=None, max_leaf_nodes=28, n_estimators=14;, score=0.862 total time=   1.1s\n",
      "[CV 4/5; 25/100] START bootstrap=False, max_depth=17, max_features=0.7999999999999999, max_leaf_nodes=49, n_estimators=53\n",
      "[CV 4/5; 25/100] END bootstrap=False, max_depth=17, max_features=0.7999999999999999, max_leaf_nodes=49, n_estimators=53;, score=0.868 total time=   5.2s\n",
      "[CV 2/5; 28/100] START bootstrap=False, max_depth=4, max_features=0.7999999999999999, max_leaf_nodes=50, n_estimators=32\n",
      "[CV 2/5; 28/100] END bootstrap=False, max_depth=4, max_features=0.7999999999999999, max_leaf_nodes=50, n_estimators=32;, score=0.851 total time=   1.9s\n",
      "[CV 5/5; 28/100] START bootstrap=False, max_depth=4, max_features=0.7999999999999999, max_leaf_nodes=50, n_estimators=32\n",
      "[CV 5/5; 28/100] END bootstrap=False, max_depth=4, max_features=0.7999999999999999, max_leaf_nodes=50, n_estimators=32;, score=0.851 total time=   1.6s\n",
      "[CV 1/5; 30/100] START bootstrap=False, max_depth=15, max_features=None, max_leaf_nodes=35, n_estimators=76\n",
      "[CV 1/5; 30/100] END bootstrap=False, max_depth=15, max_features=None, max_leaf_nodes=35, n_estimators=76;, score=0.853 total time=   7.3s\n",
      "[CV 1/5; 33/100] START bootstrap=False, max_depth=16, max_features=0.7, max_leaf_nodes=10, n_estimators=10\n",
      "[CV 1/5; 33/100] END bootstrap=False, max_depth=16, max_features=0.7, max_leaf_nodes=10, n_estimators=10;, score=0.841 total time=   0.5s\n",
      "[CV 5/5; 33/100] START bootstrap=False, max_depth=16, max_features=0.7, max_leaf_nodes=10, n_estimators=10\n",
      "[CV 5/5; 33/100] END bootstrap=False, max_depth=16, max_features=0.7, max_leaf_nodes=10, n_estimators=10;, score=0.841 total time=   0.5s\n",
      "[CV 4/5; 34/100] START bootstrap=True, max_depth=13, max_features=auto, max_leaf_nodes=12, n_estimators=83\n",
      "[CV 4/5; 34/100] END bootstrap=True, max_depth=13, max_features=auto, max_leaf_nodes=12, n_estimators=83;, score=0.858 total time=   1.3s\n",
      "[CV 5/5; 36/100] START bootstrap=False, max_depth=17, max_features=None, max_leaf_nodes=33, n_estimators=14\n",
      "[CV 5/5; 36/100] END bootstrap=False, max_depth=17, max_features=None, max_leaf_nodes=33, n_estimators=14;, score=0.854 total time=   1.4s\n",
      "[CV 1/5; 38/100] START bootstrap=True, max_depth=14, max_features=0.7, max_leaf_nodes=24, n_estimators=14\n",
      "[CV 1/5; 38/100] END bootstrap=True, max_depth=14, max_features=0.7, max_leaf_nodes=24, n_estimators=14;, score=0.855 total time=   0.7s\n",
      "[CV 4/5; 38/100] START bootstrap=True, max_depth=14, max_features=0.7, max_leaf_nodes=24, n_estimators=14\n",
      "[CV 4/5; 38/100] END bootstrap=True, max_depth=14, max_features=0.7, max_leaf_nodes=24, n_estimators=14;, score=0.867 total time=   0.7s\n",
      "[CV 3/5; 39/100] START bootstrap=False, max_depth=3, max_features=sqrt, max_leaf_nodes=23, n_estimators=10\n",
      "[CV 3/5; 39/100] END bootstrap=False, max_depth=3, max_features=sqrt, max_leaf_nodes=23, n_estimators=10;, score=0.846 total time=   0.1s\n",
      "[CV 5/5; 39/100] START bootstrap=False, max_depth=3, max_features=sqrt, max_leaf_nodes=23, n_estimators=10\n",
      "[CV 5/5; 39/100] END bootstrap=False, max_depth=3, max_features=sqrt, max_leaf_nodes=23, n_estimators=10;, score=0.850 total time=   0.2s\n",
      "[CV 2/5; 40/100] START bootstrap=False, max_depth=12, max_features=sqrt, max_leaf_nodes=28, n_estimators=12\n",
      "[CV 2/5; 40/100] END bootstrap=False, max_depth=12, max_features=sqrt, max_leaf_nodes=28, n_estimators=12;, score=0.858 total time=   0.3s\n",
      "[CV 5/5; 40/100] START bootstrap=False, max_depth=12, max_features=sqrt, max_leaf_nodes=28, n_estimators=12\n",
      "[CV 5/5; 40/100] END bootstrap=False, max_depth=12, max_features=sqrt, max_leaf_nodes=28, n_estimators=12;, score=0.862 total time=   0.4s\n",
      "[CV 3/5; 41/100] START bootstrap=True, max_depth=7, max_features=0.8999999999999999, max_leaf_nodes=43, n_estimators=70\n",
      "[CV 3/5; 41/100] END bootstrap=True, max_depth=7, max_features=0.8999999999999999, max_leaf_nodes=43, n_estimators=70;, score=0.868 total time=   5.0s[CV 2/5; 1/100] START bootstrap=True, max_depth=16, max_features=0.7, max_leaf_nodes=24, n_estimators=46\n",
      "[CV 2/5; 1/100] END bootstrap=True, max_depth=16, max_features=0.7, max_leaf_nodes=24, n_estimators=46;, score=0.860 total time=   2.1s\n",
      "[CV 1/5; 4/100] START bootstrap=False, max_depth=10, max_features=0.5, max_leaf_nodes=31, n_estimators=28\n",
      "[CV 1/5; 4/100] END bootstrap=False, max_depth=10, max_features=0.5, max_leaf_nodes=31, n_estimators=28;, score=0.860 total time=   1.4s\n",
      "[CV 4/5; 4/100] START bootstrap=False, max_depth=10, max_features=0.5, max_leaf_nodes=31, n_estimators=28\n",
      "[CV 4/5; 4/100] END bootstrap=False, max_depth=10, max_features=0.5, max_leaf_nodes=31, n_estimators=28;, score=0.867 total time=   1.7s\n",
      "[CV 3/5; 5/100] START bootstrap=False, max_depth=10, max_features=None, max_leaf_nodes=29, n_estimators=26\n",
      "[CV 3/5; 5/100] END bootstrap=False, max_depth=10, max_features=None, max_leaf_nodes=29, n_estimators=26;, score=0.855 total time=   2.7s\n",
      "[CV 3/5; 7/100] START bootstrap=True, max_depth=7, max_features=0.7, max_leaf_nodes=29, n_estimators=13\n",
      "[CV 3/5; 7/100] END bootstrap=True, max_depth=7, max_features=0.7, max_leaf_nodes=29, n_estimators=13;, score=0.864 total time=   0.7s\n",
      "[CV 5/5; 8/100] START bootstrap=True, max_depth=15, max_features=0.5, max_leaf_nodes=34, n_estimators=91\n",
      "[CV 5/5; 8/100] END bootstrap=True, max_depth=15, max_features=0.5, max_leaf_nodes=34, n_estimators=91;, score=0.869 total time=   3.6s\n",
      "[CV 3/5; 10/100] START bootstrap=False, max_depth=5, max_features=auto, max_leaf_nodes=16, n_estimators=24\n",
      "[CV 3/5; 10/100] END bootstrap=False, max_depth=5, max_features=auto, max_leaf_nodes=16, n_estimators=24;, score=0.863 total time=   0.5s\n",
      "[CV 1/5; 11/100] START bootstrap=False, max_depth=18, max_features=0.7999999999999999, max_leaf_nodes=12, n_estimators=46\n",
      "[CV 1/5; 11/100] END bootstrap=False, max_depth=18, max_features=0.7999999999999999, max_leaf_nodes=12, n_estimators=46;, score=0.844 total time=   2.7s\n",
      "[CV 2/5; 12/100] START bootstrap=True, max_depth=6, max_features=None, max_leaf_nodes=37, n_estimators=75\n",
      "[CV 2/5; 12/100] END bootstrap=True, max_depth=6, max_features=None, max_leaf_nodes=37, n_estimators=75;, score=0.861 total time=   5.0s\n",
      "[CV 5/5; 14/100] START bootstrap=True, max_depth=8, max_features=0.6, max_leaf_nodes=14, n_estimators=86\n",
      "[CV 5/5; 14/100] END bootstrap=True, max_depth=8, max_features=0.6, max_leaf_nodes=14, n_estimators=86;, score=0.858 total time=   3.5s\n",
      "[CV 5/5; 16/100] START bootstrap=True, max_depth=3, max_features=auto, max_leaf_nodes=25, n_estimators=95\n",
      "[CV 5/5; 16/100] END bootstrap=True, max_depth=3, max_features=auto, max_leaf_nodes=25, n_estimators=95;, score=0.853 total time=   1.4s\n",
      "[CV 3/5; 18/100] START bootstrap=False, max_depth=7, max_features=0.7, max_leaf_nodes=44, n_estimators=58\n",
      "[CV 3/5; 18/100] END bootstrap=False, max_depth=7, max_features=0.7, max_leaf_nodes=44, n_estimators=58;, score=0.866 total time=   4.3s\n",
      "[CV 1/5; 20/100] START bootstrap=False, max_depth=None, max_features=0.5, max_leaf_nodes=49, n_estimators=13\n",
      "[CV 1/5; 20/100] END bootstrap=False, max_depth=None, max_features=0.5, max_leaf_nodes=49, n_estimators=13;, score=0.863 total time=   0.7s\n",
      "[CV 4/5; 20/100] START bootstrap=False, max_depth=None, max_features=0.5, max_leaf_nodes=49, n_estimators=13\n",
      "[CV 4/5; 20/100] END bootstrap=False, max_depth=None, max_features=0.5, max_leaf_nodes=49, n_estimators=13;, score=0.870 total time=   0.7s\n",
      "[CV 5/5; 21/100] START bootstrap=False, max_depth=17, max_features=0.7999999999999999, max_leaf_nodes=14, n_estimators=44\n",
      "[CV 5/5; 21/100] END bootstrap=False, max_depth=17, max_features=0.7999999999999999, max_leaf_nodes=14, n_estimators=44;, score=0.853 total time=   2.9s\n",
      "[CV 3/5; 23/100] START bootstrap=True, max_depth=18, max_features=sqrt, max_leaf_nodes=11, n_estimators=33\n",
      "[CV 3/5; 23/100] END bootstrap=True, max_depth=18, max_features=sqrt, max_leaf_nodes=11, n_estimators=33;, score=0.857 total time=   0.5s\n",
      "[CV 1/5; 24/100] START bootstrap=True, max_depth=15, max_features=None, max_leaf_nodes=28, n_estimators=14\n",
      "[CV 1/5; 24/100] END bootstrap=True, max_depth=15, max_features=None, max_leaf_nodes=28, n_estimators=14;, score=0.858 total time=   1.0s\n",
      "[CV 4/5; 24/100] START bootstrap=True, max_depth=15, max_features=None, max_leaf_nodes=28, n_estimators=14\n",
      "[CV 4/5; 24/100] END bootstrap=True, max_depth=15, max_features=None, max_leaf_nodes=28, n_estimators=14;, score=0.866 total time=   1.0s\n",
      "[CV 3/5; 25/100] START bootstrap=False, max_depth=17, max_features=0.7999999999999999, max_leaf_nodes=49, n_estimators=53\n",
      "[CV 3/5; 25/100] END bootstrap=False, max_depth=17, max_features=0.7999999999999999, max_leaf_nodes=49, n_estimators=53;, score=0.865 total time=   5.2s\n",
      "[CV 1/5; 28/100] START bootstrap=False, max_depth=4, max_features=0.7999999999999999, max_leaf_nodes=50, n_estimators=32\n",
      "[CV 1/5; 28/100] END bootstrap=False, max_depth=4, max_features=0.7999999999999999, max_leaf_nodes=50, n_estimators=32;, score=0.849 total time=   1.9s\n",
      "[CV 3/5; 28/100] START bootstrap=False, max_depth=4, max_features=0.7999999999999999, max_leaf_nodes=50, n_estimators=32\n",
      "[CV 3/5; 28/100] END bootstrap=False, max_depth=4, max_features=0.7999999999999999, max_leaf_nodes=50, n_estimators=32;, score=0.851 total time=   1.7s\n",
      "[CV 2/5; 29/100] START bootstrap=True, max_depth=9, max_features=None, max_leaf_nodes=28, n_estimators=10\n",
      "[CV 2/5; 29/100] END bootstrap=True, max_depth=9, max_features=None, max_leaf_nodes=28, n_estimators=10;, score=0.855 total time=   0.7s\n",
      "[CV 4/5; 30/100] START bootstrap=False, max_depth=15, max_features=None, max_leaf_nodes=35, n_estimators=76\n",
      "[CV 4/5; 30/100] END bootstrap=False, max_depth=15, max_features=None, max_leaf_nodes=35, n_estimators=76;, score=0.858 total time=   7.3s\n",
      "[CV 3/5; 33/100] START bootstrap=False, max_depth=16, max_features=0.7, max_leaf_nodes=10, n_estimators=10\n",
      "[CV 3/5; 33/100] END bootstrap=False, max_depth=16, max_features=0.7, max_leaf_nodes=10, n_estimators=10;, score=0.843 total time=   0.5s\n",
      "[CV 2/5; 34/100] START bootstrap=True, max_depth=13, max_features=auto, max_leaf_nodes=12, n_estimators=83\n",
      "[CV 2/5; 34/100] END bootstrap=True, max_depth=13, max_features=auto, max_leaf_nodes=12, n_estimators=83;, score=0.854 total time=   1.4s\n",
      "[CV 5/5; 35/100] START bootstrap=False, max_depth=17, max_features=sqrt, max_leaf_nodes=11, n_estimators=14\n",
      "[CV 5/5; 35/100] END bootstrap=False, max_depth=17, max_features=sqrt, max_leaf_nodes=11, n_estimators=14;, score=0.855 total time=   0.2s\n",
      "[CV 4/5; 36/100] START bootstrap=False, max_depth=17, max_features=None, max_leaf_nodes=33, n_estimators=14\n",
      "[CV 4/5; 36/100] END bootstrap=False, max_depth=17, max_features=None, max_leaf_nodes=33, n_estimators=14;, score=0.857 total time=   1.4s\n",
      "[CV 5/5; 37/100] START bootstrap=True, max_depth=14, max_features=0.5, max_leaf_nodes=34, n_estimators=88\n",
      "[CV 5/5; 37/100] END bootstrap=True, max_depth=14, max_features=0.5, max_leaf_nodes=34, n_estimators=88;, score=0.869 total time=   3.8s\n",
      "[CV 3/5; 42/100] START bootstrap=False, max_depth=3, max_features=auto, max_leaf_nodes=29, n_estimators=37\n",
      "[CV 3/5; 42/100] END bootstrap=False, max_depth=3, max_features=auto, max_leaf_nodes=29, n_estimators=37;, score=0.851 total time=   0.6s\n",
      "[CV 1/5; 43/100] START bootstrap=False, max_depth=13, max_features=None, max_leaf_nodes=31, n_estimators=47\n",
      "[CV 1/5; 43/100] END bootstrap=False, max_depth=13, max_features=None, max_leaf_nodes=31, n_estimators=47;, score=0.850 total time=   4.7s\n",
      "[CV 4/5; 44/100] START bootstrap=True, max_depth=6, max_features=0.8999999999999999, max_leaf_nodes=14, n_estimators=63\n",
      "[CV 4/5; 44/100] END bootstrap=True, max_depth=6, max_features=0.8999999999999999, max_leaf_nodes=14, n_estimators=63;, score=0.855 total time=   3.5s\n",
      "[CV 3/5; 46/100] START bootstrap=False, max_depth=9, max_features=0.5, max_leaf_nodes=41, n_estimators=92\n",
      "[CV 3/5; 46/100] END bootstrap=False, max_depth=9, max_features=0.5, max_leaf_nodes=41, n_estimators=92;, score=0.868 total time=   5.2s\n",
      "[CV 5/5; 48/100] START bootstrap=False, max_depth=18, max_features=auto, max_leaf_nodes=37, n_estimators=99\n",
      "[CV 5/5; 48/100] END bootstrap=False, max_depth=18, max_features=auto, max_leaf_nodes=37, n_estimators=99;, score=0.869 total time=   2.3s"
     ]
    }
   ],
   "source": [
    "seas_rand_forst_unilabel = seas_grid_rand_forst_unilabel.fit(X_seas_train, y_seas_train)"
   ]
  },
  {
   "cell_type": "code",
   "execution_count": 90,
   "id": "42777140",
   "metadata": {},
   "outputs": [
    {
     "name": "stdout",
     "output_type": "stream",
     "text": [
      "Best score:\n",
      "0.87\n",
      "Best parameters:\n",
      "{'n_estimators': 66, 'max_leaf_nodes': 49, 'max_features': 0.7, 'max_depth': 10, 'bootstrap': True}\n"
     ]
    }
   ],
   "source": [
    "# Show best parameters\n",
    "print('Best score:\\n{:.2f}'.format(seas_rand_forst_unilabel.best_score_))\n",
    "print(\"Best parameters:\\n{}\".format(seas_rand_forst_unilabel.best_params_))"
   ]
  },
  {
   "cell_type": "code",
   "execution_count": 96,
   "id": "d7a57322",
   "metadata": {},
   "outputs": [],
   "source": [
    "# running model manually using the best hyperparameters\n",
    "\n",
    "best_rand_forst= RandomForestClassifier(n_estimators= 66, max_leaf_nodes=49, max_features=0.7, max_depth=10, bootstrap=True)"
   ]
  },
  {
   "cell_type": "code",
   "execution_count": 98,
   "id": "e363e75a",
   "metadata": {},
   "outputs": [],
   "source": [
    "best_rand_forst_model = best_rand_forst.fit(X_seas_train, y_seas_train)"
   ]
  },
  {
   "cell_type": "code",
   "execution_count": 91,
   "id": "d7a04b07",
   "metadata": {},
   "outputs": [],
   "source": [
    "# Save best model\n",
    "\n",
    "#best_seas_model_rand_forst_unilabel = seas_rand_forst_unilabel.best_estimator_"
   ]
  },
  {
   "cell_type": "code",
   "execution_count": 99,
   "id": "03a8a15b",
   "metadata": {},
   "outputs": [],
   "source": [
    "# Make predictions using the best model\n",
    "\n",
    "best_model_seas_train = best_rand_forst_model.predict(X_seas_train)\n",
    "\n",
    "best_model_seas_test = best_rand_forst_model.predict(X_seas_test)"
   ]
  },
  {
   "cell_type": "markdown",
   "id": "5637f946",
   "metadata": {},
   "source": [
    "## Best model evaluation (RFC, hyperparameter turned)"
   ]
  },
  {
   "cell_type": "markdown",
   "id": "098dca90",
   "metadata": {},
   "source": [
    "Train data"
   ]
  },
  {
   "cell_type": "code",
   "execution_count": 100,
   "id": "cb603418",
   "metadata": {},
   "outputs": [
    {
     "name": "stdout",
     "output_type": "stream",
     "text": [
      "Accuracy: 0.80\n",
      "Recall: 0.77\n",
      "Precision: 0.80\n",
      "F1: 0.78\n",
      "ROC: 0.80\n"
     ]
    }
   ],
   "source": [
    "# Random Forest--Train data evaluation Metrics\n",
    "#check if these metrics are changing compared to previous results\n",
    "seas_best_train_acc = accuracy_score(y_seas_train, best_model_seas_train)\n",
    "seas_best_train_recall = recall_score(y_seas_train, best_model_seas_train)\n",
    "seas_best_train_precision = precision_score(y_seas_train, best_model_seas_train)\n",
    "seas_best_train_f1 = f1_score(y_seas_train, best_model_seas_train)\n",
    "seas_best_train_roc = roc_auc_score(y_seas_train, best_model_seas_train)\n",
    "\n",
    "print(\"Accuracy: {:.2f}\".format(seas_best_train_acc))\n",
    "print(\"Recall: {:.2f}\".format(seas_best_train_recall))\n",
    "print(\"Precision: {:.2f}\".format(seas_best_train_precision))\n",
    "print(\"F1: {:.2f}\".format(seas_best_train_f1))\n",
    "print(\"ROC: {:.2f}\".format(seas_best_train_roc))"
   ]
  },
  {
   "cell_type": "markdown",
   "id": "b14b5984",
   "metadata": {},
   "source": [
    "Test data"
   ]
  },
  {
   "cell_type": "code",
   "execution_count": 101,
   "id": "7b5ec3fe",
   "metadata": {},
   "outputs": [
    {
     "name": "stdout",
     "output_type": "stream",
     "text": [
      "Accuracy: 0.79\n",
      "Recall: 0.75\n",
      "Precision: 0.80\n",
      "F1: 0.77\n",
      "ROC: 0.79\n"
     ]
    }
   ],
   "source": [
    "# Random Forest--Test data evaluation Metrics\n",
    "#check if these metrics are changing compared to previous results\n",
    "seas_best_test_acc = accuracy_score(y_seas_test, best_model_seas_test)\n",
    "seas_best_test_recall = recall_score(y_seas_test, best_model_seas_test)\n",
    "seas_best_test_precision = precision_score(y_seas_test, best_model_seas_test)\n",
    "seas_best_test_f1 = f1_score(y_seas_test, best_model_seas_test)\n",
    "seas_best_test_roc = roc_auc_score(y_seas_test, best_model_seas_test)\n",
    "\n",
    "print(\"Accuracy: {:.2f}\".format(seas_best_test_acc))\n",
    "print(\"Recall: {:.2f}\".format(seas_best_test_recall))\n",
    "print(\"Precision: {:.2f}\".format(seas_best_test_precision))\n",
    "print(\"F1: {:.2f}\".format(seas_best_test_f1))\n",
    "print(\"ROC: {:.2f}\".format(seas_best_test_roc))"
   ]
  },
  {
   "cell_type": "markdown",
   "id": "1362ecf4",
   "metadata": {},
   "source": [
    "## Error evaluation of model (after hyperparameter tuning)"
   ]
  },
  {
   "cell_type": "markdown",
   "id": "2a614b6b",
   "metadata": {},
   "source": [
    "**Confusion matrix**"
   ]
  },
  {
   "cell_type": "code",
   "execution_count": 102,
   "id": "8ba4e3d5",
   "metadata": {},
   "outputs": [
    {
     "data": {
      "image/png": "[encoded data removed]",
      "text/plain": [
       "<Figure size 432x288 with 2 Axes>"
      ]
     },
     "metadata": {
      "needs_background": "light"
     },
     "output_type": "display_data"
    }
   ],
   "source": [
    "cm = confusion_matrix(y_seas_test, best_model_seas_test)\n",
    "sns.heatmap(cm, cmap='Blues', annot=True, fmt='d', linewidths=.5, annot_kws={\"size\":25})\n",
    "plt.title(\"Seasonal flu vaccination prediction\", fontsize=20, y=1.1)\n",
    "plt.ylabel('Actual vaccination status', fontsize=16)\n",
    "plt.xlabel('Predicted vaccination status', fontsize=16)\n",
    "labels = ['Not vaccinated', 'Vaccinated']\n",
    "ax = plt.gca()\n",
    "ax.set_xticklabels(labels, fontsize=14)\n",
    "ax.set_yticklabels(labels, va=\"center\", fontsize=14)\n",
    "ax.yaxis.labelpad = 15\n",
    "ax.xaxis.labelpad = 15"
   ]
  },
  {
   "cell_type": "markdown",
   "id": "3faf9381",
   "metadata": {},
   "source": [
    "**ROC curve**"
   ]
  },
  {
   "cell_type": "code",
   "execution_count": 103,
   "id": "b7086d4e",
   "metadata": {},
   "outputs": [
    {
     "data": {
      "image/png": "[encoded data removed]",
      "text/plain": [
       "<Figure size 432x288 with 1 Axes>"
      ]
     },
     "metadata": {
      "needs_background": "light"
     },
     "output_type": "display_data"
    },
    {
     "name": "stdout",
     "output_type": "stream",
     "text": [
      "AUC Random Forest:0.792\n"
     ]
    }
   ],
   "source": [
    "fpr_rand_forst, tpr_rand_forst, thresholds_rand_forst = metrics.roc_curve(y_seas_test, best_model_seas_test)\n",
    "\n",
    "plt.plot(fpr_rand_forst, tpr_rand_forst,'r-',label = 'Random Forest')\n",
    "plt.plot([0,1],[0,1],'k-',label='random')\n",
    "plt.plot([0,0,1,1],[0,1,1,1],'g-',label='perfect')\n",
    "plt.legend()\n",
    "plt.xlabel('False Positive Rate')\n",
    "plt.ylabel('True Positive Rate')\n",
    "plt.show()\n",
    "\n",
    "auc_rand_forst = roc_auc_score(y_seas_test, best_model_seas_test)\n",
    "print('AUC Random Forest:%.3f'% auc_rand_forst)"
   ]
  },
  {
   "cell_type": "code",
   "execution_count": null,
   "id": "729c4648",
   "metadata": {},
   "outputs": [],
   "source": []
  }
 ],
 "metadata": {
  "kernelspec": {
   "display_name": "Python 3 (ipykernel)",
   "language": "python",
   "name": "python3"
  },
  "language_info": {
   "codemirror_mode": {
    "name": "ipython",
    "version": 3
   },
   "file_extension": ".py",
   "mimetype": "text/x-python",
   "name": "python",
   "nbconvert_exporter": "python",
   "pygments_lexer": "ipython3",
   "version": "3.8.5"
  }
 },
 "nbformat": 4,
 "nbformat_minor": 5
}
