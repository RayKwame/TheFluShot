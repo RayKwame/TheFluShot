{
 "cells": [
  {
   "cell_type": "code",
   "execution_count": 1,
   "metadata": {
    "slideshow": {
     "slide_type": "skip"
    }
   },
   "outputs": [],
   "source": [
    "import sys\n",
    "# adding to the path variables the one folder higher (locally, not changing system variables)\n",
    "sys.path.append(\"..\")\n",
    "import pandas as pd\n",
    "import numpy as np\n",
    "import warnings\n",
    "import mlflow\n",
    "from modeling.config import TRACKING_URI, EXPERIMENT_NAME\n",
    "\n",
    "RSEED = 42\n",
    "# Modeling Libraries\n",
    "\n",
    "import numpy as np\n",
    "import pandas as pd\n",
    "import matplotlib.pyplot as plt\n",
    "import seaborn as sns\n",
    "\n",
    "\n",
    "from sklearn.dummy import DummyClassifier\n",
    "from sklearn.multioutput import MultiOutputClassifier\n",
    "from sklearn.pipeline import Pipeline\n",
    "from sklearn.compose import ColumnTransformer\n",
    "from sklearn.preprocessing import OneHotEncoder, StandardScaler\n",
    "from sklearn.impute import SimpleImputer\n",
    "from sklearn.model_selection import train_test_split\n",
    "from sklearn.model_selection import GridSearchCV, RandomizedSearchCV\n",
    "from sklearn.model_selection import cross_val_predict, cross_val_score, cross_validate\n",
    "from sklearn.metrics import roc_curve, confusion_matrix, accuracy_score, recall_score, precision_score, f1_score, roc_auc_score\n",
    "\n",
    "from sklearn.linear_model import LogisticRegression\n",
    "\n",
    "\n",
    "\n",
    "warnings.filterwarnings('ignore')\n"
   ]
  },
  {
   "cell_type": "code",
   "execution_count": 2,
   "metadata": {
    "slideshow": {
     "slide_type": "skip"
    }
   },
   "outputs": [],
   "source": [
    "df_features = pd.read_csv('../data/Flu_Shot_Learning_Predict_H1N1_and_Seasonal_Flu_Vaccines_-_Training_Features.csv')"
   ]
  },
  {
   "cell_type": "code",
   "execution_count": 3,
   "metadata": {},
   "outputs": [],
   "source": [
    "df_target = pd.read_csv('../data/Flu_Shot_Learning_Predict_H1N1_and_Seasonal_Flu_Vaccines_-_Training_Labels.csv')"
   ]
  },
  {
   "cell_type": "code",
   "execution_count": 4,
   "metadata": {},
   "outputs": [
    {
     "name": "stdout",
     "output_type": "stream",
     "text": [
      "<class 'pandas.core.frame.DataFrame'>\n",
      "RangeIndex: 26707 entries, 0 to 26706\n",
      "Data columns (total 3 columns):\n",
      " #   Column            Non-Null Count  Dtype\n",
      "---  ------            --------------  -----\n",
      " 0   respondent_id     26707 non-null  int64\n",
      " 1   h1n1_vaccine      26707 non-null  int64\n",
      " 2   seasonal_vaccine  26707 non-null  int64\n",
      "dtypes: int64(3)\n",
      "memory usage: 626.1 KB\n"
     ]
    }
   ],
   "source": [
    "# Get info for the target\n",
    "df_target.info()"
   ]
  },
  {
   "cell_type": "code",
   "execution_count": 5,
   "metadata": {},
   "outputs": [
    {
     "data": {
      "text/plain": [
       "respondent_id                      0\n",
       "h1n1_concern                      92\n",
       "h1n1_knowledge                   116\n",
       "behavioral_antiviral_meds         71\n",
       "behavioral_avoidance             208\n",
       "behavioral_face_mask              19\n",
       "behavioral_wash_hands             42\n",
       "behavioral_large_gatherings       87\n",
       "behavioral_outside_home           82\n",
       "behavioral_touch_face            128\n",
       "doctor_recc_h1n1                2160\n",
       "doctor_recc_seasonal            2160\n",
       "chronic_med_condition            971\n",
       "child_under_6_months             820\n",
       "health_worker                    804\n",
       "health_insurance               12274\n",
       "opinion_h1n1_vacc_effective      391\n",
       "opinion_h1n1_risk                388\n",
       "opinion_h1n1_sick_from_vacc      395\n",
       "opinion_seas_vacc_effective      462\n",
       "opinion_seas_risk                514\n",
       "opinion_seas_sick_from_vacc      537\n",
       "age_group                          0\n",
       "education                       1407\n",
       "race                               0\n",
       "sex                                0\n",
       "income_poverty                  4423\n",
       "marital_status                  1408\n",
       "rent_or_own                     2042\n",
       "employment_status               1463\n",
       "hhs_geo_region                     0\n",
       "census_msa                         0\n",
       "household_adults                 249\n",
       "household_children               249\n",
       "employment_industry            13330\n",
       "employment_occupation          13470\n",
       "dtype: int64"
      ]
     },
     "execution_count": 5,
     "metadata": {},
     "output_type": "execute_result"
    }
   ],
   "source": [
    "df_features.isnull().sum(axis = 0)"
   ]
  },
  {
   "cell_type": "markdown",
   "metadata": {},
   "source": [
    "- express missing values as %\n",
    "\n",
    "Options:\n",
    "- modelling for imputation (withput using our target variable!)\n",
    "- or use prediction models that don't care about missing values\n",
    "- or impute so that the overall distribution stays the same (based on statistics of this data set)\n",
    "- or impute using a hypothesis (e.g. people who have missing values don't have health insurance?)\n",
    "- for imputation we can try several approaches and see what gives best results :)\n",
    "\n",
    "- remember--when we impute, we want to base assumptions based on the test set of a train-test split:\n",
    "    - if we do multiple models, test-train split for each\n",
    "    - create functions for imputation\n",
    "\n",
    "- remember modelling for understanding (EDA style) =/= modelling for prediction\n",
    "\n",
    "library for visualising missing values:  \n",
    "\n",
    "https://github.com/ResidentMario/missingno"
   ]
  },
  {
   "cell_type": "code",
   "execution_count": 6,
   "metadata": {},
   "outputs": [],
   "source": [
    "# We are concatenating both dataframes into one \n",
    "\n",
    "df = pd.merge(df_target, df_features, on=['respondent_id'])"
   ]
  },
  {
   "cell_type": "markdown",
   "metadata": {},
   "source": [
    "# Data imputation"
   ]
  },
  {
   "cell_type": "markdown",
   "metadata": {},
   "source": [
    "These count as columns that were dropped last time, with \"too many missing values\":\n",
    "['health_insurance', 'employment_industry', 'employment_occupation', 'income_poverty', 'marital_status', 'employment_status']\n",
    "\n",
    "To try:  \n",
    "- imputation on whole DF, most common values\n",
    "- imputation on whole DF (feature by feature), fill values but keep data distribution (e.g. 90% of values are 1, 10% of values are 0)\n",
    "- model to predict missing values:\n",
    "    - this is most important for health_insurance: 45% values are missing, but it's likely to be important to us\n",
    "    - income_poverty could also be important\n",
    "    - employment_occupation and employment_industry have many missing values, but their contents are not very useful (anonymised, we can't really make sense of them)--these features could be dropped\n",
    "\n",
    "To note:\n",
    "- prior to doing imputation models, I need to make sure the rest of the data is clean (or use a model which isn't impacted by missing data)\n",
    "- I may need a combination strategy to tacle this (e.g. using a model to impute some features and filling other features in with their most common value)\n",
    "\n",
    "How to assess imputation strategy:\n",
    "- What were the final model evaluation metrics before and after imputation?\n",
    "- Did overall statistics of the imputed features stay the same?\n",
    "- What about their correlations to other features?\n",
    "\n",
    "### Info:  \n",
    "- https://machinelearningmastery.com/statistical-imputation-for-missing-values-in-machine-learning/"
   ]
  },
  {
   "cell_type": "markdown",
   "metadata": {},
   "source": [
    "Statistics of features, before imputation:"
   ]
  },
  {
   "cell_type": "code",
   "execution_count": 7,
   "metadata": {},
   "outputs": [
    {
     "data": {
      "text/html": [
       "<div>\n",
       "<style scoped>\n",
       "    .dataframe tbody tr th:only-of-type {\n",
       "        vertical-align: middle;\n",
       "    }\n",
       "\n",
       "    .dataframe tbody tr th {\n",
       "        vertical-align: top;\n",
       "    }\n",
       "\n",
       "    .dataframe thead th {\n",
       "        text-align: right;\n",
       "    }\n",
       "</style>\n",
       "<table border=\"1\" class=\"dataframe\">\n",
       "  <thead>\n",
       "    <tr style=\"text-align: right;\">\n",
       "      <th></th>\n",
       "      <th>respondent_id</th>\n",
       "      <th>h1n1_vaccine</th>\n",
       "      <th>seasonal_vaccine</th>\n",
       "      <th>h1n1_concern</th>\n",
       "      <th>h1n1_knowledge</th>\n",
       "      <th>behavioral_antiviral_meds</th>\n",
       "      <th>behavioral_avoidance</th>\n",
       "      <th>behavioral_face_mask</th>\n",
       "      <th>behavioral_wash_hands</th>\n",
       "      <th>behavioral_large_gatherings</th>\n",
       "      <th>...</th>\n",
       "      <th>health_worker</th>\n",
       "      <th>health_insurance</th>\n",
       "      <th>opinion_h1n1_vacc_effective</th>\n",
       "      <th>opinion_h1n1_risk</th>\n",
       "      <th>opinion_h1n1_sick_from_vacc</th>\n",
       "      <th>opinion_seas_vacc_effective</th>\n",
       "      <th>opinion_seas_risk</th>\n",
       "      <th>opinion_seas_sick_from_vacc</th>\n",
       "      <th>household_adults</th>\n",
       "      <th>household_children</th>\n",
       "    </tr>\n",
       "  </thead>\n",
       "  <tbody>\n",
       "    <tr>\n",
       "      <th>count</th>\n",
       "      <td>26707.000000</td>\n",
       "      <td>26707.000000</td>\n",
       "      <td>26707.000000</td>\n",
       "      <td>26615.000000</td>\n",
       "      <td>26591.000000</td>\n",
       "      <td>26636.000000</td>\n",
       "      <td>26499.000000</td>\n",
       "      <td>26688.000000</td>\n",
       "      <td>26665.000000</td>\n",
       "      <td>26620.00000</td>\n",
       "      <td>...</td>\n",
       "      <td>25903.000000</td>\n",
       "      <td>14433.00000</td>\n",
       "      <td>26316.000000</td>\n",
       "      <td>26319.000000</td>\n",
       "      <td>26312.000000</td>\n",
       "      <td>26245.000000</td>\n",
       "      <td>26193.000000</td>\n",
       "      <td>26170.000000</td>\n",
       "      <td>26458.000000</td>\n",
       "      <td>26458.000000</td>\n",
       "    </tr>\n",
       "    <tr>\n",
       "      <th>mean</th>\n",
       "      <td>13353.000000</td>\n",
       "      <td>0.212454</td>\n",
       "      <td>0.465608</td>\n",
       "      <td>1.618486</td>\n",
       "      <td>1.262532</td>\n",
       "      <td>0.048844</td>\n",
       "      <td>0.725612</td>\n",
       "      <td>0.068982</td>\n",
       "      <td>0.825614</td>\n",
       "      <td>0.35864</td>\n",
       "      <td>...</td>\n",
       "      <td>0.111918</td>\n",
       "      <td>0.87972</td>\n",
       "      <td>3.850623</td>\n",
       "      <td>2.342566</td>\n",
       "      <td>2.357670</td>\n",
       "      <td>4.025986</td>\n",
       "      <td>2.719162</td>\n",
       "      <td>2.118112</td>\n",
       "      <td>0.886499</td>\n",
       "      <td>0.534583</td>\n",
       "    </tr>\n",
       "    <tr>\n",
       "      <th>std</th>\n",
       "      <td>7709.791156</td>\n",
       "      <td>0.409052</td>\n",
       "      <td>0.498825</td>\n",
       "      <td>0.910311</td>\n",
       "      <td>0.618149</td>\n",
       "      <td>0.215545</td>\n",
       "      <td>0.446214</td>\n",
       "      <td>0.253429</td>\n",
       "      <td>0.379448</td>\n",
       "      <td>0.47961</td>\n",
       "      <td>...</td>\n",
       "      <td>0.315271</td>\n",
       "      <td>0.32530</td>\n",
       "      <td>1.007436</td>\n",
       "      <td>1.285539</td>\n",
       "      <td>1.362766</td>\n",
       "      <td>1.086565</td>\n",
       "      <td>1.385055</td>\n",
       "      <td>1.332950</td>\n",
       "      <td>0.753422</td>\n",
       "      <td>0.928173</td>\n",
       "    </tr>\n",
       "    <tr>\n",
       "      <th>min</th>\n",
       "      <td>0.000000</td>\n",
       "      <td>0.000000</td>\n",
       "      <td>0.000000</td>\n",
       "      <td>0.000000</td>\n",
       "      <td>0.000000</td>\n",
       "      <td>0.000000</td>\n",
       "      <td>0.000000</td>\n",
       "      <td>0.000000</td>\n",
       "      <td>0.000000</td>\n",
       "      <td>0.00000</td>\n",
       "      <td>...</td>\n",
       "      <td>0.000000</td>\n",
       "      <td>0.00000</td>\n",
       "      <td>1.000000</td>\n",
       "      <td>1.000000</td>\n",
       "      <td>1.000000</td>\n",
       "      <td>1.000000</td>\n",
       "      <td>1.000000</td>\n",
       "      <td>1.000000</td>\n",
       "      <td>0.000000</td>\n",
       "      <td>0.000000</td>\n",
       "    </tr>\n",
       "    <tr>\n",
       "      <th>25%</th>\n",
       "      <td>6676.500000</td>\n",
       "      <td>0.000000</td>\n",
       "      <td>0.000000</td>\n",
       "      <td>1.000000</td>\n",
       "      <td>1.000000</td>\n",
       "      <td>0.000000</td>\n",
       "      <td>0.000000</td>\n",
       "      <td>0.000000</td>\n",
       "      <td>1.000000</td>\n",
       "      <td>0.00000</td>\n",
       "      <td>...</td>\n",
       "      <td>0.000000</td>\n",
       "      <td>1.00000</td>\n",
       "      <td>3.000000</td>\n",
       "      <td>1.000000</td>\n",
       "      <td>1.000000</td>\n",
       "      <td>4.000000</td>\n",
       "      <td>2.000000</td>\n",
       "      <td>1.000000</td>\n",
       "      <td>0.000000</td>\n",
       "      <td>0.000000</td>\n",
       "    </tr>\n",
       "    <tr>\n",
       "      <th>50%</th>\n",
       "      <td>13353.000000</td>\n",
       "      <td>0.000000</td>\n",
       "      <td>0.000000</td>\n",
       "      <td>2.000000</td>\n",
       "      <td>1.000000</td>\n",
       "      <td>0.000000</td>\n",
       "      <td>1.000000</td>\n",
       "      <td>0.000000</td>\n",
       "      <td>1.000000</td>\n",
       "      <td>0.00000</td>\n",
       "      <td>...</td>\n",
       "      <td>0.000000</td>\n",
       "      <td>1.00000</td>\n",
       "      <td>4.000000</td>\n",
       "      <td>2.000000</td>\n",
       "      <td>2.000000</td>\n",
       "      <td>4.000000</td>\n",
       "      <td>2.000000</td>\n",
       "      <td>2.000000</td>\n",
       "      <td>1.000000</td>\n",
       "      <td>0.000000</td>\n",
       "    </tr>\n",
       "    <tr>\n",
       "      <th>75%</th>\n",
       "      <td>20029.500000</td>\n",
       "      <td>0.000000</td>\n",
       "      <td>1.000000</td>\n",
       "      <td>2.000000</td>\n",
       "      <td>2.000000</td>\n",
       "      <td>0.000000</td>\n",
       "      <td>1.000000</td>\n",
       "      <td>0.000000</td>\n",
       "      <td>1.000000</td>\n",
       "      <td>1.00000</td>\n",
       "      <td>...</td>\n",
       "      <td>0.000000</td>\n",
       "      <td>1.00000</td>\n",
       "      <td>5.000000</td>\n",
       "      <td>4.000000</td>\n",
       "      <td>4.000000</td>\n",
       "      <td>5.000000</td>\n",
       "      <td>4.000000</td>\n",
       "      <td>4.000000</td>\n",
       "      <td>1.000000</td>\n",
       "      <td>1.000000</td>\n",
       "    </tr>\n",
       "    <tr>\n",
       "      <th>max</th>\n",
       "      <td>26706.000000</td>\n",
       "      <td>1.000000</td>\n",
       "      <td>1.000000</td>\n",
       "      <td>3.000000</td>\n",
       "      <td>2.000000</td>\n",
       "      <td>1.000000</td>\n",
       "      <td>1.000000</td>\n",
       "      <td>1.000000</td>\n",
       "      <td>1.000000</td>\n",
       "      <td>1.00000</td>\n",
       "      <td>...</td>\n",
       "      <td>1.000000</td>\n",
       "      <td>1.00000</td>\n",
       "      <td>5.000000</td>\n",
       "      <td>5.000000</td>\n",
       "      <td>5.000000</td>\n",
       "      <td>5.000000</td>\n",
       "      <td>5.000000</td>\n",
       "      <td>5.000000</td>\n",
       "      <td>3.000000</td>\n",
       "      <td>3.000000</td>\n",
       "    </tr>\n",
       "  </tbody>\n",
       "</table>\n",
       "<p>8 rows × 26 columns</p>\n",
       "</div>"
      ],
      "text/plain": [
       "       respondent_id  h1n1_vaccine  seasonal_vaccine  h1n1_concern  \\\n",
       "count   26707.000000  26707.000000      26707.000000  26615.000000   \n",
       "mean    13353.000000      0.212454          0.465608      1.618486   \n",
       "std      7709.791156      0.409052          0.498825      0.910311   \n",
       "min         0.000000      0.000000          0.000000      0.000000   \n",
       "25%      6676.500000      0.000000          0.000000      1.000000   \n",
       "50%     13353.000000      0.000000          0.000000      2.000000   \n",
       "75%     20029.500000      0.000000          1.000000      2.000000   \n",
       "max     26706.000000      1.000000          1.000000      3.000000   \n",
       "\n",
       "       h1n1_knowledge  behavioral_antiviral_meds  behavioral_avoidance  \\\n",
       "count    26591.000000               26636.000000          26499.000000   \n",
       "mean         1.262532                   0.048844              0.725612   \n",
       "std          0.618149                   0.215545              0.446214   \n",
       "min          0.000000                   0.000000              0.000000   \n",
       "25%          1.000000                   0.000000              0.000000   \n",
       "50%          1.000000                   0.000000              1.000000   \n",
       "75%          2.000000                   0.000000              1.000000   \n",
       "max          2.000000                   1.000000              1.000000   \n",
       "\n",
       "       behavioral_face_mask  behavioral_wash_hands  \\\n",
       "count          26688.000000           26665.000000   \n",
       "mean               0.068982               0.825614   \n",
       "std                0.253429               0.379448   \n",
       "min                0.000000               0.000000   \n",
       "25%                0.000000               1.000000   \n",
       "50%                0.000000               1.000000   \n",
       "75%                0.000000               1.000000   \n",
       "max                1.000000               1.000000   \n",
       "\n",
       "       behavioral_large_gatherings  ...  health_worker  health_insurance  \\\n",
       "count                  26620.00000  ...   25903.000000       14433.00000   \n",
       "mean                       0.35864  ...       0.111918           0.87972   \n",
       "std                        0.47961  ...       0.315271           0.32530   \n",
       "min                        0.00000  ...       0.000000           0.00000   \n",
       "25%                        0.00000  ...       0.000000           1.00000   \n",
       "50%                        0.00000  ...       0.000000           1.00000   \n",
       "75%                        1.00000  ...       0.000000           1.00000   \n",
       "max                        1.00000  ...       1.000000           1.00000   \n",
       "\n",
       "       opinion_h1n1_vacc_effective  opinion_h1n1_risk  \\\n",
       "count                 26316.000000       26319.000000   \n",
       "mean                      3.850623           2.342566   \n",
       "std                       1.007436           1.285539   \n",
       "min                       1.000000           1.000000   \n",
       "25%                       3.000000           1.000000   \n",
       "50%                       4.000000           2.000000   \n",
       "75%                       5.000000           4.000000   \n",
       "max                       5.000000           5.000000   \n",
       "\n",
       "       opinion_h1n1_sick_from_vacc  opinion_seas_vacc_effective  \\\n",
       "count                 26312.000000                 26245.000000   \n",
       "mean                      2.357670                     4.025986   \n",
       "std                       1.362766                     1.086565   \n",
       "min                       1.000000                     1.000000   \n",
       "25%                       1.000000                     4.000000   \n",
       "50%                       2.000000                     4.000000   \n",
       "75%                       4.000000                     5.000000   \n",
       "max                       5.000000                     5.000000   \n",
       "\n",
       "       opinion_seas_risk  opinion_seas_sick_from_vacc  household_adults  \\\n",
       "count       26193.000000                 26170.000000      26458.000000   \n",
       "mean            2.719162                     2.118112          0.886499   \n",
       "std             1.385055                     1.332950          0.753422   \n",
       "min             1.000000                     1.000000          0.000000   \n",
       "25%             2.000000                     1.000000          0.000000   \n",
       "50%             2.000000                     2.000000          1.000000   \n",
       "75%             4.000000                     4.000000          1.000000   \n",
       "max             5.000000                     5.000000          3.000000   \n",
       "\n",
       "       household_children  \n",
       "count        26458.000000  \n",
       "mean             0.534583  \n",
       "std              0.928173  \n",
       "min              0.000000  \n",
       "25%              0.000000  \n",
       "50%              0.000000  \n",
       "75%              1.000000  \n",
       "max              3.000000  \n",
       "\n",
       "[8 rows x 26 columns]"
      ]
     },
     "execution_count": 7,
     "metadata": {},
     "output_type": "execute_result"
    }
   ],
   "source": [
    "df.describe()"
   ]
  },
  {
   "cell_type": "markdown",
   "metadata": {},
   "source": [
    "How many values are missing? (expressed as %)"
   ]
  },
  {
   "cell_type": "code",
   "execution_count": 7,
   "metadata": {},
   "outputs": [
    {
     "data": {
      "text/plain": [
       "employment_occupation          50.44\n",
       "employment_industry            49.91\n",
       "health_insurance               45.96\n",
       "income_poverty                 16.56\n",
       "doctor_recc_h1n1                8.09\n",
       "doctor_recc_seasonal            8.09\n",
       "rent_or_own                     7.65\n",
       "employment_status               5.48\n",
       "marital_status                  5.27\n",
       "education                       5.27\n",
       "chronic_med_condition           3.64\n",
       "child_under_6_months            3.07\n",
       "health_worker                   3.01\n",
       "opinion_seas_sick_from_vacc     2.01\n",
       "opinion_seas_risk               1.92\n",
       "opinion_seas_vacc_effective     1.73\n",
       "opinion_h1n1_sick_from_vacc     1.48\n",
       "opinion_h1n1_vacc_effective     1.46\n",
       "opinion_h1n1_risk               1.45\n",
       "household_children              0.93\n",
       "household_adults                0.93\n",
       "behavioral_avoidance            0.78\n",
       "behavioral_touch_face           0.48\n",
       "h1n1_knowledge                  0.43\n",
       "h1n1_concern                    0.34\n",
       "behavioral_large_gatherings     0.33\n",
       "behavioral_outside_home         0.31\n",
       "behavioral_antiviral_meds       0.27\n",
       "behavioral_wash_hands           0.16\n",
       "behavioral_face_mask            0.07\n",
       "census_msa                      0.00\n",
       "seasonal_vaccine                0.00\n",
       "h1n1_vaccine                    0.00\n",
       "hhs_geo_region                  0.00\n",
       "sex                             0.00\n",
       "race                            0.00\n",
       "age_group                       0.00\n",
       "respondent_id                   0.00\n",
       "dtype: float64"
      ]
     },
     "execution_count": 7,
     "metadata": {},
     "output_type": "execute_result"
    }
   ],
   "source": [
    "round(df.isnull().sum(axis = 0) / df.shape[0] *100, 2).sort_values(ascending=False)"
   ]
  },
  {
   "cell_type": "markdown",
   "metadata": {},
   "source": [
    "## Looking at the missing values with missingno library"
   ]
  },
  {
   "cell_type": "code",
   "execution_count": 9,
   "metadata": {},
   "outputs": [
    {
     "data": {
      "text/plain": [
       "<AxesSubplot:>"
      ]
     },
     "execution_count": 9,
     "metadata": {},
     "output_type": "execute_result"
    },
    {
     "data": {
      "image/png": "[encoded data removed]",
      "text/plain": [
       "<Figure size 1800x720 with 2 Axes>"
      ]
     },
     "metadata": {
      "needs_background": "light"
     },
     "output_type": "display_data"
    }
   ],
   "source": [
    "import missingno as msno\n",
    "%matplotlib inline\n",
    "msno.matrix(df.sample(26707))"
   ]
  },
  {
   "cell_type": "markdown",
   "metadata": {},
   "source": [
    "- The employment_industry and employment_occupation columns seem to be highly correlated in terms of missing info (i.e. info that's missing in one column is missing in the other)\n",
    "- The missing info in health_insurance doesn't seem to be correlated with anything"
   ]
  },
  {
   "cell_type": "code",
   "execution_count": 10,
   "metadata": {},
   "outputs": [
    {
     "data": {
      "text/plain": [
       "<AxesSubplot:>"
      ]
     },
     "execution_count": 10,
     "metadata": {},
     "output_type": "execute_result"
    },
    {
     "data": {
      "image/png": "[encoded data removed]",
      "text/plain": [
       "<Figure size 1440x864 with 2 Axes>"
      ]
     },
     "metadata": {
      "needs_background": "light"
     },
     "output_type": "display_data"
    }
   ],
   "source": [
    "msno.heatmap(df)"
   ]
  },
  {
   "cell_type": "code",
   "execution_count": 11,
   "metadata": {},
   "outputs": [
    {
     "data": {
      "text/plain": [
       "<AxesSubplot:>"
      ]
     },
     "execution_count": 11,
     "metadata": {},
     "output_type": "execute_result"
    },
    {
     "data": {
      "image/png": "[encoded data removed]",
      "text/plain": [
       "<Figure size 1800x720 with 1 Axes>"
      ]
     },
     "metadata": {
      "needs_background": "light"
     },
     "output_type": "display_data"
    }
   ],
   "source": [
    "msno.dendrogram(df)"
   ]
  },
  {
   "cell_type": "markdown",
   "metadata": {},
   "source": [
    "Visualising nullity by column:"
   ]
  },
  {
   "cell_type": "code",
   "execution_count": 12,
   "metadata": {},
   "outputs": [
    {
     "data": {
      "text/plain": [
       "<AxesSubplot:>"
      ]
     },
     "execution_count": 12,
     "metadata": {},
     "output_type": "execute_result"
    },
    {
     "data": {
      "image/png": "[encoded data removed]",
      "text/plain": [
       "<Figure size 1800x720 with 3 Axes>"
      ]
     },
     "metadata": {
      "needs_background": "light"
     },
     "output_type": "display_data"
    }
   ],
   "source": [
    "msno.bar(df.sample(26707))"
   ]
  },
  {
   "cell_type": "markdown",
   "metadata": {},
   "source": [
    "## Initial strategy--drop some columns and then drop all rows with missing values"
   ]
  },
  {
   "cell_type": "markdown",
   "metadata": {},
   "source": [
    "Dropping of features with too many missing values:"
   ]
  },
  {
   "cell_type": "code",
   "execution_count": 8,
   "metadata": {
    "slideshow": {
     "slide_type": "skip"
    }
   },
   "outputs": [],
   "source": [
    "col_drop = ['health_insurance', 'employment_industry', 'employment_occupation', 'income_poverty', 'marital_status', 'employment_status']\n",
    "\n",
    "df_initial = df.drop(col_drop, axis=1)"
   ]
  },
  {
   "cell_type": "markdown",
   "metadata": {},
   "source": [
    "Also dropped the column 'respondent_id', because it will cause problems during 1-hot encoding:"
   ]
  },
  {
   "cell_type": "code",
   "execution_count": 9,
   "metadata": {},
   "outputs": [],
   "source": [
    "#col_drop2 = ['index', 'respondent_id']\n",
    "df_initial = df_initial.drop('respondent_id', axis=1)"
   ]
  },
  {
   "cell_type": "markdown",
   "metadata": {},
   "source": [
    "Dropping of all rows with null values:"
   ]
  },
  {
   "cell_type": "code",
   "execution_count": 10,
   "metadata": {},
   "outputs": [],
   "source": [
    "df_initial.dropna(inplace=True)"
   ]
  },
  {
   "cell_type": "markdown",
   "metadata": {},
   "source": [
    "Check that all null values have been dropped:"
   ]
  },
  {
   "cell_type": "code",
   "execution_count": 11,
   "metadata": {},
   "outputs": [
    {
     "data": {
      "text/plain": [
       "h1n1_vaccine                   0\n",
       "seasonal_vaccine               0\n",
       "h1n1_concern                   0\n",
       "h1n1_knowledge                 0\n",
       "behavioral_antiviral_meds      0\n",
       "behavioral_avoidance           0\n",
       "behavioral_face_mask           0\n",
       "behavioral_wash_hands          0\n",
       "behavioral_large_gatherings    0\n",
       "behavioral_outside_home        0\n",
       "behavioral_touch_face          0\n",
       "doctor_recc_h1n1               0\n",
       "doctor_recc_seasonal           0\n",
       "chronic_med_condition          0\n",
       "child_under_6_months           0\n",
       "health_worker                  0\n",
       "opinion_h1n1_vacc_effective    0\n",
       "opinion_h1n1_risk              0\n",
       "opinion_h1n1_sick_from_vacc    0\n",
       "opinion_seas_vacc_effective    0\n",
       "opinion_seas_risk              0\n",
       "opinion_seas_sick_from_vacc    0\n",
       "age_group                      0\n",
       "education                      0\n",
       "race                           0\n",
       "sex                            0\n",
       "rent_or_own                    0\n",
       "hhs_geo_region                 0\n",
       "census_msa                     0\n",
       "household_adults               0\n",
       "household_children             0\n",
       "dtype: int64"
      ]
     },
     "execution_count": 11,
     "metadata": {},
     "output_type": "execute_result"
    }
   ],
   "source": [
    "df_initial.isnull().sum(axis = 0)"
   ]
  },
  {
   "cell_type": "code",
   "execution_count": 12,
   "metadata": {},
   "outputs": [],
   "source": [
    "#the index is causing problems during 1-hot encoding\n",
    "#df_initial.reset_index(inplace=True)"
   ]
  },
  {
   "cell_type": "markdown",
   "metadata": {},
   "source": [
    "## Strategy 1: no imputation, leaving all missing values in"
   ]
  },
  {
   "cell_type": "code",
   "execution_count": 13,
   "metadata": {},
   "outputs": [],
   "source": [
    "df = df.drop('respondent_id', axis=1)"
   ]
  },
  {
   "cell_type": "code",
   "execution_count": 14,
   "metadata": {},
   "outputs": [
    {
     "data": {
      "text/plain": [
       "h1n1_vaccine                       0\n",
       "seasonal_vaccine                   0\n",
       "h1n1_concern                      92\n",
       "h1n1_knowledge                   116\n",
       "behavioral_antiviral_meds         71\n",
       "behavioral_avoidance             208\n",
       "behavioral_face_mask              19\n",
       "behavioral_wash_hands             42\n",
       "behavioral_large_gatherings       87\n",
       "behavioral_outside_home           82\n",
       "behavioral_touch_face            128\n",
       "doctor_recc_h1n1                2160\n",
       "doctor_recc_seasonal            2160\n",
       "chronic_med_condition            971\n",
       "child_under_6_months             820\n",
       "health_worker                    804\n",
       "health_insurance               12274\n",
       "opinion_h1n1_vacc_effective      391\n",
       "opinion_h1n1_risk                388\n",
       "opinion_h1n1_sick_from_vacc      395\n",
       "opinion_seas_vacc_effective      462\n",
       "opinion_seas_risk                514\n",
       "opinion_seas_sick_from_vacc      537\n",
       "age_group                          0\n",
       "education                       1407\n",
       "race                               0\n",
       "sex                                0\n",
       "income_poverty                  4423\n",
       "marital_status                  1408\n",
       "rent_or_own                     2042\n",
       "employment_status               1463\n",
       "hhs_geo_region                     0\n",
       "census_msa                         0\n",
       "household_adults                 249\n",
       "household_children               249\n",
       "employment_industry            13330\n",
       "employment_occupation          13470\n",
       "dtype: int64"
      ]
     },
     "execution_count": 14,
     "metadata": {},
     "output_type": "execute_result"
    }
   ],
   "source": [
    "df.isnull().sum(axis = 0)"
   ]
  },
  {
   "cell_type": "markdown",
   "metadata": {},
   "source": [
    "## Strategy 2: imputation with SimpleImputer, most frequent values"
   ]
  },
  {
   "cell_type": "markdown",
   "metadata": {},
   "source": [
    "https://scikit-learn.org/stable/modules/generated/sklearn.impute.SimpleImputer.html  \n",
    "\n",
    "We fill everything with the most frequent value that appeared in that column. \n",
    "Run on the whole dataset."
   ]
  },
  {
   "cell_type": "code",
   "execution_count": 15,
   "metadata": {},
   "outputs": [],
   "source": [
    "from sklearn.impute import SimpleImputer\n",
    "\n",
    "# define imputer\n",
    "imputer = SimpleImputer(strategy='most_frequent')\n",
    "\n",
    "# fit on the dataset\n",
    "imputer.fit(df)\n",
    "\n",
    "# transform the dataset\n",
    "df_mostfreq = pd.DataFrame(imputer.transform(df))"
   ]
  },
  {
   "cell_type": "markdown",
   "metadata": {},
   "source": [
    "SimpleImputer gives a dataframe without column headings--here the headings are added back on"
   ]
  },
  {
   "cell_type": "code",
   "execution_count": 16,
   "metadata": {},
   "outputs": [],
   "source": [
    "col_names = df.columns.values.tolist()"
   ]
  },
  {
   "cell_type": "code",
   "execution_count": 17,
   "metadata": {},
   "outputs": [],
   "source": [
    "df_mostfreq.columns = col_names"
   ]
  },
  {
   "cell_type": "markdown",
   "metadata": {},
   "source": [
    "Checking that all values have been dropped"
   ]
  },
  {
   "cell_type": "code",
   "execution_count": 18,
   "metadata": {},
   "outputs": [
    {
     "data": {
      "text/plain": [
       "h1n1_vaccine                   0\n",
       "seasonal_vaccine               0\n",
       "h1n1_concern                   0\n",
       "h1n1_knowledge                 0\n",
       "behavioral_antiviral_meds      0\n",
       "behavioral_avoidance           0\n",
       "behavioral_face_mask           0\n",
       "behavioral_wash_hands          0\n",
       "behavioral_large_gatherings    0\n",
       "behavioral_outside_home        0\n",
       "behavioral_touch_face          0\n",
       "doctor_recc_h1n1               0\n",
       "doctor_recc_seasonal           0\n",
       "chronic_med_condition          0\n",
       "child_under_6_months           0\n",
       "health_worker                  0\n",
       "health_insurance               0\n",
       "opinion_h1n1_vacc_effective    0\n",
       "opinion_h1n1_risk              0\n",
       "opinion_h1n1_sick_from_vacc    0\n",
       "opinion_seas_vacc_effective    0\n",
       "opinion_seas_risk              0\n",
       "opinion_seas_sick_from_vacc    0\n",
       "age_group                      0\n",
       "education                      0\n",
       "race                           0\n",
       "sex                            0\n",
       "income_poverty                 0\n",
       "marital_status                 0\n",
       "rent_or_own                    0\n",
       "employment_status              0\n",
       "hhs_geo_region                 0\n",
       "census_msa                     0\n",
       "household_adults               0\n",
       "household_children             0\n",
       "employment_industry            0\n",
       "employment_occupation          0\n",
       "dtype: int64"
      ]
     },
     "execution_count": 18,
     "metadata": {},
     "output_type": "execute_result"
    }
   ],
   "source": [
    "df_mostfreq.isnull().sum(axis = 0)"
   ]
  },
  {
   "cell_type": "code",
   "execution_count": 19,
   "metadata": {},
   "outputs": [
    {
     "name": "stdout",
     "output_type": "stream",
     "text": [
      "<class 'pandas.core.frame.DataFrame'>\n",
      "RangeIndex: 26707 entries, 0 to 26706\n",
      "Data columns (total 37 columns):\n",
      " #   Column                       Non-Null Count  Dtype \n",
      "---  ------                       --------------  ----- \n",
      " 0   h1n1_vaccine                 26707 non-null  object\n",
      " 1   seasonal_vaccine             26707 non-null  object\n",
      " 2   h1n1_concern                 26707 non-null  object\n",
      " 3   h1n1_knowledge               26707 non-null  object\n",
      " 4   behavioral_antiviral_meds    26707 non-null  object\n",
      " 5   behavioral_avoidance         26707 non-null  object\n",
      " 6   behavioral_face_mask         26707 non-null  object\n",
      " 7   behavioral_wash_hands        26707 non-null  object\n",
      " 8   behavioral_large_gatherings  26707 non-null  object\n",
      " 9   behavioral_outside_home      26707 non-null  object\n",
      " 10  behavioral_touch_face        26707 non-null  object\n",
      " 11  doctor_recc_h1n1             26707 non-null  object\n",
      " 12  doctor_recc_seasonal         26707 non-null  object\n",
      " 13  chronic_med_condition        26707 non-null  object\n",
      " 14  child_under_6_months         26707 non-null  object\n",
      " 15  health_worker                26707 non-null  object\n",
      " 16  health_insurance             26707 non-null  object\n",
      " 17  opinion_h1n1_vacc_effective  26707 non-null  object\n",
      " 18  opinion_h1n1_risk            26707 non-null  object\n",
      " 19  opinion_h1n1_sick_from_vacc  26707 non-null  object\n",
      " 20  opinion_seas_vacc_effective  26707 non-null  object\n",
      " 21  opinion_seas_risk            26707 non-null  object\n",
      " 22  opinion_seas_sick_from_vacc  26707 non-null  object\n",
      " 23  age_group                    26707 non-null  object\n",
      " 24  education                    26707 non-null  object\n",
      " 25  race                         26707 non-null  object\n",
      " 26  sex                          26707 non-null  object\n",
      " 27  income_poverty               26707 non-null  object\n",
      " 28  marital_status               26707 non-null  object\n",
      " 29  rent_or_own                  26707 non-null  object\n",
      " 30  employment_status            26707 non-null  object\n",
      " 31  hhs_geo_region               26707 non-null  object\n",
      " 32  census_msa                   26707 non-null  object\n",
      " 33  household_adults             26707 non-null  object\n",
      " 34  household_children           26707 non-null  object\n",
      " 35  employment_industry          26707 non-null  object\n",
      " 36  employment_occupation        26707 non-null  object\n",
      "dtypes: object(37)\n",
      "memory usage: 7.5+ MB\n"
     ]
    }
   ],
   "source": [
    "df_mostfreq.info()"
   ]
  },
  {
   "cell_type": "markdown",
   "metadata": {},
   "source": [
    "The SimpleImputer has converted all the columns to strings...so they should be changed to numeric (or at least the target variables should be converted)"
   ]
  },
  {
   "cell_type": "code",
   "execution_count": 20,
   "metadata": {},
   "outputs": [],
   "source": [
    "df_mostfreq['h1n1_vaccine'] = pd.to_numeric(df_mostfreq['h1n1_vaccine'])\n",
    "df_mostfreq['seasonal_vaccine'] = pd.to_numeric(df_mostfreq['seasonal_vaccine'])"
   ]
  },
  {
   "cell_type": "code",
   "execution_count": 21,
   "metadata": {},
   "outputs": [
    {
     "data": {
      "text/plain": [
       "1.0    24971\n",
       "0.0     1736\n",
       "Name: health_insurance, dtype: int64"
      ]
     },
     "execution_count": 21,
     "metadata": {},
     "output_type": "execute_result"
    }
   ],
   "source": [
    "df_mostfreq['health_insurance'].value_counts()"
   ]
  },
  {
   "cell_type": "markdown",
   "metadata": {},
   "source": [
    "## Strategy X (tried without success): imputation with IterativeImputer, default settings (apart from initial_strategy = “most_frequent”)"
   ]
  },
  {
   "cell_type": "markdown",
   "metadata": {},
   "source": [
    "CELLS CHANGED TO MARKDOWN TO AVOID INTERFERENCE IN THE REST OF NOTEBOOK; CHANGE TO CODE IF OUTPUT IS WANTED\n",
    "\n",
    "https://scikit-learn.org/stable/modules/generated/sklearn.impute.IterativeImputer.html#sklearn.impute.IterativeImputer\n",
    "\n",
    "initial_strategy = “most_frequent”; other parameters at default (Bayesian Ridge estimation used)\n",
    "\n",
    "Other estimators: https://scikit-learn.org/stable/auto_examples/impute/plot_iterative_imputer_variants_comparison.html\n",
    "\n",
    "Dataframe split into X and Y before imputation, so the target variable isn't used in the imputation"
   ]
  },
  {
   "cell_type": "markdown",
   "metadata": {},
   "source": [
    "from sklearn.experimental import enable_iterative_imputer\n",
    "from sklearn.impute import IterativeImputer"
   ]
  },
  {
   "cell_type": "markdown",
   "metadata": {},
   "source": [
    "y_strat3 = df[['h1n1_vaccine', 'seasonal_vaccine']].copy()"
   ]
  },
  {
   "cell_type": "markdown",
   "metadata": {},
   "source": [
    "y_strat3 = y_strat3.to_numpy()"
   ]
  },
  {
   "cell_type": "markdown",
   "metadata": {},
   "source": [
    "#NB: dropping the 'h1n1_vaccine' and 'seasonal_vaccine' columns\n",
    "X_strat3 = df.drop(columns=['h1n1_vaccine', 'seasonal_vaccine'])"
   ]
  },
  {
   "cell_type": "markdown",
   "metadata": {},
   "source": [
    "The IterativeImputer seems to have an issue with string values, so data converted to numerical:"
   ]
  },
  {
   "cell_type": "markdown",
   "metadata": {},
   "source": [
    "cleanup = {\"age_group\": {\"18 - 34 Years\": 1, \"35 - 44 Years\": 2, \"45 - 54 Years\": 3, \"55 - 64 Years\": 4,\n",
    "                                  \"65+ Years\": 5},\n",
    "            \"education\": {\"< 12 Years\": 1, \"12 Years\": 2, \"Some College\": 3, \"College Graduate\": 4},\n",
    "            \"race\": {\"White\": 1, \"Black\": 2, \"Hispanic\": 3, \"Other or Multiple\": 4},\n",
    "            \"sex\" : {\"Female\": 1, \"Male\": 2},\n",
    "            \"rent_or_own\" : {\"Own\": 1, \"Rent\": 2},\n",
    "            \"hhs_geo_region\" : {\"lzgpxyit\": 1, \"fpwskwrf\": 2, \"qufhixun\": 3, \"bhuqouqj\": 4, \"oxchjgsf\": 5, \"kbazzjca\": 6, \"mlyzmhmf\": 7, \"atmpeygn\": 8, \"lrircsnp\": 9, \"dqpwygqj\": 10},\n",
    "            \"census_msa\" : {\"MSA, Not Principle  City\": 1, \"MSA, Principle City\": 2, \"Non-MSA\": 3},\n",
    "            \"income_poverty\" : {\"Below Poverty\": 1, \"<= $75,000, Above Poverty\": 2, \"> $75,000\": 3},\n",
    "            \"employment_industry\" : {\"fcxhlnwr\": 1, \"wxleyezf\": 2, \"ldnlellj\": 3, \"pxcmvdjn\": 4, \"atmlpfrs\": 5, \"arjwrbjb\": 6, \"xicduogh\": 7, \"mfikgejo\": 8, \"vjjrobsf\": 9,\n",
    "                                    \"rucpziij\": 10, \"xqicxuve\": 11, \"saaquncn\": 12, \"cfqqtusy\": 13, \"nduyfdeo\": 14, \"mcubkhph\": 15, \"wlfvacwt\": 16, \"dotnnunm\": 17, \"haxffmxo\": 18, \"msuufmds\": 19, \"phxvnwax\": 20,\n",
    "                                    \"qnlwzans\": 21},\n",
    "           \"employment_occupation\" : {\"xtkaffoo\": 1, \"mxkfnird\": 2, \"emcorrxb\": 3, \"cmhcxjea\": 4, \"xgwztkwe\": 5, \"hfxkjkmi\": 6, \"qxajmpny\": 7, \"xqwwgdyp\": 8, \"kldqjyjy\": 9,\n",
    "                                    \"uqqtjvyb\": 10, \"tfqavkke\": 11, \"ukymxvdu\": 12, \"vlluhbov\": 13, \"oijqvulv\": 14, \"ccgxvspp\": 15, \"bxpfxfdn\": 16, \"haliazsg\": 17, \"rcertsgn\": 18, \"xzmlyyjv\": 19, \"dlvbwzss\": 20,\n",
    "                                    \"hodpvpew\": 21, \"dcjcmpih\": 22, \"pvmttkik\": 23},\n",
    "           \"marital_status\" : {\"Married\": 1, \"Not Married\": 2},\n",
    "           \"employment_status\" : {\"Employed\": 1, \"Not in Labor Force\": 2, \"Unemployed\": 3}\n",
    "                                  }\n",
    "X_strat3_num = X_strat3.replace(cleanup)"
   ]
  },
  {
   "cell_type": "markdown",
   "metadata": {},
   "source": [
    "#X_strat3_num = pd.Categorical(X_strat3_num, ordered=True) this appraoch didn't work"
   ]
  },
  {
   "cell_type": "markdown",
   "metadata": {},
   "source": [
    "Another way of converting from strings to numbers:"
   ]
  },
  {
   "cell_type": "markdown",
   "metadata": {},
   "source": [
    "cat_cols = list(X_strat3.columns.values)"
   ]
  },
  {
   "cell_type": "markdown",
   "metadata": {},
   "source": [
    "#function to encode the strin data, but keep the missing values\n",
    "from sklearn.preprocessing import OrdinalEncoder\n",
    "encoder = OrdinalEncoder()\n",
    "\n",
    "def encode(data):\n",
    "    #function to encode non-null data and replace it in the original data\n",
    "    #retains only non-null values\n",
    "    nonulls = np.array(data.dropna())\n",
    "    #reshapes the data for encoding\n",
    "    impute_reshape = nonulls.reshape(-1,1)\n",
    "    #encode date\n",
    "    impute_ordinal = encoder.fit_transform(impute_reshape)\n",
    "    #Assign back encoded values to non-null values\n",
    "    data.loc[data.notnull()] = np.squeeze(impute_ordinal)\n",
    "    return data\n",
    "\n",
    "#create a for loop to iterate through each column in the data\n",
    "for columns in cat_cols:\n",
    "    encode(X_strat3[columns])"
   ]
  },
  {
   "cell_type": "markdown",
   "metadata": {},
   "source": [
    "X_strat3.head()"
   ]
  },
  {
   "cell_type": "markdown",
   "metadata": {},
   "source": [
    "#define imputer\n",
    "it_imputer = IterativeImputer(initial_strategy='most_frequent')"
   ]
  },
  {
   "cell_type": "markdown",
   "metadata": {},
   "source": [
    "#it_imputer.fit(X_strat3_num) #running imputer with numerical data, the imputation doesn't work--values falsely interpreted as \"numbers\"\n",
    "X_iter = it_imputer.fit_transform(X_strat3) #running imputer with categorical data (strings)"
   ]
  },
  {
   "cell_type": "markdown",
   "metadata": {},
   "source": [
    "IterativeImputer gives an array without column headings--here the headings are added back on and the array is converted back to a data frame:"
   ]
  },
  {
   "cell_type": "markdown",
   "metadata": {},
   "source": [
    "col_names = X_strat3.columns.values.tolist()\n",
    "X_iter = pd.DataFrame(X_iter, columns=col_names)"
   ]
  },
  {
   "cell_type": "markdown",
   "metadata": {},
   "source": [
    "Unfortunately the IterativeImputer really doesn't seem to run with categorical data! Note the features that had string values but were converted to numerical encoding (e.g. employment_industry)--the missing values are imputed as continuous numbers! Giving up on this approach for now...\n",
    "\n",
    "The comments in this post confirm this: https://krrai77.medium.com/using-fancyimpute-in-python-eadcffece782"
   ]
  },
  {
   "cell_type": "markdown",
   "metadata": {},
   "source": [
    "X_iter.head()"
   ]
  },
  {
   "cell_type": "markdown",
   "metadata": {},
   "source": [
    "## Strategy 3: imputation with KNNImputer"
   ]
  },
  {
   "cell_type": "markdown",
   "metadata": {},
   "source": [
    "https://scikit-learn.org/stable/modules/generated/sklearn.impute.KNNImputer.html#sklearn.impute.KNNImputer\n",
    "\n",
    "Dataframe split into X and Y before imputation, so the target variable isn't used in the imputation"
   ]
  },
  {
   "cell_type": "code",
   "execution_count": 41,
   "metadata": {},
   "outputs": [],
   "source": [
    "y_strat3 = df[['h1n1_vaccine', 'seasonal_vaccine']].copy()"
   ]
  },
  {
   "cell_type": "code",
   "execution_count": 42,
   "metadata": {},
   "outputs": [],
   "source": [
    "y_strat3 = y_strat3.to_numpy()"
   ]
  },
  {
   "cell_type": "code",
   "execution_count": 43,
   "metadata": {},
   "outputs": [],
   "source": [
    "#NB: dropping the 'h1n1_vaccine' and 'seasonal_vaccine' columns\n",
    "X_iter_knn = df.drop(columns=['h1n1_vaccine', 'seasonal_vaccine'])"
   ]
  },
  {
   "cell_type": "code",
   "execution_count": 91,
   "metadata": {},
   "outputs": [],
   "source": [
    "cleanup = {\"age_group\": {\"18 - 34 Years\": 1, \"35 - 44 Years\": 2, \"45 - 54 Years\": 3, \"55 - 64 Years\": 4,\n",
    "                                  \"65+ Years\": 5},\n",
    "            \"education\": {\"< 12 Years\": 1, \"12 Years\": 2, \"Some College\": 3, \"College Graduate\": 4},\n",
    "            \"race\": {\"White\": 1, \"Black\": 2, \"Hispanic\": 3, \"Other or Multiple\": 4},\n",
    "            \"sex\" : {\"Female\": 1, \"Male\": 2},\n",
    "            \"rent_or_own\" : {\"Own\": 1, \"Rent\": 2},\n",
    "            \"hhs_geo_region\" : {\"lzgpxyit\": 1, \"fpwskwrf\": 2, \"qufhixun\": 3, \"bhuqouqj\": 4, \"oxchjgsf\": 5, \"kbazzjca\": 6, \"mlyzmhmf\": 7, \"atmpeygn\": 8, \"lrircsnp\": 9, \"dqpwygqj\": 10},\n",
    "            \"census_msa\" : {\"MSA, Not Principle  City\": 1, \"MSA, Principle City\": 2, \"Non-MSA\": 3},\n",
    "            \"income_poverty\" : {\"Below Poverty\": 1, \"<= $75,000, Above Poverty\": 2, \"> $75,000\": 3},\n",
    "            \"employment_industry\" : {\"fcxhlnwr\": 1, \"wxleyezf\": 2, \"ldnlellj\": 3, \"pxcmvdjn\": 4, \"atmlpfrs\": 5, \"arjwrbjb\": 6, \"xicduogh\": 7, \"mfikgejo\": 8, \"vjjrobsf\": 9,\n",
    "                                    \"rucpziij\": 10, \"xqicxuve\": 11, \"saaquncn\": 12, \"cfqqtusy\": 13, \"nduyfdeo\": 14, \"mcubkhph\": 15, \"wlfvacwt\": 16, \"dotnnunm\": 17, \"haxffmxo\": 18, \"msuufmds\": 19, \"phxvnwax\": 20,\n",
    "                                    \"qnlwzans\": 21},\n",
    "           \"employment_occupation\" : {\"xtkaffoo\": 1, \"mxkfnird\": 2, \"emcorrxb\": 3, \"cmhcxjea\": 4, \"xgwztkwe\": 5, \"hfxkjkmi\": 6, \"qxajmpny\": 7, \"xqwwgdyp\": 8, \"kldqjyjy\": 9,\n",
    "                                    \"uqqtjvyb\": 10, \"tfqavkke\": 11, \"ukymxvdu\": 12, \"vlluhbov\": 13, \"oijqvulv\": 14, \"ccgxvspp\": 15, \"bxpfxfdn\": 16, \"haliazsg\": 17, \"rcertsgn\": 18, \"xzmlyyjv\": 19, \"dlvbwzss\": 20,\n",
    "                                    \"hodpvpew\": 21, \"dcjcmpih\": 22, \"pvmttkik\": 23},\n",
    "           \"marital_status\" : {\"Married\": 1, \"Not Married\": 2},\n",
    "           \"employment_status\" : {\"Employed\": 1, \"Not in Labor Force\": 2, \"Unemployed\": 3}\n",
    "                                  }\n",
    "X_iter_knn_num = X_iter_knn.replace(cleanup)"
   ]
  },
  {
   "cell_type": "code",
   "execution_count": 133,
   "metadata": {},
   "outputs": [],
   "source": [
    "#function to encode the strin data, but keep the missing values\n",
    "from sklearn.preprocessing import OrdinalEncoder\n",
    "encoder = OrdinalEncoder()\n",
    "\n",
    "cat_cols = list(X_iter_knn.columns.values)\n",
    "\n",
    "def encode(data):\n",
    "    #function to encode non-null data and replace it in the original data\n",
    "    #retains only non-null values\n",
    "    nonulls = np.array(data.dropna())\n",
    "    #reshapes the data for encoding\n",
    "    impute_reshape = nonulls.reshape(-1,1)\n",
    "    #encode date\n",
    "    impute_ordinal = encoder.fit_transform(impute_reshape)\n",
    "    #Assign back encoded values to non-null values\n",
    "    data.loc[data.notnull()] = np.squeeze(impute_ordinal)\n",
    "    return data\n",
    "\n",
    "#create a for loop to iterate through each column in the data\n",
    "for columns in cat_cols:\n",
    "    encode(X_iter_knn[columns])"
   ]
  },
  {
   "cell_type": "code",
   "execution_count": 136,
   "metadata": {},
   "outputs": [],
   "source": [
    "X_iter_knn_num = X_iter_knn_num.astype('Int64')"
   ]
  },
  {
   "cell_type": "code",
   "execution_count": 138,
   "metadata": {},
   "outputs": [
    {
     "data": {
      "text/html": [
       "<div>\n",
       "<style scoped>\n",
       "    .dataframe tbody tr th:only-of-type {\n",
       "        vertical-align: middle;\n",
       "    }\n",
       "\n",
       "    .dataframe tbody tr th {\n",
       "        vertical-align: top;\n",
       "    }\n",
       "\n",
       "    .dataframe thead th {\n",
       "        text-align: right;\n",
       "    }\n",
       "</style>\n",
       "<table border=\"1\" class=\"dataframe\">\n",
       "  <thead>\n",
       "    <tr style=\"text-align: right;\">\n",
       "      <th></th>\n",
       "      <th>h1n1_concern</th>\n",
       "      <th>h1n1_knowledge</th>\n",
       "      <th>behavioral_antiviral_meds</th>\n",
       "      <th>behavioral_avoidance</th>\n",
       "      <th>behavioral_face_mask</th>\n",
       "      <th>behavioral_wash_hands</th>\n",
       "      <th>behavioral_large_gatherings</th>\n",
       "      <th>behavioral_outside_home</th>\n",
       "      <th>behavioral_touch_face</th>\n",
       "      <th>doctor_recc_h1n1</th>\n",
       "      <th>...</th>\n",
       "      <th>rent_or_own</th>\n",
       "      <th>employment_status</th>\n",
       "      <th>hhs_geo_region</th>\n",
       "      <th>census_msa</th>\n",
       "      <th>household_adults</th>\n",
       "      <th>household_children</th>\n",
       "      <th>employment_industry</th>\n",
       "      <th>employment_occupation</th>\n",
       "      <th>educationmap</th>\n",
       "      <th>employment_occupationmap</th>\n",
       "    </tr>\n",
       "  </thead>\n",
       "  <tbody>\n",
       "    <tr>\n",
       "      <th>0</th>\n",
       "      <td>1</td>\n",
       "      <td>0</td>\n",
       "      <td>0</td>\n",
       "      <td>0</td>\n",
       "      <td>0</td>\n",
       "      <td>0</td>\n",
       "      <td>0</td>\n",
       "      <td>1</td>\n",
       "      <td>1</td>\n",
       "      <td>0</td>\n",
       "      <td>...</td>\n",
       "      <td>1</td>\n",
       "      <td>2</td>\n",
       "      <td>5</td>\n",
       "      <td>3</td>\n",
       "      <td>0</td>\n",
       "      <td>0</td>\n",
       "      <td>&lt;NA&gt;</td>\n",
       "      <td>&lt;NA&gt;</td>\n",
       "      <td>1</td>\n",
       "      <td>&lt;NA&gt;</td>\n",
       "    </tr>\n",
       "    <tr>\n",
       "      <th>1</th>\n",
       "      <td>3</td>\n",
       "      <td>2</td>\n",
       "      <td>0</td>\n",
       "      <td>1</td>\n",
       "      <td>0</td>\n",
       "      <td>1</td>\n",
       "      <td>0</td>\n",
       "      <td>1</td>\n",
       "      <td>1</td>\n",
       "      <td>0</td>\n",
       "      <td>...</td>\n",
       "      <td>2</td>\n",
       "      <td>1</td>\n",
       "      <td>4</td>\n",
       "      <td>1</td>\n",
       "      <td>0</td>\n",
       "      <td>0</td>\n",
       "      <td>4</td>\n",
       "      <td>5</td>\n",
       "      <td>2</td>\n",
       "      <td>5</td>\n",
       "    </tr>\n",
       "    <tr>\n",
       "      <th>2</th>\n",
       "      <td>1</td>\n",
       "      <td>1</td>\n",
       "      <td>0</td>\n",
       "      <td>1</td>\n",
       "      <td>0</td>\n",
       "      <td>0</td>\n",
       "      <td>0</td>\n",
       "      <td>0</td>\n",
       "      <td>0</td>\n",
       "      <td>&lt;NA&gt;</td>\n",
       "      <td>...</td>\n",
       "      <td>1</td>\n",
       "      <td>1</td>\n",
       "      <td>3</td>\n",
       "      <td>1</td>\n",
       "      <td>2</td>\n",
       "      <td>0</td>\n",
       "      <td>10</td>\n",
       "      <td>1</td>\n",
       "      <td>4</td>\n",
       "      <td>1</td>\n",
       "    </tr>\n",
       "    <tr>\n",
       "      <th>3</th>\n",
       "      <td>1</td>\n",
       "      <td>1</td>\n",
       "      <td>0</td>\n",
       "      <td>1</td>\n",
       "      <td>0</td>\n",
       "      <td>1</td>\n",
       "      <td>1</td>\n",
       "      <td>0</td>\n",
       "      <td>0</td>\n",
       "      <td>0</td>\n",
       "      <td>...</td>\n",
       "      <td>2</td>\n",
       "      <td>2</td>\n",
       "      <td>9</td>\n",
       "      <td>2</td>\n",
       "      <td>0</td>\n",
       "      <td>0</td>\n",
       "      <td>&lt;NA&gt;</td>\n",
       "      <td>&lt;NA&gt;</td>\n",
       "      <td>2</td>\n",
       "      <td>&lt;NA&gt;</td>\n",
       "    </tr>\n",
       "    <tr>\n",
       "      <th>4</th>\n",
       "      <td>2</td>\n",
       "      <td>1</td>\n",
       "      <td>0</td>\n",
       "      <td>1</td>\n",
       "      <td>0</td>\n",
       "      <td>1</td>\n",
       "      <td>1</td>\n",
       "      <td>0</td>\n",
       "      <td>1</td>\n",
       "      <td>0</td>\n",
       "      <td>...</td>\n",
       "      <td>1</td>\n",
       "      <td>1</td>\n",
       "      <td>3</td>\n",
       "      <td>1</td>\n",
       "      <td>1</td>\n",
       "      <td>0</td>\n",
       "      <td>2</td>\n",
       "      <td>3</td>\n",
       "      <td>3</td>\n",
       "      <td>3</td>\n",
       "    </tr>\n",
       "  </tbody>\n",
       "</table>\n",
       "<p>5 rows × 37 columns</p>\n",
       "</div>"
      ],
      "text/plain": [
       "   h1n1_concern  h1n1_knowledge  behavioral_antiviral_meds  \\\n",
       "0             1               0                          0   \n",
       "1             3               2                          0   \n",
       "2             1               1                          0   \n",
       "3             1               1                          0   \n",
       "4             2               1                          0   \n",
       "\n",
       "   behavioral_avoidance  behavioral_face_mask  behavioral_wash_hands  \\\n",
       "0                     0                     0                      0   \n",
       "1                     1                     0                      1   \n",
       "2                     1                     0                      0   \n",
       "3                     1                     0                      1   \n",
       "4                     1                     0                      1   \n",
       "\n",
       "   behavioral_large_gatherings  behavioral_outside_home  \\\n",
       "0                            0                        1   \n",
       "1                            0                        1   \n",
       "2                            0                        0   \n",
       "3                            1                        0   \n",
       "4                            1                        0   \n",
       "\n",
       "   behavioral_touch_face  doctor_recc_h1n1  ...  rent_or_own  \\\n",
       "0                      1                 0  ...            1   \n",
       "1                      1                 0  ...            2   \n",
       "2                      0              <NA>  ...            1   \n",
       "3                      0                 0  ...            2   \n",
       "4                      1                 0  ...            1   \n",
       "\n",
       "   employment_status  hhs_geo_region  census_msa  household_adults  \\\n",
       "0                  2               5           3                 0   \n",
       "1                  1               4           1                 0   \n",
       "2                  1               3           1                 2   \n",
       "3                  2               9           2                 0   \n",
       "4                  1               3           1                 1   \n",
       "\n",
       "   household_children  employment_industry  employment_occupation  \\\n",
       "0                   0                 <NA>                   <NA>   \n",
       "1                   0                    4                      5   \n",
       "2                   0                   10                      1   \n",
       "3                   0                 <NA>                   <NA>   \n",
       "4                   0                    2                      3   \n",
       "\n",
       "   educationmap  employment_occupationmap  \n",
       "0             1                      <NA>  \n",
       "1             2                         5  \n",
       "2             4                         1  \n",
       "3             2                      <NA>  \n",
       "4             3                         3  \n",
       "\n",
       "[5 rows x 37 columns]"
      ]
     },
     "execution_count": 138,
     "metadata": {},
     "output_type": "execute_result"
    }
   ],
   "source": [
    "X_iter_knn_num.head()"
   ]
  },
  {
   "cell_type": "code",
   "execution_count": 140,
   "metadata": {},
   "outputs": [
    {
     "data": {
      "text/plain": [
       "4    10097\n",
       "3     7043\n",
       "2     5797\n",
       "1     2363\n",
       "Name: education, dtype: Int64"
      ]
     },
     "execution_count": 140,
     "metadata": {},
     "output_type": "execute_result"
    }
   ],
   "source": [
    "X_iter_knn_num['education'].value_counts()"
   ]
  },
  {
   "cell_type": "code",
   "execution_count": 141,
   "metadata": {},
   "outputs": [],
   "source": [
    "from sklearn.impute import KNNImputer\n",
    "\n",
    "#define imputer\n",
    "knn_imputer = KNNImputer(n_neighbors=3)\n",
    "\n",
    "# fit and transform on the dataset\n",
    "X_strat3 = knn_imputer.fit_transform(X_iter_knn_num)"
   ]
  },
  {
   "cell_type": "code",
   "execution_count": 142,
   "metadata": {},
   "outputs": [],
   "source": [
    "col_names = X_iter_knn.columns.values.tolist()\n",
    "X_strat3 = pd.DataFrame(X_strat3, columns=col_names)"
   ]
  },
  {
   "cell_type": "code",
   "execution_count": 143,
   "metadata": {},
   "outputs": [
    {
     "data": {
      "text/plain": [
       "h1n1_concern                   0\n",
       "h1n1_knowledge                 0\n",
       "behavioral_antiviral_meds      0\n",
       "behavioral_avoidance           0\n",
       "behavioral_face_mask           0\n",
       "behavioral_wash_hands          0\n",
       "behavioral_large_gatherings    0\n",
       "behavioral_outside_home        0\n",
       "behavioral_touch_face          0\n",
       "doctor_recc_h1n1               0\n",
       "doctor_recc_seasonal           0\n",
       "chronic_med_condition          0\n",
       "child_under_6_months           0\n",
       "health_worker                  0\n",
       "health_insurance               0\n",
       "opinion_h1n1_vacc_effective    0\n",
       "opinion_h1n1_risk              0\n",
       "opinion_h1n1_sick_from_vacc    0\n",
       "opinion_seas_vacc_effective    0\n",
       "opinion_seas_risk              0\n",
       "opinion_seas_sick_from_vacc    0\n",
       "age_group                      0\n",
       "education                      0\n",
       "race                           0\n",
       "sex                            0\n",
       "income_poverty                 0\n",
       "marital_status                 0\n",
       "rent_or_own                    0\n",
       "employment_status              0\n",
       "hhs_geo_region                 0\n",
       "census_msa                     0\n",
       "household_adults               0\n",
       "household_children             0\n",
       "employment_industry            0\n",
       "employment_occupation          0\n",
       "educationmap                   0\n",
       "employment_occupationmap       0\n",
       "dtype: int64"
      ]
     },
     "execution_count": 143,
     "metadata": {},
     "output_type": "execute_result"
    }
   ],
   "source": [
    "X_strat3.isnull().sum(axis = 0)"
   ]
  },
  {
   "cell_type": "markdown",
   "metadata": {},
   "source": [
    "Values are imputed, but the numerical categories are treated as continuous--therefore, some of the imputed features are continuous numbers that fall in between the categories (e.g. 7.6666). As a work-around, all the values in the dataframe were rounded to the nearest whole number."
   ]
  },
  {
   "cell_type": "code",
   "execution_count": 145,
   "metadata": {},
   "outputs": [],
   "source": [
    "X_strat3 = X_strat3.round()"
   ]
  },
  {
   "cell_type": "code",
   "execution_count": 146,
   "metadata": {},
   "outputs": [
    {
     "data": {
      "text/html": [
       "<div>\n",
       "<style scoped>\n",
       "    .dataframe tbody tr th:only-of-type {\n",
       "        vertical-align: middle;\n",
       "    }\n",
       "\n",
       "    .dataframe tbody tr th {\n",
       "        vertical-align: top;\n",
       "    }\n",
       "\n",
       "    .dataframe thead th {\n",
       "        text-align: right;\n",
       "    }\n",
       "</style>\n",
       "<table border=\"1\" class=\"dataframe\">\n",
       "  <thead>\n",
       "    <tr style=\"text-align: right;\">\n",
       "      <th></th>\n",
       "      <th>h1n1_concern</th>\n",
       "      <th>h1n1_knowledge</th>\n",
       "      <th>behavioral_antiviral_meds</th>\n",
       "      <th>behavioral_avoidance</th>\n",
       "      <th>behavioral_face_mask</th>\n",
       "      <th>behavioral_wash_hands</th>\n",
       "      <th>behavioral_large_gatherings</th>\n",
       "      <th>behavioral_outside_home</th>\n",
       "      <th>behavioral_touch_face</th>\n",
       "      <th>doctor_recc_h1n1</th>\n",
       "      <th>...</th>\n",
       "      <th>rent_or_own</th>\n",
       "      <th>employment_status</th>\n",
       "      <th>hhs_geo_region</th>\n",
       "      <th>census_msa</th>\n",
       "      <th>household_adults</th>\n",
       "      <th>household_children</th>\n",
       "      <th>employment_industry</th>\n",
       "      <th>employment_occupation</th>\n",
       "      <th>educationmap</th>\n",
       "      <th>employment_occupationmap</th>\n",
       "    </tr>\n",
       "  </thead>\n",
       "  <tbody>\n",
       "    <tr>\n",
       "      <th>26702</th>\n",
       "      <td>2.0</td>\n",
       "      <td>0.0</td>\n",
       "      <td>0.0</td>\n",
       "      <td>1.0</td>\n",
       "      <td>0.0</td>\n",
       "      <td>0.0</td>\n",
       "      <td>0.0</td>\n",
       "      <td>1.0</td>\n",
       "      <td>0.0</td>\n",
       "      <td>0.0</td>\n",
       "      <td>...</td>\n",
       "      <td>1.0</td>\n",
       "      <td>2.0</td>\n",
       "      <td>3.0</td>\n",
       "      <td>3.0</td>\n",
       "      <td>0.0</td>\n",
       "      <td>0.0</td>\n",
       "      <td>5.0</td>\n",
       "      <td>8.0</td>\n",
       "      <td>3.0</td>\n",
       "      <td>8.0</td>\n",
       "    </tr>\n",
       "    <tr>\n",
       "      <th>26703</th>\n",
       "      <td>1.0</td>\n",
       "      <td>2.0</td>\n",
       "      <td>0.0</td>\n",
       "      <td>1.0</td>\n",
       "      <td>0.0</td>\n",
       "      <td>1.0</td>\n",
       "      <td>0.0</td>\n",
       "      <td>0.0</td>\n",
       "      <td>0.0</td>\n",
       "      <td>1.0</td>\n",
       "      <td>...</td>\n",
       "      <td>2.0</td>\n",
       "      <td>1.0</td>\n",
       "      <td>1.0</td>\n",
       "      <td>2.0</td>\n",
       "      <td>1.0</td>\n",
       "      <td>0.0</td>\n",
       "      <td>1.0</td>\n",
       "      <td>4.0</td>\n",
       "      <td>4.0</td>\n",
       "      <td>4.0</td>\n",
       "    </tr>\n",
       "    <tr>\n",
       "      <th>26704</th>\n",
       "      <td>2.0</td>\n",
       "      <td>2.0</td>\n",
       "      <td>0.0</td>\n",
       "      <td>1.0</td>\n",
       "      <td>1.0</td>\n",
       "      <td>1.0</td>\n",
       "      <td>1.0</td>\n",
       "      <td>0.0</td>\n",
       "      <td>1.0</td>\n",
       "      <td>0.0</td>\n",
       "      <td>...</td>\n",
       "      <td>1.0</td>\n",
       "      <td>2.0</td>\n",
       "      <td>1.0</td>\n",
       "      <td>1.0</td>\n",
       "      <td>0.0</td>\n",
       "      <td>0.0</td>\n",
       "      <td>4.0</td>\n",
       "      <td>4.0</td>\n",
       "      <td>3.0</td>\n",
       "      <td>4.0</td>\n",
       "    </tr>\n",
       "    <tr>\n",
       "      <th>26705</th>\n",
       "      <td>1.0</td>\n",
       "      <td>1.0</td>\n",
       "      <td>0.0</td>\n",
       "      <td>0.0</td>\n",
       "      <td>0.0</td>\n",
       "      <td>0.0</td>\n",
       "      <td>0.0</td>\n",
       "      <td>0.0</td>\n",
       "      <td>0.0</td>\n",
       "      <td>0.0</td>\n",
       "      <td>...</td>\n",
       "      <td>2.0</td>\n",
       "      <td>1.0</td>\n",
       "      <td>9.0</td>\n",
       "      <td>3.0</td>\n",
       "      <td>1.0</td>\n",
       "      <td>0.0</td>\n",
       "      <td>1.0</td>\n",
       "      <td>17.0</td>\n",
       "      <td>3.0</td>\n",
       "      <td>17.0</td>\n",
       "    </tr>\n",
       "    <tr>\n",
       "      <th>26706</th>\n",
       "      <td>0.0</td>\n",
       "      <td>0.0</td>\n",
       "      <td>0.0</td>\n",
       "      <td>1.0</td>\n",
       "      <td>0.0</td>\n",
       "      <td>0.0</td>\n",
       "      <td>0.0</td>\n",
       "      <td>0.0</td>\n",
       "      <td>0.0</td>\n",
       "      <td>0.0</td>\n",
       "      <td>...</td>\n",
       "      <td>1.0</td>\n",
       "      <td>2.0</td>\n",
       "      <td>7.0</td>\n",
       "      <td>2.0</td>\n",
       "      <td>1.0</td>\n",
       "      <td>0.0</td>\n",
       "      <td>11.0</td>\n",
       "      <td>11.0</td>\n",
       "      <td>3.0</td>\n",
       "      <td>11.0</td>\n",
       "    </tr>\n",
       "  </tbody>\n",
       "</table>\n",
       "<p>5 rows × 37 columns</p>\n",
       "</div>"
      ],
      "text/plain": [
       "       h1n1_concern  h1n1_knowledge  behavioral_antiviral_meds  \\\n",
       "26702           2.0             0.0                        0.0   \n",
       "26703           1.0             2.0                        0.0   \n",
       "26704           2.0             2.0                        0.0   \n",
       "26705           1.0             1.0                        0.0   \n",
       "26706           0.0             0.0                        0.0   \n",
       "\n",
       "       behavioral_avoidance  behavioral_face_mask  behavioral_wash_hands  \\\n",
       "26702                   1.0                   0.0                    0.0   \n",
       "26703                   1.0                   0.0                    1.0   \n",
       "26704                   1.0                   1.0                    1.0   \n",
       "26705                   0.0                   0.0                    0.0   \n",
       "26706                   1.0                   0.0                    0.0   \n",
       "\n",
       "       behavioral_large_gatherings  behavioral_outside_home  \\\n",
       "26702                          0.0                      1.0   \n",
       "26703                          0.0                      0.0   \n",
       "26704                          1.0                      0.0   \n",
       "26705                          0.0                      0.0   \n",
       "26706                          0.0                      0.0   \n",
       "\n",
       "       behavioral_touch_face  doctor_recc_h1n1  ...  rent_or_own  \\\n",
       "26702                    0.0               0.0  ...          1.0   \n",
       "26703                    0.0               1.0  ...          2.0   \n",
       "26704                    1.0               0.0  ...          1.0   \n",
       "26705                    0.0               0.0  ...          2.0   \n",
       "26706                    0.0               0.0  ...          1.0   \n",
       "\n",
       "       employment_status  hhs_geo_region  census_msa  household_adults  \\\n",
       "26702                2.0             3.0         3.0               0.0   \n",
       "26703                1.0             1.0         2.0               1.0   \n",
       "26704                2.0             1.0         1.0               0.0   \n",
       "26705                1.0             9.0         3.0               1.0   \n",
       "26706                2.0             7.0         2.0               1.0   \n",
       "\n",
       "       household_children  employment_industry  employment_occupation  \\\n",
       "26702                 0.0                  5.0                    8.0   \n",
       "26703                 0.0                  1.0                    4.0   \n",
       "26704                 0.0                  4.0                    4.0   \n",
       "26705                 0.0                  1.0                   17.0   \n",
       "26706                 0.0                 11.0                   11.0   \n",
       "\n",
       "       educationmap  employment_occupationmap  \n",
       "26702           3.0                       8.0  \n",
       "26703           4.0                       4.0  \n",
       "26704           3.0                       4.0  \n",
       "26705           3.0                      17.0  \n",
       "26706           3.0                      11.0  \n",
       "\n",
       "[5 rows x 37 columns]"
      ]
     },
     "execution_count": 146,
     "metadata": {},
     "output_type": "execute_result"
    }
   ],
   "source": [
    "X_strat3.tail()"
   ]
  },
  {
   "cell_type": "markdown",
   "metadata": {},
   "source": [
    "## Strategy 4:  imputation with IterativeImputer, default settings (apart from initial_strategy = “most_frequent”)"
   ]
  },
  {
   "cell_type": "markdown",
   "metadata": {},
   "source": [
    "https://scikit-learn.org/stable/modules/generated/sklearn.impute.IterativeImputer.html#sklearn.impute.IterativeImputer\n",
    "\n",
    "initial_strategy = “most_frequent”; other parameters at default (Bayesian Ridge estimation used)\n",
    "\n",
    "Other estimators: https://scikit-learn.org/stable/auto_examples/impute/plot_iterative_imputer_variants_comparison.html\n",
    "\n",
    "Dataframe split into X and Y before imputation, so the target variable isn't used in the imputation"
   ]
  },
  {
   "cell_type": "code",
   "execution_count": 240,
   "metadata": {},
   "outputs": [],
   "source": [
    "y_strat4 = df[['h1n1_vaccine', 'seasonal_vaccine']].copy()"
   ]
  },
  {
   "cell_type": "code",
   "execution_count": 241,
   "metadata": {},
   "outputs": [],
   "source": [
    "y_strat4 = y_strat4.to_numpy()"
   ]
  },
  {
   "cell_type": "code",
   "execution_count": 242,
   "metadata": {},
   "outputs": [],
   "source": [
    "#NB: dropping the 'h1n1_vaccine' and 'seasonal_vaccine' columns\n",
    "X_iter = df.drop(columns=['h1n1_vaccine', 'seasonal_vaccine'])"
   ]
  },
  {
   "cell_type": "code",
   "execution_count": 243,
   "metadata": {},
   "outputs": [],
   "source": [
    "cleanup = {\"age_group\": {\"18 - 34 Years\": 1, \"35 - 44 Years\": 2, \"45 - 54 Years\": 3, \"55 - 64 Years\": 4,\n",
    "                                  \"65+ Years\": 5},\n",
    "            \"education\": {\"< 12 Years\": 1, \"12 Years\": 2, \"Some College\": 3, \"College Graduate\": 4},\n",
    "            \"race\": {\"White\": 1, \"Black\": 2, \"Hispanic\": 3, \"Other or Multiple\": 4},\n",
    "            \"sex\" : {\"Female\": 1, \"Male\": 2},\n",
    "            \"rent_or_own\" : {\"Own\": 1, \"Rent\": 2},\n",
    "            \"hhs_geo_region\" : {\"lzgpxyit\": 1, \"fpwskwrf\": 2, \"qufhixun\": 3, \"bhuqouqj\": 4, \"oxchjgsf\": 5, \"kbazzjca\": 6, \"mlyzmhmf\": 7, \"atmpeygn\": 8, \"lrircsnp\": 9, \"dqpwygqj\": 10},\n",
    "            \"census_msa\" : {\"MSA, Not Principle  City\": 1, \"MSA, Principle City\": 2, \"Non-MSA\": 3},\n",
    "            \"income_poverty\" : {\"Below Poverty\": 1, \"<= $75,000, Above Poverty\": 2, \"> $75,000\": 3},\n",
    "            \"employment_industry\" : {\"fcxhlnwr\": 1, \"wxleyezf\": 2, \"ldnlellj\": 3, \"pxcmvdjn\": 4, \"atmlpfrs\": 5, \"arjwrbjb\": 6, \"xicduogh\": 7, \"mfikgejo\": 8, \"vjjrobsf\": 9,\n",
    "                                    \"rucpziij\": 10, \"xqicxuve\": 11, \"saaquncn\": 12, \"cfqqtusy\": 13, \"nduyfdeo\": 14, \"mcubkhph\": 15, \"wlfvacwt\": 16, \"dotnnunm\": 17, \"haxffmxo\": 18, \"msuufmds\": 19, \"phxvnwax\": 20,\n",
    "                                    \"qnlwzans\": 21},\n",
    "           \"employment_occupation\" : {\"xtkaffoo\": 1, \"mxkfnird\": 2, \"emcorrxb\": 3, \"cmhcxjea\": 4, \"xgwztkwe\": 5, \"hfxkjkmi\": 6, \"qxajmpny\": 7, \"xqwwgdyp\": 8, \"kldqjyjy\": 9,\n",
    "                                    \"uqqtjvyb\": 10, \"tfqavkke\": 11, \"ukymxvdu\": 12, \"vlluhbov\": 13, \"oijqvulv\": 14, \"ccgxvspp\": 15, \"bxpfxfdn\": 16, \"haliazsg\": 17, \"rcertsgn\": 18, \"xzmlyyjv\": 19, \"dlvbwzss\": 20,\n",
    "                                    \"hodpvpew\": 21, \"dcjcmpih\": 22, \"pvmttkik\": 23},\n",
    "           \"marital_status\" : {\"Married\": 1, \"Not Married\": 2},\n",
    "           \"employment_status\" : {\"Employed\": 1, \"Not in Labor Force\": 2, \"Unemployed\": 3}\n",
    "                                  }\n",
    "X_iter = X_iter.replace(cleanup)"
   ]
  },
  {
   "cell_type": "code",
   "execution_count": 244,
   "metadata": {},
   "outputs": [],
   "source": [
    "X_iter = X_iter.astype('Int64')"
   ]
  },
  {
   "cell_type": "code",
   "execution_count": 245,
   "metadata": {},
   "outputs": [],
   "source": [
    "from sklearn.experimental import enable_iterative_imputer\n",
    "from sklearn.impute import IterativeImputer\n",
    "\n",
    "#define imputer\n",
    "iter_imputer = IterativeImputer(initial_strategy='most_frequent')\n",
    "\n",
    "# fit and transform on the dataset\n",
    "X_strat4 = iter_imputer.fit_transform(X_iter)"
   ]
  },
  {
   "cell_type": "code",
   "execution_count": 246,
   "metadata": {},
   "outputs": [],
   "source": [
    "col_names = X_iter.columns.values.tolist()\n",
    "X_strat4 = pd.DataFrame(X_strat4, columns=col_names)"
   ]
  },
  {
   "cell_type": "code",
   "execution_count": 247,
   "metadata": {},
   "outputs": [
    {
     "data": {
      "text/plain": [
       "h1n1_concern                   0\n",
       "h1n1_knowledge                 0\n",
       "behavioral_antiviral_meds      0\n",
       "behavioral_avoidance           0\n",
       "behavioral_face_mask           0\n",
       "behavioral_wash_hands          0\n",
       "behavioral_large_gatherings    0\n",
       "behavioral_outside_home        0\n",
       "behavioral_touch_face          0\n",
       "doctor_recc_h1n1               0\n",
       "doctor_recc_seasonal           0\n",
       "chronic_med_condition          0\n",
       "child_under_6_months           0\n",
       "health_worker                  0\n",
       "health_insurance               0\n",
       "opinion_h1n1_vacc_effective    0\n",
       "opinion_h1n1_risk              0\n",
       "opinion_h1n1_sick_from_vacc    0\n",
       "opinion_seas_vacc_effective    0\n",
       "opinion_seas_risk              0\n",
       "opinion_seas_sick_from_vacc    0\n",
       "age_group                      0\n",
       "education                      0\n",
       "race                           0\n",
       "sex                            0\n",
       "income_poverty                 0\n",
       "marital_status                 0\n",
       "rent_or_own                    0\n",
       "employment_status              0\n",
       "hhs_geo_region                 0\n",
       "census_msa                     0\n",
       "household_adults               0\n",
       "household_children             0\n",
       "employment_industry            0\n",
       "employment_occupation          0\n",
       "dtype: int64"
      ]
     },
     "execution_count": 247,
     "metadata": {},
     "output_type": "execute_result"
    }
   ],
   "source": [
    "X_strat4.isnull().sum(axis = 0)"
   ]
  },
  {
   "cell_type": "markdown",
   "metadata": {},
   "source": [
    "Values are imputed, but the numerical categories are treated as continuous--therefore, some of the imputed features are continuous numbers that fall in between the categories (e.g. 7.6666). As a work-around, all the values in the dataframe were rounded to the nearest whole number."
   ]
  },
  {
   "cell_type": "code",
   "execution_count": 248,
   "metadata": {},
   "outputs": [],
   "source": [
    "X_strat4 = X_strat4.round()"
   ]
  },
  {
   "cell_type": "markdown",
   "metadata": {},
   "source": [
    "One value in X_strat4['marital_status'] got rounded down to 0 and is causing problems--row with this value was deleted"
   ]
  },
  {
   "cell_type": "code",
   "execution_count": 225,
   "metadata": {},
   "outputs": [
    {
     "data": {
      "text/plain": [
       "1.0    14342\n",
       "2.0    12364\n",
       "0.0        1\n",
       "Name: marital_status, dtype: int64"
      ]
     },
     "execution_count": 225,
     "metadata": {},
     "output_type": "execute_result"
    }
   ],
   "source": [
    "X_strat4['marital_status'].value_counts()"
   ]
  },
  {
   "cell_type": "code",
   "execution_count": 226,
   "metadata": {},
   "outputs": [
    {
     "data": {
      "text/plain": [
       "Int64Index([18121], dtype='int64')"
      ]
     },
     "execution_count": 226,
     "metadata": {},
     "output_type": "execute_result"
    }
   ],
   "source": [
    "X_strat4[X_strat4.marital_status == 0].index"
   ]
  },
  {
   "cell_type": "code",
   "execution_count": 228,
   "metadata": {},
   "outputs": [
    {
     "data": {
      "text/plain": [
       "array([0, 0])"
      ]
     },
     "execution_count": 228,
     "metadata": {},
     "output_type": "execute_result"
    }
   ],
   "source": [
    "y_strat4[18121]"
   ]
  },
  {
   "cell_type": "code",
   "execution_count": 251,
   "metadata": {},
   "outputs": [],
   "source": [
    "y_strat4 = np.delete(y_strat4, 18121, axis = 0)"
   ]
  },
  {
   "cell_type": "code",
   "execution_count": 253,
   "metadata": {},
   "outputs": [],
   "source": [
    "X_strat4 = X_strat4[X_strat4.marital_status != 0]"
   ]
  },
  {
   "cell_type": "code",
   "execution_count": 254,
   "metadata": {},
   "outputs": [
    {
     "data": {
      "text/plain": [
       "(26706, 35)"
      ]
     },
     "execution_count": 254,
     "metadata": {},
     "output_type": "execute_result"
    }
   ],
   "source": [
    "X_strat4.shape"
   ]
  },
  {
   "cell_type": "code",
   "execution_count": 255,
   "metadata": {},
   "outputs": [
    {
     "data": {
      "text/plain": [
       "(26706, 2)"
      ]
     },
     "execution_count": 255,
     "metadata": {},
     "output_type": "execute_result"
    }
   ],
   "source": [
    "y_strat4.shape"
   ]
  },
  {
   "cell_type": "markdown",
   "metadata": {},
   "source": [
    "## Strategy 5:  imputation with IterativeImputer, Decision Tree regressor (initial_strategy = “most_frequent”)"
   ]
  },
  {
   "cell_type": "markdown",
   "metadata": {},
   "source": [
    "https://scikit-learn.org/stable/modules/generated/sklearn.impute.IterativeImputer.html#sklearn.impute.IterativeImputer\n",
    "\n",
    "initial_strategy = “most_frequent”; other parameters at default (Bayesian Ridge estimation used)\n",
    "\n",
    "Other estimators: https://scikit-learn.org/stable/auto_examples/impute/plot_iterative_imputer_variants_comparison.html\n",
    "\n",
    "Dataframe split into X and Y before imputation, so the target variable isn't used in the imputation"
   ]
  },
  {
   "cell_type": "code",
   "execution_count": 271,
   "metadata": {},
   "outputs": [],
   "source": [
    "y_strat5 = df[['h1n1_vaccine', 'seasonal_vaccine']].copy()"
   ]
  },
  {
   "cell_type": "code",
   "execution_count": 272,
   "metadata": {},
   "outputs": [],
   "source": [
    "y_strat5 = y_strat5.to_numpy()"
   ]
  },
  {
   "cell_type": "code",
   "execution_count": 273,
   "metadata": {},
   "outputs": [],
   "source": [
    "#NB: dropping the 'h1n1_vaccine' and 'seasonal_vaccine' columns\n",
    "X_iter_DT = df.drop(columns=['h1n1_vaccine', 'seasonal_vaccine'])"
   ]
  },
  {
   "cell_type": "code",
   "execution_count": 274,
   "metadata": {},
   "outputs": [],
   "source": [
    "cleanup = {\"age_group\": {\"18 - 34 Years\": 1, \"35 - 44 Years\": 2, \"45 - 54 Years\": 3, \"55 - 64 Years\": 4,\n",
    "                                  \"65+ Years\": 5},\n",
    "            \"education\": {\"< 12 Years\": 1, \"12 Years\": 2, \"Some College\": 3, \"College Graduate\": 4},\n",
    "            \"race\": {\"White\": 1, \"Black\": 2, \"Hispanic\": 3, \"Other or Multiple\": 4},\n",
    "            \"sex\" : {\"Female\": 1, \"Male\": 2},\n",
    "            \"rent_or_own\" : {\"Own\": 1, \"Rent\": 2},\n",
    "            \"hhs_geo_region\" : {\"lzgpxyit\": 1, \"fpwskwrf\": 2, \"qufhixun\": 3, \"bhuqouqj\": 4, \"oxchjgsf\": 5, \"kbazzjca\": 6, \"mlyzmhmf\": 7, \"atmpeygn\": 8, \"lrircsnp\": 9, \"dqpwygqj\": 10},\n",
    "            \"census_msa\" : {\"MSA, Not Principle  City\": 1, \"MSA, Principle City\": 2, \"Non-MSA\": 3},\n",
    "            \"income_poverty\" : {\"Below Poverty\": 1, \"<= $75,000, Above Poverty\": 2, \"> $75,000\": 3},\n",
    "            \"employment_industry\" : {\"fcxhlnwr\": 1, \"wxleyezf\": 2, \"ldnlellj\": 3, \"pxcmvdjn\": 4, \"atmlpfrs\": 5, \"arjwrbjb\": 6, \"xicduogh\": 7, \"mfikgejo\": 8, \"vjjrobsf\": 9,\n",
    "                                    \"rucpziij\": 10, \"xqicxuve\": 11, \"saaquncn\": 12, \"cfqqtusy\": 13, \"nduyfdeo\": 14, \"mcubkhph\": 15, \"wlfvacwt\": 16, \"dotnnunm\": 17, \"haxffmxo\": 18, \"msuufmds\": 19, \"phxvnwax\": 20,\n",
    "                                    \"qnlwzans\": 21},\n",
    "           \"employment_occupation\" : {\"xtkaffoo\": 1, \"mxkfnird\": 2, \"emcorrxb\": 3, \"cmhcxjea\": 4, \"xgwztkwe\": 5, \"hfxkjkmi\": 6, \"qxajmpny\": 7, \"xqwwgdyp\": 8, \"kldqjyjy\": 9,\n",
    "                                    \"uqqtjvyb\": 10, \"tfqavkke\": 11, \"ukymxvdu\": 12, \"vlluhbov\": 13, \"oijqvulv\": 14, \"ccgxvspp\": 15, \"bxpfxfdn\": 16, \"haliazsg\": 17, \"rcertsgn\": 18, \"xzmlyyjv\": 19, \"dlvbwzss\": 20,\n",
    "                                    \"hodpvpew\": 21, \"dcjcmpih\": 22, \"pvmttkik\": 23},\n",
    "           \"marital_status\" : {\"Married\": 1, \"Not Married\": 2},\n",
    "           \"employment_status\" : {\"Employed\": 1, \"Not in Labor Force\": 2, \"Unemployed\": 3}\n",
    "                                  }\n",
    "X_iter_DT = X_iter_DT.replace(cleanup)"
   ]
  },
  {
   "cell_type": "code",
   "execution_count": 275,
   "metadata": {},
   "outputs": [],
   "source": [
    "X_iter_DT = X_iter_DT.astype('Int64')"
   ]
  },
  {
   "cell_type": "code",
   "execution_count": 277,
   "metadata": {},
   "outputs": [],
   "source": [
    "from sklearn.tree import DecisionTreeRegressor\n",
    "\n",
    "#define imputer\n",
    "iter_imputer_DT = IterativeImputer(estimator = DecisionTreeRegressor(), initial_strategy='most_frequent')\n",
    "\n",
    "# fit and transform on the dataset\n",
    "X_strat5 = iter_imputer_DT.fit_transform(X_iter_DT)"
   ]
  },
  {
   "cell_type": "code",
   "execution_count": 278,
   "metadata": {},
   "outputs": [],
   "source": [
    "col_names = X_iter_DT.columns.values.tolist()\n",
    "X_strat5 = pd.DataFrame(X_strat5, columns=col_names)"
   ]
  },
  {
   "cell_type": "code",
   "execution_count": 279,
   "metadata": {},
   "outputs": [
    {
     "data": {
      "text/plain": [
       "h1n1_concern                   0\n",
       "h1n1_knowledge                 0\n",
       "behavioral_antiviral_meds      0\n",
       "behavioral_avoidance           0\n",
       "behavioral_face_mask           0\n",
       "behavioral_wash_hands          0\n",
       "behavioral_large_gatherings    0\n",
       "behavioral_outside_home        0\n",
       "behavioral_touch_face          0\n",
       "doctor_recc_h1n1               0\n",
       "doctor_recc_seasonal           0\n",
       "chronic_med_condition          0\n",
       "child_under_6_months           0\n",
       "health_worker                  0\n",
       "health_insurance               0\n",
       "opinion_h1n1_vacc_effective    0\n",
       "opinion_h1n1_risk              0\n",
       "opinion_h1n1_sick_from_vacc    0\n",
       "opinion_seas_vacc_effective    0\n",
       "opinion_seas_risk              0\n",
       "opinion_seas_sick_from_vacc    0\n",
       "age_group                      0\n",
       "education                      0\n",
       "race                           0\n",
       "sex                            0\n",
       "income_poverty                 0\n",
       "marital_status                 0\n",
       "rent_or_own                    0\n",
       "employment_status              0\n",
       "hhs_geo_region                 0\n",
       "census_msa                     0\n",
       "household_adults               0\n",
       "household_children             0\n",
       "employment_industry            0\n",
       "employment_occupation          0\n",
       "dtype: int64"
      ]
     },
     "execution_count": 279,
     "metadata": {},
     "output_type": "execute_result"
    }
   ],
   "source": [
    "X_strat5.isnull().sum(axis = 0)"
   ]
  },
  {
   "cell_type": "markdown",
   "metadata": {},
   "source": [
    "Values are imputed, but the numerical categories are treated as continuous--therefore, some of the imputed features are continuous numbers that fall in between the categories (e.g. 7.6666). As a work-around, all the values in the dataframe were rounded to the nearest whole number."
   ]
  },
  {
   "cell_type": "code",
   "execution_count": 280,
   "metadata": {},
   "outputs": [],
   "source": [
    "X_strat5 = X_strat5.round()"
   ]
  },
  {
   "cell_type": "markdown",
   "metadata": {},
   "source": [
    "---"
   ]
  },
  {
   "cell_type": "markdown",
   "metadata": {},
   "source": [
    "These parts need to be adjusted for each imputation strategy"
   ]
  },
  {
   "cell_type": "markdown",
   "metadata": {},
   "source": [
    "## Initial strategy"
   ]
  },
  {
   "cell_type": "markdown",
   "metadata": {},
   "source": [
    "### Setting up variables"
   ]
  },
  {
   "cell_type": "code",
   "execution_count": null,
   "metadata": {},
   "outputs": [],
   "source": [
    "cat_features = list(df_initial.columns)"
   ]
  },
  {
   "cell_type": "markdown",
   "metadata": {},
   "source": [
    "Removal of target variables from cat_features list:"
   ]
  },
  {
   "cell_type": "code",
   "execution_count": null,
   "metadata": {},
   "outputs": [],
   "source": [
    "cat_features.remove('h1n1_vaccine')"
   ]
  },
  {
   "cell_type": "code",
   "execution_count": null,
   "metadata": {},
   "outputs": [],
   "source": [
    "cat_features.remove('seasonal_vaccine')"
   ]
  },
  {
   "cell_type": "markdown",
   "metadata": {},
   "source": [
    "Rename the features and target to 'X' and 'y', to make the test-train split easier (adjust for each dataframe, because the number of rows in the target will be different, depending on imputation strategy):"
   ]
  },
  {
   "cell_type": "code",
   "execution_count": null,
   "metadata": {},
   "outputs": [],
   "source": [
    "y_initial = df_initial[['h1n1_vaccine', 'seasonal_vaccine']].copy()"
   ]
  },
  {
   "cell_type": "code",
   "execution_count": null,
   "metadata": {},
   "outputs": [],
   "source": [
    "y_initial = y_initial.to_numpy()"
   ]
  },
  {
   "cell_type": "code",
   "execution_count": null,
   "metadata": {},
   "outputs": [],
   "source": [
    "#NB: dropping the 'h1n1_vaccine' and 'seasonal_vaccine' columns\n",
    "X_initial = df_initial.drop(columns=['h1n1_vaccine', 'seasonal_vaccine'])"
   ]
  },
  {
   "cell_type": "markdown",
   "metadata": {},
   "source": [
    "### Setting up pipeline  \n",
    "\n",
    "Doesn't need modifying, but needs to be run for each imputation strategy"
   ]
  },
  {
   "cell_type": "code",
   "execution_count": null,
   "metadata": {},
   "outputs": [],
   "source": [
    "# Pipeline for categorical features\n",
    "#CHECK HERE--ARE WE DROPPING THE FIRST COLUMN TO PREVENT MULTICOLINEARITY?\n",
    "cat_pipeline = Pipeline([\n",
    "    ('1hot', OneHotEncoder(handle_unknown='error', drop='first'))\n",
    "])"
   ]
  },
  {
   "cell_type": "code",
   "execution_count": null,
   "metadata": {},
   "outputs": [],
   "source": [
    "preprocessor = ColumnTransformer([\n",
    "    ('cat', cat_pipeline, cat_features)\n",
    "])"
   ]
  },
  {
   "cell_type": "code",
   "execution_count": null,
   "metadata": {},
   "outputs": [],
   "source": [
    "estimators = MultiOutputClassifier(\n",
    "    estimator=LogisticRegression()\n",
    ")"
   ]
  },
  {
   "cell_type": "code",
   "execution_count": null,
   "metadata": {},
   "outputs": [],
   "source": [
    "full_pipeline = Pipeline([\n",
    "    (\"preprocessor\", preprocessor),\n",
    "    (\"estimators\", estimators),\n",
    "])"
   ]
  },
  {
   "cell_type": "markdown",
   "metadata": {},
   "source": [
    "### Train-test split\n",
    "\n",
    "Names need to be modified"
   ]
  },
  {
   "cell_type": "code",
   "execution_count": null,
   "metadata": {},
   "outputs": [],
   "source": [
    "X_train_init, X_test_init, y_train_init, y_test_init = train_test_split(X_initial, y_initial, stratify = y_initial, test_size=0.2, random_state=RSEED)"
   ]
  },
  {
   "cell_type": "code",
   "execution_count": null,
   "metadata": {},
   "outputs": [],
   "source": [
    "print('X_train_init shape:', X_train_init.shape)\n",
    "print('X_test_init shape:', X_test_init.shape)\n",
    "print('y_train_init shape:', y_train_init.shape)\n",
    "print('y_test_init shape:', y_test_init.shape)"
   ]
  },
  {
   "cell_type": "code",
   "execution_count": null,
   "metadata": {},
   "outputs": [],
   "source": [
    "full_pipeline.fit(X_train_init, y_train_init)"
   ]
  },
  {
   "cell_type": "code",
   "execution_count": null,
   "metadata": {},
   "outputs": [],
   "source": [
    "#getting predictions from train data\n",
    "preds_train_init = full_pipeline.predict(X_train_init)"
   ]
  },
  {
   "cell_type": "code",
   "execution_count": null,
   "metadata": {},
   "outputs": [],
   "source": [
    "#getting predictions from test data\n",
    "preds_test_init = full_pipeline.predict(X_test_init)\n"
   ]
  },
  {
   "cell_type": "markdown",
   "metadata": {},
   "source": [
    "### Model evaluation"
   ]
  },
  {
   "cell_type": "code",
   "execution_count": null,
   "metadata": {},
   "outputs": [],
   "source": [
    "# Evaluation Metrices for H1N1 Vaccines--train data\n",
    "print(\"Accuracy: {:.2f}\".format(accuracy_score(y_train_init[:, 0], preds_train_init[:, 0])))\n",
    "print(\"Recall: {:.2f}\".format(recall_score(y_train_init[:, 0], preds_train_init[:, 0])))\n",
    "print(\"Precision: {:.2f}\".format(precision_score(y_train_init[:, 0], preds_train_init[:, 0])))\n",
    "print(\"F1: {:.2f}\".format(f1_score(y_train_init[:, 0], preds_train_init[:, 0])))\n",
    "print(\"ROC: {:.2f}\".format(roc_auc_score(y_train_init[:, 0], preds_train_init[:, 0])))"
   ]
  },
  {
   "cell_type": "code",
   "execution_count": null,
   "metadata": {},
   "outputs": [],
   "source": [
    "# Evaluation Metrices for H1N1 Vaccines--test data\n",
    "print(\"Accuracy: {:.2f}\".format(accuracy_score(y_test_init[:, 0], preds_test_init[:, 0])))\n",
    "print(\"Recall: {:.2f}\".format(recall_score(y_test_init[:, 0], preds_test_init[:, 0])))\n",
    "print(\"Precision: {:.2f}\".format(precision_score(y_test_init[:, 0], preds_test_init[:, 0])))\n",
    "print(\"F1: {:.2f}\".format(f1_score(y_test_init[:, 0], preds_test_init[:, 0])))\n",
    "print(\"ROC: {:.2f}\".format(roc_auc_score(y_test_init[:, 0], preds_test_init[:, 0])))"
   ]
  },
  {
   "cell_type": "code",
   "execution_count": null,
   "metadata": {},
   "outputs": [],
   "source": [
    "# Evaluation Metrices for Seasonal Flu Vaccines--train data\n",
    "print(\"Accuracy: {:.2f}\".format(accuracy_score(y_train_init[:, 1], preds_train_init[:, 1])))\n",
    "print(\"Recall: {:.2f}\".format(recall_score(y_train_init[:, 1], preds_train_init[:, 1])))\n",
    "print(\"Precision: {:.2f}\".format(precision_score(y_train_init[:, 1], preds_train_init[:, 1])))\n",
    "print(\"F1: {:.2f}\".format(f1_score(y_train_init[:, 1], preds_train_init[:, 1])))\n",
    "print(\"ROC: {:.2f}\".format(roc_auc_score(y_train_init[:, 1], preds_train_init[:, 1])))"
   ]
  },
  {
   "cell_type": "code",
   "execution_count": null,
   "metadata": {},
   "outputs": [],
   "source": [
    "# Evaluation Metrices for Seasonal Flu Vaccines--test data\n",
    "print(\"Accuracy: {:.2f}\".format(accuracy_score(y_test_init[:, 1], preds_test_init[:, 1])))\n",
    "print(\"Recall: {:.2f}\".format(recall_score(y_test_init[:, 1], preds_test_init[:, 1])))\n",
    "print(\"Precision: {:.2f}\".format(precision_score(y_test_init[:, 1], preds_test_init[:, 1])))\n",
    "print(\"F1: {:.2f}\".format(f1_score(y_test_init[:, 1], preds_test_init[:, 1])))\n",
    "print(\"ROC: {:.2f}\".format(roc_auc_score(y_test_init[:, 1], preds_test_init[:, 1])))"
   ]
  },
  {
   "cell_type": "markdown",
   "metadata": {},
   "source": [
    "---"
   ]
  },
  {
   "cell_type": "markdown",
   "metadata": {},
   "source": [
    "## Strategy 1--no imputation"
   ]
  },
  {
   "cell_type": "markdown",
   "metadata": {},
   "source": [
    "### Setting up variables"
   ]
  },
  {
   "cell_type": "code",
   "execution_count": null,
   "metadata": {},
   "outputs": [],
   "source": [
    "cat_features = list(df.columns)"
   ]
  },
  {
   "cell_type": "markdown",
   "metadata": {},
   "source": [
    "Removal of target variables from cat_features list:"
   ]
  },
  {
   "cell_type": "code",
   "execution_count": null,
   "metadata": {},
   "outputs": [],
   "source": [
    "cat_features.remove('h1n1_vaccine')"
   ]
  },
  {
   "cell_type": "code",
   "execution_count": null,
   "metadata": {},
   "outputs": [],
   "source": [
    "cat_features.remove('seasonal_vaccine')"
   ]
  },
  {
   "cell_type": "markdown",
   "metadata": {},
   "source": [
    "Rename the features and target to 'X' and 'y', to make the test-train split easier (adjust for each dataframe, because the number of rows in the target will be different, depending on imputation strategy):"
   ]
  },
  {
   "cell_type": "code",
   "execution_count": null,
   "metadata": {},
   "outputs": [],
   "source": [
    "y_strat1 = df[['h1n1_vaccine', 'seasonal_vaccine']].copy()"
   ]
  },
  {
   "cell_type": "code",
   "execution_count": null,
   "metadata": {},
   "outputs": [],
   "source": [
    "y_strat1 = y_strat1.to_numpy()"
   ]
  },
  {
   "cell_type": "code",
   "execution_count": null,
   "metadata": {},
   "outputs": [],
   "source": [
    "#NB: dropping the 'h1n1_vaccine' and 'seasonal_vaccine' columns\n",
    "X_strat1 = df.drop(columns=['h1n1_vaccine', 'seasonal_vaccine'])"
   ]
  },
  {
   "cell_type": "markdown",
   "metadata": {},
   "source": [
    "### Setting up pipeline  \n",
    "\n",
    "Doesn't need modifying, but needs to be run for each imputation strategy"
   ]
  },
  {
   "cell_type": "code",
   "execution_count": null,
   "metadata": {},
   "outputs": [],
   "source": [
    "# Pipeline for categorical features\n",
    "#CHECK HERE--ARE WE DROPPING THE FIRST COLUMN TO PREVENT MULTICOLINEARITY?\n",
    "cat_pipeline = Pipeline([\n",
    "    ('1hot', OneHotEncoder(handle_unknown='error', drop='first'))\n",
    "])"
   ]
  },
  {
   "cell_type": "code",
   "execution_count": null,
   "metadata": {},
   "outputs": [],
   "source": [
    "preprocessor = ColumnTransformer([\n",
    "    ('cat', cat_pipeline, cat_features)\n",
    "])"
   ]
  },
  {
   "cell_type": "code",
   "execution_count": null,
   "metadata": {},
   "outputs": [],
   "source": [
    "estimators = MultiOutputClassifier(\n",
    "    estimator=LogisticRegression()\n",
    ")"
   ]
  },
  {
   "cell_type": "code",
   "execution_count": null,
   "metadata": {},
   "outputs": [],
   "source": [
    "full_pipeline = Pipeline([\n",
    "    (\"preprocessor\", preprocessor),\n",
    "    (\"estimators\", estimators),\n",
    "])"
   ]
  },
  {
   "cell_type": "markdown",
   "metadata": {},
   "source": [
    "### Train-test split\n",
    "\n",
    "Names need to be modified"
   ]
  },
  {
   "cell_type": "code",
   "execution_count": null,
   "metadata": {},
   "outputs": [],
   "source": [
    "X_train_strat1, X_test_strat1, y_train_strat1, y_test_strat1 = train_test_split(X_strat1, y_strat1, stratify = y_strat1, test_size=0.2, random_state=RSEED)"
   ]
  },
  {
   "cell_type": "code",
   "execution_count": null,
   "metadata": {},
   "outputs": [],
   "source": [
    "print('X_train_strat1 shape:', X_train_strat1.shape)\n",
    "print('X_test_strat1 shape:', X_test_strat1.shape)\n",
    "print('y_train_strat1 shape:', y_train_strat1.shape)\n",
    "print('y_test_strat1 shape:', y_test_strat1.shape)"
   ]
  },
  {
   "cell_type": "code",
   "execution_count": null,
   "metadata": {},
   "outputs": [],
   "source": [
    "full_pipeline.fit(X_train_strat1, y_train_strat1)"
   ]
  },
  {
   "cell_type": "code",
   "execution_count": null,
   "metadata": {},
   "outputs": [],
   "source": [
    "#getting predictions from train data\n",
    "preds_train_strat1 = full_pipeline.predict(X_train_strat1)"
   ]
  },
  {
   "cell_type": "code",
   "execution_count": null,
   "metadata": {},
   "outputs": [],
   "source": [
    "#getting predictions from test data\n",
    "preds_test_strat1 = full_pipeline.predict(X_test_strat1)\n"
   ]
  },
  {
   "cell_type": "markdown",
   "metadata": {},
   "source": [
    "### Model evaluation"
   ]
  },
  {
   "cell_type": "code",
   "execution_count": null,
   "metadata": {},
   "outputs": [],
   "source": [
    "# Evaluation Metrices for H1N1 Vaccines--train data\n",
    "print(\"Accuracy: {:.2f}\".format(accuracy_score(y_train_strat1[:, 0], preds_train_strat1[:, 0])))\n",
    "print(\"Recall: {:.2f}\".format(recall_score(y_train_strat1[:, 0], preds_train_strat1[:, 0])))\n",
    "print(\"Precision: {:.2f}\".format(precision_score(y_train_strat1[:, 0], preds_train_strat1[:, 0])))\n",
    "print(\"F1: {:.2f}\".format(f1_score(y_train_strat1[:, 0], preds_train_strat1[:, 0])))\n",
    "print(\"ROC: {:.2f}\".format(roc_auc_score(y_train_strat1[:, 0], preds_train_strat1[:, 0])))"
   ]
  },
  {
   "cell_type": "code",
   "execution_count": null,
   "metadata": {},
   "outputs": [],
   "source": [
    "# Evaluation Metrices for H1N1 Vaccines--test data\n",
    "print(\"Accuracy: {:.2f}\".format(accuracy_score(y_test_strat1[:, 0], preds_test_strat1[:, 0])))\n",
    "print(\"Recall: {:.2f}\".format(recall_score(y_test_strat1[:, 0], preds_test_strat1[:, 0])))\n",
    "print(\"Precision: {:.2f}\".format(precision_score(y_test_strat1[:, 0], preds_test_strat1[:, 0])))\n",
    "print(\"F1: {:.2f}\".format(f1_score(y_test_strat1[:, 0], preds_test_strat1[:, 0])))\n",
    "print(\"ROC: {:.2f}\".format(roc_auc_score(y_test_strat1[:, 0], preds_test_strat1[:, 0])))"
   ]
  },
  {
   "cell_type": "code",
   "execution_count": null,
   "metadata": {},
   "outputs": [],
   "source": [
    "# Evaluation Metrices for Seasonal Flu Vaccines--train data\n",
    "print(\"Accuracy: {:.2f}\".format(accuracy_score(y_train_strat1[:, 1], preds_train_strat1[:, 1])))\n",
    "print(\"Recall: {:.2f}\".format(recall_score(y_train_strat1[:, 1], preds_train_strat1[:, 1])))\n",
    "print(\"Precision: {:.2f}\".format(precision_score(y_train_strat1[:, 1], preds_train_strat1[:, 1])))\n",
    "print(\"F1: {:.2f}\".format(f1_score(y_train_strat1[:, 1], preds_train_strat1[:, 1])))\n",
    "print(\"ROC: {:.2f}\".format(roc_auc_score(y_train_strat1[:, 1], preds_train_strat1[:, 1])))"
   ]
  },
  {
   "cell_type": "code",
   "execution_count": null,
   "metadata": {},
   "outputs": [],
   "source": [
    "# Evaluation Metrices for Seasonal Flu Vaccines--test data\n",
    "print(\"Accuracy: {:.2f}\".format(accuracy_score(y_test_strat1[:, 1], preds_test_strat1[:, 1])))\n",
    "print(\"Recall: {:.2f}\".format(recall_score(y_test_strat1[:, 1], preds_test_strat1[:, 1])))\n",
    "print(\"Precision: {:.2f}\".format(precision_score(y_test_strat1[:, 1], preds_test_strat1[:, 1])))\n",
    "print(\"F1: {:.2f}\".format(f1_score(y_test_strat1[:, 1], preds_test_strat1[:, 1])))\n",
    "print(\"ROC: {:.2f}\".format(roc_auc_score(y_test_strat1[:, 1], preds_test_strat1[:, 1])))"
   ]
  },
  {
   "cell_type": "markdown",
   "metadata": {},
   "source": [
    "---"
   ]
  },
  {
   "cell_type": "markdown",
   "metadata": {},
   "source": [
    "## Strategy 2: imputation with SimpleImputer, most frequent values"
   ]
  },
  {
   "cell_type": "markdown",
   "metadata": {},
   "source": [
    "### Setting up variables"
   ]
  },
  {
   "cell_type": "code",
   "execution_count": null,
   "metadata": {},
   "outputs": [],
   "source": [
    "cat_features = list(df_mostfreq.columns)"
   ]
  },
  {
   "cell_type": "markdown",
   "metadata": {},
   "source": [
    "Removal of target variables from cat_features list:"
   ]
  },
  {
   "cell_type": "code",
   "execution_count": null,
   "metadata": {},
   "outputs": [],
   "source": [
    "cat_features.remove('h1n1_vaccine')"
   ]
  },
  {
   "cell_type": "code",
   "execution_count": null,
   "metadata": {},
   "outputs": [],
   "source": [
    "cat_features.remove('seasonal_vaccine')"
   ]
  },
  {
   "cell_type": "markdown",
   "metadata": {},
   "source": [
    "Rename the features and target to 'X' and 'y', to make the test-train split easier (adjust for each dataframe, because the number of rows in the target will be different, depending on imputation strategy):"
   ]
  },
  {
   "cell_type": "code",
   "execution_count": null,
   "metadata": {},
   "outputs": [],
   "source": [
    "y_strat2 = df_mostfreq[['h1n1_vaccine', 'seasonal_vaccine']].copy()"
   ]
  },
  {
   "cell_type": "code",
   "execution_count": null,
   "metadata": {},
   "outputs": [],
   "source": [
    "y_strat2 = y_strat2.to_numpy()"
   ]
  },
  {
   "cell_type": "code",
   "execution_count": null,
   "metadata": {},
   "outputs": [],
   "source": [
    "#NB: dropping the 'h1n1_vaccine' and 'seasonal_vaccine' columns\n",
    "X_strat2 = df_mostfreq.drop(columns=['h1n1_vaccine', 'seasonal_vaccine'])"
   ]
  },
  {
   "cell_type": "markdown",
   "metadata": {},
   "source": [
    "### Setting up pipeline  \n",
    "\n",
    "Doesn't need modifying, but needs to be run for each imputation strategy"
   ]
  },
  {
   "cell_type": "code",
   "execution_count": null,
   "metadata": {},
   "outputs": [],
   "source": [
    "# Pipeline for categorical features\n",
    "#CHECK HERE--ARE WE DROPPING THE FIRST COLUMN TO PREVENT MULTICOLINEARITY?\n",
    "cat_pipeline = Pipeline([\n",
    "    ('1hot', OneHotEncoder(handle_unknown='error', drop='first'))\n",
    "])"
   ]
  },
  {
   "cell_type": "code",
   "execution_count": null,
   "metadata": {},
   "outputs": [],
   "source": [
    "preprocessor = ColumnTransformer([\n",
    "    ('cat', cat_pipeline, cat_features)\n",
    "])"
   ]
  },
  {
   "cell_type": "code",
   "execution_count": null,
   "metadata": {},
   "outputs": [],
   "source": [
    "estimators = MultiOutputClassifier(\n",
    "    estimator=LogisticRegression()\n",
    ")"
   ]
  },
  {
   "cell_type": "code",
   "execution_count": null,
   "metadata": {},
   "outputs": [],
   "source": [
    "full_pipeline = Pipeline([\n",
    "    (\"preprocessor\", preprocessor),\n",
    "    (\"estimators\", estimators),\n",
    "])"
   ]
  },
  {
   "cell_type": "markdown",
   "metadata": {},
   "source": [
    "### Train-test split\n",
    "\n",
    "Names need to be modified"
   ]
  },
  {
   "cell_type": "code",
   "execution_count": null,
   "metadata": {},
   "outputs": [],
   "source": [
    "X_train_strat2, X_test_strat2, y_train_strat2, y_test_strat2 = train_test_split(X_strat2, y_strat2, stratify = y_strat2, test_size=0.2, random_state=RSEED)"
   ]
  },
  {
   "cell_type": "code",
   "execution_count": null,
   "metadata": {},
   "outputs": [],
   "source": [
    "print('X_train_strat2 shape:', X_train_strat2.shape)\n",
    "print('X_test_strat2 shape:', X_test_strat2.shape)\n",
    "print('y_train_strat2 shape:', y_train_strat2.shape)\n",
    "print('y_test_strat2 shape:', y_test_strat2.shape)"
   ]
  },
  {
   "cell_type": "code",
   "execution_count": null,
   "metadata": {},
   "outputs": [],
   "source": [
    "full_pipeline.fit(X_train_strat2, y_train_strat2)"
   ]
  },
  {
   "cell_type": "code",
   "execution_count": null,
   "metadata": {},
   "outputs": [],
   "source": [
    "#getting predictions from train data\n",
    "preds_train_strat2 = full_pipeline.predict(X_train_strat2)"
   ]
  },
  {
   "cell_type": "code",
   "execution_count": null,
   "metadata": {},
   "outputs": [],
   "source": [
    "#getting predictions from test data\n",
    "preds_test_strat2 = full_pipeline.predict(X_test_strat2)"
   ]
  },
  {
   "cell_type": "markdown",
   "metadata": {},
   "source": [
    "### Model evaluation"
   ]
  },
  {
   "cell_type": "code",
   "execution_count": null,
   "metadata": {},
   "outputs": [],
   "source": [
    "# Evaluation Metrices for H1N1 Vaccines--train data\n",
    "print(\"Accuracy: {:.2f}\".format(accuracy_score(y_train_strat2[:, 0], preds_train_strat2[:, 0])))\n",
    "print(\"Recall: {:.2f}\".format(recall_score(y_train_strat2[:, 0], preds_train_strat2[:, 0])))\n",
    "print(\"Precision: {:.2f}\".format(precision_score(y_train_strat2[:, 0], preds_train_strat2[:, 0])))\n",
    "print(\"F1: {:.2f}\".format(f1_score(y_train_strat2[:, 0], preds_train_strat2[:, 0])))\n",
    "print(\"ROC: {:.2f}\".format(roc_auc_score(y_train_strat2[:, 0], preds_train_strat2[:, 0])))"
   ]
  },
  {
   "cell_type": "code",
   "execution_count": null,
   "metadata": {},
   "outputs": [],
   "source": [
    "# Evaluation Metrices for H1N1 Vaccines--test data\n",
    "print(\"Accuracy: {:.2f}\".format(accuracy_score(y_test_strat2[:, 0], preds_test_strat2[:, 0])))\n",
    "print(\"Recall: {:.2f}\".format(recall_score(y_test_strat2[:, 0], preds_test_strat2[:, 0])))\n",
    "print(\"Precision: {:.2f}\".format(precision_score(y_test_strat2[:, 0], preds_test_strat2[:, 0])))\n",
    "print(\"F1: {:.2f}\".format(f1_score(y_test_strat2[:, 0], preds_test_strat2[:, 0])))\n",
    "print(\"ROC: {:.2f}\".format(roc_auc_score(y_test_strat2[:, 0], preds_test_strat2[:, 0])))"
   ]
  },
  {
   "cell_type": "code",
   "execution_count": null,
   "metadata": {},
   "outputs": [],
   "source": [
    "# Evaluation Metrices for Seasonal Flu Vaccines--train data\n",
    "print(\"Accuracy: {:.2f}\".format(accuracy_score(y_train_strat2[:, 1], preds_train_strat2[:, 1])))\n",
    "print(\"Recall: {:.2f}\".format(recall_score(y_train_strat2[:, 1], preds_train_strat2[:, 1])))\n",
    "print(\"Precision: {:.2f}\".format(precision_score(y_train_strat2[:, 1], preds_train_strat2[:, 1])))\n",
    "print(\"F1: {:.2f}\".format(f1_score(y_train_strat2[:, 1], preds_train_strat2[:, 1])))\n",
    "print(\"ROC: {:.2f}\".format(roc_auc_score(y_train_strat2[:, 1], preds_train_strat2[:, 1])))"
   ]
  },
  {
   "cell_type": "code",
   "execution_count": null,
   "metadata": {},
   "outputs": [],
   "source": [
    "# Evaluation Metrices for Seasonal Flu Vaccines--test data\n",
    "print(\"Accuracy: {:.2f}\".format(accuracy_score(y_test_strat2[:, 1], preds_test_strat2[:, 1])))\n",
    "print(\"Recall: {:.2f}\".format(recall_score(y_test_strat2[:, 1], preds_test_strat2[:, 1])))\n",
    "print(\"Precision: {:.2f}\".format(precision_score(y_test_strat2[:, 1], preds_test_strat2[:, 1])))\n",
    "print(\"F1: {:.2f}\".format(f1_score(y_test_strat2[:, 1], preds_test_strat2[:, 1])))\n",
    "print(\"ROC: {:.2f}\".format(roc_auc_score(y_test_strat2[:, 1], preds_test_strat2[:, 1])))"
   ]
  },
  {
   "cell_type": "markdown",
   "metadata": {},
   "source": [
    "## Strategy 3: imputation with KNNImputer"
   ]
  },
  {
   "cell_type": "markdown",
   "metadata": {},
   "source": [
    "### Setting up pipeline  \n",
    "\n",
    "Doesn't need modifying, but needs to be run for each imputation strategy"
   ]
  },
  {
   "cell_type": "markdown",
   "metadata": {},
   "source": [
    "### Setting up variables"
   ]
  },
  {
   "cell_type": "code",
   "execution_count": 147,
   "metadata": {},
   "outputs": [],
   "source": [
    "cat_features = list(X_strat3.columns)"
   ]
  },
  {
   "cell_type": "code",
   "execution_count": 148,
   "metadata": {},
   "outputs": [],
   "source": [
    "# Pipeline for categorical features\n",
    "#CHECK HERE--ARE WE DROPPING THE FIRST COLUMN TO PREVENT MULTICOLINEARITY?\n",
    "cat_pipeline = Pipeline([\n",
    "    ('1hot', OneHotEncoder(handle_unknown='error', drop='first'))\n",
    "])"
   ]
  },
  {
   "cell_type": "code",
   "execution_count": 149,
   "metadata": {},
   "outputs": [],
   "source": [
    "preprocessor = ColumnTransformer([\n",
    "    ('cat', cat_pipeline, cat_features)\n",
    "])"
   ]
  },
  {
   "cell_type": "code",
   "execution_count": 150,
   "metadata": {},
   "outputs": [],
   "source": [
    "estimators = MultiOutputClassifier(\n",
    "    estimator=LogisticRegression()\n",
    ")"
   ]
  },
  {
   "cell_type": "code",
   "execution_count": 151,
   "metadata": {},
   "outputs": [],
   "source": [
    "full_pipeline = Pipeline([\n",
    "    (\"preprocessor\", preprocessor),\n",
    "    (\"estimators\", estimators),\n",
    "])"
   ]
  },
  {
   "cell_type": "markdown",
   "metadata": {},
   "source": [
    "### Train-test split\n",
    "\n",
    "Names need to be modified"
   ]
  },
  {
   "cell_type": "code",
   "execution_count": 152,
   "metadata": {},
   "outputs": [],
   "source": [
    "X_train_strat3, X_test_strat3, y_train_strat3, y_test_strat3 = train_test_split(X_strat3, y_strat3, stratify = y_strat3, test_size=0.2, random_state=RSEED)"
   ]
  },
  {
   "cell_type": "code",
   "execution_count": 153,
   "metadata": {},
   "outputs": [
    {
     "name": "stdout",
     "output_type": "stream",
     "text": [
      "X_train_strat3 shape: (21365, 37)\n",
      "X_test_strat3 shape: (5342, 37)\n",
      "y_train_strat3 shape: (21365, 2)\n",
      "y_test_strat3 shape: (5342, 2)\n"
     ]
    }
   ],
   "source": [
    "print('X_train_strat3 shape:', X_train_strat3.shape)\n",
    "print('X_test_strat3 shape:', X_test_strat3.shape)\n",
    "print('y_train_strat3 shape:', y_train_strat3.shape)\n",
    "print('y_test_strat3 shape:', y_test_strat3.shape)"
   ]
  },
  {
   "cell_type": "code",
   "execution_count": 154,
   "metadata": {},
   "outputs": [
    {
     "data": {
      "text/plain": [
       "Pipeline(steps=[('preprocessor',\n",
       "                 ColumnTransformer(transformers=[('cat',\n",
       "                                                  Pipeline(steps=[('1hot',\n",
       "                                                                   OneHotEncoder(drop='first'))]),\n",
       "                                                  ['h1n1_concern',\n",
       "                                                   'h1n1_knowledge',\n",
       "                                                   'behavioral_antiviral_meds',\n",
       "                                                   'behavioral_avoidance',\n",
       "                                                   'behavioral_face_mask',\n",
       "                                                   'behavioral_wash_hands',\n",
       "                                                   'behavioral_large_gatherings',\n",
       "                                                   'behavioral_outside_home',\n",
       "                                                   'behavioral_touch_face',\n",
       "                                                   'doctor_recc_...\n",
       "                                                   'opinion_h1n1_vacc_effective',\n",
       "                                                   'opinion_h1n1_risk',\n",
       "                                                   'opinion_h1n1_sick_from_vacc',\n",
       "                                                   'opinion_seas_vacc_effective',\n",
       "                                                   'opinion_seas_risk',\n",
       "                                                   'opinion_seas_sick_from_vacc',\n",
       "                                                   'age_group', 'education',\n",
       "                                                   'race', 'sex',\n",
       "                                                   'income_poverty',\n",
       "                                                   'marital_status',\n",
       "                                                   'rent_or_own',\n",
       "                                                   'employment_status',\n",
       "                                                   'hhs_geo_region', ...])])),\n",
       "                ('estimators',\n",
       "                 MultiOutputClassifier(estimator=LogisticRegression()))])"
      ]
     },
     "execution_count": 154,
     "metadata": {},
     "output_type": "execute_result"
    }
   ],
   "source": [
    "full_pipeline.fit(X_train_strat3, y_train_strat3)"
   ]
  },
  {
   "cell_type": "code",
   "execution_count": 155,
   "metadata": {},
   "outputs": [],
   "source": [
    "#getting predictions from train data\n",
    "preds_train_strat3 = full_pipeline.predict(X_train_strat3)"
   ]
  },
  {
   "cell_type": "code",
   "execution_count": 156,
   "metadata": {},
   "outputs": [],
   "source": [
    "#getting predictions from test data\n",
    "preds_test_strat3 = full_pipeline.predict(X_test_strat3)"
   ]
  },
  {
   "cell_type": "markdown",
   "metadata": {},
   "source": [
    "### Model evaluation"
   ]
  },
  {
   "cell_type": "code",
   "execution_count": 157,
   "metadata": {},
   "outputs": [
    {
     "name": "stdout",
     "output_type": "stream",
     "text": [
      "Accuracy: 0.83\n",
      "Recall: 0.42\n",
      "Precision: 0.68\n",
      "F1: 0.52\n",
      "ROC: 0.68\n"
     ]
    }
   ],
   "source": [
    "# Evaluation Metrices for H1N1 Vaccines--train data\n",
    "print(\"Accuracy: {:.2f}\".format(accuracy_score(y_train_strat3[:, 0], preds_train_strat3[:, 0])))\n",
    "print(\"Recall: {:.2f}\".format(recall_score(y_train_strat3[:, 0], preds_train_strat3[:, 0])))\n",
    "print(\"Precision: {:.2f}\".format(precision_score(y_train_strat3[:, 0], preds_train_strat3[:, 0])))\n",
    "print(\"F1: {:.2f}\".format(f1_score(y_train_strat3[:, 0], preds_train_strat3[:, 0])))\n",
    "print(\"ROC: {:.2f}\".format(roc_auc_score(y_train_strat3[:, 0], preds_train_strat3[:, 0])))"
   ]
  },
  {
   "cell_type": "code",
   "execution_count": 158,
   "metadata": {},
   "outputs": [
    {
     "name": "stdout",
     "output_type": "stream",
     "text": [
      "Accuracy: 0.83\n",
      "Recall: 0.42\n",
      "Precision: 0.68\n",
      "F1: 0.52\n",
      "ROC: 0.68\n"
     ]
    }
   ],
   "source": [
    "# Evaluation Metrices for H1N1 Vaccines--test data\n",
    "print(\"Accuracy: {:.2f}\".format(accuracy_score(y_test_strat3[:, 0], preds_test_strat3[:, 0])))\n",
    "print(\"Recall: {:.2f}\".format(recall_score(y_test_strat3[:, 0], preds_test_strat3[:, 0])))\n",
    "print(\"Precision: {:.2f}\".format(precision_score(y_test_strat3[:, 0], preds_test_strat3[:, 0])))\n",
    "print(\"F1: {:.2f}\".format(f1_score(y_test_strat3[:, 0], preds_test_strat3[:, 0])))\n",
    "print(\"ROC: {:.2f}\".format(roc_auc_score(y_test_strat3[:, 0], preds_test_strat3[:, 0])))"
   ]
  },
  {
   "cell_type": "code",
   "execution_count": 159,
   "metadata": {},
   "outputs": [
    {
     "name": "stdout",
     "output_type": "stream",
     "text": [
      "Accuracy: 0.78\n",
      "Recall: 0.75\n",
      "Precision: 0.78\n",
      "F1: 0.76\n",
      "ROC: 0.78\n"
     ]
    }
   ],
   "source": [
    "# Evaluation Metrices for Seasonal Flu Vaccines--train data\n",
    "print(\"Accuracy: {:.2f}\".format(accuracy_score(y_train_strat3[:, 1], preds_train_strat3[:, 1])))\n",
    "print(\"Recall: {:.2f}\".format(recall_score(y_train_strat3[:, 1], preds_train_strat3[:, 1])))\n",
    "print(\"Precision: {:.2f}\".format(precision_score(y_train_strat3[:, 1], preds_train_strat3[:, 1])))\n",
    "print(\"F1: {:.2f}\".format(f1_score(y_train_strat3[:, 1], preds_train_strat3[:, 1])))\n",
    "print(\"ROC: {:.2f}\".format(roc_auc_score(y_train_strat3[:, 1], preds_train_strat3[:, 1])))"
   ]
  },
  {
   "cell_type": "code",
   "execution_count": 160,
   "metadata": {},
   "outputs": [
    {
     "name": "stdout",
     "output_type": "stream",
     "text": [
      "Accuracy: 0.78\n",
      "Recall: 0.75\n",
      "Precision: 0.77\n",
      "F1: 0.76\n",
      "ROC: 0.78\n"
     ]
    }
   ],
   "source": [
    "# Evaluation Metrices for Seasonal Flu Vaccines--test data\n",
    "print(\"Accuracy: {:.2f}\".format(accuracy_score(y_test_strat3[:, 1], preds_test_strat3[:, 1])))\n",
    "print(\"Recall: {:.2f}\".format(recall_score(y_test_strat3[:, 1], preds_test_strat3[:, 1])))\n",
    "print(\"Precision: {:.2f}\".format(precision_score(y_test_strat3[:, 1], preds_test_strat3[:, 1])))\n",
    "print(\"F1: {:.2f}\".format(f1_score(y_test_strat3[:, 1], preds_test_strat3[:, 1])))\n",
    "print(\"ROC: {:.2f}\".format(roc_auc_score(y_test_strat3[:, 1], preds_test_strat3[:, 1])))"
   ]
  },
  {
   "cell_type": "markdown",
   "metadata": {},
   "source": [
    "## Strategy 4: imputation with IterativeImputer, default settings (apart from initial_strategy = “most_frequent”)"
   ]
  },
  {
   "cell_type": "markdown",
   "metadata": {},
   "source": [
    "### Setting up pipeline  \n",
    "\n",
    "Doesn't need modifying, but needs to be run for each imputation strategy"
   ]
  },
  {
   "cell_type": "markdown",
   "metadata": {},
   "source": [
    "### Setting up variables"
   ]
  },
  {
   "cell_type": "code",
   "execution_count": 256,
   "metadata": {},
   "outputs": [],
   "source": [
    "cat_features = list(X_strat4.columns)"
   ]
  },
  {
   "cell_type": "code",
   "execution_count": 257,
   "metadata": {},
   "outputs": [],
   "source": [
    "# Pipeline for categorical features\n",
    "#CHECK HERE--ARE WE DROPPING THE FIRST COLUMN TO PREVENT MULTICOLINEARITY?\n",
    "cat_pipeline = Pipeline([\n",
    "    ('1hot', OneHotEncoder(handle_unknown='error', drop='first'))\n",
    "])"
   ]
  },
  {
   "cell_type": "code",
   "execution_count": 258,
   "metadata": {},
   "outputs": [],
   "source": [
    "preprocessor = ColumnTransformer([\n",
    "    ('cat', cat_pipeline, cat_features)\n",
    "])"
   ]
  },
  {
   "cell_type": "code",
   "execution_count": 259,
   "metadata": {},
   "outputs": [],
   "source": [
    "estimators = MultiOutputClassifier(\n",
    "    estimator=LogisticRegression()\n",
    ")"
   ]
  },
  {
   "cell_type": "code",
   "execution_count": 260,
   "metadata": {},
   "outputs": [],
   "source": [
    "full_pipeline = Pipeline([\n",
    "    (\"preprocessor\", preprocessor),\n",
    "    (\"estimators\", estimators),\n",
    "])"
   ]
  },
  {
   "cell_type": "markdown",
   "metadata": {},
   "source": [
    "### Train-test split\n",
    "\n",
    "Names need to be modified"
   ]
  },
  {
   "cell_type": "code",
   "execution_count": 261,
   "metadata": {},
   "outputs": [],
   "source": [
    "X_train_strat4, X_test_strat4, y_train_strat4, y_test_strat4 = train_test_split(X_strat4, y_strat4, stratify = y_strat4, test_size=0.2, random_state=RSEED)"
   ]
  },
  {
   "cell_type": "code",
   "execution_count": 262,
   "metadata": {},
   "outputs": [
    {
     "name": "stdout",
     "output_type": "stream",
     "text": [
      "X_train_strat4 shape: (21364, 35)\n",
      "X_test_strat4 shape: (5342, 35)\n",
      "y_train_strat4 shape: (21364, 2)\n",
      "y_test_strat4 shape: (5342, 2)\n"
     ]
    }
   ],
   "source": [
    "print('X_train_strat4 shape:', X_train_strat4.shape)\n",
    "print('X_test_strat4 shape:', X_test_strat4.shape)\n",
    "print('y_train_strat4 shape:', y_train_strat4.shape)\n",
    "print('y_test_strat4 shape:', y_test_strat4.shape)"
   ]
  },
  {
   "cell_type": "code",
   "execution_count": 263,
   "metadata": {},
   "outputs": [
    {
     "data": {
      "text/plain": [
       "Pipeline(steps=[('preprocessor',\n",
       "                 ColumnTransformer(transformers=[('cat',\n",
       "                                                  Pipeline(steps=[('1hot',\n",
       "                                                                   OneHotEncoder(drop='first'))]),\n",
       "                                                  ['h1n1_concern',\n",
       "                                                   'h1n1_knowledge',\n",
       "                                                   'behavioral_antiviral_meds',\n",
       "                                                   'behavioral_avoidance',\n",
       "                                                   'behavioral_face_mask',\n",
       "                                                   'behavioral_wash_hands',\n",
       "                                                   'behavioral_large_gatherings',\n",
       "                                                   'behavioral_outside_home',\n",
       "                                                   'behavioral_touch_face',\n",
       "                                                   'doctor_recc_...\n",
       "                                                   'opinion_h1n1_vacc_effective',\n",
       "                                                   'opinion_h1n1_risk',\n",
       "                                                   'opinion_h1n1_sick_from_vacc',\n",
       "                                                   'opinion_seas_vacc_effective',\n",
       "                                                   'opinion_seas_risk',\n",
       "                                                   'opinion_seas_sick_from_vacc',\n",
       "                                                   'age_group', 'education',\n",
       "                                                   'race', 'sex',\n",
       "                                                   'income_poverty',\n",
       "                                                   'marital_status',\n",
       "                                                   'rent_or_own',\n",
       "                                                   'employment_status',\n",
       "                                                   'hhs_geo_region', ...])])),\n",
       "                ('estimators',\n",
       "                 MultiOutputClassifier(estimator=LogisticRegression()))])"
      ]
     },
     "execution_count": 263,
     "metadata": {},
     "output_type": "execute_result"
    }
   ],
   "source": [
    "full_pipeline.fit(X_train_strat4, y_train_strat4)"
   ]
  },
  {
   "cell_type": "code",
   "execution_count": 264,
   "metadata": {},
   "outputs": [],
   "source": [
    "#getting predictions from train data\n",
    "preds_train_strat4 = full_pipeline.predict(X_train_strat4)"
   ]
  },
  {
   "cell_type": "code",
   "execution_count": 265,
   "metadata": {},
   "outputs": [
    {
     "data": {
      "text/plain": [
       "1.0    14342\n",
       "2.0    12364\n",
       "Name: marital_status, dtype: int64"
      ]
     },
     "execution_count": 265,
     "metadata": {},
     "output_type": "execute_result"
    }
   ],
   "source": [
    "X_strat4['marital_status'].value_counts()"
   ]
  },
  {
   "cell_type": "code",
   "execution_count": 266,
   "metadata": {},
   "outputs": [],
   "source": [
    "#getting predictions from test data\n",
    "preds_test_strat4 = full_pipeline.predict(X_test_strat4)"
   ]
  },
  {
   "cell_type": "markdown",
   "metadata": {},
   "source": [
    "### Model evaluation"
   ]
  },
  {
   "cell_type": "code",
   "execution_count": 267,
   "metadata": {},
   "outputs": [
    {
     "name": "stdout",
     "output_type": "stream",
     "text": [
      "Accuracy: 0.84\n",
      "Recall: 0.43\n",
      "Precision: 0.69\n",
      "F1: 0.53\n",
      "ROC: 0.69\n"
     ]
    }
   ],
   "source": [
    "# Evaluation Metrices for H1N1 Vaccines--train data\n",
    "print(\"Accuracy: {:.2f}\".format(accuracy_score(y_train_strat4[:, 0], preds_train_strat4[:, 0])))\n",
    "print(\"Recall: {:.2f}\".format(recall_score(y_train_strat4[:, 0], preds_train_strat4[:, 0])))\n",
    "print(\"Precision: {:.2f}\".format(precision_score(y_train_strat4[:, 0], preds_train_strat4[:, 0])))\n",
    "print(\"F1: {:.2f}\".format(f1_score(y_train_strat4[:, 0], preds_train_strat4[:, 0])))\n",
    "print(\"ROC: {:.2f}\".format(roc_auc_score(y_train_strat4[:, 0], preds_train_strat4[:, 0])))"
   ]
  },
  {
   "cell_type": "code",
   "execution_count": 268,
   "metadata": {},
   "outputs": [
    {
     "name": "stdout",
     "output_type": "stream",
     "text": [
      "Accuracy: 0.84\n",
      "Recall: 0.44\n",
      "Precision: 0.70\n",
      "F1: 0.54\n",
      "ROC: 0.69\n"
     ]
    }
   ],
   "source": [
    "# Evaluation Metrices for H1N1 Vaccines--test data\n",
    "print(\"Accuracy: {:.2f}\".format(accuracy_score(y_test_strat4[:, 0], preds_test_strat4[:, 0])))\n",
    "print(\"Recall: {:.2f}\".format(recall_score(y_test_strat4[:, 0], preds_test_strat4[:, 0])))\n",
    "print(\"Precision: {:.2f}\".format(precision_score(y_test_strat4[:, 0], preds_test_strat4[:, 0])))\n",
    "print(\"F1: {:.2f}\".format(f1_score(y_test_strat4[:, 0], preds_test_strat4[:, 0])))\n",
    "print(\"ROC: {:.2f}\".format(roc_auc_score(y_test_strat4[:, 0], preds_test_strat4[:, 0])))"
   ]
  },
  {
   "cell_type": "code",
   "execution_count": 269,
   "metadata": {},
   "outputs": [
    {
     "name": "stdout",
     "output_type": "stream",
     "text": [
      "Accuracy: 0.79\n",
      "Recall: 0.75\n",
      "Precision: 0.78\n",
      "F1: 0.76\n",
      "ROC: 0.78\n"
     ]
    }
   ],
   "source": [
    "# Evaluation Metrices for Seasonal Flu Vaccines--train data\n",
    "print(\"Accuracy: {:.2f}\".format(accuracy_score(y_train_strat4[:, 1], preds_train_strat4[:, 1])))\n",
    "print(\"Recall: {:.2f}\".format(recall_score(y_train_strat4[:, 1], preds_train_strat4[:, 1])))\n",
    "print(\"Precision: {:.2f}\".format(precision_score(y_train_strat4[:, 1], preds_train_strat4[:, 1])))\n",
    "print(\"F1: {:.2f}\".format(f1_score(y_train_strat4[:, 1], preds_train_strat4[:, 1])))\n",
    "print(\"ROC: {:.2f}\".format(roc_auc_score(y_train_strat4[:, 1], preds_train_strat4[:, 1])))"
   ]
  },
  {
   "cell_type": "code",
   "execution_count": 270,
   "metadata": {},
   "outputs": [
    {
     "name": "stdout",
     "output_type": "stream",
     "text": [
      "Accuracy: 0.78\n",
      "Recall: 0.74\n",
      "Precision: 0.77\n",
      "F1: 0.76\n",
      "ROC: 0.77\n"
     ]
    }
   ],
   "source": [
    "# Evaluation Metrices for Seasonal Flu Vaccines--test data\n",
    "print(\"Accuracy: {:.2f}\".format(accuracy_score(y_test_strat4[:, 1], preds_test_strat4[:, 1])))\n",
    "print(\"Recall: {:.2f}\".format(recall_score(y_test_strat4[:, 1], preds_test_strat4[:, 1])))\n",
    "print(\"Precision: {:.2f}\".format(precision_score(y_test_strat4[:, 1], preds_test_strat4[:, 1])))\n",
    "print(\"F1: {:.2f}\".format(f1_score(y_test_strat4[:, 1], preds_test_strat4[:, 1])))\n",
    "print(\"ROC: {:.2f}\".format(roc_auc_score(y_test_strat4[:, 1], preds_test_strat4[:, 1])))"
   ]
  },
  {
   "cell_type": "markdown",
   "metadata": {},
   "source": [
    "## Strategy 5: imputation with IterativeImputer, DecisionTreeClassifier"
   ]
  },
  {
   "cell_type": "markdown",
   "metadata": {},
   "source": [
    "### Setting up pipeline  \n",
    "\n",
    "Doesn't need modifying, but needs to be run for each imputation strategy"
   ]
  },
  {
   "cell_type": "markdown",
   "metadata": {},
   "source": [
    "### Setting up variables"
   ]
  },
  {
   "cell_type": "code",
   "execution_count": 281,
   "metadata": {},
   "outputs": [],
   "source": [
    "cat_features = list(X_strat5.columns)"
   ]
  },
  {
   "cell_type": "code",
   "execution_count": 282,
   "metadata": {},
   "outputs": [],
   "source": [
    "# Pipeline for categorical features\n",
    "#CHECK HERE--ARE WE DROPPING THE FIRST COLUMN TO PREVENT MULTICOLINEARITY?\n",
    "cat_pipeline = Pipeline([\n",
    "    ('1hot', OneHotEncoder(handle_unknown='error', drop='first'))\n",
    "])"
   ]
  },
  {
   "cell_type": "code",
   "execution_count": 283,
   "metadata": {},
   "outputs": [],
   "source": [
    "preprocessor = ColumnTransformer([\n",
    "    ('cat', cat_pipeline, cat_features)\n",
    "])"
   ]
  },
  {
   "cell_type": "code",
   "execution_count": 284,
   "metadata": {},
   "outputs": [],
   "source": [
    "estimators = MultiOutputClassifier(\n",
    "    estimator=LogisticRegression()\n",
    ")"
   ]
  },
  {
   "cell_type": "code",
   "execution_count": 285,
   "metadata": {},
   "outputs": [],
   "source": [
    "full_pipeline = Pipeline([\n",
    "    (\"preprocessor\", preprocessor),\n",
    "    (\"estimators\", estimators),\n",
    "])"
   ]
  },
  {
   "cell_type": "markdown",
   "metadata": {},
   "source": [
    "### Train-test split\n",
    "\n",
    "Names need to be modified"
   ]
  },
  {
   "cell_type": "code",
   "execution_count": 286,
   "metadata": {},
   "outputs": [],
   "source": [
    "X_train_strat5, X_test_strat5, y_train_strat5, y_test_strat5 = train_test_split(X_strat5, y_strat5, stratify = y_strat5, test_size=0.2, random_state=RSEED)"
   ]
  },
  {
   "cell_type": "code",
   "execution_count": 287,
   "metadata": {},
   "outputs": [
    {
     "name": "stdout",
     "output_type": "stream",
     "text": [
      "X_train_strat5 shape: (21365, 35)\n",
      "X_test_strat5 shape: (5342, 35)\n",
      "y_train_strat5 shape: (21365, 2)\n",
      "y_test_strat5 shape: (5342, 2)\n"
     ]
    }
   ],
   "source": [
    "print('X_train_strat5 shape:', X_train_strat5.shape)\n",
    "print('X_test_strat5 shape:', X_test_strat5.shape)\n",
    "print('y_train_strat5 shape:', y_train_strat5.shape)\n",
    "print('y_test_strat5 shape:', y_test_strat5.shape)"
   ]
  },
  {
   "cell_type": "code",
   "execution_count": 288,
   "metadata": {},
   "outputs": [
    {
     "data": {
      "text/plain": [
       "Pipeline(steps=[('preprocessor',\n",
       "                 ColumnTransformer(transformers=[('cat',\n",
       "                                                  Pipeline(steps=[('1hot',\n",
       "                                                                   OneHotEncoder(drop='first'))]),\n",
       "                                                  ['h1n1_concern',\n",
       "                                                   'h1n1_knowledge',\n",
       "                                                   'behavioral_antiviral_meds',\n",
       "                                                   'behavioral_avoidance',\n",
       "                                                   'behavioral_face_mask',\n",
       "                                                   'behavioral_wash_hands',\n",
       "                                                   'behavioral_large_gatherings',\n",
       "                                                   'behavioral_outside_home',\n",
       "                                                   'behavioral_touch_face',\n",
       "                                                   'doctor_recc_...\n",
       "                                                   'opinion_h1n1_vacc_effective',\n",
       "                                                   'opinion_h1n1_risk',\n",
       "                                                   'opinion_h1n1_sick_from_vacc',\n",
       "                                                   'opinion_seas_vacc_effective',\n",
       "                                                   'opinion_seas_risk',\n",
       "                                                   'opinion_seas_sick_from_vacc',\n",
       "                                                   'age_group', 'education',\n",
       "                                                   'race', 'sex',\n",
       "                                                   'income_poverty',\n",
       "                                                   'marital_status',\n",
       "                                                   'rent_or_own',\n",
       "                                                   'employment_status',\n",
       "                                                   'hhs_geo_region', ...])])),\n",
       "                ('estimators',\n",
       "                 MultiOutputClassifier(estimator=LogisticRegression()))])"
      ]
     },
     "execution_count": 288,
     "metadata": {},
     "output_type": "execute_result"
    }
   ],
   "source": [
    "full_pipeline.fit(X_train_strat5, y_train_strat5)"
   ]
  },
  {
   "cell_type": "code",
   "execution_count": 289,
   "metadata": {},
   "outputs": [],
   "source": [
    "#getting predictions from train data\n",
    "preds_train_strat5 = full_pipeline.predict(X_train_strat5)"
   ]
  },
  {
   "cell_type": "code",
   "execution_count": 290,
   "metadata": {},
   "outputs": [],
   "source": [
    "#getting predictions from test data\n",
    "preds_test_strat5 = full_pipeline.predict(X_test_strat5)"
   ]
  },
  {
   "cell_type": "markdown",
   "metadata": {},
   "source": [
    "### Model evaluation"
   ]
  },
  {
   "cell_type": "code",
   "execution_count": 291,
   "metadata": {},
   "outputs": [
    {
     "name": "stdout",
     "output_type": "stream",
     "text": [
      "Accuracy: 0.83\n",
      "Recall: 0.42\n",
      "Precision: 0.68\n",
      "F1: 0.52\n",
      "ROC: 0.68\n"
     ]
    }
   ],
   "source": [
    "# Evaluation Metrices for H1N1 Vaccines--train data\n",
    "print(\"Accuracy: {:.2f}\".format(accuracy_score(y_train_strat5[:, 0], preds_train_strat5[:, 0])))\n",
    "print(\"Recall: {:.2f}\".format(recall_score(y_train_strat5[:, 0], preds_train_strat5[:, 0])))\n",
    "print(\"Precision: {:.2f}\".format(precision_score(y_train_strat5[:, 0], preds_train_strat5[:, 0])))\n",
    "print(\"F1: {:.2f}\".format(f1_score(y_train_strat5[:, 0], preds_train_strat5[:, 0])))\n",
    "print(\"ROC: {:.2f}\".format(roc_auc_score(y_train_strat5[:, 0], preds_train_strat5[:, 0])))"
   ]
  },
  {
   "cell_type": "code",
   "execution_count": 292,
   "metadata": {},
   "outputs": [
    {
     "name": "stdout",
     "output_type": "stream",
     "text": [
      "Accuracy: 0.83\n",
      "Recall: 0.42\n",
      "Precision: 0.67\n",
      "F1: 0.52\n",
      "ROC: 0.68\n"
     ]
    }
   ],
   "source": [
    "# Evaluation Metrices for H1N1 Vaccines--test data\n",
    "print(\"Accuracy: {:.2f}\".format(accuracy_score(y_test_strat5[:, 0], preds_test_strat5[:, 0])))\n",
    "print(\"Recall: {:.2f}\".format(recall_score(y_test_strat5[:, 0], preds_test_strat5[:, 0])))\n",
    "print(\"Precision: {:.2f}\".format(precision_score(y_test_strat5[:, 0], preds_test_strat5[:, 0])))\n",
    "print(\"F1: {:.2f}\".format(f1_score(y_test_strat5[:, 0], preds_test_strat5[:, 0])))\n",
    "print(\"ROC: {:.2f}\".format(roc_auc_score(y_test_strat5[:, 0], preds_test_strat5[:, 0])))"
   ]
  },
  {
   "cell_type": "code",
   "execution_count": 295,
   "metadata": {},
   "outputs": [
    {
     "name": "stdout",
     "output_type": "stream",
     "text": [
      "Accuracy: 0.78\n",
      "Recall: 0.75\n",
      "Precision: 0.78\n",
      "F1: 0.76\n",
      "ROC: 0.78\n"
     ]
    }
   ],
   "source": [
    "# Evaluation Metrices for Seasonal Flu Vaccines--train data\n",
    "print(\"Accuracy: {:.2f}\".format(accuracy_score(y_train_strat5[:, 1], preds_train_strat5[:, 1])))\n",
    "print(\"Recall: {:.2f}\".format(recall_score(y_train_strat5[:, 1], preds_train_strat5[:, 1])))\n",
    "print(\"Precision: {:.2f}\".format(precision_score(y_train_strat5[:, 1], preds_train_strat5[:, 1])))\n",
    "print(\"F1: {:.2f}\".format(f1_score(y_train_strat5[:, 1], preds_train_strat5[:, 1])))\n",
    "print(\"ROC: {:.2f}\".format(roc_auc_score(y_train_strat5[:, 1], preds_train_strat5[:, 1])))"
   ]
  },
  {
   "cell_type": "code",
   "execution_count": 294,
   "metadata": {},
   "outputs": [
    {
     "name": "stdout",
     "output_type": "stream",
     "text": [
      "Accuracy: 0.78\n",
      "Recall: 0.75\n",
      "Precision: 0.77\n",
      "F1: 0.76\n",
      "ROC: 0.78\n"
     ]
    }
   ],
   "source": [
    "# Evaluation Metrices for Seasonal Flu Vaccines--test data\n",
    "print(\"Accuracy: {:.2f}\".format(accuracy_score(y_test_strat5[:, 1], preds_test_strat5[:, 1])))\n",
    "print(\"Recall: {:.2f}\".format(recall_score(y_test_strat5[:, 1], preds_test_strat5[:, 1])))\n",
    "print(\"Precision: {:.2f}\".format(precision_score(y_test_strat5[:, 1], preds_test_strat5[:, 1])))\n",
    "print(\"F1: {:.2f}\".format(f1_score(y_test_strat5[:, 1], preds_test_strat5[:, 1])))\n",
    "print(\"ROC: {:.2f}\".format(roc_auc_score(y_test_strat5[:, 1], preds_test_strat5[:, 1])))"
   ]
  },
  {
   "cell_type": "markdown",
   "metadata": {},
   "source": [
    "# Export of best imputation strategy"
   ]
  },
  {
   "cell_type": "markdown",
   "metadata": {},
   "source": [
    "No imputation (raw data, with the missing values left in) has so far given the best results X-( . This is exported as a CSV"
   ]
  },
  {
   "cell_type": "code",
   "execution_count": 297,
   "metadata": {},
   "outputs": [
    {
     "name": "stdout",
     "output_type": "stream",
     "text": [
      "<class 'pandas.core.frame.DataFrame'>\n",
      "Int64Index: 26707 entries, 0 to 26706\n",
      "Data columns (total 37 columns):\n",
      " #   Column                       Non-Null Count  Dtype  \n",
      "---  ------                       --------------  -----  \n",
      " 0   h1n1_vaccine                 26707 non-null  int64  \n",
      " 1   seasonal_vaccine             26707 non-null  int64  \n",
      " 2   h1n1_concern                 26615 non-null  float64\n",
      " 3   h1n1_knowledge               26591 non-null  float64\n",
      " 4   behavioral_antiviral_meds    26636 non-null  float64\n",
      " 5   behavioral_avoidance         26499 non-null  float64\n",
      " 6   behavioral_face_mask         26688 non-null  float64\n",
      " 7   behavioral_wash_hands        26665 non-null  float64\n",
      " 8   behavioral_large_gatherings  26620 non-null  float64\n",
      " 9   behavioral_outside_home      26625 non-null  float64\n",
      " 10  behavioral_touch_face        26579 non-null  float64\n",
      " 11  doctor_recc_h1n1             24547 non-null  float64\n",
      " 12  doctor_recc_seasonal         24547 non-null  float64\n",
      " 13  chronic_med_condition        25736 non-null  float64\n",
      " 14  child_under_6_months         25887 non-null  float64\n",
      " 15  health_worker                25903 non-null  float64\n",
      " 16  health_insurance             14433 non-null  float64\n",
      " 17  opinion_h1n1_vacc_effective  26316 non-null  float64\n",
      " 18  opinion_h1n1_risk            26319 non-null  float64\n",
      " 19  opinion_h1n1_sick_from_vacc  26312 non-null  float64\n",
      " 20  opinion_seas_vacc_effective  26245 non-null  float64\n",
      " 21  opinion_seas_risk            26193 non-null  float64\n",
      " 22  opinion_seas_sick_from_vacc  26170 non-null  float64\n",
      " 23  age_group                    26707 non-null  object \n",
      " 24  education                    25300 non-null  object \n",
      " 25  race                         26707 non-null  object \n",
      " 26  sex                          26707 non-null  object \n",
      " 27  income_poverty               22284 non-null  object \n",
      " 28  marital_status               25299 non-null  object \n",
      " 29  rent_or_own                  24665 non-null  object \n",
      " 30  employment_status            25244 non-null  object \n",
      " 31  hhs_geo_region               26707 non-null  object \n",
      " 32  census_msa                   26707 non-null  object \n",
      " 33  household_adults             26458 non-null  float64\n",
      " 34  household_children           26458 non-null  float64\n",
      " 35  employment_industry          13377 non-null  object \n",
      " 36  employment_occupation        13237 non-null  object \n",
      "dtypes: float64(23), int64(2), object(12)\n",
      "memory usage: 7.7+ MB\n"
     ]
    }
   ],
   "source": [
    "df.info()"
   ]
  },
  {
   "cell_type": "code",
   "execution_count": 298,
   "metadata": {},
   "outputs": [],
   "source": [
    "df.to_csv('../data/Flu_Shot_Data_cleaned_2.csv')"
   ]
  }
 ],
 "metadata": {
  "interpreter": {
   "hash": "814a4648c3854a1cbaf3ba0fa5a085f29f50e64abde1ac36b31214e370bca5fb"
  },
  "kernelspec": {
   "display_name": "Python 3 (ipykernel)",
   "language": "python",
   "name": "python3"
  },
  "language_info": {
   "codemirror_mode": {
    "name": "ipython",
    "version": 3
   },
   "file_extension": ".py",
   "mimetype": "text/x-python",
   "name": "python",
   "nbconvert_exporter": "python",
   "pygments_lexer": "ipython3",
   "version": "3.8.5"
  },
  "metadata": {
   "interpreter": {
    "hash": "aee8b7b246df8f9039afb4144a1f6fd8d2ca17a180786b69acc140d282b71a49"
   }
  }
 },
 "nbformat": 4,
 "nbformat_minor": 4
}
