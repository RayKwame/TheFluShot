{
 "cells": [
  {
   "cell_type": "code",
   "execution_count": null,
   "source": [
    "import sys\n",
    "# adding to the path variables the one folder higher (locally, not changing system variables)\n",
    "sys.path.append(\"..\")\n",
    "import pandas as pd\n",
    "import numpy as np\n",
    "import warnings\n",
    "import mlflow\n",
    "from modeling.config import TRACKING_URI, EXPERIMENT_NAME\n",
    "\n",
    "RSEED = 42\n",
    "# Modeling Libraries\n",
    "\n",
    "import numpy as np\n",
    "import pandas as pd\n",
    "import matplotlib.pyplot as plt\n",
    "import seaborn as sns\n",
    "\n",
    "\n",
    "from sklearn.dummy import DummyClassifier\n",
    "from sklearn.multioutput import MultiOutputClassifier\n",
    "from sklearn.pipeline import Pipeline\n",
    "from sklearn.compose import ColumnTransformer\n",
    "from sklearn.preprocessing import OneHotEncoder, StandardScaler\n",
    "from sklearn.impute import SimpleImputer\n",
    "from sklearn.model_selection import train_test_split\n",
    "from sklearn.model_selection import GridSearchCV, RandomizedSearchCV\n",
    "from sklearn.model_selection import cross_val_predict, cross_val_score, cross_validate\n",
    "from sklearn.metrics import roc_curve, confusion_matrix, accuracy_score, recall_score, precision_score, f1_score, roc_auc_score\n",
    "\n",
    "from sklearn.linear_model import LogisticRegression\n",
    "\n",
    "\n",
    "\n",
    "warnings.filterwarnings('ignore')\n"
   ],
   "outputs": [],
   "metadata": {
    "slideshow": {
     "slide_type": "skip"
    }
   }
  },
  {
   "cell_type": "code",
   "execution_count": null,
   "source": [
    "df_features = pd.read_csv('../data/Flu_Shot_Learning_Predict_H1N1_and_Seasonal_Flu_Vaccines_-_Training_Features.csv')"
   ],
   "outputs": [],
   "metadata": {
    "slideshow": {
     "slide_type": "skip"
    }
   }
  },
  {
   "cell_type": "code",
   "execution_count": null,
   "source": [
    "df_target = pd.read_csv('../data/Flu_Shot_Learning_Predict_H1N1_and_Seasonal_Flu_Vaccines_-_Training_Labels.csv')"
   ],
   "outputs": [],
   "metadata": {}
  },
  {
   "cell_type": "code",
   "execution_count": null,
   "source": [
    "# Get info for the target\n",
    "df_target.info()"
   ],
   "outputs": [],
   "metadata": {}
  },
  {
   "cell_type": "code",
   "execution_count": null,
   "source": [
    "df_features.isnull().sum(axis = 0)"
   ],
   "outputs": [],
   "metadata": {}
  },
  {
   "cell_type": "markdown",
   "source": [
    "- express missing values as %\n",
    "\n",
    "Options:\n",
    "- modelling for imputation (withput using our target variable!)\n",
    "- or use prediction models that don't care about missing values\n",
    "- or impute so that the overall distribution stays the same (based on statistics of this data set)\n",
    "- or impute using a hypothesis (e.g. people who have missing values don't have health insurance?)\n",
    "- for imputation we can try several approaches and see what gives best results :)\n",
    "\n",
    "- remember--when we impute, we want to base assumptions based on the test set of a train-test split:\n",
    "    - if we do multiple models, test-train split for each\n",
    "    - create functions for imputation\n",
    "\n",
    "- remember modelling for understanding (EDA style) =/= modelling for prediction\n",
    "\n",
    "library for visualising missing values:  \n",
    "\n",
    "https://github.com/ResidentMario/missingno"
   ],
   "metadata": {}
  },
  {
   "cell_type": "code",
   "execution_count": null,
   "source": [
    "# We are concatenating both dataframes into one \n",
    "\n",
    "df = pd.merge(df_target, df_features, on=['respondent_id'])"
   ],
   "outputs": [],
   "metadata": {}
  },
  {
   "cell_type": "markdown",
   "source": [
    "# Data imputation"
   ],
   "metadata": {}
  },
  {
   "cell_type": "markdown",
   "source": [
    "These count as columns that were dropped last time, with \"too many missing values\":\n",
    "['health_insurance', 'employment_industry', 'employment_occupation', 'income_poverty', 'marital_status', 'employment_status']\n",
    "\n",
    "To try:  \n",
    "- imputation on whole DF, most common values\n",
    "- imputation on whole DF (feature by feature), fill values but keep data distribution (e.g. 90% of values are 1, 10% of values are 0)\n",
    "- model to predict missing values:\n",
    "    - this is most important for health_insurance: 45% values are missing, but it's likely to be important to us\n",
    "    - income_poverty could also be important\n",
    "    - employment_occupation and employment_industry have many missing values, but their contents are not very useful (anonymised, we can't really make sense of them)--these features could be dropped\n",
    "\n",
    "To note:\n",
    "- prior to doing imputation models, I need to make sure the rest of the data is clean (or use a model which isn't impacted by missing data)\n",
    "- I may need a combination strategy to tacle this (e.g. using a model to impute some features and filling other features in with their most common value)\n",
    "\n",
    "How to assess imputation strategy:\n",
    "- What were the final model evaluation metrics before and after imputation?\n",
    "- Did overall statistics of the imputed features stay the same?\n",
    "- What about their correlations to other features?\n",
    "\n",
    "### Info:  \n",
    "- https://machinelearningmastery.com/statistical-imputation-for-missing-values-in-machine-learning/"
   ],
   "metadata": {}
  },
  {
   "cell_type": "markdown",
   "source": [
    "Statistics of features, before imputation:"
   ],
   "metadata": {}
  },
  {
   "cell_type": "code",
   "execution_count": null,
   "source": [
    "df.describe()"
   ],
   "outputs": [],
   "metadata": {}
  },
  {
   "cell_type": "markdown",
   "source": [
    "How many values are missing? (expressed as %)"
   ],
   "metadata": {}
  },
  {
   "cell_type": "code",
   "execution_count": null,
   "source": [
    "round(df.isnull().sum(axis = 0) / df.shape[0] *100, 2).sort_values(ascending=False)"
   ],
   "outputs": [],
   "metadata": {}
  },
  {
   "cell_type": "markdown",
   "source": [
    "## Looking at the missing values with missingno library"
   ],
   "metadata": {}
  },
  {
   "cell_type": "code",
   "execution_count": null,
   "source": [
    "import missingno as msno\n",
    "%matplotlib inline\n",
    "msno.matrix(df.sample(26707))"
   ],
   "outputs": [],
   "metadata": {}
  },
  {
   "cell_type": "markdown",
   "source": [
    "- The employment_industry and employment_occupation columns seem to be highly correlated in terms of missing info (i.e. info that's missing in one column is missing in the other)\n",
    "- The missing info in health_insurance doesn't seem to be correlated with anything"
   ],
   "metadata": {}
  },
  {
   "cell_type": "code",
   "execution_count": null,
   "source": [
    "msno.heatmap(df)"
   ],
   "outputs": [],
   "metadata": {}
  },
  {
   "cell_type": "code",
   "execution_count": null,
   "source": [
    "msno.dendrogram(df)"
   ],
   "outputs": [],
   "metadata": {}
  },
  {
   "cell_type": "markdown",
   "source": [
    "Visualising nullity by column:"
   ],
   "metadata": {}
  },
  {
   "cell_type": "code",
   "execution_count": null,
   "source": [
    "msno.bar(df.sample(26707))"
   ],
   "outputs": [],
   "metadata": {}
  },
  {
   "cell_type": "markdown",
   "source": [
    "## Initial strategy--drop some columns and then drop all rows with missing values"
   ],
   "metadata": {}
  },
  {
   "cell_type": "markdown",
   "source": [
    "Dropping of features with too many missing values:"
   ],
   "metadata": {}
  },
  {
   "cell_type": "code",
   "execution_count": null,
   "source": [
    "col_drop = ['health_insurance', 'employment_industry', 'employment_occupation', 'income_poverty', 'marital_status', 'employment_status']\n",
    "\n",
    "df_initial = df.drop(col_drop, axis=1)"
   ],
   "outputs": [],
   "metadata": {
    "slideshow": {
     "slide_type": "skip"
    }
   }
  },
  {
   "cell_type": "markdown",
   "source": [
    "Also dropped the column 'respondent_id', because it will cause problems during 1-hot encoding:"
   ],
   "metadata": {}
  },
  {
   "cell_type": "code",
   "execution_count": null,
   "source": [
    "#col_drop2 = ['index', 'respondent_id']\n",
    "df_initial = df_initial.drop('respondent_id', axis=1)"
   ],
   "outputs": [],
   "metadata": {}
  },
  {
   "cell_type": "markdown",
   "source": [
    "Dropping of all rows with null values:"
   ],
   "metadata": {}
  },
  {
   "cell_type": "code",
   "execution_count": null,
   "source": [
    "df_initial.dropna(inplace=True)"
   ],
   "outputs": [],
   "metadata": {}
  },
  {
   "cell_type": "markdown",
   "source": [
    "Check that all null values have been dropped:"
   ],
   "metadata": {}
  },
  {
   "cell_type": "code",
   "execution_count": null,
   "source": [
    "df_initial.isnull().sum(axis = 0)"
   ],
   "outputs": [],
   "metadata": {}
  },
  {
   "cell_type": "code",
   "execution_count": null,
   "source": [
    "#the index is causing problems during 1-hot encoding\n",
    "#df_initial.reset_index(inplace=True)"
   ],
   "outputs": [],
   "metadata": {}
  },
  {
   "cell_type": "markdown",
   "source": [
    "## Strategy 1: no imputation, leaving all missing values in"
   ],
   "metadata": {}
  },
  {
   "cell_type": "code",
   "execution_count": null,
   "source": [
    "df = df.drop('respondent_id', axis=1)"
   ],
   "outputs": [],
   "metadata": {}
  },
  {
   "cell_type": "code",
   "execution_count": null,
   "source": [
    "df.isnull().sum(axis = 0)"
   ],
   "outputs": [],
   "metadata": {}
  },
  {
   "cell_type": "markdown",
   "source": [
    "## Strategy 2: imputation with SimpleImputer, most frequent values"
   ],
   "metadata": {}
  },
  {
   "cell_type": "markdown",
   "source": [
    "https://scikit-learn.org/stable/modules/generated/sklearn.impute.SimpleImputer.html  \n",
    "\n",
    "We fill everything with the most frequent value that appeared in that column. \n",
    "Run on the whole dataset."
   ],
   "metadata": {}
  },
  {
   "cell_type": "code",
   "execution_count": null,
   "source": [
    "from sklearn.impute import SimpleImputer\n",
    "\n",
    "# define imputer\n",
    "imputer = SimpleImputer(strategy='most_frequent')\n",
    "\n",
    "# fit on the dataset\n",
    "imputer.fit(df)\n",
    "\n",
    "# transform the dataset\n",
    "df_mostfreq = pd.DataFrame(imputer.transform(df))"
   ],
   "outputs": [],
   "metadata": {}
  },
  {
   "cell_type": "markdown",
   "source": [
    "SimpleImputer gives a dataframe without column headings--here the headings are added back on"
   ],
   "metadata": {}
  },
  {
   "cell_type": "code",
   "execution_count": null,
   "source": [
    "col_names = df.columns.values.tolist()"
   ],
   "outputs": [],
   "metadata": {}
  },
  {
   "cell_type": "code",
   "execution_count": null,
   "source": [
    "df_mostfreq.columns = col_names"
   ],
   "outputs": [],
   "metadata": {}
  },
  {
   "cell_type": "markdown",
   "source": [
    "Checking that all values have been dropped"
   ],
   "metadata": {}
  },
  {
   "cell_type": "code",
   "execution_count": null,
   "source": [
    "df_mostfreq.isnull().sum(axis = 0)"
   ],
   "outputs": [],
   "metadata": {}
  },
  {
   "cell_type": "code",
   "execution_count": null,
   "source": [
    "df_mostfreq.info()"
   ],
   "outputs": [],
   "metadata": {}
  },
  {
   "cell_type": "markdown",
   "source": [
    "The SimpleImputer has converted all the columns to strings...so they should be changed to numeric (or at least the target variables should be converted)"
   ],
   "metadata": {}
  },
  {
   "cell_type": "code",
   "execution_count": null,
   "source": [
    "df_mostfreq['h1n1_vaccine'] = pd.to_numeric(df_mostfreq['h1n1_vaccine'])\n",
    "df_mostfreq['seasonal_vaccine'] = pd.to_numeric(df_mostfreq['seasonal_vaccine'])"
   ],
   "outputs": [],
   "metadata": {}
  },
  {
   "cell_type": "code",
   "execution_count": null,
   "source": [
    "df_mostfreq['health_insurance'].value_counts()"
   ],
   "outputs": [],
   "metadata": {}
  },
  {
   "cell_type": "markdown",
   "source": [
    "## Strategy 3: imputation with IterativeImputer, default settings (apart from initial_strategy = “most_frequent”)"
   ],
   "metadata": {}
  },
  {
   "cell_type": "markdown",
   "source": [
    "https://scikit-learn.org/stable/modules/generated/sklearn.impute.IterativeImputer.html#sklearn.impute.IterativeImputer\n",
    "\n",
    "initial_strategy = “most_frequent”; other parameters at default (Bayesian Ridge estimation used)\n",
    "\n",
    "Other estimators: https://scikit-learn.org/stable/auto_examples/impute/plot_iterative_imputer_variants_comparison.html\n",
    "\n",
    "Dataframe split into X and Y before imputation, so the target variable isn't used in the imputation"
   ],
   "metadata": {}
  },
  {
   "cell_type": "code",
   "execution_count": null,
   "source": [
    "from sklearn.experimental import enable_iterative_imputer\n",
    "from sklearn.impute import IterativeImputer"
   ],
   "outputs": [],
   "metadata": {}
  },
  {
   "cell_type": "code",
   "execution_count": null,
   "source": [
    "y_strat3 = df[['h1n1_vaccine', 'seasonal_vaccine']].copy()"
   ],
   "outputs": [],
   "metadata": {}
  },
  {
   "cell_type": "code",
   "execution_count": null,
   "source": [
    "y_strat3 = y_strat3.to_numpy()"
   ],
   "outputs": [],
   "metadata": {}
  },
  {
   "cell_type": "code",
   "execution_count": null,
   "source": [
    "#NB: dropping the 'h1n1_vaccine' and 'seasonal_vaccine' columns\n",
    "X_strat3 = df.drop(columns=['h1n1_vaccine', 'seasonal_vaccine'])"
   ],
   "outputs": [],
   "metadata": {}
  },
  {
   "cell_type": "markdown",
   "source": [
    "The IterativeImputer seems to have an issue with string values, so data converted to numerical:"
   ],
   "metadata": {}
  },
  {
   "cell_type": "code",
   "execution_count": null,
   "source": [
    "cleanup = {\"age_group\": {\"18 - 34 Years\": 1, \"35 - 44 Years\": 2, \"45 - 54 Years\": 3, \"55 - 64 Years\": 4,\n",
    "                                  \"65+ Years\": 5},\n",
    "            \"education\": {\"< 12 Years\": 1, \"12 Years\": 2, \"Some College\": 3, \"College Graduate\": 4},\n",
    "            \"race\": {\"White\": 1, \"Black\": 2, \"Hispanic\": 3, \"Other or Multiple\": 4},\n",
    "            \"sex\" : {\"Female\": 1, \"Male\": 2},\n",
    "            \"rent_or_own\" : {\"Own\": 1, \"Rent\": 2},\n",
    "            \"hhs_geo_region\" : {\"lzgpxyit\": 1, \"fpwskwrf\": 2, \"qufhixun\": 3, \"bhuqouqj\": 4, \"oxchjgsf\": 5, \"kbazzjca\": 6, \"mlyzmhmf\": 7, \"atmpeygn\": 8, \"lrircsnp\": 9, \"dqpwygqj\": 10},\n",
    "            \"census_msa\" : {\"MSA, Not Principle  City\": 1, \"MSA, Principle City\": 2, \"Non-MSA\": 3},\n",
    "            \"income_poverty\" : {\"Below Poverty\": 1, \"<= $75,000, Above Poverty\": 2, \"> $75,000\": 3},\n",
    "            \"employment_industry\" : {\"fcxhlnwr\": 1, \"wxleyezf\": 2, \"ldnlellj\": 3, \"pxcmvdjn\": 4, \"atmlpfrs\": 5, \"arjwrbjb\": 6, \"xicduogh\": 7, \"mfikgejo\": 8, \"vjjrobsf\": 9,\n",
    "                                    \"rucpziij\": 10, \"xqicxuve\": 11, \"saaquncn\": 12, \"cfqqtusy\": 13, \"nduyfdeo\": 14, \"mcubkhph\": 15, \"wlfvacwt\": 16, \"dotnnunm\": 17, \"haxffmxo\": 18, \"msuufmds\": 19, \"phxvnwax\": 20,\n",
    "                                    \"qnlwzans\": 21},\n",
    "           \"employment_occupation\" : {\"xtkaffoo\": 1, \"mxkfnird\": 2, \"emcorrxb\": 3, \"cmhcxjea\": 4, \"xgwztkwe\": 5, \"hfxkjkmi\": 6, \"qxajmpny\": 7, \"xqwwgdyp\": 8, \"kldqjyjy\": 9,\n",
    "                                    \"uqqtjvyb\": 10, \"tfqavkke\": 11, \"ukymxvdu\": 12, \"vlluhbov\": 13, \"oijqvulv\": 14, \"ccgxvspp\": 15, \"bxpfxfdn\": 16, \"haliazsg\": 17, \"rcertsgn\": 18, \"xzmlyyjv\": 19, \"dlvbwzss\": 20,\n",
    "                                    \"hodpvpew\": 21, \"dcjcmpih\": 22, \"pvmttkik\": 23},\n",
    "           \"marital_status\" : {\"Married\": 1, \"Not Married\": 2},\n",
    "           \"employment_status\" : {\"Employed\": 1, \"Not in Labor Force\": 2, \"Unemployed\": 3}\n",
    "                                  }\n",
    "X_strat3_num = X_strat3.replace(cleanup)"
   ],
   "outputs": [],
   "metadata": {}
  },
  {
   "cell_type": "code",
   "execution_count": null,
   "source": [
    "#define imputer\n",
    "it_imputer = IterativeImputer(initial_strategy='most_frequent')\n",
    "\n",
    "# fit on the dataset\n",
    "it_imputer.fit(X_strat3_num)\n",
    "it_imputer.fit(X_strat3_num)\n",
    "\n",
    "# transform the dataset\n",
    "X_iter = it_imputer.transform(X_strat3_num)"
   ],
   "outputs": [],
   "metadata": {}
  },
  {
   "cell_type": "markdown",
   "source": [
    "IterativeImputer gives an array without column headings--here the headings are added back on and the array is converted back to a data frame:"
   ],
   "metadata": {}
  },
  {
   "cell_type": "code",
   "execution_count": null,
   "source": [
    "col_names = X_strat3.columns.values.tolist()\n",
    "X_iter = pd.DataFrame(X_iter, columns=col_names)"
   ],
   "outputs": [],
   "metadata": {}
  },
  {
   "cell_type": "markdown",
   "source": [
    "Checking that all values have been dropped:"
   ],
   "metadata": {}
  },
  {
   "cell_type": "code",
   "execution_count": null,
   "source": [
    "X_iter.isnull().sum(axis = 0)"
   ],
   "outputs": [],
   "metadata": {}
  },
  {
   "cell_type": "markdown",
   "source": [
    "All data is currently numerical:"
   ],
   "metadata": {}
  },
  {
   "cell_type": "code",
   "execution_count": null,
   "source": [
    "X_iter.info()"
   ],
   "outputs": [],
   "metadata": {}
  },
  {
   "cell_type": "markdown",
   "source": [
    "## Strategy 4: imputation with IterativeImputer, DecisionTreeRegressor estimator"
   ],
   "metadata": {}
  },
  {
   "cell_type": "markdown",
   "source": [
    "This is the same as Strategy 3, except the imputation estimator is changed from default (BayesianRidge) to DecisionTreeRegressor\n",
    "\n",
    "The same dataframes are used as for Strategy 3"
   ],
   "metadata": {}
  },
  {
   "cell_type": "code",
   "execution_count": null,
   "source": [
    "from sklearn.tree import DecisionTreeRegressor\n",
    "\n",
    "#define imputer\n",
    "it_imputer_DT = IterativeImputer(estimator = DecisionTreeRegressor(),initial_strategy='most_frequent')\n",
    "\n",
    "# fit on the dataset\n",
    "it_imputer_DT.fit(X_strat3_num)\n",
    "\n",
    "# transform the dataset\n",
    "X_iter_DT = it_imputer_DT.transform(X_strat3_num)"
   ],
   "outputs": [],
   "metadata": {}
  },
  {
   "cell_type": "code",
   "execution_count": null,
   "source": [
    "col_names = X_strat3.columns.values.tolist()\n",
    "X_iter_DT = pd.DataFrame(X_iter_DT, columns=col_names)"
   ],
   "outputs": [],
   "metadata": {}
  },
  {
   "cell_type": "code",
   "execution_count": null,
   "source": [
    "X_iter_DT.isnull().sum(axis = 0)"
   ],
   "outputs": [],
   "metadata": {}
  },
  {
   "cell_type": "code",
   "execution_count": null,
   "source": [
    "X_iter_DT.info()"
   ],
   "outputs": [],
   "metadata": {}
  },
  {
   "cell_type": "markdown",
   "source": [
    "---"
   ],
   "metadata": {}
  },
  {
   "cell_type": "markdown",
   "source": [
    "These parts need to be adjusted for each imputation strategy"
   ],
   "metadata": {}
  },
  {
   "cell_type": "markdown",
   "source": [
    "## Initial strategy"
   ],
   "metadata": {}
  },
  {
   "cell_type": "markdown",
   "source": [
    "### Setting up variables"
   ],
   "metadata": {}
  },
  {
   "cell_type": "code",
   "execution_count": null,
   "source": [
    "cat_features = list(df_initial.columns)"
   ],
   "outputs": [],
   "metadata": {}
  },
  {
   "cell_type": "markdown",
   "source": [
    "Removal of target variables from cat_features list:"
   ],
   "metadata": {}
  },
  {
   "cell_type": "code",
   "execution_count": null,
   "source": [
    "cat_features.remove('h1n1_vaccine')"
   ],
   "outputs": [],
   "metadata": {}
  },
  {
   "cell_type": "code",
   "execution_count": null,
   "source": [
    "cat_features.remove('seasonal_vaccine')"
   ],
   "outputs": [],
   "metadata": {}
  },
  {
   "cell_type": "markdown",
   "source": [
    "Rename the features and target to 'X' and 'y', to make the test-train split easier (adjust for each dataframe, because the number of rows in the target will be different, depending on imputation strategy):"
   ],
   "metadata": {}
  },
  {
   "cell_type": "code",
   "execution_count": null,
   "source": [
    "y_initial = df_initial[['h1n1_vaccine', 'seasonal_vaccine']].copy()"
   ],
   "outputs": [],
   "metadata": {}
  },
  {
   "cell_type": "code",
   "execution_count": null,
   "source": [
    "y_initial = y_initial.to_numpy()"
   ],
   "outputs": [],
   "metadata": {}
  },
  {
   "cell_type": "code",
   "execution_count": null,
   "source": [
    "#NB: dropping the 'h1n1_vaccine' and 'seasonal_vaccine' columns\n",
    "X_initial = df_initial.drop(columns=['h1n1_vaccine', 'seasonal_vaccine'])"
   ],
   "outputs": [],
   "metadata": {}
  },
  {
   "cell_type": "markdown",
   "source": [
    "### Setting up pipeline  \n",
    "\n",
    "Doesn't need modifying, but needs to be run for each imputation strategy"
   ],
   "metadata": {}
  },
  {
   "cell_type": "code",
   "execution_count": null,
   "source": [
    "# Pipeline for categorical features\n",
    "#CHECK HERE--ARE WE DROPPING THE FIRST COLUMN TO PREVENT MULTICOLINEARITY?\n",
    "cat_pipeline = Pipeline([\n",
    "    ('1hot', OneHotEncoder(handle_unknown='error', drop='first'))\n",
    "])"
   ],
   "outputs": [],
   "metadata": {}
  },
  {
   "cell_type": "code",
   "execution_count": null,
   "source": [
    "preprocessor = ColumnTransformer([\n",
    "    ('cat', cat_pipeline, cat_features)\n",
    "])"
   ],
   "outputs": [],
   "metadata": {}
  },
  {
   "cell_type": "code",
   "execution_count": null,
   "source": [
    "estimators = MultiOutputClassifier(\n",
    "    estimator=LogisticRegression()\n",
    ")"
   ],
   "outputs": [],
   "metadata": {}
  },
  {
   "cell_type": "code",
   "execution_count": null,
   "source": [
    "full_pipeline = Pipeline([\n",
    "    (\"preprocessor\", preprocessor),\n",
    "    (\"estimators\", estimators),\n",
    "])"
   ],
   "outputs": [],
   "metadata": {}
  },
  {
   "cell_type": "markdown",
   "source": [
    "### Train-test split\n",
    "\n",
    "Names need to be modified"
   ],
   "metadata": {}
  },
  {
   "cell_type": "code",
   "execution_count": null,
   "source": [
    "X_train_init, X_test_init, y_train_init, y_test_init = train_test_split(X_initial, y_initial, stratify = y_initial, test_size=0.2, random_state=RSEED)"
   ],
   "outputs": [],
   "metadata": {}
  },
  {
   "cell_type": "code",
   "execution_count": null,
   "source": [
    "print('X_train_init shape:', X_train_init.shape)\n",
    "print('X_test_init shape:', X_test_init.shape)\n",
    "print('y_train_init shape:', y_train_init.shape)\n",
    "print('y_test_init shape:', y_test_init.shape)"
   ],
   "outputs": [],
   "metadata": {}
  },
  {
   "cell_type": "code",
   "execution_count": null,
   "source": [
    "full_pipeline.fit(X_train_init, y_train_init)"
   ],
   "outputs": [],
   "metadata": {}
  },
  {
   "cell_type": "code",
   "execution_count": null,
   "source": [
    "#getting predictions from train data\n",
    "preds_train_init = full_pipeline.predict(X_train_init)"
   ],
   "outputs": [],
   "metadata": {}
  },
  {
   "cell_type": "code",
   "execution_count": null,
   "source": [
    "#getting predictions from test data\n",
    "preds_test_init = full_pipeline.predict(X_test_init)\n"
   ],
   "outputs": [],
   "metadata": {}
  },
  {
   "cell_type": "markdown",
   "source": [
    "### Model evaluation"
   ],
   "metadata": {}
  },
  {
   "cell_type": "code",
   "execution_count": null,
   "source": [
    "# Evaluation Metrices for H1N1 Vaccines--train data\n",
    "print(\"Accuracy: {:.2f}\".format(accuracy_score(y_train_init[:, 0], preds_train_init[:, 0])))\n",
    "print(\"Recall: {:.2f}\".format(recall_score(y_train_init[:, 0], preds_train_init[:, 0])))\n",
    "print(\"Precision: {:.2f}\".format(precision_score(y_train_init[:, 0], preds_train_init[:, 0])))\n",
    "print(\"F1: {:.2f}\".format(f1_score(y_train_init[:, 0], preds_train_init[:, 0])))\n",
    "print(\"ROC: {:.2f}\".format(roc_auc_score(y_train_init[:, 0], preds_train_init[:, 0])))"
   ],
   "outputs": [],
   "metadata": {}
  },
  {
   "cell_type": "code",
   "execution_count": null,
   "source": [
    "# Evaluation Metrices for H1N1 Vaccines--test data\n",
    "print(\"Accuracy: {:.2f}\".format(accuracy_score(y_test_init[:, 0], preds_test_init[:, 0])))\n",
    "print(\"Recall: {:.2f}\".format(recall_score(y_test_init[:, 0], preds_test_init[:, 0])))\n",
    "print(\"Precision: {:.2f}\".format(precision_score(y_test_init[:, 0], preds_test_init[:, 0])))\n",
    "print(\"F1: {:.2f}\".format(f1_score(y_test_init[:, 0], preds_test_init[:, 0])))\n",
    "print(\"ROC: {:.2f}\".format(roc_auc_score(y_test_init[:, 0], preds_test_init[:, 0])))"
   ],
   "outputs": [],
   "metadata": {}
  },
  {
   "cell_type": "code",
   "execution_count": null,
   "source": [
    "# Evaluation Metrices for Seasonal Flu Vaccines--train data\n",
    "print(\"Accuracy: {:.2f}\".format(accuracy_score(y_train_init[:, 1], preds_train_init[:, 1])))\n",
    "print(\"Recall: {:.2f}\".format(recall_score(y_train_init[:, 1], preds_train_init[:, 1])))\n",
    "print(\"Precision: {:.2f}\".format(precision_score(y_train_init[:, 1], preds_train_init[:, 1])))\n",
    "print(\"F1: {:.2f}\".format(f1_score(y_train_init[:, 1], preds_train_init[:, 1])))\n",
    "print(\"ROC: {:.2f}\".format(roc_auc_score(y_train_init[:, 1], preds_train_init[:, 1])))"
   ],
   "outputs": [],
   "metadata": {}
  },
  {
   "cell_type": "code",
   "execution_count": null,
   "source": [
    "# Evaluation Metrices for Seasonal Flu Vaccines--test data\n",
    "print(\"Accuracy: {:.2f}\".format(accuracy_score(y_test_init[:, 1], preds_test_init[:, 1])))\n",
    "print(\"Recall: {:.2f}\".format(recall_score(y_test_init[:, 1], preds_test_init[:, 1])))\n",
    "print(\"Precision: {:.2f}\".format(precision_score(y_test_init[:, 1], preds_test_init[:, 1])))\n",
    "print(\"F1: {:.2f}\".format(f1_score(y_test_init[:, 1], preds_test_init[:, 1])))\n",
    "print(\"ROC: {:.2f}\".format(roc_auc_score(y_test_init[:, 1], preds_test_init[:, 1])))"
   ],
   "outputs": [],
   "metadata": {}
  },
  {
   "cell_type": "markdown",
   "source": [
    "---"
   ],
   "metadata": {}
  },
  {
   "cell_type": "markdown",
   "source": [
    "## Strategy 1--no imputation"
   ],
   "metadata": {}
  },
  {
   "cell_type": "markdown",
   "source": [
    "### Setting up variables"
   ],
   "metadata": {}
  },
  {
   "cell_type": "code",
   "execution_count": null,
   "source": [
    "cat_features = list(df.columns)"
   ],
   "outputs": [],
   "metadata": {}
  },
  {
   "cell_type": "markdown",
   "source": [
    "Removal of target variables from cat_features list:"
   ],
   "metadata": {}
  },
  {
   "cell_type": "code",
   "execution_count": null,
   "source": [
    "cat_features.remove('h1n1_vaccine')"
   ],
   "outputs": [],
   "metadata": {}
  },
  {
   "cell_type": "code",
   "execution_count": null,
   "source": [
    "cat_features.remove('seasonal_vaccine')"
   ],
   "outputs": [],
   "metadata": {}
  },
  {
   "cell_type": "markdown",
   "source": [
    "Rename the features and target to 'X' and 'y', to make the test-train split easier (adjust for each dataframe, because the number of rows in the target will be different, depending on imputation strategy):"
   ],
   "metadata": {}
  },
  {
   "cell_type": "code",
   "execution_count": null,
   "source": [
    "y_strat1 = df[['h1n1_vaccine', 'seasonal_vaccine']].copy()"
   ],
   "outputs": [],
   "metadata": {}
  },
  {
   "cell_type": "code",
   "execution_count": null,
   "source": [
    "y_strat1 = y_strat1.to_numpy()"
   ],
   "outputs": [],
   "metadata": {}
  },
  {
   "cell_type": "code",
   "execution_count": null,
   "source": [
    "#NB: dropping the 'h1n1_vaccine' and 'seasonal_vaccine' columns\n",
    "X_strat1 = df.drop(columns=['h1n1_vaccine', 'seasonal_vaccine'])"
   ],
   "outputs": [],
   "metadata": {}
  },
  {
   "cell_type": "markdown",
   "source": [
    "### Setting up pipeline  \n",
    "\n",
    "Doesn't need modifying, but needs to be run for each imputation strategy"
   ],
   "metadata": {}
  },
  {
   "cell_type": "code",
   "execution_count": null,
   "source": [
    "# Pipeline for categorical features\n",
    "#CHECK HERE--ARE WE DROPPING THE FIRST COLUMN TO PREVENT MULTICOLINEARITY?\n",
    "cat_pipeline = Pipeline([\n",
    "    ('1hot', OneHotEncoder(handle_unknown='error', drop='first'))\n",
    "])"
   ],
   "outputs": [],
   "metadata": {}
  },
  {
   "cell_type": "code",
   "execution_count": null,
   "source": [
    "preprocessor = ColumnTransformer([\n",
    "    ('cat', cat_pipeline, cat_features)\n",
    "])"
   ],
   "outputs": [],
   "metadata": {}
  },
  {
   "cell_type": "code",
   "execution_count": null,
   "source": [
    "estimators = MultiOutputClassifier(\n",
    "    estimator=LogisticRegression()\n",
    ")"
   ],
   "outputs": [],
   "metadata": {}
  },
  {
   "cell_type": "code",
   "execution_count": null,
   "source": [
    "full_pipeline = Pipeline([\n",
    "    (\"preprocessor\", preprocessor),\n",
    "    (\"estimators\", estimators),\n",
    "])"
   ],
   "outputs": [],
   "metadata": {}
  },
  {
   "cell_type": "markdown",
   "source": [
    "### Train-test split\n",
    "\n",
    "Names need to be modified"
   ],
   "metadata": {}
  },
  {
   "cell_type": "code",
   "execution_count": null,
   "source": [
    "X_train_strat1, X_test_strat1, y_train_strat1, y_test_strat1 = train_test_split(X_strat1, y_strat1, stratify = y_strat1, test_size=0.2, random_state=RSEED)"
   ],
   "outputs": [],
   "metadata": {}
  },
  {
   "cell_type": "code",
   "execution_count": null,
   "source": [
    "print('X_train_strat1 shape:', X_train_strat1.shape)\n",
    "print('X_test_strat1 shape:', X_test_strat1.shape)\n",
    "print('y_train_strat1 shape:', y_train_strat1.shape)\n",
    "print('y_test_strat1 shape:', y_test_strat1.shape)"
   ],
   "outputs": [],
   "metadata": {}
  },
  {
   "cell_type": "code",
   "execution_count": null,
   "source": [
    "full_pipeline.fit(X_train_strat1, y_train_strat1)"
   ],
   "outputs": [],
   "metadata": {}
  },
  {
   "cell_type": "code",
   "execution_count": null,
   "source": [
    "#getting predictions from train data\n",
    "preds_train_strat1 = full_pipeline.predict(X_train_strat1)"
   ],
   "outputs": [],
   "metadata": {}
  },
  {
   "cell_type": "code",
   "execution_count": null,
   "source": [
    "#getting predictions from test data\n",
    "preds_test_strat1 = full_pipeline.predict(X_test_strat1)\n"
   ],
   "outputs": [],
   "metadata": {}
  },
  {
   "cell_type": "markdown",
   "source": [
    "### Model evaluation"
   ],
   "metadata": {}
  },
  {
   "cell_type": "code",
   "execution_count": null,
   "source": [
    "# Evaluation Metrices for H1N1 Vaccines--train data\n",
    "print(\"Accuracy: {:.2f}\".format(accuracy_score(y_train_strat1[:, 0], preds_train_strat1[:, 0])))\n",
    "print(\"Recall: {:.2f}\".format(recall_score(y_train_strat1[:, 0], preds_train_strat1[:, 0])))\n",
    "print(\"Precision: {:.2f}\".format(precision_score(y_train_strat1[:, 0], preds_train_strat1[:, 0])))\n",
    "print(\"F1: {:.2f}\".format(f1_score(y_train_strat1[:, 0], preds_train_strat1[:, 0])))\n",
    "print(\"ROC: {:.2f}\".format(roc_auc_score(y_train_strat1[:, 0], preds_train_strat1[:, 0])))"
   ],
   "outputs": [],
   "metadata": {}
  },
  {
   "cell_type": "code",
   "execution_count": null,
   "source": [
    "# Evaluation Metrices for H1N1 Vaccines--test data\n",
    "print(\"Accuracy: {:.2f}\".format(accuracy_score(y_test_strat1[:, 0], preds_test_strat1[:, 0])))\n",
    "print(\"Recall: {:.2f}\".format(recall_score(y_test_strat1[:, 0], preds_test_strat1[:, 0])))\n",
    "print(\"Precision: {:.2f}\".format(precision_score(y_test_strat1[:, 0], preds_test_strat1[:, 0])))\n",
    "print(\"F1: {:.2f}\".format(f1_score(y_test_strat1[:, 0], preds_test_strat1[:, 0])))\n",
    "print(\"ROC: {:.2f}\".format(roc_auc_score(y_test_strat1[:, 0], preds_test_strat1[:, 0])))"
   ],
   "outputs": [],
   "metadata": {}
  },
  {
   "cell_type": "code",
   "execution_count": null,
   "source": [
    "# Evaluation Metrices for Seasonal Flu Vaccines--train data\n",
    "print(\"Accuracy: {:.2f}\".format(accuracy_score(y_train_strat1[:, 1], preds_train_strat1[:, 1])))\n",
    "print(\"Recall: {:.2f}\".format(recall_score(y_train_strat1[:, 1], preds_train_strat1[:, 1])))\n",
    "print(\"Precision: {:.2f}\".format(precision_score(y_train_strat1[:, 1], preds_train_strat1[:, 1])))\n",
    "print(\"F1: {:.2f}\".format(f1_score(y_train_strat1[:, 1], preds_train_strat1[:, 1])))\n",
    "print(\"ROC: {:.2f}\".format(roc_auc_score(y_train_strat1[:, 1], preds_train_strat1[:, 1])))"
   ],
   "outputs": [],
   "metadata": {}
  },
  {
   "cell_type": "code",
   "execution_count": null,
   "source": [
    "# Evaluation Metrices for Seasonal Flu Vaccines--test data\n",
    "print(\"Accuracy: {:.2f}\".format(accuracy_score(y_test_strat1[:, 1], preds_test_strat1[:, 1])))\n",
    "print(\"Recall: {:.2f}\".format(recall_score(y_test_strat1[:, 1], preds_test_strat1[:, 1])))\n",
    "print(\"Precision: {:.2f}\".format(precision_score(y_test_strat1[:, 1], preds_test_strat1[:, 1])))\n",
    "print(\"F1: {:.2f}\".format(f1_score(y_test_strat1[:, 1], preds_test_strat1[:, 1])))\n",
    "print(\"ROC: {:.2f}\".format(roc_auc_score(y_test_strat1[:, 1], preds_test_strat1[:, 1])))"
   ],
   "outputs": [],
   "metadata": {}
  },
  {
   "cell_type": "markdown",
   "source": [
    "---"
   ],
   "metadata": {}
  },
  {
   "cell_type": "markdown",
   "source": [
    "## Strategy 2: imputation with SimpleImputer, most frequent values"
   ],
   "metadata": {}
  },
  {
   "cell_type": "markdown",
   "source": [
    "### Setting up variables"
   ],
   "metadata": {}
  },
  {
   "cell_type": "code",
   "execution_count": null,
   "source": [
    "cat_features = list(df_mostfreq.columns)"
   ],
   "outputs": [],
   "metadata": {}
  },
  {
   "cell_type": "markdown",
   "source": [
    "Removal of target variables from cat_features list:"
   ],
   "metadata": {}
  },
  {
   "cell_type": "code",
   "execution_count": null,
   "source": [
    "cat_features.remove('h1n1_vaccine')"
   ],
   "outputs": [],
   "metadata": {}
  },
  {
   "cell_type": "code",
   "execution_count": null,
   "source": [
    "cat_features.remove('seasonal_vaccine')"
   ],
   "outputs": [],
   "metadata": {}
  },
  {
   "cell_type": "markdown",
   "source": [
    "Rename the features and target to 'X' and 'y', to make the test-train split easier (adjust for each dataframe, because the number of rows in the target will be different, depending on imputation strategy):"
   ],
   "metadata": {}
  },
  {
   "cell_type": "code",
   "execution_count": null,
   "source": [
    "y_strat2 = df_mostfreq[['h1n1_vaccine', 'seasonal_vaccine']].copy()"
   ],
   "outputs": [],
   "metadata": {}
  },
  {
   "cell_type": "code",
   "execution_count": null,
   "source": [
    "y_strat2 = y_strat2.to_numpy()"
   ],
   "outputs": [],
   "metadata": {}
  },
  {
   "cell_type": "code",
   "execution_count": null,
   "source": [
    "#NB: dropping the 'h1n1_vaccine' and 'seasonal_vaccine' columns\n",
    "X_strat2 = df_mostfreq.drop(columns=['h1n1_vaccine', 'seasonal_vaccine'])"
   ],
   "outputs": [],
   "metadata": {}
  },
  {
   "cell_type": "markdown",
   "source": [
    "### Setting up pipeline  \n",
    "\n",
    "Doesn't need modifying, but needs to be run for each imputation strategy"
   ],
   "metadata": {}
  },
  {
   "cell_type": "code",
   "execution_count": null,
   "source": [
    "# Pipeline for categorical features\n",
    "#CHECK HERE--ARE WE DROPPING THE FIRST COLUMN TO PREVENT MULTICOLINEARITY?\n",
    "cat_pipeline = Pipeline([\n",
    "    ('1hot', OneHotEncoder(handle_unknown='error', drop='first'))\n",
    "])"
   ],
   "outputs": [],
   "metadata": {}
  },
  {
   "cell_type": "code",
   "execution_count": null,
   "source": [
    "preprocessor = ColumnTransformer([\n",
    "    ('cat', cat_pipeline, cat_features)\n",
    "])"
   ],
   "outputs": [],
   "metadata": {}
  },
  {
   "cell_type": "code",
   "execution_count": null,
   "source": [
    "estimators = MultiOutputClassifier(\n",
    "    estimator=LogisticRegression()\n",
    ")"
   ],
   "outputs": [],
   "metadata": {}
  },
  {
   "cell_type": "code",
   "execution_count": null,
   "source": [
    "full_pipeline = Pipeline([\n",
    "    (\"preprocessor\", preprocessor),\n",
    "    (\"estimators\", estimators),\n",
    "])"
   ],
   "outputs": [],
   "metadata": {}
  },
  {
   "cell_type": "markdown",
   "source": [
    "### Train-test split\n",
    "\n",
    "Names need to be modified"
   ],
   "metadata": {}
  },
  {
   "cell_type": "code",
   "execution_count": null,
   "source": [
    "X_train_strat2, X_test_strat2, y_train_strat2, y_test_strat2 = train_test_split(X_strat2, y_strat2, stratify = y_strat2, test_size=0.2, random_state=RSEED)"
   ],
   "outputs": [],
   "metadata": {}
  },
  {
   "cell_type": "code",
   "execution_count": null,
   "source": [
    "print('X_train_strat2 shape:', X_train_strat2.shape)\n",
    "print('X_test_strat2 shape:', X_test_strat2.shape)\n",
    "print('y_train_strat2 shape:', y_train_strat2.shape)\n",
    "print('y_test_strat2 shape:', y_test_strat2.shape)"
   ],
   "outputs": [],
   "metadata": {}
  },
  {
   "cell_type": "code",
   "execution_count": null,
   "source": [
    "full_pipeline.fit(X_train_strat2, y_train_strat2)"
   ],
   "outputs": [],
   "metadata": {}
  },
  {
   "cell_type": "code",
   "execution_count": null,
   "source": [
    "#getting predictions from train data\n",
    "preds_train_strat2 = full_pipeline.predict(X_train_strat2)"
   ],
   "outputs": [],
   "metadata": {}
  },
  {
   "cell_type": "code",
   "execution_count": null,
   "source": [
    "#getting predictions from test data\n",
    "preds_test_strat2 = full_pipeline.predict(X_test_strat2)"
   ],
   "outputs": [],
   "metadata": {}
  },
  {
   "cell_type": "markdown",
   "source": [
    "### Model evaluation"
   ],
   "metadata": {}
  },
  {
   "cell_type": "code",
   "execution_count": null,
   "source": [
    "# Evaluation Metrices for H1N1 Vaccines--train data\n",
    "print(\"Accuracy: {:.2f}\".format(accuracy_score(y_train_strat2[:, 0], preds_train_strat2[:, 0])))\n",
    "print(\"Recall: {:.2f}\".format(recall_score(y_train_strat2[:, 0], preds_train_strat2[:, 0])))\n",
    "print(\"Precision: {:.2f}\".format(precision_score(y_train_strat2[:, 0], preds_train_strat2[:, 0])))\n",
    "print(\"F1: {:.2f}\".format(f1_score(y_train_strat2[:, 0], preds_train_strat2[:, 0])))\n",
    "print(\"ROC: {:.2f}\".format(roc_auc_score(y_train_strat2[:, 0], preds_train_strat2[:, 0])))"
   ],
   "outputs": [],
   "metadata": {}
  },
  {
   "cell_type": "code",
   "execution_count": null,
   "source": [
    "# Evaluation Metrices for H1N1 Vaccines--test data\n",
    "print(\"Accuracy: {:.2f}\".format(accuracy_score(y_test_strat2[:, 0], preds_test_strat2[:, 0])))\n",
    "print(\"Recall: {:.2f}\".format(recall_score(y_test_strat2[:, 0], preds_test_strat2[:, 0])))\n",
    "print(\"Precision: {:.2f}\".format(precision_score(y_test_strat2[:, 0], preds_test_strat2[:, 0])))\n",
    "print(\"F1: {:.2f}\".format(f1_score(y_test_strat2[:, 0], preds_test_strat2[:, 0])))\n",
    "print(\"ROC: {:.2f}\".format(roc_auc_score(y_test_strat2[:, 0], preds_test_strat2[:, 0])))"
   ],
   "outputs": [],
   "metadata": {}
  },
  {
   "cell_type": "code",
   "execution_count": null,
   "source": [
    "# Evaluation Metrices for Seasonal Flu Vaccines--train data\n",
    "print(\"Accuracy: {:.2f}\".format(accuracy_score(y_train_strat2[:, 1], preds_train_strat2[:, 1])))\n",
    "print(\"Recall: {:.2f}\".format(recall_score(y_train_strat2[:, 1], preds_train_strat2[:, 1])))\n",
    "print(\"Precision: {:.2f}\".format(precision_score(y_train_strat2[:, 1], preds_train_strat2[:, 1])))\n",
    "print(\"F1: {:.2f}\".format(f1_score(y_train_strat2[:, 1], preds_train_strat2[:, 1])))\n",
    "print(\"ROC: {:.2f}\".format(roc_auc_score(y_train_strat2[:, 1], preds_train_strat2[:, 1])))"
   ],
   "outputs": [],
   "metadata": {}
  },
  {
   "cell_type": "code",
   "execution_count": null,
   "source": [
    "# Evaluation Metrices for Seasonal Flu Vaccines--test data\n",
    "print(\"Accuracy: {:.2f}\".format(accuracy_score(y_test_strat2[:, 1], preds_test_strat2[:, 1])))\n",
    "print(\"Recall: {:.2f}\".format(recall_score(y_test_strat2[:, 1], preds_test_strat2[:, 1])))\n",
    "print(\"Precision: {:.2f}\".format(precision_score(y_test_strat2[:, 1], preds_test_strat2[:, 1])))\n",
    "print(\"F1: {:.2f}\".format(f1_score(y_test_strat2[:, 1], preds_test_strat2[:, 1])))\n",
    "print(\"ROC: {:.2f}\".format(roc_auc_score(y_test_strat2[:, 1], preds_test_strat2[:, 1])))"
   ],
   "outputs": [],
   "metadata": {}
  },
  {
   "cell_type": "markdown",
   "source": [
    "## Strategy 3: imputation with IterativeImputer, default settings (apart from initial_strategy = “most_frequent”)"
   ],
   "metadata": {}
  },
  {
   "cell_type": "markdown",
   "source": [
    "### Setting up pipeline  \n",
    "\n",
    "Doesn't need modifying, but needs to be run for each imputation strategy"
   ],
   "metadata": {}
  },
  {
   "cell_type": "code",
   "execution_count": null,
   "source": [
    "# Pipeline for categorical features\n",
    "#CHECK HERE--ARE WE DROPPING THE FIRST COLUMN TO PREVENT MULTICOLINEARITY?\n",
    "cat_pipeline = Pipeline([\n",
    "    ('1hot', OneHotEncoder(handle_unknown='error', drop='first'))\n",
    "])"
   ],
   "outputs": [],
   "metadata": {}
  },
  {
   "cell_type": "code",
   "execution_count": null,
   "source": [
    "preprocessor = ColumnTransformer([\n",
    "    ('cat', cat_pipeline, cat_features)\n",
    "])"
   ],
   "outputs": [],
   "metadata": {}
  },
  {
   "cell_type": "code",
   "execution_count": null,
   "source": [
    "estimators = MultiOutputClassifier(\n",
    "    estimator=LogisticRegression()\n",
    ")"
   ],
   "outputs": [],
   "metadata": {}
  },
  {
   "cell_type": "code",
   "execution_count": null,
   "source": [
    "full_pipeline = Pipeline([\n",
    "    (\"preprocessor\", preprocessor),\n",
    "    (\"estimators\", estimators),\n",
    "])"
   ],
   "outputs": [],
   "metadata": {}
  },
  {
   "cell_type": "markdown",
   "source": [
    "### Train-test split\n",
    "\n",
    "Names need to be modified"
   ],
   "metadata": {}
  },
  {
   "cell_type": "code",
   "execution_count": null,
   "source": [
    "X_train_strat3, X_test_strat3, y_train_strat3, y_test_strat3 = train_test_split(X_iter, y_strat3, stratify = y_strat3, test_size=0.2, random_state=RSEED)"
   ],
   "outputs": [],
   "metadata": {}
  },
  {
   "cell_type": "code",
   "execution_count": null,
   "source": [
    "print('X_train_strat3 shape:', X_train_strat3.shape)\n",
    "print('X_test_strat3 shape:', X_test_strat3.shape)\n",
    "print('y_train_strat3 shape:', y_train_strat3.shape)\n",
    "print('y_test_strat3 shape:', y_test_strat3.shape)"
   ],
   "outputs": [],
   "metadata": {}
  },
  {
   "cell_type": "code",
   "execution_count": null,
   "source": [
    "full_pipeline.fit(X_train_strat3, y_train_strat3)"
   ],
   "outputs": [],
   "metadata": {}
  },
  {
   "cell_type": "code",
   "execution_count": null,
   "source": [
    "#getting predictions from train data\n",
    "preds_train_strat3 = full_pipeline.predict(X_train_strat3)"
   ],
   "outputs": [],
   "metadata": {}
  },
  {
   "cell_type": "code",
   "execution_count": null,
   "source": [
    "X_test_strat3"
   ],
   "outputs": [],
   "metadata": {}
  },
  {
   "cell_type": "code",
   "execution_count": null,
   "source": [
    "#getting predictions from test data\n",
    "preds_test_strat3 = full_pipeline.predict(X_test_strat3)"
   ],
   "outputs": [],
   "metadata": {}
  },
  {
   "cell_type": "markdown",
   "source": [
    "### Model evaluation"
   ],
   "metadata": {}
  },
  {
   "cell_type": "code",
   "execution_count": null,
   "source": [
    "# Evaluation Metrices for H1N1 Vaccines--train data\n",
    "print(\"Accuracy: {:.2f}\".format(accuracy_score(y_train_strat3[:, 0], preds_train_strat3[:, 0])))\n",
    "print(\"Recall: {:.2f}\".format(recall_score(y_train_strat3[:, 0], preds_train_strat3[:, 0])))\n",
    "print(\"Precision: {:.2f}\".format(precision_score(y_train_strat3[:, 0], preds_train_strat3[:, 0])))\n",
    "print(\"F1: {:.2f}\".format(f1_score(y_train_strat3[:, 0], preds_train_strat3[:, 0])))\n",
    "print(\"ROC: {:.2f}\".format(roc_auc_score(y_train_strat3[:, 0], preds_train_strat3[:, 0])))"
   ],
   "outputs": [],
   "metadata": {}
  },
  {
   "cell_type": "code",
   "execution_count": null,
   "source": [
    "# Evaluation Metrices for H1N1 Vaccines--test data\n",
    "print(\"Accuracy: {:.2f}\".format(accuracy_score(y_test_strat3[:, 0], preds_test_strat3[:, 0])))\n",
    "print(\"Recall: {:.2f}\".format(recall_score(y_test_strat3[:, 0], preds_test_strat3[:, 0])))\n",
    "print(\"Precision: {:.2f}\".format(precision_score(y_test_strat3[:, 0], preds_test_strat3[:, 0])))\n",
    "print(\"F1: {:.2f}\".format(f1_score(y_test_strat3[:, 0], preds_test_strat3[:, 0])))\n",
    "print(\"ROC: {:.2f}\".format(roc_auc_score(y_test_strat3[:, 0], preds_test_strat3[:, 0])))"
   ],
   "outputs": [],
   "metadata": {}
  },
  {
   "cell_type": "code",
   "execution_count": null,
   "source": [
    "# Evaluation Metrices for Seasonal Flu Vaccines--train data\n",
    "print(\"Accuracy: {:.2f}\".format(accuracy_score(y_train_strat3[:, 1], preds_train_strat3[:, 1])))\n",
    "print(\"Recall: {:.2f}\".format(recall_score(y_train_strat3[:, 1], preds_train_strat3[:, 1])))\n",
    "print(\"Precision: {:.2f}\".format(precision_score(y_train_strat3[:, 1], preds_train_strat3[:, 1])))\n",
    "print(\"F1: {:.2f}\".format(f1_score(y_train_strat3[:, 1], preds_train_strat3[:, 1])))\n",
    "print(\"ROC: {:.2f}\".format(roc_auc_score(y_train_strat3[:, 1], preds_train_strat3[:, 1])))"
   ],
   "outputs": [],
   "metadata": {}
  },
  {
   "cell_type": "code",
   "execution_count": null,
   "source": [
    "# Evaluation Metrices for Seasonal Flu Vaccines--test data\n",
    "print(\"Accuracy: {:.2f}\".format(accuracy_score(y_test_strat3[:, 1], preds_test_strat3[:, 1])))\n",
    "print(\"Recall: {:.2f}\".format(recall_score(y_test_strat3[:, 1], preds_test_strat3[:, 1])))\n",
    "print(\"Precision: {:.2f}\".format(precision_score(y_test_strat3[:, 1], preds_test_strat3[:, 1])))\n",
    "print(\"F1: {:.2f}\".format(f1_score(y_test_strat3[:, 1], preds_test_strat3[:, 1])))\n",
    "print(\"ROC: {:.2f}\".format(roc_auc_score(y_test_strat3[:, 1], preds_test_strat3[:, 1])))"
   ],
   "outputs": [],
   "metadata": {}
  },
  {
   "cell_type": "markdown",
   "source": [
    "## Strategy 4: imputation with IterativeImputer, DecisionTreeRegressor estimator"
   ],
   "metadata": {}
  },
  {
   "cell_type": "markdown",
   "source": [
    "### Setting up pipeline  \n",
    "\n",
    "Doesn't need modifying, but needs to be run for each imputation strategy"
   ],
   "metadata": {}
  },
  {
   "cell_type": "code",
   "execution_count": null,
   "source": [
    "# Pipeline for categorical features\n",
    "#CHECK HERE--ARE WE DROPPING THE FIRST COLUMN TO PREVENT MULTICOLINEARITY?\n",
    "cat_pipeline = Pipeline([\n",
    "    ('1hot', OneHotEncoder(handle_unknown='error', drop='first'))\n",
    "])"
   ],
   "outputs": [],
   "metadata": {}
  },
  {
   "cell_type": "code",
   "execution_count": null,
   "source": [
    "preprocessor = ColumnTransformer([\n",
    "    ('cat', cat_pipeline, cat_features)\n",
    "])"
   ],
   "outputs": [],
   "metadata": {}
  },
  {
   "cell_type": "code",
   "execution_count": null,
   "source": [
    "estimators = MultiOutputClassifier(\n",
    "    estimator=LogisticRegression()\n",
    ")"
   ],
   "outputs": [],
   "metadata": {}
  },
  {
   "cell_type": "code",
   "execution_count": null,
   "source": [
    "full_pipeline = Pipeline([\n",
    "    (\"preprocessor\", preprocessor),\n",
    "    (\"estimators\", estimators),\n",
    "])"
   ],
   "outputs": [],
   "metadata": {}
  },
  {
   "cell_type": "markdown",
   "source": [
    "### Train-test split\n",
    "\n",
    "Names need to be modified"
   ],
   "metadata": {}
  },
  {
   "cell_type": "code",
   "execution_count": null,
   "source": [
    "X_train_strat1, X_test_strat1, y_train_strat1, y_test_strat1 = train_test_split(X_strat1, y_strat1, stratify = y_strat1, test_size=0.2, random_state=RSEED)"
   ],
   "outputs": [],
   "metadata": {}
  },
  {
   "cell_type": "code",
   "execution_count": null,
   "source": [
    "print('X_train_strat1 shape:', X_train_strat1.shape)\n",
    "print('X_test_strat1 shape:', X_test_strat1.shape)\n",
    "print('y_train_strat1 shape:', y_train_strat1.shape)\n",
    "print('y_test_strat1 shape:', y_test_strat1.shape)"
   ],
   "outputs": [],
   "metadata": {}
  },
  {
   "cell_type": "code",
   "execution_count": null,
   "source": [
    "full_pipeline.fit(X_train_strat1, y_train_strat1)"
   ],
   "outputs": [],
   "metadata": {}
  },
  {
   "cell_type": "code",
   "execution_count": null,
   "source": [
    "#getting predictions from train data\n",
    "preds_train_strat1 = full_pipeline.predict(X_train_strat1)"
   ],
   "outputs": [],
   "metadata": {}
  },
  {
   "cell_type": "code",
   "execution_count": null,
   "source": [
    "#getting predictions from test data\n",
    "preds_test_strat1 = full_pipeline.predict(X_test_strat1)\n"
   ],
   "outputs": [],
   "metadata": {}
  },
  {
   "cell_type": "markdown",
   "source": [
    "### Model evaluation"
   ],
   "metadata": {}
  },
  {
   "cell_type": "code",
   "execution_count": null,
   "source": [
    "# Evaluation Metrices for H1N1 Vaccines--train data\n",
    "print(\"Accuracy: {:.2f}\".format(accuracy_score(y_train_strat1[:, 0], preds_train_strat1[:, 0])))\n",
    "print(\"Recall: {:.2f}\".format(recall_score(y_train_strat1[:, 0], preds_train_strat1[:, 0])))\n",
    "print(\"Precision: {:.2f}\".format(precision_score(y_train_strat1[:, 0], preds_train_strat1[:, 0])))\n",
    "print(\"F1: {:.2f}\".format(f1_score(y_train_strat1[:, 0], preds_train_strat1[:, 0])))\n",
    "print(\"ROC: {:.2f}\".format(roc_auc_score(y_train_strat1[:, 0], preds_train_strat1[:, 0])))"
   ],
   "outputs": [],
   "metadata": {}
  },
  {
   "cell_type": "code",
   "execution_count": null,
   "source": [
    "# Evaluation Metrices for H1N1 Vaccines--test data\n",
    "print(\"Accuracy: {:.2f}\".format(accuracy_score(y_test_strat1[:, 0], preds_test_strat1[:, 0])))\n",
    "print(\"Recall: {:.2f}\".format(recall_score(y_test_strat1[:, 0], preds_test_strat1[:, 0])))\n",
    "print(\"Precision: {:.2f}\".format(precision_score(y_test_strat1[:, 0], preds_test_strat1[:, 0])))\n",
    "print(\"F1: {:.2f}\".format(f1_score(y_test_strat1[:, 0], preds_test_strat1[:, 0])))\n",
    "print(\"ROC: {:.2f}\".format(roc_auc_score(y_test_strat1[:, 0], preds_test_strat1[:, 0])))"
   ],
   "outputs": [],
   "metadata": {}
  },
  {
   "cell_type": "code",
   "execution_count": null,
   "source": [
    "# Evaluation Metrices for Seasonal Flu Vaccines--train data\n",
    "print(\"Accuracy: {:.2f}\".format(accuracy_score(y_train_strat1[:, 1], preds_train_strat1[:, 1])))\n",
    "print(\"Recall: {:.2f}\".format(recall_score(y_train_strat1[:, 1], preds_train_strat1[:, 1])))\n",
    "print(\"Precision: {:.2f}\".format(precision_score(y_train_strat1[:, 1], preds_train_strat1[:, 1])))\n",
    "print(\"F1: {:.2f}\".format(f1_score(y_train_strat1[:, 1], preds_train_strat1[:, 1])))\n",
    "print(\"ROC: {:.2f}\".format(roc_auc_score(y_train_strat1[:, 1], preds_train_strat1[:, 1])))"
   ],
   "outputs": [],
   "metadata": {}
  },
  {
   "cell_type": "code",
   "execution_count": null,
   "source": [
    "# Evaluation Metrices for Seasonal Flu Vaccines--test data\n",
    "print(\"Accuracy: {:.2f}\".format(accuracy_score(y_test_strat1[:, 1], preds_test_strat1[:, 1])))\n",
    "print(\"Recall: {:.2f}\".format(recall_score(y_test_strat1[:, 1], preds_test_strat1[:, 1])))\n",
    "print(\"Precision: {:.2f}\".format(precision_score(y_test_strat1[:, 1], preds_test_strat1[:, 1])))\n",
    "print(\"F1: {:.2f}\".format(f1_score(y_test_strat1[:, 1], preds_test_strat1[:, 1])))\n",
    "print(\"ROC: {:.2f}\".format(roc_auc_score(y_test_strat1[:, 1], preds_test_strat1[:, 1])))"
   ],
   "outputs": [],
   "metadata": {}
  },
  {
   "cell_type": "code",
   "execution_count": null,
   "source": [],
   "outputs": [],
   "metadata": {}
  }
 ],
 "metadata": {
  "interpreter": {
   "hash": "814a4648c3854a1cbaf3ba0fa5a085f29f50e64abde1ac36b31214e370bca5fb"
  },
  "kernelspec": {
   "display_name": "Python 3",
   "language": "python",
   "name": "python3"
  },
  "language_info": {
   "codemirror_mode": {
    "name": "ipython",
    "version": 3
   },
   "file_extension": ".py",
   "mimetype": "text/x-python",
   "name": "python",
   "nbconvert_exporter": "python",
   "pygments_lexer": "ipython3",
   "version": "3.8.5"
  },
  "metadata": {
   "interpreter": {
    "hash": "aee8b7b246df8f9039afb4144a1f6fd8d2ca17a180786b69acc140d282b71a49"
   }
  }
 },
 "nbformat": 4,
 "nbformat_minor": 4
}