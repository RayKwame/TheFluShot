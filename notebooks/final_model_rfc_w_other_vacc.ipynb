{
 "cells": [
  {
   "cell_type": "markdown",
   "id": "9a913b9f",
   "metadata": {},
   "source": [
    "# Combination of feature engineering and downsampling for feature importance--random forest (other vaccine included in features)"
   ]
  },
  {
   "cell_type": "code",
   "execution_count": 1,
   "id": "837ef4d3",
   "metadata": {},
   "outputs": [
    {
     "name": "stdout",
     "output_type": "stream",
     "text": [
      "Requirement already satisfied: eli5 in /Users/christinarudolf/Documents/neuefische_ds/TheFluShot/.venv/lib/python3.8/site-packages (0.11.0)\n",
      "Requirement already satisfied: scipy in /Users/christinarudolf/Documents/neuefische_ds/TheFluShot/.venv/lib/python3.8/site-packages (from eli5) (1.6.0)\n",
      "Requirement already satisfied: six in /Users/christinarudolf/Documents/neuefische_ds/TheFluShot/.venv/lib/python3.8/site-packages (from eli5) (1.16.0)\n",
      "Requirement already satisfied: scikit-learn>=0.20 in /Users/christinarudolf/Documents/neuefische_ds/TheFluShot/.venv/lib/python3.8/site-packages (from eli5) (0.24.2)\n",
      "Requirement already satisfied: graphviz in /Users/christinarudolf/Documents/neuefische_ds/TheFluShot/.venv/lib/python3.8/site-packages (from eli5) (0.17)\n",
      "Requirement already satisfied: tabulate>=0.7.7 in /Users/christinarudolf/Documents/neuefische_ds/TheFluShot/.venv/lib/python3.8/site-packages (from eli5) (0.8.9)\n",
      "Requirement already satisfied: jinja2 in /Users/christinarudolf/Documents/neuefische_ds/TheFluShot/.venv/lib/python3.8/site-packages (from eli5) (3.0.1)\n",
      "Requirement already satisfied: attrs>16.0.0 in /Users/christinarudolf/Documents/neuefische_ds/TheFluShot/.venv/lib/python3.8/site-packages (from eli5) (21.2.0)\n",
      "Requirement already satisfied: numpy>=1.9.0 in /Users/christinarudolf/Documents/neuefische_ds/TheFluShot/.venv/lib/python3.8/site-packages (from eli5) (1.20.1)\n",
      "Requirement already satisfied: threadpoolctl>=2.0.0 in /Users/christinarudolf/Documents/neuefische_ds/TheFluShot/.venv/lib/python3.8/site-packages (from scikit-learn>=0.20->eli5) (2.2.0)\n",
      "Requirement already satisfied: joblib>=0.11 in /Users/christinarudolf/Documents/neuefische_ds/TheFluShot/.venv/lib/python3.8/site-packages (from scikit-learn>=0.20->eli5) (1.0.1)\n",
      "Requirement already satisfied: MarkupSafe>=2.0 in /Users/christinarudolf/Documents/neuefische_ds/TheFluShot/.venv/lib/python3.8/site-packages (from jinja2->eli5) (2.0.1)\n"
     ]
    }
   ],
   "source": [
    "import sys\n",
    "# adding to the path variables the one folder higher (locally, not changing system variables)\n",
    "sys.path.append(\"..\")\n",
    "import pandas as pd\n",
    "import numpy as np\n",
    "import warnings\n",
    "import mlflow\n",
    "from modeling.config import TRACKING_URI, EXPERIMENT_NAME\n",
    "\n",
    "RSEED = 42\n",
    "# Modeling Libraries\n",
    "\n",
    "import numpy as np\n",
    "import pandas as pd\n",
    "import matplotlib.pyplot as plt\n",
    "import seaborn as sns\n",
    "\n",
    "from sklearn.impute import SimpleImputer\n",
    "\n",
    "from sklearn.dummy import DummyClassifier\n",
    "from sklearn.multioutput import MultiOutputClassifier\n",
    "from sklearn.linear_model import LinearRegression\n",
    "from sklearn.pipeline import Pipeline\n",
    "from sklearn.compose import ColumnTransformer\n",
    "from sklearn.preprocessing import OneHotEncoder, StandardScaler\n",
    "from sklearn.impute import SimpleImputer\n",
    "from sklearn.model_selection import train_test_split\n",
    "from sklearn.model_selection import GridSearchCV, RandomizedSearchCV\n",
    "from sklearn.model_selection import cross_val_predict, cross_val_score, cross_validate\n",
    "from sklearn.metrics import roc_curve, confusion_matrix, accuracy_score, recall_score, precision_score, f1_score, roc_auc_score\n",
    "from sklearn import metrics\n",
    "\n",
    "from sklearn.linear_model import LogisticRegression\n",
    "from sklearn.linear_model import SGDClassifier\n",
    "from sklearn.ensemble import RandomForestClassifier\n",
    "\n",
    "# for resampling (data balancing)\n",
    "from sklearn.utils import resample\n",
    "\n",
    "# for feature importance\n",
    "!pip install eli5\n",
    "import eli5\n",
    "from eli5.sklearn import PermutationImportance\n",
    "\n",
    "warnings.filterwarnings('ignore')\n",
    "\n"
   ]
  },
  {
   "cell_type": "markdown",
   "id": "2400f7c5",
   "metadata": {},
   "source": [
    "Data import:"
   ]
  },
  {
   "cell_type": "code",
   "execution_count": 2,
   "id": "640df6d1",
   "metadata": {},
   "outputs": [],
   "source": [
    "df = pd.read_csv('../data/Flu_Shot_Data_cleaned_2.csv')"
   ]
  },
  {
   "cell_type": "code",
   "execution_count": 3,
   "id": "c7f2dc30",
   "metadata": {},
   "outputs": [
    {
     "name": "stdout",
     "output_type": "stream",
     "text": [
      "<class 'pandas.core.frame.DataFrame'>\n",
      "RangeIndex: 26707 entries, 0 to 26706\n",
      "Data columns (total 38 columns):\n",
      " #   Column                       Non-Null Count  Dtype  \n",
      "---  ------                       --------------  -----  \n",
      " 0   Unnamed: 0                   26707 non-null  int64  \n",
      " 1   h1n1_vaccine                 26707 non-null  int64  \n",
      " 2   seasonal_vaccine             26707 non-null  int64  \n",
      " 3   h1n1_concern                 26615 non-null  float64\n",
      " 4   h1n1_knowledge               26591 non-null  float64\n",
      " 5   behavioral_antiviral_meds    26636 non-null  float64\n",
      " 6   behavioral_avoidance         26499 non-null  float64\n",
      " 7   behavioral_face_mask         26688 non-null  float64\n",
      " 8   behavioral_wash_hands        26665 non-null  float64\n",
      " 9   behavioral_large_gatherings  26620 non-null  float64\n",
      " 10  behavioral_outside_home      26625 non-null  float64\n",
      " 11  behavioral_touch_face        26579 non-null  float64\n",
      " 12  doctor_recc_h1n1             24547 non-null  float64\n",
      " 13  doctor_recc_seasonal         24547 non-null  float64\n",
      " 14  chronic_med_condition        25736 non-null  float64\n",
      " 15  child_under_6_months         25887 non-null  float64\n",
      " 16  health_worker                25903 non-null  float64\n",
      " 17  health_insurance             14433 non-null  float64\n",
      " 18  opinion_h1n1_vacc_effective  26316 non-null  float64\n",
      " 19  opinion_h1n1_risk            26319 non-null  float64\n",
      " 20  opinion_h1n1_sick_from_vacc  26312 non-null  float64\n",
      " 21  opinion_seas_vacc_effective  26245 non-null  float64\n",
      " 22  opinion_seas_risk            26193 non-null  float64\n",
      " 23  opinion_seas_sick_from_vacc  26170 non-null  float64\n",
      " 24  age_group                    26707 non-null  object \n",
      " 25  education                    25300 non-null  object \n",
      " 26  race                         26707 non-null  object \n",
      " 27  sex                          26707 non-null  object \n",
      " 28  income_poverty               22284 non-null  object \n",
      " 29  marital_status               25299 non-null  object \n",
      " 30  rent_or_own                  24665 non-null  object \n",
      " 31  employment_status            25244 non-null  object \n",
      " 32  hhs_geo_region               26707 non-null  object \n",
      " 33  census_msa                   26707 non-null  object \n",
      " 34  household_adults             26458 non-null  float64\n",
      " 35  household_children           26458 non-null  float64\n",
      " 36  employment_industry          13377 non-null  object \n",
      " 37  employment_occupation        13237 non-null  object \n",
      "dtypes: float64(23), int64(3), object(12)\n",
      "memory usage: 7.7+ MB\n"
     ]
    }
   ],
   "source": [
    "df.info()"
   ]
  },
  {
   "cell_type": "code",
   "execution_count": 4,
   "id": "fe87d9c2",
   "metadata": {},
   "outputs": [],
   "source": [
    "# Getting rid of column 'Unnamed: 0'\n",
    "df = df.drop('Unnamed: 0', axis=1)"
   ]
  },
  {
   "cell_type": "code",
   "execution_count": 5,
   "id": "98536514",
   "metadata": {},
   "outputs": [
    {
     "data": {
      "text/plain": [
       "MSA, Not Principle  City    11645\n",
       "MSA, Principle City          7864\n",
       "Non-MSA                      7198\n",
       "Name: census_msa, dtype: int64"
      ]
     },
     "execution_count": 5,
     "metadata": {},
     "output_type": "execute_result"
    }
   ],
   "source": [
    "df.census_msa.value_counts()"
   ]
  },
  {
   "cell_type": "code",
   "execution_count": 6,
   "id": "7fa7be8f",
   "metadata": {},
   "outputs": [
    {
     "name": "stdout",
     "output_type": "stream",
     "text": [
      "<class 'pandas.core.frame.DataFrame'>\n",
      "RangeIndex: 26707 entries, 0 to 26706\n",
      "Data columns (total 37 columns):\n",
      " #   Column                       Non-Null Count  Dtype  \n",
      "---  ------                       --------------  -----  \n",
      " 0   h1n1_vaccine                 26707 non-null  int64  \n",
      " 1   seasonal_vaccine             26707 non-null  int64  \n",
      " 2   h1n1_concern                 26615 non-null  float64\n",
      " 3   h1n1_knowledge               26591 non-null  float64\n",
      " 4   behavioral_antiviral_meds    26636 non-null  float64\n",
      " 5   behavioral_avoidance         26499 non-null  float64\n",
      " 6   behavioral_face_mask         26688 non-null  float64\n",
      " 7   behavioral_wash_hands        26665 non-null  float64\n",
      " 8   behavioral_large_gatherings  26620 non-null  float64\n",
      " 9   behavioral_outside_home      26625 non-null  float64\n",
      " 10  behavioral_touch_face        26579 non-null  float64\n",
      " 11  doctor_recc_h1n1             24547 non-null  float64\n",
      " 12  doctor_recc_seasonal         24547 non-null  float64\n",
      " 13  chronic_med_condition        25736 non-null  float64\n",
      " 14  child_under_6_months         25887 non-null  float64\n",
      " 15  health_worker                25903 non-null  float64\n",
      " 16  health_insurance             14433 non-null  float64\n",
      " 17  opinion_h1n1_vacc_effective  26316 non-null  float64\n",
      " 18  opinion_h1n1_risk            26319 non-null  float64\n",
      " 19  opinion_h1n1_sick_from_vacc  26312 non-null  float64\n",
      " 20  opinion_seas_vacc_effective  26245 non-null  float64\n",
      " 21  opinion_seas_risk            26193 non-null  float64\n",
      " 22  opinion_seas_sick_from_vacc  26170 non-null  float64\n",
      " 23  age_group                    26707 non-null  object \n",
      " 24  education                    25300 non-null  object \n",
      " 25  race                         26707 non-null  object \n",
      " 26  sex                          26707 non-null  object \n",
      " 27  income_poverty               22284 non-null  object \n",
      " 28  marital_status               25299 non-null  object \n",
      " 29  rent_or_own                  24665 non-null  object \n",
      " 30  employment_status            25244 non-null  object \n",
      " 31  hhs_geo_region               26707 non-null  object \n",
      " 32  census_msa                   26707 non-null  object \n",
      " 33  household_adults             26458 non-null  float64\n",
      " 34  household_children           26458 non-null  float64\n",
      " 35  employment_industry          13377 non-null  object \n",
      " 36  employment_occupation        13237 non-null  object \n",
      "dtypes: float64(23), int64(2), object(12)\n",
      "memory usage: 7.5+ MB\n"
     ]
    }
   ],
   "source": [
    "df.info()"
   ]
  },
  {
   "cell_type": "markdown",
   "id": "82b84ff3",
   "metadata": {},
   "source": [
    "Random forest (without 1-hot encoding) and the permutation importance will not work with:\n",
    "a.) string as features\n",
    "b.) missing data (https://datascience.stackexchange.com/questions/72764/can-random-forest-regressor-or-decision-trees-handle-missing-values-and-outliers )"
   ]
  },
  {
   "cell_type": "markdown",
   "id": "25b5f39b",
   "metadata": {},
   "source": [
    "**Filling in missing values**"
   ]
  },
  {
   "cell_type": "markdown",
   "id": "ca838aa3",
   "metadata": {},
   "source": [
    "A dummy value (-999) is used to replace NaN values. Apparently, as long as you use a dummy value that doesn't appear in the feature (such as -999), then the algorithm handles this automatically (https://www.kaggle.com/questions-and-answers/60595; https://www.analyticsvidhya.com/blog/2021/05/dealing-with-missing-values-in-python-a-complete-guide/ ). I have tried comparing this approach to analysis on a notebook that still had Nan values, and the resultant evaluation metrics remain largely the same (with variation of up to 0.02...but that could be due to the use of the random forest classifier)"
   ]
  },
  {
   "cell_type": "markdown",
   "id": "61383ba0",
   "metadata": {},
   "source": [
    "**Converting string info to numerical**"
   ]
  },
  {
   "cell_type": "code",
   "execution_count": 7,
   "id": "6e595adb",
   "metadata": {},
   "outputs": [],
   "source": [
    "cleanup = {\"age_group\": {\"18 - 34 Years\": 1, \"35 - 44 Years\": 2, \"45 - 54 Years\": 3, \"55 - 64 Years\": 4,\n",
    "                                  \"65+ Years\": 5},\n",
    "            \"education\": {\"< 12 Years\": 1, \"12 Years\": 2, \"Some College\": 3, \"College Graduate\": 4},\n",
    "            \"race\": {\"White\": 1, \"Black\": 2, \"Hispanic\": 3, \"Other or Multiple\": 4},\n",
    "            \"sex\" : {\"Female\": 1, \"Male\": 2},\n",
    "            \"rent_or_own\" : {\"Own\": 1, \"Rent\": 2},\n",
    "            \"hhs_geo_region\" : {\"lzgpxyit\": 1, \"fpwskwrf\": 2, \"qufhixun\": 3, \"bhuqouqj\": 4, \"oxchjgsf\": 5, \"kbazzjca\": 6, \"mlyzmhmf\": 7, \"atmpeygn\": 8, \"lrircsnp\": 9, \"dqpwygqj\": 10},\n",
    "            \"census_msa\" : {\"MSA, Principle City\": 1, \"MSA, Not Principle  City\": 2, \"Non-MSA\": 3},\n",
    "            \"income_poverty\" : {\"Below Poverty\": 1, \"<= $75,000, Above Poverty\": 2, \"> $75,000\": 3},\n",
    "            \"employment_industry\" : {\"fcxhlnwr\": 1, \"wxleyezf\": 2, \"ldnlellj\": 3, \"pxcmvdjn\": 4, \"atmlpfrs\": 5, \"arjwrbjb\": 6, \"xicduogh\": 7, \"mfikgejo\": 8, \"vjjrobsf\": 9,\n",
    "                                    \"rucpziij\": 10, \"xqicxuve\": 11, \"saaquncn\": 12, \"cfqqtusy\": 13, \"nduyfdeo\": 14, \"mcubkhph\": 15, \"wlfvacwt\": 16, \"dotnnunm\": 17, \"haxffmxo\": 18, \"msuufmds\": 19, \"phxvnwax\": 20,\n",
    "                                    \"qnlwzans\": 21},\n",
    "           \"employment_occupation\" : {\"xtkaffoo\": 1, \"mxkfnird\": 2, \"emcorrxb\": 3, \"cmhcxjea\": 4, \"xgwztkwe\": 5, \"hfxkjkmi\": 6, \"qxajmpny\": 7, \"xqwwgdyp\": 8, \"kldqjyjy\": 9,\n",
    "                                    \"uqqtjvyb\": 10, \"tfqavkke\": 11, \"ukymxvdu\": 12, \"vlluhbov\": 13, \"oijqvulv\": 14, \"ccgxvspp\": 15, \"bxpfxfdn\": 16, \"haliazsg\": 17, \"rcertsgn\": 18, \"xzmlyyjv\": 19, \"dlvbwzss\": 20,\n",
    "                                    \"hodpvpew\": 21, \"dcjcmpih\": 22, \"pvmttkik\": 23},\n",
    "           \"marital_status\" : {\"Married\": 1, \"Not Married\": 2},\n",
    "           \"employment_status\" : {\"Employed\": 1, \"Not in Labor Force\": 2, \"Unemployed\": 3}\n",
    "                                  }"
   ]
  },
  {
   "cell_type": "code",
   "execution_count": 8,
   "id": "c69481a7",
   "metadata": {},
   "outputs": [],
   "source": [
    "df_num = df.replace(cleanup)"
   ]
  },
  {
   "cell_type": "code",
   "execution_count": 9,
   "id": "999e543e",
   "metadata": {},
   "outputs": [
    {
     "name": "stdout",
     "output_type": "stream",
     "text": [
      "<class 'pandas.core.frame.DataFrame'>\n",
      "RangeIndex: 26707 entries, 0 to 26706\n",
      "Data columns (total 37 columns):\n",
      " #   Column                       Non-Null Count  Dtype  \n",
      "---  ------                       --------------  -----  \n",
      " 0   h1n1_vaccine                 26707 non-null  int64  \n",
      " 1   seasonal_vaccine             26707 non-null  int64  \n",
      " 2   h1n1_concern                 26615 non-null  float64\n",
      " 3   h1n1_knowledge               26591 non-null  float64\n",
      " 4   behavioral_antiviral_meds    26636 non-null  float64\n",
      " 5   behavioral_avoidance         26499 non-null  float64\n",
      " 6   behavioral_face_mask         26688 non-null  float64\n",
      " 7   behavioral_wash_hands        26665 non-null  float64\n",
      " 8   behavioral_large_gatherings  26620 non-null  float64\n",
      " 9   behavioral_outside_home      26625 non-null  float64\n",
      " 10  behavioral_touch_face        26579 non-null  float64\n",
      " 11  doctor_recc_h1n1             24547 non-null  float64\n",
      " 12  doctor_recc_seasonal         24547 non-null  float64\n",
      " 13  chronic_med_condition        25736 non-null  float64\n",
      " 14  child_under_6_months         25887 non-null  float64\n",
      " 15  health_worker                25903 non-null  float64\n",
      " 16  health_insurance             14433 non-null  float64\n",
      " 17  opinion_h1n1_vacc_effective  26316 non-null  float64\n",
      " 18  opinion_h1n1_risk            26319 non-null  float64\n",
      " 19  opinion_h1n1_sick_from_vacc  26312 non-null  float64\n",
      " 20  opinion_seas_vacc_effective  26245 non-null  float64\n",
      " 21  opinion_seas_risk            26193 non-null  float64\n",
      " 22  opinion_seas_sick_from_vacc  26170 non-null  float64\n",
      " 23  age_group                    26707 non-null  int64  \n",
      " 24  education                    25300 non-null  float64\n",
      " 25  race                         26707 non-null  int64  \n",
      " 26  sex                          26707 non-null  int64  \n",
      " 27  income_poverty               22284 non-null  float64\n",
      " 28  marital_status               25299 non-null  float64\n",
      " 29  rent_or_own                  24665 non-null  float64\n",
      " 30  employment_status            25244 non-null  float64\n",
      " 31  hhs_geo_region               26707 non-null  int64  \n",
      " 32  census_msa                   26707 non-null  int64  \n",
      " 33  household_adults             26458 non-null  float64\n",
      " 34  household_children           26458 non-null  float64\n",
      " 35  employment_industry          13377 non-null  float64\n",
      " 36  employment_occupation        13237 non-null  float64\n",
      "dtypes: float64(30), int64(7)\n",
      "memory usage: 7.5 MB\n"
     ]
    }
   ],
   "source": [
    "df_num.info()"
   ]
  },
  {
   "cell_type": "markdown",
   "id": "a0e32aea",
   "metadata": {},
   "source": [
    "## Checking feature correlation"
   ]
  },
  {
   "cell_type": "code",
   "execution_count": 10,
   "id": "2d49ee75",
   "metadata": {},
   "outputs": [
    {
     "name": "stdout",
     "output_type": "stream",
     "text": [
      "doctor_recc_h1n1             doctor_recc_seasonal           0.591868\n",
      "behavioral_large_gatherings  behavioral_outside_home        0.584085\n",
      "opinion_h1n1_risk            opinion_seas_risk              0.564522\n",
      "opinion_h1n1_sick_from_vacc  opinion_seas_sick_from_vacc    0.502192\n",
      "opinion_h1n1_vacc_effective  opinion_seas_vacc_effective    0.444043\n",
      "education                    income_poverty                 0.415926\n",
      "seasonal_vaccine             opinion_seas_vacc_effective    0.397874\n",
      "h1n1_vaccine                 doctor_recc_h1n1               0.393890\n",
      "seasonal_vaccine             opinion_seas_risk              0.389286\n",
      "dtype: float64\n"
     ]
    }
   ],
   "source": [
    "# getting the highly correlated features--numerical features, without imputing the dummy value\n",
    "s = df_num.corr(method='spearman').unstack().sort_values(kind=\"quicksort\", ascending=False).drop_duplicates()\n",
    "print(s[1:10])"
   ]
  },
  {
   "cell_type": "markdown",
   "id": "5fe7d6e0",
   "metadata": {},
   "source": [
    "These results are consistent with previous results (feature_engineering notebook)"
   ]
  },
  {
   "cell_type": "markdown",
   "id": "3bd25988",
   "metadata": {},
   "source": [
    "### Creating a new column based on recommendation (2 binary features)\n",
    "- applying a function that tells if both, none or either of the vaccines have been recommended"
   ]
  },
  {
   "cell_type": "code",
   "execution_count": 11,
   "id": "2ac7bb3d",
   "metadata": {},
   "outputs": [],
   "source": [
    "def get_reco(row):\n",
    "    # none of the vaccines has been recommended\n",
    "    if row['doctor_recc_seasonal'] == 0 and row['doctor_recc_h1n1'] == 0:\n",
    "        val = 0\n",
    "    # both vaccines have been recommended\n",
    "    elif row['doctor_recc_seasonal'] == 0 and row['doctor_recc_h1n1'] == 1:\n",
    "        val = 1\n",
    "    # only seasonal vaccine has been recommended \n",
    "    elif row['doctor_recc_seasonal'] == 1 and row['doctor_recc_h1n1'] == 0:\n",
    "        val = 2\n",
    "    # only H1N1 vaccine has been recommended\n",
    "    elif row['doctor_recc_seasonal'] == 1 and row['doctor_recc_h1n1'] == 1:\n",
    "        val = 3\n",
    "    else:\n",
    "        val = None\n",
    "    return val "
   ]
  },
  {
   "cell_type": "code",
   "execution_count": 12,
   "id": "d8a8ee93",
   "metadata": {},
   "outputs": [],
   "source": [
    "# Applying the function\n",
    "# values will be converted to categorical \n",
    "df_num['reco_vaccines'] = df_num.apply(get_reco, axis=1).astype('category')"
   ]
  },
  {
   "cell_type": "code",
   "execution_count": 13,
   "id": "0aab4250",
   "metadata": {},
   "outputs": [
    {
     "data": {
      "text/plain": [
       "0.0    15659\n",
       "3.0     4614\n",
       "2.0     3480\n",
       "1.0      794\n",
       "Name: reco_vaccines, dtype: int64"
      ]
     },
     "execution_count": 13,
     "metadata": {},
     "output_type": "execute_result"
    }
   ],
   "source": [
    "df_num['reco_vaccines'].value_counts()"
   ]
  },
  {
   "cell_type": "code",
   "execution_count": 14,
   "id": "ff4b8d81",
   "metadata": {},
   "outputs": [
    {
     "name": "stdout",
     "output_type": "stream",
     "text": [
      "0.0    17073\n",
      "1.0     9547\n",
      "Name: behavioral_large_gatherings, dtype: int64\n",
      "0.0    17644\n",
      "1.0     8981\n",
      "Name: behavioral_outside_home, dtype: int64\n"
     ]
    }
   ],
   "source": [
    "print(df_num.behavioral_large_gatherings.value_counts())\n",
    "print(df_num.behavioral_outside_home.value_counts())"
   ]
  },
  {
   "cell_type": "markdown",
   "id": "cd367cbd",
   "metadata": {},
   "source": [
    "### Creating a new column based on 2 behavioural features"
   ]
  },
  {
   "cell_type": "markdown",
   "id": "7f430003",
   "metadata": {},
   "source": [
    "- next, we will create a function that combines behaviour at large gatherings and outside of home\n",
    "- NOTE: we need to make an assumption that '0' refers to not having done it and '1' refers to having done it "
   ]
  },
  {
   "cell_type": "code",
   "execution_count": 15,
   "id": "a1df0018",
   "metadata": {},
   "outputs": [],
   "source": [
    "def get_behaviour(row):\n",
    "    # none of the behaviours applies \n",
    "    if row['behavioral_large_gatherings'] == 0 and row['behavioral_outside_home'] == 0:\n",
    "        val = 0\n",
    "    # both behaviours apply \n",
    "    elif row['behavioral_large_gatherings'] == 0 and row['behavioral_outside_home'] == 1:\n",
    "        val = 1\n",
    "    # only reducing time at large gatherings applies \n",
    "    elif row['behavioral_large_gatherings'] == 1 and row['behavioral_outside_home'] == 0:\n",
    "        val = 2\n",
    "    # only reduced contact with people outside of household applies \n",
    "    elif row['behavioral_large_gatherings'] == 1 and row['behavioral_outside_home'] == 1:\n",
    "        val = 3\n",
    "    else:\n",
    "        val = None\n",
    "    return val "
   ]
  },
  {
   "cell_type": "code",
   "execution_count": 16,
   "id": "2e42d590",
   "metadata": {},
   "outputs": [],
   "source": [
    "# Applying the function\n",
    "# values will be converted to categorical \n",
    "df_num['behaviour_gather_home'] = df_num.apply(get_behaviour, axis=1).astype('category')"
   ]
  },
  {
   "cell_type": "code",
   "execution_count": 17,
   "id": "ae8b8e5f",
   "metadata": {},
   "outputs": [
    {
     "data": {
      "text/plain": [
       "0.0    14808\n",
       "3.0     6723\n",
       "2.0     2796\n",
       "1.0     2224\n",
       "Name: behaviour_gather_home, dtype: int64"
      ]
     },
     "execution_count": 17,
     "metadata": {},
     "output_type": "execute_result"
    }
   ],
   "source": [
    "df_num.behaviour_gather_home.value_counts()"
   ]
  },
  {
   "cell_type": "markdown",
   "id": "69bb05e2",
   "metadata": {},
   "source": [
    "- we will now drop the columns that are no longer necessary "
   ]
  },
  {
   "cell_type": "code",
   "execution_count": 18,
   "id": "bc5ea04d",
   "metadata": {},
   "outputs": [],
   "source": [
    "removal = ['doctor_recc_seasonal', 'doctor_recc_h1n1', 'behavioral_large_gatherings', 'behavioral_outside_home']\n",
    "\n",
    "df_num.drop(removal, axis=1, inplace=True)"
   ]
  },
  {
   "cell_type": "code",
   "execution_count": 19,
   "id": "e7a39925",
   "metadata": {},
   "outputs": [
    {
     "data": {
      "text/html": [
       "<div>\n",
       "<style scoped>\n",
       "    .dataframe tbody tr th:only-of-type {\n",
       "        vertical-align: middle;\n",
       "    }\n",
       "\n",
       "    .dataframe tbody tr th {\n",
       "        vertical-align: top;\n",
       "    }\n",
       "\n",
       "    .dataframe thead th {\n",
       "        text-align: right;\n",
       "    }\n",
       "</style>\n",
       "<table border=\"1\" class=\"dataframe\">\n",
       "  <thead>\n",
       "    <tr style=\"text-align: right;\">\n",
       "      <th></th>\n",
       "      <th>h1n1_vaccine</th>\n",
       "      <th>seasonal_vaccine</th>\n",
       "      <th>h1n1_concern</th>\n",
       "      <th>h1n1_knowledge</th>\n",
       "      <th>behavioral_antiviral_meds</th>\n",
       "      <th>behavioral_avoidance</th>\n",
       "      <th>behavioral_face_mask</th>\n",
       "      <th>behavioral_wash_hands</th>\n",
       "      <th>behavioral_touch_face</th>\n",
       "      <th>chronic_med_condition</th>\n",
       "      <th>...</th>\n",
       "      <th>rent_or_own</th>\n",
       "      <th>employment_status</th>\n",
       "      <th>hhs_geo_region</th>\n",
       "      <th>census_msa</th>\n",
       "      <th>household_adults</th>\n",
       "      <th>household_children</th>\n",
       "      <th>employment_industry</th>\n",
       "      <th>employment_occupation</th>\n",
       "      <th>reco_vaccines</th>\n",
       "      <th>behaviour_gather_home</th>\n",
       "    </tr>\n",
       "  </thead>\n",
       "  <tbody>\n",
       "    <tr>\n",
       "      <th>0</th>\n",
       "      <td>0</td>\n",
       "      <td>0</td>\n",
       "      <td>1.0</td>\n",
       "      <td>0.0</td>\n",
       "      <td>0.0</td>\n",
       "      <td>0.0</td>\n",
       "      <td>0.0</td>\n",
       "      <td>0.0</td>\n",
       "      <td>1.0</td>\n",
       "      <td>0.0</td>\n",
       "      <td>...</td>\n",
       "      <td>1.0</td>\n",
       "      <td>2.0</td>\n",
       "      <td>5</td>\n",
       "      <td>3</td>\n",
       "      <td>0.0</td>\n",
       "      <td>0.0</td>\n",
       "      <td>NaN</td>\n",
       "      <td>NaN</td>\n",
       "      <td>0.0</td>\n",
       "      <td>1.0</td>\n",
       "    </tr>\n",
       "    <tr>\n",
       "      <th>1</th>\n",
       "      <td>0</td>\n",
       "      <td>1</td>\n",
       "      <td>3.0</td>\n",
       "      <td>2.0</td>\n",
       "      <td>0.0</td>\n",
       "      <td>1.0</td>\n",
       "      <td>0.0</td>\n",
       "      <td>1.0</td>\n",
       "      <td>1.0</td>\n",
       "      <td>0.0</td>\n",
       "      <td>...</td>\n",
       "      <td>2.0</td>\n",
       "      <td>1.0</td>\n",
       "      <td>4</td>\n",
       "      <td>2</td>\n",
       "      <td>0.0</td>\n",
       "      <td>0.0</td>\n",
       "      <td>4.0</td>\n",
       "      <td>5.0</td>\n",
       "      <td>0.0</td>\n",
       "      <td>1.0</td>\n",
       "    </tr>\n",
       "    <tr>\n",
       "      <th>2</th>\n",
       "      <td>0</td>\n",
       "      <td>0</td>\n",
       "      <td>1.0</td>\n",
       "      <td>1.0</td>\n",
       "      <td>0.0</td>\n",
       "      <td>1.0</td>\n",
       "      <td>0.0</td>\n",
       "      <td>0.0</td>\n",
       "      <td>0.0</td>\n",
       "      <td>1.0</td>\n",
       "      <td>...</td>\n",
       "      <td>1.0</td>\n",
       "      <td>1.0</td>\n",
       "      <td>3</td>\n",
       "      <td>2</td>\n",
       "      <td>2.0</td>\n",
       "      <td>0.0</td>\n",
       "      <td>10.0</td>\n",
       "      <td>1.0</td>\n",
       "      <td>NaN</td>\n",
       "      <td>0.0</td>\n",
       "    </tr>\n",
       "    <tr>\n",
       "      <th>3</th>\n",
       "      <td>0</td>\n",
       "      <td>1</td>\n",
       "      <td>1.0</td>\n",
       "      <td>1.0</td>\n",
       "      <td>0.0</td>\n",
       "      <td>1.0</td>\n",
       "      <td>0.0</td>\n",
       "      <td>1.0</td>\n",
       "      <td>0.0</td>\n",
       "      <td>1.0</td>\n",
       "      <td>...</td>\n",
       "      <td>2.0</td>\n",
       "      <td>2.0</td>\n",
       "      <td>9</td>\n",
       "      <td>1</td>\n",
       "      <td>0.0</td>\n",
       "      <td>0.0</td>\n",
       "      <td>NaN</td>\n",
       "      <td>NaN</td>\n",
       "      <td>2.0</td>\n",
       "      <td>2.0</td>\n",
       "    </tr>\n",
       "    <tr>\n",
       "      <th>4</th>\n",
       "      <td>0</td>\n",
       "      <td>0</td>\n",
       "      <td>2.0</td>\n",
       "      <td>1.0</td>\n",
       "      <td>0.0</td>\n",
       "      <td>1.0</td>\n",
       "      <td>0.0</td>\n",
       "      <td>1.0</td>\n",
       "      <td>1.0</td>\n",
       "      <td>0.0</td>\n",
       "      <td>...</td>\n",
       "      <td>1.0</td>\n",
       "      <td>1.0</td>\n",
       "      <td>3</td>\n",
       "      <td>2</td>\n",
       "      <td>1.0</td>\n",
       "      <td>0.0</td>\n",
       "      <td>2.0</td>\n",
       "      <td>3.0</td>\n",
       "      <td>0.0</td>\n",
       "      <td>2.0</td>\n",
       "    </tr>\n",
       "    <tr>\n",
       "      <th>5</th>\n",
       "      <td>0</td>\n",
       "      <td>0</td>\n",
       "      <td>3.0</td>\n",
       "      <td>1.0</td>\n",
       "      <td>0.0</td>\n",
       "      <td>1.0</td>\n",
       "      <td>0.0</td>\n",
       "      <td>1.0</td>\n",
       "      <td>1.0</td>\n",
       "      <td>0.0</td>\n",
       "      <td>...</td>\n",
       "      <td>1.0</td>\n",
       "      <td>1.0</td>\n",
       "      <td>8</td>\n",
       "      <td>1</td>\n",
       "      <td>2.0</td>\n",
       "      <td>3.0</td>\n",
       "      <td>12.0</td>\n",
       "      <td>13.0</td>\n",
       "      <td>2.0</td>\n",
       "      <td>0.0</td>\n",
       "    </tr>\n",
       "    <tr>\n",
       "      <th>6</th>\n",
       "      <td>0</td>\n",
       "      <td>0</td>\n",
       "      <td>0.0</td>\n",
       "      <td>0.0</td>\n",
       "      <td>0.0</td>\n",
       "      <td>0.0</td>\n",
       "      <td>0.0</td>\n",
       "      <td>0.0</td>\n",
       "      <td>0.0</td>\n",
       "      <td>0.0</td>\n",
       "      <td>...</td>\n",
       "      <td>1.0</td>\n",
       "      <td>1.0</td>\n",
       "      <td>3</td>\n",
       "      <td>2</td>\n",
       "      <td>0.0</td>\n",
       "      <td>0.0</td>\n",
       "      <td>7.0</td>\n",
       "      <td>1.0</td>\n",
       "      <td>0.0</td>\n",
       "      <td>0.0</td>\n",
       "    </tr>\n",
       "    <tr>\n",
       "      <th>7</th>\n",
       "      <td>1</td>\n",
       "      <td>1</td>\n",
       "      <td>1.0</td>\n",
       "      <td>0.0</td>\n",
       "      <td>0.0</td>\n",
       "      <td>1.0</td>\n",
       "      <td>0.0</td>\n",
       "      <td>1.0</td>\n",
       "      <td>1.0</td>\n",
       "      <td>1.0</td>\n",
       "      <td>...</td>\n",
       "      <td>1.0</td>\n",
       "      <td>1.0</td>\n",
       "      <td>4</td>\n",
       "      <td>3</td>\n",
       "      <td>2.0</td>\n",
       "      <td>0.0</td>\n",
       "      <td>4.0</td>\n",
       "      <td>8.0</td>\n",
       "      <td>1.0</td>\n",
       "      <td>0.0</td>\n",
       "    </tr>\n",
       "    <tr>\n",
       "      <th>8</th>\n",
       "      <td>0</td>\n",
       "      <td>0</td>\n",
       "      <td>0.0</td>\n",
       "      <td>2.0</td>\n",
       "      <td>0.0</td>\n",
       "      <td>1.0</td>\n",
       "      <td>0.0</td>\n",
       "      <td>1.0</td>\n",
       "      <td>1.0</td>\n",
       "      <td>0.0</td>\n",
       "      <td>...</td>\n",
       "      <td>1.0</td>\n",
       "      <td>1.0</td>\n",
       "      <td>4</td>\n",
       "      <td>2</td>\n",
       "      <td>1.0</td>\n",
       "      <td>0.0</td>\n",
       "      <td>7.0</td>\n",
       "      <td>15.0</td>\n",
       "      <td>0.0</td>\n",
       "      <td>3.0</td>\n",
       "    </tr>\n",
       "    <tr>\n",
       "      <th>9</th>\n",
       "      <td>0</td>\n",
       "      <td>0</td>\n",
       "      <td>2.0</td>\n",
       "      <td>1.0</td>\n",
       "      <td>0.0</td>\n",
       "      <td>1.0</td>\n",
       "      <td>0.0</td>\n",
       "      <td>0.0</td>\n",
       "      <td>1.0</td>\n",
       "      <td>1.0</td>\n",
       "      <td>...</td>\n",
       "      <td>1.0</td>\n",
       "      <td>2.0</td>\n",
       "      <td>3</td>\n",
       "      <td>2</td>\n",
       "      <td>0.0</td>\n",
       "      <td>0.0</td>\n",
       "      <td>NaN</td>\n",
       "      <td>NaN</td>\n",
       "      <td>0.0</td>\n",
       "      <td>2.0</td>\n",
       "    </tr>\n",
       "    <tr>\n",
       "      <th>10</th>\n",
       "      <td>1</td>\n",
       "      <td>1</td>\n",
       "      <td>2.0</td>\n",
       "      <td>1.0</td>\n",
       "      <td>0.0</td>\n",
       "      <td>1.0</td>\n",
       "      <td>0.0</td>\n",
       "      <td>1.0</td>\n",
       "      <td>0.0</td>\n",
       "      <td>1.0</td>\n",
       "      <td>...</td>\n",
       "      <td>2.0</td>\n",
       "      <td>1.0</td>\n",
       "      <td>1</td>\n",
       "      <td>2</td>\n",
       "      <td>2.0</td>\n",
       "      <td>0.0</td>\n",
       "      <td>7.0</td>\n",
       "      <td>7.0</td>\n",
       "      <td>0.0</td>\n",
       "      <td>2.0</td>\n",
       "    </tr>\n",
       "    <tr>\n",
       "      <th>11</th>\n",
       "      <td>1</td>\n",
       "      <td>1</td>\n",
       "      <td>1.0</td>\n",
       "      <td>2.0</td>\n",
       "      <td>0.0</td>\n",
       "      <td>1.0</td>\n",
       "      <td>0.0</td>\n",
       "      <td>1.0</td>\n",
       "      <td>0.0</td>\n",
       "      <td>0.0</td>\n",
       "      <td>...</td>\n",
       "      <td>1.0</td>\n",
       "      <td>1.0</td>\n",
       "      <td>5</td>\n",
       "      <td>3</td>\n",
       "      <td>1.0</td>\n",
       "      <td>2.0</td>\n",
       "      <td>7.0</td>\n",
       "      <td>15.0</td>\n",
       "      <td>0.0</td>\n",
       "      <td>0.0</td>\n",
       "    </tr>\n",
       "    <tr>\n",
       "      <th>12</th>\n",
       "      <td>0</td>\n",
       "      <td>1</td>\n",
       "      <td>1.0</td>\n",
       "      <td>1.0</td>\n",
       "      <td>0.0</td>\n",
       "      <td>1.0</td>\n",
       "      <td>0.0</td>\n",
       "      <td>1.0</td>\n",
       "      <td>1.0</td>\n",
       "      <td>0.0</td>\n",
       "      <td>...</td>\n",
       "      <td>1.0</td>\n",
       "      <td>2.0</td>\n",
       "      <td>1</td>\n",
       "      <td>2</td>\n",
       "      <td>1.0</td>\n",
       "      <td>0.0</td>\n",
       "      <td>NaN</td>\n",
       "      <td>NaN</td>\n",
       "      <td>2.0</td>\n",
       "      <td>2.0</td>\n",
       "    </tr>\n",
       "    <tr>\n",
       "      <th>13</th>\n",
       "      <td>0</td>\n",
       "      <td>0</td>\n",
       "      <td>1.0</td>\n",
       "      <td>1.0</td>\n",
       "      <td>0.0</td>\n",
       "      <td>1.0</td>\n",
       "      <td>0.0</td>\n",
       "      <td>1.0</td>\n",
       "      <td>1.0</td>\n",
       "      <td>1.0</td>\n",
       "      <td>...</td>\n",
       "      <td>1.0</td>\n",
       "      <td>1.0</td>\n",
       "      <td>1</td>\n",
       "      <td>2</td>\n",
       "      <td>1.0</td>\n",
       "      <td>2.0</td>\n",
       "      <td>3.0</td>\n",
       "      <td>9.0</td>\n",
       "      <td>0.0</td>\n",
       "      <td>0.0</td>\n",
       "    </tr>\n",
       "    <tr>\n",
       "      <th>14</th>\n",
       "      <td>0</td>\n",
       "      <td>0</td>\n",
       "      <td>3.0</td>\n",
       "      <td>1.0</td>\n",
       "      <td>0.0</td>\n",
       "      <td>1.0</td>\n",
       "      <td>0.0</td>\n",
       "      <td>1.0</td>\n",
       "      <td>1.0</td>\n",
       "      <td>0.0</td>\n",
       "      <td>...</td>\n",
       "      <td>1.0</td>\n",
       "      <td>2.0</td>\n",
       "      <td>3</td>\n",
       "      <td>2</td>\n",
       "      <td>1.0</td>\n",
       "      <td>0.0</td>\n",
       "      <td>NaN</td>\n",
       "      <td>NaN</td>\n",
       "      <td>0.0</td>\n",
       "      <td>1.0</td>\n",
       "    </tr>\n",
       "    <tr>\n",
       "      <th>15</th>\n",
       "      <td>0</td>\n",
       "      <td>0</td>\n",
       "      <td>1.0</td>\n",
       "      <td>1.0</td>\n",
       "      <td>0.0</td>\n",
       "      <td>1.0</td>\n",
       "      <td>0.0</td>\n",
       "      <td>0.0</td>\n",
       "      <td>0.0</td>\n",
       "      <td>0.0</td>\n",
       "      <td>...</td>\n",
       "      <td>1.0</td>\n",
       "      <td>1.0</td>\n",
       "      <td>1</td>\n",
       "      <td>2</td>\n",
       "      <td>1.0</td>\n",
       "      <td>3.0</td>\n",
       "      <td>2.0</td>\n",
       "      <td>3.0</td>\n",
       "      <td>2.0</td>\n",
       "      <td>0.0</td>\n",
       "    </tr>\n",
       "    <tr>\n",
       "      <th>16</th>\n",
       "      <td>1</td>\n",
       "      <td>1</td>\n",
       "      <td>2.0</td>\n",
       "      <td>1.0</td>\n",
       "      <td>0.0</td>\n",
       "      <td>1.0</td>\n",
       "      <td>0.0</td>\n",
       "      <td>1.0</td>\n",
       "      <td>1.0</td>\n",
       "      <td>1.0</td>\n",
       "      <td>...</td>\n",
       "      <td>NaN</td>\n",
       "      <td>2.0</td>\n",
       "      <td>5</td>\n",
       "      <td>1</td>\n",
       "      <td>0.0</td>\n",
       "      <td>0.0</td>\n",
       "      <td>NaN</td>\n",
       "      <td>NaN</td>\n",
       "      <td>3.0</td>\n",
       "      <td>3.0</td>\n",
       "    </tr>\n",
       "    <tr>\n",
       "      <th>17</th>\n",
       "      <td>0</td>\n",
       "      <td>0</td>\n",
       "      <td>1.0</td>\n",
       "      <td>1.0</td>\n",
       "      <td>0.0</td>\n",
       "      <td>0.0</td>\n",
       "      <td>0.0</td>\n",
       "      <td>1.0</td>\n",
       "      <td>1.0</td>\n",
       "      <td>0.0</td>\n",
       "      <td>...</td>\n",
       "      <td>1.0</td>\n",
       "      <td>1.0</td>\n",
       "      <td>1</td>\n",
       "      <td>2</td>\n",
       "      <td>1.0</td>\n",
       "      <td>0.0</td>\n",
       "      <td>10.0</td>\n",
       "      <td>1.0</td>\n",
       "      <td>3.0</td>\n",
       "      <td>2.0</td>\n",
       "    </tr>\n",
       "    <tr>\n",
       "      <th>18</th>\n",
       "      <td>0</td>\n",
       "      <td>0</td>\n",
       "      <td>1.0</td>\n",
       "      <td>2.0</td>\n",
       "      <td>0.0</td>\n",
       "      <td>1.0</td>\n",
       "      <td>0.0</td>\n",
       "      <td>1.0</td>\n",
       "      <td>1.0</td>\n",
       "      <td>0.0</td>\n",
       "      <td>...</td>\n",
       "      <td>1.0</td>\n",
       "      <td>1.0</td>\n",
       "      <td>5</td>\n",
       "      <td>3</td>\n",
       "      <td>2.0</td>\n",
       "      <td>0.0</td>\n",
       "      <td>16.0</td>\n",
       "      <td>5.0</td>\n",
       "      <td>3.0</td>\n",
       "      <td>0.0</td>\n",
       "    </tr>\n",
       "    <tr>\n",
       "      <th>19</th>\n",
       "      <td>0</td>\n",
       "      <td>0</td>\n",
       "      <td>2.0</td>\n",
       "      <td>2.0</td>\n",
       "      <td>0.0</td>\n",
       "      <td>0.0</td>\n",
       "      <td>0.0</td>\n",
       "      <td>1.0</td>\n",
       "      <td>1.0</td>\n",
       "      <td>0.0</td>\n",
       "      <td>...</td>\n",
       "      <td>1.0</td>\n",
       "      <td>2.0</td>\n",
       "      <td>1</td>\n",
       "      <td>2</td>\n",
       "      <td>1.0</td>\n",
       "      <td>0.0</td>\n",
       "      <td>NaN</td>\n",
       "      <td>NaN</td>\n",
       "      <td>0.0</td>\n",
       "      <td>1.0</td>\n",
       "    </tr>\n",
       "  </tbody>\n",
       "</table>\n",
       "<p>20 rows × 35 columns</p>\n",
       "</div>"
      ],
      "text/plain": [
       "    h1n1_vaccine  seasonal_vaccine  h1n1_concern  h1n1_knowledge  \\\n",
       "0              0                 0           1.0             0.0   \n",
       "1              0                 1           3.0             2.0   \n",
       "2              0                 0           1.0             1.0   \n",
       "3              0                 1           1.0             1.0   \n",
       "4              0                 0           2.0             1.0   \n",
       "5              0                 0           3.0             1.0   \n",
       "6              0                 0           0.0             0.0   \n",
       "7              1                 1           1.0             0.0   \n",
       "8              0                 0           0.0             2.0   \n",
       "9              0                 0           2.0             1.0   \n",
       "10             1                 1           2.0             1.0   \n",
       "11             1                 1           1.0             2.0   \n",
       "12             0                 1           1.0             1.0   \n",
       "13             0                 0           1.0             1.0   \n",
       "14             0                 0           3.0             1.0   \n",
       "15             0                 0           1.0             1.0   \n",
       "16             1                 1           2.0             1.0   \n",
       "17             0                 0           1.0             1.0   \n",
       "18             0                 0           1.0             2.0   \n",
       "19             0                 0           2.0             2.0   \n",
       "\n",
       "    behavioral_antiviral_meds  behavioral_avoidance  behavioral_face_mask  \\\n",
       "0                         0.0                   0.0                   0.0   \n",
       "1                         0.0                   1.0                   0.0   \n",
       "2                         0.0                   1.0                   0.0   \n",
       "3                         0.0                   1.0                   0.0   \n",
       "4                         0.0                   1.0                   0.0   \n",
       "5                         0.0                   1.0                   0.0   \n",
       "6                         0.0                   0.0                   0.0   \n",
       "7                         0.0                   1.0                   0.0   \n",
       "8                         0.0                   1.0                   0.0   \n",
       "9                         0.0                   1.0                   0.0   \n",
       "10                        0.0                   1.0                   0.0   \n",
       "11                        0.0                   1.0                   0.0   \n",
       "12                        0.0                   1.0                   0.0   \n",
       "13                        0.0                   1.0                   0.0   \n",
       "14                        0.0                   1.0                   0.0   \n",
       "15                        0.0                   1.0                   0.0   \n",
       "16                        0.0                   1.0                   0.0   \n",
       "17                        0.0                   0.0                   0.0   \n",
       "18                        0.0                   1.0                   0.0   \n",
       "19                        0.0                   0.0                   0.0   \n",
       "\n",
       "    behavioral_wash_hands  behavioral_touch_face  chronic_med_condition  ...  \\\n",
       "0                     0.0                    1.0                    0.0  ...   \n",
       "1                     1.0                    1.0                    0.0  ...   \n",
       "2                     0.0                    0.0                    1.0  ...   \n",
       "3                     1.0                    0.0                    1.0  ...   \n",
       "4                     1.0                    1.0                    0.0  ...   \n",
       "5                     1.0                    1.0                    0.0  ...   \n",
       "6                     0.0                    0.0                    0.0  ...   \n",
       "7                     1.0                    1.0                    1.0  ...   \n",
       "8                     1.0                    1.0                    0.0  ...   \n",
       "9                     0.0                    1.0                    1.0  ...   \n",
       "10                    1.0                    0.0                    1.0  ...   \n",
       "11                    1.0                    0.0                    0.0  ...   \n",
       "12                    1.0                    1.0                    0.0  ...   \n",
       "13                    1.0                    1.0                    1.0  ...   \n",
       "14                    1.0                    1.0                    0.0  ...   \n",
       "15                    0.0                    0.0                    0.0  ...   \n",
       "16                    1.0                    1.0                    1.0  ...   \n",
       "17                    1.0                    1.0                    0.0  ...   \n",
       "18                    1.0                    1.0                    0.0  ...   \n",
       "19                    1.0                    1.0                    0.0  ...   \n",
       "\n",
       "    rent_or_own  employment_status  hhs_geo_region  census_msa  \\\n",
       "0           1.0                2.0               5           3   \n",
       "1           2.0                1.0               4           2   \n",
       "2           1.0                1.0               3           2   \n",
       "3           2.0                2.0               9           1   \n",
       "4           1.0                1.0               3           2   \n",
       "5           1.0                1.0               8           1   \n",
       "6           1.0                1.0               3           2   \n",
       "7           1.0                1.0               4           3   \n",
       "8           1.0                1.0               4           2   \n",
       "9           1.0                2.0               3           2   \n",
       "10          2.0                1.0               1           2   \n",
       "11          1.0                1.0               5           3   \n",
       "12          1.0                2.0               1           2   \n",
       "13          1.0                1.0               1           2   \n",
       "14          1.0                2.0               3           2   \n",
       "15          1.0                1.0               1           2   \n",
       "16          NaN                2.0               5           1   \n",
       "17          1.0                1.0               1           2   \n",
       "18          1.0                1.0               5           3   \n",
       "19          1.0                2.0               1           2   \n",
       "\n",
       "    household_adults  household_children  employment_industry  \\\n",
       "0                0.0                 0.0                  NaN   \n",
       "1                0.0                 0.0                  4.0   \n",
       "2                2.0                 0.0                 10.0   \n",
       "3                0.0                 0.0                  NaN   \n",
       "4                1.0                 0.0                  2.0   \n",
       "5                2.0                 3.0                 12.0   \n",
       "6                0.0                 0.0                  7.0   \n",
       "7                2.0                 0.0                  4.0   \n",
       "8                1.0                 0.0                  7.0   \n",
       "9                0.0                 0.0                  NaN   \n",
       "10               2.0                 0.0                  7.0   \n",
       "11               1.0                 2.0                  7.0   \n",
       "12               1.0                 0.0                  NaN   \n",
       "13               1.0                 2.0                  3.0   \n",
       "14               1.0                 0.0                  NaN   \n",
       "15               1.0                 3.0                  2.0   \n",
       "16               0.0                 0.0                  NaN   \n",
       "17               1.0                 0.0                 10.0   \n",
       "18               2.0                 0.0                 16.0   \n",
       "19               1.0                 0.0                  NaN   \n",
       "\n",
       "    employment_occupation  reco_vaccines  behaviour_gather_home  \n",
       "0                     NaN            0.0                    1.0  \n",
       "1                     5.0            0.0                    1.0  \n",
       "2                     1.0            NaN                    0.0  \n",
       "3                     NaN            2.0                    2.0  \n",
       "4                     3.0            0.0                    2.0  \n",
       "5                    13.0            2.0                    0.0  \n",
       "6                     1.0            0.0                    0.0  \n",
       "7                     8.0            1.0                    0.0  \n",
       "8                    15.0            0.0                    3.0  \n",
       "9                     NaN            0.0                    2.0  \n",
       "10                    7.0            0.0                    2.0  \n",
       "11                   15.0            0.0                    0.0  \n",
       "12                    NaN            2.0                    2.0  \n",
       "13                    9.0            0.0                    0.0  \n",
       "14                    NaN            0.0                    1.0  \n",
       "15                    3.0            2.0                    0.0  \n",
       "16                    NaN            3.0                    3.0  \n",
       "17                    1.0            3.0                    2.0  \n",
       "18                    5.0            3.0                    0.0  \n",
       "19                    NaN            0.0                    1.0  \n",
       "\n",
       "[20 rows x 35 columns]"
      ]
     },
     "execution_count": 19,
     "metadata": {},
     "output_type": "execute_result"
    }
   ],
   "source": [
    "df_num.head(20)"
   ]
  },
  {
   "cell_type": "markdown",
   "id": "9b0cd2f1",
   "metadata": {},
   "source": [
    "### Removal of feature depending on target"
   ]
  },
  {
   "cell_type": "markdown",
   "id": "fe2c29b9",
   "metadata": {},
   "source": [
    "#### Making dataframe for the H1N1 vacc output (seasonal vacc included in features)"
   ]
  },
  {
   "cell_type": "markdown",
   "id": "2b83c96a",
   "metadata": {},
   "source": [
    "Dropping target variable:"
   ]
  },
  {
   "cell_type": "code",
   "execution_count": 20,
   "id": "979c9437",
   "metadata": {},
   "outputs": [],
   "source": [
    "X_h1n1 = df_num.drop(columns=['h1n1_vaccine'])"
   ]
  },
  {
   "cell_type": "markdown",
   "id": "c8fffe2a",
   "metadata": {},
   "source": [
    "Filling missing values with dummy values:"
   ]
  },
  {
   "cell_type": "code",
   "execution_count": 21,
   "id": "2ed0b928",
   "metadata": {},
   "outputs": [],
   "source": [
    "X_h1n1_cols = X_h1n1.columns"
   ]
  },
  {
   "cell_type": "code",
   "execution_count": 22,
   "id": "14f663f3",
   "metadata": {},
   "outputs": [],
   "source": [
    "imp_const = SimpleImputer(strategy='constant', fill_value=-999)"
   ]
  },
  {
   "cell_type": "code",
   "execution_count": 23,
   "id": "5a0ec6fa",
   "metadata": {},
   "outputs": [],
   "source": [
    "X_h1n1 = imp_const.fit_transform(X_h1n1)"
   ]
  },
  {
   "cell_type": "code",
   "execution_count": 24,
   "id": "5d61b9a2",
   "metadata": {},
   "outputs": [],
   "source": [
    "X_h1n1 = pd.DataFrame(X_h1n1, columns=X_h1n1_cols)"
   ]
  },
  {
   "cell_type": "markdown",
   "id": "5b071489",
   "metadata": {},
   "source": [
    "Feature engineering:  \n",
    "- apply the following code if H1N1 is the single target variable \n",
    "- we take out the feature that is related to seasonal flu/vaccine"
   ]
  },
  {
   "cell_type": "code",
   "execution_count": 25,
   "id": "81d88b81",
   "metadata": {},
   "outputs": [],
   "source": [
    "list_seas = ['opinion_seas_risk', 'opinion_seas_sick_from_vacc']\n",
    "\n",
    "X_h1n1.drop(list_seas, axis=1, inplace=True)"
   ]
  },
  {
   "cell_type": "markdown",
   "id": "c75a13e3",
   "metadata": {},
   "source": [
    "#### Making dataframe for the seasonal vacc output (H1N1 vacc included in features)"
   ]
  },
  {
   "cell_type": "markdown",
   "id": "1180ce67",
   "metadata": {},
   "source": [
    "Dropping target variable:"
   ]
  },
  {
   "cell_type": "code",
   "execution_count": 26,
   "id": "bae45569",
   "metadata": {},
   "outputs": [],
   "source": [
    "X_seas = df_num.drop(columns=['seasonal_vaccine'])"
   ]
  },
  {
   "cell_type": "markdown",
   "id": "baabe3a6",
   "metadata": {},
   "source": [
    "Filling missing values with dummy values:"
   ]
  },
  {
   "cell_type": "code",
   "execution_count": 27,
   "id": "09b68870",
   "metadata": {},
   "outputs": [],
   "source": [
    "X_seas_cols = X_seas.columns"
   ]
  },
  {
   "cell_type": "code",
   "execution_count": 28,
   "id": "68b2933b",
   "metadata": {},
   "outputs": [],
   "source": [
    "imp_const = SimpleImputer(strategy='constant', fill_value=-999)"
   ]
  },
  {
   "cell_type": "code",
   "execution_count": 29,
   "id": "6edef00f",
   "metadata": {},
   "outputs": [],
   "source": [
    "X_seas = imp_const.fit_transform(X_seas)"
   ]
  },
  {
   "cell_type": "code",
   "execution_count": 30,
   "id": "86b5883e",
   "metadata": {},
   "outputs": [],
   "source": [
    "X_seas = pd.DataFrame(X_seas, columns=X_seas_cols)"
   ]
  },
  {
   "cell_type": "markdown",
   "id": "0d8d3108",
   "metadata": {},
   "source": [
    "Feature engineering:\n",
    "- apply the following code if seasonal vaccine is the single target variable \n",
    "- we take out the feature that is related to H1N1 flu/vaccine"
   ]
  },
  {
   "cell_type": "code",
   "execution_count": 31,
   "id": "02dd8812",
   "metadata": {},
   "outputs": [],
   "source": [
    "list_h1n1 = ['opinion_h1n1_risk', 'opinion_h1n1_sick_from_vacc']\n",
    "\n",
    "X_seas.drop(list_h1n1, axis=1, inplace=True)"
   ]
  },
  {
   "cell_type": "markdown",
   "id": "fed24d25",
   "metadata": {},
   "source": [
    "# Prediction of H1N1 vaccination (seasonal vaccine in features)"
   ]
  },
  {
   "cell_type": "markdown",
   "id": "da6b5dcc",
   "metadata": {},
   "source": [
    "Setting up target variable:"
   ]
  },
  {
   "cell_type": "code",
   "execution_count": 32,
   "id": "b0e7ff7c",
   "metadata": {},
   "outputs": [
    {
     "data": {
      "text/plain": [
       "0        0\n",
       "1        0\n",
       "2        0\n",
       "3        0\n",
       "4        0\n",
       "        ..\n",
       "26702    0\n",
       "26703    0\n",
       "26704    0\n",
       "26705    0\n",
       "26706    0\n",
       "Name: h1n1_vaccine, Length: 26707, dtype: int64"
      ]
     },
     "execution_count": 32,
     "metadata": {},
     "output_type": "execute_result"
    }
   ],
   "source": [
    "y_h1n1 = df_num['h1n1_vaccine']\n",
    "#y_h1n1 = y_h1n1.to_numpy()\n",
    "y_h1n1"
   ]
  },
  {
   "cell_type": "markdown",
   "id": "6a33932b",
   "metadata": {},
   "source": [
    "Performing the test-train split:"
   ]
  },
  {
   "cell_type": "code",
   "execution_count": 33,
   "id": "373a893b",
   "metadata": {},
   "outputs": [],
   "source": [
    "X_h1n1_train, X_h1n1_test, y_h1n1_train, y_h1n1_test = train_test_split(X_h1n1, y_h1n1, stratify = y_h1n1, test_size=0.2, random_state=RSEED)"
   ]
  },
  {
   "cell_type": "code",
   "execution_count": 34,
   "id": "55e77841",
   "metadata": {},
   "outputs": [
    {
     "name": "stdout",
     "output_type": "stream",
     "text": [
      "X_h1n1_train shape: (21365, 32)\n",
      "X_h1n1_test shape: (5342, 32)\n",
      "y_h1n1_train: (21365,)\n",
      "y_h1n1_test: (5342,)\n"
     ]
    }
   ],
   "source": [
    "print('X_h1n1_train shape:', X_h1n1_train.shape)\n",
    "print('X_h1n1_test shape:', X_h1n1_test.shape)\n",
    "print('y_h1n1_train:', y_h1n1_train.shape)\n",
    "print('y_h1n1_test:', y_h1n1_test.shape)"
   ]
  },
  {
   "cell_type": "markdown",
   "id": "e3ecaaba",
   "metadata": {},
   "source": [
    "## Downsampling (Undersampling of the majority class (h1n1_vaccine == 0))"
   ]
  },
  {
   "cell_type": "markdown",
   "id": "8acb5337",
   "metadata": {},
   "source": [
    "https://towardsdatascience.com/methods-for-dealing-with-imbalanced-data-5b761be45a18"
   ]
  },
  {
   "cell_type": "markdown",
   "id": "2a58b3ea",
   "metadata": {},
   "source": [
    "**Creating concatenated training dataframe and separating into minority and majority class (for data balancing)**"
   ]
  },
  {
   "cell_type": "code",
   "execution_count": 35,
   "id": "3222cc50",
   "metadata": {},
   "outputs": [],
   "source": [
    "# concatenating our train data back together\n",
    "\n",
    "concat_train_df = pd.concat([X_h1n1_train, y_h1n1_train], axis = 1)\n",
    "\n",
    "# separating into minority and majority classes\n",
    "\n",
    "# majority class\n",
    "no_h1n1_vacc = concat_train_df[concat_train_df.h1n1_vaccine==0]\n",
    "\n",
    "# minority class\n",
    "yes_h1n1_vacc = concat_train_df[concat_train_df.h1n1_vaccine==1]"
   ]
  },
  {
   "cell_type": "markdown",
   "id": "09a8b892",
   "metadata": {},
   "source": [
    "**Undersampling of majority class (downsampling)**"
   ]
  },
  {
   "cell_type": "code",
   "execution_count": 36,
   "id": "952392a1",
   "metadata": {},
   "outputs": [],
   "source": [
    "# downsample minority class\n",
    "no_h1n1_vacc_downsampled = resample(no_h1n1_vacc,\n",
    "                                   replace = False,\n",
    "                                   n_samples = len(yes_h1n1_vacc),\n",
    "                                   random_state = RSEED)"
   ]
  },
  {
   "cell_type": "code",
   "execution_count": 37,
   "id": "8976dd28",
   "metadata": {},
   "outputs": [],
   "source": [
    "# combine minority and downsampled majority\n",
    "\n",
    "downsampled = pd.concat([no_h1n1_vacc_downsampled, yes_h1n1_vacc])"
   ]
  },
  {
   "cell_type": "code",
   "execution_count": 38,
   "id": "8cd883a1",
   "metadata": {},
   "outputs": [
    {
     "data": {
      "text/plain": [
       "0    4539\n",
       "1    4539\n",
       "Name: h1n1_vaccine, dtype: int64"
      ]
     },
     "execution_count": 38,
     "metadata": {},
     "output_type": "execute_result"
    }
   ],
   "source": [
    "# checking new class counts\n",
    "downsampled.h1n1_vaccine.value_counts()"
   ]
  },
  {
   "cell_type": "code",
   "execution_count": 39,
   "id": "d9e595af",
   "metadata": {},
   "outputs": [],
   "source": [
    "# relabelling the downsampled data as train dataset\n",
    "\n",
    "y_h1n1_downsamp_train = downsampled[['h1n1_vaccine']]\n",
    "\n",
    "X_downsamp_train =downsampled.drop(['h1n1_vaccine'], axis = 1)"
   ]
  },
  {
   "cell_type": "markdown",
   "id": "4c26d31b",
   "metadata": {},
   "source": [
    "Making the predictor varaible into a flattened array:"
   ]
  },
  {
   "cell_type": "code",
   "execution_count": 40,
   "id": "2f8cd4cc",
   "metadata": {},
   "outputs": [],
   "source": [
    "y_h1n1_downsamp_train = y_h1n1_downsamp_train.to_numpy()\n",
    "y_h1n1_downsamp_train = y_h1n1_downsamp_train.ravel()"
   ]
  },
  {
   "cell_type": "code",
   "execution_count": 41,
   "id": "21bd3125",
   "metadata": {},
   "outputs": [
    {
     "data": {
      "text/plain": [
       "array([0, 0, 0, ..., 1, 1, 1])"
      ]
     },
     "execution_count": 41,
     "metadata": {},
     "output_type": "execute_result"
    }
   ],
   "source": [
    "y_h1n1_downsamp_train"
   ]
  },
  {
   "cell_type": "code",
   "execution_count": 42,
   "id": "d086aa80",
   "metadata": {},
   "outputs": [],
   "source": [
    "y_h1n1_test = y_h1n1_test.to_numpy()"
   ]
  },
  {
   "cell_type": "code",
   "execution_count": 43,
   "id": "345d910f",
   "metadata": {},
   "outputs": [
    {
     "data": {
      "text/plain": [
       "array([1, 1, 0, ..., 1, 0, 0])"
      ]
     },
     "execution_count": 43,
     "metadata": {},
     "output_type": "execute_result"
    }
   ],
   "source": [
    "y_h1n1_test"
   ]
  },
  {
   "cell_type": "markdown",
   "id": "47d2403d",
   "metadata": {},
   "source": [
    "## Modelling and prediction (RFC only)"
   ]
  },
  {
   "cell_type": "markdown",
   "id": "7b05bf97",
   "metadata": {},
   "source": [
    "Instantiate the model:"
   ]
  },
  {
   "cell_type": "code",
   "execution_count": 44,
   "id": "176d7eca",
   "metadata": {},
   "outputs": [],
   "source": [
    "rand_forst= RandomForestClassifier()"
   ]
  },
  {
   "cell_type": "markdown",
   "id": "90916865",
   "metadata": {},
   "source": [
    "Fitting the model:"
   ]
  },
  {
   "cell_type": "code",
   "execution_count": 45,
   "id": "c29777a7",
   "metadata": {},
   "outputs": [],
   "source": [
    "h1n1_rand_forst_model = rand_forst.fit(X_downsamp_train, y_h1n1_downsamp_train)"
   ]
  },
  {
   "cell_type": "markdown",
   "id": "f4796c19",
   "metadata": {},
   "source": [
    "Making predictions:"
   ]
  },
  {
   "cell_type": "code",
   "execution_count": 46,
   "id": "089a0ac0",
   "metadata": {},
   "outputs": [],
   "source": [
    "rand_forst_trainpreds = h1n1_rand_forst_model.predict(X_h1n1_train)\n",
    "rand_forst_testpreds = h1n1_rand_forst_model.predict(X_h1n1_test)"
   ]
  },
  {
   "cell_type": "markdown",
   "id": "26097298",
   "metadata": {},
   "source": [
    "## Model evaluation (RFC only)"
   ]
  },
  {
   "cell_type": "markdown",
   "id": "a68a262a",
   "metadata": {},
   "source": [
    "Train data"
   ]
  },
  {
   "cell_type": "code",
   "execution_count": 47,
   "id": "33e5c311",
   "metadata": {},
   "outputs": [
    {
     "name": "stdout",
     "output_type": "stream",
     "text": [
      "Accuracy: 0.90\n",
      "Recall: 1.00\n",
      "Precision: 0.67\n",
      "F1: 0.80\n",
      "ROC: 0.93\n"
     ]
    }
   ],
   "source": [
    "# Random Forest--Train data evaluation Metrics\n",
    "#check if these metrics are changing compared to previous results\n",
    "h1n1_rand_forst_train_acc = accuracy_score(y_h1n1_train, rand_forst_trainpreds)\n",
    "h1n1_rand_forst_train_recall = recall_score(y_h1n1_train, rand_forst_trainpreds)\n",
    "h1n1_rand_forst_train_precision = precision_score(y_h1n1_train, rand_forst_trainpreds)\n",
    "h1n1_rand_forst_train_f1 = f1_score(y_h1n1_train, rand_forst_trainpreds)\n",
    "h1n1_rand_forst_train_roc = roc_auc_score(y_h1n1_train, rand_forst_trainpreds)\n",
    "\n",
    "print(\"Accuracy: {:.2f}\".format(h1n1_rand_forst_train_acc))\n",
    "print(\"Recall: {:.2f}\".format(h1n1_rand_forst_train_recall))\n",
    "print(\"Precision: {:.2f}\".format(h1n1_rand_forst_train_precision))\n",
    "print(\"F1: {:.2f}\".format(h1n1_rand_forst_train_f1))\n",
    "print(\"ROC: {:.2f}\".format(h1n1_rand_forst_train_roc))"
   ]
  },
  {
   "cell_type": "markdown",
   "id": "4af6ec21",
   "metadata": {},
   "source": [
    "Test data"
   ]
  },
  {
   "cell_type": "code",
   "execution_count": 48,
   "id": "d1d0f467",
   "metadata": {},
   "outputs": [
    {
     "name": "stdout",
     "output_type": "stream",
     "text": [
      "Accuracy: 0.81\n",
      "Recall: 0.78\n",
      "Precision: 0.53\n",
      "F1: 0.63\n",
      "ROC: 0.80\n"
     ]
    }
   ],
   "source": [
    "# Random Forest--Test data evaluation Metrics\n",
    "#check if these metrics are changing compared to previous results\n",
    "h1n1_rand_forst_test_acc = accuracy_score(y_h1n1_test, rand_forst_testpreds)\n",
    "h1n1_rand_forst_test_recall = recall_score(y_h1n1_test, rand_forst_testpreds)\n",
    "h1n1_rand_forst_test_precision = precision_score(y_h1n1_test, rand_forst_testpreds)\n",
    "h1n1_rand_forst_test_f1 = f1_score(y_h1n1_test, rand_forst_testpreds)\n",
    "h1n1_rand_forst_test_roc = roc_auc_score(y_h1n1_test, rand_forst_testpreds)\n",
    "\n",
    "print(\"Accuracy: {:.2f}\".format(h1n1_rand_forst_test_acc))\n",
    "print(\"Recall: {:.2f}\".format(h1n1_rand_forst_test_recall))\n",
    "print(\"Precision: {:.2f}\".format(h1n1_rand_forst_test_precision))\n",
    "print(\"F1: {:.2f}\".format(h1n1_rand_forst_test_f1))\n",
    "print(\"ROC: {:.2f}\".format(h1n1_rand_forst_test_roc))"
   ]
  },
  {
   "cell_type": "markdown",
   "id": "8f4fa0d7",
   "metadata": {},
   "source": [
    "## Feature importance for H1N1 vaccine (permutation importance with ELI5)"
   ]
  },
  {
   "cell_type": "code",
   "execution_count": 49,
   "id": "5f626e21",
   "metadata": {},
   "outputs": [
    {
     "data": {
      "text/html": [
       "\n",
       "    <style>\n",
       "    table.eli5-weights tr:hover {\n",
       "        filter: brightness(85%);\n",
       "    }\n",
       "</style>\n",
       "\n",
       "\n",
       "\n",
       "    \n",
       "\n",
       "    \n",
       "\n",
       "    \n",
       "\n",
       "    \n",
       "\n",
       "    \n",
       "\n",
       "    \n",
       "\n",
       "\n",
       "    \n",
       "\n",
       "    \n",
       "\n",
       "    \n",
       "\n",
       "    \n",
       "\n",
       "    \n",
       "\n",
       "    \n",
       "\n",
       "\n",
       "    \n",
       "\n",
       "    \n",
       "\n",
       "    \n",
       "\n",
       "    \n",
       "\n",
       "    \n",
       "        <table class=\"eli5-weights eli5-feature-importances\" style=\"border-collapse: collapse; border: none; margin-top: 0em; table-layout: auto;\">\n",
       "    <thead>\n",
       "    <tr style=\"border: none;\">\n",
       "        <th style=\"padding: 0 1em 0 0.5em; text-align: right; border: none;\">Weight</th>\n",
       "        <th style=\"padding: 0 0.5em 0 0.5em; text-align: left; border: none;\">Feature</th>\n",
       "    </tr>\n",
       "    </thead>\n",
       "    <tbody>\n",
       "    \n",
       "        <tr style=\"background-color: hsl(120, 100.00%, 80.00%); border: none;\">\n",
       "            <td style=\"padding: 0 1em 0 0.5em; text-align: right; border: none;\">\n",
       "                0.0666\n",
       "                \n",
       "                    &plusmn; 0.0050\n",
       "                \n",
       "            </td>\n",
       "            <td style=\"padding: 0 0.5em 0 0.5em; text-align: left; border: none;\">\n",
       "                seasonal_vaccine\n",
       "            </td>\n",
       "        </tr>\n",
       "    \n",
       "        <tr style=\"background-color: hsl(120, 100.00%, 85.30%); border: none;\">\n",
       "            <td style=\"padding: 0 1em 0 0.5em; text-align: right; border: none;\">\n",
       "                0.0429\n",
       "                \n",
       "                    &plusmn; 0.0065\n",
       "                \n",
       "            </td>\n",
       "            <td style=\"padding: 0 0.5em 0 0.5em; text-align: left; border: none;\">\n",
       "                reco_vaccines\n",
       "            </td>\n",
       "        </tr>\n",
       "    \n",
       "        <tr style=\"background-color: hsl(120, 100.00%, 90.10%); border: none;\">\n",
       "            <td style=\"padding: 0 1em 0 0.5em; text-align: right; border: none;\">\n",
       "                0.0244\n",
       "                \n",
       "                    &plusmn; 0.0045\n",
       "                \n",
       "            </td>\n",
       "            <td style=\"padding: 0 0.5em 0 0.5em; text-align: left; border: none;\">\n",
       "                health_insurance\n",
       "            </td>\n",
       "        </tr>\n",
       "    \n",
       "        <tr style=\"background-color: hsl(120, 100.00%, 92.19%); border: none;\">\n",
       "            <td style=\"padding: 0 1em 0 0.5em; text-align: right; border: none;\">\n",
       "                0.0174\n",
       "                \n",
       "                    &plusmn; 0.0047\n",
       "                \n",
       "            </td>\n",
       "            <td style=\"padding: 0 0.5em 0 0.5em; text-align: left; border: none;\">\n",
       "                opinion_h1n1_risk\n",
       "            </td>\n",
       "        </tr>\n",
       "    \n",
       "        <tr style=\"background-color: hsl(120, 100.00%, 97.01%); border: none;\">\n",
       "            <td style=\"padding: 0 1em 0 0.5em; text-align: right; border: none;\">\n",
       "                0.0044\n",
       "                \n",
       "                    &plusmn; 0.0037\n",
       "                \n",
       "            </td>\n",
       "            <td style=\"padding: 0 0.5em 0 0.5em; text-align: left; border: none;\">\n",
       "                opinion_h1n1_vacc_effective\n",
       "            </td>\n",
       "        </tr>\n",
       "    \n",
       "        <tr style=\"background-color: hsl(120, 100.00%, 97.66%); border: none;\">\n",
       "            <td style=\"padding: 0 1em 0 0.5em; text-align: right; border: none;\">\n",
       "                0.0031\n",
       "                \n",
       "                    &plusmn; 0.0030\n",
       "                \n",
       "            </td>\n",
       "            <td style=\"padding: 0 0.5em 0 0.5em; text-align: left; border: none;\">\n",
       "                opinion_h1n1_sick_from_vacc\n",
       "            </td>\n",
       "        </tr>\n",
       "    \n",
       "        <tr style=\"background-color: hsl(120, 100.00%, 98.47%); border: none;\">\n",
       "            <td style=\"padding: 0 1em 0 0.5em; text-align: right; border: none;\">\n",
       "                0.0017\n",
       "                \n",
       "                    &plusmn; 0.0019\n",
       "                \n",
       "            </td>\n",
       "            <td style=\"padding: 0 0.5em 0 0.5em; text-align: left; border: none;\">\n",
       "                behavioral_wash_hands\n",
       "            </td>\n",
       "        </tr>\n",
       "    \n",
       "        <tr style=\"background-color: hsl(120, 100.00%, 98.52%); border: none;\">\n",
       "            <td style=\"padding: 0 1em 0 0.5em; text-align: right; border: none;\">\n",
       "                0.0016\n",
       "                \n",
       "                    &plusmn; 0.0014\n",
       "                \n",
       "            </td>\n",
       "            <td style=\"padding: 0 0.5em 0 0.5em; text-align: left; border: none;\">\n",
       "                behavioral_avoidance\n",
       "            </td>\n",
       "        </tr>\n",
       "    \n",
       "        <tr style=\"background-color: hsl(120, 100.00%, 98.75%); border: none;\">\n",
       "            <td style=\"padding: 0 1em 0 0.5em; text-align: right; border: none;\">\n",
       "                0.0013\n",
       "                \n",
       "                    &plusmn; 0.0023\n",
       "                \n",
       "            </td>\n",
       "            <td style=\"padding: 0 0.5em 0 0.5em; text-align: left; border: none;\">\n",
       "                age_group\n",
       "            </td>\n",
       "        </tr>\n",
       "    \n",
       "        <tr style=\"background-color: hsl(120, 100.00%, 98.80%); border: none;\">\n",
       "            <td style=\"padding: 0 1em 0 0.5em; text-align: right; border: none;\">\n",
       "                0.0012\n",
       "                \n",
       "                    &plusmn; 0.0019\n",
       "                \n",
       "            </td>\n",
       "            <td style=\"padding: 0 0.5em 0 0.5em; text-align: left; border: none;\">\n",
       "                h1n1_concern\n",
       "            </td>\n",
       "        </tr>\n",
       "    \n",
       "        <tr style=\"background-color: hsl(120, 100.00%, 98.83%); border: none;\">\n",
       "            <td style=\"padding: 0 1em 0 0.5em; text-align: right; border: none;\">\n",
       "                0.0012\n",
       "                \n",
       "                    &plusmn; 0.0042\n",
       "                \n",
       "            </td>\n",
       "            <td style=\"padding: 0 0.5em 0 0.5em; text-align: left; border: none;\">\n",
       "                opinion_seas_vacc_effective\n",
       "            </td>\n",
       "        </tr>\n",
       "    \n",
       "        <tr style=\"background-color: hsl(120, 100.00%, 99.23%); border: none;\">\n",
       "            <td style=\"padding: 0 1em 0 0.5em; text-align: right; border: none;\">\n",
       "                0.0006\n",
       "                \n",
       "                    &plusmn; 0.0023\n",
       "                \n",
       "            </td>\n",
       "            <td style=\"padding: 0 0.5em 0 0.5em; text-align: left; border: none;\">\n",
       "                sex\n",
       "            </td>\n",
       "        </tr>\n",
       "    \n",
       "        <tr style=\"background-color: hsl(120, 100.00%, 99.26%); border: none;\">\n",
       "            <td style=\"padding: 0 1em 0 0.5em; text-align: right; border: none;\">\n",
       "                0.0006\n",
       "                \n",
       "                    &plusmn; 0.0018\n",
       "                \n",
       "            </td>\n",
       "            <td style=\"padding: 0 0.5em 0 0.5em; text-align: left; border: none;\">\n",
       "                behaviour_gather_home\n",
       "            </td>\n",
       "        </tr>\n",
       "    \n",
       "        <tr style=\"background-color: hsl(120, 100.00%, 99.77%); border: none;\">\n",
       "            <td style=\"padding: 0 1em 0 0.5em; text-align: right; border: none;\">\n",
       "                0.0001\n",
       "                \n",
       "                    &plusmn; 0.0019\n",
       "                \n",
       "            </td>\n",
       "            <td style=\"padding: 0 0.5em 0 0.5em; text-align: left; border: none;\">\n",
       "                income_poverty\n",
       "            </td>\n",
       "        </tr>\n",
       "    \n",
       "        <tr style=\"background-color: hsl(0, 100.00%, 99.63%); border: none;\">\n",
       "            <td style=\"padding: 0 1em 0 0.5em; text-align: right; border: none;\">\n",
       "                -0.0002\n",
       "                \n",
       "                    &plusmn; 0.0011\n",
       "                \n",
       "            </td>\n",
       "            <td style=\"padding: 0 0.5em 0 0.5em; text-align: left; border: none;\">\n",
       "                child_under_6_months\n",
       "            </td>\n",
       "        </tr>\n",
       "    \n",
       "        <tr style=\"background-color: hsl(0, 100.00%, 99.47%); border: none;\">\n",
       "            <td style=\"padding: 0 1em 0 0.5em; text-align: right; border: none;\">\n",
       "                -0.0004\n",
       "                \n",
       "                    &plusmn; 0.0014\n",
       "                \n",
       "            </td>\n",
       "            <td style=\"padding: 0 0.5em 0 0.5em; text-align: left; border: none;\">\n",
       "                marital_status\n",
       "            </td>\n",
       "        </tr>\n",
       "    \n",
       "        <tr style=\"background-color: hsl(0, 100.00%, 99.43%); border: none;\">\n",
       "            <td style=\"padding: 0 1em 0 0.5em; text-align: right; border: none;\">\n",
       "                -0.0004\n",
       "                \n",
       "                    &plusmn; 0.0015\n",
       "                \n",
       "            </td>\n",
       "            <td style=\"padding: 0 0.5em 0 0.5em; text-align: left; border: none;\">\n",
       "                employment_industry\n",
       "            </td>\n",
       "        </tr>\n",
       "    \n",
       "        <tr style=\"background-color: hsl(0, 100.00%, 99.36%); border: none;\">\n",
       "            <td style=\"padding: 0 1em 0 0.5em; text-align: right; border: none;\">\n",
       "                -0.0005\n",
       "                \n",
       "                    &plusmn; 0.0026\n",
       "                \n",
       "            </td>\n",
       "            <td style=\"padding: 0 0.5em 0 0.5em; text-align: left; border: none;\">\n",
       "                h1n1_knowledge\n",
       "            </td>\n",
       "        </tr>\n",
       "    \n",
       "        <tr style=\"background-color: hsl(0, 100.00%, 99.29%); border: none;\">\n",
       "            <td style=\"padding: 0 1em 0 0.5em; text-align: right; border: none;\">\n",
       "                -0.0006\n",
       "                \n",
       "                    &plusmn; 0.0007\n",
       "                \n",
       "            </td>\n",
       "            <td style=\"padding: 0 0.5em 0 0.5em; text-align: left; border: none;\">\n",
       "                behavioral_antiviral_meds\n",
       "            </td>\n",
       "        </tr>\n",
       "    \n",
       "        <tr style=\"background-color: hsl(0, 100.00%, 99.26%); border: none;\">\n",
       "            <td style=\"padding: 0 1em 0 0.5em; text-align: right; border: none;\">\n",
       "                -0.0006\n",
       "                \n",
       "                    &plusmn; 0.0026\n",
       "                \n",
       "            </td>\n",
       "            <td style=\"padding: 0 0.5em 0 0.5em; text-align: left; border: none;\">\n",
       "                hhs_geo_region\n",
       "            </td>\n",
       "        </tr>\n",
       "    \n",
       "        <tr style=\"background-color: hsl(0, 100.00%, 99.17%); border: none;\">\n",
       "            <td style=\"padding: 0 1em 0 0.5em; text-align: right; border: none;\">\n",
       "                -0.0007\n",
       "                \n",
       "                    &plusmn; 0.0017\n",
       "                \n",
       "            </td>\n",
       "            <td style=\"padding: 0 0.5em 0 0.5em; text-align: left; border: none;\">\n",
       "                behavioral_touch_face\n",
       "            </td>\n",
       "        </tr>\n",
       "    \n",
       "        <tr style=\"background-color: hsl(0, 100.00%, 99.05%); border: none;\">\n",
       "            <td style=\"padding: 0 1em 0 0.5em; text-align: right; border: none;\">\n",
       "                -0.0009\n",
       "                \n",
       "                    &plusmn; 0.0022\n",
       "                \n",
       "            </td>\n",
       "            <td style=\"padding: 0 0.5em 0 0.5em; text-align: left; border: none;\">\n",
       "                household_adults\n",
       "            </td>\n",
       "        </tr>\n",
       "    \n",
       "        <tr style=\"background-color: hsl(0, 100.00%, 99.02%); border: none;\">\n",
       "            <td style=\"padding: 0 1em 0 0.5em; text-align: right; border: none;\">\n",
       "                -0.0009\n",
       "                \n",
       "                    &plusmn; 0.0039\n",
       "                \n",
       "            </td>\n",
       "            <td style=\"padding: 0 0.5em 0 0.5em; text-align: left; border: none;\">\n",
       "                employment_occupation\n",
       "            </td>\n",
       "        </tr>\n",
       "    \n",
       "        <tr style=\"background-color: hsl(0, 100.00%, 98.93%); border: none;\">\n",
       "            <td style=\"padding: 0 1em 0 0.5em; text-align: right; border: none;\">\n",
       "                -0.0010\n",
       "                \n",
       "                    &plusmn; 0.0028\n",
       "                \n",
       "            </td>\n",
       "            <td style=\"padding: 0 0.5em 0 0.5em; text-align: left; border: none;\">\n",
       "                census_msa\n",
       "            </td>\n",
       "        </tr>\n",
       "    \n",
       "        <tr style=\"background-color: hsl(0, 100.00%, 98.93%); border: none;\">\n",
       "            <td style=\"padding: 0 1em 0 0.5em; text-align: right; border: none;\">\n",
       "                -0.0010\n",
       "                \n",
       "                    &plusmn; 0.0021\n",
       "                \n",
       "            </td>\n",
       "            <td style=\"padding: 0 0.5em 0 0.5em; text-align: left; border: none;\">\n",
       "                race\n",
       "            </td>\n",
       "        </tr>\n",
       "    \n",
       "        <tr style=\"background-color: hsl(0, 100.00%, 98.88%); border: none;\">\n",
       "            <td style=\"padding: 0 1em 0 0.5em; text-align: right; border: none;\">\n",
       "                -0.0011\n",
       "                \n",
       "                    &plusmn; 0.0032\n",
       "                \n",
       "            </td>\n",
       "            <td style=\"padding: 0 0.5em 0 0.5em; text-align: left; border: none;\">\n",
       "                household_children\n",
       "            </td>\n",
       "        </tr>\n",
       "    \n",
       "        <tr style=\"background-color: hsl(0, 100.00%, 98.85%); border: none;\">\n",
       "            <td style=\"padding: 0 1em 0 0.5em; text-align: right; border: none;\">\n",
       "                -0.0011\n",
       "                \n",
       "                    &plusmn; 0.0009\n",
       "                \n",
       "            </td>\n",
       "            <td style=\"padding: 0 0.5em 0 0.5em; text-align: left; border: none;\">\n",
       "                behavioral_face_mask\n",
       "            </td>\n",
       "        </tr>\n",
       "    \n",
       "        <tr style=\"background-color: hsl(0, 100.00%, 98.67%); border: none;\">\n",
       "            <td style=\"padding: 0 1em 0 0.5em; text-align: right; border: none;\">\n",
       "                -0.0014\n",
       "                \n",
       "                    &plusmn; 0.0014\n",
       "                \n",
       "            </td>\n",
       "            <td style=\"padding: 0 0.5em 0 0.5em; text-align: left; border: none;\">\n",
       "                rent_or_own\n",
       "            </td>\n",
       "        </tr>\n",
       "    \n",
       "        <tr style=\"background-color: hsl(0, 100.00%, 98.60%); border: none;\">\n",
       "            <td style=\"padding: 0 1em 0 0.5em; text-align: right; border: none;\">\n",
       "                -0.0015\n",
       "                \n",
       "                    &plusmn; 0.0016\n",
       "                \n",
       "            </td>\n",
       "            <td style=\"padding: 0 0.5em 0 0.5em; text-align: left; border: none;\">\n",
       "                employment_status\n",
       "            </td>\n",
       "        </tr>\n",
       "    \n",
       "        <tr style=\"background-color: hsl(0, 100.00%, 97.80%); border: none;\">\n",
       "            <td style=\"padding: 0 1em 0 0.5em; text-align: right; border: none;\">\n",
       "                -0.0028\n",
       "                \n",
       "                    &plusmn; 0.0033\n",
       "                \n",
       "            </td>\n",
       "            <td style=\"padding: 0 0.5em 0 0.5em; text-align: left; border: none;\">\n",
       "                chronic_med_condition\n",
       "            </td>\n",
       "        </tr>\n",
       "    \n",
       "        <tr style=\"background-color: hsl(0, 100.00%, 97.78%); border: none;\">\n",
       "            <td style=\"padding: 0 1em 0 0.5em; text-align: right; border: none;\">\n",
       "                -0.0029\n",
       "                \n",
       "                    &plusmn; 0.0033\n",
       "                \n",
       "            </td>\n",
       "            <td style=\"padding: 0 0.5em 0 0.5em; text-align: left; border: none;\">\n",
       "                health_worker\n",
       "            </td>\n",
       "        </tr>\n",
       "    \n",
       "        <tr style=\"background-color: hsl(0, 100.00%, 97.66%); border: none;\">\n",
       "            <td style=\"padding: 0 1em 0 0.5em; text-align: right; border: none;\">\n",
       "                -0.0031\n",
       "                \n",
       "                    &plusmn; 0.0025\n",
       "                \n",
       "            </td>\n",
       "            <td style=\"padding: 0 0.5em 0 0.5em; text-align: left; border: none;\">\n",
       "                education\n",
       "            </td>\n",
       "        </tr>\n",
       "    \n",
       "    \n",
       "    </tbody>\n",
       "</table>\n",
       "    \n",
       "\n",
       "    \n",
       "\n",
       "\n",
       "    \n",
       "\n",
       "    \n",
       "\n",
       "    \n",
       "\n",
       "    \n",
       "\n",
       "    \n",
       "\n",
       "    \n",
       "\n",
       "\n",
       "\n"
      ],
      "text/plain": [
       "<IPython.core.display.HTML object>"
      ]
     },
     "execution_count": 49,
     "metadata": {},
     "output_type": "execute_result"
    }
   ],
   "source": [
    "perm = PermutationImportance(h1n1_rand_forst_model, random_state=RSEED).fit(X_h1n1_test, y_h1n1_test)\n",
    "eli5.show_weights(perm, top=None, feature_names = X_h1n1_test.columns.tolist())"
   ]
  },
  {
   "cell_type": "markdown",
   "id": "94e7d8ff",
   "metadata": {},
   "source": [
    "## Error evaluation of model"
   ]
  },
  {
   "cell_type": "markdown",
   "id": "482afbe2",
   "metadata": {},
   "source": [
    "**Confusion matrix**"
   ]
  },
  {
   "cell_type": "code",
   "execution_count": 50,
   "id": "ef0945cf",
   "metadata": {},
   "outputs": [
    {
     "data": {
      "image/png": "[encoded data removed]",
      "text/plain": [
       "<Figure size 432x288 with 2 Axes>"
      ]
     },
     "metadata": {
      "needs_background": "light"
     },
     "output_type": "display_data"
    }
   ],
   "source": [
    "cm = confusion_matrix(y_h1n1_test, rand_forst_testpreds)\n",
    "sns.heatmap(cm, cmap='Blues', annot=True, fmt='d', linewidths=.5, annot_kws={\"size\":25})\n",
    "plt.title(\"H1N1 flu vaccination prediction\", fontsize=20, y=1.1)\n",
    "plt.ylabel('Actual vaccination status', fontsize=16)\n",
    "plt.xlabel('Predicted vaccination status', fontsize=16)\n",
    "labels = ['Not vaccinated', 'Vaccinated']\n",
    "ax = plt.gca()\n",
    "ax.set_xticklabels(labels, fontsize=14)\n",
    "ax.set_yticklabels(labels, va=\"center\", fontsize=14)\n",
    "ax.yaxis.labelpad = 15\n",
    "ax.xaxis.labelpad = 15"
   ]
  },
  {
   "cell_type": "markdown",
   "id": "0b949dbc",
   "metadata": {},
   "source": [
    "**ROC curve**"
   ]
  },
  {
   "cell_type": "code",
   "execution_count": 51,
   "id": "41c0fcfd",
   "metadata": {},
   "outputs": [
    {
     "data": {
      "image/png": "[encoded data removed]",
      "text/plain": [
       "<Figure size 432x288 with 1 Axes>"
      ]
     },
     "metadata": {
      "needs_background": "light"
     },
     "output_type": "display_data"
    },
    {
     "name": "stdout",
     "output_type": "stream",
     "text": [
      "AUC Random Forest:0.797\n"
     ]
    }
   ],
   "source": [
    "fpr_rand_forst, tpr_rand_forst, thresholds_rand_forst = metrics.roc_curve(y_h1n1_test, rand_forst_testpreds)\n",
    "\n",
    "plt.plot(fpr_rand_forst, tpr_rand_forst,'r-',label = 'Random Forest')\n",
    "plt.plot([0,1],[0,1],'k-',label='random')\n",
    "plt.plot([0,0,1,1],[0,1,1,1],'g-',label='perfect')\n",
    "plt.legend()\n",
    "plt.xlabel('False Positive Rate')\n",
    "plt.ylabel('True Positive Rate')\n",
    "plt.show()\n",
    "\n",
    "auc_rand_forst = roc_auc_score(y_h1n1_test, rand_forst_testpreds)\n",
    "print('AUC Random Forest:%.3f'% auc_rand_forst)"
   ]
  },
  {
   "cell_type": "markdown",
   "id": "d17b8dc7",
   "metadata": {},
   "source": [
    "# Prediction of seasonal flu vaccination (H1N1 vaccine in features)"
   ]
  },
  {
   "cell_type": "markdown",
   "id": "fe059977",
   "metadata": {},
   "source": [
    "Setting up target variable:"
   ]
  },
  {
   "cell_type": "code",
   "execution_count": 52,
   "id": "bc4a2b37",
   "metadata": {},
   "outputs": [
    {
     "data": {
      "text/plain": [
       "array([0, 1, 0, ..., 1, 0, 0])"
      ]
     },
     "execution_count": 52,
     "metadata": {},
     "output_type": "execute_result"
    }
   ],
   "source": [
    "y_seas = df_num['seasonal_vaccine']\n",
    "y_seas = y_seas.to_numpy()\n",
    "y_seas"
   ]
  },
  {
   "cell_type": "markdown",
   "id": "2a16e165",
   "metadata": {},
   "source": [
    "Performing the test-train split:"
   ]
  },
  {
   "cell_type": "code",
   "execution_count": 53,
   "id": "a305c8ae",
   "metadata": {},
   "outputs": [],
   "source": [
    "X_seas_train, X_seas_test, y_seas_train, y_seas_test = train_test_split(X_seas, y_seas, stratify = y_seas, test_size=0.2, random_state=RSEED)"
   ]
  },
  {
   "cell_type": "code",
   "execution_count": 54,
   "id": "376442fb",
   "metadata": {},
   "outputs": [
    {
     "name": "stdout",
     "output_type": "stream",
     "text": [
      "X_seas_train shape: (21365, 32)\n",
      "X_seas_test shape: (5342, 32)\n",
      "y_seas_train: (21365,)\n",
      "y_seas_test: (5342,)\n"
     ]
    }
   ],
   "source": [
    "print('X_seas_train shape:', X_seas_train.shape)\n",
    "print('X_seas_test shape:', X_seas_test.shape)\n",
    "print('y_seas_train:', y_seas_train.shape)\n",
    "print('y_seas_test:', y_seas_test.shape)"
   ]
  },
  {
   "cell_type": "markdown",
   "id": "b65124bc",
   "metadata": {},
   "source": [
    "## Modelling and prediction (RFC only)"
   ]
  },
  {
   "cell_type": "markdown",
   "id": "3db75c9a",
   "metadata": {},
   "source": [
    "Instantiate the model:"
   ]
  },
  {
   "cell_type": "code",
   "execution_count": 55,
   "id": "bca66d85",
   "metadata": {},
   "outputs": [],
   "source": [
    "rand_forst= RandomForestClassifier()"
   ]
  },
  {
   "cell_type": "markdown",
   "id": "49fb725a",
   "metadata": {},
   "source": [
    "Fitting the model:"
   ]
  },
  {
   "cell_type": "code",
   "execution_count": 56,
   "id": "7d077906",
   "metadata": {},
   "outputs": [],
   "source": [
    "seas_rand_forst_model = rand_forst.fit(X_seas_train, y_seas_train)"
   ]
  },
  {
   "cell_type": "markdown",
   "id": "ef14bdb0",
   "metadata": {},
   "source": [
    "Making predictions:"
   ]
  },
  {
   "cell_type": "code",
   "execution_count": 57,
   "id": "b1bdd2fc",
   "metadata": {},
   "outputs": [],
   "source": [
    "seas_rand_forst_trainpreds = seas_rand_forst_model.predict(X_seas_train)\n",
    "seas_rand_forst_testpreds = seas_rand_forst_model.predict(X_seas_test)"
   ]
  },
  {
   "cell_type": "markdown",
   "id": "b448c813",
   "metadata": {},
   "source": [
    "## Model evaluation (RFC only)"
   ]
  },
  {
   "cell_type": "markdown",
   "id": "43d5d171",
   "metadata": {},
   "source": [
    "Train data"
   ]
  },
  {
   "cell_type": "code",
   "execution_count": 58,
   "id": "c0695464",
   "metadata": {},
   "outputs": [
    {
     "name": "stdout",
     "output_type": "stream",
     "text": [
      "Accuracy: 1.00\n",
      "Recall: 1.00\n",
      "Precision: 1.00\n",
      "F1: 1.00\n",
      "ROC: 1.00\n"
     ]
    }
   ],
   "source": [
    "# Random Forest--Train data evaluation Metrics\n",
    "#check if these metrics are changing compared to previous results\n",
    "seas_rand_forst_train_acc = accuracy_score(y_seas_train, seas_rand_forst_trainpreds)\n",
    "seas_rand_forst_train_recall = recall_score(y_seas_train, seas_rand_forst_trainpreds)\n",
    "seas_rand_forst_train_precision = precision_score(y_seas_train, seas_rand_forst_trainpreds)\n",
    "seas_rand_forst_train_f1 = f1_score(y_seas_train, seas_rand_forst_trainpreds)\n",
    "seas_rand_forst_train_roc = roc_auc_score(y_seas_train, seas_rand_forst_trainpreds)\n",
    "\n",
    "print(\"Accuracy: {:.2f}\".format(seas_rand_forst_train_acc))\n",
    "print(\"Recall: {:.2f}\".format(seas_rand_forst_train_recall))\n",
    "print(\"Precision: {:.2f}\".format(seas_rand_forst_train_precision))\n",
    "print(\"F1: {:.2f}\".format(seas_rand_forst_train_f1))\n",
    "print(\"ROC: {:.2f}\".format(seas_rand_forst_train_roc))"
   ]
  },
  {
   "cell_type": "markdown",
   "id": "ef99fcd2",
   "metadata": {},
   "source": [
    "Test data"
   ]
  },
  {
   "cell_type": "code",
   "execution_count": 59,
   "id": "fb1cb823",
   "metadata": {},
   "outputs": [
    {
     "name": "stdout",
     "output_type": "stream",
     "text": [
      "Accuracy: 0.80\n",
      "Recall: 0.76\n",
      "Precision: 0.80\n",
      "F1: 0.78\n",
      "ROC: 0.80\n"
     ]
    }
   ],
   "source": [
    "# Random Forest--Test data evaluation Metrics\n",
    "#check if these metrics are changing compared to previous results\n",
    "seas_rand_forst_test_acc = accuracy_score(y_seas_test, seas_rand_forst_testpreds)\n",
    "seas_rand_forst_test_recall = recall_score(y_seas_test, seas_rand_forst_testpreds)\n",
    "seas_rand_forst_test_precision = precision_score(y_seas_test, seas_rand_forst_testpreds)\n",
    "seas_rand_forst_test_f1 = f1_score(y_seas_test, seas_rand_forst_testpreds)\n",
    "seas_rand_forst_test_roc = roc_auc_score(y_seas_test, seas_rand_forst_testpreds)\n",
    "\n",
    "print(\"Accuracy: {:.2f}\".format(seas_rand_forst_test_acc))\n",
    "print(\"Recall: {:.2f}\".format(seas_rand_forst_test_recall))\n",
    "print(\"Precision: {:.2f}\".format(seas_rand_forst_test_precision))\n",
    "print(\"F1: {:.2f}\".format(seas_rand_forst_test_f1))\n",
    "print(\"ROC: {:.2f}\".format(seas_rand_forst_test_roc))"
   ]
  },
  {
   "cell_type": "markdown",
   "id": "456edd39",
   "metadata": {},
   "source": [
    "## Feature importance for seasonal flu vaccine (permutation importance with ELI5)"
   ]
  },
  {
   "cell_type": "code",
   "execution_count": 60,
   "id": "65944d9d",
   "metadata": {},
   "outputs": [
    {
     "data": {
      "text/html": [
       "\n",
       "    <style>\n",
       "    table.eli5-weights tr:hover {\n",
       "        filter: brightness(85%);\n",
       "    }\n",
       "</style>\n",
       "\n",
       "\n",
       "\n",
       "    \n",
       "\n",
       "    \n",
       "\n",
       "    \n",
       "\n",
       "    \n",
       "\n",
       "    \n",
       "\n",
       "    \n",
       "\n",
       "\n",
       "    \n",
       "\n",
       "    \n",
       "\n",
       "    \n",
       "\n",
       "    \n",
       "\n",
       "    \n",
       "\n",
       "    \n",
       "\n",
       "\n",
       "    \n",
       "\n",
       "    \n",
       "\n",
       "    \n",
       "\n",
       "    \n",
       "\n",
       "    \n",
       "        <table class=\"eli5-weights eli5-feature-importances\" style=\"border-collapse: collapse; border: none; margin-top: 0em; table-layout: auto;\">\n",
       "    <thead>\n",
       "    <tr style=\"border: none;\">\n",
       "        <th style=\"padding: 0 1em 0 0.5em; text-align: right; border: none;\">Weight</th>\n",
       "        <th style=\"padding: 0 0.5em 0 0.5em; text-align: left; border: none;\">Feature</th>\n",
       "    </tr>\n",
       "    </thead>\n",
       "    <tbody>\n",
       "    \n",
       "        <tr style=\"background-color: hsl(120, 100.00%, 80.00%); border: none;\">\n",
       "            <td style=\"padding: 0 1em 0 0.5em; text-align: right; border: none;\">\n",
       "                0.0620\n",
       "                \n",
       "                    &plusmn; 0.0074\n",
       "                \n",
       "            </td>\n",
       "            <td style=\"padding: 0 0.5em 0 0.5em; text-align: left; border: none;\">\n",
       "                h1n1_vaccine\n",
       "            </td>\n",
       "        </tr>\n",
       "    \n",
       "        <tr style=\"background-color: hsl(120, 100.00%, 85.02%); border: none;\">\n",
       "            <td style=\"padding: 0 1em 0 0.5em; text-align: right; border: none;\">\n",
       "                0.0410\n",
       "                \n",
       "                    &plusmn; 0.0056\n",
       "                \n",
       "            </td>\n",
       "            <td style=\"padding: 0 0.5em 0 0.5em; text-align: left; border: none;\">\n",
       "                opinion_seas_risk\n",
       "            </td>\n",
       "        </tr>\n",
       "    \n",
       "        <tr style=\"background-color: hsl(120, 100.00%, 85.32%); border: none;\">\n",
       "            <td style=\"padding: 0 1em 0 0.5em; text-align: right; border: none;\">\n",
       "                0.0399\n",
       "                \n",
       "                    &plusmn; 0.0044\n",
       "                \n",
       "            </td>\n",
       "            <td style=\"padding: 0 0.5em 0 0.5em; text-align: left; border: none;\">\n",
       "                opinion_seas_vacc_effective\n",
       "            </td>\n",
       "        </tr>\n",
       "    \n",
       "        <tr style=\"background-color: hsl(120, 100.00%, 87.14%); border: none;\">\n",
       "            <td style=\"padding: 0 1em 0 0.5em; text-align: right; border: none;\">\n",
       "                0.0330\n",
       "                \n",
       "                    &plusmn; 0.0034\n",
       "                \n",
       "            </td>\n",
       "            <td style=\"padding: 0 0.5em 0 0.5em; text-align: left; border: none;\">\n",
       "                reco_vaccines\n",
       "            </td>\n",
       "        </tr>\n",
       "    \n",
       "        <tr style=\"background-color: hsl(120, 100.00%, 89.12%); border: none;\">\n",
       "            <td style=\"padding: 0 1em 0 0.5em; text-align: right; border: none;\">\n",
       "                0.0260\n",
       "                \n",
       "                    &plusmn; 0.0042\n",
       "                \n",
       "            </td>\n",
       "            <td style=\"padding: 0 0.5em 0 0.5em; text-align: left; border: none;\">\n",
       "                age_group\n",
       "            </td>\n",
       "        </tr>\n",
       "    \n",
       "        <tr style=\"background-color: hsl(120, 100.00%, 95.69%); border: none;\">\n",
       "            <td style=\"padding: 0 1em 0 0.5em; text-align: right; border: none;\">\n",
       "                0.0069\n",
       "                \n",
       "                    &plusmn; 0.0036\n",
       "                \n",
       "            </td>\n",
       "            <td style=\"padding: 0 0.5em 0 0.5em; text-align: left; border: none;\">\n",
       "                opinion_seas_sick_from_vacc\n",
       "            </td>\n",
       "        </tr>\n",
       "    \n",
       "        <tr style=\"background-color: hsl(120, 100.00%, 97.69%); border: none;\">\n",
       "            <td style=\"padding: 0 1em 0 0.5em; text-align: right; border: none;\">\n",
       "                0.0028\n",
       "                \n",
       "                    &plusmn; 0.0043\n",
       "                \n",
       "            </td>\n",
       "            <td style=\"padding: 0 0.5em 0 0.5em; text-align: left; border: none;\">\n",
       "                opinion_h1n1_vacc_effective\n",
       "            </td>\n",
       "        </tr>\n",
       "    \n",
       "        <tr style=\"background-color: hsl(120, 100.00%, 97.93%); border: none;\">\n",
       "            <td style=\"padding: 0 1em 0 0.5em; text-align: right; border: none;\">\n",
       "                0.0024\n",
       "                \n",
       "                    &plusmn; 0.0018\n",
       "                \n",
       "            </td>\n",
       "            <td style=\"padding: 0 0.5em 0 0.5em; text-align: left; border: none;\">\n",
       "                chronic_med_condition\n",
       "            </td>\n",
       "        </tr>\n",
       "    \n",
       "        <tr style=\"background-color: hsl(120, 100.00%, 98.28%); border: none;\">\n",
       "            <td style=\"padding: 0 1em 0 0.5em; text-align: right; border: none;\">\n",
       "                0.0019\n",
       "                \n",
       "                    &plusmn; 0.0020\n",
       "                \n",
       "            </td>\n",
       "            <td style=\"padding: 0 0.5em 0 0.5em; text-align: left; border: none;\">\n",
       "                health_worker\n",
       "            </td>\n",
       "        </tr>\n",
       "    \n",
       "        <tr style=\"background-color: hsl(120, 100.00%, 98.32%); border: none;\">\n",
       "            <td style=\"padding: 0 1em 0 0.5em; text-align: right; border: none;\">\n",
       "                0.0018\n",
       "                \n",
       "                    &plusmn; 0.0014\n",
       "                \n",
       "            </td>\n",
       "            <td style=\"padding: 0 0.5em 0 0.5em; text-align: left; border: none;\">\n",
       "                sex\n",
       "            </td>\n",
       "        </tr>\n",
       "    \n",
       "        <tr style=\"background-color: hsl(120, 100.00%, 98.40%); border: none;\">\n",
       "            <td style=\"padding: 0 1em 0 0.5em; text-align: right; border: none;\">\n",
       "                0.0017\n",
       "                \n",
       "                    &plusmn; 0.0021\n",
       "                \n",
       "            </td>\n",
       "            <td style=\"padding: 0 0.5em 0 0.5em; text-align: left; border: none;\">\n",
       "                behavioral_touch_face\n",
       "            </td>\n",
       "        </tr>\n",
       "    \n",
       "        <tr style=\"background-color: hsl(120, 100.00%, 98.55%); border: none;\">\n",
       "            <td style=\"padding: 0 1em 0 0.5em; text-align: right; border: none;\">\n",
       "                0.0015\n",
       "                \n",
       "                    &plusmn; 0.0010\n",
       "                \n",
       "            </td>\n",
       "            <td style=\"padding: 0 0.5em 0 0.5em; text-align: left; border: none;\">\n",
       "                employment_industry\n",
       "            </td>\n",
       "        </tr>\n",
       "    \n",
       "        <tr style=\"background-color: hsl(120, 100.00%, 98.68%); border: none;\">\n",
       "            <td style=\"padding: 0 1em 0 0.5em; text-align: right; border: none;\">\n",
       "                0.0013\n",
       "                \n",
       "                    &plusmn; 0.0016\n",
       "                \n",
       "            </td>\n",
       "            <td style=\"padding: 0 0.5em 0 0.5em; text-align: left; border: none;\">\n",
       "                household_adults\n",
       "            </td>\n",
       "        </tr>\n",
       "    \n",
       "        <tr style=\"background-color: hsl(120, 100.00%, 98.71%); border: none;\">\n",
       "            <td style=\"padding: 0 1em 0 0.5em; text-align: right; border: none;\">\n",
       "                0.0012\n",
       "                \n",
       "                    &plusmn; 0.0032\n",
       "                \n",
       "            </td>\n",
       "            <td style=\"padding: 0 0.5em 0 0.5em; text-align: left; border: none;\">\n",
       "                household_children\n",
       "            </td>\n",
       "        </tr>\n",
       "    \n",
       "        <tr style=\"background-color: hsl(120, 100.00%, 98.77%); border: none;\">\n",
       "            <td style=\"padding: 0 1em 0 0.5em; text-align: right; border: none;\">\n",
       "                0.0012\n",
       "                \n",
       "                    &plusmn; 0.0020\n",
       "                \n",
       "            </td>\n",
       "            <td style=\"padding: 0 0.5em 0 0.5em; text-align: left; border: none;\">\n",
       "                h1n1_knowledge\n",
       "            </td>\n",
       "        </tr>\n",
       "    \n",
       "        <tr style=\"background-color: hsl(120, 100.00%, 98.91%); border: none;\">\n",
       "            <td style=\"padding: 0 1em 0 0.5em; text-align: right; border: none;\">\n",
       "                0.0010\n",
       "                \n",
       "                    &plusmn; 0.0012\n",
       "                \n",
       "            </td>\n",
       "            <td style=\"padding: 0 0.5em 0 0.5em; text-align: left; border: none;\">\n",
       "                marital_status\n",
       "            </td>\n",
       "        </tr>\n",
       "    \n",
       "        <tr style=\"background-color: hsl(120, 100.00%, 99.03%); border: none;\">\n",
       "            <td style=\"padding: 0 1em 0 0.5em; text-align: right; border: none;\">\n",
       "                0.0008\n",
       "                \n",
       "                    &plusmn; 0.0017\n",
       "                \n",
       "            </td>\n",
       "            <td style=\"padding: 0 0.5em 0 0.5em; text-align: left; border: none;\">\n",
       "                rent_or_own\n",
       "            </td>\n",
       "        </tr>\n",
       "    \n",
       "        <tr style=\"background-color: hsl(120, 100.00%, 99.06%); border: none;\">\n",
       "            <td style=\"padding: 0 1em 0 0.5em; text-align: right; border: none;\">\n",
       "                0.0008\n",
       "                \n",
       "                    &plusmn; 0.0003\n",
       "                \n",
       "            </td>\n",
       "            <td style=\"padding: 0 0.5em 0 0.5em; text-align: left; border: none;\">\n",
       "                behavioral_antiviral_meds\n",
       "            </td>\n",
       "        </tr>\n",
       "    \n",
       "        <tr style=\"background-color: hsl(120, 100.00%, 99.12%); border: none;\">\n",
       "            <td style=\"padding: 0 1em 0 0.5em; text-align: right; border: none;\">\n",
       "                0.0007\n",
       "                \n",
       "                    &plusmn; 0.0006\n",
       "                \n",
       "            </td>\n",
       "            <td style=\"padding: 0 0.5em 0 0.5em; text-align: left; border: none;\">\n",
       "                behavioral_face_mask\n",
       "            </td>\n",
       "        </tr>\n",
       "    \n",
       "        <tr style=\"background-color: hsl(120, 100.00%, 99.12%); border: none;\">\n",
       "            <td style=\"padding: 0 1em 0 0.5em; text-align: right; border: none;\">\n",
       "                0.0007\n",
       "                \n",
       "                    &plusmn; 0.0020\n",
       "                \n",
       "            </td>\n",
       "            <td style=\"padding: 0 0.5em 0 0.5em; text-align: left; border: none;\">\n",
       "                race\n",
       "            </td>\n",
       "        </tr>\n",
       "    \n",
       "        <tr style=\"background-color: hsl(120, 100.00%, 99.16%); border: none;\">\n",
       "            <td style=\"padding: 0 1em 0 0.5em; text-align: right; border: none;\">\n",
       "                0.0007\n",
       "                \n",
       "                    &plusmn; 0.0021\n",
       "                \n",
       "            </td>\n",
       "            <td style=\"padding: 0 0.5em 0 0.5em; text-align: left; border: none;\">\n",
       "                behavioral_wash_hands\n",
       "            </td>\n",
       "        </tr>\n",
       "    \n",
       "        <tr style=\"background-color: hsl(120, 100.00%, 99.19%); border: none;\">\n",
       "            <td style=\"padding: 0 1em 0 0.5em; text-align: right; border: none;\">\n",
       "                0.0006\n",
       "                \n",
       "                    &plusmn; 0.0021\n",
       "                \n",
       "            </td>\n",
       "            <td style=\"padding: 0 0.5em 0 0.5em; text-align: left; border: none;\">\n",
       "                hhs_geo_region\n",
       "            </td>\n",
       "        </tr>\n",
       "    \n",
       "        <tr style=\"background-color: hsl(120, 100.00%, 99.19%); border: none;\">\n",
       "            <td style=\"padding: 0 1em 0 0.5em; text-align: right; border: none;\">\n",
       "                0.0006\n",
       "                \n",
       "                    &plusmn; 0.0030\n",
       "                \n",
       "            </td>\n",
       "            <td style=\"padding: 0 0.5em 0 0.5em; text-align: left; border: none;\">\n",
       "                education\n",
       "            </td>\n",
       "        </tr>\n",
       "    \n",
       "        <tr style=\"background-color: hsl(120, 100.00%, 99.44%); border: none;\">\n",
       "            <td style=\"padding: 0 1em 0 0.5em; text-align: right; border: none;\">\n",
       "                0.0004\n",
       "                \n",
       "                    &plusmn; 0.0018\n",
       "                \n",
       "            </td>\n",
       "            <td style=\"padding: 0 0.5em 0 0.5em; text-align: left; border: none;\">\n",
       "                behaviour_gather_home\n",
       "            </td>\n",
       "        </tr>\n",
       "    \n",
       "        <tr style=\"background-color: hsl(120, 100.00%, 99.66%); border: none;\">\n",
       "            <td style=\"padding: 0 1em 0 0.5em; text-align: right; border: none;\">\n",
       "                0.0002\n",
       "                \n",
       "                    &plusmn; 0.0004\n",
       "                \n",
       "            </td>\n",
       "            <td style=\"padding: 0 0.5em 0 0.5em; text-align: left; border: none;\">\n",
       "                child_under_6_months\n",
       "            </td>\n",
       "        </tr>\n",
       "    \n",
       "        <tr style=\"background-color: hsl(120, 100.00%, 99.71%); border: none;\">\n",
       "            <td style=\"padding: 0 1em 0 0.5em; text-align: right; border: none;\">\n",
       "                0.0001\n",
       "                \n",
       "                    &plusmn; 0.0038\n",
       "                \n",
       "            </td>\n",
       "            <td style=\"padding: 0 0.5em 0 0.5em; text-align: left; border: none;\">\n",
       "                income_poverty\n",
       "            </td>\n",
       "        </tr>\n",
       "    \n",
       "        <tr style=\"background-color: hsl(0, 100.00%, 99.52%); border: none;\">\n",
       "            <td style=\"padding: 0 1em 0 0.5em; text-align: right; border: none;\">\n",
       "                -0.0003\n",
       "                \n",
       "                    &plusmn; 0.0022\n",
       "                \n",
       "            </td>\n",
       "            <td style=\"padding: 0 0.5em 0 0.5em; text-align: left; border: none;\">\n",
       "                census_msa\n",
       "            </td>\n",
       "        </tr>\n",
       "    \n",
       "        <tr style=\"background-color: hsl(0, 100.00%, 99.22%); border: none;\">\n",
       "            <td style=\"padding: 0 1em 0 0.5em; text-align: right; border: none;\">\n",
       "                -0.0006\n",
       "                \n",
       "                    &plusmn; 0.0021\n",
       "                \n",
       "            </td>\n",
       "            <td style=\"padding: 0 0.5em 0 0.5em; text-align: left; border: none;\">\n",
       "                h1n1_concern\n",
       "            </td>\n",
       "        </tr>\n",
       "    \n",
       "        <tr style=\"background-color: hsl(0, 100.00%, 99.06%); border: none;\">\n",
       "            <td style=\"padding: 0 1em 0 0.5em; text-align: right; border: none;\">\n",
       "                -0.0008\n",
       "                \n",
       "                    &plusmn; 0.0026\n",
       "                \n",
       "            </td>\n",
       "            <td style=\"padding: 0 0.5em 0 0.5em; text-align: left; border: none;\">\n",
       "                behavioral_avoidance\n",
       "            </td>\n",
       "        </tr>\n",
       "    \n",
       "        <tr style=\"background-color: hsl(0, 100.00%, 98.91%); border: none;\">\n",
       "            <td style=\"padding: 0 1em 0 0.5em; text-align: right; border: none;\">\n",
       "                -0.0010\n",
       "                \n",
       "                    &plusmn; 0.0019\n",
       "                \n",
       "            </td>\n",
       "            <td style=\"padding: 0 0.5em 0 0.5em; text-align: left; border: none;\">\n",
       "                health_insurance\n",
       "            </td>\n",
       "        </tr>\n",
       "    \n",
       "        <tr style=\"background-color: hsl(0, 100.00%, 98.82%); border: none;\">\n",
       "            <td style=\"padding: 0 1em 0 0.5em; text-align: right; border: none;\">\n",
       "                -0.0011\n",
       "                \n",
       "                    &plusmn; 0.0021\n",
       "                \n",
       "            </td>\n",
       "            <td style=\"padding: 0 0.5em 0 0.5em; text-align: left; border: none;\">\n",
       "                employment_occupation\n",
       "            </td>\n",
       "        </tr>\n",
       "    \n",
       "        <tr style=\"background-color: hsl(0, 100.00%, 98.02%); border: none;\">\n",
       "            <td style=\"padding: 0 1em 0 0.5em; text-align: right; border: none;\">\n",
       "                -0.0023\n",
       "                \n",
       "                    &plusmn; 0.0009\n",
       "                \n",
       "            </td>\n",
       "            <td style=\"padding: 0 0.5em 0 0.5em; text-align: left; border: none;\">\n",
       "                employment_status\n",
       "            </td>\n",
       "        </tr>\n",
       "    \n",
       "    \n",
       "    </tbody>\n",
       "</table>\n",
       "    \n",
       "\n",
       "    \n",
       "\n",
       "\n",
       "    \n",
       "\n",
       "    \n",
       "\n",
       "    \n",
       "\n",
       "    \n",
       "\n",
       "    \n",
       "\n",
       "    \n",
       "\n",
       "\n",
       "\n"
      ],
      "text/plain": [
       "<IPython.core.display.HTML object>"
      ]
     },
     "execution_count": 60,
     "metadata": {},
     "output_type": "execute_result"
    }
   ],
   "source": [
    "perm = PermutationImportance(seas_rand_forst_model, random_state=RSEED).fit(X_seas_test, y_seas_test)\n",
    "eli5.show_weights(perm, top=None, feature_names = X_seas_test.columns.tolist())"
   ]
  },
  {
   "cell_type": "markdown",
   "id": "e5fc2994",
   "metadata": {},
   "source": [
    "## Error evaluation of model"
   ]
  },
  {
   "cell_type": "markdown",
   "id": "d0d68168",
   "metadata": {},
   "source": [
    "**Confusion matrix**"
   ]
  },
  {
   "cell_type": "code",
   "execution_count": 61,
   "id": "58902842",
   "metadata": {},
   "outputs": [
    {
     "data": {
      "image/png": "[encoded data removed]",
      "text/plain": [
       "<Figure size 432x288 with 2 Axes>"
      ]
     },
     "metadata": {
      "needs_background": "light"
     },
     "output_type": "display_data"
    }
   ],
   "source": [
    "cm = confusion_matrix(y_seas_test, seas_rand_forst_testpreds)\n",
    "sns.heatmap(cm, cmap='Blues', annot=True, fmt='d', linewidths=.5, annot_kws={\"size\":25})\n",
    "plt.title(\"Seasonal flu vaccination prediction\", fontsize=20, y=1.1)\n",
    "plt.ylabel('Actual vaccination status', fontsize=16)\n",
    "plt.xlabel('Predicted vaccination status', fontsize=16)\n",
    "labels = ['Not vaccinated', 'Vaccinated']\n",
    "ax = plt.gca()\n",
    "ax.set_xticklabels(labels, fontsize=14)\n",
    "ax.set_yticklabels(labels, va=\"center\", fontsize=14)\n",
    "ax.yaxis.labelpad = 15\n",
    "ax.xaxis.labelpad = 15"
   ]
  },
  {
   "cell_type": "markdown",
   "id": "38942c12",
   "metadata": {},
   "source": [
    "**ROC curve**"
   ]
  },
  {
   "cell_type": "code",
   "execution_count": 62,
   "id": "c5d68cf6",
   "metadata": {},
   "outputs": [
    {
     "data": {
      "image/png": "[encoded data removed]",
      "text/plain": [
       "<Figure size 432x288 with 1 Axes>"
      ]
     },
     "metadata": {
      "needs_background": "light"
     },
     "output_type": "display_data"
    },
    {
     "name": "stdout",
     "output_type": "stream",
     "text": [
      "AUC Random Forest:0.797\n"
     ]
    }
   ],
   "source": [
    "fpr_rand_forst, tpr_rand_forst, thresholds_rand_forst = metrics.roc_curve(y_seas_test, seas_rand_forst_testpreds)\n",
    "\n",
    "plt.plot(fpr_rand_forst, tpr_rand_forst,'r-',label = 'Random Forest')\n",
    "plt.plot([0,1],[0,1],'k-',label='random')\n",
    "plt.plot([0,0,1,1],[0,1,1,1],'g-',label='perfect')\n",
    "plt.legend()\n",
    "plt.xlabel('False Positive Rate')\n",
    "plt.ylabel('True Positive Rate')\n",
    "plt.show()\n",
    "\n",
    "auc_rand_forst = roc_auc_score(y_h1n1_test, rand_forst_testpreds)\n",
    "print('AUC Random Forest:%.3f'% auc_rand_forst)"
   ]
  },
  {
   "cell_type": "code",
   "execution_count": 63,
   "id": "05ee1287",
   "metadata": {},
   "outputs": [
    {
     "data": {
      "text/plain": [
       "60762"
      ]
     },
     "execution_count": 63,
     "metadata": {},
     "output_type": "execute_result"
    }
   ],
   "source": [
    "df.isnull().sum().sum()"
   ]
  },
  {
   "cell_type": "code",
   "execution_count": 64,
   "id": "fa18808f",
   "metadata": {},
   "outputs": [
    {
     "name": "stdout",
     "output_type": "stream",
     "text": [
      "<class 'pandas.core.frame.DataFrame'>\n",
      "RangeIndex: 26707 entries, 0 to 26706\n",
      "Data columns (total 37 columns):\n",
      " #   Column                       Non-Null Count  Dtype  \n",
      "---  ------                       --------------  -----  \n",
      " 0   h1n1_vaccine                 26707 non-null  int64  \n",
      " 1   seasonal_vaccine             26707 non-null  int64  \n",
      " 2   h1n1_concern                 26615 non-null  float64\n",
      " 3   h1n1_knowledge               26591 non-null  float64\n",
      " 4   behavioral_antiviral_meds    26636 non-null  float64\n",
      " 5   behavioral_avoidance         26499 non-null  float64\n",
      " 6   behavioral_face_mask         26688 non-null  float64\n",
      " 7   behavioral_wash_hands        26665 non-null  float64\n",
      " 8   behavioral_large_gatherings  26620 non-null  float64\n",
      " 9   behavioral_outside_home      26625 non-null  float64\n",
      " 10  behavioral_touch_face        26579 non-null  float64\n",
      " 11  doctor_recc_h1n1             24547 non-null  float64\n",
      " 12  doctor_recc_seasonal         24547 non-null  float64\n",
      " 13  chronic_med_condition        25736 non-null  float64\n",
      " 14  child_under_6_months         25887 non-null  float64\n",
      " 15  health_worker                25903 non-null  float64\n",
      " 16  health_insurance             14433 non-null  float64\n",
      " 17  opinion_h1n1_vacc_effective  26316 non-null  float64\n",
      " 18  opinion_h1n1_risk            26319 non-null  float64\n",
      " 19  opinion_h1n1_sick_from_vacc  26312 non-null  float64\n",
      " 20  opinion_seas_vacc_effective  26245 non-null  float64\n",
      " 21  opinion_seas_risk            26193 non-null  float64\n",
      " 22  opinion_seas_sick_from_vacc  26170 non-null  float64\n",
      " 23  age_group                    26707 non-null  object \n",
      " 24  education                    25300 non-null  object \n",
      " 25  race                         26707 non-null  object \n",
      " 26  sex                          26707 non-null  object \n",
      " 27  income_poverty               22284 non-null  object \n",
      " 28  marital_status               25299 non-null  object \n",
      " 29  rent_or_own                  24665 non-null  object \n",
      " 30  employment_status            25244 non-null  object \n",
      " 31  hhs_geo_region               26707 non-null  object \n",
      " 32  census_msa                   26707 non-null  object \n",
      " 33  household_adults             26458 non-null  float64\n",
      " 34  household_children           26458 non-null  float64\n",
      " 35  employment_industry          13377 non-null  object \n",
      " 36  employment_occupation        13237 non-null  object \n",
      "dtypes: float64(23), int64(2), object(12)\n",
      "memory usage: 7.5+ MB\n"
     ]
    }
   ],
   "source": [
    "df.info()"
   ]
  },
  {
   "cell_type": "code",
   "execution_count": null,
   "id": "eb87a622",
   "metadata": {},
   "outputs": [],
   "source": []
  }
 ],
 "metadata": {
  "kernelspec": {
   "display_name": "Python 3 (ipykernel)",
   "language": "python",
   "name": "python3"
  },
  "language_info": {
   "codemirror_mode": {
    "name": "ipython",
    "version": 3
   },
   "file_extension": ".py",
   "mimetype": "text/x-python",
   "name": "python",
   "nbconvert_exporter": "python",
   "pygments_lexer": "ipython3",
   "version": "3.8.5"
  }
 },
 "nbformat": 4,
 "nbformat_minor": 5
}
