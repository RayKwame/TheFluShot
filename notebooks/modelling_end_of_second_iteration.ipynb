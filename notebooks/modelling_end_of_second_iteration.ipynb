{
 "cells": [
  {
   "cell_type": "code",
   "execution_count": null,
   "source": [
    "import sys\n",
    "# adding to the path variables the one folder higher (locally, not changing system variables)\n",
    "sys.path.append(\"..\")\n",
    "import pandas as pd\n",
    "import numpy as np\n",
    "import warnings\n",
    "import mlflow\n",
    "from modeling.config import TRACKING_URI, EXPERIMENT_NAME\n",
    "\n",
    "RSEED = 42\n",
    "\n",
    "# Modeling Libraries\n",
    "\n",
    "import numpy as np\n",
    "import pandas as pd\n",
    "import matplotlib.pyplot as plt\n",
    "import seaborn as sns\n",
    "\n",
    "\n",
    "from sklearn.dummy import DummyClassifier\n",
    "from sklearn.multioutput import MultiOutputClassifier\n",
    "from sklearn.pipeline import Pipeline\n",
    "from sklearn.compose import ColumnTransformer\n",
    "from sklearn.preprocessing import OneHotEncoder, StandardScaler\n",
    "from sklearn.impute import SimpleImputer\n",
    "from sklearn.model_selection import train_test_split\n",
    "from sklearn.model_selection import GridSearchCV, RandomizedSearchCV\n",
    "from sklearn.model_selection import cross_val_predict, cross_val_score, cross_validate\n",
    "from sklearn.metrics import roc_curve, confusion_matrix, accuracy_score, recall_score, precision_score, f1_score, roc_auc_score\n",
    "\n",
    "from sklearn.linear_model import LogisticRegression\n",
    "from sklearn.neighbors import KNeighborsClassifier\n",
    "from sklearn.tree import DecisionTreeClassifier\n",
    "from sklearn.ensemble import RandomForestClassifier\n",
    "from sklearn.svm import SVC\n",
    "from sklearn import svm\n",
    "\n",
    "\n",
    "warnings.filterwarnings('ignore')\n"
   ],
   "outputs": [],
   "metadata": {
    "slideshow": {
     "slide_type": "skip"
    }
   }
  },
  {
   "cell_type": "code",
   "execution_count": null,
   "source": [
    "df_features = pd.read_csv('../data/Flu_Shot_Learning_Predict_H1N1_and_Seasonal_Flu_Vaccines_-_Training_Features.csv')"
   ],
   "outputs": [],
   "metadata": {
    "slideshow": {
     "slide_type": "skip"
    }
   }
  },
  {
   "cell_type": "code",
   "execution_count": null,
   "source": [
    "df_features.head()"
   ],
   "outputs": [],
   "metadata": {
    "slideshow": {
     "slide_type": "skip"
    }
   }
  },
  {
   "cell_type": "code",
   "execution_count": null,
   "source": [
    "df_target = pd.read_csv('../data/Flu_Shot_Learning_Predict_H1N1_and_Seasonal_Flu_Vaccines_-_Training_Labels.csv')"
   ],
   "outputs": [],
   "metadata": {}
  },
  {
   "cell_type": "code",
   "execution_count": null,
   "source": [
    "# Get info for the target\n",
    "df_target.info()"
   ],
   "outputs": [],
   "metadata": {}
  },
  {
   "cell_type": "code",
   "execution_count": null,
   "source": [
    "df_features.info()"
   ],
   "outputs": [],
   "metadata": {
    "slideshow": {
     "slide_type": "skip"
    }
   }
  },
  {
   "cell_type": "code",
   "execution_count": null,
   "source": [
    "df_features.isnull().sum(axis = 0)"
   ],
   "outputs": [],
   "metadata": {}
  },
  {
   "cell_type": "markdown",
   "source": [
    "- express missing values as %\n",
    "\n",
    "Options:\n",
    "- modelling for imputation (withput using our target variable!)\n",
    "- or use prediction models that don't care about missing values\n",
    "- or impute so that the overall distribution stays the same (based on statistics of this data set)\n",
    "- or impute using a hypothesis (e.g. people who have missing values don't have health insurance?)\n",
    "- for imputation we can try several approaches and see what gives best results :)\n",
    "\n",
    "- remember--when we impute, we want to base assumptions based on the test set of a train-test split:\n",
    "    - if we do multiple models, test-train split for each\n",
    "    - create functions for imputation\n",
    "\n",
    "- remember modelling for understanding (EDA style) =/= modelling for prediction\n",
    "\n",
    "library for visualising missing values:\n",
    "https://github.com/ResidentMario/missingno"
   ],
   "metadata": {}
  },
  {
   "cell_type": "code",
   "execution_count": null,
   "source": [
    "# We are concatenating both dataframes into one \n",
    "\n",
    "df = pd.merge(df_target, df_features, on=['respondent_id'])"
   ],
   "outputs": [],
   "metadata": {}
  },
  {
   "cell_type": "markdown",
   "source": [
    "We will drop the following columns for our first iteration:    \n",
    "- health_insurance, employment_industry, employment_occupation, income_poverty, marital_status, employment_status"
   ],
   "metadata": {}
  },
  {
   "cell_type": "markdown",
   "source": [
    "What are the values in the features that have a lot of missing data?"
   ],
   "metadata": {}
  },
  {
   "cell_type": "code",
   "execution_count": null,
   "source": [
    "df_features.health_insurance.value_counts()"
   ],
   "outputs": [],
   "metadata": {}
  },
  {
   "cell_type": "markdown",
   "source": [
    "Binary variable; 12% do not have health insurance, the rest do"
   ],
   "metadata": {}
  },
  {
   "cell_type": "code",
   "execution_count": null,
   "source": [
    "df_features.employment_industry.value_counts()"
   ],
   "outputs": [],
   "metadata": {}
  },
  {
   "cell_type": "markdown",
   "source": [
    "Anonymised variable with 21 values"
   ],
   "metadata": {}
  },
  {
   "cell_type": "code",
   "execution_count": null,
   "source": [
    "df_features.employment_occupation.value_counts()"
   ],
   "outputs": [],
   "metadata": {}
  },
  {
   "cell_type": "markdown",
   "source": [
    "Anonymised variable with 23 values"
   ],
   "metadata": {}
  },
  {
   "cell_type": "markdown",
   "source": [
    "# Data cleaning"
   ],
   "metadata": {}
  },
  {
   "cell_type": "markdown",
   "source": [
    "Dropping of features with too many missing values:"
   ],
   "metadata": {}
  },
  {
   "cell_type": "code",
   "execution_count": null,
   "source": [
    "col_drop = ['health_insurance', 'employment_industry', 'employment_occupation', 'income_poverty', 'marital_status', 'employment_status']\n",
    "\n",
    "df.drop(col_drop, axis=1, inplace=True)"
   ],
   "outputs": [],
   "metadata": {
    "slideshow": {
     "slide_type": "skip"
    }
   }
  },
  {
   "cell_type": "markdown",
   "source": [
    "Dropping of all rows with null values:"
   ],
   "metadata": {}
  },
  {
   "cell_type": "code",
   "execution_count": null,
   "source": [
    "df.dropna(inplace=True)"
   ],
   "outputs": [],
   "metadata": {}
  },
  {
   "cell_type": "markdown",
   "source": [
    "Check that all null values have been dropped:"
   ],
   "metadata": {}
  },
  {
   "cell_type": "code",
   "execution_count": null,
   "source": [
    "df.isnull().sum(axis = 0)"
   ],
   "outputs": [],
   "metadata": {}
  },
  {
   "cell_type": "code",
   "execution_count": null,
   "source": [
    "df.info()"
   ],
   "outputs": [],
   "metadata": {}
  },
  {
   "cell_type": "code",
   "execution_count": null,
   "source": [
    "df.reset_index(inplace=True)"
   ],
   "outputs": [],
   "metadata": {}
  },
  {
   "cell_type": "markdown",
   "source": [
    "We dropped all rows with missing values\n",
    "- Maybe later on, we will want to refine this approach."
   ],
   "metadata": {}
  },
  {
   "cell_type": "code",
   "execution_count": null,
   "source": [
    " # We are looking for unique values in order to identify whether we have duplicates\n",
    "\n",
    "df['respondent_id'].nunique()"
   ],
   "outputs": [],
   "metadata": {}
  },
  {
   "cell_type": "markdown",
   "source": [
    "All values are unique, no duplicates. "
   ],
   "metadata": {}
  },
  {
   "cell_type": "markdown",
   "source": [
    "## EDA"
   ],
   "metadata": {}
  },
  {
   "cell_type": "code",
   "execution_count": null,
   "source": [
    "# checking for balance in data\n",
    "\n",
    "print(df.h1n1_vaccine.value_counts())\n",
    "print(df.seasonal_vaccine.value_counts())"
   ],
   "outputs": [],
   "metadata": {}
  },
  {
   "cell_type": "markdown",
   "source": [
    "23% vaccination rate for H1N1 and 52% vaccination rate for seasonal flu\n",
    "The H1N1 vaccine outcome appears to be unbalanced (almost 17k vs 5k) (read lit--what is considered unbalanced?)\n",
    "The seasonal vaccine outcome appears to be fairly balanced\n",
    "\n",
    "We may want to deal with the lack of balance later"
   ],
   "metadata": {}
  },
  {
   "cell_type": "code",
   "execution_count": null,
   "source": [
    "# Understanding observations and rows\n",
    "\n",
    "df.info()"
   ],
   "outputs": [],
   "metadata": {}
  },
  {
   "cell_type": "code",
   "execution_count": null,
   "source": [
    "#columns to drop because they're little use\n",
    "col_drop = ['index', 'respondent_id']\n",
    "\n",
    "df.drop(col_drop, axis=1, inplace=True)"
   ],
   "outputs": [],
   "metadata": {}
  },
  {
   "cell_type": "markdown",
   "source": [
    "- our target variables are h1n1_vaccine and seasonal_vaccine\n",
    "- at the moment we are working with 28 feature variables--all categorical (refer to challenge documentation for description; we will need to transfer this info to the README)\n",
    "- seven of the variables are strings--we will convert these to numeric encoding so we can look at correlations in Profiler\n",
    "household_adults and household_children are 'top-coded' up to 3--that means that household with 3+ adults (or children) will fall into the '3' group\n",
    "- 'hhs_geo_region' is an anonymised string\n",
    "- we should remember that the current column names (which would be used as labels in the graphs) are not really human-readable--we need to keep this in mind when we're making plots (either rename the columns beforehand, or include a plotting command to change the labels)"
   ],
   "metadata": {}
  },
  {
   "cell_type": "markdown",
   "source": [
    "24  age_group                    21853 non-null  object \n",
    " 25  education                    21853 non-null  object \n",
    " 26  race                         21853 non-null  object \n",
    " 27  sex                          21853 non-null  object \n",
    " 28  rent_or_own                  21853 non-null  object \n",
    " 29  hhs_geo_region               21853 non-null  object \n",
    " 30  census_msa                   21853 non-null  object "
   ],
   "metadata": {}
  },
  {
   "cell_type": "markdown",
   "source": [
    "24  age_group                    21853 non-null  object \n",
    " 25  education                    21853 non-null  object \n",
    " 26  race                         21853 non-null  object \n",
    " 27  sex                          21853 non-null  object \n",
    " 28  rent_or_own                  21853 non-null  object \n",
    " 29  hhs_geo_region               21853 non-null  object \n",
    " 30  census_msa                   21853 non-null  object "
   ],
   "metadata": {}
  },
  {
   "cell_type": "markdown",
   "source": [
    "Conversion of string variables to numeric (so these variables het displayed in Profiler properly) vie manual numeric encoding:"
   ],
   "metadata": {}
  },
  {
   "cell_type": "code",
   "execution_count": null,
   "source": [
    "#a separate dataframe is made for the Profiler; the original dataframe will be retained for one-hot encoding (so the column headings we get during one-hot encoding remain meaningful)\n",
    "df[\"age_group\"].value_counts()"
   ],
   "outputs": [],
   "metadata": {}
  },
  {
   "cell_type": "code",
   "execution_count": null,
   "source": [
    "df[\"education\"].value_counts()"
   ],
   "outputs": [],
   "metadata": {}
  },
  {
   "cell_type": "code",
   "execution_count": null,
   "source": [
    "df[\"race\"].value_counts()"
   ],
   "outputs": [],
   "metadata": {}
  },
  {
   "cell_type": "code",
   "execution_count": null,
   "source": [
    "df[\"sex\"].value_counts()"
   ],
   "outputs": [],
   "metadata": {}
  },
  {
   "cell_type": "code",
   "execution_count": null,
   "source": [
    "df[\"rent_or_own\"].value_counts()"
   ],
   "outputs": [],
   "metadata": {}
  },
  {
   "cell_type": "code",
   "execution_count": null,
   "source": [
    "df[\"hhs_geo_region\"].value_counts()"
   ],
   "outputs": [],
   "metadata": {}
  },
  {
   "cell_type": "code",
   "execution_count": null,
   "source": [
    "df[\"census_msa\"].value_counts()"
   ],
   "outputs": [],
   "metadata": {}
  },
  {
   "cell_type": "code",
   "execution_count": null,
   "source": [
    "cleanup = {\"age_group\": {\"18 - 34 Years\": 1, \"35 - 44 Years\": 2, \"45 - 54 Years\": 3, \"55 - 64 Years\": 4,\n",
    "                                  \"65+ Years\": 5},\n",
    "            \"education\": {\"< 12 Years\": 1, \"12 Years\": 2, \"Some College\": 3, \"College Graduate\": 4},\n",
    "            \"race\": {\"White\": 1, \"Black\": 2, \"Hispanic\": 3, \"Other or Multiple\": 4},\n",
    "            \"sex\" : {\"Female\": 1, \"Male\": 2},\n",
    "            \"rent_or_own\" : {\"Own\": 1, \"Rent\": 2},\n",
    "            \"hhs_geo_region\" : {\"lzgpxyit\": 1, \"fpwskwrf\": 2, \"qufhixun\": 3, \"bhuqouqj\": 4, \"oxchjgsf\": 5, \"kbazzjca\": 6, \"mlyzmhmf\": 7, \"atmpeygn\": 8, \"lrircsnp\": 9, \"dqpwygqj\": 10},\n",
    "            \"census_msa\" : {\"MSA, Not Principle  City\": 1, \"MSA, Principle City\": 2, \"Non-MSA\": 3}\n",
    "                                  }"
   ],
   "outputs": [],
   "metadata": {}
  },
  {
   "cell_type": "code",
   "execution_count": null,
   "source": [
    "df_for_profiler = df.replace(cleanup)\n",
    "df_for_profiler.head()"
   ],
   "outputs": [],
   "metadata": {}
  },
  {
   "cell_type": "markdown",
   "source": [
    "Run Profiler to explore the data:"
   ],
   "metadata": {}
  },
  {
   "cell_type": "code",
   "execution_count": null,
   "source": [
    "#import Profiler\n",
    "#before opening VS Code, run this command in the terminal: pip install pandas-profiling==2.11.0\n",
    "from pandas_profiling import ProfileReport"
   ],
   "outputs": [],
   "metadata": {}
  },
  {
   "cell_type": "code",
   "execution_count": null,
   "source": [
    "profile = ProfileReport(df_for_profiler, title=\"Pandas Profiling Report\", explorative=True)"
   ],
   "outputs": [],
   "metadata": {}
  },
  {
   "cell_type": "code",
   "execution_count": null,
   "source": [
    "#profile"
   ],
   "outputs": [],
   "metadata": {}
  },
  {
   "cell_type": "markdown",
   "source": [
    "**Possible multicollinearity (between features) based on heatmap:**\n",
    "- behavioral_large_gatherings vs behavioral_outside_home\n",
    "- doctor_recc_h1n1 vs doctor_recc_seasonal\n",
    "- opinion_h1n1_risk vs opinion_seas_risk\n",
    "- household_children vs age_group"
   ],
   "metadata": {}
  },
  {
   "cell_type": "markdown",
   "source": [
    "**Possible outliers and features to be aware of:**\n",
    "- behavioral_antiviral_meds : very unbalanced between categories; the people taking anviral meds could have something else going on (e.g. already sick, or worried about getting flu and taking meds profilactically)--be careful about this variable\n",
    "- behavioral_face_mask\n",
    "- behavioral_wash_hands\n",
    "-child_under_6_months\n",
    "- health_worker\n",
    "- opinion_h1n1_vacc_effective and opinion_seasonal_vacc_effective (1.0 group)\n",
    "- race (not many non-white respondents)\n",
    "- household_adults and household_children (3.0 groups pretty small)"
   ],
   "metadata": {}
  },
  {
   "cell_type": "markdown",
   "source": [
    "## Creating Pipelines"
   ],
   "metadata": {}
  },
  {
   "cell_type": "code",
   "execution_count": null,
   "source": [
    "# Pipeline for categorical features\n",
    "#CHECK HERE--ARE WE DROPPING THE FIRST COLUMN TO PREVENT MULTICOLINEARITY?\n",
    "cat_pipeline = Pipeline([\n",
    "    ('1hot', OneHotEncoder(handle_unknown='error', drop='first'))\n",
    "])"
   ],
   "outputs": [],
   "metadata": {}
  },
  {
   "cell_type": "code",
   "execution_count": null,
   "source": [
    "cat_features = list(df.columns)\n"
   ],
   "outputs": [],
   "metadata": {}
  },
  {
   "cell_type": "markdown",
   "source": [
    "Removal of target variables from cat_features list:"
   ],
   "metadata": {}
  },
  {
   "cell_type": "code",
   "execution_count": null,
   "source": [
    "cat_features.remove('h1n1_vaccine')"
   ],
   "outputs": [],
   "metadata": {}
  },
  {
   "cell_type": "code",
   "execution_count": null,
   "source": [
    "cat_features.remove('seasonal_vaccine')"
   ],
   "outputs": [],
   "metadata": {}
  },
  {
   "cell_type": "markdown",
   "source": [
    "Rename the features and target to 'X' and 'y', to make the test-train split easier:"
   ],
   "metadata": {}
  },
  {
   "cell_type": "code",
   "execution_count": null,
   "source": [
    "y = df[['h1n1_vaccine', 'seasonal_vaccine']].copy()"
   ],
   "outputs": [],
   "metadata": {}
  },
  {
   "cell_type": "code",
   "execution_count": null,
   "source": [
    "y = y.to_numpy()\n",
    "y"
   ],
   "outputs": [],
   "metadata": {}
  },
  {
   "cell_type": "code",
   "execution_count": null,
   "source": [
    "\n",
    "#NB: the H1N1 vaccine and seasonal vaccine are left in, otherwise the pipeline doesn't run properly\n",
    "#X = df\n",
    "\n",
    "#NB: dropping the 'h1n1_vaccine' and 'seasonal_vaccine' columns\n",
    "X = df.drop(columns=['h1n1_vaccine', 'seasonal_vaccine'])"
   ],
   "outputs": [],
   "metadata": {}
  },
  {
   "cell_type": "code",
   "execution_count": null,
   "source": [
    "preprocessor = ColumnTransformer([\n",
    "    ('cat', cat_pipeline, cat_features)\n",
    "])"
   ],
   "outputs": [],
   "metadata": {}
  },
  {
   "cell_type": "code",
   "execution_count": null,
   "source": [
    "estimators = MultiOutputClassifier(\n",
    "    estimator=LogisticRegression()#(penalty=\"l2\", C=1)\n",
    ")\n"
   ],
   "outputs": [],
   "metadata": {}
  },
  {
   "cell_type": "code",
   "execution_count": null,
   "source": [
    "full_pipeline = Pipeline([\n",
    "    (\"preprocessor\", preprocessor),\n",
    "    (\"estimators\", estimators),\n",
    "])"
   ],
   "outputs": [],
   "metadata": {}
  },
  {
   "cell_type": "code",
   "execution_count": null,
   "source": [
    "\n",
    "X_train, X_test, y_train, y_test = train_test_split(X, y, stratify = y, test_size=0.2, random_state=RSEED)"
   ],
   "outputs": [],
   "metadata": {}
  },
  {
   "cell_type": "code",
   "execution_count": null,
   "source": [
    "print('X_train shape:', X_train.shape)\n",
    "print('X_test shape:', X_test.shape)\n",
    "print('y_train shape:', y_train.shape)\n",
    "print('y_test shape:', y_test.shape)"
   ],
   "outputs": [],
   "metadata": {}
  },
  {
   "cell_type": "code",
   "execution_count": null,
   "source": [
    "full_pipeline.fit(X_train, y_train)\n",
    "\n"
   ],
   "outputs": [],
   "metadata": {}
  },
  {
   "cell_type": "code",
   "execution_count": null,
   "source": [
    "# Figure out later what this does and if we want to use it\n",
    "\n",
    "\n",
    "#y_train_predicted = cross_val_predict(full_pipeline, X_train, y_train, cv=5)"
   ],
   "outputs": [],
   "metadata": {}
  },
  {
   "cell_type": "code",
   "execution_count": null,
   "source": [
    "preds = full_pipeline.predict(X_test)\n"
   ],
   "outputs": [],
   "metadata": {}
  },
  {
   "cell_type": "markdown",
   "source": [
    "Model evaluation"
   ],
   "metadata": {}
  },
  {
   "cell_type": "code",
   "execution_count": null,
   "source": [
    "# Evaluation Metrices for H1N1 Vaccines\n",
    "print(\"Accuracy: {:.2f}\".format(accuracy_score(y_test[:, 0], preds[:, 0])))\n",
    "print(\"Recall: {:.2f}\".format(recall_score(y_test[:, 0], preds[:, 0])))\n",
    "print(\"Precision: {:.2f}\".format(precision_score(y_test[:, 0], preds[:, 0])))\n",
    "print(\"F1: {:.2f}\".format(f1_score(y_test[:, 0], preds[:, 0])))\n",
    "print(\"ROC: {:.2f}\".format(roc_auc_score(y_test[:, 0], preds[:, 0])))"
   ],
   "outputs": [],
   "metadata": {}
  },
  {
   "cell_type": "code",
   "execution_count": null,
   "source": [
    "# Evaluation Metrices for Seasonal Flu Vaccines\n",
    "print(\"train data: {:.2f}\".format(accuracy_score(y_test[:, 1], preds[:, 1])))\n",
    "print(\"Recall: {:.2f}\".format(recall_score(y_test[:, 1], preds[:, 1])))\n",
    "print(\"Precision: {:.2f}\".format(precision_score(y_test[:, 1], preds[:, 1])))\n",
    "print(\"F1: {:.2f}\".format(f1_score(y_test[:, 1], preds[:, 1])))\n",
    "print(\"ROC: {:.2f}\".format(roc_auc_score(y_test[:, 1], preds[:, 1])))"
   ],
   "outputs": [],
   "metadata": {}
  },
  {
   "cell_type": "code",
   "execution_count": null,
   "source": [
    "y_test[:, 0]"
   ],
   "outputs": [],
   "metadata": {}
  },
  {
   "cell_type": "code",
   "execution_count": null,
   "source": [
    "y_test"
   ],
   "outputs": [],
   "metadata": {}
  },
  {
   "cell_type": "markdown",
   "source": [
    "ROC is chosen for the following reasons:\n",
    "1. curve consideres both -ves and +ves \n",
    "2. AUC_score tells how well model distinquishes between -ves and +ves \n",
    "3. Both outcomes are valuable because there is nor preference for either\n",
    "4. For further reading https://developers.google.com/machine-learning/crash-course/classification/roc-and-auc\n",
    "\n",
    "\n",
    "The goal for the AUC_score is pegged at 0.8 based of the challenge data and the \n",
    "benchmarks reached i the competition https://www.researchgate.net/post/What-is-the-value-of-the-area-under-the-roc-curve-AUC-to-conclude-that-a-classifier-is-excellent"
   ],
   "metadata": {}
  },
  {
   "cell_type": "markdown",
   "source": [
    "## BASELINE MODEL RESULTS"
   ],
   "metadata": {}
  },
  {
   "cell_type": "code",
   "execution_count": null,
   "source": [
    "dummy_classifier = DummyClassifier()\n",
    "dummy_classifier.fit(X_train, y_train)\n"
   ],
   "outputs": [],
   "metadata": {}
  },
  {
   "cell_type": "code",
   "execution_count": null,
   "source": [
    "dummy_train_pred = dummy_classifier.predict(X_train)\n",
    "dummy_test_pred = dummy_classifier.predict(X_test)"
   ],
   "outputs": [],
   "metadata": {}
  },
  {
   "cell_type": "code",
   "execution_count": null,
   "source": [
    "print(\"ROC: {:.2f}\".format(roc_auc_score(y_test[:, 0], dummy_test_pred[:, 0])))\n",
    "print(\"ROC: {:.2f}\".format(roc_auc_score(y_test[:, 1], dummy_test_pred[:, 1])))"
   ],
   "outputs": [],
   "metadata": {}
  },
  {
   "cell_type": "markdown",
   "source": [
    "# Single Label Modelling"
   ],
   "metadata": {}
  },
  {
   "cell_type": "code",
   "execution_count": null,
   "source": [
    "# pipeline for the single label\n",
    "\n",
    "full_pipeline_1 = Pipeline([\n",
    "    (\"preprocessor\", preprocessor),\n",
    "    (\"estimators\", LogisticRegression()),\n",
    "    \n",
    "])"
   ],
   "outputs": [],
   "metadata": {}
  },
  {
   "cell_type": "markdown",
   "source": [
    "## Predicting h1n1_vaccine  with Seasonal Flu Vaccine not in features"
   ],
   "metadata": {}
  },
  {
   "cell_type": "code",
   "execution_count": null,
   "source": [
    "y = df['h1n1_vaccine'].copy() # for h1n1_vaccine only"
   ],
   "outputs": [],
   "metadata": {}
  },
  {
   "cell_type": "code",
   "execution_count": null,
   "source": [
    "y = y.to_numpy()\n",
    "y"
   ],
   "outputs": [],
   "metadata": {}
  },
  {
   "cell_type": "code",
   "execution_count": null,
   "source": [
    "#NB: the H1N1 vaccine and seasonal vaccine are left in, otherwise the pipeline doesn't run properly\n",
    "#X = df\n",
    "\n",
    "#NB: dropping the 'h1n1_vaccine' and 'seasonal_vaccine' columns\n",
    "#X = df.drop(columns=['seasonal_vaccine'])\n"
   ],
   "outputs": [],
   "metadata": {}
  },
  {
   "cell_type": "code",
   "execution_count": null,
   "source": [
    "X_train, X_test, y_train, y_test = train_test_split(X, y, stratify = y, test_size=0.2, random_state=RSEED) # split for h1n1_vaccine"
   ],
   "outputs": [],
   "metadata": {}
  },
  {
   "cell_type": "code",
   "execution_count": null,
   "source": [
    "full_pipeline_1.fit(X_train, y_train)"
   ],
   "outputs": [],
   "metadata": {}
  },
  {
   "cell_type": "code",
   "execution_count": null,
   "source": [
    "preds = full_pipeline_1.predict(X_test)"
   ],
   "outputs": [],
   "metadata": {}
  },
  {
   "cell_type": "code",
   "execution_count": null,
   "source": [
    "# Evaluation Metrices for H1N1 Vaccines\n",
    "print(\"Accuracy: {:.2f}\".format(accuracy_score(y_test, preds)))\n",
    "print(\"Recall: {:.2f}\".format(recall_score(y_test, preds)))\n",
    "print(\"Precision: {:.2f}\".format(precision_score(y_test, preds)))\n",
    "print(\"F1: {:.2f}\".format(f1_score(y_test, preds)))\n",
    "print(\"ROC: {:.2f}\".format(roc_auc_score(y_test, preds)))"
   ],
   "outputs": [],
   "metadata": {}
  },
  {
   "cell_type": "markdown",
   "source": [
    "## Predicting Seasonal Flu Vaccine with h1n1_vaccine not in features"
   ],
   "metadata": {}
  },
  {
   "cell_type": "code",
   "execution_count": null,
   "source": [
    "y = df['seasonal_vaccine'].copy() # for seasonal_vaccine only"
   ],
   "outputs": [],
   "metadata": {}
  },
  {
   "cell_type": "code",
   "execution_count": null,
   "source": [
    "y = y.to_numpy()\n",
    "y"
   ],
   "outputs": [],
   "metadata": {}
  },
  {
   "cell_type": "code",
   "execution_count": null,
   "source": [
    "X_train, X_test, y_train, y_test = train_test_split(X, y, stratify = y, test_size=0.2, random_state=RSEED) # split for seasonal_vaccine"
   ],
   "outputs": [],
   "metadata": {}
  },
  {
   "cell_type": "code",
   "execution_count": null,
   "source": [
    "full_pipeline_1.fit(X_train, y_train)"
   ],
   "outputs": [],
   "metadata": {}
  },
  {
   "cell_type": "code",
   "execution_count": null,
   "source": [
    "preds = full_pipeline_1.predict(X_test)"
   ],
   "outputs": [],
   "metadata": {}
  },
  {
   "cell_type": "code",
   "execution_count": null,
   "source": [
    "# Evaluation Metrices for H1N1 Vaccines\n",
    "print(\"Accuracy: {:.2f}\".format(accuracy_score(y_test, preds)))\n",
    "print(\"Recall: {:.2f}\".format(recall_score(y_test, preds)))\n",
    "print(\"Precision: {:.2f}\".format(precision_score(y_test, preds)))\n",
    "print(\"F1: {:.2f}\".format(f1_score(y_test, preds)))\n",
    "print(\"ROC: {:.2f}\".format(roc_auc_score(y_test, preds)))"
   ],
   "outputs": [],
   "metadata": {}
  },
  {
   "cell_type": "markdown",
   "source": [
    "## Predicting Seasonal Flu Vaccine with h1n1_vaccine in features"
   ],
   "metadata": {}
  },
  {
   "cell_type": "code",
   "execution_count": null,
   "source": [
    "cat_features_new = list(df.columns)"
   ],
   "outputs": [],
   "metadata": {}
  },
  {
   "cell_type": "code",
   "execution_count": null,
   "source": [
    "cat_features_new.remove('seasonal_vaccine')"
   ],
   "outputs": [],
   "metadata": {}
  },
  {
   "cell_type": "code",
   "execution_count": null,
   "source": [
    "#NB: dropping the 'h1n1_vaccine' and 'seasonal_vaccine' columns\n",
    "X = df.drop(columns=['seasonal_vaccine'])"
   ],
   "outputs": [],
   "metadata": {}
  },
  {
   "cell_type": "code",
   "execution_count": null,
   "source": [
    "y = df['seasonal_vaccine'].copy()\n",
    "y"
   ],
   "outputs": [],
   "metadata": {}
  },
  {
   "cell_type": "code",
   "execution_count": null,
   "source": [
    "y = y.to_numpy()\n",
    "y"
   ],
   "outputs": [],
   "metadata": {}
  },
  {
   "cell_type": "code",
   "execution_count": null,
   "source": [
    "preprocessor = ColumnTransformer([\n",
    "    ('cat', cat_pipeline, cat_features_new)\n",
    "])"
   ],
   "outputs": [],
   "metadata": {}
  },
  {
   "cell_type": "code",
   "execution_count": null,
   "source": [
    "full_pipeline_1 = Pipeline([\n",
    "    (\"preprocessor\", preprocessor),\n",
    "    (\"estimators\", LogisticRegression()),\n",
    "    \n",
    "])"
   ],
   "outputs": [],
   "metadata": {}
  },
  {
   "cell_type": "code",
   "execution_count": null,
   "source": [
    "X_train, X_test, y_train, y_test = train_test_split(X, y, stratify = y, test_size=0.2, random_state=RSEED) # split for Seasonal_vaccine"
   ],
   "outputs": [],
   "metadata": {}
  },
  {
   "cell_type": "code",
   "execution_count": null,
   "source": [
    "full_pipeline_1.fit(X_train, y_train)"
   ],
   "outputs": [],
   "metadata": {}
  },
  {
   "cell_type": "code",
   "execution_count": null,
   "source": [
    "preds = full_pipeline_1.predict(X_test)"
   ],
   "outputs": [],
   "metadata": {}
  },
  {
   "cell_type": "code",
   "execution_count": null,
   "source": [
    "# Evaluation Metrices for Seasonal Vaccines\n",
    "print(\"Accuracy: {:.2f}\".format(accuracy_score(y_test, preds)))\n",
    "print(\"Recall: {:.2f}\".format(recall_score(y_test, preds)))\n",
    "print(\"Precision: {:.2f}\".format(precision_score(y_test, preds)))\n",
    "print(\"F1: {:.2f}\".format(f1_score(y_test, preds)))\n",
    "print(\"ROC: {:.2f}\".format(roc_auc_score(y_test, preds)))"
   ],
   "outputs": [],
   "metadata": {}
  },
  {
   "cell_type": "markdown",
   "source": [
    "## Predicting h1n1_vaccine with Seasonal Flu Vaccine  in features"
   ],
   "metadata": {}
  },
  {
   "cell_type": "code",
   "execution_count": null,
   "source": [
    "cat_features_new = list(df.columns)\n"
   ],
   "outputs": [],
   "metadata": {}
  },
  {
   "cell_type": "code",
   "execution_count": null,
   "source": [
    "cat_features_new.remove('h1n1_vaccine')"
   ],
   "outputs": [],
   "metadata": {}
  },
  {
   "cell_type": "code",
   "execution_count": null,
   "source": [
    "#NB: dropping the 'h1n1_vaccine' and 'seasonal_vaccine' columns\n",
    "X = df.drop(columns=['h1n1_vaccine'])"
   ],
   "outputs": [],
   "metadata": {}
  },
  {
   "cell_type": "code",
   "execution_count": null,
   "source": [
    "y = df['h1n1_vaccine'].copy()\n",
    "y"
   ],
   "outputs": [],
   "metadata": {}
  },
  {
   "cell_type": "code",
   "execution_count": null,
   "source": [
    "preprocessor = ColumnTransformer([\n",
    "    ('cat', cat_pipeline, cat_features_new)\n",
    "])"
   ],
   "outputs": [],
   "metadata": {}
  },
  {
   "cell_type": "code",
   "execution_count": null,
   "source": [
    "full_pipeline_1 = Pipeline([\n",
    "    (\"preprocessor\", preprocessor),\n",
    "    (\"estimators\", LogisticRegression()),\n",
    "    \n",
    "])"
   ],
   "outputs": [],
   "metadata": {}
  },
  {
   "cell_type": "code",
   "execution_count": null,
   "source": [
    "X_train, X_test, y_train, y_test = train_test_split(X, y, stratify = y, test_size=0.2, random_state=RSEED) # split for H1N1_vaccine"
   ],
   "outputs": [],
   "metadata": {}
  },
  {
   "cell_type": "code",
   "execution_count": null,
   "source": [
    "full_pipeline_1.fit(X_train, y_train)"
   ],
   "outputs": [],
   "metadata": {}
  },
  {
   "cell_type": "code",
   "execution_count": null,
   "source": [
    "preds = full_pipeline_1.predict(X_test)"
   ],
   "outputs": [],
   "metadata": {}
  },
  {
   "cell_type": "code",
   "execution_count": null,
   "source": [
    "# Evaluation Metrices for H1N1 Vaccines\n",
    "print(\"Accuracy: {:.2f}\".format(accuracy_score(y_test, preds)))\n",
    "print(\"Recall: {:.2f}\".format(recall_score(y_test, preds)))\n",
    "print(\"Precision: {:.2f}\".format(precision_score(y_test, preds)))\n",
    "print(\"F1: {:.2f}\".format(f1_score(y_test, preds)))\n",
    "print(\"ROC: {:.2f}\".format(roc_auc_score(y_test, preds)))"
   ],
   "outputs": [],
   "metadata": {}
  },
  {
   "cell_type": "code",
   "execution_count": null,
   "source": [],
   "outputs": [],
   "metadata": {}
  },
  {
   "cell_type": "code",
   "execution_count": null,
   "source": [],
   "outputs": [],
   "metadata": {}
  },
  {
   "cell_type": "code",
   "execution_count": null,
   "source": [],
   "outputs": [],
   "metadata": {}
  },
  {
   "cell_type": "markdown",
   "source": [
    "# Modelling Algorithms"
   ],
   "metadata": {}
  },
  {
   "cell_type": "markdown",
   "source": [
    "In addition to Logistic regression, we are trying four different models to compare performance in terms of predicting the Vaccine Intake:\n",
    "\n",
    "- K nearest neighbours\n",
    "- Random Forest\n",
    "- Support Vector Machine\n",
    "- Naive Bayes"
   ],
   "metadata": {}
  },
  {
   "cell_type": "markdown",
   "source": [
    "Instantiate the models:"
   ],
   "metadata": {}
  },
  {
   "cell_type": "code",
   "execution_count": null,
   "source": [
    "knn_model = KNeighborsClassifier()\n",
    "rand_forst_model = RandomForestClassifier()\n",
    "svm_model = svm.SVC(kernel='rbf') \n",
    "#svm_model = svm.SVC(kernel='linear', C=1E10) \n",
    "\n"
   ],
   "outputs": [],
   "metadata": {}
  },
  {
   "cell_type": "markdown",
   "source": [
    "Create Pipeline for each:"
   ],
   "metadata": {}
  },
  {
   "cell_type": "code",
   "execution_count": null,
   "source": [
    "# for KNN\n",
    "estimators_knn= MultiOutputClassifier(\n",
    "    estimator=knn_model\n",
    ")\n",
    "\n",
    "# for Random Forest\n",
    "estimators_rand_forst= MultiOutputClassifier(\n",
    "    estimator=rand_forst_model\n",
    ")\n",
    "\n",
    "\n",
    "# for SVM\n",
    "\n",
    "estimators_SVC= MultiOutputClassifier(\n",
    "    estimator=svm_model\n",
    ")\n",
    "\n"
   ],
   "outputs": [],
   "metadata": {}
  },
  {
   "cell_type": "code",
   "execution_count": null,
   "source": [
    "cat_features = list(df.columns)\n",
    "cat_features.remove('h1n1_vaccine')\n",
    "cat_features.remove('seasonal_vaccine')\n",
    "#cat_features"
   ],
   "outputs": [],
   "metadata": {}
  },
  {
   "cell_type": "code",
   "execution_count": null,
   "source": [
    "preprocessor = ColumnTransformer([\n",
    "    ('cat', cat_pipeline, cat_features)\n",
    "])"
   ],
   "outputs": [],
   "metadata": {}
  },
  {
   "cell_type": "code",
   "execution_count": null,
   "source": [
    "# for KNN\n",
    "full_pipeline_knn = Pipeline([\n",
    "    (\"preprocessor\", preprocessor),\n",
    "    (\"estimators\", estimators_knn),\n",
    "])\n",
    "\n",
    "# for Random Forest\n",
    "\n",
    "full_pipeline_rand_forst= Pipeline([\n",
    "    (\"preprocessor\", preprocessor),\n",
    "    (\"estimators\", estimators_rand_forst),\n",
    "])\n",
    "\n",
    "#for SVM\n",
    "\n",
    "full_pipeline_SVM= Pipeline([\n",
    "    (\"preprocessor\", preprocessor),\n",
    "    (\"estimators\", estimators_SVC),\n",
    "])"
   ],
   "outputs": [],
   "metadata": {}
  },
  {
   "cell_type": "code",
   "execution_count": null,
   "source": [
    "y = df[['h1n1_vaccine', 'seasonal_vaccine']].copy()\n",
    "y"
   ],
   "outputs": [],
   "metadata": {}
  },
  {
   "cell_type": "code",
   "execution_count": null,
   "source": [
    "y = y.to_numpy()\n",
    "y\n"
   ],
   "outputs": [],
   "metadata": {}
  },
  {
   "cell_type": "code",
   "execution_count": null,
   "source": [
    "#NB: dropping the 'h1n1_vaccine' and 'seasonal_vaccine' columns\n",
    "X = df.drop(columns=['h1n1_vaccine', 'seasonal_vaccine'])"
   ],
   "outputs": [],
   "metadata": {}
  },
  {
   "cell_type": "code",
   "execution_count": null,
   "source": [
    "X_train, X_test, y_train, y_test = train_test_split(X, y, stratify = y, test_size=0.2, random_state=RSEED)"
   ],
   "outputs": [],
   "metadata": {}
  },
  {
   "cell_type": "markdown",
   "source": [
    "Fit the data:"
   ],
   "metadata": {}
  },
  {
   "cell_type": "code",
   "execution_count": null,
   "source": [
    "full_pipeline_SVM.fit(X_train, y_train)\n",
    "full_pipeline_knn.fit(X_train, y_train)\n",
    "full_pipeline_rand_forst.fit(X_train, y_train)"
   ],
   "outputs": [],
   "metadata": {}
  },
  {
   "cell_type": "markdown",
   "source": [
    "Get predictions:"
   ],
   "metadata": {}
  },
  {
   "cell_type": "code",
   "execution_count": null,
   "source": [
    "#KNN\n",
    "knn_train_pred = full_pipeline_knn.predict(X_train)\n",
    "knn_test_pred = full_pipeline_knn.predict(X_test)\n"
   ],
   "outputs": [],
   "metadata": {}
  },
  {
   "cell_type": "code",
   "execution_count": null,
   "source": [
    "#Random forest\n",
    "\n",
    "rand_forst_train_pred = full_pipeline_rand_forst.predict(X_train)\n",
    "rand_forst_test_pred = full_pipeline_rand_forst.predict(X_test)"
   ],
   "outputs": [],
   "metadata": {}
  },
  {
   "cell_type": "code",
   "execution_count": null,
   "source": [
    "#SVM\n",
    "svm_train_pred = full_pipeline_SVM.predict(X_train)\n",
    "svm_test_pred = full_pipeline_SVM.predict(X_test)\n"
   ],
   "outputs": [],
   "metadata": {}
  },
  {
   "cell_type": "markdown",
   "source": [
    "### Evaluating model performance for Multilabel"
   ],
   "metadata": {}
  },
  {
   "cell_type": "markdown",
   "source": [
    "KNN:"
   ],
   "metadata": {}
  },
  {
   "cell_type": "code",
   "execution_count": null,
   "source": [
    "# Evaluation Metrices for H1N1 Vaccines\n",
    "print(\"Accuracy: {:.2f}\".format(accuracy_score(y_test[:, 0], knn_test_pred[:, 0])))\n",
    "print(\"Recall: {:.2f}\".format(recall_score(y_test[:, 0], knn_test_pred[:, 0])))\n",
    "print(\"Precision: {:.2f}\".format(precision_score(y_test[:, 0], knn_test_pred[:, 0])))\n",
    "print(\"F1: {:.2f}\".format(f1_score(y_test[:, 0], knn_test_pred[:, 0])))\n",
    "print(\"ROC: {:.2f}\".format(roc_auc_score(y_test[:, 0], knn_test_pred[:, 0])))"
   ],
   "outputs": [],
   "metadata": {}
  },
  {
   "cell_type": "code",
   "execution_count": null,
   "source": [
    "# Evaluation Metrices for Seasonal Flu Vaccines\n",
    "print(\"Accuracy: {:.2f}\".format(accuracy_score(y_test[:, 1], knn_test_pred[:, 1])))\n",
    "print(\"Recall: {:.2f}\".format(recall_score(y_test[:, 1], knn_test_pred[:, 1])))\n",
    "print(\"Precision: {:.2f}\".format(precision_score(y_test[:, 1], knn_test_pred[:, 1])))\n",
    "print(\"F1: {:.2f}\".format(f1_score(y_test[:, 1], knn_test_pred[:, 1])))\n",
    "print(\"ROC: {:.2f}\".format(roc_auc_score(y_test[:, 1], knn_test_pred[:, 1])))"
   ],
   "outputs": [],
   "metadata": {}
  },
  {
   "cell_type": "markdown",
   "source": [
    "Random Forest:"
   ],
   "metadata": {}
  },
  {
   "cell_type": "code",
   "execution_count": null,
   "source": [
    "# Evaluation Metrices for H1N1 Vaccines\n",
    "print(\"Accuracy: {:.2f}\".format(accuracy_score(y_test[:, 0], rand_forst_test_pred[:, 0])))\n",
    "print(\"Recall: {:.2f}\".format(recall_score(y_test[:, 0], rand_forst_test_pred[:, 0])))\n",
    "print(\"Precision: {:.2f}\".format(precision_score(y_test[:, 0], rand_forst_test_pred[:, 0])))\n",
    "print(\"F1: {:.2f}\".format(f1_score(y_test[:, 0], rand_forst_test_pred[:, 0])))\n",
    "print(\"ROC: {:.2f}\".format(roc_auc_score(y_test[:, 0], rand_forst_test_pred[:, 0])))"
   ],
   "outputs": [],
   "metadata": {}
  },
  {
   "cell_type": "code",
   "execution_count": null,
   "source": [
    "# Evaluation Metrices for Seasonal Flu Vaccines\n",
    "print(\"Accuracy: {:.2f}\".format(accuracy_score(y_test[:, 1], rand_forst_test_pred[:, 1])))\n",
    "print(\"Recall: {:.2f}\".format(recall_score(y_test[:, 1], rand_forst_test_pred[:, 1])))\n",
    "print(\"Precision: {:.2f}\".format(precision_score(y_test[:, 1], rand_forst_test_pred[:, 1])))\n",
    "print(\"F1: {:.2f}\".format(f1_score(y_test[:, 1], rand_forst_test_pred[:, 1])))\n",
    "print(\"ROC: {:.2f}\".format(roc_auc_score(y_test[:, 1], rand_forst_test_pred[:, 1])))"
   ],
   "outputs": [],
   "metadata": {}
  },
  {
   "cell_type": "markdown",
   "source": [
    "Support Vector Machine:"
   ],
   "metadata": {}
  },
  {
   "cell_type": "code",
   "execution_count": null,
   "source": [
    "# Evaluation Metrices for H1N1 Vaccines\n",
    "print(\"Accuracy: {:.2f}\".format(accuracy_score(y_test[:, 0], svm_test_pred[:, 0])))\n",
    "print(\"Recall: {:.2f}\".format(recall_score(y_test[:, 0], svm_test_pred[:, 0])))\n",
    "print(\"Precision: {:.2f}\".format(precision_score(y_test[:, 0], svm_test_pred[:, 0])))\n",
    "print(\"F1: {:.2f}\".format(f1_score(y_test[:, 0], svm_test_pred[:, 0])))\n",
    "print(\"ROC: {:.2f}\".format(roc_auc_score(y_test[:, 0], svm_test_pred[:, 0])))"
   ],
   "outputs": [],
   "metadata": {}
  },
  {
   "cell_type": "code",
   "execution_count": null,
   "source": [
    "# Evaluation Metrices for Seasonal Flu Vaccines\n",
    "print(\"Accuracy: {:.2f}\".format(accuracy_score(y_test[:, 1], svm_test_pred[:, 1])))\n",
    "print(\"Recall: {:.2f}\".format(recall_score(y_test[:, 1], svm_test_pred[:, 1])))\n",
    "print(\"Precision: {:.2f}\".format(precision_score(y_test[:, 1], svm_test_pred[:, 1])))\n",
    "print(\"F1: {:.2f}\".format(f1_score(y_test[:, 1], svm_test_pred[:, 1])))\n",
    "print(\"ROC: {:.2f}\".format(roc_auc_score(y_test[:, 1], svm_test_pred[:, 1])))"
   ],
   "outputs": [],
   "metadata": {}
  },
  {
   "cell_type": "markdown",
   "source": [
    "# Single Label Modelling of the four other algorithms"
   ],
   "metadata": {}
  },
  {
   "cell_type": "markdown",
   "source": [
    "## Predicting h1n1_vaccine  with Seasonal Flu Vaccine not in features"
   ],
   "metadata": {}
  },
  {
   "cell_type": "code",
   "execution_count": null,
   "source": [
    "y = df['h1n1_vaccine'].copy() # for h1n1_vaccine only\n",
    "y = y.to_numpy()\n",
    "y"
   ],
   "outputs": [],
   "metadata": {}
  },
  {
   "cell_type": "code",
   "execution_count": null,
   "source": [
    "X_train, X_test, y_train, y_test = train_test_split(X, y, stratify = y, test_size=0.2, random_state=RSEED) # split for h1n1_vaccine"
   ],
   "outputs": [],
   "metadata": {}
  },
  {
   "cell_type": "markdown",
   "source": [
    "### Pipeline for the single label"
   ],
   "metadata": {}
  },
  {
   "cell_type": "code",
   "execution_count": null,
   "source": [
    "# for KNN\n",
    "full_pipeline_knn = Pipeline([\n",
    "    (\"preprocessor\", preprocessor),\n",
    "    (\"estimators\", knn_model),\n",
    "])\n",
    "\n",
    "# for Random Forest\n",
    "\n",
    "full_pipeline_rand_forst= Pipeline([\n",
    "    (\"preprocessor\", preprocessor),\n",
    "    (\"estimators\", rand_forst_model),\n",
    "    ])\n",
    "\n",
    "# for SVM\n",
    "\n",
    "full_pipeline_svm= Pipeline([\n",
    "    (\"preprocessor\", preprocessor),\n",
    "    (\"estimators\", svm_model),\n",
    "    ]) \n",
    "    "
   ],
   "outputs": [],
   "metadata": {}
  },
  {
   "cell_type": "code",
   "execution_count": null,
   "source": [
    "full_pipeline_svm.fit(X_train, y_train)\n",
    "full_pipeline_knn.fit(X_train, y_train)\n",
    "full_pipeline_rand_forst.fit(X_train, y_train)"
   ],
   "outputs": [],
   "metadata": {}
  },
  {
   "cell_type": "code",
   "execution_count": null,
   "source": [
    "#KNN\n",
    "knn_train_pred = full_pipeline_knn.predict(X_train)\n",
    "knn_test_pred = full_pipeline_knn.predict(X_test)"
   ],
   "outputs": [],
   "metadata": {}
  },
  {
   "cell_type": "code",
   "execution_count": null,
   "source": [
    "#Random forest\n",
    "\n",
    "rand_forst_train_pred = full_pipeline_rand_forst.predict(X_train)\n",
    "rand_forst_test_pred = full_pipeline_rand_forst.predict(X_test)"
   ],
   "outputs": [],
   "metadata": {}
  },
  {
   "cell_type": "code",
   "execution_count": null,
   "source": [
    "#SVM\n",
    "\n",
    "SVM_train_pred = full_pipeline_svm.predict(X_train)\n",
    "SVM_forst_test_pred = full_pipeline_svm.predict(X_test)"
   ],
   "outputs": [],
   "metadata": {}
  },
  {
   "cell_type": "markdown",
   "source": [
    "### Evaluating model performance for Multilabel"
   ],
   "metadata": {}
  },
  {
   "cell_type": "markdown",
   "source": [
    "KNN:"
   ],
   "metadata": {}
  },
  {
   "cell_type": "code",
   "execution_count": null,
   "source": [
    "# Evaluation Metrices for H1N1 Vaccines\n",
    "print(\"Accuracy: {:.2f}\".format(accuracy_score(y_test, knn_test_pred)))\n",
    "print(\"Recall: {:.2f}\".format(recall_score(y_test, knn_test_pred)))\n",
    "print(\"Precision: {:.2f}\".format(precision_score(y_test, knn_test_pred)))\n",
    "print(\"F1: {:.2f}\".format(f1_score(y_test, knn_test_pred)))\n",
    "print(\"ROC: {:.2f}\".format(roc_auc_score(y_test, knn_test_pred)))"
   ],
   "outputs": [],
   "metadata": {}
  },
  {
   "cell_type": "markdown",
   "source": [
    "Random Forest:"
   ],
   "metadata": {}
  },
  {
   "cell_type": "code",
   "execution_count": null,
   "source": [
    "# Evaluation Metrices for H1N1 Vaccines\n",
    "print(\"Accuracy: {:.2f}\".format(accuracy_score(y_test, rand_forst_test_pred)))\n",
    "print(\"Recall: {:.2f}\".format(recall_score(y_test, rand_forst_test_pred)))\n",
    "print(\"Precision: {:.2f}\".format(precision_score(y_test, rand_forst_test_pred)))\n",
    "print(\"F1: {:.2f}\".format(f1_score(y_test, rand_forst_test_pred)))\n",
    "print(\"ROC: {:.2f}\".format(roc_auc_score(y_test, rand_forst_test_pred)))"
   ],
   "outputs": [],
   "metadata": {}
  },
  {
   "cell_type": "markdown",
   "source": [
    "SVM:"
   ],
   "metadata": {}
  },
  {
   "cell_type": "code",
   "execution_count": null,
   "source": [
    "# Evaluation Metrices for H1N1 Vaccines\n",
    "print(\"Accuracy: {:.2f}\".format(accuracy_score(y_test, SVM_forst_test_pred)))\n",
    "print(\"Recall: {:.2f}\".format(recall_score(y_test, SVM_forst_test_pred)))\n",
    "print(\"Precision: {:.2f}\".format(precision_score(y_test, SVM_forst_test_pred)))\n",
    "print(\"F1: {:.2f}\".format(f1_score(y_test, SVM_forst_test_pred)))\n",
    "print(\"ROC: {:.2f}\".format(roc_auc_score(y_test, SVM_forst_test_pred)))"
   ],
   "outputs": [],
   "metadata": {}
  },
  {
   "cell_type": "markdown",
   "source": [
    "## Predicting Seasonal Flu Vaccine with h1n1_vaccine not in features"
   ],
   "metadata": {}
  },
  {
   "cell_type": "code",
   "execution_count": null,
   "source": [
    "y = df['seasonal_vaccine'].copy() # seasonal_vaccine only\n",
    "y = y.to_numpy()\n",
    "y"
   ],
   "outputs": [],
   "metadata": {}
  },
  {
   "cell_type": "code",
   "execution_count": null,
   "source": [
    "X_train, X_test, y_train, y_test = train_test_split(X, y, stratify = y, test_size=0.2, random_state=RSEED) # split for seasonal_vaccine"
   ],
   "outputs": [],
   "metadata": {}
  },
  {
   "cell_type": "markdown",
   "source": [
    "### Fitting Pipeline for the single label "
   ],
   "metadata": {}
  },
  {
   "cell_type": "code",
   "execution_count": null,
   "source": [
    "full_pipeline_svm.fit(X_train, y_train)\n",
    "full_pipeline_knn.fit(X_train, y_train)\n",
    "full_pipeline_rand_forst.fit(X_train, y_train)"
   ],
   "outputs": [],
   "metadata": {}
  },
  {
   "cell_type": "code",
   "execution_count": null,
   "source": [
    "#KNN\n",
    "knn_train_pred = full_pipeline_knn.predict(X_train)\n",
    "knn_test_pred = full_pipeline_knn.predict(X_test)"
   ],
   "outputs": [],
   "metadata": {}
  },
  {
   "cell_type": "code",
   "execution_count": null,
   "source": [
    "#Random forest\n",
    "\n",
    "rand_forst_train_pred = full_pipeline_rand_forst.predict(X_train)\n",
    "rand_forst_test_pred = full_pipeline_rand_forst.predict(X_test)"
   ],
   "outputs": [],
   "metadata": {}
  },
  {
   "cell_type": "markdown",
   "source": [
    "SVM:"
   ],
   "metadata": {}
  },
  {
   "cell_type": "code",
   "execution_count": null,
   "source": [
    "#SVM\n",
    "SVM_train_pred = full_pipeline_svm.predict(X_train)\n",
    "SVM_forst_test_pred = full_pipeline_svm.predict(X_test)"
   ],
   "outputs": [],
   "metadata": {}
  },
  {
   "cell_type": "markdown",
   "source": [
    "KNN:"
   ],
   "metadata": {}
  },
  {
   "cell_type": "code",
   "execution_count": null,
   "source": [
    "# Evaluation Metrices for H1N1 Vaccines\n",
    "print(\"Accuracy: {:.2f}\".format(accuracy_score(y_test, knn_test_pred)))\n",
    "print(\"Recall: {:.2f}\".format(recall_score(y_test, knn_test_pred)))\n",
    "print(\"Precision: {:.2f}\".format(precision_score(y_test, knn_test_pred)))\n",
    "print(\"F1: {:.2f}\".format(f1_score(y_test, knn_test_pred)))\n",
    "print(\"ROC: {:.2f}\".format(roc_auc_score(y_test, knn_test_pred)))"
   ],
   "outputs": [],
   "metadata": {}
  },
  {
   "cell_type": "markdown",
   "source": [
    "Random Forest:"
   ],
   "metadata": {}
  },
  {
   "cell_type": "code",
   "execution_count": null,
   "source": [
    "# Evaluation Metrices for H1N1 Vaccines\n",
    "print(\"Accuracy: {:.2f}\".format(accuracy_score(y_test, rand_forst_test_pred)))\n",
    "print(\"Recall: {:.2f}\".format(recall_score(y_test, rand_forst_test_pred)))\n",
    "print(\"Precision: {:.2f}\".format(precision_score(y_test, rand_forst_test_pred)))\n",
    "print(\"F1: {:.2f}\".format(f1_score(y_test, rand_forst_test_pred)))\n",
    "print(\"ROC: {:.2f}\".format(roc_auc_score(y_test, rand_forst_test_pred)))"
   ],
   "outputs": [],
   "metadata": {}
  },
  {
   "cell_type": "markdown",
   "source": [
    "SVM:"
   ],
   "metadata": {}
  },
  {
   "cell_type": "code",
   "execution_count": null,
   "source": [
    "# Evaluation Metrices for H1N1 Vaccines\n",
    "print(\"Accuracy: {:.2f}\".format(accuracy_score(y_test, SVM_forst_test_pred)))\n",
    "print(\"Recall: {:.2f}\".format(recall_score(y_test, SVM_forst_test_pred)))\n",
    "print(\"Precision: {:.2f}\".format(precision_score(y_test, SVM_forst_test_pred)))\n",
    "print(\"F1: {:.2f}\".format(f1_score(y_test, SVM_forst_test_pred)))\n",
    "print(\"ROC: {:.2f}\".format(roc_auc_score(y_test, SVM_forst_test_pred)))"
   ],
   "outputs": [],
   "metadata": {}
  },
  {
   "cell_type": "markdown",
   "source": [
    "## Predicting h1n1_vaccine with Seasonal Flu Vaccine  in features"
   ],
   "metadata": {}
  },
  {
   "cell_type": "code",
   "execution_count": null,
   "source": [
    "y = df['h1n1_vaccine'].copy() # for h1n1_vaccine only\n",
    "y = y.to_numpy()\n",
    "y"
   ],
   "outputs": [],
   "metadata": {}
  },
  {
   "cell_type": "code",
   "execution_count": null,
   "source": [
    "cat_features = list(df.columns)\n",
    "cat_features.remove('h1n1_vaccine')\n",
    "\n",
    "#cat_features"
   ],
   "outputs": [],
   "metadata": {}
  },
  {
   "cell_type": "code",
   "execution_count": null,
   "source": [
    "#NB: dropping the 'h1n1_vaccine' column\n",
    "X = df.drop(columns=['h1n1_vaccine'])"
   ],
   "outputs": [],
   "metadata": {}
  },
  {
   "cell_type": "code",
   "execution_count": null,
   "source": [
    "X_train, X_test, y_train, y_test = train_test_split(X, y, stratify = y, test_size=0.2, random_state=RSEED)"
   ],
   "outputs": [],
   "metadata": {}
  },
  {
   "cell_type": "code",
   "execution_count": null,
   "source": [
    "preprocessor = ColumnTransformer([\n",
    "    ('cat', cat_pipeline, cat_features)\n",
    "])"
   ],
   "outputs": [],
   "metadata": {}
  },
  {
   "cell_type": "code",
   "execution_count": null,
   "source": [
    "# for KNN\n",
    "full_pipeline_knn = Pipeline([\n",
    "    (\"preprocessor\", preprocessor),\n",
    "    (\"estimators\", knn_model),\n",
    "])\n",
    "\n",
    "# for Random Forest\n",
    "\n",
    "full_pipeline_rand_forst= Pipeline([\n",
    "    (\"preprocessor\", preprocessor),\n",
    "    (\"estimators\", rand_forst_model),\n",
    "    ])\n",
    "\n",
    "    # for SVM\n",
    "\n",
    "full_pipeline_svm= Pipeline([\n",
    "    (\"preprocessor\", preprocessor),\n",
    "    (\"estimators\", svm_model),\n",
    "    ]) "
   ],
   "outputs": [],
   "metadata": {}
  },
  {
   "cell_type": "code",
   "execution_count": null,
   "source": [
    "full_pipeline_svm.fit(X_train, y_train)\n",
    "full_pipeline_knn.fit(X_train, y_train)\n",
    "full_pipeline_rand_forst.fit(X_train, y_train)"
   ],
   "outputs": [],
   "metadata": {}
  },
  {
   "cell_type": "code",
   "execution_count": null,
   "source": [
    "#KNN\n",
    "knn_train_pred = full_pipeline_knn.predict(X_train)\n",
    "knn_test_pred = full_pipeline_knn.predict(X_test)"
   ],
   "outputs": [],
   "metadata": {}
  },
  {
   "cell_type": "code",
   "execution_count": null,
   "source": [
    "#Random forest\n",
    "\n",
    "rand_forst_train_pred = full_pipeline_rand_forst.predict(X_train)\n",
    "rand_forst_test_pred = full_pipeline_rand_forst.predict(X_test)"
   ],
   "outputs": [],
   "metadata": {}
  },
  {
   "cell_type": "code",
   "execution_count": null,
   "source": [
    "#SVM\n",
    "\n",
    "SVM_train_pred = full_pipeline_svm.predict(X_train)\n",
    "SVM_test_pred = full_pipeline_svm.predict(X_test)"
   ],
   "outputs": [],
   "metadata": {}
  },
  {
   "cell_type": "markdown",
   "source": [
    "KNN:"
   ],
   "metadata": {}
  },
  {
   "cell_type": "code",
   "execution_count": null,
   "source": [
    "# Evaluation Metrices for H1N1 Vaccines\n",
    "print(\"Accuracy: {:.2f}\".format(accuracy_score(y_test, knn_test_pred)))\n",
    "print(\"Recall: {:.2f}\".format(recall_score(y_test, knn_test_pred)))\n",
    "print(\"Precision: {:.2f}\".format(precision_score(y_test, knn_test_pred)))\n",
    "print(\"F1: {:.2f}\".format(f1_score(y_test, knn_test_pred)))\n",
    "print(\"ROC: {:.2f}\".format(roc_auc_score(y_test, knn_test_pred)))"
   ],
   "outputs": [],
   "metadata": {}
  },
  {
   "cell_type": "markdown",
   "source": [
    "Random Forest:"
   ],
   "metadata": {}
  },
  {
   "cell_type": "code",
   "execution_count": null,
   "source": [
    "# Evaluation Metrices for H1N1 Vaccines\n",
    "print(\"Accuracy: {:.2f}\".format(accuracy_score(y_test, rand_forst_test_pred)))\n",
    "print(\"Recall: {:.2f}\".format(recall_score(y_test, rand_forst_test_pred)))\n",
    "print(\"Precision: {:.2f}\".format(precision_score(y_test, rand_forst_test_pred)))\n",
    "print(\"F1: {:.2f}\".format(f1_score(y_test, rand_forst_test_pred)))\n",
    "print(\"ROC: {:.2f}\".format(roc_auc_score(y_test, rand_forst_test_pred)))"
   ],
   "outputs": [],
   "metadata": {}
  },
  {
   "cell_type": "markdown",
   "source": [
    "SVM:"
   ],
   "metadata": {}
  },
  {
   "cell_type": "code",
   "execution_count": null,
   "source": [
    "# Evaluation Metrices for H1N1 Vaccines\n",
    "print(\"Accuracy: {:.2f}\".format(accuracy_score(y_test, SVM_test_pred)))\n",
    "print(\"Recall: {:.2f}\".format(recall_score(y_test, SVM_test_pred)))\n",
    "print(\"Precision: {:.2f}\".format(precision_score(y_test, SVM_test_pred)))\n",
    "print(\"F1: {:.2f}\".format(f1_score(y_test, SVM_test_pred)))\n",
    "print(\"ROC: {:.2f}\".format(roc_auc_score(y_test, SVM_test_pred)))"
   ],
   "outputs": [],
   "metadata": {}
  },
  {
   "cell_type": "markdown",
   "source": [
    "## Predicting Seasonal Flu Vaccine with h1n1_vaccine in features"
   ],
   "metadata": {}
  },
  {
   "cell_type": "code",
   "execution_count": null,
   "source": [
    "y = df['seasonal_vaccine'].copy() # seasonal_vaccine only\n",
    "y = y.to_numpy()\n",
    "y"
   ],
   "outputs": [],
   "metadata": {}
  },
  {
   "cell_type": "code",
   "execution_count": null,
   "source": [
    "cat_features = list(df.columns)\n",
    "\n",
    "cat_features.remove('seasonal_vaccine')\n",
    "#cat_features"
   ],
   "outputs": [],
   "metadata": {}
  },
  {
   "cell_type": "code",
   "execution_count": null,
   "source": [
    "#NB: dropping the 'seasonal_vaccine' column\n",
    "X = df.drop(columns=['seasonal_vaccine'])"
   ],
   "outputs": [],
   "metadata": {}
  },
  {
   "cell_type": "code",
   "execution_count": null,
   "source": [
    "X_train, X_test, y_train, y_test = train_test_split(X, y, stratify = y, test_size=0.2, random_state=RSEED)"
   ],
   "outputs": [],
   "metadata": {}
  },
  {
   "cell_type": "code",
   "execution_count": null,
   "source": [
    "preprocessor = ColumnTransformer([\n",
    "    ('cat', cat_pipeline, cat_features)\n",
    "])"
   ],
   "outputs": [],
   "metadata": {}
  },
  {
   "cell_type": "code",
   "execution_count": null,
   "source": [
    "# for KNN\n",
    "full_pipeline_knn = Pipeline([\n",
    "    (\"preprocessor\", preprocessor),\n",
    "    (\"estimators\", knn_model),\n",
    "])\n",
    "\n",
    "# for Random Forest\n",
    "\n",
    "full_pipeline_rand_forst= Pipeline([\n",
    "    (\"preprocessor\", preprocessor),\n",
    "    (\"estimators\", rand_forst_model),\n",
    "    ])\n",
    "\n",
    "#SVM\n",
    "\n",
    "full_pipeline_svm= Pipeline([\n",
    "    (\"preprocessor\", preprocessor),\n",
    "    (\"estimators\", svm_model),\n",
    "    ]) "
   ],
   "outputs": [],
   "metadata": {}
  },
  {
   "cell_type": "code",
   "execution_count": null,
   "source": [
    "full_pipeline_svm.fit(X_train, y_train)\n",
    "full_pipeline_knn.fit(X_train, y_train)\n",
    "full_pipeline_rand_forst.fit(X_train, y_train)"
   ],
   "outputs": [],
   "metadata": {}
  },
  {
   "cell_type": "code",
   "execution_count": null,
   "source": [
    "#KNN\n",
    "knn_train_pred = full_pipeline_knn.predict(X_train)\n",
    "knn_test_pred = full_pipeline_knn.predict(X_test)"
   ],
   "outputs": [],
   "metadata": {}
  },
  {
   "cell_type": "code",
   "execution_count": null,
   "source": [
    "#Random forest\n",
    "\n",
    "rand_forst_train_pred = full_pipeline_rand_forst.predict(X_train)\n",
    "rand_forst_test_pred = full_pipeline_rand_forst.predict(X_test)"
   ],
   "outputs": [],
   "metadata": {}
  },
  {
   "cell_type": "code",
   "execution_count": null,
   "source": [
    "#SVM\n",
    "\n",
    "SVM_train_pred = full_pipeline_svm.predict(X_train)\n",
    "SVM_test_pred = full_pipeline_svm.predict(X_test)"
   ],
   "outputs": [],
   "metadata": {}
  },
  {
   "cell_type": "code",
   "execution_count": null,
   "source": [
    "#full_pipeline_knn.fit(X_train, y_train)\n",
    "#full_pipeline_rand_forst.fit(X_train, y_train)\n",
    "#svm_model.fit(X_train, y_train)\n",
    "#model_pipeline.fit(train.data, train.target)"
   ],
   "outputs": [],
   "metadata": {}
  },
  {
   "cell_type": "markdown",
   "source": [
    "KNN:"
   ],
   "metadata": {}
  },
  {
   "cell_type": "code",
   "execution_count": null,
   "source": [
    "# Evaluation Metrices for H1N1 Vaccines\n",
    "print(\"Accuracy: {:.2f}\".format(accuracy_score(y_test, knn_test_pred)))\n",
    "print(\"Recall: {:.2f}\".format(recall_score(y_test, knn_test_pred)))\n",
    "print(\"Precision: {:.2f}\".format(precision_score(y_test, knn_test_pred)))\n",
    "print(\"F1: {:.2f}\".format(f1_score(y_test, knn_test_pred)))\n",
    "print(\"ROC: {:.2f}\".format(roc_auc_score(y_test, knn_test_pred)))"
   ],
   "outputs": [],
   "metadata": {}
  },
  {
   "cell_type": "markdown",
   "source": [
    "Random Forest:"
   ],
   "metadata": {}
  },
  {
   "cell_type": "code",
   "execution_count": null,
   "source": [
    "# Evaluation Metrices for H1N1 Vaccines\n",
    "print(\"Accuracy: {:.2f}\".format(accuracy_score(y_test, rand_forst_test_pred)))\n",
    "print(\"Recall: {:.2f}\".format(recall_score(y_test, rand_forst_test_pred)))\n",
    "print(\"Precision: {:.2f}\".format(precision_score(y_test, rand_forst_test_pred)))\n",
    "print(\"F1: {:.2f}\".format(f1_score(y_test, rand_forst_test_pred)))\n",
    "print(\"ROC: {:.2f}\".format(roc_auc_score(y_test, rand_forst_test_pred)))"
   ],
   "outputs": [],
   "metadata": {}
  },
  {
   "cell_type": "markdown",
   "source": [
    "SVM:"
   ],
   "metadata": {}
  },
  {
   "cell_type": "code",
   "execution_count": null,
   "source": [
    "# Evaluation Metrices for H1N1 Vaccines\n",
    "print(\"Accuracy: {:.2f}\".format(accuracy_score(y_test, SVM_test_pred)))\n",
    "print(\"Recall: {:.2f}\".format(recall_score(y_test, SVM_test_pred)))\n",
    "print(\"Precision: {:.2f}\".format(precision_score(y_test, SVM_test_pred)))\n",
    "print(\"F1: {:.2f}\".format(f1_score(y_test, SVM_test_pred)))\n",
    "print(\"ROC: {:.2f}\".format(roc_auc_score(y_test, SVM_test_pred)))"
   ],
   "outputs": [],
   "metadata": {}
  },
  {
   "cell_type": "markdown",
   "source": [],
   "metadata": {}
  },
  {
   "cell_type": "markdown",
   "source": [],
   "metadata": {}
  },
  {
   "cell_type": "markdown",
   "source": [
    "The dummy classifier predicts everything to belong to the same class and thus has no discriminatory ability (between negative and positive class). Therefore, the AUC of 0.5 is expected."
   ],
   "metadata": {}
  },
  {
   "cell_type": "markdown",
   "source": [
    "## FEATURE IMPORTANCE (STILL A WORK IN PROGRESS)"
   ],
   "metadata": {}
  },
  {
   "cell_type": "code",
   "execution_count": null,
   "source": [
    "from sklearn.feature_selection import RFE"
   ],
   "outputs": [],
   "metadata": {}
  },
  {
   "cell_type": "markdown",
   "source": [
    "### Trial with coef_ method from logistic regresion"
   ],
   "metadata": {}
  },
  {
   "cell_type": "code",
   "execution_count": null,
   "source": [
    "for clf in full_pipeline.steps[1][1].estimators_: #this part is necessary to go into the relevant step of the pipeline and get the logistic regression estimator\n",
    "    print(clf.coef_)\n",
    "\n",
    "      \n",
    "\n",
    "    #for i,v in enumerate(clf.coef_[0]):\n",
    "    #    print(i,v)\n",
    "#grid_fit.best_estimator_.feature_importances_})\n",
    "#print(feat_impts)\n",
    "#importance = np.mean(feat_impts, axis=0)\n",
    "\n",
    "#for i,v in enumerate(importance):\n",
    "#\tprint('Feature: %0d, Score: %.5f' % (i,v))"
   ],
   "outputs": [],
   "metadata": {}
  },
  {
   "cell_type": "markdown",
   "source": [
    "The output gives us coefficients for features, but without knowing what features these coefficients belong to, this output is quite meaningless"
   ],
   "metadata": {}
  },
  {
   "cell_type": "markdown",
   "source": [
    "### Feature importance extracted using ELI5  \n",
    "https://towardsdatascience.com/extracting-feature-importances-from-scikit-learn-pipelines-18c79b4ae09a"
   ],
   "metadata": {}
  },
  {
   "cell_type": "code",
   "execution_count": null,
   "source": [
    "#pip install eli5 in external terminal\n",
    "import eli5"
   ],
   "outputs": [],
   "metadata": {}
  },
  {
   "cell_type": "code",
   "execution_count": null,
   "source": [
    "full_pipeline.steps"
   ],
   "outputs": [],
   "metadata": {}
  },
  {
   "cell_type": "code",
   "execution_count": null,
   "source": [
    "onehot_columns = list(full_pipeline.named_steps['preprocessor'].named_transformers_['cat'].named_steps['1hot'].get_feature_names(input_features=cat_features))\n",
    "#numeric_features_list = list(numeric_features)\n",
    "#numeric_features_list.extend(onehot_columns)"
   ],
   "outputs": [],
   "metadata": {}
  },
  {
   "cell_type": "code",
   "execution_count": null,
   "source": [
    "for clf in full_pipeline.steps[1][1].estimators_:\n",
    "    print(eli5.explain_weights(clf, feature_names=onehot_columns))"
   ],
   "outputs": [],
   "metadata": {}
  },
  {
   "cell_type": "markdown",
   "source": [
    "Here we get the weights of the features and the feature name--but it looks fairly unreadable. We should be able to get the visual table from ELI5 with the ranking of the features"
   ],
   "metadata": {}
  },
  {
   "cell_type": "markdown",
   "source": [
    "### Trying using permutation_importance (not really working for now)\n",
    "https://scikit-learn.org/stable/modules/generated/sklearn.inspection.permutation_importance.html#sklearn.inspection.permutation_importance"
   ],
   "metadata": {}
  },
  {
   "cell_type": "code",
   "execution_count": null,
   "source": [
    "from sklearn.inspection import permutation_importance"
   ],
   "outputs": [],
   "metadata": {}
  },
  {
   "cell_type": "code",
   "execution_count": null,
   "source": [
    "for clf in full_pipeline.steps[1][1].estimators_:\n",
    "    print(permutation_importance(clf, X_test, y_test, random_state=RSEED))"
   ],
   "outputs": [],
   "metadata": {}
  }
 ],
 "metadata": {
  "interpreter": {
   "hash": "bdc0c931d2d4c1e254c9b407be81fb640f6c2f032b4d6ab78d09bb2272bcd9af"
  },
  "kernelspec": {
   "name": "python3",
   "display_name": "Python 3.8.5 64-bit ('.venv')"
  },
  "language_info": {
   "codemirror_mode": {
    "name": "ipython",
    "version": 3
   },
   "file_extension": ".py",
   "mimetype": "text/x-python",
   "name": "python",
   "nbconvert_exporter": "python",
   "pygments_lexer": "ipython3",
   "version": "3.8.5"
  },
  "metadata": {
   "interpreter": {
    "hash": "aee8b7b246df8f9039afb4144a1f6fd8d2ca17a180786b69acc140d282b71a49"
   }
  }
 },
 "nbformat": 4,
 "nbformat_minor": 4
}