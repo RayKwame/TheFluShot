{
 "cells": [
  {
   "cell_type": "code",
   "execution_count": 1,
   "metadata": {
    "slideshow": {
     "slide_type": "skip"
    }
   },
   "outputs": [],
   "source": [
    "import sys\n",
    "# adding to the path variables the one folder higher (locally, not changing system variables)\n",
    "sys.path.append(\"..\")\n",
    "import pandas as pd\n",
    "import numpy as np\n",
    "import warnings\n",
    "import mlflow\n",
    "from modeling.config import TRACKING_URI, EXPERIMENT_NAME\n",
    "\n",
    "RSEED = 42\n",
    "# Modeling Libraries\n",
    "\n",
    "import numpy as np\n",
    "import pandas as pd\n",
    "import matplotlib.pyplot as plt\n",
    "import seaborn as sns\n",
    "\n",
    "\n",
    "from sklearn.dummy import DummyClassifier\n",
    "from sklearn.multioutput import MultiOutputClassifier\n",
    "from sklearn.linear_model import LinearRegression\n",
    "from sklearn.pipeline import Pipeline\n",
    "from sklearn.compose import ColumnTransformer\n",
    "from sklearn.preprocessing import OneHotEncoder, StandardScaler\n",
    "from sklearn.impute import SimpleImputer\n",
    "from sklearn.model_selection import train_test_split\n",
    "from sklearn.model_selection import GridSearchCV, RandomizedSearchCV\n",
    "from sklearn.model_selection import cross_val_predict, cross_val_score, cross_validate\n",
    "from sklearn.metrics import roc_curve, confusion_matrix, accuracy_score, recall_score, precision_score, f1_score, roc_auc_score\n",
    "\n",
    "from sklearn.linear_model import LogisticRegression\n",
    "from sklearn.linear_model import SGDClassifier\n",
    "\n",
    "\n",
    "\n",
    "warnings.filterwarnings('ignore')\n"
   ]
  },
  {
   "cell_type": "code",
   "execution_count": 2,
   "metadata": {},
   "outputs": [],
   "source": [
    "# The initial notebook end_of_first_iteration has been stripped down to only the necessary code "
   ]
  },
  {
   "cell_type": "code",
   "execution_count": 3,
   "metadata": {
    "slideshow": {
     "slide_type": "skip"
    }
   },
   "outputs": [],
   "source": [
    "df_features = pd.read_csv('../data/Flu_Shot_Learning_Predict_H1N1_and_Seasonal_Flu_Vaccines_-_Training_Features.csv')"
   ]
  },
  {
   "cell_type": "code",
   "execution_count": 4,
   "metadata": {},
   "outputs": [],
   "source": [
    "df_target = pd.read_csv('../data/Flu_Shot_Learning_Predict_H1N1_and_Seasonal_Flu_Vaccines_-_Training_Labels.csv')"
   ]
  },
  {
   "cell_type": "code",
   "execution_count": 5,
   "metadata": {},
   "outputs": [],
   "source": [
    "# We are concatenating both dataframes into one \n",
    "\n",
    "df = pd.merge(df_target, df_features, on=['respondent_id'])"
   ]
  },
  {
   "cell_type": "markdown",
   "metadata": {},
   "source": [
    "# Data cleaning"
   ]
  },
  {
   "cell_type": "markdown",
   "metadata": {},
   "source": [
    "Dropping of features with too many missing values:"
   ]
  },
  {
   "cell_type": "code",
   "execution_count": 6,
   "metadata": {
    "slideshow": {
     "slide_type": "skip"
    }
   },
   "outputs": [],
   "source": [
    "col_drop = ['health_insurance', 'employment_industry', 'employment_occupation', 'income_poverty', 'marital_status', 'employment_status']\n",
    "\n",
    "df.drop(col_drop, axis=1, inplace=True)"
   ]
  },
  {
   "cell_type": "markdown",
   "metadata": {},
   "source": [
    "Dropping of all rows with null values:"
   ]
  },
  {
   "cell_type": "code",
   "execution_count": 7,
   "metadata": {},
   "outputs": [],
   "source": [
    "df.dropna(inplace=True)"
   ]
  },
  {
   "cell_type": "code",
   "execution_count": 8,
   "metadata": {},
   "outputs": [],
   "source": [
    "df.reset_index(inplace=True)"
   ]
  },
  {
   "cell_type": "markdown",
   "metadata": {},
   "source": [
    "We dropped all rows with missing values\n",
    "- Maybe later on, we will want to refine this approach."
   ]
  },
  {
   "cell_type": "markdown",
   "metadata": {},
   "source": [
    "## EDA"
   ]
  },
  {
   "cell_type": "code",
   "execution_count": 9,
   "metadata": {},
   "outputs": [
    {
     "name": "stdout",
     "output_type": "stream",
     "text": [
      "0    16906\n",
      "1     4947\n",
      "Name: h1n1_vaccine, dtype: int64\n",
      "0    11371\n",
      "1    10482\n",
      "Name: seasonal_vaccine, dtype: int64\n"
     ]
    }
   ],
   "source": [
    "# checking for balance in data\n",
    "\n",
    "print(df.h1n1_vaccine.value_counts())\n",
    "print(df.seasonal_vaccine.value_counts())"
   ]
  },
  {
   "cell_type": "code",
   "execution_count": 10,
   "metadata": {},
   "outputs": [],
   "source": [
    "#columns to drop because they're little use\n",
    "col_drop = ['index', 'respondent_id']\n",
    "\n",
    "df.drop(col_drop, axis=1, inplace=True)"
   ]
  },
  {
   "cell_type": "markdown",
   "metadata": {},
   "source": [
    "We save the 'final' dataframe of our first iteration into a new .csv-file. "
   ]
  },
  {
   "cell_type": "code",
   "execution_count": 11,
   "metadata": {},
   "outputs": [],
   "source": [
    "df.to_csv('../data/Flu_Shot_Data_cleaned_1.csv')"
   ]
  },
  {
   "cell_type": "markdown",
   "metadata": {},
   "source": [
    "## Creating Pipelines"
   ]
  },
  {
   "cell_type": "code",
   "execution_count": 12,
   "metadata": {},
   "outputs": [],
   "source": [
    "# Pipeline for categorical features\n",
    "#CHECK HERE--ARE WE DROPPING THE FIRST COLUMN TO PREVENT MULTICOLINEARITY?\n",
    "cat_pipeline = Pipeline([\n",
    "    ('1hot', OneHotEncoder(handle_unknown='error', drop='first'))\n",
    "])"
   ]
  },
  {
   "cell_type": "code",
   "execution_count": 13,
   "metadata": {},
   "outputs": [],
   "source": [
    "cat_features = list(df.columns)"
   ]
  },
  {
   "cell_type": "markdown",
   "metadata": {},
   "source": [
    "Removal of target variables from cat_features list:"
   ]
  },
  {
   "cell_type": "code",
   "execution_count": 14,
   "metadata": {},
   "outputs": [],
   "source": [
    "cat_features.remove('h1n1_vaccine')"
   ]
  },
  {
   "cell_type": "code",
   "execution_count": 15,
   "metadata": {},
   "outputs": [
    {
     "data": {
      "text/plain": [
       "\"cat_features.remove('seasonal_vaccine')\""
      ]
     },
     "execution_count": 15,
     "metadata": {},
     "output_type": "execute_result"
    }
   ],
   "source": [
    "'''cat_features.remove('seasonal_vaccine')'''"
   ]
  },
  {
   "cell_type": "markdown",
   "metadata": {},
   "source": [
    "Rename the features and target to 'X' and 'y', to make the test-train split easier:"
   ]
  },
  {
   "cell_type": "code",
   "execution_count": 16,
   "metadata": {},
   "outputs": [],
   "source": [
    "# y = df[['h1n1_vaccine', 'seasonal_vaccine']].copy()\n",
    "y = df[['h1n1_vaccine']].copy()"
   ]
  },
  {
   "cell_type": "code",
   "execution_count": 17,
   "metadata": {},
   "outputs": [],
   "source": [
    "y = y.to_numpy()"
   ]
  },
  {
   "cell_type": "code",
   "execution_count": 18,
   "metadata": {},
   "outputs": [],
   "source": [
    "#NB: the H1N1 vaccine and seasonal vaccine are left in, otherwise the pipeline doesn't run properly\n",
    "X = df"
   ]
  },
  {
   "cell_type": "code",
   "execution_count": 19,
   "metadata": {},
   "outputs": [],
   "source": [
    "preprocessor = ColumnTransformer([\n",
    "    ('cat', cat_pipeline, cat_features)\n",
    "])"
   ]
  },
  {
   "cell_type": "code",
   "execution_count": 20,
   "metadata": {},
   "outputs": [],
   "source": [
    "# For applying linear regression, the estimator is changed to single outputclassifier and linear regression\n",
    "\n",
    "estimators = LinearRegression()\n",
    "\n"
   ]
  },
  {
   "cell_type": "code",
   "execution_count": 21,
   "metadata": {},
   "outputs": [],
   "source": [
    "full_pipeline = Pipeline([\n",
    "    (\"preprocessor\", preprocessor),\n",
    "    (\"estimators\", estimators),\n",
    "])"
   ]
  },
  {
   "cell_type": "code",
   "execution_count": 22,
   "metadata": {},
   "outputs": [],
   "source": [
    "\n",
    "X_train, X_test, y_train, y_test = train_test_split(X, y, stratify = y, test_size=0.2, random_state=RSEED)"
   ]
  },
  {
   "cell_type": "code",
   "execution_count": 23,
   "metadata": {},
   "outputs": [
    {
     "name": "stdout",
     "output_type": "stream",
     "text": [
      "X_train shape: (17482, 31)\n",
      "X_test shape: (4371, 31)\n",
      "y_train shape: (17482, 1)\n",
      "y_test shape: (4371, 1)\n"
     ]
    }
   ],
   "source": [
    "print('X_train shape:', X_train.shape)\n",
    "print('X_test shape:', X_test.shape)\n",
    "print('y_train shape:', y_train.shape)\n",
    "print('y_test shape:', y_test.shape)"
   ]
  },
  {
   "cell_type": "code",
   "execution_count": 24,
   "metadata": {},
   "outputs": [
    {
     "data": {
      "text/plain": [
       "Pipeline(steps=[('preprocessor',\n",
       "                 ColumnTransformer(transformers=[('cat',\n",
       "                                                  Pipeline(steps=[('1hot',\n",
       "                                                                   OneHotEncoder(drop='first'))]),\n",
       "                                                  ['seasonal_vaccine',\n",
       "                                                   'h1n1_concern',\n",
       "                                                   'h1n1_knowledge',\n",
       "                                                   'behavioral_antiviral_meds',\n",
       "                                                   'behavioral_avoidance',\n",
       "                                                   'behavioral_face_mask',\n",
       "                                                   'behavioral_wash_hands',\n",
       "                                                   'behavioral_large_gatherings',\n",
       "                                                   'behavioral_outside_home',\n",
       "                                                   'behavioral_touch_...\n",
       "                                                   'child_under_6_months',\n",
       "                                                   'health_worker',\n",
       "                                                   'opinion_h1n1_vacc_effective',\n",
       "                                                   'opinion_h1n1_risk',\n",
       "                                                   'opinion_h1n1_sick_from_vacc',\n",
       "                                                   'opinion_seas_vacc_effective',\n",
       "                                                   'opinion_seas_risk',\n",
       "                                                   'opinion_seas_sick_from_vacc',\n",
       "                                                   'age_group', 'education',\n",
       "                                                   'race', 'sex', 'rent_or_own',\n",
       "                                                   'hhs_geo_region',\n",
       "                                                   'census_msa',\n",
       "                                                   'household_adults',\n",
       "                                                   'household_children'])])),\n",
       "                ('estimators', LinearRegression())])"
      ]
     },
     "execution_count": 24,
     "metadata": {},
     "output_type": "execute_result"
    }
   ],
   "source": [
    "full_pipeline.fit(X_train, y_train)\n",
    "\n"
   ]
  },
  {
   "cell_type": "code",
   "execution_count": 25,
   "metadata": {},
   "outputs": [],
   "source": [
    "# Figure out later what this does and if we want to use it\n",
    "\n",
    "\n",
    "#y_train_predicted = cross_val_predict(full_pipeline, X_train, y_train, cv=5)"
   ]
  },
  {
   "cell_type": "code",
   "execution_count": 26,
   "metadata": {},
   "outputs": [],
   "source": [
    "preds = full_pipeline.predict(X_test)\n"
   ]
  },
  {
   "cell_type": "markdown",
   "metadata": {},
   "source": [
    "Model evaluation"
   ]
  },
  {
   "cell_type": "code",
   "execution_count": 27,
   "metadata": {},
   "outputs": [
    {
     "data": {
      "text/plain": [
       "'# Evaluation Metrices for H1N1 Vaccines\\nprint(\"Accuracy: {:.2f}\".format(accuracy_score(y_test[:, 0], preds[:, 0])))\\nprint(\"Recall: {:.2f}\".format(recall_score(y_test[:, 0], preds[:, 0])))\\nprint(\"Precision: {:.2f}\".format(precision_score(y_test[:, 0], preds[:, 0])))\\nprint(\"F1: {:.2f}\".format(f1_score(y_test[:, 0], preds[:, 0])))\\nprint(\"ROC: {:.2f}\".format(roc_auc_score(y_test[:, 0], preds[:, 0])))'"
      ]
     },
     "execution_count": 27,
     "metadata": {},
     "output_type": "execute_result"
    }
   ],
   "source": [
    "'''# Evaluation Metrices for H1N1 Vaccines\n",
    "print(\"Accuracy: {:.2f}\".format(accuracy_score(y_test[:, 0], preds[:, 0])))\n",
    "print(\"Recall: {:.2f}\".format(recall_score(y_test[:, 0], preds[:, 0])))\n",
    "print(\"Precision: {:.2f}\".format(precision_score(y_test[:, 0], preds[:, 0])))\n",
    "print(\"F1: {:.2f}\".format(f1_score(y_test[:, 0], preds[:, 0])))\n",
    "print(\"ROC: {:.2f}\".format(roc_auc_score(y_test[:, 0], preds[:, 0])))'''"
   ]
  },
  {
   "cell_type": "code",
   "execution_count": 28,
   "metadata": {},
   "outputs": [
    {
     "data": {
      "text/plain": [
       "'# Evaluation Metrices for Seasonal Flu Vaccines\\nprint(\"Accuracy: {:.2f}\".format(accuracy_score(y_test[:, 1], preds[:, 1])))\\nprint(\"Recall: {:.2f}\".format(recall_score(y_test[:, 1], preds[:, 1])))\\nprint(\"Precision: {:.2f}\".format(precision_score(y_test[:, 1], preds[:, 1])))\\nprint(\"F1: {:.2f}\".format(f1_score(y_test[:, 1], preds[:, 1])))\\nprint(\"ROC: {:.2f}\".format(roc_auc_score(y_test[:, 1], preds[:, 1])))'"
      ]
     },
     "execution_count": 28,
     "metadata": {},
     "output_type": "execute_result"
    }
   ],
   "source": [
    "'''# Evaluation Metrices for Seasonal Flu Vaccines\n",
    "print(\"Accuracy: {:.2f}\".format(accuracy_score(y_test[:, 1], preds[:, 1])))\n",
    "print(\"Recall: {:.2f}\".format(recall_score(y_test[:, 1], preds[:, 1])))\n",
    "print(\"Precision: {:.2f}\".format(precision_score(y_test[:, 1], preds[:, 1])))\n",
    "print(\"F1: {:.2f}\".format(f1_score(y_test[:, 1], preds[:, 1])))\n",
    "print(\"ROC: {:.2f}\".format(roc_auc_score(y_test[:, 1], preds[:, 1])))'''"
   ]
  },
  {
   "cell_type": "code",
   "execution_count": 29,
   "metadata": {},
   "outputs": [
    {
     "data": {
      "text/plain": [
       "array([0, 0, 1, ..., 0, 0, 0])"
      ]
     },
     "execution_count": 29,
     "metadata": {},
     "output_type": "execute_result"
    }
   ],
   "source": [
    "y_test[:, 0]"
   ]
  },
  {
   "cell_type": "code",
   "execution_count": 30,
   "metadata": {},
   "outputs": [
    {
     "data": {
      "text/plain": [
       "array([[0],\n",
       "       [0],\n",
       "       [1],\n",
       "       ...,\n",
       "       [0],\n",
       "       [0],\n",
       "       [0]])"
      ]
     },
     "execution_count": 30,
     "metadata": {},
     "output_type": "execute_result"
    }
   ],
   "source": [
    "y_test"
   ]
  },
  {
   "cell_type": "markdown",
   "metadata": {},
   "source": [
    "## FEATURE IMPORTANCE (STILL A WORK IN PROGRESS)"
   ]
  },
  {
   "cell_type": "markdown",
   "metadata": {},
   "source": [
    "### Applying statsmodels.formula for linear regression"
   ]
  },
  {
   "cell_type": "code",
   "execution_count": 31,
   "metadata": {},
   "outputs": [],
   "source": [
    "# Importing the statsmodels formula\n",
    "import statsmodels.formula.api as smf"
   ]
  },
  {
   "cell_type": "markdown",
   "metadata": {},
   "source": [
    "Starting with a first try: \n",
    "- No split of train and test data \n",
    "- No dummy variables (because statsmodels will dummy code the categorical variables)"
   ]
  },
  {
   "cell_type": "code",
   "execution_count": 32,
   "metadata": {},
   "outputs": [
    {
     "data": {
      "text/html": [
       "<table class=\"simpletable\">\n",
       "<caption>OLS Regression Results</caption>\n",
       "<tr>\n",
       "  <th>Dep. Variable:</th>      <td>h1n1_vaccine</td>   <th>  R-squared:         </th> <td>   0.281</td> \n",
       "</tr>\n",
       "<tr>\n",
       "  <th>Model:</th>                   <td>OLS</td>       <th>  Adj. R-squared:    </th> <td>   0.280</td> \n",
       "</tr>\n",
       "<tr>\n",
       "  <th>Method:</th>             <td>Least Squares</td>  <th>  F-statistic:       </th> <td>   189.4</td> \n",
       "</tr>\n",
       "<tr>\n",
       "  <th>Date:</th>             <td>Mon, 19 Jul 2021</td> <th>  Prob (F-statistic):</th>  <td>  0.00</td>  \n",
       "</tr>\n",
       "<tr>\n",
       "  <th>Time:</th>                 <td>09:47:09</td>     <th>  Log-Likelihood:    </th> <td> -8366.6</td> \n",
       "</tr>\n",
       "<tr>\n",
       "  <th>No. Observations:</th>      <td> 21853</td>      <th>  AIC:               </th> <td>1.683e+04</td>\n",
       "</tr>\n",
       "<tr>\n",
       "  <th>Df Residuals:</th>          <td> 21807</td>      <th>  BIC:               </th> <td>1.719e+04</td>\n",
       "</tr>\n",
       "<tr>\n",
       "  <th>Df Model:</th>              <td>    45</td>      <th>                     </th>     <td> </td>    \n",
       "</tr>\n",
       "<tr>\n",
       "  <th>Covariance Type:</th>      <td>nonrobust</td>    <th>                     </th>     <td> </td>    \n",
       "</tr>\n",
       "</table>\n",
       "<table class=\"simpletable\">\n",
       "<tr>\n",
       "                  <td></td>                     <th>coef</th>     <th>std err</th>      <th>t</th>      <th>P>|t|</th>  <th>[0.025</th>    <th>0.975]</th>  \n",
       "</tr>\n",
       "<tr>\n",
       "  <th>Intercept</th>                         <td>   -0.3751</td> <td>    0.020</td> <td>  -18.432</td> <td> 0.000</td> <td>   -0.415</td> <td>   -0.335</td>\n",
       "</tr>\n",
       "<tr>\n",
       "  <th>age_group[T.35 - 44 Years]</th>        <td>    0.0059</td> <td>    0.009</td> <td>    0.676</td> <td> 0.499</td> <td>   -0.011</td> <td>    0.023</td>\n",
       "</tr>\n",
       "<tr>\n",
       "  <th>age_group[T.45 - 54 Years]</th>        <td>    0.0128</td> <td>    0.008</td> <td>    1.594</td> <td> 0.111</td> <td>   -0.003</td> <td>    0.029</td>\n",
       "</tr>\n",
       "<tr>\n",
       "  <th>age_group[T.55 - 64 Years]</th>        <td>    0.0578</td> <td>    0.008</td> <td>    6.846</td> <td> 0.000</td> <td>    0.041</td> <td>    0.074</td>\n",
       "</tr>\n",
       "<tr>\n",
       "  <th>age_group[T.65+ Years]</th>            <td>    0.0746</td> <td>    0.009</td> <td>    8.535</td> <td> 0.000</td> <td>    0.057</td> <td>    0.092</td>\n",
       "</tr>\n",
       "<tr>\n",
       "  <th>education[T.< 12 Years]</th>           <td>   -0.0255</td> <td>    0.010</td> <td>   -2.611</td> <td> 0.009</td> <td>   -0.045</td> <td>   -0.006</td>\n",
       "</tr>\n",
       "<tr>\n",
       "  <th>education[T.College Graduate]</th>     <td>    0.0235</td> <td>    0.007</td> <td>    3.476</td> <td> 0.001</td> <td>    0.010</td> <td>    0.037</td>\n",
       "</tr>\n",
       "<tr>\n",
       "  <th>education[T.Some College]</th>         <td>    0.0050</td> <td>    0.007</td> <td>    0.730</td> <td> 0.465</td> <td>   -0.008</td> <td>    0.019</td>\n",
       "</tr>\n",
       "<tr>\n",
       "  <th>race[T.Hispanic]</th>                  <td>    0.0139</td> <td>    0.013</td> <td>    1.042</td> <td> 0.298</td> <td>   -0.012</td> <td>    0.040</td>\n",
       "</tr>\n",
       "<tr>\n",
       "  <th>race[T.Other or Multiple]</th>         <td>    0.0365</td> <td>    0.014</td> <td>    2.672</td> <td> 0.008</td> <td>    0.010</td> <td>    0.063</td>\n",
       "</tr>\n",
       "<tr>\n",
       "  <th>race[T.White]</th>                     <td>    0.0287</td> <td>    0.010</td> <td>    2.935</td> <td> 0.003</td> <td>    0.010</td> <td>    0.048</td>\n",
       "</tr>\n",
       "<tr>\n",
       "  <th>sex[T.Male]</th>                       <td>    0.0236</td> <td>    0.005</td> <td>    4.603</td> <td> 0.000</td> <td>    0.014</td> <td>    0.034</td>\n",
       "</tr>\n",
       "<tr>\n",
       "  <th>rent_or_own[T.Rent]</th>               <td>   -0.0069</td> <td>    0.006</td> <td>   -1.098</td> <td> 0.272</td> <td>   -0.019</td> <td>    0.005</td>\n",
       "</tr>\n",
       "<tr>\n",
       "  <th>hhs_geo_region[T.bhuqouqj]</th>        <td>   -0.0077</td> <td>    0.011</td> <td>   -0.671</td> <td> 0.502</td> <td>   -0.030</td> <td>    0.015</td>\n",
       "</tr>\n",
       "<tr>\n",
       "  <th>hhs_geo_region[T.dqpwygqj]</th>        <td>   -0.0276</td> <td>    0.015</td> <td>   -1.868</td> <td> 0.062</td> <td>   -0.057</td> <td>    0.001</td>\n",
       "</tr>\n",
       "<tr>\n",
       "  <th>hhs_geo_region[T.fpwskwrf]</th>        <td>   -0.0064</td> <td>    0.011</td> <td>   -0.568</td> <td> 0.570</td> <td>   -0.028</td> <td>    0.016</td>\n",
       "</tr>\n",
       "<tr>\n",
       "  <th>hhs_geo_region[T.kbazzjca]</th>        <td>   -0.0016</td> <td>    0.011</td> <td>   -0.137</td> <td> 0.891</td> <td>   -0.024</td> <td>    0.021</td>\n",
       "</tr>\n",
       "<tr>\n",
       "  <th>hhs_geo_region[T.lrircsnp]</th>        <td>   -0.0037</td> <td>    0.012</td> <td>   -0.304</td> <td> 0.761</td> <td>   -0.028</td> <td>    0.020</td>\n",
       "</tr>\n",
       "<tr>\n",
       "  <th>hhs_geo_region[T.lzgpxyit]</th>        <td>   -0.0150</td> <td>    0.011</td> <td>   -1.406</td> <td> 0.160</td> <td>   -0.036</td> <td>    0.006</td>\n",
       "</tr>\n",
       "<tr>\n",
       "  <th>hhs_geo_region[T.mlyzmhmf]</th>        <td>    0.0184</td> <td>    0.012</td> <td>    1.502</td> <td> 0.133</td> <td>   -0.006</td> <td>    0.042</td>\n",
       "</tr>\n",
       "<tr>\n",
       "  <th>hhs_geo_region[T.oxchjgsf]</th>        <td>    0.0116</td> <td>    0.011</td> <td>    1.020</td> <td> 0.308</td> <td>   -0.011</td> <td>    0.034</td>\n",
       "</tr>\n",
       "<tr>\n",
       "  <th>hhs_geo_region[T.qufhixun]</th>        <td>    0.0026</td> <td>    0.011</td> <td>    0.233</td> <td> 0.816</td> <td>   -0.019</td> <td>    0.024</td>\n",
       "</tr>\n",
       "<tr>\n",
       "  <th>census_msa[T.MSA, Principle City]</th> <td>    0.0023</td> <td>    0.006</td> <td>    0.382</td> <td> 0.702</td> <td>   -0.009</td> <td>    0.014</td>\n",
       "</tr>\n",
       "<tr>\n",
       "  <th>census_msa[T.Non-MSA]</th>             <td>    0.0081</td> <td>    0.006</td> <td>    1.328</td> <td> 0.184</td> <td>   -0.004</td> <td>    0.020</td>\n",
       "</tr>\n",
       "<tr>\n",
       "  <th>h1n1_concern</th>                      <td>   -0.0156</td> <td>    0.003</td> <td>   -4.740</td> <td> 0.000</td> <td>   -0.022</td> <td>   -0.009</td>\n",
       "</tr>\n",
       "<tr>\n",
       "  <th>h1n1_knowledge</th>                    <td>    0.0198</td> <td>    0.004</td> <td>    4.492</td> <td> 0.000</td> <td>    0.011</td> <td>    0.028</td>\n",
       "</tr>\n",
       "<tr>\n",
       "  <th>behavioral_antiviral_meds</th>         <td>    0.0175</td> <td>    0.012</td> <td>    1.519</td> <td> 0.129</td> <td>   -0.005</td> <td>    0.040</td>\n",
       "</tr>\n",
       "<tr>\n",
       "  <th>behavioral_avoidance</th>              <td>   -0.0055</td> <td>    0.006</td> <td>   -0.899</td> <td> 0.369</td> <td>   -0.017</td> <td>    0.006</td>\n",
       "</tr>\n",
       "<tr>\n",
       "  <th>behavioral_face_mask</th>              <td>    0.0239</td> <td>    0.010</td> <td>    2.394</td> <td> 0.017</td> <td>    0.004</td> <td>    0.043</td>\n",
       "</tr>\n",
       "<tr>\n",
       "  <th>behavioral_wash_hands</th>             <td>   -0.0019</td> <td>    0.007</td> <td>   -0.254</td> <td> 0.799</td> <td>   -0.016</td> <td>    0.013</td>\n",
       "</tr>\n",
       "<tr>\n",
       "  <th>behavioral_large_gatherings</th>       <td>   -0.0226</td> <td>    0.006</td> <td>   -3.529</td> <td> 0.000</td> <td>   -0.035</td> <td>   -0.010</td>\n",
       "</tr>\n",
       "<tr>\n",
       "  <th>behavioral_outside_home</th>           <td>   -0.0079</td> <td>    0.007</td> <td>   -1.217</td> <td> 0.223</td> <td>   -0.021</td> <td>    0.005</td>\n",
       "</tr>\n",
       "<tr>\n",
       "  <th>behavioral_touch_face</th>             <td>    0.0054</td> <td>    0.006</td> <td>    0.917</td> <td> 0.359</td> <td>   -0.006</td> <td>    0.017</td>\n",
       "</tr>\n",
       "<tr>\n",
       "  <th>doctor_recc_h1n1</th>                  <td>    0.3435</td> <td>    0.007</td> <td>   46.011</td> <td> 0.000</td> <td>    0.329</td> <td>    0.358</td>\n",
       "</tr>\n",
       "<tr>\n",
       "  <th>doctor_recc_seasonal</th>              <td>   -0.0730</td> <td>    0.007</td> <td>  -10.976</td> <td> 0.000</td> <td>   -0.086</td> <td>   -0.060</td>\n",
       "</tr>\n",
       "<tr>\n",
       "  <th>chronic_med_condition</th>             <td>    0.0211</td> <td>    0.006</td> <td>    3.734</td> <td> 0.000</td> <td>    0.010</td> <td>    0.032</td>\n",
       "</tr>\n",
       "<tr>\n",
       "  <th>child_under_6_months</th>              <td>    0.0397</td> <td>    0.009</td> <td>    4.480</td> <td> 0.000</td> <td>    0.022</td> <td>    0.057</td>\n",
       "</tr>\n",
       "<tr>\n",
       "  <th>health_worker</th>                     <td>    0.1435</td> <td>    0.008</td> <td>   18.234</td> <td> 0.000</td> <td>    0.128</td> <td>    0.159</td>\n",
       "</tr>\n",
       "<tr>\n",
       "  <th>opinion_h1n1_vacc_effective</th>       <td>    0.0632</td> <td>    0.003</td> <td>   22.196</td> <td> 0.000</td> <td>    0.058</td> <td>    0.069</td>\n",
       "</tr>\n",
       "<tr>\n",
       "  <th>opinion_h1n1_risk</th>                 <td>    0.0634</td> <td>    0.002</td> <td>   25.743</td> <td> 0.000</td> <td>    0.059</td> <td>    0.068</td>\n",
       "</tr>\n",
       "<tr>\n",
       "  <th>opinion_h1n1_sick_from_vacc</th>       <td>   -0.0002</td> <td>    0.002</td> <td>   -0.107</td> <td> 0.915</td> <td>   -0.005</td> <td>    0.004</td>\n",
       "</tr>\n",
       "<tr>\n",
       "  <th>opinion_seas_vacc_effective</th>       <td>    0.0061</td> <td>    0.003</td> <td>    2.241</td> <td> 0.025</td> <td>    0.001</td> <td>    0.011</td>\n",
       "</tr>\n",
       "<tr>\n",
       "  <th>opinion_seas_risk</th>                 <td>    0.0216</td> <td>    0.002</td> <td>    9.594</td> <td> 0.000</td> <td>    0.017</td> <td>    0.026</td>\n",
       "</tr>\n",
       "<tr>\n",
       "  <th>opinion_seas_sick_from_vacc</th>       <td>   -0.0121</td> <td>    0.002</td> <td>   -5.695</td> <td> 0.000</td> <td>   -0.016</td> <td>   -0.008</td>\n",
       "</tr>\n",
       "<tr>\n",
       "  <th>household_adults</th>                  <td>    0.0049</td> <td>    0.003</td> <td>    1.452</td> <td> 0.146</td> <td>   -0.002</td> <td>    0.012</td>\n",
       "</tr>\n",
       "<tr>\n",
       "  <th>household_children</th>                <td>   -0.0015</td> <td>    0.003</td> <td>   -0.499</td> <td> 0.618</td> <td>   -0.008</td> <td>    0.005</td>\n",
       "</tr>\n",
       "</table>\n",
       "<table class=\"simpletable\">\n",
       "<tr>\n",
       "  <th>Omnibus:</th>       <td>2128.594</td> <th>  Durbin-Watson:     </th> <td>   2.001</td>\n",
       "</tr>\n",
       "<tr>\n",
       "  <th>Prob(Omnibus):</th>  <td> 0.000</td>  <th>  Jarque-Bera (JB):  </th> <td>2798.280</td>\n",
       "</tr>\n",
       "<tr>\n",
       "  <th>Skew:</th>           <td> 0.855</td>  <th>  Prob(JB):          </th> <td>    0.00</td>\n",
       "</tr>\n",
       "<tr>\n",
       "  <th>Kurtosis:</th>       <td> 3.383</td>  <th>  Cond. No.          </th> <td>    102.</td>\n",
       "</tr>\n",
       "</table><br/><br/>Notes:<br/>[1] Standard Errors assume that the covariance matrix of the errors is correctly specified."
      ],
      "text/plain": [
       "<class 'statsmodels.iolib.summary.Summary'>\n",
       "\"\"\"\n",
       "                            OLS Regression Results                            \n",
       "==============================================================================\n",
       "Dep. Variable:           h1n1_vaccine   R-squared:                       0.281\n",
       "Model:                            OLS   Adj. R-squared:                  0.280\n",
       "Method:                 Least Squares   F-statistic:                     189.4\n",
       "Date:                Mon, 19 Jul 2021   Prob (F-statistic):               0.00\n",
       "Time:                        09:47:09   Log-Likelihood:                -8366.6\n",
       "No. Observations:               21853   AIC:                         1.683e+04\n",
       "Df Residuals:                   21807   BIC:                         1.719e+04\n",
       "Df Model:                          45                                         \n",
       "Covariance Type:            nonrobust                                         \n",
       "=====================================================================================================\n",
       "                                        coef    std err          t      P>|t|      [0.025      0.975]\n",
       "-----------------------------------------------------------------------------------------------------\n",
       "Intercept                            -0.3751      0.020    -18.432      0.000      -0.415      -0.335\n",
       "age_group[T.35 - 44 Years]            0.0059      0.009      0.676      0.499      -0.011       0.023\n",
       "age_group[T.45 - 54 Years]            0.0128      0.008      1.594      0.111      -0.003       0.029\n",
       "age_group[T.55 - 64 Years]            0.0578      0.008      6.846      0.000       0.041       0.074\n",
       "age_group[T.65+ Years]                0.0746      0.009      8.535      0.000       0.057       0.092\n",
       "education[T.< 12 Years]              -0.0255      0.010     -2.611      0.009      -0.045      -0.006\n",
       "education[T.College Graduate]         0.0235      0.007      3.476      0.001       0.010       0.037\n",
       "education[T.Some College]             0.0050      0.007      0.730      0.465      -0.008       0.019\n",
       "race[T.Hispanic]                      0.0139      0.013      1.042      0.298      -0.012       0.040\n",
       "race[T.Other or Multiple]             0.0365      0.014      2.672      0.008       0.010       0.063\n",
       "race[T.White]                         0.0287      0.010      2.935      0.003       0.010       0.048\n",
       "sex[T.Male]                           0.0236      0.005      4.603      0.000       0.014       0.034\n",
       "rent_or_own[T.Rent]                  -0.0069      0.006     -1.098      0.272      -0.019       0.005\n",
       "hhs_geo_region[T.bhuqouqj]           -0.0077      0.011     -0.671      0.502      -0.030       0.015\n",
       "hhs_geo_region[T.dqpwygqj]           -0.0276      0.015     -1.868      0.062      -0.057       0.001\n",
       "hhs_geo_region[T.fpwskwrf]           -0.0064      0.011     -0.568      0.570      -0.028       0.016\n",
       "hhs_geo_region[T.kbazzjca]           -0.0016      0.011     -0.137      0.891      -0.024       0.021\n",
       "hhs_geo_region[T.lrircsnp]           -0.0037      0.012     -0.304      0.761      -0.028       0.020\n",
       "hhs_geo_region[T.lzgpxyit]           -0.0150      0.011     -1.406      0.160      -0.036       0.006\n",
       "hhs_geo_region[T.mlyzmhmf]            0.0184      0.012      1.502      0.133      -0.006       0.042\n",
       "hhs_geo_region[T.oxchjgsf]            0.0116      0.011      1.020      0.308      -0.011       0.034\n",
       "hhs_geo_region[T.qufhixun]            0.0026      0.011      0.233      0.816      -0.019       0.024\n",
       "census_msa[T.MSA, Principle City]     0.0023      0.006      0.382      0.702      -0.009       0.014\n",
       "census_msa[T.Non-MSA]                 0.0081      0.006      1.328      0.184      -0.004       0.020\n",
       "h1n1_concern                         -0.0156      0.003     -4.740      0.000      -0.022      -0.009\n",
       "h1n1_knowledge                        0.0198      0.004      4.492      0.000       0.011       0.028\n",
       "behavioral_antiviral_meds             0.0175      0.012      1.519      0.129      -0.005       0.040\n",
       "behavioral_avoidance                 -0.0055      0.006     -0.899      0.369      -0.017       0.006\n",
       "behavioral_face_mask                  0.0239      0.010      2.394      0.017       0.004       0.043\n",
       "behavioral_wash_hands                -0.0019      0.007     -0.254      0.799      -0.016       0.013\n",
       "behavioral_large_gatherings          -0.0226      0.006     -3.529      0.000      -0.035      -0.010\n",
       "behavioral_outside_home              -0.0079      0.007     -1.217      0.223      -0.021       0.005\n",
       "behavioral_touch_face                 0.0054      0.006      0.917      0.359      -0.006       0.017\n",
       "doctor_recc_h1n1                      0.3435      0.007     46.011      0.000       0.329       0.358\n",
       "doctor_recc_seasonal                 -0.0730      0.007    -10.976      0.000      -0.086      -0.060\n",
       "chronic_med_condition                 0.0211      0.006      3.734      0.000       0.010       0.032\n",
       "child_under_6_months                  0.0397      0.009      4.480      0.000       0.022       0.057\n",
       "health_worker                         0.1435      0.008     18.234      0.000       0.128       0.159\n",
       "opinion_h1n1_vacc_effective           0.0632      0.003     22.196      0.000       0.058       0.069\n",
       "opinion_h1n1_risk                     0.0634      0.002     25.743      0.000       0.059       0.068\n",
       "opinion_h1n1_sick_from_vacc          -0.0002      0.002     -0.107      0.915      -0.005       0.004\n",
       "opinion_seas_vacc_effective           0.0061      0.003      2.241      0.025       0.001       0.011\n",
       "opinion_seas_risk                     0.0216      0.002      9.594      0.000       0.017       0.026\n",
       "opinion_seas_sick_from_vacc          -0.0121      0.002     -5.695      0.000      -0.016      -0.008\n",
       "household_adults                      0.0049      0.003      1.452      0.146      -0.002       0.012\n",
       "household_children                   -0.0015      0.003     -0.499      0.618      -0.008       0.005\n",
       "==============================================================================\n",
       "Omnibus:                     2128.594   Durbin-Watson:                   2.001\n",
       "Prob(Omnibus):                  0.000   Jarque-Bera (JB):             2798.280\n",
       "Skew:                           0.855   Prob(JB):                         0.00\n",
       "Kurtosis:                       3.383   Cond. No.                         102.\n",
       "==============================================================================\n",
       "\n",
       "Notes:\n",
       "[1] Standard Errors assume that the covariance matrix of the errors is correctly specified.\n",
       "\"\"\""
      ]
     },
     "execution_count": 32,
     "metadata": {},
     "output_type": "execute_result"
    }
   ],
   "source": [
    "\n",
    "smf.ols(formula='h1n1_vaccine ~ h1n1_concern + h1n1_knowledge + + behavioral_antiviral_meds + behavioral_avoidance + behavioral_face_mask + behavioral_wash_hands + behavioral_large_gatherings + behavioral_outside_home + behavioral_touch_face + doctor_recc_h1n1 + doctor_recc_seasonal + chronic_med_condition + child_under_6_months + health_worker + opinion_h1n1_vacc_effective + opinion_h1n1_risk + opinion_h1n1_sick_from_vacc + opinion_seas_vacc_effective + opinion_seas_risk + opinion_seas_sick_from_vacc + age_group + education + race + sex + rent_or_own + hhs_geo_region + census_msa + household_adults + household_children', data=df).fit().summary()"
   ]
  },
  {
   "cell_type": "markdown",
   "metadata": {},
   "source": [
    "- the linear model performs poorly on the dataset (as expected)\n",
    "- next step: not all variables have been converted to dummies: we will do this in the next step \n",
    "- Finding a way to recombine the dummy variables to their original form"
   ]
  },
  {
   "cell_type": "code",
   "execution_count": 42,
   "metadata": {},
   "outputs": [],
   "source": [
    "# Performing linear regression with H1N1 as target and dummy variables \n",
    "results_h1n1 = smf.ols(formula='h1n1_vaccine ~ C(seasonal_vaccine) + C(h1n1_concern) + C(h1n1_knowledge) + C(behavioral_antiviral_meds) + C(behavioral_avoidance) + C(behavioral_face_mask) + C(behavioral_wash_hands) + C(behavioral_large_gatherings) + C(behavioral_outside_home) + C(behavioral_touch_face) + C(doctor_recc_h1n1) + C(doctor_recc_seasonal) + C(chronic_med_condition) + C(child_under_6_months) + C(health_worker) + C(opinion_h1n1_vacc_effective) + C(opinion_h1n1_risk) + C(opinion_h1n1_sick_from_vacc) + C(opinion_seas_vacc_effective) + C(opinion_seas_risk) + C(opinion_seas_sick_from_vacc) + C(age_group) + C(education) + C(race) + C(sex) + C(rent_or_own) + C(hhs_geo_region) + C(census_msa) + C(household_adults) + C(household_children)', data=df).fit()"
   ]
  },
  {
   "cell_type": "code",
   "execution_count": 43,
   "metadata": {},
   "outputs": [
    {
     "name": "stdout",
     "output_type": "stream",
     "text": [
      "                            OLS Regression Results                            \n",
      "==============================================================================\n",
      "Dep. Variable:           h1n1_vaccine   R-squared:                       0.351\n",
      "Model:                            OLS   Adj. R-squared:                  0.349\n",
      "Method:                 Least Squares   F-statistic:                     165.8\n",
      "Date:                Mon, 19 Jul 2021   Prob (F-statistic):               0.00\n",
      "Time:                        11:32:57   Log-Likelihood:                -7249.9\n",
      "No. Observations:               21853   AIC:                         1.464e+04\n",
      "Df Residuals:                   21781   BIC:                         1.522e+04\n",
      "Df Model:                          71                                         \n",
      "Covariance Type:            nonrobust                                         \n",
      "=========================================================================================================\n",
      "                                            coef    std err          t      P>|t|      [0.025      0.975]\n",
      "---------------------------------------------------------------------------------------------------------\n",
      "Intercept                                -0.0778      0.022     -3.471      0.001      -0.122      -0.034\n",
      "C(seasonal_vaccine)[T.1]                  0.2545      0.006     43.855      0.000       0.243       0.266\n",
      "C(h1n1_concern)[T.1.0]                   -0.0094      0.008     -1.131      0.258      -0.026       0.007\n",
      "C(h1n1_concern)[T.2.0]                   -0.0181      0.009     -2.074      0.038      -0.035      -0.001\n",
      "C(h1n1_concern)[T.3.0]                   -0.0393      0.010     -3.816      0.000      -0.060      -0.019\n",
      "C(h1n1_knowledge)[T.1.0]                 -0.0031      0.009     -0.335      0.737      -0.021       0.015\n",
      "C(h1n1_knowledge)[T.2.0]                  0.0068      0.010      0.687      0.492      -0.013       0.026\n",
      "C(behavioral_antiviral_meds)[T.1.0]       0.0117      0.011      1.064      0.287      -0.010       0.033\n",
      "C(behavioral_avoidance)[T.1.0]           -0.0030      0.006     -0.522      0.601      -0.014       0.008\n",
      "C(behavioral_face_mask)[T.1.0]            0.0191      0.010      2.008      0.045       0.000       0.038\n",
      "C(behavioral_wash_hands)[T.1.0]          -0.0011      0.007     -0.162      0.871      -0.015       0.013\n",
      "C(behavioral_large_gatherings)[T.1.0]    -0.0229      0.006     -3.764      0.000      -0.035      -0.011\n",
      "C(behavioral_outside_home)[T.1.0]        -0.0082      0.006     -1.323      0.186      -0.020       0.004\n",
      "C(behavioral_touch_face)[T.1.0]          -0.0020      0.006     -0.346      0.729      -0.013       0.009\n",
      "C(doctor_recc_h1n1)[T.1.0]                0.3456      0.007     48.469      0.000       0.332       0.360\n",
      "C(doctor_recc_seasonal)[T.1.0]           -0.1340      0.006    -20.611      0.000      -0.147      -0.121\n",
      "C(chronic_med_condition)[T.1.0]           0.0117      0.005      2.171      0.030       0.001       0.022\n",
      "C(child_under_6_months)[T.1.0]            0.0315      0.008      3.731      0.000       0.015       0.048\n",
      "C(health_worker)[T.1.0]                   0.1036      0.008     13.707      0.000       0.089       0.118\n",
      "C(opinion_h1n1_vacc_effective)[T.2.0]    -0.0034      0.017     -0.202      0.840      -0.036       0.029\n",
      "C(opinion_h1n1_vacc_effective)[T.3.0]     0.0079      0.016      0.496      0.620      -0.023       0.039\n",
      "C(opinion_h1n1_vacc_effective)[T.4.0]     0.0534      0.015      3.522      0.000       0.024       0.083\n",
      "C(opinion_h1n1_vacc_effective)[T.5.0]     0.1929      0.016     12.316      0.000       0.162       0.224\n",
      "C(opinion_h1n1_risk)[T.2.0]               0.0396      0.006      6.211      0.000       0.027       0.052\n",
      "C(opinion_h1n1_risk)[T.3.0]               0.0665      0.015      4.470      0.000       0.037       0.096\n",
      "C(opinion_h1n1_risk)[T.4.0]               0.1689      0.008     20.606      0.000       0.153       0.185\n",
      "C(opinion_h1n1_risk)[T.5.0]               0.2500      0.012     21.088      0.000       0.227       0.273\n",
      "C(opinion_h1n1_sick_from_vacc)[T.2.0]    -0.0393      0.006     -6.245      0.000      -0.052      -0.027\n",
      "C(opinion_h1n1_sick_from_vacc)[T.3.0]    -0.0654      0.040     -1.647      0.100      -0.143       0.012\n",
      "C(opinion_h1n1_sick_from_vacc)[T.4.0]    -0.0054      0.007     -0.735      0.463      -0.020       0.009\n",
      "C(opinion_h1n1_sick_from_vacc)[T.5.0]     0.0016      0.011      0.148      0.882      -0.020       0.023\n",
      "C(opinion_seas_vacc_effective)[T.2.0]     0.0047      0.015      0.324      0.746      -0.024       0.033\n",
      "C(opinion_seas_vacc_effective)[T.3.0]     0.0427      0.018      2.419      0.016       0.008       0.077\n",
      "C(opinion_seas_vacc_effective)[T.4.0]    -0.0114      0.013     -0.872      0.383      -0.037       0.014\n",
      "C(opinion_seas_vacc_effective)[T.5.0]    -0.0375      0.014     -2.757      0.006      -0.064      -0.011\n",
      "C(opinion_seas_risk)[T.2.0]               0.0057      0.007      0.808      0.419      -0.008       0.020\n",
      "C(opinion_seas_risk)[T.3.0]               0.0092      0.019      0.478      0.632      -0.029       0.047\n",
      "C(opinion_seas_risk)[T.4.0]              -0.0055      0.008     -0.672      0.501      -0.021       0.010\n",
      "C(opinion_seas_risk)[T.5.0]              -0.0140      0.011     -1.334      0.182      -0.035       0.007\n",
      "C(opinion_seas_sick_from_vacc)[T.2.0]     0.0020      0.006      0.329      0.742      -0.010       0.014\n",
      "C(opinion_seas_sick_from_vacc)[T.3.0]     0.0213      0.047      0.450      0.652      -0.071       0.114\n",
      "C(opinion_seas_sick_from_vacc)[T.4.0]    -0.0044      0.007     -0.617      0.537      -0.018       0.010\n",
      "C(opinion_seas_sick_from_vacc)[T.5.0]    -0.0232      0.011     -2.061      0.039      -0.045      -0.001\n",
      "C(age_group)[T.35 - 44 Years]            -0.0080      0.008     -0.964      0.335      -0.024       0.008\n",
      "C(age_group)[T.45 - 54 Years]            -0.0119      0.008     -1.541      0.123      -0.027       0.003\n",
      "C(age_group)[T.55 - 64 Years]             0.0175      0.008      2.152      0.031       0.002       0.034\n",
      "C(age_group)[T.65+ Years]                -0.0009      0.009     -0.106      0.916      -0.018       0.016\n",
      "C(education)[T.< 12 Years]               -0.0217      0.009     -2.323      0.020      -0.040      -0.003\n",
      "C(education)[T.College Graduate]          0.0105      0.006      1.623      0.105      -0.002       0.023\n",
      "C(education)[T.Some College]              0.0018      0.007      0.279      0.780      -0.011       0.015\n",
      "C(race)[T.Hispanic]                       0.0080      0.013      0.627      0.530      -0.017       0.033\n",
      "C(race)[T.Other or Multiple]              0.0220      0.013      1.691      0.091      -0.004       0.048\n",
      "C(race)[T.White]                          0.0186      0.009      1.988      0.047       0.000       0.037\n",
      "C(sex)[T.Male]                            0.0202      0.005      4.129      0.000       0.011       0.030\n",
      "C(rent_or_own)[T.Rent]                    0.0009      0.006      0.153      0.879      -0.011       0.013\n",
      "C(hhs_geo_region)[T.bhuqouqj]             0.0015      0.011      0.141      0.888      -0.020       0.023\n",
      "C(hhs_geo_region)[T.dqpwygqj]            -0.0126      0.014     -0.895      0.371      -0.040       0.015\n",
      "C(hhs_geo_region)[T.fpwskwrf]            -0.0021      0.011     -0.194      0.846      -0.023       0.019\n",
      "C(hhs_geo_region)[T.kbazzjca]            -0.0011      0.011     -0.104      0.917      -0.023       0.020\n",
      "C(hhs_geo_region)[T.lrircsnp]             0.0108      0.012      0.926      0.354      -0.012       0.034\n",
      "C(hhs_geo_region)[T.lzgpxyit]            -0.0079      0.010     -0.783      0.433      -0.028       0.012\n",
      "C(hhs_geo_region)[T.mlyzmhmf]             0.0244      0.012      2.089      0.037       0.001       0.047\n",
      "C(hhs_geo_region)[T.oxchjgsf]             0.0156      0.011      1.442      0.149      -0.006       0.037\n",
      "C(hhs_geo_region)[T.qufhixun]             0.0086      0.011      0.810      0.418      -0.012       0.029\n",
      "C(census_msa)[T.MSA, Principle City]      0.0041      0.006      0.718      0.473      -0.007       0.015\n",
      "C(census_msa)[T.Non-MSA]                  0.0154      0.006      2.647      0.008       0.004       0.027\n",
      "C(household_adults)[T.1.0]                0.0149      0.006      2.674      0.008       0.004       0.026\n",
      "C(household_adults)[T.2.0]                0.0152      0.008      1.796      0.073      -0.001       0.032\n",
      "C(household_adults)[T.3.0]                0.0044      0.012      0.362      0.718      -0.019       0.028\n",
      "C(household_children)[T.1.0]              0.0125      0.008      1.621      0.105      -0.003       0.028\n",
      "C(household_children)[T.2.0]             -0.0052      0.008     -0.623      0.533      -0.022       0.011\n",
      "C(household_children)[T.3.0]             -0.0098      0.010     -0.951      0.342      -0.030       0.010\n",
      "==============================================================================\n",
      "Omnibus:                     1472.605   Durbin-Watson:                   1.993\n",
      "Prob(Omnibus):                  0.000   Jarque-Bera (JB):             1802.423\n",
      "Skew:                           0.663   Prob(JB):                         0.00\n",
      "Kurtosis:                       3.470   Cond. No.                         59.2\n",
      "==============================================================================\n",
      "\n",
      "Notes:\n",
      "[1] Standard Errors assume that the covariance matrix of the errors is correctly specified.\n"
     ]
    }
   ],
   "source": [
    "results_summary_h1n1 = results_h1n1.summary()\n",
    "print(results_summary_h1n1)"
   ]
  },
  {
   "cell_type": "markdown",
   "metadata": {},
   "source": [
    "- slightly better adjusted R2: 0.349 -> still very bad. \n",
    "- Trying with only the most correlated features (according to correlation matrix)"
   ]
  },
  {
   "cell_type": "code",
   "execution_count": 44,
   "metadata": {},
   "outputs": [],
   "source": [
    "def results_summary_to_dataframe(results_h1n1):\n",
    "    '''take the result of an statsmodel results table and transforms it into a dataframe'''\n",
    "    pvals = results_h1n1.pvalues\n",
    "    coeff = results_h1n1.params\n",
    "    conf_lower = results_h1n1.conf_int()[0]\n",
    "    conf_higher = results_h1n1.conf_int()[1]\n",
    "\n",
    "    results_df_h1n1 = pd.DataFrame({\"pvals\":pvals,\n",
    "                               \"coeff\":coeff,\n",
    "                               \"conf_lower\":conf_lower,\n",
    "                               \"conf_higher\":conf_higher\n",
    "                                })\n",
    "\n",
    "    #Reordering...\n",
    "    results_df_h1n1 = results_df_h1n1[[\"coeff\",\"pvals\",\"conf_lower\",\"conf_higher\"]]\n",
    "    return results_df_h1n1\n"
   ]
  },
  {
   "cell_type": "code",
   "execution_count": 45,
   "metadata": {},
   "outputs": [],
   "source": [
    "results_df_h1n1 = results_summary_to_dataframe(results_h1n1)"
   ]
  },
  {
   "cell_type": "code",
   "execution_count": 47,
   "metadata": {},
   "outputs": [
    {
     "data": {
      "text/html": [
       "<div>\n",
       "<style scoped>\n",
       "    .dataframe tbody tr th:only-of-type {\n",
       "        vertical-align: middle;\n",
       "    }\n",
       "\n",
       "    .dataframe tbody tr th {\n",
       "        vertical-align: top;\n",
       "    }\n",
       "\n",
       "    .dataframe thead th {\n",
       "        text-align: right;\n",
       "    }\n",
       "</style>\n",
       "<table border=\"1\" class=\"dataframe\">\n",
       "  <thead>\n",
       "    <tr style=\"text-align: right;\">\n",
       "      <th></th>\n",
       "      <th>coeff</th>\n",
       "      <th>pvals</th>\n",
       "      <th>conf_lower</th>\n",
       "      <th>conf_higher</th>\n",
       "    </tr>\n",
       "  </thead>\n",
       "  <tbody>\n",
       "    <tr>\n",
       "      <th>C(doctor_recc_h1n1)[T.1.0]</th>\n",
       "      <td>0.345598</td>\n",
       "      <td>0.000000e+00</td>\n",
       "      <td>0.331622</td>\n",
       "      <td>0.359574</td>\n",
       "    </tr>\n",
       "    <tr>\n",
       "      <th>C(seasonal_vaccine)[T.1]</th>\n",
       "      <td>0.254506</td>\n",
       "      <td>0.000000e+00</td>\n",
       "      <td>0.243131</td>\n",
       "      <td>0.265881</td>\n",
       "    </tr>\n",
       "    <tr>\n",
       "      <th>C(opinion_h1n1_risk)[T.5.0]</th>\n",
       "      <td>0.250005</td>\n",
       "      <td>9.666086e-98</td>\n",
       "      <td>0.226768</td>\n",
       "      <td>0.273242</td>\n",
       "    </tr>\n",
       "    <tr>\n",
       "      <th>C(opinion_h1n1_vacc_effective)[T.5.0]</th>\n",
       "      <td>0.192920</td>\n",
       "      <td>9.683696e-35</td>\n",
       "      <td>0.162217</td>\n",
       "      <td>0.223622</td>\n",
       "    </tr>\n",
       "    <tr>\n",
       "      <th>C(opinion_h1n1_risk)[T.4.0]</th>\n",
       "      <td>0.168915</td>\n",
       "      <td>1.892024e-93</td>\n",
       "      <td>0.152847</td>\n",
       "      <td>0.184982</td>\n",
       "    </tr>\n",
       "    <tr>\n",
       "      <th>...</th>\n",
       "      <td>...</td>\n",
       "      <td>...</td>\n",
       "      <td>...</td>\n",
       "      <td>...</td>\n",
       "    </tr>\n",
       "    <tr>\n",
       "      <th>C(opinion_h1n1_sick_from_vacc)[T.2.0]</th>\n",
       "      <td>-0.039333</td>\n",
       "      <td>4.320678e-10</td>\n",
       "      <td>-0.051678</td>\n",
       "      <td>-0.026987</td>\n",
       "    </tr>\n",
       "    <tr>\n",
       "      <th>C(h1n1_concern)[T.3.0]</th>\n",
       "      <td>-0.039335</td>\n",
       "      <td>1.362052e-04</td>\n",
       "      <td>-0.059541</td>\n",
       "      <td>-0.019129</td>\n",
       "    </tr>\n",
       "    <tr>\n",
       "      <th>C(opinion_h1n1_sick_from_vacc)[T.3.0]</th>\n",
       "      <td>-0.065372</td>\n",
       "      <td>9.956966e-02</td>\n",
       "      <td>-0.143170</td>\n",
       "      <td>0.012426</td>\n",
       "    </tr>\n",
       "    <tr>\n",
       "      <th>Intercept</th>\n",
       "      <td>-0.077785</td>\n",
       "      <td>5.196546e-04</td>\n",
       "      <td>-0.121712</td>\n",
       "      <td>-0.033859</td>\n",
       "    </tr>\n",
       "    <tr>\n",
       "      <th>C(doctor_recc_seasonal)[T.1.0]</th>\n",
       "      <td>-0.133954</td>\n",
       "      <td>1.709358e-93</td>\n",
       "      <td>-0.146692</td>\n",
       "      <td>-0.121215</td>\n",
       "    </tr>\n",
       "  </tbody>\n",
       "</table>\n",
       "<p>72 rows × 4 columns</p>\n",
       "</div>"
      ],
      "text/plain": [
       "                                          coeff         pvals  conf_lower  \\\n",
       "C(doctor_recc_h1n1)[T.1.0]             0.345598  0.000000e+00    0.331622   \n",
       "C(seasonal_vaccine)[T.1]               0.254506  0.000000e+00    0.243131   \n",
       "C(opinion_h1n1_risk)[T.5.0]            0.250005  9.666086e-98    0.226768   \n",
       "C(opinion_h1n1_vacc_effective)[T.5.0]  0.192920  9.683696e-35    0.162217   \n",
       "C(opinion_h1n1_risk)[T.4.0]            0.168915  1.892024e-93    0.152847   \n",
       "...                                         ...           ...         ...   \n",
       "C(opinion_h1n1_sick_from_vacc)[T.2.0] -0.039333  4.320678e-10   -0.051678   \n",
       "C(h1n1_concern)[T.3.0]                -0.039335  1.362052e-04   -0.059541   \n",
       "C(opinion_h1n1_sick_from_vacc)[T.3.0] -0.065372  9.956966e-02   -0.143170   \n",
       "Intercept                             -0.077785  5.196546e-04   -0.121712   \n",
       "C(doctor_recc_seasonal)[T.1.0]        -0.133954  1.709358e-93   -0.146692   \n",
       "\n",
       "                                       conf_higher  \n",
       "C(doctor_recc_h1n1)[T.1.0]                0.359574  \n",
       "C(seasonal_vaccine)[T.1]                  0.265881  \n",
       "C(opinion_h1n1_risk)[T.5.0]               0.273242  \n",
       "C(opinion_h1n1_vacc_effective)[T.5.0]     0.223622  \n",
       "C(opinion_h1n1_risk)[T.4.0]               0.184982  \n",
       "...                                            ...  \n",
       "C(opinion_h1n1_sick_from_vacc)[T.2.0]    -0.026987  \n",
       "C(h1n1_concern)[T.3.0]                   -0.019129  \n",
       "C(opinion_h1n1_sick_from_vacc)[T.3.0]     0.012426  \n",
       "Intercept                                -0.033859  \n",
       "C(doctor_recc_seasonal)[T.1.0]           -0.121215  \n",
       "\n",
       "[72 rows x 4 columns]"
      ]
     },
     "execution_count": 47,
     "metadata": {},
     "output_type": "execute_result"
    }
   ],
   "source": [
    "results_df_h1n1.sort_values(by=['coeff'], ascending=False)"
   ]
  },
  {
   "cell_type": "code",
   "execution_count": 48,
   "metadata": {},
   "outputs": [],
   "source": [
    "results_df_h1n1.to_csv('feature_importance_h1n1.csv')"
   ]
  },
  {
   "cell_type": "markdown",
   "metadata": {},
   "source": [
    "### Linear regression with limited number of features\n",
    "- Choice of features: most influential ones according to coefficient weights"
   ]
  },
  {
   "cell_type": "code",
   "execution_count": null,
   "metadata": {},
   "outputs": [
    {
     "data": {
      "text/html": [
       "<table class=\"simpletable\">\n",
       "<caption>OLS Regression Results</caption>\n",
       "<tr>\n",
       "  <th>Dep. Variable:</th>      <td>h1n1_vaccine</td>   <th>  R-squared:         </th> <td>   0.335</td> \n",
       "</tr>\n",
       "<tr>\n",
       "  <th>Model:</th>                   <td>OLS</td>       <th>  Adj. R-squared:    </th> <td>   0.335</td> \n",
       "</tr>\n",
       "<tr>\n",
       "  <th>Method:</th>             <td>Least Squares</td>  <th>  F-statistic:       </th> <td>   579.6</td> \n",
       "</tr>\n",
       "<tr>\n",
       "  <th>Date:</th>             <td>Sat, 17 Jul 2021</td> <th>  Prob (F-statistic):</th>  <td>  0.00</td>  \n",
       "</tr>\n",
       "<tr>\n",
       "  <th>Time:</th>                 <td>16:18:05</td>     <th>  Log-Likelihood:    </th> <td> -7509.3</td> \n",
       "</tr>\n",
       "<tr>\n",
       "  <th>No. Observations:</th>      <td> 21853</td>      <th>  AIC:               </th> <td>1.506e+04</td>\n",
       "</tr>\n",
       "<tr>\n",
       "  <th>Df Residuals:</th>          <td> 21833</td>      <th>  BIC:               </th> <td>1.522e+04</td>\n",
       "</tr>\n",
       "<tr>\n",
       "  <th>Df Model:</th>              <td>    19</td>      <th>                     </th>     <td> </td>    \n",
       "</tr>\n",
       "<tr>\n",
       "  <th>Covariance Type:</th>      <td>nonrobust</td>    <th>                     </th>     <td> </td>    \n",
       "</tr>\n",
       "</table>\n",
       "<table class=\"simpletable\">\n",
       "<tr>\n",
       "                    <td></td>                       <th>coef</th>     <th>std err</th>      <th>t</th>      <th>P>|t|</th>  <th>[0.025</th>    <th>0.975]</th>  \n",
       "</tr>\n",
       "<tr>\n",
       "  <th>Intercept</th>                             <td>   -0.0425</td> <td>    0.015</td> <td>   -2.906</td> <td> 0.004</td> <td>   -0.071</td> <td>   -0.014</td>\n",
       "</tr>\n",
       "<tr>\n",
       "  <th>C(seasonal_vaccine)[T.1]</th>              <td>    0.2695</td> <td>    0.006</td> <td>   48.508</td> <td> 0.000</td> <td>    0.259</td> <td>    0.280</td>\n",
       "</tr>\n",
       "<tr>\n",
       "  <th>C(doctor_recc_h1n1)[T.1.0]</th>            <td>    0.3584</td> <td>    0.007</td> <td>   50.295</td> <td> 0.000</td> <td>    0.344</td> <td>    0.372</td>\n",
       "</tr>\n",
       "<tr>\n",
       "  <th>C(doctor_recc_seasonal)[T.1.0]</th>        <td>   -0.1420</td> <td>    0.006</td> <td>  -21.946</td> <td> 0.000</td> <td>   -0.155</td> <td>   -0.129</td>\n",
       "</tr>\n",
       "<tr>\n",
       "  <th>C(opinion_h1n1_vacc_effective)[T.2.0]</th> <td>   -0.0072</td> <td>    0.017</td> <td>   -0.430</td> <td> 0.667</td> <td>   -0.040</td> <td>    0.026</td>\n",
       "</tr>\n",
       "<tr>\n",
       "  <th>C(opinion_h1n1_vacc_effective)[T.3.0]</th> <td>   -0.0047</td> <td>    0.016</td> <td>   -0.293</td> <td> 0.770</td> <td>   -0.036</td> <td>    0.027</td>\n",
       "</tr>\n",
       "<tr>\n",
       "  <th>C(opinion_h1n1_vacc_effective)[T.4.0]</th> <td>    0.0454</td> <td>    0.015</td> <td>    2.988</td> <td> 0.003</td> <td>    0.016</td> <td>    0.075</td>\n",
       "</tr>\n",
       "<tr>\n",
       "  <th>C(opinion_h1n1_vacc_effective)[T.5.0]</th> <td>    0.1871</td> <td>    0.016</td> <td>   11.936</td> <td> 0.000</td> <td>    0.156</td> <td>    0.218</td>\n",
       "</tr>\n",
       "<tr>\n",
       "  <th>C(opinion_h1n1_risk)[T.2.0]</th>           <td>    0.0291</td> <td>    0.006</td> <td>    4.662</td> <td> 0.000</td> <td>    0.017</td> <td>    0.041</td>\n",
       "</tr>\n",
       "<tr>\n",
       "  <th>C(opinion_h1n1_risk)[T.3.0]</th>           <td>    0.0477</td> <td>    0.015</td> <td>    3.207</td> <td> 0.001</td> <td>    0.019</td> <td>    0.077</td>\n",
       "</tr>\n",
       "<tr>\n",
       "  <th>C(opinion_h1n1_risk)[T.4.0]</th>           <td>    0.1616</td> <td>    0.008</td> <td>   20.457</td> <td> 0.000</td> <td>    0.146</td> <td>    0.177</td>\n",
       "</tr>\n",
       "<tr>\n",
       "  <th>C(opinion_h1n1_risk)[T.5.0]</th>           <td>    0.2488</td> <td>    0.012</td> <td>   21.605</td> <td> 0.000</td> <td>    0.226</td> <td>    0.271</td>\n",
       "</tr>\n",
       "<tr>\n",
       "  <th>C(opinion_seas_vacc_effective)[T.2.0]</th> <td>    0.0034</td> <td>    0.015</td> <td>    0.232</td> <td> 0.817</td> <td>   -0.025</td> <td>    0.032</td>\n",
       "</tr>\n",
       "<tr>\n",
       "  <th>C(opinion_seas_vacc_effective)[T.3.0]</th> <td>    0.0421</td> <td>    0.018</td> <td>    2.372</td> <td> 0.018</td> <td>    0.007</td> <td>    0.077</td>\n",
       "</tr>\n",
       "<tr>\n",
       "  <th>C(opinion_seas_vacc_effective)[T.4.0]</th> <td>   -0.0134</td> <td>    0.013</td> <td>   -1.022</td> <td> 0.307</td> <td>   -0.039</td> <td>    0.012</td>\n",
       "</tr>\n",
       "<tr>\n",
       "  <th>C(opinion_seas_vacc_effective)[T.5.0]</th> <td>   -0.0470</td> <td>    0.014</td> <td>   -3.452</td> <td> 0.001</td> <td>   -0.074</td> <td>   -0.020</td>\n",
       "</tr>\n",
       "<tr>\n",
       "  <th>C(opinion_seas_risk)[T.2.0]</th>           <td> 1.913e-05</td> <td>    0.007</td> <td>    0.003</td> <td> 0.998</td> <td>   -0.014</td> <td>    0.014</td>\n",
       "</tr>\n",
       "<tr>\n",
       "  <th>C(opinion_seas_risk)[T.3.0]</th>           <td>    0.0030</td> <td>    0.019</td> <td>    0.154</td> <td> 0.878</td> <td>   -0.035</td> <td>    0.041</td>\n",
       "</tr>\n",
       "<tr>\n",
       "  <th>C(opinion_seas_risk)[T.4.0]</th>           <td>   -0.0113</td> <td>    0.008</td> <td>   -1.413</td> <td> 0.158</td> <td>   -0.027</td> <td>    0.004</td>\n",
       "</tr>\n",
       "<tr>\n",
       "  <th>C(opinion_seas_risk)[T.5.0]</th>           <td>   -0.0277</td> <td>    0.010</td> <td>   -2.670</td> <td> 0.008</td> <td>   -0.048</td> <td>   -0.007</td>\n",
       "</tr>\n",
       "</table>\n",
       "<table class=\"simpletable\">\n",
       "<tr>\n",
       "  <th>Omnibus:</th>       <td>1439.162</td> <th>  Durbin-Watson:     </th> <td>   1.990</td>\n",
       "</tr>\n",
       "<tr>\n",
       "  <th>Prob(Omnibus):</th>  <td> 0.000</td>  <th>  Jarque-Bera (JB):  </th> <td>1745.634</td>\n",
       "</tr>\n",
       "<tr>\n",
       "  <th>Skew:</th>           <td> 0.661</td>  <th>  Prob(JB):          </th> <td>    0.00</td>\n",
       "</tr>\n",
       "<tr>\n",
       "  <th>Kurtosis:</th>       <td> 3.410</td>  <th>  Cond. No.          </th> <td>    23.5</td>\n",
       "</tr>\n",
       "</table><br/><br/>Notes:<br/>[1] Standard Errors assume that the covariance matrix of the errors is correctly specified."
      ],
      "text/plain": [
       "<class 'statsmodels.iolib.summary.Summary'>\n",
       "\"\"\"\n",
       "                            OLS Regression Results                            \n",
       "==============================================================================\n",
       "Dep. Variable:           h1n1_vaccine   R-squared:                       0.335\n",
       "Model:                            OLS   Adj. R-squared:                  0.335\n",
       "Method:                 Least Squares   F-statistic:                     579.6\n",
       "Date:                Sat, 17 Jul 2021   Prob (F-statistic):               0.00\n",
       "Time:                        16:18:05   Log-Likelihood:                -7509.3\n",
       "No. Observations:               21853   AIC:                         1.506e+04\n",
       "Df Residuals:                   21833   BIC:                         1.522e+04\n",
       "Df Model:                          19                                         \n",
       "Covariance Type:            nonrobust                                         \n",
       "=========================================================================================================\n",
       "                                            coef    std err          t      P>|t|      [0.025      0.975]\n",
       "---------------------------------------------------------------------------------------------------------\n",
       "Intercept                                -0.0425      0.015     -2.906      0.004      -0.071      -0.014\n",
       "C(seasonal_vaccine)[T.1]                  0.2695      0.006     48.508      0.000       0.259       0.280\n",
       "C(doctor_recc_h1n1)[T.1.0]                0.3584      0.007     50.295      0.000       0.344       0.372\n",
       "C(doctor_recc_seasonal)[T.1.0]           -0.1420      0.006    -21.946      0.000      -0.155      -0.129\n",
       "C(opinion_h1n1_vacc_effective)[T.2.0]    -0.0072      0.017     -0.430      0.667      -0.040       0.026\n",
       "C(opinion_h1n1_vacc_effective)[T.3.0]    -0.0047      0.016     -0.293      0.770      -0.036       0.027\n",
       "C(opinion_h1n1_vacc_effective)[T.4.0]     0.0454      0.015      2.988      0.003       0.016       0.075\n",
       "C(opinion_h1n1_vacc_effective)[T.5.0]     0.1871      0.016     11.936      0.000       0.156       0.218\n",
       "C(opinion_h1n1_risk)[T.2.0]               0.0291      0.006      4.662      0.000       0.017       0.041\n",
       "C(opinion_h1n1_risk)[T.3.0]               0.0477      0.015      3.207      0.001       0.019       0.077\n",
       "C(opinion_h1n1_risk)[T.4.0]               0.1616      0.008     20.457      0.000       0.146       0.177\n",
       "C(opinion_h1n1_risk)[T.5.0]               0.2488      0.012     21.605      0.000       0.226       0.271\n",
       "C(opinion_seas_vacc_effective)[T.2.0]     0.0034      0.015      0.232      0.817      -0.025       0.032\n",
       "C(opinion_seas_vacc_effective)[T.3.0]     0.0421      0.018      2.372      0.018       0.007       0.077\n",
       "C(opinion_seas_vacc_effective)[T.4.0]    -0.0134      0.013     -1.022      0.307      -0.039       0.012\n",
       "C(opinion_seas_vacc_effective)[T.5.0]    -0.0470      0.014     -3.452      0.001      -0.074      -0.020\n",
       "C(opinion_seas_risk)[T.2.0]            1.913e-05      0.007      0.003      0.998      -0.014       0.014\n",
       "C(opinion_seas_risk)[T.3.0]               0.0030      0.019      0.154      0.878      -0.035       0.041\n",
       "C(opinion_seas_risk)[T.4.0]              -0.0113      0.008     -1.413      0.158      -0.027       0.004\n",
       "C(opinion_seas_risk)[T.5.0]              -0.0277      0.010     -2.670      0.008      -0.048      -0.007\n",
       "==============================================================================\n",
       "Omnibus:                     1439.162   Durbin-Watson:                   1.990\n",
       "Prob(Omnibus):                  0.000   Jarque-Bera (JB):             1745.634\n",
       "Skew:                           0.661   Prob(JB):                         0.00\n",
       "Kurtosis:                       3.410   Cond. No.                         23.5\n",
       "==============================================================================\n",
       "\n",
       "Notes:\n",
       "[1] Standard Errors assume that the covariance matrix of the errors is correctly specified.\n",
       "\"\"\""
      ]
     },
     "execution_count": 127,
     "metadata": {},
     "output_type": "execute_result"
    }
   ],
   "source": [
    "# including the following features: seasonal_vaccine, doctor_recc_h1n1, doctor_recc_seasonal, opinion_h1n1_vacc_effective, opinion_h1n1_risk, opinion_seas_vacc_effective, opinion_seas_risk\n",
    "smf.ols(formula='h1n1_vaccine ~ C(seasonal_vaccine) + C(doctor_recc_h1n1) + C(doctor_recc_seasonal) + C(opinion_h1n1_vacc_effective) + C(opinion_h1n1_risk) + C(opinion_seas_vacc_effective) + C(opinion_seas_risk)', data=df).fit().summary()"
   ]
  },
  {
   "cell_type": "markdown",
   "metadata": {},
   "source": [
    "- When we consider h1n1_vaccines as target, including seasonal_vaccine into features, the following features show the highest importance:\n",
    "    - doctor_recc_h1n1\n",
    "    - seasonal_vaccine\n",
    "    - opinion_h1n1_vacc_effective\n",
    "    - opinion_h1n1_risk"
   ]
  },
  {
   "cell_type": "markdown",
   "metadata": {},
   "source": [
    "## Linear regression with seasonal vaccine as target variable \n",
    "- the H1N1 vaccine is included as a feature"
   ]
  },
  {
   "cell_type": "code",
   "execution_count": null,
   "metadata": {},
   "outputs": [],
   "source": [
    "# performing linear regression with seasonal vaccine as target \n",
    "results = smf.ols(formula='seasonal_vaccine ~ C(h1n1_vaccine) + C(h1n1_concern) + C(h1n1_knowledge) + C(behavioral_antiviral_meds) + C(behavioral_avoidance) + C(behavioral_face_mask) + C(behavioral_wash_hands) + C(behavioral_large_gatherings) + C(behavioral_outside_home) + C(behavioral_touch_face) + C(doctor_recc_h1n1) + C(doctor_recc_seasonal) + C(chronic_med_condition) + C(child_under_6_months) + C(health_worker) + C(opinion_h1n1_vacc_effective) + C(opinion_h1n1_risk) + C(opinion_h1n1_sick_from_vacc) + C(opinion_seas_vacc_effective) + C(opinion_seas_risk) + C(opinion_seas_sick_from_vacc) + C(age_group) + C(education) + C(race) + C(sex) + C(rent_or_own) + C(hhs_geo_region) + C(census_msa) + C(household_adults) + C(household_children)', data=df).fit()"
   ]
  },
  {
   "cell_type": "code",
   "execution_count": null,
   "metadata": {},
   "outputs": [
    {
     "name": "stdout",
     "output_type": "stream",
     "text": [
      "                            OLS Regression Results                            \n",
      "==============================================================================\n",
      "Dep. Variable:       seasonal_vaccine   R-squared:                       0.429\n",
      "Model:                            OLS   Adj. R-squared:                  0.428\n",
      "Method:                 Least Squares   F-statistic:                     230.9\n",
      "Date:                Sat, 17 Jul 2021   Prob (F-statistic):               0.00\n",
      "Time:                        16:18:10   Log-Likelihood:                -9710.7\n",
      "No. Observations:               21853   AIC:                         1.957e+04\n",
      "Df Residuals:                   21781   BIC:                         2.014e+04\n",
      "Df Model:                          71                                         \n",
      "Covariance Type:            nonrobust                                         \n",
      "=========================================================================================================\n",
      "                                            coef    std err          t      P>|t|      [0.025      0.975]\n",
      "---------------------------------------------------------------------------------------------------------\n",
      "Intercept                                -0.0861      0.025     -3.435      0.001      -0.135      -0.037\n",
      "C(h1n1_vaccine)[T.1]                      0.3188      0.007     43.855      0.000       0.305       0.333\n",
      "C(h1n1_concern)[T.1.0]                    0.0077      0.009      0.823      0.410      -0.011       0.026\n",
      "C(h1n1_concern)[T.2.0]                    0.0199      0.010      2.034      0.042       0.001       0.039\n",
      "C(h1n1_concern)[T.3.0]                    0.0085      0.012      0.741      0.459      -0.014       0.031\n",
      "C(h1n1_knowledge)[T.1.0]                  0.0275      0.010      2.672      0.008       0.007       0.048\n",
      "C(h1n1_knowledge)[T.2.0]                  0.0561      0.011      5.075      0.000       0.034       0.078\n",
      "C(behavioral_antiviral_meds)[T.1.0]       0.0025      0.012      0.205      0.837      -0.022       0.027\n",
      "C(behavioral_avoidance)[T.1.0]           -0.0031      0.007     -0.483      0.629      -0.016       0.010\n",
      "C(behavioral_face_mask)[T.1.0]            0.0036      0.011      0.333      0.739      -0.017       0.024\n",
      "C(behavioral_wash_hands)[T.1.0]           0.0075      0.008      0.960      0.337      -0.008       0.023\n",
      "C(behavioral_large_gatherings)[T.1.0]     0.0049      0.007      0.714      0.475      -0.008       0.018\n",
      "C(behavioral_outside_home)[T.1.0]        -0.0068      0.007     -0.981      0.327      -0.020       0.007\n",
      "C(behavioral_touch_face)[T.1.0]           0.0284      0.006      4.497      0.000       0.016       0.041\n",
      "C(doctor_recc_h1n1)[T.1.0]               -0.1552      0.008    -18.627      0.000      -0.172      -0.139\n",
      "C(doctor_recc_seasonal)[T.1.0]            0.2673      0.007     37.551      0.000       0.253       0.281\n",
      "C(chronic_med_condition)[T.1.0]           0.0323      0.006      5.362      0.000       0.021       0.044\n",
      "C(child_under_6_months)[T.1.0]            0.0100      0.009      1.053      0.292      -0.009       0.028\n",
      "C(health_worker)[T.1.0]                   0.0994      0.008     11.745      0.000       0.083       0.116\n",
      "C(opinion_h1n1_vacc_effective)[T.2.0]    -0.0021      0.019     -0.115      0.909      -0.039       0.034\n",
      "C(opinion_h1n1_vacc_effective)[T.3.0]     0.0204      0.018      1.151      0.250      -0.014       0.055\n",
      "C(opinion_h1n1_vacc_effective)[T.4.0]    -0.0006      0.017     -0.038      0.970      -0.034       0.033\n",
      "C(opinion_h1n1_vacc_effective)[T.5.0]    -0.0458      0.018     -2.605      0.009      -0.080      -0.011\n",
      "C(opinion_h1n1_risk)[T.2.0]               0.0022      0.007      0.310      0.757      -0.012       0.016\n",
      "C(opinion_h1n1_risk)[T.3.0]               0.0038      0.017      0.230      0.818      -0.029       0.036\n",
      "C(opinion_h1n1_risk)[T.4.0]              -0.0205      0.009     -2.208      0.027      -0.039      -0.002\n",
      "C(opinion_h1n1_risk)[T.5.0]              -0.0872      0.013     -6.513      0.000      -0.113      -0.061\n",
      "C(opinion_h1n1_sick_from_vacc)[T.2.0]     0.0274      0.007      3.883      0.000       0.014       0.041\n",
      "C(opinion_h1n1_sick_from_vacc)[T.3.0]    -0.0050      0.044     -0.113      0.910      -0.092       0.082\n",
      "C(opinion_h1n1_sick_from_vacc)[T.4.0]    -0.0059      0.008     -0.713      0.476      -0.022       0.010\n",
      "C(opinion_h1n1_sick_from_vacc)[T.5.0]    -0.0268      0.012     -2.217      0.027      -0.050      -0.003\n",
      "C(opinion_seas_vacc_effective)[T.2.0]    -0.0506      0.016     -3.106      0.002      -0.082      -0.019\n",
      "C(opinion_seas_vacc_effective)[T.3.0]     0.0048      0.020      0.244      0.807      -0.034       0.044\n",
      "C(opinion_seas_vacc_effective)[T.4.0]     0.0684      0.015      4.662      0.000       0.040       0.097\n",
      "C(opinion_seas_vacc_effective)[T.5.0]     0.2363      0.015     15.597      0.000       0.207       0.266\n",
      "C(opinion_seas_risk)[T.2.0]               0.1069      0.008     13.572      0.000       0.091       0.122\n",
      "C(opinion_seas_risk)[T.3.0]               0.2373      0.022     11.006      0.000       0.195       0.280\n",
      "C(opinion_seas_risk)[T.4.0]               0.2784      0.009     31.326      0.000       0.261       0.296\n",
      "C(opinion_seas_risk)[T.5.0]               0.3558      0.012     30.851      0.000       0.333       0.378\n",
      "C(opinion_seas_sick_from_vacc)[T.2.0]    -0.0602      0.007     -8.828      0.000      -0.074      -0.047\n",
      "C(opinion_seas_sick_from_vacc)[T.3.0]    -0.2697      0.053     -5.106      0.000      -0.373      -0.166\n",
      "C(opinion_seas_sick_from_vacc)[T.4.0]    -0.0717      0.008     -8.999      0.000      -0.087      -0.056\n",
      "C(opinion_seas_sick_from_vacc)[T.5.0]    -0.1128      0.013     -8.986      0.000      -0.137      -0.088\n",
      "C(age_group)[T.35 - 44 Years]             0.0404      0.009      4.370      0.000       0.022       0.059\n",
      "C(age_group)[T.45 - 54 Years]             0.0732      0.009      8.509      0.000       0.056       0.090\n",
      "C(age_group)[T.55 - 64 Years]             0.1156      0.009     12.721      0.000       0.098       0.133\n",
      "C(age_group)[T.65+ Years]                 0.2474      0.010     26.006      0.000       0.229       0.266\n",
      "C(education)[T.< 12 Years]               -0.0291      0.010     -2.784      0.005      -0.050      -0.009\n",
      "C(education)[T.College Graduate]          0.0360      0.007      4.982      0.000       0.022       0.050\n",
      "C(education)[T.Some College]              0.0131      0.007      1.778      0.075      -0.001       0.028\n",
      "C(race)[T.Hispanic]                       0.0112      0.014      0.789      0.430      -0.017       0.039\n",
      "C(race)[T.Other or Multiple]              0.0612      0.015      4.200      0.000       0.033       0.090\n",
      "C(race)[T.White]                          0.0396      0.010      3.774      0.000       0.019       0.060\n",
      "C(sex)[T.Male]                           -0.0054      0.005     -0.987      0.324      -0.016       0.005\n",
      "C(rent_or_own)[T.Rent]                   -0.0315      0.007     -4.682      0.000      -0.045      -0.018\n",
      "C(hhs_geo_region)[T.bhuqouqj]            -0.0378      0.012     -3.113      0.002      -0.062      -0.014\n",
      "C(hhs_geo_region)[T.dqpwygqj]            -0.0507      0.016     -3.219      0.001      -0.082      -0.020\n",
      "C(hhs_geo_region)[T.fpwskwrf]            -0.0123      0.012     -1.030      0.303      -0.036       0.011\n",
      "C(hhs_geo_region)[T.kbazzjca]            -0.0062      0.012     -0.510      0.610      -0.030       0.018\n",
      "C(hhs_geo_region)[T.lrircsnp]            -0.0575      0.013     -4.401      0.000      -0.083      -0.032\n",
      "C(hhs_geo_region)[T.lzgpxyit]            -0.0275      0.011     -2.423      0.015      -0.050      -0.005\n",
      "C(hhs_geo_region)[T.mlyzmhmf]            -0.0392      0.013     -3.002      0.003      -0.065      -0.014\n",
      "C(hhs_geo_region)[T.oxchjgsf]            -0.0193      0.012     -1.600      0.110      -0.043       0.004\n",
      "C(hhs_geo_region)[T.qufhixun]            -0.0320      0.012     -2.695      0.007      -0.055      -0.009\n",
      "C(census_msa)[T.MSA, Principle City]     -0.0043      0.006     -0.684      0.494      -0.017       0.008\n",
      "C(census_msa)[T.Non-MSA]                 -0.0268      0.006     -4.131      0.000      -0.040      -0.014\n",
      "C(household_adults)[T.1.0]                0.0087      0.006      1.395      0.163      -0.004       0.021\n",
      "C(household_adults)[T.2.0]               -0.0096      0.010     -1.008      0.313      -0.028       0.009\n",
      "C(household_adults)[T.3.0]               -0.0003      0.014     -0.019      0.985      -0.027       0.026\n",
      "C(household_children)[T.1.0]             -0.0096      0.009     -1.112      0.266      -0.027       0.007\n",
      "C(household_children)[T.2.0]             -0.0015      0.009     -0.155      0.877      -0.020       0.017\n",
      "C(household_children)[T.3.0]             -0.0073      0.012     -0.636      0.525      -0.030       0.015\n",
      "==============================================================================\n",
      "Omnibus:                      214.002   Durbin-Watson:                   2.011\n",
      "Prob(Omnibus):                  0.000   Jarque-Bera (JB):              190.736\n",
      "Skew:                           0.182   Prob(JB):                     3.82e-42\n",
      "Kurtosis:                       2.721   Cond. No.                         58.4\n",
      "==============================================================================\n",
      "\n",
      "Notes:\n",
      "[1] Standard Errors assume that the covariance matrix of the errors is correctly specified.\n"
     ]
    }
   ],
   "source": [
    "results_summary = results.summary()\n",
    "print(results_summary)"
   ]
  },
  {
   "cell_type": "markdown",
   "metadata": {},
   "source": [
    "- Adj. R-squared:\t0.428 (seasonal_vaccine as target, all other variables as features)"
   ]
  },
  {
   "cell_type": "code",
   "execution_count": null,
   "metadata": {},
   "outputs": [],
   "source": [
    "# Creating a function that transforms the results into a dataframe\n",
    "# hoping to have a better grip on the feature importance\n",
    "\n",
    "def results_summary_to_dataframe(results):\n",
    "    '''take the result of an statsmodel results table and transforms it into a dataframe'''\n",
    "    pvals = results.pvalues\n",
    "    coeff = results.params\n",
    "    conf_lower = results.conf_int()[0]\n",
    "    conf_higher = results.conf_int()[1]\n",
    "\n",
    "    results_df = pd.DataFrame({\"pvals\":pvals,\n",
    "                               \"coeff\":coeff,\n",
    "                               \"conf_lower\":conf_lower,\n",
    "                               \"conf_higher\":conf_higher\n",
    "                                })\n",
    "\n",
    "    #Reordering...\n",
    "    results_df = results_df[[\"coeff\",\"pvals\",\"conf_lower\",\"conf_higher\"]]\n",
    "    return results_df\n"
   ]
  },
  {
   "cell_type": "code",
   "execution_count": null,
   "metadata": {},
   "outputs": [],
   "source": [
    "results_df = results_summary_to_dataframe(results)"
   ]
  },
  {
   "cell_type": "code",
   "execution_count": null,
   "metadata": {},
   "outputs": [
    {
     "data": {
      "text/html": [
       "<div>\n",
       "<style scoped>\n",
       "    .dataframe tbody tr th:only-of-type {\n",
       "        vertical-align: middle;\n",
       "    }\n",
       "\n",
       "    .dataframe tbody tr th {\n",
       "        vertical-align: top;\n",
       "    }\n",
       "\n",
       "    .dataframe thead th {\n",
       "        text-align: right;\n",
       "    }\n",
       "</style>\n",
       "<table border=\"1\" class=\"dataframe\">\n",
       "  <thead>\n",
       "    <tr style=\"text-align: right;\">\n",
       "      <th></th>\n",
       "      <th>coeff</th>\n",
       "      <th>pvals</th>\n",
       "      <th>conf_lower</th>\n",
       "      <th>conf_higher</th>\n",
       "    </tr>\n",
       "  </thead>\n",
       "  <tbody>\n",
       "    <tr>\n",
       "      <th>C(opinion_seas_risk)[T.5.0]</th>\n",
       "      <td>0.355755</td>\n",
       "      <td>1.349827e-204</td>\n",
       "      <td>0.333153</td>\n",
       "      <td>0.378357</td>\n",
       "    </tr>\n",
       "    <tr>\n",
       "      <th>C(h1n1_vaccine)[T.1]</th>\n",
       "      <td>0.318791</td>\n",
       "      <td>0.000000e+00</td>\n",
       "      <td>0.304543</td>\n",
       "      <td>0.333039</td>\n",
       "    </tr>\n",
       "    <tr>\n",
       "      <th>C(opinion_seas_risk)[T.4.0]</th>\n",
       "      <td>0.278352</td>\n",
       "      <td>9.697290e-211</td>\n",
       "      <td>0.260936</td>\n",
       "      <td>0.295769</td>\n",
       "    </tr>\n",
       "    <tr>\n",
       "      <th>C(doctor_recc_seasonal)[T.1.0]</th>\n",
       "      <td>0.267276</td>\n",
       "      <td>4.406808e-299</td>\n",
       "      <td>0.253325</td>\n",
       "      <td>0.281227</td>\n",
       "    </tr>\n",
       "    <tr>\n",
       "      <th>C(age_group)[T.65+ Years]</th>\n",
       "      <td>0.247381</td>\n",
       "      <td>7.457680e-147</td>\n",
       "      <td>0.228735</td>\n",
       "      <td>0.266026</td>\n",
       "    </tr>\n",
       "    <tr>\n",
       "      <th>...</th>\n",
       "      <td>...</td>\n",
       "      <td>...</td>\n",
       "      <td>...</td>\n",
       "      <td>...</td>\n",
       "    </tr>\n",
       "    <tr>\n",
       "      <th>Intercept</th>\n",
       "      <td>-0.086147</td>\n",
       "      <td>5.944759e-04</td>\n",
       "      <td>-0.135309</td>\n",
       "      <td>-0.036984</td>\n",
       "    </tr>\n",
       "    <tr>\n",
       "      <th>C(opinion_h1n1_risk)[T.5.0]</th>\n",
       "      <td>-0.087208</td>\n",
       "      <td>7.531097e-11</td>\n",
       "      <td>-0.113453</td>\n",
       "      <td>-0.060962</td>\n",
       "    </tr>\n",
       "    <tr>\n",
       "      <th>C(opinion_seas_sick_from_vacc)[T.5.0]</th>\n",
       "      <td>-0.112763</td>\n",
       "      <td>2.773389e-19</td>\n",
       "      <td>-0.137361</td>\n",
       "      <td>-0.088166</td>\n",
       "    </tr>\n",
       "    <tr>\n",
       "      <th>C(doctor_recc_h1n1)[T.1.0]</th>\n",
       "      <td>-0.155225</td>\n",
       "      <td>7.684738e-77</td>\n",
       "      <td>-0.171559</td>\n",
       "      <td>-0.138891</td>\n",
       "    </tr>\n",
       "    <tr>\n",
       "      <th>C(opinion_seas_sick_from_vacc)[T.3.0]</th>\n",
       "      <td>-0.269700</td>\n",
       "      <td>3.321713e-07</td>\n",
       "      <td>-0.373235</td>\n",
       "      <td>-0.166164</td>\n",
       "    </tr>\n",
       "  </tbody>\n",
       "</table>\n",
       "<p>72 rows × 4 columns</p>\n",
       "</div>"
      ],
      "text/plain": [
       "                                          coeff          pvals  conf_lower  \\\n",
       "C(opinion_seas_risk)[T.5.0]            0.355755  1.349827e-204    0.333153   \n",
       "C(h1n1_vaccine)[T.1]                   0.318791   0.000000e+00    0.304543   \n",
       "C(opinion_seas_risk)[T.4.0]            0.278352  9.697290e-211    0.260936   \n",
       "C(doctor_recc_seasonal)[T.1.0]         0.267276  4.406808e-299    0.253325   \n",
       "C(age_group)[T.65+ Years]              0.247381  7.457680e-147    0.228735   \n",
       "...                                         ...            ...         ...   \n",
       "Intercept                             -0.086147   5.944759e-04   -0.135309   \n",
       "C(opinion_h1n1_risk)[T.5.0]           -0.087208   7.531097e-11   -0.113453   \n",
       "C(opinion_seas_sick_from_vacc)[T.5.0] -0.112763   2.773389e-19   -0.137361   \n",
       "C(doctor_recc_h1n1)[T.1.0]            -0.155225   7.684738e-77   -0.171559   \n",
       "C(opinion_seas_sick_from_vacc)[T.3.0] -0.269700   3.321713e-07   -0.373235   \n",
       "\n",
       "                                       conf_higher  \n",
       "C(opinion_seas_risk)[T.5.0]               0.378357  \n",
       "C(h1n1_vaccine)[T.1]                      0.333039  \n",
       "C(opinion_seas_risk)[T.4.0]               0.295769  \n",
       "C(doctor_recc_seasonal)[T.1.0]            0.281227  \n",
       "C(age_group)[T.65+ Years]                 0.266026  \n",
       "...                                            ...  \n",
       "Intercept                                -0.036984  \n",
       "C(opinion_h1n1_risk)[T.5.0]              -0.060962  \n",
       "C(opinion_seas_sick_from_vacc)[T.5.0]    -0.088166  \n",
       "C(doctor_recc_h1n1)[T.1.0]               -0.138891  \n",
       "C(opinion_seas_sick_from_vacc)[T.3.0]    -0.166164  \n",
       "\n",
       "[72 rows x 4 columns]"
      ]
     },
     "execution_count": 135,
     "metadata": {},
     "output_type": "execute_result"
    }
   ],
   "source": [
    "results_df.sort_values(by=['coeff'], ascending=False)"
   ]
  },
  {
   "cell_type": "code",
   "execution_count": null,
   "metadata": {},
   "outputs": [],
   "source": [
    "results_df.to_csv('feature_importance.csv')"
   ]
  },
  {
   "cell_type": "markdown",
   "metadata": {},
   "source": [
    "## Applying the sklearn linear regression model"
   ]
  },
  {
   "cell_type": "code",
   "execution_count": null,
   "metadata": {},
   "outputs": [],
   "source": [
    "from sklearn.linear_model import LinearRegression"
   ]
  },
  {
   "cell_type": "code",
   "execution_count": null,
   "metadata": {},
   "outputs": [
    {
     "data": {
      "text/plain": [
       "Pipeline(steps=[('preprocessor',\n",
       "                 ColumnTransformer(transformers=[('cat',\n",
       "                                                  Pipeline(steps=[('1hot',\n",
       "                                                                   OneHotEncoder(drop='first'))]),\n",
       "                                                  ['seasonal_vaccine',\n",
       "                                                   'h1n1_concern',\n",
       "                                                   'h1n1_knowledge',\n",
       "                                                   'behavioral_antiviral_meds',\n",
       "                                                   'behavioral_avoidance',\n",
       "                                                   'behavioral_face_mask',\n",
       "                                                   'behavioral_wash_hands',\n",
       "                                                   'behavioral_large_gatherings',\n",
       "                                                   'behavioral_outside_home',\n",
       "                                                   'behavioral_touch_...\n",
       "                                                   'child_under_6_months',\n",
       "                                                   'health_worker',\n",
       "                                                   'opinion_h1n1_vacc_effective',\n",
       "                                                   'opinion_h1n1_risk',\n",
       "                                                   'opinion_h1n1_sick_from_vacc',\n",
       "                                                   'opinion_seas_vacc_effective',\n",
       "                                                   'opinion_seas_risk',\n",
       "                                                   'opinion_seas_sick_from_vacc',\n",
       "                                                   'age_group', 'education',\n",
       "                                                   'race', 'sex', 'rent_or_own',\n",
       "                                                   'hhs_geo_region',\n",
       "                                                   'census_msa',\n",
       "                                                   'household_adults',\n",
       "                                                   'household_children'])])),\n",
       "                ('estimators', LinearRegression())])"
      ]
     },
     "execution_count": 59,
     "metadata": {},
     "output_type": "execute_result"
    }
   ],
   "source": [
    "full_pipeline.fit(X_train, y_train)"
   ]
  },
  {
   "cell_type": "code",
   "execution_count": null,
   "metadata": {},
   "outputs": [],
   "source": [
    "y_pred = full_pipeline.predict(X_test)"
   ]
  },
  {
   "cell_type": "code",
   "execution_count": null,
   "metadata": {},
   "outputs": [],
   "source": [
    "from sklearn import metrics"
   ]
  },
  {
   "cell_type": "code",
   "execution_count": null,
   "metadata": {},
   "outputs": [
    {
     "name": "stdout",
     "output_type": "stream",
     "text": [
      "Mean absolute error      : 0.25095079075737264\n",
      "R squared                : 0.3408536515020424\n"
     ]
    }
   ],
   "source": [
    "print('Mean absolute error      :', metrics.mean_absolute_error(y_test, y_pred))\n",
    "print('R squared                :', metrics.r2_score(y_test, y_pred))"
   ]
  },
  {
   "cell_type": "markdown",
   "metadata": {},
   "source": []
  },
  {
   "cell_type": "markdown",
   "metadata": {},
   "source": [
    "- model performs poorly on our dataset (but two target variables were given)\n",
    "- next step: do lin reg for single targets \n",
    "- pipeline and data selection will be adjusted \n",
    "- results for SGDClassifier on H1N1: very poor\n",
    "- results for LinearRegression on H1N1: R squared : 0.3408536515020424 (still very poor, statsmodel approach still works a bit better)"
   ]
  },
  {
   "cell_type": "markdown",
   "metadata": {},
   "source": [
    "This is an extensive source for interpreting coefficients in linear reg models\n",
    "However, there does not seem to be a way of recombining the dummy variables    \n",
    "\n",
    "https://scikit-learn.org/stable/auto_examples/inspection/plot_linear_model_coefficient_interpretation.html"
   ]
  },
  {
   "cell_type": "code",
   "execution_count": null,
   "metadata": {},
   "outputs": [],
   "source": [
    "'''feature_names = (model.named_steps['columntransformer']\n",
    "                      .named_transformers_['onehotencoder']\n",
    "                      .get_feature_names(input_features=categorical_columns))\n",
    "feature_names = np.concatenate(\n",
    "    [feature_names, numerical_columns])\n",
    "\n",
    "coefs = pd.DataFrame(\n",
    "    model.named_steps['transformedtargetregressor'].regressor_.coef_,\n",
    "    columns=['Coefficients'], index=feature_names\n",
    ")\n",
    "\n",
    "coefs\n",
    "'''"
   ]
  },
  {
   "cell_type": "markdown",
   "metadata": {},
   "source": []
  }
 ],
 "metadata": {
  "interpreter": {
   "hash": "c0c25dab8ee693e846481bd08863e7cb648266bb2d9a40c015c16febc8ddeeb0"
  },
  "kernelspec": {
   "display_name": "Python 3.8.5 64-bit ('.venv': venv)",
   "name": "python3"
  },
  "language_info": {
   "codemirror_mode": {
    "name": "ipython",
    "version": 3
   },
   "file_extension": ".py",
   "mimetype": "text/x-python",
   "name": "python",
   "nbconvert_exporter": "python",
   "pygments_lexer": "ipython3",
   "version": "3.8.5"
  },
  "metadata": {
   "interpreter": {
    "hash": "aee8b7b246df8f9039afb4144a1f6fd8d2ca17a180786b69acc140d282b71a49"
   }
  }
 },
 "nbformat": 4,
 "nbformat_minor": 4
}