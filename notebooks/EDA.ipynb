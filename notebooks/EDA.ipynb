{
 "cells": [
  {
   "cell_type": "markdown",
   "metadata": {},
   "source": [
    "## EDA for data understanding and visualisations"
   ]
  },
  {
   "cell_type": "code",
   "execution_count": null,
   "metadata": {},
   "outputs": [],
   "source": [
    "# Importing the relevant libraries\n",
    "\n",
    "import sys\n",
    "# adding to the path variables the one folder higher (locally, not changing system variables)\n",
    "sys.path.append(\"..\")\n",
    "import pandas as pd\n",
    "import numpy as np\n",
    "import warnings\n",
    "import mlflow\n",
    "from modeling.config import TRACKING_URI, EXPERIMENT_NAME\n",
    "\n",
    "pd.set_option('display.max_columns', None)\n",
    "\n",
    "RSEED = 42\n",
    "# Modeling Libraries\n",
    "\n",
    "import matplotlib.pyplot as plt\n",
    "import seaborn as sns\n",
    "import plotly.express as px  # pip install plotly needs to executed\n",
    "import plotly.graph_objects as go"
   ]
  },
  {
   "cell_type": "code",
   "execution_count": null,
   "metadata": {},
   "outputs": [],
   "source": [
    "# We need to add plotly to our requirements"
   ]
  },
  {
   "cell_type": "code",
   "execution_count": null,
   "metadata": {},
   "outputs": [],
   "source": [
    "# Reading in the data \n",
    "df = pd.read_csv('../data/Flu_Shot_Data_cleaned_1.csv')"
   ]
  },
  {
   "cell_type": "code",
   "execution_count": null,
   "metadata": {},
   "outputs": [],
   "source": [
    "df.info()"
   ]
  },
  {
   "cell_type": "code",
   "execution_count": null,
   "metadata": {},
   "outputs": [],
   "source": [
    "# Looking at the distribution of our target variables \n",
    "\n",
    "print(df.h1n1_vaccine.value_counts(normalize=True))\n",
    "print(df.seasonal_vaccine.value_counts(normalize=True))"
   ]
  },
  {
   "cell_type": "code",
   "execution_count": null,
   "metadata": {},
   "outputs": [],
   "source": [
    "sns.countplot(x='h1n1_vaccine', data=df)"
   ]
  },
  {
   "cell_type": "code",
   "execution_count": null,
   "metadata": {},
   "outputs": [],
   "source": [
    "# Creating plots for the distribution of our target variables \n",
    "\n",
    "fig, (ax1, ax2) = plt.subplots(1, 2, figsize=(11,3))\n",
    "\n",
    "df['h1n1_vaccine'].value_counts(normalize=True).plot(kind='bar', ax=ax1, color=['dimgrey', 'forestgreen'], rot=0)\n",
    "ax1.set_title('Distribution of H1N1 vaccinations (%)')\n",
    "ax1.set_xlabel('')\n",
    "ax1.set_xticklabels(['Not vaccinated', 'Vaccinated'])\n",
    "ax1.set_ylim([0,1]) # setting the limits for the y-axis\n",
    "\n",
    "df['seasonal_vaccine'].value_counts(normalize=True).plot(kind='bar', ax=ax2, color=['dimgrey', 'forestgreen'], rot=0)\n",
    "ax2.set_title('Distribution of seasonal flu vaccinations (%)')\n",
    "ax2.set_xlabel('')\n",
    "ax2.set_xticklabels(['Not vaccinated', 'Vaccinated'])\n",
    "ax2.set_ylim([0,1]) # setting the limits for the y-axis\n",
    "\n",
    "fig.subplots_adjust(hspace=0.3)\n",
    "plt.savefig('../images/distribution_target.jpg')\n",
    "plt.show()\n"
   ]
  },
  {
   "cell_type": "code",
   "execution_count": null,
   "metadata": {},
   "outputs": [],
   "source": [
    "df.groupby('h1n1_vaccine')['seasonal_vaccine'].value_counts(sort=False)"
   ]
  },
  {
   "cell_type": "code",
   "execution_count": null,
   "metadata": {},
   "outputs": [],
   "source": [
    "# Creating plots for the distribution of overlaps between H1N1 and seasonal flu vaccines\n",
    "\n",
    "fig, (ax1, ax2) = plt.subplots(1, 2, figsize=(15,3))\n",
    "\n",
    "df.groupby('h1n1_vaccine').seasonal_vaccine.value_counts(normalize=True, sort=False).plot(kind='bar', color=['dimgrey', 'forestgreen'], ax=ax1,  rot=0)\n",
    "ax1.set_title('Seasonal vaccinations by H1N1 vaccine status')\n",
    "ax1.set_xlabel('')\n",
    "ax1.set_xticklabels(['Not vaccinated', 'Vaccinated', 'Not vaccinated', 'Vaccinated'])\n",
    "ax1.set_ylim([0,1])\n",
    "\n",
    "df.groupby('seasonal_vaccine').h1n1_vaccine.value_counts(normalize=True, sort=False).plot(kind='bar', ax=ax2, color=['dimgrey', 'forestgreen'], rot=0)\n",
    "ax2.set_title('H1N1 vaccinations by seasonal vaccine status')\n",
    "ax2.set_xlabel('')\n",
    "ax2.set_xticklabels(['Not vaccinated', 'Vaccinated', 'Not vaccinated', 'Vaccinated'])\n",
    "ax2.set_ylim([0,1])\n",
    "\n",
    "fig.subplots_adjust(hspace=0.3)\n",
    "plt.savefig('../images/distribution_target_compared.jpg')\n",
    "plt.show()\n"
   ]
  },
  {
   "cell_type": "markdown",
   "metadata": {},
   "source": [
    "- The share of people with seasonal flu vaccination is higher among people that did get an H1N1 vaccine.\n",
    "- The share of people with H1N1 vaccination is higher among people that also go the seasonal flu vaccine.\n",
    "- The graphs show that there seems to be a correlation between both types of vaccinations. \n",
    "\n",
    "- The graphs are not self explanatory. There needs to be a better indication. "
   ]
  },
  {
   "cell_type": "markdown",
   "metadata": {},
   "source": [
    "## Influence of doctor's recommendations "
   ]
  },
  {
   "cell_type": "code",
   "execution_count": null,
   "metadata": {},
   "outputs": [],
   "source": [
    "# Creating plots for showing if vaccinations have been recommended by a doctor\n",
    "\n",
    "fig, (ax1, ax2) = plt.subplots(1, 2, figsize=(15,3))\n",
    "\n",
    "df.groupby('doctor_recc_h1n1').h1n1_vaccine.value_counts(normalize=True, sort=False).plot(kind='bar', color=['dimgrey', 'forestgreen'], ax=ax1,  rot=0)\n",
    "ax1.set_title('H1N1 vaccine status by doctor recommendation')\n",
    "ax1.set_xlabel('')\n",
    "ax1.set_xticklabels(['-reco / -vacc', '-reco / +vacc', '+reco / -vacc', '+reco / +vacc'])\n",
    "ax1.set_ylim([0,1])\n",
    "\n",
    "df.groupby('doctor_recc_seasonal').seasonal_vaccine.value_counts(normalize=True, sort=False).plot(kind='bar', ax=ax2, color=['dimgrey', 'forestgreen'], rot=0)\n",
    "ax2.set_title('Seasonal vaccine status by doctor recommendation')\n",
    "ax2.set_xlabel('')\n",
    "ax2.set_xticklabels(['-reco / -vacc', '-reco / +vacc', '+reco / -vacc', '+reco / +vacc'])\n",
    "ax2.set_ylim([0,1])\n",
    "# ax2.legend(title='color', bbox_to_anchor=(1.05, 1), loc='upper left')\n",
    "\n",
    "fig.subplots_adjust(hspace=0.3)\n",
    "\n",
    "plt.savefig('../images/target_recommendations.jpg')\n",
    "plt.show()\n"
   ]
  },
  {
   "cell_type": "markdown",
   "metadata": {},
   "source": [
    "- Recommendations of the respective vaccine are important for getting the vaccine.\n",
    "- Only a small proportion of people that did not get a recommendation, got the vaccine. \n",
    "- For seasonal flu vaccinations, the share of people that did not get a recommendation from a doctor is higher than for H1N1."
   ]
  },
  {
   "cell_type": "markdown",
   "metadata": {},
   "source": [
    "- In order to get some of the columns into Categorical mode, they will be changed.\n",
    "- Otherwise, plots will adapt different strategies for displaying the order of them (sort=False does not work)"
   ]
  },
  {
   "cell_type": "code",
   "execution_count": null,
   "metadata": {},
   "outputs": [],
   "source": [
    "df['opinion_h1n1_risk'] = pd.Categorical(df['opinion_h1n1_risk'], ordered=True)\n",
    "df['opinion_seas_risk'] = pd.Categorical(df['opinion_seas_risk'], ordered=True)\n",
    "\n",
    "df['h1n1_concern'] = pd.Categorical(df['h1n1_concern'], ordered=True)\n",
    "df['h1n1_knowledge'] = pd.Categorical(df['h1n1_knowledge'], ordered=True)"
   ]
  },
  {
   "cell_type": "markdown",
   "metadata": {},
   "source": [
    "### Investigating Vaccinations by risk awareness"
   ]
  },
  {
   "cell_type": "code",
   "execution_count": null,
   "metadata": {},
   "outputs": [],
   "source": [
    "# Splitting the dataset into vaccinated and non vaccinated for each vaccine type\n",
    "plot_h1n1_no = df.loc[df['h1n1_vaccine']== 0]\n",
    "plot_h1n1_yes = df.loc[df['h1n1_vaccine']== 1]\n",
    "plot_seasonal_no = df.loc[df['seasonal_vaccine']== 0]\n",
    "plot_seasonal_yes = df.loc[df['seasonal_vaccine']== 1]\n",
    "\n",
    "fig, ((ax1, ax2), (ax3, ax4))  = plt.subplots(2, 2, figsize=(15,6))\n",
    "\n",
    "plot_h1n1_no['opinion_h1n1_risk'].value_counts(normalize=True, sort=False).plot(kind='bar', ax=ax1, rot=0, color='dimgrey')\n",
    "ax1.set_title('Non H1N1 vaccinated: Opinion of risk (%)')\n",
    "ax1.set_xlabel('')\n",
    "ax1.set_ylim([0,1]) # setting the limits for the y-axis\n",
    "\n",
    "plot_h1n1_yes['opinion_h1n1_risk'].value_counts(normalize=True, sort=False).plot(kind='bar', ax=ax2, rot=0, color='forestgreen')\n",
    "ax2.set_title('H1N1 vaccinated: Opinion of risk (%)')\n",
    "ax2.set_xlabel('')\n",
    "ax2.set_ylim([0,1]) # setting the limits for the y-axis\n",
    "\n",
    "plot_seasonal_no['opinion_seas_risk'].value_counts(normalize=True, sort=False).plot(kind='bar', ax=ax3, rot=0, color='dimgrey')\n",
    "ax3.set_title('Seasonal non vaccinated: Opinion of risk (%)')\n",
    "ax3.set_xlabel('')\n",
    "ax3.set_ylim([0,1]) # setting the limits for the y-axis\n",
    "\n",
    "plot_seasonal_yes['opinion_seas_risk'].value_counts(normalize=True, sort=False).plot(kind='bar', ax=ax4, rot=0, color='forestgreen')\n",
    "ax4.set_title('Seasonal vaccinated: Opinion of risk  (%)')\n",
    "ax4.set_xlabel('')\n",
    "ax4.set_ylim([0,1]) # setting the limits for the y-axis\n",
    "\n",
    "fig.subplots_adjust(hspace=0.3)\n",
    "plt.show()"
   ]
  },
  {
   "cell_type": "code",
   "execution_count": null,
   "metadata": {},
   "outputs": [],
   "source": [
    "# Plotting the overall risk perception for H1N1 and for seasonal flu\n",
    "\n",
    "fig, (ax1, ax2)  = plt.subplots(1, 2, figsize=(15,5))\n",
    "\n",
    "df['opinion_h1n1_risk'].value_counts(normalize=True, sort=False).plot(kind='bar', ax=ax1, rot=0, color=['peachpuff', 'lightpink', 'lightgray', 'mediumorchid', 'indigo']\n",
    ")\n",
    "ax1.set_title('Perceived risk of H1N1 (%)')\n",
    "ax1.set_xlabel('')\n",
    "ax1.set_xticklabels([\"1 - Very low\", \"2 - Somewhat low\", \"3 - Don't_know\", \"4 - Somewhat high\",\n",
    "                                 \"5 - Very high\"], fontsize='small')\n",
    "ax1.set_ylim([0,0.45]) # setting the limits for the y-axis\n",
    "\n",
    "df['opinion_seas_risk'].value_counts(normalize=True, sort=False).plot(kind='bar', ax=ax2, rot=0, color=['peachpuff', 'lightpink', 'lightgray', 'mediumorchid', 'indigo'])\n",
    "ax2.set_title('Perceived risk of for seasonal flu (%)')\n",
    "ax2.set_xlabel('')\n",
    "ax2.set_xticklabels([\"1 - Very low\", \"2 - Somewhat low\", \"3 - Don't know\", \"4 - Somewhat high\",\n",
    "                                  \"5 - Very high\"], fontsize='small')\n",
    "ax2.set_ylim([0,0.45]) # setting the limits for the y-axis\n",
    "\n",
    "\n",
    "fig.subplots_adjust(hspace=0.3)\n",
    "\n",
    "plt.savefig('../images/risk_perception.jpg')\n",
    "plt.show()\n"
   ]
  },
  {
   "cell_type": "markdown",
   "metadata": {},
   "source": [
    "- Surprisingly, the risk for seasonal flu is estimated higher than the risk for H1N1. \n",
    "- Next step: investigate on the level of knowledge and the level of concern for H1N1."
   ]
  },
  {
   "cell_type": "code",
   "execution_count": null,
   "metadata": {},
   "outputs": [],
   "source": [
    "data_x = df.query('opinion_h1n1_risk != 3.0')\n",
    "sns.countplot(x='opinion_h1n1_risk', data=data_x)"
   ]
  },
  {
   "cell_type": "code",
   "execution_count": null,
   "metadata": {},
   "outputs": [],
   "source": [
    "# Plotting concerns about H1N1 \n",
    "# note that an image can only be printed once the kaleido package is installed: pip install -U kaleido\n",
    "\n",
    "x_concern = df.h1n1_concern.value_counts(normalize=True)\n",
    "x_concern_labels = ['Not at all concerned', 'Not very concerned', 'Somewhat concerned', 'Very concerned']\n",
    "\n",
    "fig = px.pie(df, values=x_concern, names=x_concern_labels, title='Concerns about H1N1', template='ggplot2', hole=0.3, width=600, height=500)\n",
    "fig.show()\n",
    "fig.write_image(\"../images/concerns_h1n1.png\")"
   ]
  },
  {
   "cell_type": "markdown",
   "metadata": {},
   "source": [
    "- About every 10th is very concerned about H1N1, 16% are somewhat concerned.\n",
    "- The vast majority is not at all or not very concerned. \n",
    "- This is in line with the findings for risk perception where we could see that risk awareness for H1N1 falls behind with regard to seasonal flu. "
   ]
  },
  {
   "cell_type": "code",
   "execution_count": null,
   "metadata": {},
   "outputs": [],
   "source": [
    "# Plotting knowledge about H1N1 \n",
    "x_knowledge = df.h1n1_knowledge.value_counts(normalize=True)\n",
    "x_knowledge_labels = ['No knowledge', 'A little knowledge', 'A lot of knowledge']\n",
    "\n",
    "fig = px.pie(df, values=x_knowledge, names=x_knowledge_labels, title='Knowledge about H1N1', template='ggplot2', hole=0.3, width=600, height=500)\n",
    "fig.show()\n",
    "fig.write_image(\"../images/knowledge_h1n1.png\")\n"
   ]
  },
  {
   "cell_type": "markdown",
   "metadata": {},
   "source": [
    "- The majority of people states to have no knowledge about the H1N1 flu variant. \n",
    "- 37% have a little knowledge.\n",
    "- Overall, there seems to be little literacy about this new pandemic disease. "
   ]
  },
  {
   "cell_type": "code",
   "execution_count": null,
   "metadata": {},
   "outputs": [],
   "source": [
    "df_age = df.age_group.value_counts()\n",
    "df_age"
   ]
  },
  {
   "cell_type": "code",
   "execution_count": null,
   "metadata": {},
   "outputs": [],
   "source": [
    "# we will also change the age_group column into categorical \n",
    "df['age_group'] = pd.Categorical(df['age_group'], ordered=True)"
   ]
  },
  {
   "cell_type": "markdown",
   "metadata": {},
   "source": [
    "### Trying to create more plots with plotly"
   ]
  },
  {
   "cell_type": "code",
   "execution_count": null,
   "metadata": {},
   "outputs": [],
   "source": [
    "#values_h1n1 = df.h1n1_vaccine.value_counts(normalize=True)\n",
    "#values_seasonal = df.seasonal_vaccine.value_counts(normalize=True)\n",
    "#categories = pd.melt(df, value_vars=['h1n1_vaccine', 'seasonal_vaccine'])\n",
    "#data = categories\n",
    "#values_h1n1 = categories[categories.variable == 'h1n1_vaccine']\n",
    "#values_seasonal = categories[categories.variable == 'seasonal_vaccine']\n",
    "\n",
    "fig_age = px.bar(df_age, x=['65+ years', '55 - 64 Years', '45 - 54 Years', '18 - 34 Years', '35 - 44 Years'], y='age_group',\n",
    "            barmode='group',\n",
    "            height=400)\n",
    "fig_age.update_layout(title='Age distribution',\n",
    "                   xaxis_title='Age group',\n",
    "                   yaxis_title='Number of respondents')\n",
    "fig_age.update_xaxes(categoryorder='category descending')\n",
    "fig_age.show()"
   ]
  },
  {
   "cell_type": "code",
   "execution_count": null,
   "metadata": {},
   "outputs": [],
   "source": [
    "values_h1n1"
   ]
  },
  {
   "cell_type": "code",
   "execution_count": null,
   "metadata": {},
   "outputs": [],
   "source": [
    "categories"
   ]
  },
  {
   "cell_type": "code",
   "execution_count": null,
   "metadata": {},
   "outputs": [],
   "source": [
    "fig = px.bar(categories, x=\"variable\", y=\"value\", color='value', title=\"Long-Form Input\")\n",
    "fig.show()"
   ]
  },
  {
   "cell_type": "code",
   "execution_count": null,
   "metadata": {},
   "outputs": [],
   "source": [
    "### Not needed because this does not help:\n",
    "\n",
    "# Changing the labels for the columns opinion_seas_risk and opinion_h1n1_risk\n",
    "\n",
    "labels_risk = {\"opinion_h1n1_risk\": {1.0: \"1 - Very low\", 2.0: \"2 - Somewhat low\", 3.0: \"3 - Don't know\", 4.0: \"4 - Somewhat high\",\n",
    "                                  5.0: \"5 - Very high\"},\n",
    "            \"opinion_seas_risk\": {1.0: \"1 - Very low\", 2.0: \"2 - Somewhat low\", 3.0: \"3 - Don't know\", 4.0: \"4 - Somewhat high\",\n",
    "                                  5.0: \"5 - Very high\"},\n",
    "                                  }"
   ]
  },
  {
   "cell_type": "markdown",
   "metadata": {},
   "source": [
    "### Additional visualisations"
   ]
  },
  {
   "cell_type": "code",
   "execution_count": null,
   "metadata": {},
   "outputs": [],
   "source": [
    "df_report = pd.read_csv('/Users/julianeberek/neuefische/TheFluShot/data/FluNetInteractiveReport.csv', skiprows=3)"
   ]
  },
  {
   "cell_type": "code",
   "execution_count": null,
   "metadata": {},
   "outputs": [],
   "source": [
    "df_report.info()"
   ]
  },
  {
   "cell_type": "code",
   "execution_count": null,
   "metadata": {},
   "outputs": [],
   "source": [
    "df_report['formatted_date'] = df_report.Year * 1000 + df_report.Week * 10 + 0\n",
    "df_report['date'] = pd.to_datetime(df_report['formatted_date'], format='%Y%W%w')\n",
    "df_report.head()"
   ]
  },
  {
   "cell_type": "code",
   "execution_count": null,
   "metadata": {},
   "outputs": [],
   "source": [
    "# Plotting the weekly H1N1 cases \n",
    "fig = px.line(df_report, x=\"date\", y=\"AH1N12009\", title='H1N1 Confirmed Cases (weekly)')\n",
    "fig.show()"
   ]
  },
  {
   "cell_type": "code",
   "execution_count": null,
   "metadata": {},
   "outputs": [],
   "source": [
    "# Plotting H1N1 cases against all influenza cases (all types A and B)\n",
    "\n",
    "fig = go.Figure()\n",
    "date = df_report['date']\n",
    "h1n1 = df_report['AH1N12009']\n",
    "all_a = df_report['INF_A']\n",
    "all_inf = df_report['ALL_INF']\n",
    "\n",
    "fig.add_trace(go.Scatter(x=date, y=h1n1,\n",
    "                    mode='lines',\n",
    "                    name='H1N1 cases'))\n",
    "fig.add_trace(go.Scatter(x=date, y=all_a,\n",
    "                    mode='lines+markers',\n",
    "                    name='All type A influenza cases'))\n",
    "fig.add_trace(go.Scatter(x=date, y=all_inf,\n",
    "                    mode='lines', name='Total number influenza cases'))\n",
    "\n",
    "fig.update_layout(title='H1N1 cases against all influenza cases 2009/2010',\n",
    "                   xaxis_title='Month',\n",
    "                   yaxis_title='Number of confirmed cases')\n",
    "fig.update_layout(legend=dict(\n",
    "    yanchor=\"top\",\n",
    "    y=0.99,\n",
    "    xanchor=\"left\",\n",
    "    x=0.01\n",
    "))\n",
    "fig.show()"
   ]
  },
  {
   "cell_type": "code",
   "execution_count": null,
   "metadata": {},
   "outputs": [],
   "source": []
  }
 ],
 "metadata": {
  "interpreter": {
   "hash": "c0c25dab8ee693e846481bd08863e7cb648266bb2d9a40c015c16febc8ddeeb0"
  },
  "kernelspec": {
   "display_name": "Python 3.8.5 64-bit ('.venv': venv)",
   "name": "python3"
  },
  "language_info": {
   "codemirror_mode": {
    "name": "ipython",
    "version": 3
   },
   "file_extension": ".py",
   "mimetype": "text/x-python",
   "name": "python",
   "nbconvert_exporter": "python",
   "pygments_lexer": "ipython3",
   "version": "3.8.5"
  },
  "orig_nbformat": 4
 },
 "nbformat": 4,
 "nbformat_minor": 2
}