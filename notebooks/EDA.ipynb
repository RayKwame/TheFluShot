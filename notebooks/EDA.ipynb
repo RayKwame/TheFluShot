{
 "cells": [
  {
   "cell_type": "markdown",
   "source": [
    "## EDA for data understanding and visualisations"
   ],
   "metadata": {}
  },
  {
   "cell_type": "code",
   "execution_count": null,
   "source": [
    "# Importing the relevant libraries\n",
    "\n",
    "import sys\n",
    "# adding to the path variables the one folder higher (locally, not changing system variables)\n",
    "sys.path.append(\"..\")\n",
    "import pandas as pd\n",
    "import numpy as np\n",
    "import warnings\n",
    "import mlflow\n",
    "from modeling.config import TRACKING_URI, EXPERIMENT_NAME\n",
    "\n",
    "pd.set_option('display.max_columns', None)\n",
    "\n",
    "RSEED = 42\n",
    "# Modeling Libraries\n",
    "\n",
    "import matplotlib.pyplot as plt\n",
    "import seaborn as sns\n",
    "import plotly.express as px  # pip install plotly needs to executed\n",
    "import plotly.graph_objects as go"
   ],
   "outputs": [],
   "metadata": {}
  },
  {
   "cell_type": "code",
   "execution_count": null,
   "source": [
    "# We need to add plotly to our requirements"
   ],
   "outputs": [],
   "metadata": {}
  },
  {
   "cell_type": "code",
   "execution_count": null,
   "source": [
    "# Reading in the data \n",
    "df = pd.read_csv('../data/Flu_Shot_Data_cleaned_1.csv')"
   ],
   "outputs": [],
   "metadata": {}
  },
  {
   "cell_type": "code",
   "execution_count": null,
   "source": [
    "df.info()"
   ],
   "outputs": [],
   "metadata": {}
  },
  {
   "cell_type": "code",
   "execution_count": null,
   "source": [
    "# Looking at the distribution of our target variables \n",
    "\n",
    "print(df.h1n1_vaccine.value_counts(normalize=True))\n",
    "print(df.seasonal_vaccine.value_counts(normalize=True))"
   ],
   "outputs": [],
   "metadata": {}
  },
  {
   "cell_type": "code",
   "execution_count": null,
   "source": [
    "sns.countplot(x='h1n1_vaccine', data=df)"
   ],
   "outputs": [],
   "metadata": {}
  },
  {
   "cell_type": "code",
   "execution_count": null,
   "source": [
    "# Creating plots for the distribution of our target variables \n",
    "\n",
    "fig, (ax1, ax2) = plt.subplots(1, 2, figsize=(11,3))\n",
    "\n",
    "df['h1n1_vaccine'].value_counts(normalize=True).plot(kind='bar', ax=ax1, color=['dimgrey', 'forestgreen'], rot=0)\n",
    "ax1.set_title('Distribution of H1N1 vaccinations (%)')\n",
    "ax1.set_xlabel('')\n",
    "ax1.set_xticklabels(['Not vaccinated', 'Vaccinated'])\n",
    "ax1.set_ylim([0,1]) # setting the limits for the y-axis\n",
    "\n",
    "df['seasonal_vaccine'].value_counts(normalize=True).plot(kind='bar', ax=ax2, color=['dimgrey', 'forestgreen'], rot=0)\n",
    "ax2.set_title('Distribution of seasonal flu vaccinations (%)')\n",
    "ax2.set_xlabel('')\n",
    "ax2.set_xticklabels(['Not vaccinated', 'Vaccinated'])\n",
    "ax2.set_ylim([0,1]) # setting the limits for the y-axis\n",
    "\n",
    "fig.subplots_adjust(hspace=0.3)\n",
    "plt.savefig('../images/distribution_target.jpg')\n",
    "plt.show()\n"
   ],
   "outputs": [],
   "metadata": {}
  },
  {
   "cell_type": "code",
   "execution_count": null,
   "source": [
    "df.groupby('h1n1_vaccine')['seasonal_vaccine'].value_counts(sort=False)"
   ],
   "outputs": [],
   "metadata": {}
  },
  {
   "cell_type": "code",
   "execution_count": null,
   "source": [
    "# Creating plots for the distribution of overlaps between H1N1 and seasonal flu vaccines\n",
    "\n",
    "fig, (ax1, ax2) = plt.subplots(1, 2, figsize=(15,3))\n",
    "\n",
    "df.groupby('h1n1_vaccine').seasonal_vaccine.value_counts(normalize=True, sort=False).plot(kind='bar', color=['dimgrey', 'forestgreen'], ax=ax1,  rot=0)\n",
    "ax1.set_title('Seasonal vaccinations by H1N1 vaccine status')\n",
    "ax1.set_xlabel('')\n",
    "ax1.set_xticklabels(['Not vaccinated', 'Vaccinated', 'Not vaccinated', 'Vaccinated'])\n",
    "ax1.set_ylim([0,1])\n",
    "\n",
    "df.groupby('seasonal_vaccine').h1n1_vaccine.value_counts(normalize=True, sort=False).plot(kind='bar', ax=ax2, color=['dimgrey', 'forestgreen'], rot=0)\n",
    "ax2.set_title('H1N1 vaccinations by seasonal vaccine status')\n",
    "ax2.set_xlabel('')\n",
    "ax2.set_xticklabels(['Not vaccinated', 'Vaccinated', 'Not vaccinated', 'Vaccinated'])\n",
    "ax2.set_ylim([0,1])\n",
    "\n",
    "fig.subplots_adjust(hspace=0.3)\n",
    "plt.savefig('../images/distribution_target_compared.jpg')\n",
    "plt.show()\n"
   ],
   "outputs": [],
   "metadata": {}
  },
  {
   "cell_type": "markdown",
   "source": [
    "- The share of people with seasonal flu vaccination is higher among people that did get an H1N1 vaccine.\n",
    "- The share of people with H1N1 vaccination is higher among people that also go the seasonal flu vaccine.\n",
    "- The graphs show that there seems to be a correlation between both types of vaccinations. \n",
    "\n",
    "- The graphs are not self explanatory. There needs to be a better indication. "
   ],
   "metadata": {}
  },
  {
   "cell_type": "markdown",
   "source": [
    "## Influence of doctor's recommendations "
   ],
   "metadata": {}
  },
  {
   "cell_type": "code",
   "execution_count": null,
   "source": [
    "# Creating plots for showing if vaccinations have been recommended by a doctor\n",
    "\n",
    "fig, (ax1, ax2) = plt.subplots(1, 2, figsize=(15,3))\n",
    "\n",
    "df.groupby('doctor_recc_h1n1').h1n1_vaccine.value_counts(normalize=True, sort=False).plot(kind='bar', color=['dimgrey', 'forestgreen'], ax=ax1,  rot=0)\n",
    "ax1.set_title('H1N1 vaccine status by doctor recommendation')\n",
    "ax1.set_xlabel('')\n",
    "ax1.set_xticklabels(['-reco / -vacc', '-reco / +vacc', '+reco / -vacc', '+reco / +vacc'])\n",
    "ax1.set_ylim([0,1])\n",
    "\n",
    "df.groupby('doctor_recc_seasonal').seasonal_vaccine.value_counts(normalize=True, sort=False).plot(kind='bar', ax=ax2, color=['dimgrey', 'forestgreen'], rot=0)\n",
    "ax2.set_title('Seasonal vaccine status by doctor recommendation')\n",
    "ax2.set_xlabel('')\n",
    "ax2.set_xticklabels(['-reco / -vacc', '-reco / +vacc', '+reco / -vacc', '+reco / +vacc'])\n",
    "ax2.set_ylim([0,1])\n",
    "# ax2.legend(title='color', bbox_to_anchor=(1.05, 1), loc='upper left')\n",
    "\n",
    "fig.subplots_adjust(hspace=0.3)\n",
    "\n",
    "plt.savefig('../images/target_recommendations.jpg')\n",
    "plt.show()\n"
   ],
   "outputs": [],
   "metadata": {}
  },
  {
   "cell_type": "markdown",
   "source": [
    "- Recommendations of the respective vaccine are important for getting the vaccine.\n",
    "- Only a small proportion of people that did not get a recommendation, got the vaccine. \n",
    "- For seasonal flu vaccinations, the share of people that did not get a recommendation from a doctor is higher than for H1N1."
   ],
   "metadata": {}
  },
  {
   "cell_type": "markdown",
   "source": [
    "- In order to get some of the columns into Categorical mode, they will be changed.\n",
    "- Otherwise, plots will adapt different strategies for displaying the order of them (sort=False does not work)"
   ],
   "metadata": {}
  },
  {
   "cell_type": "code",
   "execution_count": null,
   "source": [
    "df['opinion_h1n1_risk'] = pd.Categorical(df['opinion_h1n1_risk'], ordered=True)\n",
    "df['opinion_seas_risk'] = pd.Categorical(df['opinion_seas_risk'], ordered=True)\n",
    "\n",
    "df['h1n1_concern'] = pd.Categorical(df['h1n1_concern'], ordered=True)\n",
    "df['h1n1_knowledge'] = pd.Categorical(df['h1n1_knowledge'], ordered=True)"
   ],
   "outputs": [],
   "metadata": {}
  },
  {
   "cell_type": "markdown",
   "source": [
    "### Investigating Vaccinations by risk awareness"
   ],
   "metadata": {}
  },
  {
   "cell_type": "code",
   "execution_count": null,
   "source": [
    "# Splitting the dataset into vaccinated and non vaccinated for each vaccine type\n",
    "plot_h1n1_no = df.loc[df['h1n1_vaccine']== 0]\n",
    "plot_h1n1_yes = df.loc[df['h1n1_vaccine']== 1]\n",
    "plot_seasonal_no = df.loc[df['seasonal_vaccine']== 0]\n",
    "plot_seasonal_yes = df.loc[df['seasonal_vaccine']== 1]\n",
    "\n",
    "fig, ((ax1, ax2), (ax3, ax4))  = plt.subplots(2, 2, figsize=(15,6))\n",
    "\n",
    "plot_h1n1_no['opinion_h1n1_risk'].value_counts(normalize=True, sort=False).plot(kind='bar', ax=ax1, rot=0, color='dimgrey')\n",
    "ax1.set_title('Non H1N1 vaccinated: Opinion of risk (%)')\n",
    "ax1.set_xlabel('')\n",
    "ax1.set_ylim([0,1]) # setting the limits for the y-axis\n",
    "\n",
    "plot_h1n1_yes['opinion_h1n1_risk'].value_counts(normalize=True, sort=False).plot(kind='bar', ax=ax2, rot=0, color='forestgreen')\n",
    "ax2.set_title('H1N1 vaccinated: Opinion of risk (%)')\n",
    "ax2.set_xlabel('')\n",
    "ax2.set_ylim([0,1]) # setting the limits for the y-axis\n",
    "\n",
    "plot_seasonal_no['opinion_seas_risk'].value_counts(normalize=True, sort=False).plot(kind='bar', ax=ax3, rot=0, color='dimgrey')\n",
    "ax3.set_title('Seasonal non vaccinated: Opinion of risk (%)')\n",
    "ax3.set_xlabel('')\n",
    "ax3.set_ylim([0,1]) # setting the limits for the y-axis\n",
    "\n",
    "plot_seasonal_yes['opinion_seas_risk'].value_counts(normalize=True, sort=False).plot(kind='bar', ax=ax4, rot=0, color='forestgreen')\n",
    "ax4.set_title('Seasonal vaccinated: Opinion of risk  (%)')\n",
    "ax4.set_xlabel('')\n",
    "ax4.set_ylim([0,1]) # setting the limits for the y-axis\n",
    "\n",
    "fig.subplots_adjust(hspace=0.3)\n",
    "plt.show()"
   ],
   "outputs": [],
   "metadata": {}
  },
  {
   "cell_type": "code",
   "execution_count": null,
   "source": [
    "# Plotting the overall risk perception for H1N1 and for seasonal flu\n",
    "\n",
    "fig, (ax1, ax2)  = plt.subplots(1, 2, figsize=(15,5))\n",
    "\n",
    "df['opinion_h1n1_risk'].value_counts(normalize=True, sort=False).plot(kind='bar', ax=ax1, rot=0, color=['peachpuff', 'lightpink', 'lightgray', 'mediumorchid', 'indigo']\n",
    ")\n",
    "ax1.set_title('Perceived risk of H1N1 (%)')\n",
    "ax1.set_xlabel('')\n",
    "ax1.set_xticklabels([\"1 - Very low\", \"2 - Somewhat low\", \"3 - Don't_know\", \"4 - Somewhat high\",\n",
    "                                 \"5 - Very high\"], fontsize='small')\n",
    "ax1.set_ylim([0,0.45]) # setting the limits for the y-axis\n",
    "\n",
    "df['opinion_seas_risk'].value_counts(normalize=True, sort=False).plot(kind='bar', ax=ax2, rot=0, color=['peachpuff', 'lightpink', 'lightgray', 'mediumorchid', 'indigo'])\n",
    "ax2.set_title('Perceived risk of for seasonal flu (%)')\n",
    "ax2.set_xlabel('')\n",
    "ax2.set_xticklabels([\"1 - Very low\", \"2 - Somewhat low\", \"3 - Don't know\", \"4 - Somewhat high\",\n",
    "                                  \"5 - Very high\"], fontsize='small')\n",
    "ax2.set_ylim([0,0.45]) # setting the limits for the y-axis\n",
    "\n",
    "\n",
    "fig.subplots_adjust(hspace=0.3)\n",
    "\n",
    "plt.savefig('../images/risk_perception.jpg')\n",
    "plt.show()\n"
   ],
   "outputs": [],
   "metadata": {}
  },
  {
   "cell_type": "markdown",
   "source": [
    "- Surprisingly, the risk for seasonal flu is estimated higher than the risk for H1N1. \n",
    "- Next step: investigate on the level of knowledge and the level of concern for H1N1."
   ],
   "metadata": {}
  },
  {
   "cell_type": "code",
   "execution_count": null,
   "source": [
    "data_x = df.query('opinion_h1n1_risk != 3.0')\n",
    "sns.countplot(x='opinion_h1n1_risk', data=data_x)"
   ],
   "outputs": [],
   "metadata": {}
  },
  {
   "cell_type": "code",
   "execution_count": null,
   "source": [
    "# Plotting concerns about H1N1 \n",
    "# note that an image can only be printed once the kaleido package is installed: pip install -U kaleido\n",
    "\n",
    "x_concern = df.h1n1_concern.value_counts(normalize=True)\n",
    "x_concern_labels = ['Not at all concerned', 'Not very concerned', 'Somewhat concerned', 'Very concerned']\n",
    "\n",
    "fig = px.pie(df, values=x_concern, names=x_concern_labels, title='Concerns about H1N1', template='ggplot2', hole=0.3, width=600, height=500)\n",
    "fig.show()\n",
    "fig.write_image(\"../images/concerns_h1n1.png\")"
   ],
   "outputs": [],
   "metadata": {}
  },
  {
   "cell_type": "markdown",
   "source": [
    "- About every 10th is very concerned about H1N1, 16% are somewhat concerned.\n",
    "- The vast majority is not at all or not very concerned. \n",
    "- This is in line with the findings for risk perception where we could see that risk awareness for H1N1 falls behind with regard to seasonal flu. "
   ],
   "metadata": {}
  },
  {
   "cell_type": "code",
   "execution_count": null,
   "source": [
    "# Plotting knowledge about H1N1 \n",
    "x_knowledge = df.h1n1_knowledge.value_counts(normalize=True)\n",
    "x_knowledge_labels = ['No knowledge', 'A little knowledge', 'A lot of knowledge']\n",
    "\n",
    "fig = px.pie(df, values=x_knowledge, names=x_knowledge_labels, title='Knowledge about H1N1', template='ggplot2', hole=0.3, width=600, height=500)\n",
    "fig.show()\n",
    "fig.write_image(\"../images/knowledge_h1n1.png\")\n"
   ],
   "outputs": [],
   "metadata": {}
  },
  {
   "cell_type": "markdown",
   "source": [
    "- The majority of people states to have no knowledge about the H1N1 flu variant. \n",
    "- 37% have a little knowledge.\n",
    "- Overall, there seems to be little literacy about this new pandemic disease. "
   ],
   "metadata": {}
  },
  {
   "cell_type": "code",
   "execution_count": null,
   "source": [
    "df_concerns_h1n1 = df.h1n1_concern.value_counts(normalize=True).round(2).rename_axis('Level').reset_index(name='counts')\n",
    "df_concerns_h1n1"
   ],
   "outputs": [],
   "metadata": {}
  },
  {
   "cell_type": "code",
   "execution_count": null,
   "source": [
    "df_knowledge_h1n1 = df.h1n1_knowledge.value_counts(normalize=True).round(2).rename_axis('Level').reset_index(name='counts')\n",
    "df_knowledge_h1n1"
   ],
   "outputs": [],
   "metadata": {}
  },
  {
   "cell_type": "code",
   "execution_count": null,
   "source": [
    "from plotly.subplots import make_subplots\n",
    "fig = make_subplots(rows=1, cols=2, shared_yaxes=True,\n",
    "    subplot_titles=(\"Concern about H1N1\", \"Knowledge about H1N1\"))\n",
    "\n",
    "fig.add_trace(\n",
    "    go.Bar(x=df_concerns_h1n1.Level, y=df_concerns_h1n1.counts),\n",
    "    row=1, col=1,\n",
    "    \n",
    ")\n",
    "\n",
    "fig.add_trace(\n",
    "    go.Bar(x=df_knowledge_h1n1.Level, y=df_knowledge_h1n1.counts),\n",
    "    row=1, col=2\n",
    ")\n",
    "\n",
    "fig.update_layout(height=400, width=800)\n",
    "fig.update_layout(coloraxis=dict(colorscale='Bluered_r'), showlegend=False)\n",
    "\n",
    "fig.show()"
   ],
   "outputs": [],
   "metadata": {}
  },
  {
   "cell_type": "code",
   "execution_count": null,
   "source": [
    "df_age = df.age_group.value_counts(normalize=True).round(2).rename_axis('groups').reset_index(name='counts')\n",
    "df_age"
   ],
   "outputs": [],
   "metadata": {}
  },
  {
   "cell_type": "code",
   "execution_count": null,
   "source": [
    "# adding the US census data to the frame (see xlxs in data)\n",
    "df_age['counts_us'] = [0.17, 0.16, 0.20, 0.28, 0.19]\n",
    "df_age"
   ],
   "outputs": [],
   "metadata": {}
  },
  {
   "cell_type": "code",
   "execution_count": null,
   "source": [
    "# we will also change the age_group column into categorical \n",
    "df['age_group'] = pd.Categorical(df['age_group'], ordered=True)"
   ],
   "outputs": [],
   "metadata": {}
  },
  {
   "cell_type": "code",
   "execution_count": null,
   "source": [
    "fig = go.Figure()\n",
    "fig.add_trace(go.Bar(name=\"Sample\", x=df_age.groups, y=df_age.counts, marker_color='rgb(65,105,225)'))\n",
    "fig.add_trace(go.Bar(name=\"US Census\", x=df_age.groups, y=df_age.counts_us, marker_color='rgb(238,232,170)'))\n",
    "\n",
    "fig.update_layout(title='Age distribution',\n",
    "                   yaxis_title='Share within sample')\n",
    "fig.update_xaxes(categoryorder='category ascending')\n",
    "fig.show()"
   ],
   "outputs": [],
   "metadata": {}
  },
  {
   "cell_type": "code",
   "execution_count": null,
   "source": [
    "# Bubble Chart\n",
    "#size_sample = df_age['counts'] \n",
    "fig = go.Figure()\n",
    "fig.add_trace(go.Scatter(name=\"Sample\", x=df_age.groups, \n",
    "    y=df_age.counts, \n",
    "    mode='markers',\n",
    "    marker=dict(\n",
    "        color='rgb(65,105,225)',\n",
    "        size=20,\n",
    "        )\n",
    "))\n",
    "fig.add_trace(go.Scatter(name=\"US Census\", x=df_age.groups, \n",
    "    y=df_age.counts_us, \n",
    "    mode='markers', \n",
    "    marker=dict(\n",
    "        color='rgb(238,232,170)',\n",
    "        size=15,\n",
    "        )\n",
    " ))\n",
    "\n",
    "fig.update_layout(title='Age distribution',\n",
    "                   yaxis_title='Share within sample')\n",
    "fig.update_xaxes(categoryorder='category ascending')\n",
    "fig.update_yaxes(range=[0, 0.4])\n",
    "fig.show()\n"
   ],
   "outputs": [],
   "metadata": {}
  },
  {
   "cell_type": "code",
   "execution_count": null,
   "source": [
    "# Stacked bar chart \n",
    "\n",
    "fig = go.Figure()\n",
    "fig.add_trace(go.Bar(name=\"Sample\", x=df_age.groups, y=df_age.counts, marker_color='rgb(65,105,225)'))\n",
    "fig.add_trace(go.Bar(name=\"US Census\", x=df_age.groups, y=df_age.counts_us, marker_color='rgb(238,232,170)'))\n",
    "\n",
    "fig.update_layout(title='Age distribution',\n",
    "                   yaxis_title='Share within sample',\n",
    "                   barmode='stack')\n",
    "fig.update_xaxes(categoryorder='category ascending')\n",
    "fig.show()"
   ],
   "outputs": [],
   "metadata": {}
  },
  {
   "cell_type": "markdown",
   "source": [
    "### Distribution of gender"
   ],
   "metadata": {}
  },
  {
   "cell_type": "code",
   "execution_count": null,
   "source": [
    "df_sex = df.sex.value_counts(normalize=True).round(2).rename_axis('groups').reset_index(name='counts')\n",
    "df_sex"
   ],
   "outputs": [],
   "metadata": {}
  },
  {
   "cell_type": "code",
   "execution_count": null,
   "source": [
    "df_sex['sex_us'] = [0.51, 0.49]\n",
    "df_sex"
   ],
   "outputs": [],
   "metadata": {}
  },
  {
   "cell_type": "code",
   "execution_count": null,
   "source": [
    "fig = go.Figure()\n",
    "fig.add_trace(go.Bar(name=\"Sample\", x=df_sex.groups, y=df_sex.counts, marker_color='rgb(65,105,225)', text='counts'))\n",
    "fig.add_trace(go.Bar(name=\"US Census\", x=df_sex.groups, y=df_sex.sex_us, marker_color='rgb(238,232,170)'))\n",
    "\n",
    "fig.update_layout(title='Gender distribution',\n",
    "                   yaxis_title='Share within sample',\n",
    "                   barmode='stack')\n",
    "fig.show()"
   ],
   "outputs": [],
   "metadata": {}
  },
  {
   "cell_type": "markdown",
   "source": [
    "Distribution of Ethnicities"
   ],
   "metadata": {}
  },
  {
   "cell_type": "code",
   "execution_count": null,
   "source": [
    "df_eth = df.race.value_counts(normalize=True).round(2).rename_axis('groups').reset_index(name='counts')\n",
    "df_eth"
   ],
   "outputs": [],
   "metadata": {}
  },
  {
   "cell_type": "code",
   "execution_count": null,
   "source": [
    "df_eth['counts_us'] = [0.71, 0.12, 0.15, 0.02]\n",
    "df_eth"
   ],
   "outputs": [],
   "metadata": {}
  },
  {
   "cell_type": "code",
   "execution_count": null,
   "source": [
    "fig = go.Figure()\n",
    "fig.add_trace(go.Bar(name=\"Sample\", x=df_eth.groups, y=df_eth.counts, marker_color='rgb(65,105,225)'))\n",
    "fig.add_trace(go.Bar(name=\"US Census\", x=df_eth.groups, y=df_eth.counts_us, marker_color='rgb(238,232,170)'))\n",
    "\n",
    "fig.update_layout(title='Distribution of Ethnicities',\n",
    "                   yaxis_title='Share within sample')\n",
    "fig.update_xaxes(categoryorder='category descending')\n",
    "fig.show()"
   ],
   "outputs": [],
   "metadata": {}
  },
  {
   "cell_type": "code",
   "execution_count": null,
   "source": [
    "# These values are different from the ones we had. "
   ],
   "outputs": [],
   "metadata": {}
  },
  {
   "cell_type": "markdown",
   "source": [
    "### Trying to create more plots with plotly"
   ],
   "metadata": {}
  },
  {
   "cell_type": "code",
   "execution_count": null,
   "source": [
    "fig_age = px.bar(df_age, x=['65+ years', '55 - 64 Years', '45 - 54 Years', '18 - 34 Years', '35 - 44 Years'], y='counts',\n",
    "            #barmode='group',\n",
    "            height=400)\n",
    "fig_age.update_layout(title='Age distribution',\n",
    "                   xaxis_title='Age group',\n",
    "                   yaxis_title='Share within sample')\n",
    "fig_age.update_xaxes(categoryorder='category descending')\n",
    "fig_age.show()"
   ],
   "outputs": [],
   "metadata": {}
  },
  {
   "cell_type": "code",
   "execution_count": null,
   "source": [
    "df_plot = df[['h1n1_vaccine', 'h1n1_concern']]"
   ],
   "outputs": [],
   "metadata": {}
  },
  {
   "cell_type": "code",
   "execution_count": null,
   "source": [
    "df_x = df.groupby('h1n1_concern').h1n1_vaccine.value_counts()\n",
    "df_x"
   ],
   "outputs": [],
   "metadata": {}
  },
  {
   "cell_type": "code",
   "execution_count": null,
   "source": [
    "#non_vacc = df.query('h1n1_vaccine==0').groupby('h1n1_concern', as_index=True).agg('count')['h1n1_vaccine']\n",
    "\n",
    "non_acc = df.query('h1n1_vaccine==0').groupby('h1n1_concern', as_index=True)[\"h1n1_vaccine\"].count().reset_index(name=\"count\")\n"
   ],
   "outputs": [],
   "metadata": {}
  },
  {
   "cell_type": "code",
   "execution_count": null,
   "source": [
    "non_acc['h1n1_vaccine'] = 0\n",
    "non_acc"
   ],
   "outputs": [],
   "metadata": {}
  },
  {
   "cell_type": "code",
   "execution_count": null,
   "source": [
    "data = df.groupby([\"h1n1_concern\",\"h1n1_vaccine\"],as_index=True)[\"h1n1_concern\"].count().reset_index(name=\"count\")"
   ],
   "outputs": [],
   "metadata": {}
  },
  {
   "cell_type": "code",
   "execution_count": null,
   "source": [
    "data"
   ],
   "outputs": [],
   "metadata": {}
  },
  {
   "cell_type": "code",
   "execution_count": null,
   "source": [
    "'''fig = go.bar(data, x=\"h1n1_concern\", y=\"count\",\n",
    "             height=400, color=\"h1n1_vaccine\")\n",
    "            \n",
    "fig.update_layout(barmode='group')\n",
    "fig.show()'''\n",
    "\n",
    "fig = go.Figure(data=[\n",
    "    go.Bar(name='Not vaccined', x=data.query('h1n1_vaccine == 0')['h1n1_concern'], y=data.query('h1n1_vaccine == 0')['count']),\n",
    "    go.Bar(name='Vaccined', x=data.query('h1n1_vaccine == 1')['h1n1_concern'], y=data.query('h1n1_vaccine == 1')['count'])\n",
    "])\n",
    "# Change the bar mode\n",
    "fig.update_layout(barmode='group')\n",
    "fig.update_xaxes(title='Concern of H1N1', \n",
    "    ticktext=['Not at all concerned 1', 'Not very concerned', 'Somewhat concerned', 'Very concerned'], \n",
    "    tickmode='array', tickvals = [0,1, 2, 3])\n",
    "fig.update_yaxes(title='Count of vaccinations')\n",
    "fig.show()\n",
    "fig.write_image(\"../images/concerns_vs_h1n1_vaccines.png\") #the saved image does not look good. Need to see about which options there are for saving."
   ],
   "outputs": [],
   "metadata": {}
  },
  {
   "cell_type": "code",
   "execution_count": null,
   "source": [
    "### Not needed because this does not help:\n",
    "\n",
    "# Changing the labels for the columns opinion_seas_risk and opinion_h1n1_risk\n",
    "\n",
    "labels_risk = {\"opinion_h1n1_risk\": {1.0: \"1 - Very low\", 2.0: \"2 - Somewhat low\", 3.0: \"3 - Don't know\", 4.0: \"4 - Somewhat high\",\n",
    "                                  5.0: \"5 - Very high\"},\n",
    "            \"opinion_seas_risk\": {1.0: \"1 - Very low\", 2.0: \"2 - Somewhat low\", 3.0: \"3 - Don't know\", 4.0: \"4 - Somewhat high\",\n",
    "                                  5.0: \"5 - Very high\"},\n",
    "                                  }"
   ],
   "outputs": [],
   "metadata": {}
  },
  {
   "cell_type": "markdown",
   "source": [
    "### Additional visualisations"
   ],
   "metadata": {}
  },
  {
   "cell_type": "code",
   "execution_count": null,
   "source": [
    "df_report = pd.read_csv('/Users/julianeberek/neuefische/TheFluShot/data/FluNetInteractiveReport.csv', skiprows=3)"
   ],
   "outputs": [],
   "metadata": {}
  },
  {
   "cell_type": "code",
   "execution_count": null,
   "source": [
    "df_report.info()"
   ],
   "outputs": [],
   "metadata": {}
  },
  {
   "cell_type": "code",
   "execution_count": null,
   "source": [
    "df_report['formatted_date'] = df_report.Year * 1000 + df_report.Week * 10 + 0\n",
    "df_report['date'] = pd.to_datetime(df_report['formatted_date'], format='%Y%W%w')\n",
    "df_report.head()"
   ],
   "outputs": [],
   "metadata": {}
  },
  {
   "cell_type": "code",
   "execution_count": null,
   "source": [
    "# Plotting the weekly H1N1 cases \n",
    "fig = px.line(df_report, x=\"date\", y=\"AH1N12009\", title='H1N1 Confirmed Cases (weekly)')\n",
    "fig.show()"
   ],
   "outputs": [],
   "metadata": {}
  },
  {
   "cell_type": "code",
   "execution_count": null,
   "source": [
    "# Plotting H1N1 cases against all influenza cases (all types A and B)\n",
    "\n",
    "fig = go.Figure()\n",
    "date = df_report['date']\n",
    "h1n1 = df_report['AH1N12009']\n",
    "all_a = df_report['INF_A']\n",
    "all_inf = df_report['ALL_INF']\n",
    "\n",
    "fig.add_trace(go.Scatter(x=date, y=h1n1,\n",
    "                    mode='lines',\n",
    "                    name='H1N1 cases'))\n",
    "'''fig.add_trace(go.Scatter(x=date, y=all_a,\n",
    "                    mode='lines+markers',\n",
    "                    name='All type A influenza cases'))'''\n",
    "fig.add_trace(go.Scatter(x=date, y=all_inf,\n",
    "                    mode='lines', name='Total number influenza cases'))\n",
    "\n",
    "fig.update_layout(title='Weekly cases of H1N1 vs. all influenza cases',\n",
    "                   xaxis_title='Month',\n",
    "                   yaxis_title='Number of confirmed cases')\n",
    "fig.update_layout(legend=dict(\n",
    "    yanchor=\"top\",\n",
    "    y=0.99,\n",
    "    xanchor=\"left\",\n",
    "    x=0.01\n",
    "))\n",
    "fig.show()\n",
    "fig.write_image(\"../images/weekly_cases.png\")"
   ],
   "outputs": [],
   "metadata": {}
  },
  {
   "cell_type": "code",
   "execution_count": null,
   "source": [],
   "outputs": [],
   "metadata": {}
  }
 ],
 "metadata": {
  "interpreter": {
   "hash": "c0c25dab8ee693e846481bd08863e7cb648266bb2d9a40c015c16febc8ddeeb0"
  },
  "kernelspec": {
   "name": "python3",
   "display_name": "Python 3.8.5 64-bit ('.venv': venv)"
  },
  "language_info": {
   "codemirror_mode": {
    "name": "ipython",
    "version": 3
   },
   "file_extension": ".py",
   "mimetype": "text/x-python",
   "name": "python",
   "nbconvert_exporter": "python",
   "pygments_lexer": "ipython3",
   "version": "3.8.5"
  },
  "orig_nbformat": 4
 },
 "nbformat": 4,
 "nbformat_minor": 2
}