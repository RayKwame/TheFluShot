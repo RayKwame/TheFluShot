{
 "cells": [
  {
   "cell_type": "code",
   "execution_count": null,
   "metadata": {},
   "outputs": [],
   "source": [
    "# Importing the relevant libraries\n",
    "\n",
    "import sys\n",
    "# adding to the path variables the one folder higher (locally, not changing system variables)\n",
    "sys.path.append(\"..\")\n",
    "import pandas as pd\n",
    "import numpy as np\n",
    "import warnings\n",
    "\n",
    "pd.set_option('display.max_columns', None)\n",
    "\n",
    "RSEED = 42\n",
    "# Modeling Libraries\n",
    "\n",
    "import matplotlib.pyplot as plt\n",
    "import seaborn as sns\n",
    "import plotly.express as px  # pip install plotly needs to executed\n",
    "import plotly.graph_objects as go\n",
    "# import Pywaffle lib\n",
    "from pywaffle import Waffle "
   ]
  },
  {
   "cell_type": "code",
   "execution_count": null,
   "metadata": {},
   "outputs": [],
   "source": [
    "df = pd.read_csv('../data/Flu_Shot_Data_cleaned_2.csv')"
   ]
  },
  {
   "cell_type": "code",
   "execution_count": null,
   "metadata": {},
   "outputs": [],
   "source": [
    "df.drop('Unnamed: 0', axis=1, inplace=True)"
   ]
  },
  {
   "cell_type": "code",
   "execution_count": null,
   "metadata": {},
   "outputs": [],
   "source": [
    "df.head(2)"
   ]
  },
  {
   "cell_type": "markdown",
   "metadata": {},
   "source": [
    "### Investigating on demographic data for sample description"
   ]
  },
  {
   "cell_type": "markdown",
   "metadata": {},
   "source": [
    "Attributes to be potentially considered for sample description\n",
    "- age\n",
    "- gender\n",
    "- race \n",
    "- employment status \n",
    "- income poverty \n",
    "- education\n",
    "- employment status "
   ]
  },
  {
   "cell_type": "markdown",
   "metadata": {},
   "source": [
    "### Library used: PyWaffle \n",
    "- pip install pywaffle \n",
    "- documentation can be found here: https://pywaffle.readthedocs.io/en/latest/\n",
    "- Icons from font awesome can be used: https://fontawesome.com/v5.15/icons"
   ]
  },
  {
   "cell_type": "markdown",
   "metadata": {},
   "source": [
    "### Plotting distribution of gender"
   ]
  },
  {
   "cell_type": "code",
   "execution_count": null,
   "metadata": {},
   "outputs": [],
   "source": [
    "df_gender = df.groupby('sex').size().reset_index(name='percentage')\n",
    "df_gender.percentage = (df_gender['percentage'] / df_gender['percentage'].sum()*100).round()\n",
    "df_gender"
   ]
  },
  {
   "cell_type": "code",
   "execution_count": null,
   "metadata": {},
   "outputs": [],
   "source": [
    "fig = plt.figure(\n",
    "    FigureClass=Waffle,\n",
    "    rows=10,\n",
    "    values=df_gender['percentage'],\n",
    "    colors=[\"#781fb8\", \"#335780\"],\n",
    "    icons=['female', 'male'],\n",
    "    font_size=24,\n",
    "    icon_style='solid',\n",
    "    icon_legend=True,\n",
    "    legend={\n",
    "        'labels': ['Female 59%', 'Male 41%'], \n",
    "        'loc': 'upper left', \n",
    "        'bbox_to_anchor': (1, 1)\n",
    "    },\n",
    "    title={'label': 'Distribution of gender','loc': 'center','fontdict': {'fontsize': 12}},\n",
    "\n",
    "    figsize=(10, 5)\n",
    ")"
   ]
  },
  {
   "cell_type": "markdown",
   "metadata": {},
   "source": [
    "### Plotting distribution of age "
   ]
  },
  {
   "cell_type": "code",
   "execution_count": null,
   "metadata": {},
   "outputs": [],
   "source": [
    "df_age = df.groupby('age_group').size().reset_index(name='percentage')\n",
    "df_age.percentage = (df_age['percentage'] / df_age['percentage'].sum()*100).round()\n",
    "df_age"
   ]
  },
  {
   "cell_type": "code",
   "execution_count": null,
   "metadata": {},
   "outputs": [],
   "source": [
    "fig = plt.figure(\n",
    "    FigureClass=Waffle,\n",
    "    rows=5,\n",
    "    values=df_age['percentage'],\n",
    "    colors=[\"#668191\", \"#649cbd\", \"#2b8b9e\", \"#4a89ff\", \"#1768ff\"],\n",
    "    icons=['hourglass', 'hourglass', 'hourglass', 'hourglass','hourglass'],\n",
    "    font_size=22,\n",
    "    icon_style='solid',\n",
    "    icon_legend=True,\n",
    "    rounding_rule='floor',\n",
    "    legend={\n",
    "        'labels': ['18 - 34 Years', '35 - 44 Years', '45 - 54 Years', '55 - 64 Years', '65+ Years'], \n",
    "        'loc': 'upper left', \n",
    "        'bbox_to_anchor': (1, 1)\n",
    "    },\n",
    "    title={'label': 'Distribution of Age Groups','loc': 'center','fontdict': {'fontsize': 14}},\n",
    "\n",
    "    figsize=(10, 5)\n",
    ")"
   ]
  },
  {
   "cell_type": "markdown",
   "metadata": {},
   "source": [
    "### Plotting distribution of race"
   ]
  },
  {
   "cell_type": "code",
   "execution_count": null,
   "metadata": {},
   "outputs": [],
   "source": [
    "df_race = df.groupby('race').size().reset_index(name='percentage')\n",
    "df_race.percentage = (df_race['percentage'] / df_race['percentage'].sum()*100).round()\n",
    "df_race"
   ]
  },
  {
   "cell_type": "code",
   "execution_count": null,
   "metadata": {},
   "outputs": [],
   "source": [
    "fig = plt.figure(\n",
    "    FigureClass=Waffle,\n",
    "    rows=10,\n",
    "    values=df_race['percentage'],\n",
    "    colors=[\"#000000\", \"#ff9500\", \"#ca76db\", \"#bbbdbf\"],\n",
    "    icons=['user', 'user', 'user', 'user'],\n",
    "    font_size=24,\n",
    "    icon_style='regular',\n",
    "    icon_legend=True,\n",
    "    rounding_rule='floor',\n",
    "    legend={\n",
    "        'labels': ['Black', 'Hispanic', 'Other or Multiple', 'White'], \n",
    "        'loc': 'upper left', \n",
    "        'bbox_to_anchor': (1, 1)\n",
    "    },\n",
    "    title={'label': 'Distribution of Ethnicities','loc': 'center','fontdict': {'fontsize': 14}},\n",
    "\n",
    "    figsize=(10, 5)\n",
    ")"
   ]
  },
  {
   "cell_type": "markdown",
   "metadata": {},
   "source": [
    "### Distribution of Poverty"
   ]
  },
  {
   "cell_type": "code",
   "execution_count": null,
   "metadata": {},
   "outputs": [],
   "source": [
    "df_pov = df.groupby('income_poverty').size().reset_index(name='percentage')\n",
    "df_pov.percentage = (df_pov['percentage'] / df_pov['percentage'].sum()*100).round()\n",
    "df_pov"
   ]
  },
  {
   "cell_type": "code",
   "execution_count": null,
   "metadata": {},
   "outputs": [],
   "source": [
    "fig = plt.figure(\n",
    "    FigureClass=Waffle,\n",
    "    rows=10,\n",
    "    values=df_pov['percentage'],\n",
    "    colors=[\"#668191\", \"#2b8b9e\", \"#1768ff\"],\n",
    "    icons=['dollar-sign', 'dollar-sign', 'dollar-sign'],\n",
    "    font_size=24,\n",
    "    icon_style='solid',\n",
    "    icon_legend=True,\n",
    "    rounding_rule='floor',\n",
    "    legend={\n",
    "        'labels': ['<= 75k, above poverty (57%)', '> 75k (31%)', 'Below poverty (12%)'], \n",
    "        'loc': 'upper left', \n",
    "        'bbox_to_anchor': (1, 1)\n",
    "    },\n",
    "    title={'label': 'Income Poverty','loc': 'center','fontdict': {'fontsize': 14}},\n",
    "\n",
    "    figsize=(10, 5)\n",
    ")"
   ]
  },
  {
   "cell_type": "markdown",
   "metadata": {},
   "source": [
    "### Employment"
   ]
  },
  {
   "cell_type": "code",
   "execution_count": null,
   "metadata": {},
   "outputs": [],
   "source": [
    "df_work = df.groupby('employment_status').size().reset_index(name='percentage')\n",
    "df_work.percentage = (df_work['percentage'] / df_work['percentage'].sum()*100).round()\n",
    "df_work"
   ]
  },
  {
   "cell_type": "code",
   "execution_count": null,
   "metadata": {},
   "outputs": [],
   "source": [
    "fig = plt.figure(\n",
    "    FigureClass=Waffle,\n",
    "    rows=10,\n",
    "    values=df_work['percentage'],\n",
    "    colors=[\"#668191\", \"#2b8b9e\", \"#1768ff\"],\n",
    "    icons=['hammer', 'hammer', 'hammer'],\n",
    "    font_size=24,\n",
    "    icon_style='solid',\n",
    "    icon_legend=True,\n",
    "    legend={\n",
    "        'labels': ['Employed 54%', 'Not in Labor Force 41%', 'Unemployed 6%'], \n",
    "        'loc': 'upper left', \n",
    "        'bbox_to_anchor': (1, 1)\n",
    "    },\n",
    "    title={'label': 'Employment Status','loc': 'center','fontdict': {'fontsize': 12}},\n",
    "\n",
    "    figsize=(10, 5)\n",
    ")"
   ]
  },
  {
   "cell_type": "code",
   "execution_count": null,
   "metadata": {},
   "outputs": [],
   "source": [
    "## the following code does not work!!\n",
    "\n",
    "df_gender = df.groupby('gender').size().reset_index(name='counts')\n",
    "n_categories = df_gender.shape[0]\n",
    "colors = [plt.cm.inferno_r(i/float(n_categories)) for i in range(n_categories)]\n",
    "\n",
    "fig = plt.figure(\n",
    "    FigureClass=Waffle,\n",
    "    plots={\n",
    "        '111': {\n",
    "            'values': df['counts'],\n",
    "            'labels': [\"{0} ({1})\".format(n[0], n[1]) for n in df[['gender', 'counts']].itertuples()],\n",
    "            'legend': {'loc': 'upper left', 'bbox_to_anchor': (1.05, 1), 'fontsize': 12},\n",
    "            'title': {'label': '# Vehicles by Class', 'loc': 'center', 'fontsize':18},\n",
    "            'icons': {{'female': 'female', 'male': 'male'}, loc': 'center', 'fontsize':18}\n",
    "        },\n",
    "    },\n",
    "    rows=7,\n",
    "    colors=colors,\n",
    "    figsize=(16, 9)\n",
    ")"
   ]
  }
 ],
 "metadata": {
  "interpreter": {
   "hash": "c0c25dab8ee693e846481bd08863e7cb648266bb2d9a40c015c16febc8ddeeb0"
  },
  "kernelspec": {
   "display_name": "Python 3.8.5 64-bit ('.venv': venv)",
   "name": "python3"
  },
  "language_info": {
   "codemirror_mode": {
    "name": "ipython",
    "version": 3
   },
   "file_extension": ".py",
   "mimetype": "text/x-python",
   "name": "python",
   "nbconvert_exporter": "python",
   "pygments_lexer": "ipython3",
   "version": "3.8.5"
  },
  "orig_nbformat": 4
 },
 "nbformat": 4,
 "nbformat_minor": 2
}