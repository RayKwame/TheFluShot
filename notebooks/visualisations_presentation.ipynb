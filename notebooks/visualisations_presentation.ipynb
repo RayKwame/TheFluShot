{
 "cells": [
  {
   "cell_type": "code",
   "execution_count": 2,
   "metadata": {},
   "outputs": [],
   "source": [
    "# Importing the relevant libraries\n",
    "\n",
    "import sys\n",
    "# adding to the path variables the one folder higher (locally, not changing system variables)\n",
    "sys.path.append(\"..\")\n",
    "import pandas as pd\n",
    "import numpy as np\n",
    "import warnings\n",
    "\n",
    "pd.set_option('display.max_columns', None)\n",
    "\n",
    "RSEED = 42\n",
    "# Modeling Libraries\n",
    "\n",
    "import matplotlib.pyplot as plt\n",
    "import seaborn as sns\n",
    "import plotly.express as px  # pip install plotly needs to executed\n",
    "import plotly.graph_objects as go\n",
    "# import Pywaffle lib\n",
    "from pywaffle import Waffle "
   ]
  },
  {
   "cell_type": "code",
   "execution_count": 3,
   "metadata": {},
   "outputs": [],
   "source": [
    "df = pd.read_csv('../data/Flu_Shot_Data_cleaned_2.csv')"
   ]
  },
  {
   "cell_type": "code",
   "execution_count": 4,
   "metadata": {},
   "outputs": [],
   "source": [
    "df.drop('Unnamed: 0', axis=1, inplace=True)"
   ]
  },
  {
   "cell_type": "code",
   "execution_count": 5,
   "metadata": {},
   "outputs": [
    {
     "data": {
      "text/html": [
       "<div>\n",
       "<style scoped>\n",
       "    .dataframe tbody tr th:only-of-type {\n",
       "        vertical-align: middle;\n",
       "    }\n",
       "\n",
       "    .dataframe tbody tr th {\n",
       "        vertical-align: top;\n",
       "    }\n",
       "\n",
       "    .dataframe thead th {\n",
       "        text-align: right;\n",
       "    }\n",
       "</style>\n",
       "<table border=\"1\" class=\"dataframe\">\n",
       "  <thead>\n",
       "    <tr style=\"text-align: right;\">\n",
       "      <th></th>\n",
       "      <th>h1n1_vaccine</th>\n",
       "      <th>seasonal_vaccine</th>\n",
       "      <th>h1n1_concern</th>\n",
       "      <th>h1n1_knowledge</th>\n",
       "      <th>behavioral_antiviral_meds</th>\n",
       "      <th>behavioral_avoidance</th>\n",
       "      <th>behavioral_face_mask</th>\n",
       "      <th>behavioral_wash_hands</th>\n",
       "      <th>behavioral_large_gatherings</th>\n",
       "      <th>behavioral_outside_home</th>\n",
       "      <th>behavioral_touch_face</th>\n",
       "      <th>doctor_recc_h1n1</th>\n",
       "      <th>doctor_recc_seasonal</th>\n",
       "      <th>chronic_med_condition</th>\n",
       "      <th>child_under_6_months</th>\n",
       "      <th>health_worker</th>\n",
       "      <th>health_insurance</th>\n",
       "      <th>opinion_h1n1_vacc_effective</th>\n",
       "      <th>opinion_h1n1_risk</th>\n",
       "      <th>opinion_h1n1_sick_from_vacc</th>\n",
       "      <th>opinion_seas_vacc_effective</th>\n",
       "      <th>opinion_seas_risk</th>\n",
       "      <th>opinion_seas_sick_from_vacc</th>\n",
       "      <th>age_group</th>\n",
       "      <th>education</th>\n",
       "      <th>race</th>\n",
       "      <th>sex</th>\n",
       "      <th>income_poverty</th>\n",
       "      <th>marital_status</th>\n",
       "      <th>rent_or_own</th>\n",
       "      <th>employment_status</th>\n",
       "      <th>hhs_geo_region</th>\n",
       "      <th>census_msa</th>\n",
       "      <th>household_adults</th>\n",
       "      <th>household_children</th>\n",
       "      <th>employment_industry</th>\n",
       "      <th>employment_occupation</th>\n",
       "    </tr>\n",
       "  </thead>\n",
       "  <tbody>\n",
       "    <tr>\n",
       "      <th>0</th>\n",
       "      <td>0</td>\n",
       "      <td>0</td>\n",
       "      <td>1.0</td>\n",
       "      <td>0.0</td>\n",
       "      <td>0.0</td>\n",
       "      <td>0.0</td>\n",
       "      <td>0.0</td>\n",
       "      <td>0.0</td>\n",
       "      <td>0.0</td>\n",
       "      <td>1.0</td>\n",
       "      <td>1.0</td>\n",
       "      <td>0.0</td>\n",
       "      <td>0.0</td>\n",
       "      <td>0.0</td>\n",
       "      <td>0.0</td>\n",
       "      <td>0.0</td>\n",
       "      <td>1.0</td>\n",
       "      <td>3.0</td>\n",
       "      <td>1.0</td>\n",
       "      <td>2.0</td>\n",
       "      <td>2.0</td>\n",
       "      <td>1.0</td>\n",
       "      <td>2.0</td>\n",
       "      <td>55 - 64 Years</td>\n",
       "      <td>&lt; 12 Years</td>\n",
       "      <td>White</td>\n",
       "      <td>Female</td>\n",
       "      <td>Below Poverty</td>\n",
       "      <td>Not Married</td>\n",
       "      <td>Own</td>\n",
       "      <td>Not in Labor Force</td>\n",
       "      <td>oxchjgsf</td>\n",
       "      <td>Non-MSA</td>\n",
       "      <td>0.0</td>\n",
       "      <td>0.0</td>\n",
       "      <td>NaN</td>\n",
       "      <td>NaN</td>\n",
       "    </tr>\n",
       "    <tr>\n",
       "      <th>1</th>\n",
       "      <td>0</td>\n",
       "      <td>1</td>\n",
       "      <td>3.0</td>\n",
       "      <td>2.0</td>\n",
       "      <td>0.0</td>\n",
       "      <td>1.0</td>\n",
       "      <td>0.0</td>\n",
       "      <td>1.0</td>\n",
       "      <td>0.0</td>\n",
       "      <td>1.0</td>\n",
       "      <td>1.0</td>\n",
       "      <td>0.0</td>\n",
       "      <td>0.0</td>\n",
       "      <td>0.0</td>\n",
       "      <td>0.0</td>\n",
       "      <td>0.0</td>\n",
       "      <td>1.0</td>\n",
       "      <td>5.0</td>\n",
       "      <td>4.0</td>\n",
       "      <td>4.0</td>\n",
       "      <td>4.0</td>\n",
       "      <td>2.0</td>\n",
       "      <td>4.0</td>\n",
       "      <td>35 - 44 Years</td>\n",
       "      <td>12 Years</td>\n",
       "      <td>White</td>\n",
       "      <td>Male</td>\n",
       "      <td>Below Poverty</td>\n",
       "      <td>Not Married</td>\n",
       "      <td>Rent</td>\n",
       "      <td>Employed</td>\n",
       "      <td>bhuqouqj</td>\n",
       "      <td>MSA, Not Principle  City</td>\n",
       "      <td>0.0</td>\n",
       "      <td>0.0</td>\n",
       "      <td>pxcmvdjn</td>\n",
       "      <td>xgwztkwe</td>\n",
       "    </tr>\n",
       "  </tbody>\n",
       "</table>\n",
       "</div>"
      ],
      "text/plain": [
       "   h1n1_vaccine  seasonal_vaccine  h1n1_concern  h1n1_knowledge  \\\n",
       "0             0                 0           1.0             0.0   \n",
       "1             0                 1           3.0             2.0   \n",
       "\n",
       "   behavioral_antiviral_meds  behavioral_avoidance  behavioral_face_mask  \\\n",
       "0                        0.0                   0.0                   0.0   \n",
       "1                        0.0                   1.0                   0.0   \n",
       "\n",
       "   behavioral_wash_hands  behavioral_large_gatherings  \\\n",
       "0                    0.0                          0.0   \n",
       "1                    1.0                          0.0   \n",
       "\n",
       "   behavioral_outside_home  behavioral_touch_face  doctor_recc_h1n1  \\\n",
       "0                      1.0                    1.0               0.0   \n",
       "1                      1.0                    1.0               0.0   \n",
       "\n",
       "   doctor_recc_seasonal  chronic_med_condition  child_under_6_months  \\\n",
       "0                   0.0                    0.0                   0.0   \n",
       "1                   0.0                    0.0                   0.0   \n",
       "\n",
       "   health_worker  health_insurance  opinion_h1n1_vacc_effective  \\\n",
       "0            0.0               1.0                          3.0   \n",
       "1            0.0               1.0                          5.0   \n",
       "\n",
       "   opinion_h1n1_risk  opinion_h1n1_sick_from_vacc  \\\n",
       "0                1.0                          2.0   \n",
       "1                4.0                          4.0   \n",
       "\n",
       "   opinion_seas_vacc_effective  opinion_seas_risk  \\\n",
       "0                          2.0                1.0   \n",
       "1                          4.0                2.0   \n",
       "\n",
       "   opinion_seas_sick_from_vacc      age_group   education   race     sex  \\\n",
       "0                          2.0  55 - 64 Years  < 12 Years  White  Female   \n",
       "1                          4.0  35 - 44 Years    12 Years  White    Male   \n",
       "\n",
       "  income_poverty marital_status rent_or_own   employment_status  \\\n",
       "0  Below Poverty    Not Married         Own  Not in Labor Force   \n",
       "1  Below Poverty    Not Married        Rent            Employed   \n",
       "\n",
       "  hhs_geo_region                census_msa  household_adults  \\\n",
       "0       oxchjgsf                   Non-MSA               0.0   \n",
       "1       bhuqouqj  MSA, Not Principle  City               0.0   \n",
       "\n",
       "   household_children employment_industry employment_occupation  \n",
       "0                 0.0                 NaN                   NaN  \n",
       "1                 0.0            pxcmvdjn              xgwztkwe  "
      ]
     },
     "execution_count": 5,
     "metadata": {},
     "output_type": "execute_result"
    }
   ],
   "source": [
    "df.head(2)"
   ]
  },
  {
   "cell_type": "markdown",
   "metadata": {},
   "source": [
    "### Investigating on demographic data for sample description"
   ]
  },
  {
   "cell_type": "markdown",
   "metadata": {},
   "source": [
    "Attributes to be potentially considered for sample description\n",
    "- age\n",
    "- gender\n",
    "- race \n",
    "- employment status \n",
    "- income poverty \n",
    "- education\n",
    "- employment status "
   ]
  },
  {
   "cell_type": "markdown",
   "metadata": {},
   "source": [
    "### Library used: PyWaffle \n",
    "- pip install pywaffle \n",
    "- documentation can be found here: https://pywaffle.readthedocs.io/en/latest/\n",
    "- Icons from font awesome can be used: https://fontawesome.com/v5.15/icons"
   ]
  },
  {
   "cell_type": "markdown",
   "metadata": {},
   "source": [
    "### Plotting distribution of gender"
   ]
  },
  {
   "cell_type": "code",
   "execution_count": 6,
   "metadata": {},
   "outputs": [
    {
     "data": {
      "text/html": [
       "<div>\n",
       "<style scoped>\n",
       "    .dataframe tbody tr th:only-of-type {\n",
       "        vertical-align: middle;\n",
       "    }\n",
       "\n",
       "    .dataframe tbody tr th {\n",
       "        vertical-align: top;\n",
       "    }\n",
       "\n",
       "    .dataframe thead th {\n",
       "        text-align: right;\n",
       "    }\n",
       "</style>\n",
       "<table border=\"1\" class=\"dataframe\">\n",
       "  <thead>\n",
       "    <tr style=\"text-align: right;\">\n",
       "      <th></th>\n",
       "      <th>sex</th>\n",
       "      <th>percentage</th>\n",
       "    </tr>\n",
       "  </thead>\n",
       "  <tbody>\n",
       "    <tr>\n",
       "      <th>0</th>\n",
       "      <td>Female</td>\n",
       "      <td>59.0</td>\n",
       "    </tr>\n",
       "    <tr>\n",
       "      <th>1</th>\n",
       "      <td>Male</td>\n",
       "      <td>41.0</td>\n",
       "    </tr>\n",
       "  </tbody>\n",
       "</table>\n",
       "</div>"
      ],
      "text/plain": [
       "      sex  percentage\n",
       "0  Female        59.0\n",
       "1    Male        41.0"
      ]
     },
     "execution_count": 6,
     "metadata": {},
     "output_type": "execute_result"
    }
   ],
   "source": [
    "df_gender = df.groupby('sex').size().reset_index(name='percentage')\n",
    "df_gender.percentage = (df_gender['percentage'] / df_gender['percentage'].sum()*100).round()\n",
    "df_gender"
   ]
  },
  {
   "cell_type": "code",
   "execution_count": 29,
   "metadata": {},
   "outputs": [
    {
     "data": {
      "image/png": "[encoded data removed]",
      "text/plain": [
       "<Waffle size 720x360 with 1 Axes>"
      ]
     },
     "metadata": {
      "needs_background": "light"
     },
     "output_type": "display_data"
    }
   ],
   "source": [
    "fig = plt.figure(\n",
    "    FigureClass=Waffle,\n",
    "    rows=10,\n",
    "    values=df_gender['percentage'],\n",
    "    colors=[\"#781fb8\", \"#335780\"],\n",
    "    icons=['female', 'male'],\n",
    "    font_size=24,\n",
    "    icon_style='solid',\n",
    "    icon_legend=True,\n",
    "    legend={\n",
    "        'labels': ['Female 59%', 'Male 41%'], \n",
    "        'loc': 'upper left', \n",
    "        'bbox_to_anchor': (1, 1)\n",
    "    },\n",
    "    title={'label': 'Distribution of gender','loc': 'center','fontdict': {'fontsize': 12}},\n",
    "\n",
    "    figsize=(10, 5)\n",
    ")\n",
    "plt.savefig('../images/info_gender.jpg')"
   ]
  },
  {
   "cell_type": "markdown",
   "metadata": {},
   "source": [
    "### Plotting distribution of age "
   ]
  },
  {
   "cell_type": "code",
   "execution_count": 20,
   "metadata": {},
   "outputs": [
    {
     "data": {
      "text/html": [
       "<div>\n",
       "<style scoped>\n",
       "    .dataframe tbody tr th:only-of-type {\n",
       "        vertical-align: middle;\n",
       "    }\n",
       "\n",
       "    .dataframe tbody tr th {\n",
       "        vertical-align: top;\n",
       "    }\n",
       "\n",
       "    .dataframe thead th {\n",
       "        text-align: right;\n",
       "    }\n",
       "</style>\n",
       "<table border=\"1\" class=\"dataframe\">\n",
       "  <thead>\n",
       "    <tr style=\"text-align: right;\">\n",
       "      <th></th>\n",
       "      <th>age_group</th>\n",
       "      <th>percentage</th>\n",
       "    </tr>\n",
       "  </thead>\n",
       "  <tbody>\n",
       "    <tr>\n",
       "      <th>0</th>\n",
       "      <td>18 - 34 Years</td>\n",
       "      <td>20.0</td>\n",
       "    </tr>\n",
       "    <tr>\n",
       "      <th>1</th>\n",
       "      <td>35 - 44 Years</td>\n",
       "      <td>14.0</td>\n",
       "    </tr>\n",
       "    <tr>\n",
       "      <th>2</th>\n",
       "      <td>45 - 54 Years</td>\n",
       "      <td>20.0</td>\n",
       "    </tr>\n",
       "    <tr>\n",
       "      <th>3</th>\n",
       "      <td>55 - 64 Years</td>\n",
       "      <td>21.0</td>\n",
       "    </tr>\n",
       "    <tr>\n",
       "      <th>4</th>\n",
       "      <td>65+ Years</td>\n",
       "      <td>26.0</td>\n",
       "    </tr>\n",
       "  </tbody>\n",
       "</table>\n",
       "</div>"
      ],
      "text/plain": [
       "       age_group  percentage\n",
       "0  18 - 34 Years        20.0\n",
       "1  35 - 44 Years        14.0\n",
       "2  45 - 54 Years        20.0\n",
       "3  55 - 64 Years        21.0\n",
       "4      65+ Years        26.0"
      ]
     },
     "execution_count": 20,
     "metadata": {},
     "output_type": "execute_result"
    }
   ],
   "source": [
    "df_age = df.groupby('age_group').size().reset_index(name='percentage')\n",
    "df_age.percentage = (df_age['percentage'] / df_age['percentage'].sum()*100).round()\n",
    "df_age"
   ]
  },
  {
   "cell_type": "code",
   "execution_count": 53,
   "metadata": {},
   "outputs": [
    {
     "data": {
      "image/png": "[encoded data removed]",
      "text/plain": [
       "<Waffle size 720x360 with 1 Axes>"
      ]
     },
     "metadata": {
      "needs_background": "light"
     },
     "output_type": "display_data"
    }
   ],
   "source": [
    "fig = plt.figure(\n",
    "    FigureClass=Waffle,\n",
    "    rows=10,\n",
    "    values=df_age['percentage'],\n",
    "    colors=[\"#668191\", \"#649cbd\", \"#2b8b9e\", \"#4a89ff\", \"#1768ff\"],\n",
    "    icons=['hourglass', 'hourglass', 'hourglass', 'hourglass','hourglass'],\n",
    "    font_size=20,\n",
    "    icon_style='solid',\n",
    "    icon_legend=True,\n",
    "    rounding_rule='floor',\n",
    "    legend={\n",
    "        'labels': ['18 - 34 Years', '35 - 44 Years', '45 - 54 Years', '55 - 64 Years', '65+ Years'], \n",
    "        'loc': 'upper left', \n",
    "        'bbox_to_anchor': (1, 1)\n",
    "    },\n",
    "    title={'label': 'Distribution of Age Groups','loc': 'center','fontdict': {'fontsize': 14}},\n",
    "\n",
    "    figsize=(10, 5)\n",
    ")"
   ]
  },
  {
   "cell_type": "code",
   "execution_count": 30,
   "metadata": {},
   "outputs": [
    {
     "data": {
      "image/png": "[encoded data removed]",
      "text/plain": [
       "<Waffle size 720x360 with 1 Axes>"
      ]
     },
     "metadata": {
      "needs_background": "light"
     },
     "output_type": "display_data"
    }
   ],
   "source": [
    "fig = plt.figure(\n",
    "    FigureClass=Waffle,\n",
    "    rows=10,\n",
    "    values=df_age['percentage'],\n",
    "    colors=[\"#668191\", \"#649cbd\", \"#2b8b9e\", \"#4a89ff\", \"#1768ff\"],\n",
    "    characters='⬤',\n",
    "    font_size=22,\n",
    "    icon_style='solid',\n",
    "    icon_legend=True,\n",
    "    rounding_rule='floor',\n",
    "    legend={\n",
    "        'labels': ['18 - 34 Years', '35 - 44 Years', '45 - 54 Years', '55 - 64 Years', '65+ Years'], \n",
    "        'loc': 'upper left', \n",
    "        'bbox_to_anchor': (1, 1)\n",
    "    },\n",
    "    title={'label': 'Distribution of Age Groups','loc': 'center','fontdict': {'fontsize': 14}},\n",
    "\n",
    "    figsize=(10, 5)\n",
    ")\n",
    "plt.savefig('../images/info_ages.jpg')"
   ]
  },
  {
   "cell_type": "markdown",
   "metadata": {},
   "source": [
    "### Plotting distribution of race"
   ]
  },
  {
   "cell_type": "code",
   "execution_count": 23,
   "metadata": {},
   "outputs": [
    {
     "data": {
      "text/html": [
       "<div>\n",
       "<style scoped>\n",
       "    .dataframe tbody tr th:only-of-type {\n",
       "        vertical-align: middle;\n",
       "    }\n",
       "\n",
       "    .dataframe tbody tr th {\n",
       "        vertical-align: top;\n",
       "    }\n",
       "\n",
       "    .dataframe thead th {\n",
       "        text-align: right;\n",
       "    }\n",
       "</style>\n",
       "<table border=\"1\" class=\"dataframe\">\n",
       "  <thead>\n",
       "    <tr style=\"text-align: right;\">\n",
       "      <th></th>\n",
       "      <th>race</th>\n",
       "      <th>percentage</th>\n",
       "    </tr>\n",
       "  </thead>\n",
       "  <tbody>\n",
       "    <tr>\n",
       "      <th>0</th>\n",
       "      <td>Black</td>\n",
       "      <td>8.0</td>\n",
       "    </tr>\n",
       "    <tr>\n",
       "      <th>1</th>\n",
       "      <td>Hispanic</td>\n",
       "      <td>7.0</td>\n",
       "    </tr>\n",
       "    <tr>\n",
       "      <th>2</th>\n",
       "      <td>Other or Multiple</td>\n",
       "      <td>6.0</td>\n",
       "    </tr>\n",
       "    <tr>\n",
       "      <th>3</th>\n",
       "      <td>White</td>\n",
       "      <td>79.0</td>\n",
       "    </tr>\n",
       "  </tbody>\n",
       "</table>\n",
       "</div>"
      ],
      "text/plain": [
       "                race  percentage\n",
       "0              Black         8.0\n",
       "1           Hispanic         7.0\n",
       "2  Other or Multiple         6.0\n",
       "3              White        79.0"
      ]
     },
     "execution_count": 23,
     "metadata": {},
     "output_type": "execute_result"
    }
   ],
   "source": [
    "df_race = df.groupby('race').size().reset_index(name='percentage')\n",
    "df_race.percentage = (df_race['percentage'] / df_race['percentage'].sum()*100).round()\n",
    "df_race"
   ]
  },
  {
   "cell_type": "code",
   "execution_count": 51,
   "metadata": {},
   "outputs": [
    {
     "data": {
      "image/png": "[encoded data removed]",
      "text/plain": [
       "<Waffle size 720x360 with 1 Axes>"
      ]
     },
     "metadata": {
      "needs_background": "light"
     },
     "output_type": "display_data"
    }
   ],
   "source": [
    "fig = plt.figure(\n",
    "    FigureClass=Waffle,\n",
    "    rows=10,\n",
    "    values=df_race['percentage'],\n",
    "    colors=[\"#000000\", \"#ff9500\", \"#ca76db\", \"#bbbdbf\"],\n",
    "    icons=['user', 'user', 'user', 'user'],\n",
    "    font_size=24,\n",
    "    icon_style='solid',\n",
    "    icon_legend=True,\n",
    "    rounding_rule='floor',\n",
    "    legend={\n",
    "        'labels': ['Black', 'Hispanic', 'Other or Multiple', 'White'], \n",
    "        'loc': 'upper left', \n",
    "        'bbox_to_anchor': (1, 1)\n",
    "    },\n",
    "    title={'label': 'Distribution of Ethnicities','loc': 'center','fontdict': {'fontsize': 14}},\n",
    "\n",
    "    figsize=(10, 5)\n",
    ")\n",
    "plt.savefig('../images/info_race.jpg')"
   ]
  },
  {
   "cell_type": "markdown",
   "metadata": {},
   "source": [
    "### Distribution of Poverty"
   ]
  },
  {
   "cell_type": "code",
   "execution_count": 25,
   "metadata": {},
   "outputs": [
    {
     "data": {
      "text/html": [
       "<div>\n",
       "<style scoped>\n",
       "    .dataframe tbody tr th:only-of-type {\n",
       "        vertical-align: middle;\n",
       "    }\n",
       "\n",
       "    .dataframe tbody tr th {\n",
       "        vertical-align: top;\n",
       "    }\n",
       "\n",
       "    .dataframe thead th {\n",
       "        text-align: right;\n",
       "    }\n",
       "</style>\n",
       "<table border=\"1\" class=\"dataframe\">\n",
       "  <thead>\n",
       "    <tr style=\"text-align: right;\">\n",
       "      <th></th>\n",
       "      <th>income_poverty</th>\n",
       "      <th>percentage</th>\n",
       "    </tr>\n",
       "  </thead>\n",
       "  <tbody>\n",
       "    <tr>\n",
       "      <th>0</th>\n",
       "      <td>&lt;= $75,000, Above Poverty</td>\n",
       "      <td>57.0</td>\n",
       "    </tr>\n",
       "    <tr>\n",
       "      <th>1</th>\n",
       "      <td>&gt; $75,000</td>\n",
       "      <td>31.0</td>\n",
       "    </tr>\n",
       "    <tr>\n",
       "      <th>2</th>\n",
       "      <td>Below Poverty</td>\n",
       "      <td>12.0</td>\n",
       "    </tr>\n",
       "  </tbody>\n",
       "</table>\n",
       "</div>"
      ],
      "text/plain": [
       "              income_poverty  percentage\n",
       "0  <= $75,000, Above Poverty        57.0\n",
       "1                  > $75,000        31.0\n",
       "2              Below Poverty        12.0"
      ]
     },
     "execution_count": 25,
     "metadata": {},
     "output_type": "execute_result"
    }
   ],
   "source": [
    "df_pov = df.groupby('income_poverty').size().reset_index(name='percentage')\n",
    "df_pov.percentage = (df_pov['percentage'] / df_pov['percentage'].sum()*100).round()\n",
    "df_pov"
   ]
  },
  {
   "cell_type": "code",
   "execution_count": 32,
   "metadata": {},
   "outputs": [
    {
     "data": {
      "image/png": "[encoded data removed]",
      "text/plain": [
       "<Waffle size 720x360 with 1 Axes>"
      ]
     },
     "metadata": {
      "needs_background": "light"
     },
     "output_type": "display_data"
    }
   ],
   "source": [
    "fig = plt.figure(\n",
    "    FigureClass=Waffle,\n",
    "    rows=10,\n",
    "    values=df_pov['percentage'],\n",
    "    colors=[\"#668191\", \"#2b8b9e\", \"#ff9500\"],\n",
    "    icons=['dollar-sign', 'dollar-sign', 'dollar-sign'],\n",
    "    font_size=24,\n",
    "    icon_style='solid',\n",
    "    icon_legend=True,\n",
    "    rounding_rule='floor',\n",
    "    legend={\n",
    "        'labels': ['<= 75k, above poverty (57%)', '> 75k (31%)', 'Below poverty (12%)'], \n",
    "        'loc': 'upper left', \n",
    "        'bbox_to_anchor': (1, 1)\n",
    "    },\n",
    "    title={'label': 'Income Poverty','loc': 'center','fontdict': {'fontsize': 14}},\n",
    "\n",
    "    figsize=(10, 5)\n",
    ")\n",
    "\n",
    "plt.savefig('../images/info_poverty.jpg')"
   ]
  },
  {
   "cell_type": "markdown",
   "metadata": {},
   "source": [
    "### Employment"
   ]
  },
  {
   "cell_type": "code",
   "execution_count": 27,
   "metadata": {},
   "outputs": [
    {
     "data": {
      "text/html": [
       "<div>\n",
       "<style scoped>\n",
       "    .dataframe tbody tr th:only-of-type {\n",
       "        vertical-align: middle;\n",
       "    }\n",
       "\n",
       "    .dataframe tbody tr th {\n",
       "        vertical-align: top;\n",
       "    }\n",
       "\n",
       "    .dataframe thead th {\n",
       "        text-align: right;\n",
       "    }\n",
       "</style>\n",
       "<table border=\"1\" class=\"dataframe\">\n",
       "  <thead>\n",
       "    <tr style=\"text-align: right;\">\n",
       "      <th></th>\n",
       "      <th>employment_status</th>\n",
       "      <th>percentage</th>\n",
       "    </tr>\n",
       "  </thead>\n",
       "  <tbody>\n",
       "    <tr>\n",
       "      <th>0</th>\n",
       "      <td>Employed</td>\n",
       "      <td>54.0</td>\n",
       "    </tr>\n",
       "    <tr>\n",
       "      <th>1</th>\n",
       "      <td>Not in Labor Force</td>\n",
       "      <td>41.0</td>\n",
       "    </tr>\n",
       "    <tr>\n",
       "      <th>2</th>\n",
       "      <td>Unemployed</td>\n",
       "      <td>6.0</td>\n",
       "    </tr>\n",
       "  </tbody>\n",
       "</table>\n",
       "</div>"
      ],
      "text/plain": [
       "    employment_status  percentage\n",
       "0            Employed        54.0\n",
       "1  Not in Labor Force        41.0\n",
       "2          Unemployed         6.0"
      ]
     },
     "execution_count": 27,
     "metadata": {},
     "output_type": "execute_result"
    }
   ],
   "source": [
    "df_work = df.groupby('employment_status').size().reset_index(name='percentage')\n",
    "df_work.percentage = (df_work['percentage'] / df_work['percentage'].sum()*100).round()\n",
    "df_work"
   ]
  },
  {
   "cell_type": "code",
   "execution_count": 33,
   "metadata": {},
   "outputs": [
    {
     "data": {
      "image/png": "[encoded data removed]",
      "text/plain": [
       "<Waffle size 720x360 with 1 Axes>"
      ]
     },
     "metadata": {
      "needs_background": "light"
     },
     "output_type": "display_data"
    }
   ],
   "source": [
    "fig = plt.figure(\n",
    "    FigureClass=Waffle,\n",
    "    rows=10,\n",
    "    values=df_work['percentage'],\n",
    "    colors=[\"#668191\", \"#2b8b9e\", \"#1768ff\"],\n",
    "    icons=['hammer', 'hammer', 'hammer'],\n",
    "    font_size=24,\n",
    "    icon_style='solid',\n",
    "    icon_legend=True,\n",
    "    legend={\n",
    "        'labels': ['Employed 54%', 'Not in Labor Force 41%', 'Unemployed 6%'], \n",
    "        'loc': 'upper left', \n",
    "        'bbox_to_anchor': (1, 1)\n",
    "    },\n",
    "    title={'label': 'Employment Status','loc': 'center','fontdict': {'fontsize': 12}},\n",
    "\n",
    "    figsize=(10, 5)\n",
    ")\n",
    "\n",
    "plt.savefig('../images/info_employ.jpg')"
   ]
  },
  {
   "cell_type": "markdown",
   "metadata": {},
   "source": [
    "### Plotting education"
   ]
  },
  {
   "cell_type": "code",
   "execution_count": 34,
   "metadata": {},
   "outputs": [
    {
     "data": {
      "text/html": [
       "<div>\n",
       "<style scoped>\n",
       "    .dataframe tbody tr th:only-of-type {\n",
       "        vertical-align: middle;\n",
       "    }\n",
       "\n",
       "    .dataframe tbody tr th {\n",
       "        vertical-align: top;\n",
       "    }\n",
       "\n",
       "    .dataframe thead th {\n",
       "        text-align: right;\n",
       "    }\n",
       "</style>\n",
       "<table border=\"1\" class=\"dataframe\">\n",
       "  <thead>\n",
       "    <tr style=\"text-align: right;\">\n",
       "      <th></th>\n",
       "      <th>education</th>\n",
       "      <th>percentage</th>\n",
       "    </tr>\n",
       "  </thead>\n",
       "  <tbody>\n",
       "    <tr>\n",
       "      <th>0</th>\n",
       "      <td>12 Years</td>\n",
       "      <td>23.0</td>\n",
       "    </tr>\n",
       "    <tr>\n",
       "      <th>1</th>\n",
       "      <td>&lt; 12 Years</td>\n",
       "      <td>9.0</td>\n",
       "    </tr>\n",
       "    <tr>\n",
       "      <th>2</th>\n",
       "      <td>College Graduate</td>\n",
       "      <td>40.0</td>\n",
       "    </tr>\n",
       "    <tr>\n",
       "      <th>3</th>\n",
       "      <td>Some College</td>\n",
       "      <td>28.0</td>\n",
       "    </tr>\n",
       "  </tbody>\n",
       "</table>\n",
       "</div>"
      ],
      "text/plain": [
       "          education  percentage\n",
       "0          12 Years        23.0\n",
       "1        < 12 Years         9.0\n",
       "2  College Graduate        40.0\n",
       "3      Some College        28.0"
      ]
     },
     "execution_count": 34,
     "metadata": {},
     "output_type": "execute_result"
    }
   ],
   "source": [
    "df_edu = df.groupby('education').size().reset_index(name='percentage')\n",
    "df_edu.percentage = (df_edu['percentage'] / df_edu['percentage'].sum()*100).round()\n",
    "df_edu"
   ]
  },
  {
   "cell_type": "code",
   "execution_count": 50,
   "metadata": {},
   "outputs": [
    {
     "data": {
      "image/png": "[encoded data removed]",
      "text/plain": [
       "<Waffle size 720x360 with 1 Axes>"
      ]
     },
     "metadata": {
      "needs_background": "light"
     },
     "output_type": "display_data"
    }
   ],
   "source": [
    "fig = plt.figure(\n",
    "    FigureClass=Waffle,\n",
    "    rows=10,\n",
    "    values=df_edu['percentage'],\n",
    "    colors=[\"#000000\", \"#ff9500\", \"#ca76db\", \"#bbbdbf\"],\n",
    "    icons=['school', 'school', 'university', 'university'],\n",
    "    font_size=20,\n",
    "    icon_style='solid',\n",
    "    icon_legend=True,\n",
    "    rounding_rule='floor',\n",
    "    legend={\n",
    "        'labels': ['12 Years 23%', '< 12 Years 9%', 'College Graduate 40%', 'Some College 28%'], \n",
    "        'loc': 'upper left', \n",
    "        'bbox_to_anchor': (1, 1)\n",
    "    },\n",
    "    title={'label': 'Educational Level','loc': 'center','fontdict': {'fontsize': 14}},\n",
    "\n",
    "    figsize=(10, 5)\n",
    ")\n",
    "plt.savefig('../images/info_education.jpg')"
   ]
  },
  {
   "cell_type": "code",
   "execution_count": 17,
   "metadata": {},
   "outputs": [
    {
     "ename": "SyntaxError",
     "evalue": "invalid syntax (2876208206.py, line 15)",
     "output_type": "error",
     "traceback": [
      "\u001b[0;36m  File \u001b[0;32m\"/var/folders/hq/qn47frx13tx83lx6lj1c_2yh0000gn/T/ipykernel_81339/2876208206.py\"\u001b[0;36m, line \u001b[0;32m15\u001b[0m\n\u001b[0;31m    'icons': {{'female': 'female', 'male': 'male'}, loc': 'center', 'fontsize':18}\u001b[0m\n\u001b[0m                                                       ^\u001b[0m\n\u001b[0;31mSyntaxError\u001b[0m\u001b[0;31m:\u001b[0m invalid syntax\n"
     ]
    }
   ],
   "source": [
    "## the following code does not work!!\n",
    "\n",
    "df_gender = df.groupby('gender').size().reset_index(name='counts')\n",
    "n_categories = df_gender.shape[0]\n",
    "colors = [plt.cm.inferno_r(i/float(n_categories)) for i in range(n_categories)]\n",
    "\n",
    "fig = plt.figure(\n",
    "    FigureClass=Waffle,\n",
    "    plots={\n",
    "        '111': {\n",
    "            'values': df['counts'],\n",
    "            'labels': [\"{0} ({1})\".format(n[0], n[1]) for n in df[['gender', 'counts']].itertuples()],\n",
    "            'legend': {'loc': 'upper left', 'bbox_to_anchor': (1.05, 1), 'fontsize': 12},\n",
    "            'title': {'label': '# Vehicles by Class', 'loc': 'center', 'fontsize':18},\n",
    "            'icons': {{'female': 'female', 'male': 'male'}, loc': 'center', 'fontsize':18}\n",
    "        },\n",
    "    },\n",
    "    rows=7,\n",
    "    colors=colors,\n",
    "    figsize=(16, 9)\n",
    ")"
   ]
  }
 ],
 "metadata": {
  "interpreter": {
   "hash": "c0c25dab8ee693e846481bd08863e7cb648266bb2d9a40c015c16febc8ddeeb0"
  },
  "kernelspec": {
   "display_name": "Python 3.8.5 64-bit ('.venv': venv)",
   "name": "python3"
  },
  "language_info": {
   "codemirror_mode": {
    "name": "ipython",
    "version": 3
   },
   "file_extension": ".py",
   "mimetype": "text/x-python",
   "name": "python",
   "nbconvert_exporter": "python",
   "pygments_lexer": "ipython3",
   "version": "3.8.5"
  },
  "orig_nbformat": 4
 },
 "nbformat": 4,
 "nbformat_minor": 2
}