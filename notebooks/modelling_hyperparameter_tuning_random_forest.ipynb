{
 "cells": [
  {
   "cell_type": "markdown",
   "metadata": {},
   "source": [
    "Notes on MLFlow:\n",
    "- 'Run name' field: model name, type of output (multilabel vs unilabel), which vaccine (for multiclass only)\n",
    "- 'Parameters' field: methods applied for data (data cleaning, data balancing, hyperparameters)--insert feature engineering info here, if relevant?\n",
    "- 'Tags' field: details about the features used for the run (is one of the vaccines in the features?)"
   ]
  },
  {
   "cell_type": "code",
   "execution_count": 1,
   "metadata": {
    "slideshow": {
     "slide_type": "skip"
    }
   },
   "outputs": [
    {
     "name": "stdout",
     "output_type": "stream",
     "text": [
      "Requirement already satisfied: plotly in /Users/julianeberek/neuefische/TheFluShot/.venv/lib/python3.8/site-packages (5.1.0)\n",
      "Requirement already satisfied: tenacity>=6.2.0 in /Users/julianeberek/neuefische/TheFluShot/.venv/lib/python3.8/site-packages (from plotly) (8.0.1)\n",
      "Requirement already satisfied: six in /Users/julianeberek/neuefische/TheFluShot/.venv/lib/python3.8/site-packages (from plotly) (1.16.0)\n",
      "\u001b[33mWARNING: You are using pip version 21.1.3; however, version 21.2.1 is available.\n",
      "You should consider upgrading via the '/Users/julianeberek/neuefische/TheFluShot/.venv/bin/python -m pip install --upgrade pip' command.\u001b[0m\n"
     ]
    }
   ],
   "source": [
    "import sys\n",
    "# adding to the path variables the one folder higher (locally, not changing system variables)\n",
    "sys.path.append(\"..\")\n",
    "import pandas as pd\n",
    "import numpy as np\n",
    "import warnings\n",
    "\n",
    "#mlflow import\n",
    "import mlflow\n",
    "from modeling.config import EXPERIMENT_NAME_multilabel, EXPERIMENT_NAME_h1n1, EXPERIMENT_NAME_seasonal, EXPERIMENT_NAME_multiclass\n",
    "TRACKING_URI = open(\"../.mlflow_uri\").read().strip()\n",
    "\n",
    "RSEED = 42\n",
    "\n",
    "# Modeling Libraries\n",
    "\n",
    "import numpy as np\n",
    "import pandas as pd\n",
    "import matplotlib.pyplot as plt\n",
    "import seaborn as sns\n",
    "\n",
    "!pip install plotly\n",
    "import plotly.express as px\n",
    "\n",
    "\n",
    "from sklearn.dummy import DummyClassifier\n",
    "from sklearn.multioutput import MultiOutputClassifier\n",
    "from sklearn.pipeline import Pipeline\n",
    "from sklearn.compose import ColumnTransformer\n",
    "from sklearn.preprocessing import OneHotEncoder, StandardScaler\n",
    "from sklearn.impute import SimpleImputer\n",
    "from sklearn.model_selection import train_test_split\n",
    "from sklearn.model_selection import GridSearchCV, RandomizedSearchCV\n",
    "from sklearn.model_selection import cross_val_predict, cross_val_score, cross_validate\n",
    "from sklearn.metrics import roc_curve, confusion_matrix, accuracy_score, recall_score, precision_score, f1_score, roc_auc_score\n",
    "\n",
    "from sklearn.linear_model import LogisticRegression\n",
    "from sklearn.neighbors import KNeighborsClassifier\n",
    "from sklearn.tree import DecisionTreeClassifier\n",
    "from sklearn.ensemble import RandomForestClassifier\n",
    "from sklearn.svm import SVC\n",
    "from sklearn import svm\n",
    "\n",
    "\n",
    "warnings.filterwarnings('ignore')\n"
   ]
  },
  {
   "cell_type": "markdown",
   "metadata": {},
   "source": [
    "Import data from a previously prepared dataframe:"
   ]
  },
  {
   "cell_type": "code",
   "execution_count": 27,
   "metadata": {
    "slideshow": {
     "slide_type": "skip"
    }
   },
   "outputs": [],
   "source": [
    "df = pd.read_csv('../data/Flu_Shot_Data_cleaned_2.csv')"
   ]
  },
  {
   "cell_type": "code",
   "execution_count": 28,
   "metadata": {
    "slideshow": {
     "slide_type": "skip"
    }
   },
   "outputs": [
    {
     "data": {
      "text/html": [
       "<div>\n",
       "<style scoped>\n",
       "    .dataframe tbody tr th:only-of-type {\n",
       "        vertical-align: middle;\n",
       "    }\n",
       "\n",
       "    .dataframe tbody tr th {\n",
       "        vertical-align: top;\n",
       "    }\n",
       "\n",
       "    .dataframe thead th {\n",
       "        text-align: right;\n",
       "    }\n",
       "</style>\n",
       "<table border=\"1\" class=\"dataframe\">\n",
       "  <thead>\n",
       "    <tr style=\"text-align: right;\">\n",
       "      <th></th>\n",
       "      <th>Unnamed: 0</th>\n",
       "      <th>h1n1_vaccine</th>\n",
       "      <th>seasonal_vaccine</th>\n",
       "      <th>h1n1_concern</th>\n",
       "      <th>h1n1_knowledge</th>\n",
       "      <th>behavioral_antiviral_meds</th>\n",
       "      <th>behavioral_avoidance</th>\n",
       "      <th>behavioral_face_mask</th>\n",
       "      <th>behavioral_wash_hands</th>\n",
       "      <th>behavioral_large_gatherings</th>\n",
       "      <th>...</th>\n",
       "      <th>income_poverty</th>\n",
       "      <th>marital_status</th>\n",
       "      <th>rent_or_own</th>\n",
       "      <th>employment_status</th>\n",
       "      <th>hhs_geo_region</th>\n",
       "      <th>census_msa</th>\n",
       "      <th>household_adults</th>\n",
       "      <th>household_children</th>\n",
       "      <th>employment_industry</th>\n",
       "      <th>employment_occupation</th>\n",
       "    </tr>\n",
       "  </thead>\n",
       "  <tbody>\n",
       "    <tr>\n",
       "      <th>0</th>\n",
       "      <td>0</td>\n",
       "      <td>0</td>\n",
       "      <td>0</td>\n",
       "      <td>1.0</td>\n",
       "      <td>0.0</td>\n",
       "      <td>0.0</td>\n",
       "      <td>0.0</td>\n",
       "      <td>0.0</td>\n",
       "      <td>0.0</td>\n",
       "      <td>0.0</td>\n",
       "      <td>...</td>\n",
       "      <td>Below Poverty</td>\n",
       "      <td>Not Married</td>\n",
       "      <td>Own</td>\n",
       "      <td>Not in Labor Force</td>\n",
       "      <td>oxchjgsf</td>\n",
       "      <td>Non-MSA</td>\n",
       "      <td>0.0</td>\n",
       "      <td>0.0</td>\n",
       "      <td>NaN</td>\n",
       "      <td>NaN</td>\n",
       "    </tr>\n",
       "    <tr>\n",
       "      <th>1</th>\n",
       "      <td>1</td>\n",
       "      <td>0</td>\n",
       "      <td>1</td>\n",
       "      <td>3.0</td>\n",
       "      <td>2.0</td>\n",
       "      <td>0.0</td>\n",
       "      <td>1.0</td>\n",
       "      <td>0.0</td>\n",
       "      <td>1.0</td>\n",
       "      <td>0.0</td>\n",
       "      <td>...</td>\n",
       "      <td>Below Poverty</td>\n",
       "      <td>Not Married</td>\n",
       "      <td>Rent</td>\n",
       "      <td>Employed</td>\n",
       "      <td>bhuqouqj</td>\n",
       "      <td>MSA, Not Principle  City</td>\n",
       "      <td>0.0</td>\n",
       "      <td>0.0</td>\n",
       "      <td>pxcmvdjn</td>\n",
       "      <td>xgwztkwe</td>\n",
       "    </tr>\n",
       "    <tr>\n",
       "      <th>2</th>\n",
       "      <td>2</td>\n",
       "      <td>0</td>\n",
       "      <td>0</td>\n",
       "      <td>1.0</td>\n",
       "      <td>1.0</td>\n",
       "      <td>0.0</td>\n",
       "      <td>1.0</td>\n",
       "      <td>0.0</td>\n",
       "      <td>0.0</td>\n",
       "      <td>0.0</td>\n",
       "      <td>...</td>\n",
       "      <td>&lt;= $75,000, Above Poverty</td>\n",
       "      <td>Not Married</td>\n",
       "      <td>Own</td>\n",
       "      <td>Employed</td>\n",
       "      <td>qufhixun</td>\n",
       "      <td>MSA, Not Principle  City</td>\n",
       "      <td>2.0</td>\n",
       "      <td>0.0</td>\n",
       "      <td>rucpziij</td>\n",
       "      <td>xtkaffoo</td>\n",
       "    </tr>\n",
       "    <tr>\n",
       "      <th>3</th>\n",
       "      <td>3</td>\n",
       "      <td>0</td>\n",
       "      <td>1</td>\n",
       "      <td>1.0</td>\n",
       "      <td>1.0</td>\n",
       "      <td>0.0</td>\n",
       "      <td>1.0</td>\n",
       "      <td>0.0</td>\n",
       "      <td>1.0</td>\n",
       "      <td>1.0</td>\n",
       "      <td>...</td>\n",
       "      <td>Below Poverty</td>\n",
       "      <td>Not Married</td>\n",
       "      <td>Rent</td>\n",
       "      <td>Not in Labor Force</td>\n",
       "      <td>lrircsnp</td>\n",
       "      <td>MSA, Principle City</td>\n",
       "      <td>0.0</td>\n",
       "      <td>0.0</td>\n",
       "      <td>NaN</td>\n",
       "      <td>NaN</td>\n",
       "    </tr>\n",
       "    <tr>\n",
       "      <th>4</th>\n",
       "      <td>4</td>\n",
       "      <td>0</td>\n",
       "      <td>0</td>\n",
       "      <td>2.0</td>\n",
       "      <td>1.0</td>\n",
       "      <td>0.0</td>\n",
       "      <td>1.0</td>\n",
       "      <td>0.0</td>\n",
       "      <td>1.0</td>\n",
       "      <td>1.0</td>\n",
       "      <td>...</td>\n",
       "      <td>&lt;= $75,000, Above Poverty</td>\n",
       "      <td>Married</td>\n",
       "      <td>Own</td>\n",
       "      <td>Employed</td>\n",
       "      <td>qufhixun</td>\n",
       "      <td>MSA, Not Principle  City</td>\n",
       "      <td>1.0</td>\n",
       "      <td>0.0</td>\n",
       "      <td>wxleyezf</td>\n",
       "      <td>emcorrxb</td>\n",
       "    </tr>\n",
       "  </tbody>\n",
       "</table>\n",
       "<p>5 rows × 38 columns</p>\n",
       "</div>"
      ],
      "text/plain": [
       "   Unnamed: 0  h1n1_vaccine  seasonal_vaccine  h1n1_concern  h1n1_knowledge  \\\n",
       "0           0             0                 0           1.0             0.0   \n",
       "1           1             0                 1           3.0             2.0   \n",
       "2           2             0                 0           1.0             1.0   \n",
       "3           3             0                 1           1.0             1.0   \n",
       "4           4             0                 0           2.0             1.0   \n",
       "\n",
       "   behavioral_antiviral_meds  behavioral_avoidance  behavioral_face_mask  \\\n",
       "0                        0.0                   0.0                   0.0   \n",
       "1                        0.0                   1.0                   0.0   \n",
       "2                        0.0                   1.0                   0.0   \n",
       "3                        0.0                   1.0                   0.0   \n",
       "4                        0.0                   1.0                   0.0   \n",
       "\n",
       "   behavioral_wash_hands  behavioral_large_gatherings  ...  \\\n",
       "0                    0.0                          0.0  ...   \n",
       "1                    1.0                          0.0  ...   \n",
       "2                    0.0                          0.0  ...   \n",
       "3                    1.0                          1.0  ...   \n",
       "4                    1.0                          1.0  ...   \n",
       "\n",
       "              income_poverty  marital_status  rent_or_own   employment_status  \\\n",
       "0              Below Poverty     Not Married          Own  Not in Labor Force   \n",
       "1              Below Poverty     Not Married         Rent            Employed   \n",
       "2  <= $75,000, Above Poverty     Not Married          Own            Employed   \n",
       "3              Below Poverty     Not Married         Rent  Not in Labor Force   \n",
       "4  <= $75,000, Above Poverty         Married          Own            Employed   \n",
       "\n",
       "   hhs_geo_region                census_msa  household_adults  \\\n",
       "0        oxchjgsf                   Non-MSA               0.0   \n",
       "1        bhuqouqj  MSA, Not Principle  City               0.0   \n",
       "2        qufhixun  MSA, Not Principle  City               2.0   \n",
       "3        lrircsnp       MSA, Principle City               0.0   \n",
       "4        qufhixun  MSA, Not Principle  City               1.0   \n",
       "\n",
       "   household_children  employment_industry  employment_occupation  \n",
       "0                 0.0                  NaN                    NaN  \n",
       "1                 0.0             pxcmvdjn               xgwztkwe  \n",
       "2                 0.0             rucpziij               xtkaffoo  \n",
       "3                 0.0                  NaN                    NaN  \n",
       "4                 0.0             wxleyezf               emcorrxb  \n",
       "\n",
       "[5 rows x 38 columns]"
      ]
     },
     "execution_count": 28,
     "metadata": {},
     "output_type": "execute_result"
    }
   ],
   "source": [
    "df.head()"
   ]
  },
  {
   "cell_type": "markdown",
   "metadata": {},
   "source": [
    "Dropping the strange 'Unnamed: 0' column:"
   ]
  },
  {
   "cell_type": "code",
   "execution_count": 29,
   "metadata": {},
   "outputs": [],
   "source": [
    "df.drop('Unnamed: 0', axis=1, inplace=True)"
   ]
  },
  {
   "cell_type": "code",
   "execution_count": 30,
   "metadata": {},
   "outputs": [
    {
     "data": {
      "text/plain": [
       "(26707, 37)"
      ]
     },
     "execution_count": 30,
     "metadata": {},
     "output_type": "execute_result"
    }
   ],
   "source": [
    "df.shape"
   ]
  },
  {
   "cell_type": "markdown",
   "metadata": {},
   "source": [
    "# Set up for modelling (stays the same for all experiemnts)"
   ]
  },
  {
   "cell_type": "markdown",
   "metadata": {},
   "source": [
    "Set up of pipeline preprocessor:"
   ]
  },
  {
   "cell_type": "code",
   "execution_count": 31,
   "metadata": {},
   "outputs": [],
   "source": [
    "# Pipeline for categorical features\n",
    "# This stays the same for everything\n",
    "cat_pipeline = Pipeline([\n",
    "    ('1hot', OneHotEncoder(handle_unknown='error', drop='first'))\n",
    "])"
   ]
  },
  {
   "cell_type": "code",
   "execution_count": 32,
   "metadata": {},
   "outputs": [],
   "source": [
    "cat_features = list(df.columns)"
   ]
  },
  {
   "cell_type": "markdown",
   "metadata": {},
   "source": [
    "Instantiating the Random Forest Model "
   ]
  },
  {
   "cell_type": "code",
   "execution_count": 33,
   "metadata": {},
   "outputs": [],
   "source": [
    "# for Random Forest\n",
    "rand_forst= RandomForestClassifier()"
   ]
  },
  {
   "cell_type": "markdown",
   "metadata": {},
   "source": [
    "# TheFluShot_multilabel: Multilabel prediction (both vaccinations)"
   ]
  },
  {
   "cell_type": "markdown",
   "metadata": {},
   "source": [
    "Removal of target variables from cat_features list (this needs to be adjusted for each dataset):"
   ]
  },
  {
   "cell_type": "code",
   "execution_count": 34,
   "metadata": {},
   "outputs": [],
   "source": [
    "cat_features_no_vacc = cat_features.copy()"
   ]
  },
  {
   "cell_type": "code",
   "execution_count": 35,
   "metadata": {},
   "outputs": [],
   "source": [
    "cat_features_no_vacc.remove('h1n1_vaccine')"
   ]
  },
  {
   "cell_type": "code",
   "execution_count": 36,
   "metadata": {},
   "outputs": [],
   "source": [
    "cat_features_no_vacc.remove('seasonal_vaccine')"
   ]
  },
  {
   "cell_type": "code",
   "execution_count": 37,
   "metadata": {},
   "outputs": [
    {
     "data": {
      "text/plain": [
       "['h1n1_concern',\n",
       " 'h1n1_knowledge',\n",
       " 'behavioral_antiviral_meds',\n",
       " 'behavioral_avoidance',\n",
       " 'behavioral_face_mask',\n",
       " 'behavioral_wash_hands',\n",
       " 'behavioral_large_gatherings',\n",
       " 'behavioral_outside_home',\n",
       " 'behavioral_touch_face',\n",
       " 'doctor_recc_h1n1',\n",
       " 'doctor_recc_seasonal',\n",
       " 'chronic_med_condition',\n",
       " 'child_under_6_months',\n",
       " 'health_worker',\n",
       " 'health_insurance',\n",
       " 'opinion_h1n1_vacc_effective',\n",
       " 'opinion_h1n1_risk',\n",
       " 'opinion_h1n1_sick_from_vacc',\n",
       " 'opinion_seas_vacc_effective',\n",
       " 'opinion_seas_risk',\n",
       " 'opinion_seas_sick_from_vacc',\n",
       " 'age_group',\n",
       " 'education',\n",
       " 'race',\n",
       " 'sex',\n",
       " 'income_poverty',\n",
       " 'marital_status',\n",
       " 'rent_or_own',\n",
       " 'employment_status',\n",
       " 'hhs_geo_region',\n",
       " 'census_msa',\n",
       " 'household_adults',\n",
       " 'household_children',\n",
       " 'employment_industry',\n",
       " 'employment_occupation']"
      ]
     },
     "execution_count": 37,
     "metadata": {},
     "output_type": "execute_result"
    }
   ],
   "source": [
    "cat_features_no_vacc"
   ]
  },
  {
   "cell_type": "markdown",
   "metadata": {},
   "source": [
    "Rename the features and target to 'X' and 'y', to make the test-train split easier:"
   ]
  },
  {
   "cell_type": "code",
   "execution_count": 38,
   "metadata": {},
   "outputs": [],
   "source": [
    "y_both_vacc = df[['h1n1_vaccine', 'seasonal_vaccine']].copy()"
   ]
  },
  {
   "cell_type": "code",
   "execution_count": 39,
   "metadata": {},
   "outputs": [
    {
     "data": {
      "text/plain": [
       "array([[0, 0],\n",
       "       [0, 1],\n",
       "       [0, 0],\n",
       "       ...,\n",
       "       [0, 1],\n",
       "       [0, 0],\n",
       "       [0, 0]])"
      ]
     },
     "execution_count": 39,
     "metadata": {},
     "output_type": "execute_result"
    }
   ],
   "source": [
    "y_both_vacc = y_both_vacc.to_numpy()\n",
    "y_both_vacc"
   ]
  },
  {
   "cell_type": "code",
   "execution_count": 40,
   "metadata": {},
   "outputs": [],
   "source": [
    "#NB: dropping the 'h1n1_vaccine' and 'seasonal_vaccine' columns\n",
    "X_no_vacc = df.drop(columns=['h1n1_vaccine', 'seasonal_vaccine'])"
   ]
  },
  {
   "cell_type": "markdown",
   "metadata": {},
   "source": [
    "Performing test-train split (the same data can be used for each model in multilabelling):"
   ]
  },
  {
   "cell_type": "code",
   "execution_count": 41,
   "metadata": {},
   "outputs": [],
   "source": [
    "X_no_vacc_train, X_no_vacc_test, y_both_vacc_train, y_both_vacc_test = train_test_split(X_no_vacc, y_both_vacc, stratify = y_both_vacc, test_size=0.2, random_state=RSEED)"
   ]
  },
  {
   "cell_type": "code",
   "execution_count": 42,
   "metadata": {},
   "outputs": [
    {
     "name": "stdout",
     "output_type": "stream",
     "text": [
      "X_no_vacc_train shape: (21365, 35)\n",
      "X_no_vacc_test shape: (5342, 35)\n",
      "y_both_vacc_train: (21365, 2)\n",
      "y_both_vacc_test: (5342, 2)\n"
     ]
    }
   ],
   "source": [
    "print('X_no_vacc_train shape:', X_no_vacc_train.shape)\n",
    "print('X_no_vacc_test shape:', X_no_vacc_test.shape)\n",
    "print('y_both_vacc_train:', y_both_vacc_train.shape)\n",
    "print('y_both_vacc_test:', y_both_vacc_test.shape)"
   ]
  },
  {
   "cell_type": "markdown",
   "metadata": {},
   "source": [
    "Setting up the preprocessor (the same one can be used for each modelling in multilabelling):"
   ]
  },
  {
   "cell_type": "code",
   "execution_count": 43,
   "metadata": {},
   "outputs": [],
   "source": [
    "preprocessor = ColumnTransformer([\n",
    "    ('cat', cat_pipeline, cat_features_no_vacc)\n",
    "])"
   ]
  },
  {
   "cell_type": "markdown",
   "metadata": {},
   "source": [
    "Setting up the multilabel estimators for Random Forest"
   ]
  },
  {
   "cell_type": "code",
   "execution_count": 44,
   "metadata": {},
   "outputs": [],
   "source": [
    "# for Random Forest\n",
    "multilabel_est_rand_forst= MultiOutputClassifier(\n",
    "    estimator=rand_forst\n",
    ")"
   ]
  },
  {
   "cell_type": "markdown",
   "metadata": {},
   "source": [
    "Setting up the pipeline for Random Forest"
   ]
  },
  {
   "cell_type": "code",
   "execution_count": 45,
   "metadata": {},
   "outputs": [],
   "source": [
    "# for Random Forest\n",
    "\n",
    "rand_forst_multilabel_pipeline = Pipeline([\n",
    "    (\"preprocessor\", preprocessor),\n",
    "    (\"estimators\", multilabel_est_rand_forst),\n",
    "])"
   ]
  },
  {
   "cell_type": "markdown",
   "metadata": {},
   "source": [
    "### Hyperparameter Tuning for the Random Forest model"
   ]
  },
  {
   "cell_type": "code",
   "execution_count": 21,
   "metadata": {},
   "outputs": [
    {
     "data": {
      "text/plain": [
       "dict_keys(['estimator__bootstrap', 'estimator__ccp_alpha', 'estimator__class_weight', 'estimator__criterion', 'estimator__max_depth', 'estimator__max_features', 'estimator__max_leaf_nodes', 'estimator__max_samples', 'estimator__min_impurity_decrease', 'estimator__min_impurity_split', 'estimator__min_samples_leaf', 'estimator__min_samples_split', 'estimator__min_weight_fraction_leaf', 'estimator__n_estimators', 'estimator__n_jobs', 'estimator__oob_score', 'estimator__random_state', 'estimator__verbose', 'estimator__warm_start', 'estimator', 'n_jobs'])"
      ]
     },
     "execution_count": 21,
     "metadata": {},
     "output_type": "execute_result"
    }
   ],
   "source": [
    "multilabel_est_rand_forst.get_params().keys()"
   ]
  },
  {
   "cell_type": "code",
   "execution_count": 22,
   "metadata": {},
   "outputs": [],
   "source": [
    "# Hyperparameter grid from a previous notebook \n",
    "# will need to be adjusted in further runs \n",
    "# the pipeline step is accessed with 'estimators__estimator__'\n",
    "\n",
    "param_grid_multilabel = {\n",
    "    'estimators__estimator__n_estimators': np.linspace(10, 100, 200).astype(int),\n",
    "    'estimators__estimator__max_depth': [None] + list(np.linspace(3, 20).astype(int)),\n",
    "    'estimators__estimator__max_features': ['auto', 'sqrt', None] + list(np.arange(0.5, 1, 0.1)),\n",
    "    'estimators__estimator__max_leaf_nodes': [None] + list(np.linspace(10, 50, 500).astype(int)),\n",
    "    #'estimators__estimator__min_samples_split': [2, 5, 10],\n",
    "    'estimators__estimator__bootstrap': [True, False]\n",
    "}"
   ]
  },
  {
   "cell_type": "code",
   "execution_count": 24,
   "metadata": {},
   "outputs": [],
   "source": [
    "# the random search model is created \n",
    "# we define roc_auc as our evaluation metric for the parameter search \n",
    "# set verbose to a higher number next time \n",
    "\n",
    "grid_rand_forst_multilabel = RandomizedSearchCV(rand_forst_multilabel_pipeline, param_distributions=param_grid_multilabel, cv=5, scoring='roc_auc', \n",
    "                           verbose=5, n_jobs=-1, n_iter=100)"
   ]
  },
  {
   "cell_type": "markdown",
   "metadata": {},
   "source": [
    "Training the Random Forest grid search model "
   ]
  },
  {
   "cell_type": "code",
   "execution_count": null,
   "metadata": {},
   "outputs": [],
   "source": [
    "# for Random Forest\n",
    "rand_forst_multilabel = grid_rand_forst_multilabel.fit(X_no_vacc_train,  y_both_vacc_train)"
   ]
  },
  {
   "cell_type": "code",
   "execution_count": 26,
   "metadata": {},
   "outputs": [
    {
     "name": "stdout",
     "output_type": "stream",
     "text": [
      "Best score:\n",
      "0.84\n",
      "Best parameters:\n",
      "{'estimators__estimator__n_estimators': 94, 'estimators__estimator__max_leaf_nodes': 45, 'estimators__estimator__max_features': 0.5, 'estimators__estimator__max_depth': 11, 'estimators__estimator__bootstrap': True}\n"
     ]
    }
   ],
   "source": [
    "# Show best parameters\n",
    "print('Best score:\\n{:.2f}'.format(rand_forst_multilabel.best_score_))\n",
    "print(\"Best parameters:\\n{}\".format(rand_forst_multilabel.best_params_))"
   ]
  },
  {
   "cell_type": "code",
   "execution_count": 30,
   "metadata": {},
   "outputs": [],
   "source": [
    "# Save best model\n",
    "\n",
    "best_model_rand_forst_multi = rand_forst_multilabel.best_estimator_['estimators']"
   ]
  },
  {
   "cell_type": "code",
   "execution_count": 31,
   "metadata": {},
   "outputs": [
    {
     "data": {
      "text/plain": [
       "MultiOutputClassifier(estimator=RandomForestClassifier(max_depth=11,\n",
       "                                                       max_features=0.5,\n",
       "                                                       max_leaf_nodes=45,\n",
       "                                                       n_estimators=94))"
      ]
     },
     "execution_count": 31,
     "metadata": {},
     "output_type": "execute_result"
    }
   ],
   "source": [
    "best_model_rand_forst_multi"
   ]
  },
  {
   "cell_type": "code",
   "execution_count": 33,
   "metadata": {},
   "outputs": [],
   "source": [
    "# Creating an adapted pipeline \n",
    "\n",
    "rand_forst_multilabel_pipeline_tuned = Pipeline([\n",
    "    (\"preprocessor\", preprocessor),\n",
    "    (\"estimators\", best_model_rand_forst_multi),\n",
    "])"
   ]
  },
  {
   "cell_type": "code",
   "execution_count": 34,
   "metadata": {},
   "outputs": [],
   "source": [
    "# fitting the data to the new tuned model \n",
    "\n",
    "best_model_rand_forst_multi = rand_forst_multilabel_pipeline_tuned.fit(X_no_vacc_train,  y_both_vacc_train)"
   ]
  },
  {
   "cell_type": "code",
   "execution_count": null,
   "metadata": {},
   "outputs": [],
   "source": [
    "# Figure out later what this does and if we want to use it\n",
    "\n",
    "\n",
    "#y_train_predicted = cross_val_predict(full_pipeline, X_train, y_train, cv=5)"
   ]
  },
  {
   "cell_type": "markdown",
   "metadata": {},
   "source": [
    "Making predictions based on train and test data:"
   ]
  },
  {
   "cell_type": "code",
   "execution_count": 35,
   "metadata": {},
   "outputs": [],
   "source": [
    "# for Random Forest\n",
    "rand_forst_multilabel_trainpreds_best = best_model_rand_forst_multi.predict(X_no_vacc_train)\n",
    "rand_forst_multilabel_testpreds_best = best_model_rand_forst_multi.predict(X_no_vacc_test)\n",
    "\n",
    "# for SVM\n",
    "#svm_multilabel_trainpreds = svm_multilabel.predict(X_no_vacc_train)\n",
    "#svm_multilabel_testpreds = svm_multilabel.predict(X_no_vacc_test)"
   ]
  },
  {
   "cell_type": "markdown",
   "metadata": {},
   "source": [
    "### Model evaluation"
   ]
  },
  {
   "cell_type": "markdown",
   "metadata": {},
   "source": [
    "#### Train data"
   ]
  },
  {
   "cell_type": "code",
   "execution_count": 36,
   "metadata": {},
   "outputs": [],
   "source": [
    "# Random Forest--Train data evaluation Metrics for H1N1 Vaccines\n",
    "# THESE RESULTS ARE SLIGHTLY OFF FROM PREVIOUS NOTEBOOK (BY 0.01)--CHECK WHAT'S AT PLAY. VARIATION COMING FROM TEST-TRAIN SPLIT? EXPORT TEST-TRAIN DATA AS CSV AND TRY AGAIN\n",
    "#IS IT BECAUSE IT'S RANDOM FOREST? DIFFERENT STARTING STUMP EACH TIME?\n",
    "h1n1_rand_forst_multilabel_train_acc_best = accuracy_score(y_both_vacc_train[:, 0], rand_forst_multilabel_trainpreds_best[:, 0])\n",
    "h1n1_rand_forst_multilabel_train_recall_best = recall_score(y_both_vacc_train[:, 0], rand_forst_multilabel_trainpreds_best[:, 0])\n",
    "h1n1_rand_forst_multilabel_train_precision_best = precision_score(y_both_vacc_train[:, 0], rand_forst_multilabel_trainpreds_best[:, 0])\n",
    "h1n1_rand_forst_multilabel_train_f1_best = f1_score(y_both_vacc_train[:, 0], rand_forst_multilabel_trainpreds_best[:, 0])\n",
    "h1n1_rand_forst_multilabel_train_roc_best = roc_auc_score(y_both_vacc_train[:, 0], rand_forst_multilabel_trainpreds_best[:, 0])\n",
    "\n",
    "#print(\"Accuracy: {:.2f}\".format(accuracy_score(y_both_vacc_train[:, 0], rand_forst_multilabel_trainpreds[:, 0])))\n",
    "#print(\"Recall: {:.2f}\".format(recall_score(y_both_vacc_train[:, 0], rand_forst_multilabel_trainpreds[:, 0])))\n",
    "#print(\"Precision: {:.2f}\".format(precision_score(y_both_vacc_train[:, 0], rand_forst_multilabel_trainpreds[:, 0])))\n",
    "#print(\"F1: {:.2f}\".format(f1_score(y_both_vacc_train[:, 0], rand_forst_multilabel_trainpreds[:, 0])))\n",
    "#print(\"ROC: {:.2f}\".format(roc_auc_score(y_both_vacc_train[:, 0], rand_forst_multilabel_trainpreds[:, 0])))"
   ]
  },
  {
   "cell_type": "code",
   "execution_count": 37,
   "metadata": {},
   "outputs": [],
   "source": [
    "# Random Forest--Train data Evaluation Metrics for seasonal Vaccines\n",
    "# THESE RESULTS ARE SLIGHTLY OFF FROM PREVIOUS NOTEBOOK (BY 0.01)--CHECK WHAT'S AT PLAY. VARIATION COMING FROM TEST-TRAIN SPLIT? EXPORT TEST-TRAIN DATA AS CSV AND TRY AGAIN\n",
    "#IS IT BECAUSE IT'S RANDOM FOREST? DIFFERENT STARTING STUMP EACH TIME?\n",
    "seasonal_rand_forst_multilabel_train_acc_best = accuracy_score(y_both_vacc_train[:, 1], rand_forst_multilabel_trainpreds_best[:, 1])\n",
    "seasonal_rand_forst_multilabel_train_recall_best = recall_score(y_both_vacc_train[:, 1], rand_forst_multilabel_trainpreds_best[:, 1])\n",
    "seasonal_rand_forst_multilabel_train_precision_best = precision_score(y_both_vacc_train[:, 1], rand_forst_multilabel_trainpreds_best[:, 1])\n",
    "seasonal_rand_forst_multilabel_train_f1_best = f1_score(y_both_vacc_train[:, 1], rand_forst_multilabel_trainpreds_best[:, 1])\n",
    "seasonal_rand_forst_multilabel_train_roc_best = roc_auc_score(y_both_vacc_train[:, 1], rand_forst_multilabel_trainpreds_best[:, 1])\n",
    "\n",
    "#print(\"Accuracy: {:.2f}\".format(accuracy_score(y_both_vacc_train[:, 1], rand_forst_multilabel_trainpreds[:, 1])))\n",
    "#print(\"Recall: {:.2f}\".format(recall_score(y_both_vacc_train[:, 1], rand_forst_multilabel_trainpreds[:, 1])))\n",
    "#print(\"Precision: {:.2f}\".format(precision_score(y_both_vacc_train[:, 1], rand_forst_multilabel_trainpreds[:, 1])))\n",
    "#print(\"F1: {:.2f}\".format(f1_score(y_both_vacc_train[:, 1], rand_forst_multilabel_trainpreds[:, 1])))\n",
    "#print(\"ROC: {:.2f}\".format(roc_auc_score(y_both_vacc_train[:, 1], rand_forst_multilabel_trainpreds[:, 1])))"
   ]
  },
  {
   "cell_type": "code",
   "execution_count": null,
   "metadata": {},
   "outputs": [],
   "source": [
    "# SVM--Train data evaluation Metrics for H1N1 Vaccines\n",
    "#h1n1_svm_multilabel_train_acc = accuracy_score(y_both_vacc_train[:, 0], svm_multilabel_trainpreds[:, 0])\n",
    "#h1n1_svm_multilabel_train_recall = recall_score(y_both_vacc_train[:, 0], svm_multilabel_trainpreds[:, 0])\n",
    "#h1n1_svm_multilabel_train_precision = precision_score(y_both_vacc_train[:, 0], svm_multilabel_trainpreds[:, 0])\n",
    "#h1n1_svm_multilabel_train_f1 = f1_score(y_both_vacc_train[:, 0], svm_multilabel_trainpreds[:, 0])\n",
    "#h1n1_svm_multilabel_train_roc = roc_auc_score(y_both_vacc_train[:, 0], svm_multilabel_trainpreds[:, 0])\n",
    "\n",
    "#print(\"Accuracy: {:.2f}\".format(accuracy_score(y_both_vacc_train[:, 0], svm_multilabel_trainpreds[:, 0])))\n",
    "#print(\"Recall: {:.2f}\".format(recall_score(y_both_vacc_train[:, 0], svm_multilabel_trainpreds[:, 0])))\n",
    "#print(\"Precision: {:.2f}\".format(precision_score(y_both_vacc_train[:, 0], svm_multilabel_trainpreds[:, 0])))\n",
    "#print(\"F1: {:.2f}\".format(f1_score(y_both_vacc_train[:, 0], svm_multilabel_trainpreds[:, 0])))\n",
    "#print(\"ROC: {:.2f}\".format(roc_auc_score(y_both_vacc_train[:, 0], svm_multilabel_trainpreds[:, 0])))"
   ]
  },
  {
   "cell_type": "code",
   "execution_count": null,
   "metadata": {},
   "outputs": [],
   "source": [
    "# SVM--Train data Evaluation Metrics for seasonal Vaccines\n",
    "#seasonal_svm_multilabel_train_acc = accuracy_score(y_both_vacc_train[:, 1], svm_multilabel_trainpreds[:, 1])\n",
    "#seasonal_svm_multilabel_train_recall = recall_score(y_both_vacc_train[:, 1], svm_multilabel_trainpreds[:, 1])\n",
    "#seasonal_svm_multilabel_train_precision = precision_score(y_both_vacc_train[:, 1], svm_multilabel_trainpreds[:, 1])\n",
    "#seasonal_svm_multilabel_train_f1 = f1_score(y_both_vacc_train[:, 1], svm_multilabel_trainpreds[:, 1])\n",
    "#seasonal_svm_multilabel_train_roc = roc_auc_score(y_both_vacc_train[:, 1], svm_multilabel_trainpreds[:, 1])\n",
    "\n",
    "#print(\"Accuracy: {:.2f}\".format(accuracy_score(y_both_vacc_train[:, 1], svm_multilabel_trainpreds[:, 1])))\n",
    "#print(\"Recall: {:.2f}\".format(recall_score(y_both_vacc_train[:, 1], svm_multilabel_trainpreds[:, 1])))\n",
    "#print(\"Precision: {:.2f}\".format(precision_score(y_both_vacc_train[:, 1], svm_multilabel_trainpreds[:, 1])))\n",
    "#print(\"F1: {:.2f}\".format(f1_score(y_both_vacc_train[:, 1], svm_multilabel_trainpreds[:, 1])))\n",
    "#print(\"ROC: {:.2f}\".format(roc_auc_score(y_both_vacc_train[:, 1], svm_multilabel_trainpreds[:, 1])))"
   ]
  },
  {
   "cell_type": "markdown",
   "metadata": {},
   "source": [
    "#### Test data"
   ]
  },
  {
   "cell_type": "code",
   "execution_count": 38,
   "metadata": {},
   "outputs": [],
   "source": [
    "# Random Forest--Test data evaluation Metrics for H1N1 Vaccines\n",
    "# THESE RESULTS ARE SLIGHTLY OFF FROM PREVIOUS NOTEBOOK (BY 0.01)--CHECK WHAT'S AT PLAY. VARIATION COMING FROM TEST-TRAIN SPLIT? EXPORT TEST-TRAIN DATA AS CSV AND TRY AGAIN\n",
    "#IS IT BECAUSE IT'S RANDOM FOREST? DIFFERENT STARTING STUMP EACH TIME?\n",
    "h1n1_rand_forst_multilabel_test_acc_best = accuracy_score(y_both_vacc_test[:, 0], rand_forst_multilabel_testpreds_best[:, 0])\n",
    "h1n1_rand_forst_multilabel_test_recall_best = recall_score(y_both_vacc_test[:, 0], rand_forst_multilabel_testpreds_best[:, 0])\n",
    "h1n1_rand_forst_multilabel_test_precision_best = precision_score(y_both_vacc_test[:, 0], rand_forst_multilabel_testpreds_best[:, 0])\n",
    "h1n1_rand_forst_multilabel_test_f1_best = f1_score(y_both_vacc_test[:, 0], rand_forst_multilabel_testpreds_best[:, 0])\n",
    "h1n1_rand_forst_multilabel_test_roc_best = roc_auc_score(y_both_vacc_test[:, 0], rand_forst_multilabel_testpreds_best[:, 0])\n",
    "\n",
    "#print(\"Accuracy: {:.2f}\".format(accuracy_score(y_both_vacc_test[:, 0], rand_forst_multilabel_testpreds[:, 0])))\n",
    "#print(\"Recall: {:.2f}\".format(recall_score(y_both_vacc_test[:, 0], rand_forst_multilabel_testpreds[:, 0])))\n",
    "#print(\"Precision: {:.2f}\".format(precision_score(y_both_vacc_test[:, 0], rand_forst_multilabel_testpreds[:, 0])))\n",
    "#print(\"F1: {:.2f}\".format(f1_score(y_both_vacc_test[:, 0], rand_forst_multilabel_testpreds[:, 0])))\n",
    "#print(\"ROC: {:.2f}\".format(roc_auc_score(y_both_vacc_test[:, 0], rand_forst_multilabel_testpreds[:, 0])))"
   ]
  },
  {
   "cell_type": "code",
   "execution_count": 39,
   "metadata": {},
   "outputs": [],
   "source": [
    "# Random Forest--Test data Evaluation Metrics for seasonal Vaccines\n",
    "# THESE RESULTS ARE SLIGHTLY OFF FROM PREVIOUS NOTEBOOK (BY 0.01)--CHECK WHAT'S AT PLAY. VARIATION COMING FROM TEST-TRAIN SPLIT? EXPORT TEST-TRAIN DATA AS CSV AND TRY AGAIN\n",
    "#IS IT BECAUSE IT'S RANDOM FOREST? DIFFERENT STARTING STUMP EACH TIME?\n",
    "seasonal_rand_forst_multilabel_test_acc_best = accuracy_score(y_both_vacc_test[:, 1], rand_forst_multilabel_testpreds_best[:, 1])\n",
    "seasonal_rand_forst_multilabel_test_recall_best = recall_score(y_both_vacc_test[:, 1], rand_forst_multilabel_testpreds_best[:, 1])\n",
    "seasonal_rand_forst_multilabel_test_precision_best = precision_score(y_both_vacc_test[:, 1], rand_forst_multilabel_testpreds_best[:, 1])\n",
    "seasonal_rand_forst_multilabel_test_f1_best = f1_score(y_both_vacc_test[:, 1], rand_forst_multilabel_testpreds_best[:, 1])\n",
    "seasonal_rand_forst_multilabel_test_roc_best = roc_auc_score(y_both_vacc_test[:, 1], rand_forst_multilabel_testpreds_best[:, 1])\n",
    "\n",
    "#print(\"Accuracy: {:.2f}\".format(accuracy_score(y_both_vacc_test[:, 1], rand_forst_multilabel_testpreds[:, 1])))\n",
    "#print(\"Recall: {:.2f}\".format(recall_score(y_both_vacc_test[:, 1], rand_forst_multilabel_testpreds[:, 1])))\n",
    "#print(\"Precision: {:.2f}\".format(precision_score(y_both_vacc_test[:, 1], rand_forst_multilabel_testpreds[:, 1])))\n",
    "#print(\"F1: {:.2f}\".format(f1_score(y_both_vacc_test[:, 1], rand_forst_multilabel_testpreds[:, 1])))\n",
    "#print(\"ROC: {:.2f}\".format(roc_auc_score(y_both_vacc_test[:, 1], rand_forst_multilabel_testpreds[:, 1])))"
   ]
  },
  {
   "cell_type": "code",
   "execution_count": null,
   "metadata": {},
   "outputs": [],
   "source": [
    "# SVM--Test data evaluation Metrics for H1N1 Vaccines\n",
    "#h1n1_svm_multilabel_test_acc = accuracy_score(y_both_vacc_test[:, 0], svm_multilabel_testpreds[:, 0])\n",
    "#h1n1_svm_multilabel_test_recall = recall_score(y_both_vacc_test[:, 0], svm_multilabel_testpreds[:, 0])\n",
    "#h1n1_svm_multilabel_test_precision = precision_score(y_both_vacc_test[:, 0], svm_multilabel_testpreds[:, 0])\n",
    "#h1n1_svm_multilabel_test_f1 = f1_score(y_both_vacc_test[:, 0], svm_multilabel_testpreds[:, 0])\n",
    "#h1n1_svm_multilabel_test_roc = roc_auc_score(y_both_vacc_test[:, 0], svm_multilabel_testpreds[:, 0])\n",
    "\n",
    "#print(\"Accuracy: {:.2f}\".format(accuracy_score(y_both_vacc_test[:, 0], svm_multilabel_testpreds[:, 0])))\n",
    "#print(\"Recall: {:.2f}\".format(recall_score(y_both_vacc_test[:, 0], svm_multilabel_testpreds[:, 0])))\n",
    "#print(\"Precision: {:.2f}\".format(precision_score(y_both_vacc_test[:, 0], svm_multilabel_testpreds[:, 0])))\n",
    "#print(\"F1: {:.2f}\".format(f1_score(y_both_vacc_test[:, 0], svm_multilabel_testpreds[:, 0])))\n",
    "#print(\"ROC: {:.2f}\".format(roc_auc_score(y_both_vacc_test[:, 0], svm_multilabel_testpreds[:, 0])))"
   ]
  },
  {
   "cell_type": "code",
   "execution_count": null,
   "metadata": {},
   "outputs": [],
   "source": [
    "# SVM--Test data Evaluation Metrics for seasonal Vaccines\n",
    "#seasonal_svm_multilabel_test_acc = accuracy_score(y_both_vacc_test[:, 1], svm_multilabel_testpreds[:, 1])\n",
    "#seasonal_svm_multilabel_test_recall = recall_score(y_both_vacc_test[:, 1], svm_multilabel_testpreds[:, 1])\n",
    "#seasonal_svm_multilabel_test_precision = precision_score(y_both_vacc_test[:, 1], svm_multilabel_testpreds[:, 1])\n",
    "#seasonal_svm_multilabel_test_f1 = f1_score(y_both_vacc_test[:, 1], svm_multilabel_testpreds[:, 1])\n",
    "#seasonal_svm_multilabel_test_roc = roc_auc_score(y_both_vacc_test[:, 1], svm_multilabel_testpreds[:, 1])\n",
    "\n",
    "#print(\"Accuracy: {:.2f}\".format(accuracy_score(y_both_vacc_test[:, 1], logreg_multilabel_testpreds[:, 1])))\n",
    "#print(\"Recall: {:.2f}\".format(recall_score(y_both_vacc_test[:, 1], logreg_multilabel_testpreds[:, 1])))\n",
    "#print(\"Precision: {:.2f}\".format(precision_score(y_both_vacc_test[:, 1], logreg_multilabel_testpreds[:, 1])))\n",
    "#print(\"F1: {:.2f}\".format(f1_score(y_both_vacc_test[:, 1], logreg_multilabel_testpreds[:, 1])))\n",
    "#print(\"ROC: {:.2f}\".format(roc_auc_score(y_both_vacc_test[:, 1], logreg_multilabel_testpreds[:, 1])))"
   ]
  },
  {
   "cell_type": "markdown",
   "metadata": {},
   "source": [
    "## Tracking the model with MLFlow"
   ]
  },
  {
   "cell_type": "markdown",
   "metadata": {},
   "source": [
    "### H1N1 vaccine output"
   ]
  },
  {
   "cell_type": "markdown",
   "metadata": {},
   "source": [
    "#### Random forest"
   ]
  },
  {
   "cell_type": "code",
   "execution_count": 40,
   "metadata": {
    "slideshow": {
     "slide_type": "slide"
    }
   },
   "outputs": [],
   "source": [
    "# setting the MLFlow connection and experiment\n",
    "mlflow.set_tracking_uri(TRACKING_URI)\n",
    "mlflow.set_experiment(EXPERIMENT_NAME_multilabel)\n",
    "name = 'rand_forst_multilabel_h1n1' #specify the run name here; name it with model used\n",
    "mlflow.start_run(run_name = name) \n",
    "run = mlflow.active_run()"
   ]
  },
  {
   "cell_type": "code",
   "execution_count": 41,
   "metadata": {
    "slideshow": {
     "slide_type": "subslide"
    }
   },
   "outputs": [
    {
     "name": "stdout",
     "output_type": "stream",
     "text": [
      "Active run_id: bcad068b0db144189d86a1a4b784a98b\n"
     ]
    }
   ],
   "source": [
    "print(\"Active run_id: {}\".format(run.info.run_id))"
   ]
  },
  {
   "cell_type": "code",
   "execution_count": 43,
   "metadata": {
    "slideshow": {
     "slide_type": "slide"
    }
   },
   "outputs": [],
   "source": [
    "#parameters are to keep track of everything for re-running the experiment (e.g. what features are being engineered, hyperparameters of model, etc)\n",
    "#to be adjusted as needed\n",
    "params = {\n",
    "    \"Data cleaning\": \"Full dataset\",\n",
    "    \"Data balancing\": \"None\",\n",
    "    \"Hyperparameters\": {'max_depth': 11, \n",
    "                        'max_features':0.5,\n",
    "                        'max_leaf_nodes':45,\n",
    "                         'n_estimators':94}\n",
    "  }"
   ]
  },
  {
   "cell_type": "code",
   "execution_count": 44,
   "metadata": {
    "slideshow": {
     "slide_type": "slide"
    }
   },
   "outputs": [],
   "source": [
    "# updated \n",
    "mlflow.log_params(params)\n",
    "#tags = data used\n",
    "mlflow.set_tag(\"Vaccines in features\", \"None\") #set tags for more details of what we've done\n",
    "mlflow.log_metric(\"train -\" + \"ROC\", h1n1_rand_forst_multilabel_train_roc_best)\n",
    "mlflow.log_metric(\"test -\" + \"ROC\", h1n1_rand_forst_multilabel_test_roc_best)\n",
    "mlflow.log_metric(\"train -\" + \"accuracy\", h1n1_rand_forst_multilabel_train_acc_best)\n",
    "mlflow.log_metric(\"test -\" + \"accuracy\", h1n1_rand_forst_multilabel_test_acc_best)\n",
    "mlflow.log_metric(\"train -\" + \"recall\", h1n1_rand_forst_multilabel_train_recall_best)\n",
    "mlflow.log_metric(\"test -\" + \"recall\", h1n1_rand_forst_multilabel_test_recall_best)\n",
    "mlflow.log_metric(\"train -\" + \"precision\", h1n1_rand_forst_multilabel_train_precision_best)\n",
    "mlflow.log_metric(\"test -\" + \"precision\", h1n1_rand_forst_multilabel_test_precision_best)\n",
    "mlflow.log_metric(\"train -\" + \"f1\", h1n1_rand_forst_multilabel_train_f1_best)\n",
    "mlflow.log_metric(\"test -\" + \"f1\", h1n1_rand_forst_multilabel_test_f1_best)\n",
    "#mlflow.log_artifact(\"../models\")\n",
    "#mlflow.sklearn.log_model(reg, \"model\")\n",
    "mlflow.end_run()"
   ]
  },
  {
   "cell_type": "code",
   "execution_count": null,
   "metadata": {
    "slideshow": {
     "slide_type": "subslide"
    }
   },
   "outputs": [],
   "source": [
    "#mlflow.get_run(run_id=run.info.run_id)"
   ]
  },
  {
   "cell_type": "markdown",
   "metadata": {},
   "source": [
    "#### SVM"
   ]
  },
  {
   "cell_type": "code",
   "execution_count": null,
   "metadata": {
    "slideshow": {
     "slide_type": "slide"
    }
   },
   "outputs": [],
   "source": [
    "# setting the MLFlow connection and experiment\n",
    "mlflow.set_tracking_uri(TRACKING_URI)\n",
    "mlflow.set_experiment(EXPERIMENT_NAME_multilabel)\n",
    "name = 'svm_multilabel_h1n1' #specify the run name here; name it with model used\n",
    "mlflow.start_run(run_name = name) \n",
    "run = mlflow.active_run()"
   ]
  },
  {
   "cell_type": "code",
   "execution_count": null,
   "metadata": {
    "slideshow": {
     "slide_type": "subslide"
    }
   },
   "outputs": [],
   "source": [
    "print(\"Active run_id: {}\".format(run.info.run_id))"
   ]
  },
  {
   "cell_type": "code",
   "execution_count": null,
   "metadata": {
    "slideshow": {
     "slide_type": "slide"
    }
   },
   "outputs": [],
   "source": [
    "#parameters are to keep track of everything for re-running the experiment (e.g. what features are being engineered, hyperparameters of model, etc)\n",
    "#to be adjusted as needed\n",
    "params = {\n",
    "    \"Data cleaning\": \"Full dataset\",\n",
    "    \"Data balancing\": \"None\",\n",
    "    \"Hyperparameters\": \"None\"\n",
    "  }"
   ]
  },
  {
   "cell_type": "code",
   "execution_count": null,
   "metadata": {
    "slideshow": {
     "slide_type": "slide"
    }
   },
   "outputs": [],
   "source": [
    "mlflow.log_params(params)\n",
    "#tags = data used\n",
    "mlflow.set_tag(\"Vaccines in features\", \"None\") #set tags for more details of what we've done\n",
    "mlflow.log_metric(\"train -\" + \"ROC\", h1n1_svm_multilabel_train_roc)\n",
    "mlflow.log_metric(\"test -\" + \"ROC\", h1n1_svm_multilabel_test_roc)\n",
    "mlflow.log_metric(\"train -\" + \"accuracy\", h1n1_svm_multilabel_train_acc)\n",
    "mlflow.log_metric(\"test -\" + \"accuracy\", h1n1_svm_multilabel_test_acc)\n",
    "mlflow.log_metric(\"train -\" + \"recall\", h1n1_svm_multilabel_train_recall)\n",
    "mlflow.log_metric(\"test -\" + \"recall\", h1n1_svm_multilabel_test_recall)\n",
    "mlflow.log_metric(\"train -\" + \"precision\", h1n1_svm_multilabel_train_precision)\n",
    "mlflow.log_metric(\"test -\" + \"precision\", h1n1_svm_multilabel_test_precision)\n",
    "mlflow.log_metric(\"train -\" + \"f1\", h1n1_svm_multilabel_train_f1)\n",
    "mlflow.log_metric(\"test -\" + \"f1\", h1n1_svm_multilabel_test_f1)\n",
    "#mlflow.log_artifact(\"../models\")\n",
    "#mlflow.sklearn.log_model(reg, \"model\")\n",
    "mlflow.end_run()"
   ]
  },
  {
   "cell_type": "code",
   "execution_count": null,
   "metadata": {
    "slideshow": {
     "slide_type": "subslide"
    }
   },
   "outputs": [],
   "source": [
    "#mlflow.get_run(run_id=run.info.run_id)"
   ]
  },
  {
   "cell_type": "markdown",
   "metadata": {},
   "source": [
    "### Seasonal vaccine output"
   ]
  },
  {
   "cell_type": "markdown",
   "metadata": {},
   "source": [
    "#### Random forest"
   ]
  },
  {
   "cell_type": "code",
   "execution_count": 45,
   "metadata": {
    "slideshow": {
     "slide_type": "slide"
    }
   },
   "outputs": [],
   "source": [
    "# setting the MLFlow connection and experiment\n",
    "mlflow.set_tracking_uri(TRACKING_URI)\n",
    "mlflow.set_experiment(EXPERIMENT_NAME_multilabel)\n",
    "name = 'rand_forst_multilabel_seasonal' #specify the run name here; name it with model used\n",
    "mlflow.start_run(run_name = name) \n",
    "run = mlflow.active_run()"
   ]
  },
  {
   "cell_type": "code",
   "execution_count": 46,
   "metadata": {
    "slideshow": {
     "slide_type": "subslide"
    }
   },
   "outputs": [
    {
     "name": "stdout",
     "output_type": "stream",
     "text": [
      "Active run_id: 57318dbf7f99461fbf12324dfd7233fd\n"
     ]
    }
   ],
   "source": [
    "print(\"Active run_id: {}\".format(run.info.run_id))"
   ]
  },
  {
   "cell_type": "code",
   "execution_count": 47,
   "metadata": {
    "slideshow": {
     "slide_type": "slide"
    }
   },
   "outputs": [],
   "source": [
    "#parameters are to keep track of everything for re-running the experiment (e.g. what features are being engineered, hyperparameters of model, etc)\n",
    "#to be adjusted as needed\n",
    "params = {\n",
    "    \"Data cleaning\": \"Full dataset\",\n",
    "    \"Data balancing\": \"None\",\n",
    "    \"Hyperparameters\": {'max_depth': 11, \n",
    "                        'max_features':0.5,\n",
    "                        'max_leaf_nodes':45,\n",
    "                         'n_estimators':94}\n",
    "  }"
   ]
  },
  {
   "cell_type": "code",
   "execution_count": 48,
   "metadata": {
    "slideshow": {
     "slide_type": "slide"
    }
   },
   "outputs": [],
   "source": [
    "mlflow.log_params(params)\n",
    "#tags = data used\n",
    "mlflow.set_tag(\"Vaccines in features\", \"None\") #set tags for more details of what we've done\n",
    "mlflow.log_metric(\"train -\" + \"ROC\", seasonal_rand_forst_multilabel_train_roc_best)\n",
    "mlflow.log_metric(\"test -\" + \"ROC\", seasonal_rand_forst_multilabel_test_roc_best)\n",
    "mlflow.log_metric(\"train -\" + \"accuracy\", seasonal_rand_forst_multilabel_train_acc_best)\n",
    "mlflow.log_metric(\"test -\" + \"accuracy\", seasonal_rand_forst_multilabel_test_acc_best)\n",
    "mlflow.log_metric(\"train -\" + \"recall\", seasonal_rand_forst_multilabel_train_recall_best)\n",
    "mlflow.log_metric(\"test -\" + \"recall\", seasonal_rand_forst_multilabel_test_recall_best)\n",
    "mlflow.log_metric(\"train -\" + \"precision\", seasonal_rand_forst_multilabel_train_precision_best)\n",
    "mlflow.log_metric(\"test -\" + \"precision\", seasonal_rand_forst_multilabel_test_precision_best)\n",
    "mlflow.log_metric(\"train -\" + \"f1\", seasonal_rand_forst_multilabel_train_f1_best)\n",
    "mlflow.log_metric(\"test -\" + \"f1\", seasonal_rand_forst_multilabel_test_f1_best)\n",
    "#mlflow.log_artifact(\"../models\")\n",
    "#mlflow.sklearn.log_model(reg, \"model\")\n",
    "mlflow.end_run()"
   ]
  },
  {
   "cell_type": "code",
   "execution_count": null,
   "metadata": {
    "slideshow": {
     "slide_type": "subslide"
    }
   },
   "outputs": [],
   "source": [
    "#mlflow.get_run(run_id=run.info.run_id)"
   ]
  },
  {
   "cell_type": "markdown",
   "metadata": {},
   "source": [
    "#### SVM"
   ]
  },
  {
   "cell_type": "code",
   "execution_count": null,
   "metadata": {
    "slideshow": {
     "slide_type": "slide"
    }
   },
   "outputs": [],
   "source": [
    "# setting the MLFlow connection and experiment\n",
    "'''mlflow.set_tracking_uri(TRACKING_URI)\n",
    "mlflow.set_experiment(EXPERIMENT_NAME_multilabel)\n",
    "name = 'svm_multilabel_seasonal' #specify the run name here; name it with model used\n",
    "mlflow.start_run(run_name = name) \n",
    "run = mlflow.active_run()'''"
   ]
  },
  {
   "cell_type": "code",
   "execution_count": null,
   "metadata": {
    "slideshow": {
     "slide_type": "subslide"
    }
   },
   "outputs": [],
   "source": [
    "'''print(\"Active run_id: {}\".format(run.info.run_id))'''"
   ]
  },
  {
   "cell_type": "code",
   "execution_count": null,
   "metadata": {
    "slideshow": {
     "slide_type": "slide"
    }
   },
   "outputs": [],
   "source": [
    "#parameters are to keep track of everything for re-running the experiment (e.g. what features are being engineered, hyperparameters of model, etc)\n",
    "#to be adjusted as needed\n",
    "'''params = {\n",
    "    \"Data cleaning\": \"Full dataset\",\n",
    "    \"Data balancing\": \"None\",\n",
    "    \"Hyperparameters\": \"None\"\n",
    "  }'''"
   ]
  },
  {
   "cell_type": "code",
   "execution_count": null,
   "metadata": {
    "slideshow": {
     "slide_type": "slide"
    }
   },
   "outputs": [],
   "source": [
    "'''mlflow.log_params(params)\n",
    "#tags = data used\n",
    "mlflow.set_tag(\"Vaccines in features\", \"None\") #set tags for more details of what we've done\n",
    "mlflow.log_metric(\"train -\" + \"ROC\", seasonal_svm_multilabel_train_roc)\n",
    "mlflow.log_metric(\"test -\" + \"ROC\", seasonal_svm_multilabel_test_roc)\n",
    "mlflow.log_metric(\"train -\" + \"accuracy\", seasonal_svm_multilabel_train_acc)\n",
    "mlflow.log_metric(\"test -\" + \"accuracy\", seasonal_svm_multilabel_test_acc)\n",
    "mlflow.log_metric(\"train -\" + \"recall\", seasonal_svm_multilabel_train_recall)\n",
    "mlflow.log_metric(\"test -\" + \"recall\", seasonal_svm_multilabel_test_recall)\n",
    "mlflow.log_metric(\"train -\" + \"precision\", seasonal_svm_multilabel_train_precision)\n",
    "mlflow.log_metric(\"test -\" + \"precision\", seasonal_svm_multilabel_test_precision)\n",
    "mlflow.log_metric(\"train -\" + \"f1\", seasonal_svm_multilabel_train_f1)\n",
    "mlflow.log_metric(\"test -\" + \"f1\", seasonal_svm_multilabel_test_f1)\n",
    "#mlflow.log_artifact(\"../models\")\n",
    "#mlflow.sklearn.log_model(reg, \"model\")\n",
    "mlflow.end_run()'''"
   ]
  },
  {
   "cell_type": "code",
   "execution_count": null,
   "metadata": {
    "slideshow": {
     "slide_type": "subslide"
    }
   },
   "outputs": [],
   "source": [
    "#mlflow.get_run(run_id=run.info.run_id)"
   ]
  },
  {
   "cell_type": "markdown",
   "metadata": {},
   "source": [
    "# TheFluShot_H1N1: Single Label Modelling, output H1N1 vaccine"
   ]
  },
  {
   "cell_type": "markdown",
   "metadata": {},
   "source": [
    "## Single Label Modelling, output H1N1 vaccine -> Seasonal Flu Vaccine not in features"
   ]
  },
  {
   "cell_type": "markdown",
   "metadata": {},
   "source": [
    "The cat_features_no_vacc and X_no_vacc variables and the preprocessor remain the same from the multilabel modelling:"
   ]
  },
  {
   "cell_type": "markdown",
   "metadata": {},
   "source": [
    "Set up the target variable:"
   ]
  },
  {
   "cell_type": "code",
   "execution_count": 46,
   "metadata": {},
   "outputs": [],
   "source": [
    "y_h1n1_vacc = df[['h1n1_vaccine']].copy()"
   ]
  },
  {
   "cell_type": "code",
   "execution_count": 47,
   "metadata": {},
   "outputs": [],
   "source": [
    "y_h1n1_vacc = y_h1n1_vacc.to_numpy()\n"
   ]
  },
  {
   "cell_type": "code",
   "execution_count": 48,
   "metadata": {},
   "outputs": [],
   "source": [
    "y_h1n1_vacc = y_h1n1_vacc.ravel()"
   ]
  },
  {
   "cell_type": "code",
   "execution_count": 49,
   "metadata": {},
   "outputs": [
    {
     "data": {
      "text/plain": [
       "(26707,)"
      ]
     },
     "execution_count": 49,
     "metadata": {},
     "output_type": "execute_result"
    }
   ],
   "source": [
    "y_h1n1_vacc.shape"
   ]
  },
  {
   "cell_type": "markdown",
   "metadata": {},
   "source": [
    "Performing test-train split:"
   ]
  },
  {
   "cell_type": "code",
   "execution_count": 50,
   "metadata": {},
   "outputs": [],
   "source": [
    "X_no_vacc_train, X_no_vacc_test, y_h1n1_vacc_train, y_h1n1_vacc_test = train_test_split(X_no_vacc, y_h1n1_vacc, stratify = y_h1n1_vacc, test_size=0.2, random_state=RSEED)"
   ]
  },
  {
   "cell_type": "code",
   "execution_count": 51,
   "metadata": {},
   "outputs": [
    {
     "name": "stdout",
     "output_type": "stream",
     "text": [
      "X_no_vacc_train shape: (21365, 35)\n",
      "X_no_vacc_test shape: (5342, 35)\n",
      "y_h1n1_vacc_train: (21365,)\n",
      "y_h1n1_vacc_test: (5342,)\n"
     ]
    }
   ],
   "source": [
    "print('X_no_vacc_train shape:', X_no_vacc_train.shape)\n",
    "print('X_no_vacc_test shape:', X_no_vacc_test.shape)\n",
    "print('y_h1n1_vacc_train:', y_h1n1_vacc_train.shape)\n",
    "print('y_h1n1_vacc_test:', y_h1n1_vacc_test.shape)"
   ]
  },
  {
   "cell_type": "markdown",
   "metadata": {},
   "source": [
    "Setting up the pipeline for each model:"
   ]
  },
  {
   "cell_type": "code",
   "execution_count": 52,
   "metadata": {},
   "outputs": [
    {
     "data": {
      "text/plain": [
       "'#for SVM\\nsvm_unilabel_pipeline = Pipeline([\\n    (\"preprocessor\", preprocessor),\\n    (\"estimators\", svm),\\n])'"
      ]
     },
     "execution_count": 52,
     "metadata": {},
     "output_type": "execute_result"
    }
   ],
   "source": [
    "# for Random Forest\n",
    "\n",
    "rand_forst_unilabel_pipeline = Pipeline([\n",
    "    (\"preprocessor\", preprocessor),\n",
    "    (\"estimators\", rand_forst),\n",
    "])\n",
    "\n",
    "'''#for SVM\n",
    "svm_unilabel_pipeline = Pipeline([\n",
    "    (\"preprocessor\", preprocessor),\n",
    "    (\"estimators\", svm),\n",
    "])'''"
   ]
  },
  {
   "cell_type": "markdown",
   "metadata": {},
   "source": [
    "### Setting up the Grid Search for hyperparameter tuning"
   ]
  },
  {
   "cell_type": "code",
   "execution_count": 53,
   "metadata": {},
   "outputs": [
    {
     "data": {
      "text/plain": [
       "dict_keys(['bootstrap', 'ccp_alpha', 'class_weight', 'criterion', 'max_depth', 'max_features', 'max_leaf_nodes', 'max_samples', 'min_impurity_decrease', 'min_impurity_split', 'min_samples_leaf', 'min_samples_split', 'min_weight_fraction_leaf', 'n_estimators', 'n_jobs', 'oob_score', 'random_state', 'verbose', 'warm_start'])"
      ]
     },
     "execution_count": 53,
     "metadata": {},
     "output_type": "execute_result"
    }
   ],
   "source": [
    "rand_forst.get_params().keys()"
   ]
  },
  {
   "cell_type": "code",
   "execution_count": 54,
   "metadata": {},
   "outputs": [],
   "source": [
    "# will need to be adjusted in further runs \n",
    "# the pipeline step is accessed with 'estimators__estimator__'\n",
    "\n",
    "param_grid_unilabel = {\n",
    "    'estimators__n_estimators': np.linspace(10, 100, 200).astype(int),\n",
    "    'estimators__max_depth': [None] + list(np.linspace(3, 20).astype(int)),\n",
    "    'estimators__max_features': ['auto', 'sqrt', None] + list(np.arange(0.5, 1, 0.1)),\n",
    "    'estimators__max_leaf_nodes': [None] + list(np.linspace(10, 50, 500).astype(int)),\n",
    "    #'estimators__estimator__min_samples_split': [2, 5, 10],\n",
    "    'estimators__bootstrap': [True, False]\n",
    "}"
   ]
  },
  {
   "cell_type": "code",
   "execution_count": 55,
   "metadata": {},
   "outputs": [],
   "source": [
    "# the random search model is created \n",
    "# we define roc_auc as our evaluation metric for the parameter search \n",
    "# set verbose to a higher number next time \n",
    "\n",
    "grid_rand_forst_unilabel = RandomizedSearchCV(rand_forst_unilabel_pipeline, param_distributions=param_grid_unilabel, cv=5, scoring='roc_auc', \n",
    "                           verbose=50, n_jobs=-1, n_iter=100)"
   ]
  },
  {
   "cell_type": "markdown",
   "metadata": {},
   "source": [
    "### Fitting the grid search to our model "
   ]
  },
  {
   "cell_type": "code",
   "execution_count": 56,
   "metadata": {},
   "outputs": [
    {
     "name": "stdout",
     "output_type": "stream",
     "text": [
      "Fitting 5 folds for each of 100 candidates, totalling 500 fits\n",
      "[CV 4/5; 1/100] START estimators__bootstrap=False, estimators__max_depth=7, estimators__max_features=0.7, estimators__max_leaf_nodes=28, estimators__n_estimators=13\n",
      "[CV 2/5; 1/100] START estimators__bootstrap=False, estimators__max_depth=7, estimators__max_features=0.7, estimators__max_leaf_nodes=28, estimators__n_estimators=13\n",
      "[CV 1/5; 1/100] START estimators__bootstrap=False, estimators__max_depth=7, estimators__max_features=0.7, estimators__max_leaf_nodes=28, estimators__n_estimators=13\n",
      "[CV 3/5; 1/100] START estimators__bootstrap=False, estimators__max_depth=7, estimators__max_features=0.7, estimators__max_leaf_nodes=28, estimators__n_estimators=13\n",
      "[CV 2/5; 1/100] END estimators__bootstrap=False, estimators__max_depth=7, estimators__max_features=0.7, estimators__max_leaf_nodes=28, estimators__n_estimators=13;, score=0.845 total time=  33.7s\n",
      "[CV 3/5; 1/100] END estimators__bootstrap=False, estimators__max_depth=7, estimators__max_features=0.7, estimators__max_leaf_nodes=28, estimators__n_estimators=13;, score=0.840 total time=  33.7s\n",
      "[CV 4/5; 1/100] END estimators__bootstrap=False, estimators__max_depth=7, estimators__max_features=0.7, estimators__max_leaf_nodes=28, estimators__n_estimators=13;, score=0.848 total time=  33.7s\n",
      "[CV 1/5; 1/100] END estimators__bootstrap=False, estimators__max_depth=7, estimators__max_features=0.7, estimators__max_leaf_nodes=28, estimators__n_estimators=13;, score=0.836 total time=  33.7s\n",
      "[CV 2/5; 2/100] START estimators__bootstrap=False, estimators__max_depth=14, estimators__max_features=sqrt, estimators__max_leaf_nodes=43, estimators__n_estimators=22[CV 5/5; 1/100] START estimators__bootstrap=False, estimators__max_depth=7, estimators__max_features=0.7, estimators__max_leaf_nodes=28, estimators__n_estimators=13\n",
      "[CV 1/5; 2/100] START estimators__bootstrap=False, estimators__max_depth=14, estimators__max_features=sqrt, estimators__max_leaf_nodes=43, estimators__n_estimators=22\n",
      "\n",
      "[CV 3/5; 2/100] START estimators__bootstrap=False, estimators__max_depth=14, estimators__max_features=sqrt, estimators__max_leaf_nodes=43, estimators__n_estimators=22\n",
      "[CV 1/5; 2/100] END estimators__bootstrap=False, estimators__max_depth=14, estimators__max_features=sqrt, estimators__max_leaf_nodes=43, estimators__n_estimators=22;, score=0.843 total time=  25.1s\n",
      "[CV 3/5; 2/100] END estimators__bootstrap=False, estimators__max_depth=14, estimators__max_features=sqrt, estimators__max_leaf_nodes=43, estimators__n_estimators=22;, score=0.853 total time=  25.2s\n",
      "[CV 2/5; 2/100] END estimators__bootstrap=False, estimators__max_depth=14, estimators__max_features=sqrt, estimators__max_leaf_nodes=43, estimators__n_estimators=22;, score=0.853 total time=  25.2s\n",
      "[CV 4/5; 2/100] START estimators__bootstrap=False, estimators__max_depth=14, estimators__max_features=sqrt, estimators__max_leaf_nodes=43, estimators__n_estimators=22\n",
      "[CV 5/5; 2/100] START estimators__bootstrap=False, estimators__max_depth=14, estimators__max_features=sqrt, estimators__max_leaf_nodes=43, estimators__n_estimators=22\n",
      "[CV 1/5; 3/100] START estimators__bootstrap=False, estimators__max_depth=16, estimators__max_features=0.5, estimators__max_leaf_nodes=15, estimators__n_estimators=46\n",
      "[CV 5/5; 1/100] END estimators__bootstrap=False, estimators__max_depth=7, estimators__max_features=0.7, estimators__max_leaf_nodes=28, estimators__n_estimators=13;, score=0.832 total time=  26.2s\n",
      "[CV 2/5; 3/100] START estimators__bootstrap=False, estimators__max_depth=16, estimators__max_features=0.5, estimators__max_leaf_nodes=15, estimators__n_estimators=46\n",
      "[CV 4/5; 2/100] END estimators__bootstrap=False, estimators__max_depth=14, estimators__max_features=sqrt, estimators__max_leaf_nodes=43, estimators__n_estimators=22;, score=0.853 total time=  28.1s\n",
      "[CV 3/5; 3/100] START estimators__bootstrap=False, estimators__max_depth=16, estimators__max_features=0.5, estimators__max_leaf_nodes=15, estimators__n_estimators=46\n",
      "[CV 5/5; 2/100] END estimators__bootstrap=False, estimators__max_depth=14, estimators__max_features=sqrt, estimators__max_leaf_nodes=43, estimators__n_estimators=22;, score=0.841 total time=  28.3s\n",
      "[CV 4/5; 3/100] START estimators__bootstrap=False, estimators__max_depth=16, estimators__max_features=0.5, estimators__max_leaf_nodes=15, estimators__n_estimators=46\n",
      "[CV 1/5; 3/100] END estimators__bootstrap=False, estimators__max_depth=16, estimators__max_features=0.5, estimators__max_leaf_nodes=15, estimators__n_estimators=46;, score=0.834 total time=  30.9s\n",
      "[CV 5/5; 3/100] START estimators__bootstrap=False, estimators__max_depth=16, estimators__max_features=0.5, estimators__max_leaf_nodes=15, estimators__n_estimators=46\n",
      "[CV 2/5; 3/100] END estimators__bootstrap=False, estimators__max_depth=16, estimators__max_features=0.5, estimators__max_leaf_nodes=15, estimators__n_estimators=46;, score=0.841 total time=  31.1s\n",
      "[CV 1/5; 4/100] START estimators__bootstrap=True, estimators__max_depth=20, estimators__max_features=0.7999999999999999, estimators__max_leaf_nodes=40, estimators__n_estimators=99\n",
      "[CV 3/5; 3/100] END estimators__bootstrap=False, estimators__max_depth=16, estimators__max_features=0.5, estimators__max_leaf_nodes=15, estimators__n_estimators=46;, score=0.841 total time=  27.4s\n",
      "[CV 2/5; 4/100] START estimators__bootstrap=True, estimators__max_depth=20, estimators__max_features=0.7999999999999999, estimators__max_leaf_nodes=40, estimators__n_estimators=99\n",
      "[CV 4/5; 3/100] END estimators__bootstrap=False, estimators__max_depth=16, estimators__max_features=0.5, estimators__max_leaf_nodes=15, estimators__n_estimators=46;, score=0.842 total time=  27.3s\n",
      "[CV 3/5; 4/100] START estimators__bootstrap=True, estimators__max_depth=20, estimators__max_features=0.7999999999999999, estimators__max_leaf_nodes=40, estimators__n_estimators=99\n",
      "[CV 5/5; 3/100] END estimators__bootstrap=False, estimators__max_depth=16, estimators__max_features=0.5, estimators__max_leaf_nodes=15, estimators__n_estimators=46;, score=0.830 total time=  26.9s\n",
      "[CV 4/5; 4/100] START estimators__bootstrap=True, estimators__max_depth=20, estimators__max_features=0.7999999999999999, estimators__max_leaf_nodes=40, estimators__n_estimators=99\n",
      "[CV 1/5; 4/100] END estimators__bootstrap=True, estimators__max_depth=20, estimators__max_features=0.7999999999999999, estimators__max_leaf_nodes=40, estimators__n_estimators=99;, score=0.843 total time=  38.6s\n",
      "[CV 5/5; 4/100] START estimators__bootstrap=True, estimators__max_depth=20, estimators__max_features=0.7999999999999999, estimators__max_leaf_nodes=40, estimators__n_estimators=99\n",
      "[CV 2/5; 4/100] END estimators__bootstrap=True, estimators__max_depth=20, estimators__max_features=0.7999999999999999, estimators__max_leaf_nodes=40, estimators__n_estimators=99;, score=0.855 total time=  38.2s\n",
      "[CV 1/5; 5/100] START estimators__bootstrap=False, estimators__max_depth=20, estimators__max_features=sqrt, estimators__max_leaf_nodes=22, estimators__n_estimators=24\n",
      "[CV 3/5; 4/100] END estimators__bootstrap=True, estimators__max_depth=20, estimators__max_features=0.7999999999999999, estimators__max_leaf_nodes=40, estimators__n_estimators=99;, score=0.849 total time=  38.8s\n",
      "[CV 2/5; 5/100] START estimators__bootstrap=False, estimators__max_depth=20, estimators__max_features=sqrt, estimators__max_leaf_nodes=22, estimators__n_estimators=24\n",
      "[CV 4/5; 4/100] END estimators__bootstrap=True, estimators__max_depth=20, estimators__max_features=0.7999999999999999, estimators__max_leaf_nodes=40, estimators__n_estimators=99;, score=0.856 total time=  39.2s\n",
      "[CV 3/5; 5/100] START estimators__bootstrap=False, estimators__max_depth=20, estimators__max_features=sqrt, estimators__max_leaf_nodes=22, estimators__n_estimators=24\n",
      "[CV 5/5; 4/100] END estimators__bootstrap=True, estimators__max_depth=20, estimators__max_features=0.7999999999999999, estimators__max_leaf_nodes=40, estimators__n_estimators=99;, score=0.840 total time=  40.1s\n",
      "[CV 4/5; 5/100] START estimators__bootstrap=False, estimators__max_depth=20, estimators__max_features=sqrt, estimators__max_leaf_nodes=22, estimators__n_estimators=24\n",
      "[CV 1/5; 5/100] END estimators__bootstrap=False, estimators__max_depth=20, estimators__max_features=sqrt, estimators__max_leaf_nodes=22, estimators__n_estimators=24;, score=0.841 total time=  24.3s\n",
      "[CV 5/5; 5/100] START estimators__bootstrap=False, estimators__max_depth=20, estimators__max_features=sqrt, estimators__max_leaf_nodes=22, estimators__n_estimators=24\n",
      "[CV 2/5; 5/100] END estimators__bootstrap=False, estimators__max_depth=20, estimators__max_features=sqrt, estimators__max_leaf_nodes=22, estimators__n_estimators=24;, score=0.843 total time=  24.2s\n",
      "[CV 1/5; 6/100] START estimators__bootstrap=False, estimators__max_depth=20, estimators__max_features=0.7999999999999999, estimators__max_leaf_nodes=36, estimators__n_estimators=99\n",
      "[CV 3/5; 5/100] END estimators__bootstrap=False, estimators__max_depth=20, estimators__max_features=sqrt, estimators__max_leaf_nodes=22, estimators__n_estimators=24;, score=0.851 total time=  24.3s\n",
      "[CV 2/5; 6/100] START estimators__bootstrap=False, estimators__max_depth=20, estimators__max_features=0.7999999999999999, estimators__max_leaf_nodes=36, estimators__n_estimators=99\n",
      "[CV 4/5; 5/100] END estimators__bootstrap=False, estimators__max_depth=20, estimators__max_features=sqrt, estimators__max_leaf_nodes=22, estimators__n_estimators=24;, score=0.846 total time=  23.5s\n",
      "[CV 3/5; 6/100] START estimators__bootstrap=False, estimators__max_depth=20, estimators__max_features=0.7999999999999999, estimators__max_leaf_nodes=36, estimators__n_estimators=99\n",
      "[CV 5/5; 5/100] END estimators__bootstrap=False, estimators__max_depth=20, estimators__max_features=sqrt, estimators__max_leaf_nodes=22, estimators__n_estimators=24;, score=0.833 total time=  23.4s\n",
      "[CV 4/5; 6/100] START estimators__bootstrap=False, estimators__max_depth=20, estimators__max_features=0.7999999999999999, estimators__max_leaf_nodes=36, estimators__n_estimators=99\n",
      "[CV 1/5; 6/100] END estimators__bootstrap=False, estimators__max_depth=20, estimators__max_features=0.7999999999999999, estimators__max_leaf_nodes=36, estimators__n_estimators=99;, score=0.837 total time=  40.3s\n",
      "[CV 5/5; 6/100] START estimators__bootstrap=False, estimators__max_depth=20, estimators__max_features=0.7999999999999999, estimators__max_leaf_nodes=36, estimators__n_estimators=99\n",
      "[CV 2/5; 6/100] END estimators__bootstrap=False, estimators__max_depth=20, estimators__max_features=0.7999999999999999, estimators__max_leaf_nodes=36, estimators__n_estimators=99;, score=0.848 total time=  40.0s\n",
      "[CV 1/5; 7/100] START estimators__bootstrap=False, estimators__max_depth=15, estimators__max_features=0.8999999999999999, estimators__max_leaf_nodes=34, estimators__n_estimators=83\n",
      "[CV 3/5; 6/100] END estimators__bootstrap=False, estimators__max_depth=20, estimators__max_features=0.7999999999999999, estimators__max_leaf_nodes=36, estimators__n_estimators=99;, score=0.845 total time=  41.1s\n",
      "[CV 2/5; 7/100] START estimators__bootstrap=False, estimators__max_depth=15, estimators__max_features=0.8999999999999999, estimators__max_leaf_nodes=34, estimators__n_estimators=83\n",
      "[CV 4/5; 6/100] END estimators__bootstrap=False, estimators__max_depth=20, estimators__max_features=0.7999999999999999, estimators__max_leaf_nodes=36, estimators__n_estimators=99;, score=0.852 total time=  41.4s\n",
      "[CV 3/5; 7/100] START estimators__bootstrap=False, estimators__max_depth=15, estimators__max_features=0.8999999999999999, estimators__max_leaf_nodes=34, estimators__n_estimators=83\n",
      "[CV 5/5; 6/100] END estimators__bootstrap=False, estimators__max_depth=20, estimators__max_features=0.7999999999999999, estimators__max_leaf_nodes=36, estimators__n_estimators=99;, score=0.837 total time=  40.8s\n",
      "[CV 4/5; 7/100] START estimators__bootstrap=False, estimators__max_depth=15, estimators__max_features=0.8999999999999999, estimators__max_leaf_nodes=34, estimators__n_estimators=83\n",
      "[CV 1/5; 7/100] END estimators__bootstrap=False, estimators__max_depth=15, estimators__max_features=0.8999999999999999, estimators__max_leaf_nodes=34, estimators__n_estimators=83;, score=0.835 total time=  38.8s\n",
      "[CV 5/5; 7/100] START estimators__bootstrap=False, estimators__max_depth=15, estimators__max_features=0.8999999999999999, estimators__max_leaf_nodes=34, estimators__n_estimators=83\n",
      "[CV 2/5; 7/100] END estimators__bootstrap=False, estimators__max_depth=15, estimators__max_features=0.8999999999999999, estimators__max_leaf_nodes=34, estimators__n_estimators=83;, score=0.843 total time=  38.2s\n",
      "[CV 1/5; 8/100] START estimators__bootstrap=False, estimators__max_depth=13, estimators__max_features=None, estimators__max_leaf_nodes=25, estimators__n_estimators=87\n",
      "[CV 3/5; 7/100] END estimators__bootstrap=False, estimators__max_depth=15, estimators__max_features=0.8999999999999999, estimators__max_leaf_nodes=34, estimators__n_estimators=83;, score=0.841 total time=  38.4s\n",
      "[CV 2/5; 8/100] START estimators__bootstrap=False, estimators__max_depth=13, estimators__max_features=None, estimators__max_leaf_nodes=25, estimators__n_estimators=87\n",
      "[CV 4/5; 7/100] END estimators__bootstrap=False, estimators__max_depth=15, estimators__max_features=0.8999999999999999, estimators__max_leaf_nodes=34, estimators__n_estimators=83;, score=0.848 total time=  39.3s\n",
      "[CV 3/5; 8/100] START estimators__bootstrap=False, estimators__max_depth=13, estimators__max_features=None, estimators__max_leaf_nodes=25, estimators__n_estimators=87\n",
      "[CV 5/5; 7/100] END estimators__bootstrap=False, estimators__max_depth=15, estimators__max_features=0.8999999999999999, estimators__max_leaf_nodes=34, estimators__n_estimators=83;, score=0.833 total time=  39.6s\n",
      "[CV 4/5; 8/100] START estimators__bootstrap=False, estimators__max_depth=13, estimators__max_features=None, estimators__max_leaf_nodes=25, estimators__n_estimators=87\n",
      "[CV 1/5; 8/100] END estimators__bootstrap=False, estimators__max_depth=13, estimators__max_features=None, estimators__max_leaf_nodes=25, estimators__n_estimators=87;, score=0.827 total time=  37.9s\n",
      "[CV 5/5; 8/100] START estimators__bootstrap=False, estimators__max_depth=13, estimators__max_features=None, estimators__max_leaf_nodes=25, estimators__n_estimators=87\n",
      "[CV 2/5; 8/100] END estimators__bootstrap=False, estimators__max_depth=13, estimators__max_features=None, estimators__max_leaf_nodes=25, estimators__n_estimators=87;, score=0.829 total time=  37.3s\n",
      "[CV 1/5; 9/100] START estimators__bootstrap=True, estimators__max_depth=12, estimators__max_features=auto, estimators__max_leaf_nodes=40, estimators__n_estimators=16\n",
      "[CV 3/5; 8/100] END estimators__bootstrap=False, estimators__max_depth=13, estimators__max_features=None, estimators__max_leaf_nodes=25, estimators__n_estimators=87;, score=0.826 total time=  37.8s\n",
      "[CV 2/5; 9/100] START estimators__bootstrap=True, estimators__max_depth=12, estimators__max_features=auto, estimators__max_leaf_nodes=40, estimators__n_estimators=16\n",
      "[CV 4/5; 8/100] END estimators__bootstrap=False, estimators__max_depth=13, estimators__max_features=None, estimators__max_leaf_nodes=25, estimators__n_estimators=87;, score=0.842 total time=  38.6s\n",
      "[CV 3/5; 9/100] START estimators__bootstrap=True, estimators__max_depth=12, estimators__max_features=auto, estimators__max_leaf_nodes=40, estimators__n_estimators=16\n",
      "[CV 1/5; 9/100] END estimators__bootstrap=True, estimators__max_depth=12, estimators__max_features=auto, estimators__max_leaf_nodes=40, estimators__n_estimators=16;, score=0.838 total time=  24.1s\n",
      "[CV 4/5; 9/100] START estimators__bootstrap=True, estimators__max_depth=12, estimators__max_features=auto, estimators__max_leaf_nodes=40, estimators__n_estimators=16\n",
      "[CV 5/5; 8/100] END estimators__bootstrap=False, estimators__max_depth=13, estimators__max_features=None, estimators__max_leaf_nodes=25, estimators__n_estimators=87;, score=0.828 total time=  39.3s\n",
      "[CV 5/5; 9/100] START estimators__bootstrap=True, estimators__max_depth=12, estimators__max_features=auto, estimators__max_leaf_nodes=40, estimators__n_estimators=16\n",
      "[CV 2/5; 9/100] END estimators__bootstrap=True, estimators__max_depth=12, estimators__max_features=auto, estimators__max_leaf_nodes=40, estimators__n_estimators=16;, score=0.847 total time=  24.0s\n",
      "[CV 1/5; 10/100] START estimators__bootstrap=False, estimators__max_depth=8, estimators__max_features=0.5, estimators__max_leaf_nodes=26, estimators__n_estimators=22\n",
      "[CV 3/5; 9/100] END estimators__bootstrap=True, estimators__max_depth=12, estimators__max_features=auto, estimators__max_leaf_nodes=40, estimators__n_estimators=16;, score=0.849 total time=  24.2s\n",
      "[CV 2/5; 10/100] START estimators__bootstrap=False, estimators__max_depth=8, estimators__max_features=0.5, estimators__max_leaf_nodes=26, estimators__n_estimators=22\n",
      "[CV 4/5; 9/100] END estimators__bootstrap=True, estimators__max_depth=12, estimators__max_features=auto, estimators__max_leaf_nodes=40, estimators__n_estimators=16;, score=0.857 total time=  24.0s\n",
      "[CV 3/5; 10/100] START estimators__bootstrap=False, estimators__max_depth=8, estimators__max_features=0.5, estimators__max_leaf_nodes=26, estimators__n_estimators=22\n",
      "[CV 5/5; 9/100] END estimators__bootstrap=True, estimators__max_depth=12, estimators__max_features=auto, estimators__max_leaf_nodes=40, estimators__n_estimators=16;, score=0.833 total time=  23.5s\n",
      "[CV 4/5; 10/100] START estimators__bootstrap=False, estimators__max_depth=8, estimators__max_features=0.5, estimators__max_leaf_nodes=26, estimators__n_estimators=22\n",
      "[CV 1/5; 10/100] END estimators__bootstrap=False, estimators__max_depth=8, estimators__max_features=0.5, estimators__max_leaf_nodes=26, estimators__n_estimators=22;, score=0.840 total time=  24.8s\n",
      "[CV 5/5; 10/100] START estimators__bootstrap=False, estimators__max_depth=8, estimators__max_features=0.5, estimators__max_leaf_nodes=26, estimators__n_estimators=22\n",
      "[CV 2/5; 10/100] END estimators__bootstrap=False, estimators__max_depth=8, estimators__max_features=0.5, estimators__max_leaf_nodes=26, estimators__n_estimators=22;, score=0.849 total time=  24.7s\n",
      "[CV 1/5; 11/100] START estimators__bootstrap=False, estimators__max_depth=7, estimators__max_features=sqrt, estimators__max_leaf_nodes=18, estimators__n_estimators=94\n",
      "[CV 3/5; 10/100] END estimators__bootstrap=False, estimators__max_depth=8, estimators__max_features=0.5, estimators__max_leaf_nodes=26, estimators__n_estimators=22;, score=0.847 total time=  25.0s\n",
      "[CV 2/5; 11/100] START estimators__bootstrap=False, estimators__max_depth=7, estimators__max_features=sqrt, estimators__max_leaf_nodes=18, estimators__n_estimators=94\n",
      "[CV 4/5; 10/100] END estimators__bootstrap=False, estimators__max_depth=8, estimators__max_features=0.5, estimators__max_leaf_nodes=26, estimators__n_estimators=22;, score=0.850 total time=  25.0s\n",
      "[CV 3/5; 11/100] START estimators__bootstrap=False, estimators__max_depth=7, estimators__max_features=sqrt, estimators__max_leaf_nodes=18, estimators__n_estimators=94\n",
      "[CV 5/5; 10/100] END estimators__bootstrap=False, estimators__max_depth=8, estimators__max_features=0.5, estimators__max_leaf_nodes=26, estimators__n_estimators=22;, score=0.832 total time=  25.6s\n",
      "[CV 4/5; 11/100] START estimators__bootstrap=False, estimators__max_depth=7, estimators__max_features=sqrt, estimators__max_leaf_nodes=18, estimators__n_estimators=94\n",
      "[CV 1/5; 11/100] END estimators__bootstrap=False, estimators__max_depth=7, estimators__max_features=sqrt, estimators__max_leaf_nodes=18, estimators__n_estimators=94;, score=0.840 total time=  25.1s\n",
      "[CV 5/5; 11/100] START estimators__bootstrap=False, estimators__max_depth=7, estimators__max_features=sqrt, estimators__max_leaf_nodes=18, estimators__n_estimators=94\n",
      "[CV 2/5; 11/100] END estimators__bootstrap=False, estimators__max_depth=7, estimators__max_features=sqrt, estimators__max_leaf_nodes=18, estimators__n_estimators=94;, score=0.851 total time=  25.4s\n",
      "[CV 1/5; 12/100] START estimators__bootstrap=True, estimators__max_depth=12, estimators__max_features=0.5, estimators__max_leaf_nodes=13, estimators__n_estimators=95\n",
      "[CV 3/5; 11/100] END estimators__bootstrap=False, estimators__max_depth=7, estimators__max_features=sqrt, estimators__max_leaf_nodes=18, estimators__n_estimators=94;, score=0.853 total time=  25.7s\n",
      "[CV 2/5; 12/100] START estimators__bootstrap=True, estimators__max_depth=12, estimators__max_features=0.5, estimators__max_leaf_nodes=13, estimators__n_estimators=95\n",
      "[CV 4/5; 11/100] END estimators__bootstrap=False, estimators__max_depth=7, estimators__max_features=sqrt, estimators__max_leaf_nodes=18, estimators__n_estimators=94;, score=0.853 total time=  25.7s\n",
      "[CV 3/5; 12/100] START estimators__bootstrap=True, estimators__max_depth=12, estimators__max_features=0.5, estimators__max_leaf_nodes=13, estimators__n_estimators=95\n",
      "[CV 5/5; 11/100] END estimators__bootstrap=False, estimators__max_depth=7, estimators__max_features=sqrt, estimators__max_leaf_nodes=18, estimators__n_estimators=94;, score=0.836 total time=  26.1s\n",
      "[CV 4/5; 12/100] START estimators__bootstrap=True, estimators__max_depth=12, estimators__max_features=0.5, estimators__max_leaf_nodes=13, estimators__n_estimators=95\n",
      "[CV 1/5; 12/100] END estimators__bootstrap=True, estimators__max_depth=12, estimators__max_features=0.5, estimators__max_leaf_nodes=13, estimators__n_estimators=95;, score=0.834 total time=  28.8s\n",
      "[CV 5/5; 12/100] START estimators__bootstrap=True, estimators__max_depth=12, estimators__max_features=0.5, estimators__max_leaf_nodes=13, estimators__n_estimators=95\n",
      "[CV 2/5; 12/100] END estimators__bootstrap=True, estimators__max_depth=12, estimators__max_features=0.5, estimators__max_leaf_nodes=13, estimators__n_estimators=95;, score=0.843 total time=  29.5s\n",
      "[CV 1/5; 13/100] START estimators__bootstrap=False, estimators__max_depth=18, estimators__max_features=sqrt, estimators__max_leaf_nodes=48, estimators__n_estimators=29\n",
      "[CV 3/5; 12/100] END estimators__bootstrap=True, estimators__max_depth=12, estimators__max_features=0.5, estimators__max_leaf_nodes=13, estimators__n_estimators=95;, score=0.840 total time=  29.3s\n",
      "[CV 2/5; 13/100] START estimators__bootstrap=False, estimators__max_depth=18, estimators__max_features=sqrt, estimators__max_leaf_nodes=48, estimators__n_estimators=29\n",
      "[CV 4/5; 12/100] END estimators__bootstrap=True, estimators__max_depth=12, estimators__max_features=0.5, estimators__max_leaf_nodes=13, estimators__n_estimators=95;, score=0.841 total time=  29.1s\n",
      "[CV 3/5; 13/100] START estimators__bootstrap=False, estimators__max_depth=18, estimators__max_features=sqrt, estimators__max_leaf_nodes=48, estimators__n_estimators=29\n",
      "[CV 5/5; 12/100] END estimators__bootstrap=True, estimators__max_depth=12, estimators__max_features=0.5, estimators__max_leaf_nodes=13, estimators__n_estimators=95;, score=0.831 total time=  29.0s\n",
      "[CV 4/5; 13/100] START estimators__bootstrap=False, estimators__max_depth=18, estimators__max_features=sqrt, estimators__max_leaf_nodes=48, estimators__n_estimators=29\n",
      "[CV 1/5; 13/100] END estimators__bootstrap=False, estimators__max_depth=18, estimators__max_features=sqrt, estimators__max_leaf_nodes=48, estimators__n_estimators=29;, score=0.846 total time=  24.5s\n",
      "[CV 5/5; 13/100] START estimators__bootstrap=False, estimators__max_depth=18, estimators__max_features=sqrt, estimators__max_leaf_nodes=48, estimators__n_estimators=29\n",
      "[CV 2/5; 13/100] END estimators__bootstrap=False, estimators__max_depth=18, estimators__max_features=sqrt, estimators__max_leaf_nodes=48, estimators__n_estimators=29;, score=0.854 total time=  24.2s\n",
      "[CV 1/5; 14/100] START estimators__bootstrap=True, estimators__max_depth=7, estimators__max_features=auto, estimators__max_leaf_nodes=48, estimators__n_estimators=15\n",
      "[CV 3/5; 13/100] END estimators__bootstrap=False, estimators__max_depth=18, estimators__max_features=sqrt, estimators__max_leaf_nodes=48, estimators__n_estimators=29;, score=0.856 total time=  24.4s\n",
      "[CV 2/5; 14/100] START estimators__bootstrap=True, estimators__max_depth=7, estimators__max_features=auto, estimators__max_leaf_nodes=48, estimators__n_estimators=15\n",
      "[CV 4/5; 13/100] END estimators__bootstrap=False, estimators__max_depth=18, estimators__max_features=sqrt, estimators__max_leaf_nodes=48, estimators__n_estimators=29;, score=0.855 total time=  24.2s\n",
      "[CV 3/5; 14/100] START estimators__bootstrap=True, estimators__max_depth=7, estimators__max_features=auto, estimators__max_leaf_nodes=48, estimators__n_estimators=15\n",
      "[CV 5/5; 13/100] END estimators__bootstrap=False, estimators__max_depth=18, estimators__max_features=sqrt, estimators__max_leaf_nodes=48, estimators__n_estimators=29;, score=0.839 total time=  24.1s\n",
      "[CV 4/5; 14/100] START estimators__bootstrap=True, estimators__max_depth=7, estimators__max_features=auto, estimators__max_leaf_nodes=48, estimators__n_estimators=15\n",
      "[CV 1/5; 14/100] END estimators__bootstrap=True, estimators__max_depth=7, estimators__max_features=auto, estimators__max_leaf_nodes=48, estimators__n_estimators=15;, score=0.838 total time=  23.5s\n",
      "[CV 5/5; 14/100] START estimators__bootstrap=True, estimators__max_depth=7, estimators__max_features=auto, estimators__max_leaf_nodes=48, estimators__n_estimators=15\n",
      "[CV 2/5; 14/100] END estimators__bootstrap=True, estimators__max_depth=7, estimators__max_features=auto, estimators__max_leaf_nodes=48, estimators__n_estimators=15;, score=0.851 total time=  23.5s\n",
      "[CV 1/5; 15/100] START estimators__bootstrap=False, estimators__max_depth=19, estimators__max_features=0.5, estimators__max_leaf_nodes=38, estimators__n_estimators=46\n",
      "[CV 3/5; 14/100] END estimators__bootstrap=True, estimators__max_depth=7, estimators__max_features=auto, estimators__max_leaf_nodes=48, estimators__n_estimators=15;, score=0.848 total time=  23.6s\n",
      "[CV 2/5; 15/100] START estimators__bootstrap=False, estimators__max_depth=19, estimators__max_features=0.5, estimators__max_leaf_nodes=38, estimators__n_estimators=46\n",
      "[CV 4/5; 14/100] END estimators__bootstrap=True, estimators__max_depth=7, estimators__max_features=auto, estimators__max_leaf_nodes=48, estimators__n_estimators=15;, score=0.850 total time=  23.8s\n",
      "[CV 3/5; 15/100] START estimators__bootstrap=False, estimators__max_depth=19, estimators__max_features=0.5, estimators__max_leaf_nodes=38, estimators__n_estimators=46\n",
      "[CV 5/5; 14/100] END estimators__bootstrap=True, estimators__max_depth=7, estimators__max_features=auto, estimators__max_leaf_nodes=48, estimators__n_estimators=15;, score=0.838 total time=  24.0s\n",
      "[CV 4/5; 15/100] START estimators__bootstrap=False, estimators__max_depth=19, estimators__max_features=0.5, estimators__max_leaf_nodes=38, estimators__n_estimators=46\n",
      "[CV 1/5; 15/100] END estimators__bootstrap=False, estimators__max_depth=19, estimators__max_features=0.5, estimators__max_leaf_nodes=38, estimators__n_estimators=46;, score=0.842 total time=  29.2s\n",
      "[CV 5/5; 15/100] START estimators__bootstrap=False, estimators__max_depth=19, estimators__max_features=0.5, estimators__max_leaf_nodes=38, estimators__n_estimators=46\n",
      "[CV 2/5; 15/100] END estimators__bootstrap=False, estimators__max_depth=19, estimators__max_features=0.5, estimators__max_leaf_nodes=38, estimators__n_estimators=46;, score=0.857 total time=  29.3s\n",
      "[CV 1/5; 16/100] START estimators__bootstrap=True, estimators__max_depth=7, estimators__max_features=auto, estimators__max_leaf_nodes=21, estimators__n_estimators=35\n",
      "[CV 3/5; 15/100] END estimators__bootstrap=False, estimators__max_depth=19, estimators__max_features=0.5, estimators__max_leaf_nodes=38, estimators__n_estimators=46;, score=0.852 total time=  29.1s\n",
      "[CV 2/5; 16/100] START estimators__bootstrap=True, estimators__max_depth=7, estimators__max_features=auto, estimators__max_leaf_nodes=21, estimators__n_estimators=35\n",
      "[CV 4/5; 15/100] END estimators__bootstrap=False, estimators__max_depth=19, estimators__max_features=0.5, estimators__max_leaf_nodes=38, estimators__n_estimators=46;, score=0.855 total time=  28.9s\n",
      "[CV 3/5; 16/100] START estimators__bootstrap=True, estimators__max_depth=7, estimators__max_features=auto, estimators__max_leaf_nodes=21, estimators__n_estimators=35\n",
      "[CV 5/5; 15/100] END estimators__bootstrap=False, estimators__max_depth=19, estimators__max_features=0.5, estimators__max_leaf_nodes=38, estimators__n_estimators=46;, score=0.839 total time=  28.8s\n",
      "[CV 4/5; 16/100] START estimators__bootstrap=True, estimators__max_depth=7, estimators__max_features=auto, estimators__max_leaf_nodes=21, estimators__n_estimators=35\n",
      "[CV 1/5; 16/100] END estimators__bootstrap=True, estimators__max_depth=7, estimators__max_features=auto, estimators__max_leaf_nodes=21, estimators__n_estimators=35;, score=0.838 total time=  23.7s\n",
      "[CV 5/5; 16/100] START estimators__bootstrap=True, estimators__max_depth=7, estimators__max_features=auto, estimators__max_leaf_nodes=21, estimators__n_estimators=35\n",
      "[CV 2/5; 16/100] END estimators__bootstrap=True, estimators__max_depth=7, estimators__max_features=auto, estimators__max_leaf_nodes=21, estimators__n_estimators=35;, score=0.849 total time=  23.9s\n",
      "[CV 1/5; 17/100] START estimators__bootstrap=False, estimators__max_depth=7, estimators__max_features=None, estimators__max_leaf_nodes=17, estimators__n_estimators=22\n",
      "[CV 3/5; 16/100] END estimators__bootstrap=True, estimators__max_depth=7, estimators__max_features=auto, estimators__max_leaf_nodes=21, estimators__n_estimators=35;, score=0.853 total time=  23.8s\n",
      "[CV 2/5; 17/100] START estimators__bootstrap=False, estimators__max_depth=7, estimators__max_features=None, estimators__max_leaf_nodes=17, estimators__n_estimators=22\n",
      "[CV 4/5; 16/100] END estimators__bootstrap=True, estimators__max_depth=7, estimators__max_features=auto, estimators__max_leaf_nodes=21, estimators__n_estimators=35;, score=0.848 total time=  23.9s\n",
      "[CV 3/5; 17/100] START estimators__bootstrap=False, estimators__max_depth=7, estimators__max_features=None, estimators__max_leaf_nodes=17, estimators__n_estimators=22\n",
      "[CV 5/5; 16/100] END estimators__bootstrap=True, estimators__max_depth=7, estimators__max_features=auto, estimators__max_leaf_nodes=21, estimators__n_estimators=35;, score=0.839 total time=  23.9s\n",
      "[CV 4/5; 17/100] START estimators__bootstrap=False, estimators__max_depth=7, estimators__max_features=None, estimators__max_leaf_nodes=17, estimators__n_estimators=22\n",
      "[CV 1/5; 17/100] END estimators__bootstrap=False, estimators__max_depth=7, estimators__max_features=None, estimators__max_leaf_nodes=17, estimators__n_estimators=22;, score=0.818 total time=  26.0s\n",
      "[CV 5/5; 17/100] START estimators__bootstrap=False, estimators__max_depth=7, estimators__max_features=None, estimators__max_leaf_nodes=17, estimators__n_estimators=22\n",
      "[CV 2/5; 17/100] END estimators__bootstrap=False, estimators__max_depth=7, estimators__max_features=None, estimators__max_leaf_nodes=17, estimators__n_estimators=22;, score=0.827 total time=  26.5s\n",
      "[CV 1/5; 18/100] START estimators__bootstrap=False, estimators__max_depth=8, estimators__max_features=sqrt, estimators__max_leaf_nodes=36, estimators__n_estimators=31\n",
      "[CV 3/5; 17/100] END estimators__bootstrap=False, estimators__max_depth=7, estimators__max_features=None, estimators__max_leaf_nodes=17, estimators__n_estimators=22;, score=0.822 total time=  26.6s\n",
      "[CV 2/5; 18/100] START estimators__bootstrap=False, estimators__max_depth=8, estimators__max_features=sqrt, estimators__max_leaf_nodes=36, estimators__n_estimators=31\n",
      "[CV 4/5; 17/100] END estimators__bootstrap=False, estimators__max_depth=7, estimators__max_features=None, estimators__max_leaf_nodes=17, estimators__n_estimators=22;, score=0.832 total time=  26.8s\n",
      "[CV 3/5; 18/100] START estimators__bootstrap=False, estimators__max_depth=8, estimators__max_features=sqrt, estimators__max_leaf_nodes=36, estimators__n_estimators=31\n",
      "[CV 5/5; 17/100] END estimators__bootstrap=False, estimators__max_depth=7, estimators__max_features=None, estimators__max_leaf_nodes=17, estimators__n_estimators=22;, score=0.819 total time=  26.9s\n",
      "[CV 4/5; 18/100] START estimators__bootstrap=False, estimators__max_depth=8, estimators__max_features=sqrt, estimators__max_leaf_nodes=36, estimators__n_estimators=31\n",
      "[CV 1/5; 18/100] END estimators__bootstrap=False, estimators__max_depth=8, estimators__max_features=sqrt, estimators__max_leaf_nodes=36, estimators__n_estimators=31;, score=0.847 total time=  24.2s\n",
      "[CV 5/5; 18/100] START estimators__bootstrap=False, estimators__max_depth=8, estimators__max_features=sqrt, estimators__max_leaf_nodes=36, estimators__n_estimators=31\n",
      "[CV 2/5; 18/100] END estimators__bootstrap=False, estimators__max_depth=8, estimators__max_features=sqrt, estimators__max_leaf_nodes=36, estimators__n_estimators=31;, score=0.852 total time=  24.2s\n",
      "[CV 1/5; 19/100] START estimators__bootstrap=False, estimators__max_depth=13, estimators__max_features=sqrt, estimators__max_leaf_nodes=28, estimators__n_estimators=47\n",
      "[CV 3/5; 18/100] END estimators__bootstrap=False, estimators__max_depth=8, estimators__max_features=sqrt, estimators__max_leaf_nodes=36, estimators__n_estimators=31;, score=0.852 total time=  24.0s\n",
      "[CV 2/5; 19/100] START estimators__bootstrap=False, estimators__max_depth=13, estimators__max_features=sqrt, estimators__max_leaf_nodes=28, estimators__n_estimators=47\n",
      "[CV 4/5; 18/100] END estimators__bootstrap=False, estimators__max_depth=8, estimators__max_features=sqrt, estimators__max_leaf_nodes=36, estimators__n_estimators=31;, score=0.855 total time=  23.7s\n",
      "[CV 3/5; 19/100] START estimators__bootstrap=False, estimators__max_depth=13, estimators__max_features=sqrt, estimators__max_leaf_nodes=28, estimators__n_estimators=47\n",
      "[CV 5/5; 18/100] END estimators__bootstrap=False, estimators__max_depth=8, estimators__max_features=sqrt, estimators__max_leaf_nodes=36, estimators__n_estimators=31;, score=0.837 total time=  24.0s\n",
      "[CV 4/5; 19/100] START estimators__bootstrap=False, estimators__max_depth=13, estimators__max_features=sqrt, estimators__max_leaf_nodes=28, estimators__n_estimators=47\n",
      "[CV 1/5; 19/100] END estimators__bootstrap=False, estimators__max_depth=13, estimators__max_features=sqrt, estimators__max_leaf_nodes=28, estimators__n_estimators=47;, score=0.841 total time=  24.9s\n",
      "[CV 5/5; 19/100] START estimators__bootstrap=False, estimators__max_depth=13, estimators__max_features=sqrt, estimators__max_leaf_nodes=28, estimators__n_estimators=47\n",
      "[CV 2/5; 19/100] END estimators__bootstrap=False, estimators__max_depth=13, estimators__max_features=sqrt, estimators__max_leaf_nodes=28, estimators__n_estimators=47;, score=0.849 total time=  24.9s\n",
      "[CV 1/5; 20/100] START estimators__bootstrap=True, estimators__max_depth=16, estimators__max_features=auto, estimators__max_leaf_nodes=48, estimators__n_estimators=67\n",
      "[CV 3/5; 19/100] END estimators__bootstrap=False, estimators__max_depth=13, estimators__max_features=sqrt, estimators__max_leaf_nodes=28, estimators__n_estimators=47;, score=0.854 total time=  26.0s\n",
      "[CV 2/5; 20/100] START estimators__bootstrap=True, estimators__max_depth=16, estimators__max_features=auto, estimators__max_leaf_nodes=48, estimators__n_estimators=67\n",
      "[CV 4/5; 19/100] END estimators__bootstrap=False, estimators__max_depth=13, estimators__max_features=sqrt, estimators__max_leaf_nodes=28, estimators__n_estimators=47;, score=0.854 total time=  26.8s\n",
      "[CV 3/5; 20/100] START estimators__bootstrap=True, estimators__max_depth=16, estimators__max_features=auto, estimators__max_leaf_nodes=48, estimators__n_estimators=67\n",
      "[CV 5/5; 19/100] END estimators__bootstrap=False, estimators__max_depth=13, estimators__max_features=sqrt, estimators__max_leaf_nodes=28, estimators__n_estimators=47;, score=0.834 total time=  25.2s\n",
      "[CV 4/5; 20/100] START estimators__bootstrap=True, estimators__max_depth=16, estimators__max_features=auto, estimators__max_leaf_nodes=48, estimators__n_estimators=67\n",
      "[CV 1/5; 20/100] END estimators__bootstrap=True, estimators__max_depth=16, estimators__max_features=auto, estimators__max_leaf_nodes=48, estimators__n_estimators=67;, score=0.845 total time=  25.8s\n",
      "[CV 5/5; 20/100] START estimators__bootstrap=True, estimators__max_depth=16, estimators__max_features=auto, estimators__max_leaf_nodes=48, estimators__n_estimators=67\n",
      "[CV 2/5; 20/100] END estimators__bootstrap=True, estimators__max_depth=16, estimators__max_features=auto, estimators__max_leaf_nodes=48, estimators__n_estimators=67;, score=0.854 total time=30.4min\n",
      "[CV 1/5; 21/100] START estimators__bootstrap=True, estimators__max_depth=None, estimators__max_features=0.7, estimators__max_leaf_nodes=40, estimators__n_estimators=40\n",
      "[CV 3/5; 20/100] END estimators__bootstrap=True, estimators__max_depth=16, estimators__max_features=auto, estimators__max_leaf_nodes=48, estimators__n_estimators=67;, score=0.860 total time=30.5min\n",
      "[CV 2/5; 21/100] START estimators__bootstrap=True, estimators__max_depth=None, estimators__max_features=0.7, estimators__max_leaf_nodes=40, estimators__n_estimators=40\n",
      "[CV 4/5; 20/100] END estimators__bootstrap=True, estimators__max_depth=16, estimators__max_features=auto, estimators__max_leaf_nodes=48, estimators__n_estimators=67;, score=0.857 total time=30.6min\n",
      "[CV 3/5; 21/100] START estimators__bootstrap=True, estimators__max_depth=None, estimators__max_features=0.7, estimators__max_leaf_nodes=40, estimators__n_estimators=40\n",
      "[CV 5/5; 20/100] END estimators__bootstrap=True, estimators__max_depth=16, estimators__max_features=auto, estimators__max_leaf_nodes=48, estimators__n_estimators=67;, score=0.841 total time=30.6min\n",
      "[CV 4/5; 21/100] START estimators__bootstrap=True, estimators__max_depth=None, estimators__max_features=0.7, estimators__max_leaf_nodes=40, estimators__n_estimators=40\n",
      "[CV 1/5; 21/100] END estimators__bootstrap=True, estimators__max_depth=None, estimators__max_features=0.7, estimators__max_leaf_nodes=40, estimators__n_estimators=40;, score=0.845 total time=  40.2s\n",
      "[CV 5/5; 21/100] START estimators__bootstrap=True, estimators__max_depth=None, estimators__max_features=0.7, estimators__max_leaf_nodes=40, estimators__n_estimators=40\n",
      "[CV 2/5; 21/100] END estimators__bootstrap=True, estimators__max_depth=None, estimators__max_features=0.7, estimators__max_leaf_nodes=40, estimators__n_estimators=40;, score=0.855 total time=  27.7s\n",
      "[CV 1/5; 22/100] START estimators__bootstrap=True, estimators__max_depth=15, estimators__max_features=0.7999999999999999, estimators__max_leaf_nodes=16, estimators__n_estimators=80\n",
      "[CV 3/5; 21/100] END estimators__bootstrap=True, estimators__max_depth=None, estimators__max_features=0.7, estimators__max_leaf_nodes=40, estimators__n_estimators=40;, score=0.849 total time=  27.1s\n",
      "[CV 2/5; 22/100] START estimators__bootstrap=True, estimators__max_depth=15, estimators__max_features=0.7999999999999999, estimators__max_leaf_nodes=16, estimators__n_estimators=80\n",
      "[CV 4/5; 21/100] END estimators__bootstrap=True, estimators__max_depth=None, estimators__max_features=0.7, estimators__max_leaf_nodes=40, estimators__n_estimators=40;, score=0.854 total time=  27.3s\n",
      "[CV 3/5; 22/100] START estimators__bootstrap=True, estimators__max_depth=15, estimators__max_features=0.7999999999999999, estimators__max_leaf_nodes=16, estimators__n_estimators=80\n",
      "[CV 5/5; 21/100] END estimators__bootstrap=True, estimators__max_depth=None, estimators__max_features=0.7, estimators__max_leaf_nodes=40, estimators__n_estimators=40;, score=0.839 total time=  27.6s\n",
      "[CV 4/5; 22/100] START estimators__bootstrap=True, estimators__max_depth=15, estimators__max_features=0.7999999999999999, estimators__max_leaf_nodes=16, estimators__n_estimators=80\n",
      "[CV 1/5; 22/100] END estimators__bootstrap=True, estimators__max_depth=15, estimators__max_features=0.7999999999999999, estimators__max_leaf_nodes=16, estimators__n_estimators=80;, score=0.834 total time=  31.1s\n",
      "[CV 5/5; 22/100] START estimators__bootstrap=True, estimators__max_depth=15, estimators__max_features=0.7999999999999999, estimators__max_leaf_nodes=16, estimators__n_estimators=80\n",
      "[CV 2/5; 22/100] END estimators__bootstrap=True, estimators__max_depth=15, estimators__max_features=0.7999999999999999, estimators__max_leaf_nodes=16, estimators__n_estimators=80;, score=0.841 total time=  32.1s\n",
      "[CV 1/5; 23/100] START estimators__bootstrap=True, estimators__max_depth=6, estimators__max_features=sqrt, estimators__max_leaf_nodes=21, estimators__n_estimators=91\n",
      "[CV 3/5; 22/100] END estimators__bootstrap=True, estimators__max_depth=15, estimators__max_features=0.7999999999999999, estimators__max_leaf_nodes=16, estimators__n_estimators=80;, score=0.836 total time=  32.7s\n",
      "[CV 2/5; 23/100] START estimators__bootstrap=True, estimators__max_depth=6, estimators__max_features=sqrt, estimators__max_leaf_nodes=21, estimators__n_estimators=91\n",
      "[CV 4/5; 22/100] END estimators__bootstrap=True, estimators__max_depth=15, estimators__max_features=0.7999999999999999, estimators__max_leaf_nodes=16, estimators__n_estimators=80;, score=0.844 total time=  33.6s\n",
      "[CV 3/5; 23/100] START estimators__bootstrap=True, estimators__max_depth=6, estimators__max_features=sqrt, estimators__max_leaf_nodes=21, estimators__n_estimators=91\n",
      "[CV 5/5; 22/100] END estimators__bootstrap=True, estimators__max_depth=15, estimators__max_features=0.7999999999999999, estimators__max_leaf_nodes=16, estimators__n_estimators=80;, score=0.829 total time=  34.7s\n",
      "[CV 4/5; 23/100] START estimators__bootstrap=True, estimators__max_depth=6, estimators__max_features=sqrt, estimators__max_leaf_nodes=21, estimators__n_estimators=91\n",
      "[CV 1/5; 23/100] END estimators__bootstrap=True, estimators__max_depth=6, estimators__max_features=sqrt, estimators__max_leaf_nodes=21, estimators__n_estimators=91;, score=0.841 total time=  29.5s\n",
      "[CV 5/5; 23/100] START estimators__bootstrap=True, estimators__max_depth=6, estimators__max_features=sqrt, estimators__max_leaf_nodes=21, estimators__n_estimators=91\n",
      "[CV 2/5; 23/100] END estimators__bootstrap=True, estimators__max_depth=6, estimators__max_features=sqrt, estimators__max_leaf_nodes=21, estimators__n_estimators=91;, score=0.849 total time=  29.2s\n",
      "[CV 1/5; 24/100] START estimators__bootstrap=True, estimators__max_depth=18, estimators__max_features=None, estimators__max_leaf_nodes=14, estimators__n_estimators=71\n",
      "[CV 3/5; 23/100] END estimators__bootstrap=True, estimators__max_depth=6, estimators__max_features=sqrt, estimators__max_leaf_nodes=21, estimators__n_estimators=91;, score=0.852 total time=  30.4s\n",
      "[CV 2/5; 24/100] START estimators__bootstrap=True, estimators__max_depth=18, estimators__max_features=None, estimators__max_leaf_nodes=14, estimators__n_estimators=71\n",
      "[CV 4/5; 23/100] END estimators__bootstrap=True, estimators__max_depth=6, estimators__max_features=sqrt, estimators__max_leaf_nodes=21, estimators__n_estimators=91;, score=0.852 total time=  30.2s\n",
      "[CV 3/5; 24/100] START estimators__bootstrap=True, estimators__max_depth=18, estimators__max_features=None, estimators__max_leaf_nodes=14, estimators__n_estimators=71\n",
      "[CV 5/5; 23/100] END estimators__bootstrap=True, estimators__max_depth=6, estimators__max_features=sqrt, estimators__max_leaf_nodes=21, estimators__n_estimators=91;, score=0.837 total time=  30.7s\n",
      "[CV 4/5; 24/100] START estimators__bootstrap=True, estimators__max_depth=18, estimators__max_features=None, estimators__max_leaf_nodes=14, estimators__n_estimators=71\n",
      "[CV 1/5; 24/100] END estimators__bootstrap=True, estimators__max_depth=18, estimators__max_features=None, estimators__max_leaf_nodes=14, estimators__n_estimators=71;, score=0.829 total time=  37.1s\n",
      "[CV 5/5; 24/100] START estimators__bootstrap=True, estimators__max_depth=18, estimators__max_features=None, estimators__max_leaf_nodes=14, estimators__n_estimators=71\n",
      "[CV 2/5; 24/100] END estimators__bootstrap=True, estimators__max_depth=18, estimators__max_features=None, estimators__max_leaf_nodes=14, estimators__n_estimators=71;, score=0.832 total time=  38.3s\n",
      "[CV 1/5; 25/100] START estimators__bootstrap=False, estimators__max_depth=10, estimators__max_features=auto, estimators__max_leaf_nodes=11, estimators__n_estimators=13\n",
      "[CV 3/5; 24/100] END estimators__bootstrap=True, estimators__max_depth=18, estimators__max_features=None, estimators__max_leaf_nodes=14, estimators__n_estimators=71;, score=0.832 total time=  39.1s\n",
      "[CV 2/5; 25/100] START estimators__bootstrap=False, estimators__max_depth=10, estimators__max_features=auto, estimators__max_leaf_nodes=11, estimators__n_estimators=13\n",
      "[CV 4/5; 24/100] END estimators__bootstrap=True, estimators__max_depth=18, estimators__max_features=None, estimators__max_leaf_nodes=14, estimators__n_estimators=71;, score=0.838 total time=  38.8s\n",
      "[CV 3/5; 25/100] START estimators__bootstrap=False, estimators__max_depth=10, estimators__max_features=auto, estimators__max_leaf_nodes=11, estimators__n_estimators=13\n",
      "[CV 5/5; 24/100] END estimators__bootstrap=True, estimators__max_depth=18, estimators__max_features=None, estimators__max_leaf_nodes=14, estimators__n_estimators=71;, score=0.828 total time=  39.8s\n",
      "[CV 4/5; 25/100] START estimators__bootstrap=False, estimators__max_depth=10, estimators__max_features=auto, estimators__max_leaf_nodes=11, estimators__n_estimators=13\n",
      "[CV 1/5; 25/100] END estimators__bootstrap=False, estimators__max_depth=10, estimators__max_features=auto, estimators__max_leaf_nodes=11, estimators__n_estimators=13;, score=0.831 total time=  31.4s\n",
      "[CV 5/5; 25/100] START estimators__bootstrap=False, estimators__max_depth=10, estimators__max_features=auto, estimators__max_leaf_nodes=11, estimators__n_estimators=13\n",
      "[CV 2/5; 25/100] END estimators__bootstrap=False, estimators__max_depth=10, estimators__max_features=auto, estimators__max_leaf_nodes=11, estimators__n_estimators=13;, score=0.842 total time=  33.3s\n",
      "[CV 1/5; 26/100] START estimators__bootstrap=True, estimators__max_depth=16, estimators__max_features=0.8999999999999999, estimators__max_leaf_nodes=22, estimators__n_estimators=43\n",
      "[CV 3/5; 25/100] END estimators__bootstrap=False, estimators__max_depth=10, estimators__max_features=auto, estimators__max_leaf_nodes=11, estimators__n_estimators=13;, score=0.841 total time=  34.1s\n",
      "[CV 2/5; 26/100] START estimators__bootstrap=True, estimators__max_depth=16, estimators__max_features=0.8999999999999999, estimators__max_leaf_nodes=22, estimators__n_estimators=43\n",
      "[CV 4/5; 25/100] END estimators__bootstrap=False, estimators__max_depth=10, estimators__max_features=auto, estimators__max_leaf_nodes=11, estimators__n_estimators=13;, score=0.838 total time=  34.1s\n",
      "[CV 3/5; 26/100] START estimators__bootstrap=True, estimators__max_depth=16, estimators__max_features=0.8999999999999999, estimators__max_leaf_nodes=22, estimators__n_estimators=43\n",
      "[CV 5/5; 25/100] END estimators__bootstrap=False, estimators__max_depth=10, estimators__max_features=auto, estimators__max_leaf_nodes=11, estimators__n_estimators=13;, score=0.829 total time=  34.0s\n",
      "[CV 4/5; 26/100] START estimators__bootstrap=True, estimators__max_depth=16, estimators__max_features=0.8999999999999999, estimators__max_leaf_nodes=22, estimators__n_estimators=43\n",
      "[CV 1/5; 26/100] END estimators__bootstrap=True, estimators__max_depth=16, estimators__max_features=0.8999999999999999, estimators__max_leaf_nodes=22, estimators__n_estimators=43;, score=0.838 total time=  40.4s\n",
      "[CV 5/5; 26/100] START estimators__bootstrap=True, estimators__max_depth=16, estimators__max_features=0.8999999999999999, estimators__max_leaf_nodes=22, estimators__n_estimators=43\n",
      "[CV 2/5; 26/100] END estimators__bootstrap=True, estimators__max_depth=16, estimators__max_features=0.8999999999999999, estimators__max_leaf_nodes=22, estimators__n_estimators=43;, score=0.843 total time=  40.0s\n",
      "[CV 1/5; 27/100] START estimators__bootstrap=False, estimators__max_depth=9, estimators__max_features=0.7999999999999999, estimators__max_leaf_nodes=31, estimators__n_estimators=24\n",
      "[CV 3/5; 26/100] END estimators__bootstrap=True, estimators__max_depth=16, estimators__max_features=0.8999999999999999, estimators__max_leaf_nodes=22, estimators__n_estimators=43;, score=0.841 total time=120.6min\n",
      "[CV 2/5; 27/100] START estimators__bootstrap=False, estimators__max_depth=9, estimators__max_features=0.7999999999999999, estimators__max_leaf_nodes=31, estimators__n_estimators=24\n",
      "[CV 4/5; 26/100] END estimators__bootstrap=True, estimators__max_depth=16, estimators__max_features=0.8999999999999999, estimators__max_leaf_nodes=22, estimators__n_estimators=43;, score=0.849 total time=120.6min\n",
      "[CV 3/5; 27/100] START estimators__bootstrap=False, estimators__max_depth=9, estimators__max_features=0.7999999999999999, estimators__max_leaf_nodes=31, estimators__n_estimators=24\n",
      "[CV 5/5; 26/100] END estimators__bootstrap=True, estimators__max_depth=16, estimators__max_features=0.8999999999999999, estimators__max_leaf_nodes=22, estimators__n_estimators=43;, score=0.835 total time=120.6min\n",
      "[CV 4/5; 27/100] START estimators__bootstrap=False, estimators__max_depth=9, estimators__max_features=0.7999999999999999, estimators__max_leaf_nodes=31, estimators__n_estimators=24\n",
      "[CV 1/5; 27/100] END estimators__bootstrap=False, estimators__max_depth=9, estimators__max_features=0.7999999999999999, estimators__max_leaf_nodes=31, estimators__n_estimators=24;, score=0.835 total time=120.6min\n",
      "[CV 5/5; 27/100] START estimators__bootstrap=False, estimators__max_depth=9, estimators__max_features=0.7999999999999999, estimators__max_leaf_nodes=31, estimators__n_estimators=24\n",
      "[CV 2/5; 27/100] END estimators__bootstrap=False, estimators__max_depth=9, estimators__max_features=0.7999999999999999, estimators__max_leaf_nodes=31, estimators__n_estimators=24;, score=0.845 total time=  35.5s\n",
      "[CV 1/5; 28/100] START estimators__bootstrap=False, estimators__max_depth=19, estimators__max_features=0.8999999999999999, estimators__max_leaf_nodes=24, estimators__n_estimators=71\n",
      "[CV 3/5; 27/100] END estimators__bootstrap=False, estimators__max_depth=9, estimators__max_features=0.7999999999999999, estimators__max_leaf_nodes=31, estimators__n_estimators=24;, score=0.840 total time=  33.9s\n",
      "[CV 2/5; 28/100] START estimators__bootstrap=False, estimators__max_depth=19, estimators__max_features=0.8999999999999999, estimators__max_leaf_nodes=24, estimators__n_estimators=71\n",
      "[CV 4/5; 27/100] END estimators__bootstrap=False, estimators__max_depth=9, estimators__max_features=0.7999999999999999, estimators__max_leaf_nodes=31, estimators__n_estimators=24;, score=0.849 total time=66.2min\n",
      "[CV 3/5; 28/100] START estimators__bootstrap=False, estimators__max_depth=19, estimators__max_features=0.8999999999999999, estimators__max_leaf_nodes=24, estimators__n_estimators=71\n",
      "[CV 5/5; 27/100] END estimators__bootstrap=False, estimators__max_depth=9, estimators__max_features=0.7999999999999999, estimators__max_leaf_nodes=31, estimators__n_estimators=24;, score=0.834 total time=66.2min\n",
      "[CV 4/5; 28/100] START estimators__bootstrap=False, estimators__max_depth=19, estimators__max_features=0.8999999999999999, estimators__max_leaf_nodes=24, estimators__n_estimators=71\n",
      "[CV 1/5; 28/100] END estimators__bootstrap=False, estimators__max_depth=19, estimators__max_features=0.8999999999999999, estimators__max_leaf_nodes=24, estimators__n_estimators=71;, score=0.832 total time=66.5min\n",
      "[CV 5/5; 28/100] START estimators__bootstrap=False, estimators__max_depth=19, estimators__max_features=0.8999999999999999, estimators__max_leaf_nodes=24, estimators__n_estimators=71\n",
      "[CV 2/5; 28/100] END estimators__bootstrap=False, estimators__max_depth=19, estimators__max_features=0.8999999999999999, estimators__max_leaf_nodes=24, estimators__n_estimators=71;, score=0.837 total time=66.5min\n",
      "[CV 1/5; 29/100] START estimators__bootstrap=True, estimators__max_depth=3, estimators__max_features=0.7999999999999999, estimators__max_leaf_nodes=13, estimators__n_estimators=74\n",
      "[CV 3/5; 28/100] END estimators__bootstrap=False, estimators__max_depth=19, estimators__max_features=0.8999999999999999, estimators__max_leaf_nodes=24, estimators__n_estimators=71;, score=0.833 total time=120.6min\n",
      "[CV 2/5; 29/100] START estimators__bootstrap=True, estimators__max_depth=3, estimators__max_features=0.7999999999999999, estimators__max_leaf_nodes=13, estimators__n_estimators=74\n",
      "[CV 4/5; 28/100] END estimators__bootstrap=False, estimators__max_depth=19, estimators__max_features=0.8999999999999999, estimators__max_leaf_nodes=24, estimators__n_estimators=71;, score=0.843 total time=120.6min\n",
      "[CV 3/5; 29/100] START estimators__bootstrap=True, estimators__max_depth=3, estimators__max_features=0.7999999999999999, estimators__max_leaf_nodes=13, estimators__n_estimators=74\n",
      "[CV 1/5; 29/100] END estimators__bootstrap=True, estimators__max_depth=3, estimators__max_features=0.7999999999999999, estimators__max_leaf_nodes=13, estimators__n_estimators=74;, score=0.821 total time=120.5min\n",
      "[CV 4/5; 29/100] START estimators__bootstrap=True, estimators__max_depth=3, estimators__max_features=0.7999999999999999, estimators__max_leaf_nodes=13, estimators__n_estimators=74\n",
      "[CV 5/5; 28/100] END estimators__bootstrap=False, estimators__max_depth=19, estimators__max_features=0.8999999999999999, estimators__max_leaf_nodes=24, estimators__n_estimators=71;, score=0.832 total time=120.6min\n",
      "[CV 5/5; 29/100] START estimators__bootstrap=True, estimators__max_depth=3, estimators__max_features=0.7999999999999999, estimators__max_leaf_nodes=13, estimators__n_estimators=74\n",
      "[CV 2/5; 29/100] END estimators__bootstrap=True, estimators__max_depth=3, estimators__max_features=0.7999999999999999, estimators__max_leaf_nodes=13, estimators__n_estimators=74;, score=0.828 total time=  36.8s\n",
      "[CV 1/5; 30/100] START estimators__bootstrap=True, estimators__max_depth=6, estimators__max_features=0.7, estimators__max_leaf_nodes=24, estimators__n_estimators=67\n",
      "[CV 3/5; 29/100] END estimators__bootstrap=True, estimators__max_depth=3, estimators__max_features=0.7999999999999999, estimators__max_leaf_nodes=13, estimators__n_estimators=74;, score=0.817 total time=  37.1s\n",
      "[CV 2/5; 30/100] START estimators__bootstrap=True, estimators__max_depth=6, estimators__max_features=0.7, estimators__max_leaf_nodes=24, estimators__n_estimators=67\n",
      "[CV 4/5; 29/100] END estimators__bootstrap=True, estimators__max_depth=3, estimators__max_features=0.7999999999999999, estimators__max_leaf_nodes=13, estimators__n_estimators=74;, score=0.834 total time=  26.1s\n",
      "[CV 3/5; 30/100] START estimators__bootstrap=True, estimators__max_depth=6, estimators__max_features=0.7, estimators__max_leaf_nodes=24, estimators__n_estimators=67\n",
      "[CV 5/5; 29/100] END estimators__bootstrap=True, estimators__max_depth=3, estimators__max_features=0.7999999999999999, estimators__max_leaf_nodes=13, estimators__n_estimators=74;, score=0.822 total time=120.4min\n",
      "[CV 4/5; 30/100] START estimators__bootstrap=True, estimators__max_depth=6, estimators__max_features=0.7, estimators__max_leaf_nodes=24, estimators__n_estimators=67\n",
      "[CV 1/5; 30/100] END estimators__bootstrap=True, estimators__max_depth=6, estimators__max_features=0.7, estimators__max_leaf_nodes=24, estimators__n_estimators=67;, score=0.840 total time=120.6min\n",
      "[CV 5/5; 30/100] START estimators__bootstrap=True, estimators__max_depth=6, estimators__max_features=0.7, estimators__max_leaf_nodes=24, estimators__n_estimators=67\n",
      "[CV 2/5; 30/100] END estimators__bootstrap=True, estimators__max_depth=6, estimators__max_features=0.7, estimators__max_leaf_nodes=24, estimators__n_estimators=67;, score=0.850 total time=120.6min\n",
      "[CV 1/5; 31/100] START estimators__bootstrap=True, estimators__max_depth=16, estimators__max_features=0.6, estimators__max_leaf_nodes=18, estimators__n_estimators=12\n",
      "[CV 3/5; 30/100] END estimators__bootstrap=True, estimators__max_depth=6, estimators__max_features=0.7, estimators__max_leaf_nodes=24, estimators__n_estimators=67;, score=0.848 total time=120.6min\n",
      "[CV 2/5; 31/100] START estimators__bootstrap=True, estimators__max_depth=16, estimators__max_features=0.6, estimators__max_leaf_nodes=18, estimators__n_estimators=12\n",
      "[CV 4/5; 30/100] END estimators__bootstrap=True, estimators__max_depth=6, estimators__max_features=0.7, estimators__max_leaf_nodes=24, estimators__n_estimators=67;, score=0.851 total time=  37.7s\n",
      "[CV 3/5; 31/100] START estimators__bootstrap=True, estimators__max_depth=16, estimators__max_features=0.6, estimators__max_leaf_nodes=18, estimators__n_estimators=12\n",
      "[CV 1/5; 31/100] END estimators__bootstrap=True, estimators__max_depth=16, estimators__max_features=0.6, estimators__max_leaf_nodes=18, estimators__n_estimators=12;, score=0.833 total time=  24.0s\n",
      "[CV 4/5; 31/100] START estimators__bootstrap=True, estimators__max_depth=16, estimators__max_features=0.6, estimators__max_leaf_nodes=18, estimators__n_estimators=12\n",
      "[CV 5/5; 30/100] END estimators__bootstrap=True, estimators__max_depth=6, estimators__max_features=0.7, estimators__max_leaf_nodes=24, estimators__n_estimators=67;, score=0.836 total time=  30.1s\n",
      "[CV 5/5; 31/100] START estimators__bootstrap=True, estimators__max_depth=16, estimators__max_features=0.6, estimators__max_leaf_nodes=18, estimators__n_estimators=12\n",
      "[CV 2/5; 31/100] END estimators__bootstrap=True, estimators__max_depth=16, estimators__max_features=0.6, estimators__max_leaf_nodes=18, estimators__n_estimators=12;, score=0.842 total time=30.0min\n",
      "[CV 1/5; 32/100] START estimators__bootstrap=False, estimators__max_depth=18, estimators__max_features=0.5, estimators__max_leaf_nodes=24, estimators__n_estimators=47\n",
      "[CV 3/5; 31/100] END estimators__bootstrap=True, estimators__max_depth=16, estimators__max_features=0.6, estimators__max_leaf_nodes=18, estimators__n_estimators=12;, score=0.840 total time=30.1min\n",
      "[CV 2/5; 32/100] START estimators__bootstrap=False, estimators__max_depth=18, estimators__max_features=0.5, estimators__max_leaf_nodes=24, estimators__n_estimators=47\n",
      "[CV 4/5; 31/100] END estimators__bootstrap=True, estimators__max_depth=16, estimators__max_features=0.6, estimators__max_leaf_nodes=18, estimators__n_estimators=12;, score=0.845 total time=30.2min\n",
      "[CV 3/5; 32/100] START estimators__bootstrap=False, estimators__max_depth=18, estimators__max_features=0.5, estimators__max_leaf_nodes=24, estimators__n_estimators=47\n",
      "[CV 5/5; 31/100] END estimators__bootstrap=True, estimators__max_depth=16, estimators__max_features=0.6, estimators__max_leaf_nodes=18, estimators__n_estimators=12;, score=0.832 total time=30.3min\n",
      "[CV 4/5; 32/100] START estimators__bootstrap=False, estimators__max_depth=18, estimators__max_features=0.5, estimators__max_leaf_nodes=24, estimators__n_estimators=47\n",
      "[CV 1/5; 32/100] END estimators__bootstrap=False, estimators__max_depth=18, estimators__max_features=0.5, estimators__max_leaf_nodes=24, estimators__n_estimators=47;, score=0.840 total time=  51.0s\n",
      "[CV 5/5; 32/100] START estimators__bootstrap=False, estimators__max_depth=18, estimators__max_features=0.5, estimators__max_leaf_nodes=24, estimators__n_estimators=47\n",
      "[CV 2/5; 32/100] END estimators__bootstrap=False, estimators__max_depth=18, estimators__max_features=0.5, estimators__max_leaf_nodes=24, estimators__n_estimators=47;, score=0.845 total time=  48.5s\n",
      "[CV 1/5; 33/100] START estimators__bootstrap=True, estimators__max_depth=3, estimators__max_features=0.7999999999999999, estimators__max_leaf_nodes=16, estimators__n_estimators=77\n",
      "[CV 3/5; 32/100] END estimators__bootstrap=False, estimators__max_depth=18, estimators__max_features=0.5, estimators__max_leaf_nodes=24, estimators__n_estimators=47;, score=0.844 total time=  49.9s\n",
      "[CV 2/5; 33/100] START estimators__bootstrap=True, estimators__max_depth=3, estimators__max_features=0.7999999999999999, estimators__max_leaf_nodes=16, estimators__n_estimators=77\n",
      "[CV 4/5; 32/100] END estimators__bootstrap=False, estimators__max_depth=18, estimators__max_features=0.5, estimators__max_leaf_nodes=24, estimators__n_estimators=47;, score=0.850 total time=  47.7s\n",
      "[CV 3/5; 33/100] START estimators__bootstrap=True, estimators__max_depth=3, estimators__max_features=0.7999999999999999, estimators__max_leaf_nodes=16, estimators__n_estimators=77\n",
      "[CV 5/5; 32/100] END estimators__bootstrap=False, estimators__max_depth=18, estimators__max_features=0.5, estimators__max_leaf_nodes=24, estimators__n_estimators=47;, score=0.835 total time=  42.9s\n",
      "[CV 4/5; 33/100] START estimators__bootstrap=True, estimators__max_depth=3, estimators__max_features=0.7999999999999999, estimators__max_leaf_nodes=16, estimators__n_estimators=77\n",
      "[CV 1/5; 33/100] END estimators__bootstrap=True, estimators__max_depth=3, estimators__max_features=0.7999999999999999, estimators__max_leaf_nodes=16, estimators__n_estimators=77;, score=0.821 total time=  36.2s\n",
      "[CV 5/5; 33/100] START estimators__bootstrap=True, estimators__max_depth=3, estimators__max_features=0.7999999999999999, estimators__max_leaf_nodes=16, estimators__n_estimators=77\n",
      "[CV 2/5; 33/100] END estimators__bootstrap=True, estimators__max_depth=3, estimators__max_features=0.7999999999999999, estimators__max_leaf_nodes=16, estimators__n_estimators=77;, score=0.829 total time=  28.8s\n",
      "[CV 1/5; 34/100] START estimators__bootstrap=False, estimators__max_depth=12, estimators__max_features=0.7999999999999999, estimators__max_leaf_nodes=27, estimators__n_estimators=52\n",
      "[CV 3/5; 33/100] END estimators__bootstrap=True, estimators__max_depth=3, estimators__max_features=0.7999999999999999, estimators__max_leaf_nodes=16, estimators__n_estimators=77;, score=0.822 total time=  28.5s\n",
      "[CV 2/5; 34/100] START estimators__bootstrap=False, estimators__max_depth=12, estimators__max_features=0.7999999999999999, estimators__max_leaf_nodes=27, estimators__n_estimators=52\n",
      "[CV 4/5; 33/100] END estimators__bootstrap=True, estimators__max_depth=3, estimators__max_features=0.7999999999999999, estimators__max_leaf_nodes=16, estimators__n_estimators=77;, score=0.831 total time=  26.4s\n",
      "[CV 3/5; 34/100] START estimators__bootstrap=False, estimators__max_depth=12, estimators__max_features=0.7999999999999999, estimators__max_leaf_nodes=27, estimators__n_estimators=52\n",
      "[CV 5/5; 33/100] END estimators__bootstrap=True, estimators__max_depth=3, estimators__max_features=0.7999999999999999, estimators__max_leaf_nodes=16, estimators__n_estimators=77;, score=0.824 total time=  24.6s\n",
      "[CV 4/5; 34/100] START estimators__bootstrap=False, estimators__max_depth=12, estimators__max_features=0.7999999999999999, estimators__max_leaf_nodes=27, estimators__n_estimators=52\n",
      "[CV 1/5; 34/100] END estimators__bootstrap=False, estimators__max_depth=12, estimators__max_features=0.7999999999999999, estimators__max_leaf_nodes=27, estimators__n_estimators=52;, score=0.835 total time=  27.5s\n",
      "[CV 5/5; 34/100] START estimators__bootstrap=False, estimators__max_depth=12, estimators__max_features=0.7999999999999999, estimators__max_leaf_nodes=27, estimators__n_estimators=52\n",
      "[CV 2/5; 34/100] END estimators__bootstrap=False, estimators__max_depth=12, estimators__max_features=0.7999999999999999, estimators__max_leaf_nodes=27, estimators__n_estimators=52;, score=0.839 total time=  26.6s\n",
      "[CV 1/5; 35/100] START estimators__bootstrap=False, estimators__max_depth=11, estimators__max_features=0.7, estimators__max_leaf_nodes=26, estimators__n_estimators=71\n",
      "[CV 3/5; 34/100] END estimators__bootstrap=False, estimators__max_depth=12, estimators__max_features=0.7999999999999999, estimators__max_leaf_nodes=27, estimators__n_estimators=52;, score=0.839 total time=  26.2s\n",
      "[CV 2/5; 35/100] START estimators__bootstrap=False, estimators__max_depth=11, estimators__max_features=0.7, estimators__max_leaf_nodes=26, estimators__n_estimators=71\n",
      "[CV 4/5; 34/100] END estimators__bootstrap=False, estimators__max_depth=12, estimators__max_features=0.7999999999999999, estimators__max_leaf_nodes=27, estimators__n_estimators=52;, score=0.849 total time=  26.5s\n",
      "[CV 3/5; 35/100] START estimators__bootstrap=False, estimators__max_depth=11, estimators__max_features=0.7, estimators__max_leaf_nodes=26, estimators__n_estimators=71\n",
      "[CV 5/5; 34/100] END estimators__bootstrap=False, estimators__max_depth=12, estimators__max_features=0.7999999999999999, estimators__max_leaf_nodes=27, estimators__n_estimators=52;, score=0.834 total time=  29.4s\n",
      "[CV 4/5; 35/100] START estimators__bootstrap=False, estimators__max_depth=11, estimators__max_features=0.7, estimators__max_leaf_nodes=26, estimators__n_estimators=71\n",
      "[CV 1/5; 35/100] END estimators__bootstrap=False, estimators__max_depth=11, estimators__max_features=0.7, estimators__max_leaf_nodes=26, estimators__n_estimators=71;, score=0.838 total time=  32.7s\n",
      "[CV 5/5; 35/100] START estimators__bootstrap=False, estimators__max_depth=11, estimators__max_features=0.7, estimators__max_leaf_nodes=26, estimators__n_estimators=71\n",
      "[CV 2/5; 35/100] END estimators__bootstrap=False, estimators__max_depth=11, estimators__max_features=0.7, estimators__max_leaf_nodes=26, estimators__n_estimators=71;, score=0.846 total time=  33.6s\n",
      "[CV 1/5; 36/100] START estimators__bootstrap=False, estimators__max_depth=7, estimators__max_features=0.8999999999999999, estimators__max_leaf_nodes=28, estimators__n_estimators=66\n",
      "[CV 3/5; 35/100] END estimators__bootstrap=False, estimators__max_depth=11, estimators__max_features=0.7, estimators__max_leaf_nodes=26, estimators__n_estimators=71;, score=0.843 total time=  33.6s\n",
      "[CV 2/5; 36/100] START estimators__bootstrap=False, estimators__max_depth=7, estimators__max_features=0.8999999999999999, estimators__max_leaf_nodes=28, estimators__n_estimators=66\n",
      "[CV 4/5; 35/100] END estimators__bootstrap=False, estimators__max_depth=11, estimators__max_features=0.7, estimators__max_leaf_nodes=26, estimators__n_estimators=71;, score=0.849 total time=  30.5s\n",
      "[CV 3/5; 36/100] START estimators__bootstrap=False, estimators__max_depth=7, estimators__max_features=0.8999999999999999, estimators__max_leaf_nodes=28, estimators__n_estimators=66\n",
      "[CV 5/5; 35/100] END estimators__bootstrap=False, estimators__max_depth=11, estimators__max_features=0.7, estimators__max_leaf_nodes=26, estimators__n_estimators=71;, score=0.836 total time=  28.5s\n",
      "[CV 4/5; 36/100] START estimators__bootstrap=False, estimators__max_depth=7, estimators__max_features=0.8999999999999999, estimators__max_leaf_nodes=28, estimators__n_estimators=66\n",
      "[CV 1/5; 36/100] END estimators__bootstrap=False, estimators__max_depth=7, estimators__max_features=0.8999999999999999, estimators__max_leaf_nodes=28, estimators__n_estimators=66;, score=0.834 total time=  29.1s\n",
      "[CV 5/5; 36/100] START estimators__bootstrap=False, estimators__max_depth=7, estimators__max_features=0.8999999999999999, estimators__max_leaf_nodes=28, estimators__n_estimators=66\n",
      "[CV 2/5; 36/100] END estimators__bootstrap=False, estimators__max_depth=7, estimators__max_features=0.8999999999999999, estimators__max_leaf_nodes=28, estimators__n_estimators=66;, score=0.842 total time=  29.0s\n",
      "[CV 1/5; 37/100] START estimators__bootstrap=False, estimators__max_depth=14, estimators__max_features=auto, estimators__max_leaf_nodes=32, estimators__n_estimators=57\n",
      "[CV 3/5; 36/100] END estimators__bootstrap=False, estimators__max_depth=7, estimators__max_features=0.8999999999999999, estimators__max_leaf_nodes=28, estimators__n_estimators=66;, score=0.840 total time=  29.8s\n",
      "[CV 2/5; 37/100] START estimators__bootstrap=False, estimators__max_depth=14, estimators__max_features=auto, estimators__max_leaf_nodes=32, estimators__n_estimators=57\n",
      "[CV 4/5; 36/100] END estimators__bootstrap=False, estimators__max_depth=7, estimators__max_features=0.8999999999999999, estimators__max_leaf_nodes=28, estimators__n_estimators=66;, score=0.849 total time=  30.2s\n",
      "[CV 3/5; 37/100] START estimators__bootstrap=False, estimators__max_depth=14, estimators__max_features=auto, estimators__max_leaf_nodes=32, estimators__n_estimators=57\n",
      "[CV 1/5; 37/100] END estimators__bootstrap=False, estimators__max_depth=14, estimators__max_features=auto, estimators__max_leaf_nodes=32, estimators__n_estimators=57;, score=0.841 total time=  22.1s\n",
      "[CV 4/5; 37/100] START estimators__bootstrap=False, estimators__max_depth=14, estimators__max_features=auto, estimators__max_leaf_nodes=32, estimators__n_estimators=57\n",
      "[CV 5/5; 36/100] END estimators__bootstrap=False, estimators__max_depth=7, estimators__max_features=0.8999999999999999, estimators__max_leaf_nodes=28, estimators__n_estimators=66;, score=0.833 total time=  31.3s\n",
      "[CV 5/5; 37/100] START estimators__bootstrap=False, estimators__max_depth=14, estimators__max_features=auto, estimators__max_leaf_nodes=32, estimators__n_estimators=57\n",
      "[CV 2/5; 37/100] END estimators__bootstrap=False, estimators__max_depth=14, estimators__max_features=auto, estimators__max_leaf_nodes=32, estimators__n_estimators=57;, score=0.855 total time=  22.3s\n",
      "[CV 1/5; 38/100] START estimators__bootstrap=False, estimators__max_depth=6, estimators__max_features=None, estimators__max_leaf_nodes=45, estimators__n_estimators=51\n",
      "[CV 3/5; 37/100] END estimators__bootstrap=False, estimators__max_depth=14, estimators__max_features=auto, estimators__max_leaf_nodes=32, estimators__n_estimators=57;, score=0.857 total time=  22.2s\n",
      "[CV 2/5; 38/100] START estimators__bootstrap=False, estimators__max_depth=6, estimators__max_features=None, estimators__max_leaf_nodes=45, estimators__n_estimators=51\n",
      "[CV 4/5; 37/100] END estimators__bootstrap=False, estimators__max_depth=14, estimators__max_features=auto, estimators__max_leaf_nodes=32, estimators__n_estimators=57;, score=0.856 total time=  21.6s\n",
      "[CV 3/5; 38/100] START estimators__bootstrap=False, estimators__max_depth=6, estimators__max_features=None, estimators__max_leaf_nodes=45, estimators__n_estimators=51\n",
      "[CV 5/5; 37/100] END estimators__bootstrap=False, estimators__max_depth=14, estimators__max_features=auto, estimators__max_leaf_nodes=32, estimators__n_estimators=57;, score=0.838 total time=  21.2s\n",
      "[CV 4/5; 38/100] START estimators__bootstrap=False, estimators__max_depth=6, estimators__max_features=None, estimators__max_leaf_nodes=45, estimators__n_estimators=51\n",
      "[CV 1/5; 38/100] END estimators__bootstrap=False, estimators__max_depth=6, estimators__max_features=None, estimators__max_leaf_nodes=45, estimators__n_estimators=51;, score=0.825 total time=  27.9s\n",
      "[CV 5/5; 38/100] START estimators__bootstrap=False, estimators__max_depth=6, estimators__max_features=None, estimators__max_leaf_nodes=45, estimators__n_estimators=51\n",
      "[CV 2/5; 38/100] END estimators__bootstrap=False, estimators__max_depth=6, estimators__max_features=None, estimators__max_leaf_nodes=45, estimators__n_estimators=51;, score=0.842 total time=  27.9s\n",
      "[CV 1/5; 39/100] START estimators__bootstrap=False, estimators__max_depth=5, estimators__max_features=0.5, estimators__max_leaf_nodes=19, estimators__n_estimators=14\n",
      "[CV 3/5; 38/100] END estimators__bootstrap=False, estimators__max_depth=6, estimators__max_features=None, estimators__max_leaf_nodes=45, estimators__n_estimators=51;, score=0.837 total time=  28.4s\n",
      "[CV 2/5; 39/100] START estimators__bootstrap=False, estimators__max_depth=5, estimators__max_features=0.5, estimators__max_leaf_nodes=19, estimators__n_estimators=14\n",
      "[CV 4/5; 38/100] END estimators__bootstrap=False, estimators__max_depth=6, estimators__max_features=None, estimators__max_leaf_nodes=45, estimators__n_estimators=51;, score=0.844 total time=  28.2s\n",
      "[CV 3/5; 39/100] START estimators__bootstrap=False, estimators__max_depth=5, estimators__max_features=0.5, estimators__max_leaf_nodes=19, estimators__n_estimators=14\n",
      "[CV 1/5; 39/100] END estimators__bootstrap=False, estimators__max_depth=5, estimators__max_features=0.5, estimators__max_leaf_nodes=19, estimators__n_estimators=14;, score=0.838 total time=  21.5s\n",
      "[CV 4/5; 39/100] START estimators__bootstrap=False, estimators__max_depth=5, estimators__max_features=0.5, estimators__max_leaf_nodes=19, estimators__n_estimators=14\n",
      "[CV 5/5; 38/100] END estimators__bootstrap=False, estimators__max_depth=6, estimators__max_features=None, estimators__max_leaf_nodes=45, estimators__n_estimators=51;, score=0.830 total time=  28.9s\n",
      "[CV 5/5; 39/100] START estimators__bootstrap=False, estimators__max_depth=5, estimators__max_features=0.5, estimators__max_leaf_nodes=19, estimators__n_estimators=14\n",
      "[CV 2/5; 39/100] END estimators__bootstrap=False, estimators__max_depth=5, estimators__max_features=0.5, estimators__max_leaf_nodes=19, estimators__n_estimators=14;, score=0.844 total time=  21.8s\n",
      "[CV 1/5; 40/100] START estimators__bootstrap=True, estimators__max_depth=15, estimators__max_features=sqrt, estimators__max_leaf_nodes=24, estimators__n_estimators=57\n",
      "[CV 3/5; 39/100] END estimators__bootstrap=False, estimators__max_depth=5, estimators__max_features=0.5, estimators__max_leaf_nodes=19, estimators__n_estimators=14;, score=0.836 total time=  21.7s\n",
      "[CV 2/5; 40/100] START estimators__bootstrap=True, estimators__max_depth=15, estimators__max_features=sqrt, estimators__max_leaf_nodes=24, estimators__n_estimators=57\n",
      "[CV 4/5; 39/100] END estimators__bootstrap=False, estimators__max_depth=5, estimators__max_features=0.5, estimators__max_leaf_nodes=19, estimators__n_estimators=14;, score=0.846 total time=  23.0s\n",
      "[CV 3/5; 40/100] START estimators__bootstrap=True, estimators__max_depth=15, estimators__max_features=sqrt, estimators__max_leaf_nodes=24, estimators__n_estimators=57\n",
      "[CV 5/5; 39/100] END estimators__bootstrap=False, estimators__max_depth=5, estimators__max_features=0.5, estimators__max_leaf_nodes=19, estimators__n_estimators=14;, score=0.831 total time=  23.0s\n",
      "[CV 4/5; 40/100] START estimators__bootstrap=True, estimators__max_depth=15, estimators__max_features=sqrt, estimators__max_leaf_nodes=24, estimators__n_estimators=57\n",
      "[CV 1/5; 40/100] END estimators__bootstrap=True, estimators__max_depth=15, estimators__max_features=sqrt, estimators__max_leaf_nodes=24, estimators__n_estimators=57;, score=0.839 total time=  23.3s\n",
      "[CV 5/5; 40/100] START estimators__bootstrap=True, estimators__max_depth=15, estimators__max_features=sqrt, estimators__max_leaf_nodes=24, estimators__n_estimators=57\n",
      "[CV 2/5; 40/100] END estimators__bootstrap=True, estimators__max_depth=15, estimators__max_features=sqrt, estimators__max_leaf_nodes=24, estimators__n_estimators=57;, score=0.852 total time=  23.6s\n",
      "[CV 1/5; 41/100] START estimators__bootstrap=True, estimators__max_depth=19, estimators__max_features=None, estimators__max_leaf_nodes=23, estimators__n_estimators=36\n",
      "[CV 3/5; 40/100] END estimators__bootstrap=True, estimators__max_depth=15, estimators__max_features=sqrt, estimators__max_leaf_nodes=24, estimators__n_estimators=57;, score=0.853 total time=  21.6s\n",
      "[CV 2/5; 41/100] START estimators__bootstrap=True, estimators__max_depth=19, estimators__max_features=None, estimators__max_leaf_nodes=23, estimators__n_estimators=36\n",
      "[CV 4/5; 40/100] END estimators__bootstrap=True, estimators__max_depth=15, estimators__max_features=sqrt, estimators__max_leaf_nodes=24, estimators__n_estimators=57;, score=0.851 total time=  21.7s\n",
      "[CV 3/5; 41/100] START estimators__bootstrap=True, estimators__max_depth=19, estimators__max_features=None, estimators__max_leaf_nodes=23, estimators__n_estimators=36\n",
      "[CV 5/5; 40/100] END estimators__bootstrap=True, estimators__max_depth=15, estimators__max_features=sqrt, estimators__max_leaf_nodes=24, estimators__n_estimators=57;, score=0.833 total time=  21.9s\n",
      "[CV 4/5; 41/100] START estimators__bootstrap=True, estimators__max_depth=19, estimators__max_features=None, estimators__max_leaf_nodes=23, estimators__n_estimators=36\n",
      "[CV 1/5; 41/100] END estimators__bootstrap=True, estimators__max_depth=19, estimators__max_features=None, estimators__max_leaf_nodes=23, estimators__n_estimators=36;, score=0.837 total time=  24.3s\n",
      "[CV 5/5; 41/100] START estimators__bootstrap=True, estimators__max_depth=19, estimators__max_features=None, estimators__max_leaf_nodes=23, estimators__n_estimators=36\n",
      "[CV 2/5; 41/100] END estimators__bootstrap=True, estimators__max_depth=19, estimators__max_features=None, estimators__max_leaf_nodes=23, estimators__n_estimators=36;, score=0.842 total time=  25.2s\n",
      "[CV 1/5; 42/100] START estimators__bootstrap=True, estimators__max_depth=16, estimators__max_features=None, estimators__max_leaf_nodes=31, estimators__n_estimators=56\n",
      "[CV 3/5; 41/100] END estimators__bootstrap=True, estimators__max_depth=19, estimators__max_features=None, estimators__max_leaf_nodes=23, estimators__n_estimators=36;, score=0.840 total time=  25.3s\n",
      "[CV 2/5; 42/100] START estimators__bootstrap=True, estimators__max_depth=16, estimators__max_features=None, estimators__max_leaf_nodes=31, estimators__n_estimators=56\n",
      "[CV 4/5; 41/100] END estimators__bootstrap=True, estimators__max_depth=19, estimators__max_features=None, estimators__max_leaf_nodes=23, estimators__n_estimators=36;, score=0.848 total time=  25.5s\n",
      "[CV 3/5; 42/100] START estimators__bootstrap=True, estimators__max_depth=16, estimators__max_features=None, estimators__max_leaf_nodes=31, estimators__n_estimators=56\n",
      "[CV 5/5; 41/100] END estimators__bootstrap=True, estimators__max_depth=19, estimators__max_features=None, estimators__max_leaf_nodes=23, estimators__n_estimators=36;, score=0.833 total time=  25.9s\n",
      "[CV 4/5; 42/100] START estimators__bootstrap=True, estimators__max_depth=16, estimators__max_features=None, estimators__max_leaf_nodes=31, estimators__n_estimators=56\n",
      "[CV 1/5; 42/100] END estimators__bootstrap=True, estimators__max_depth=16, estimators__max_features=None, estimators__max_leaf_nodes=31, estimators__n_estimators=56;, score=0.842 total time=  28.6s\n",
      "[CV 5/5; 42/100] START estimators__bootstrap=True, estimators__max_depth=16, estimators__max_features=None, estimators__max_leaf_nodes=31, estimators__n_estimators=56\n",
      "[CV 2/5; 42/100] END estimators__bootstrap=True, estimators__max_depth=16, estimators__max_features=None, estimators__max_leaf_nodes=31, estimators__n_estimators=56;, score=0.849 total time=  28.5s\n",
      "[CV 1/5; 43/100] START estimators__bootstrap=False, estimators__max_depth=13, estimators__max_features=0.7999999999999999, estimators__max_leaf_nodes=13, estimators__n_estimators=55\n",
      "[CV 3/5; 42/100] END estimators__bootstrap=True, estimators__max_depth=16, estimators__max_features=None, estimators__max_leaf_nodes=31, estimators__n_estimators=56;, score=0.844 total time=  28.2s\n",
      "[CV 2/5; 43/100] START estimators__bootstrap=False, estimators__max_depth=13, estimators__max_features=0.7999999999999999, estimators__max_leaf_nodes=13, estimators__n_estimators=55\n",
      "[CV 4/5; 42/100] END estimators__bootstrap=True, estimators__max_depth=16, estimators__max_features=None, estimators__max_leaf_nodes=31, estimators__n_estimators=56;, score=0.852 total time=  28.4s\n",
      "[CV 3/5; 43/100] START estimators__bootstrap=False, estimators__max_depth=13, estimators__max_features=0.7999999999999999, estimators__max_leaf_nodes=13, estimators__n_estimators=55\n",
      "[CV 1/5; 43/100] END estimators__bootstrap=False, estimators__max_depth=13, estimators__max_features=0.7999999999999999, estimators__max_leaf_nodes=13, estimators__n_estimators=55;, score=0.823 total time=  25.3s\n",
      "[CV 4/5; 43/100] START estimators__bootstrap=False, estimators__max_depth=13, estimators__max_features=0.7999999999999999, estimators__max_leaf_nodes=13, estimators__n_estimators=55\n",
      "[CV 5/5; 42/100] END estimators__bootstrap=True, estimators__max_depth=16, estimators__max_features=None, estimators__max_leaf_nodes=31, estimators__n_estimators=56;, score=0.836 total time=  30.1s\n",
      "[CV 5/5; 43/100] START estimators__bootstrap=False, estimators__max_depth=13, estimators__max_features=0.7999999999999999, estimators__max_leaf_nodes=13, estimators__n_estimators=55\n",
      "[CV 2/5; 43/100] END estimators__bootstrap=False, estimators__max_depth=13, estimators__max_features=0.7999999999999999, estimators__max_leaf_nodes=13, estimators__n_estimators=55;, score=0.834 total time=  26.0s\n",
      "[CV 1/5; 44/100] START estimators__bootstrap=True, estimators__max_depth=8, estimators__max_features=auto, estimators__max_leaf_nodes=38, estimators__n_estimators=51\n",
      "[CV 3/5; 43/100] END estimators__bootstrap=False, estimators__max_depth=13, estimators__max_features=0.7999999999999999, estimators__max_leaf_nodes=13, estimators__n_estimators=55;, score=0.832 total time=  25.7s\n",
      "[CV 2/5; 44/100] START estimators__bootstrap=True, estimators__max_depth=8, estimators__max_features=auto, estimators__max_leaf_nodes=38, estimators__n_estimators=51\n",
      "[CV 1/5; 44/100] END estimators__bootstrap=True, estimators__max_depth=8, estimators__max_features=auto, estimators__max_leaf_nodes=38, estimators__n_estimators=51;, score=0.841 total time=  20.9s\n",
      "[CV 3/5; 44/100] START estimators__bootstrap=True, estimators__max_depth=8, estimators__max_features=auto, estimators__max_leaf_nodes=38, estimators__n_estimators=51\n",
      "[CV 4/5; 43/100] END estimators__bootstrap=False, estimators__max_depth=13, estimators__max_features=0.7999999999999999, estimators__max_leaf_nodes=13, estimators__n_estimators=55;, score=0.837 total time=  24.6s\n",
      "[CV 4/5; 44/100] START estimators__bootstrap=True, estimators__max_depth=8, estimators__max_features=auto, estimators__max_leaf_nodes=38, estimators__n_estimators=51\n",
      "[CV 5/5; 43/100] END estimators__bootstrap=False, estimators__max_depth=13, estimators__max_features=0.7999999999999999, estimators__max_leaf_nodes=13, estimators__n_estimators=55;, score=0.825 total time=  24.7s\n",
      "[CV 5/5; 44/100] START estimators__bootstrap=True, estimators__max_depth=8, estimators__max_features=auto, estimators__max_leaf_nodes=38, estimators__n_estimators=51\n",
      "[CV 2/5; 44/100] END estimators__bootstrap=True, estimators__max_depth=8, estimators__max_features=auto, estimators__max_leaf_nodes=38, estimators__n_estimators=51;, score=0.853 total time=  21.2s\n",
      "[CV 1/5; 45/100] START estimators__bootstrap=False, estimators__max_depth=17, estimators__max_features=0.5, estimators__max_leaf_nodes=29, estimators__n_estimators=88\n",
      "[CV 3/5; 44/100] END estimators__bootstrap=True, estimators__max_depth=8, estimators__max_features=auto, estimators__max_leaf_nodes=38, estimators__n_estimators=51;, score=0.855 total time=  21.2s\n",
      "[CV 2/5; 45/100] START estimators__bootstrap=False, estimators__max_depth=17, estimators__max_features=0.5, estimators__max_leaf_nodes=29, estimators__n_estimators=88\n",
      "[CV 4/5; 44/100] END estimators__bootstrap=True, estimators__max_depth=8, estimators__max_features=auto, estimators__max_leaf_nodes=38, estimators__n_estimators=51;, score=0.853 total time=  21.2s\n",
      "[CV 3/5; 45/100] START estimators__bootstrap=False, estimators__max_depth=17, estimators__max_features=0.5, estimators__max_leaf_nodes=29, estimators__n_estimators=88\n",
      "[CV 5/5; 44/100] END estimators__bootstrap=True, estimators__max_depth=8, estimators__max_features=auto, estimators__max_leaf_nodes=38, estimators__n_estimators=51;, score=0.839 total time=  21.5s\n",
      "[CV 4/5; 45/100] START estimators__bootstrap=False, estimators__max_depth=17, estimators__max_features=0.5, estimators__max_leaf_nodes=29, estimators__n_estimators=88\n",
      "[CV 1/5; 45/100] END estimators__bootstrap=False, estimators__max_depth=17, estimators__max_features=0.5, estimators__max_leaf_nodes=29, estimators__n_estimators=88;, score=0.841 total time=  28.2s\n",
      "[CV 5/5; 45/100] START estimators__bootstrap=False, estimators__max_depth=17, estimators__max_features=0.5, estimators__max_leaf_nodes=29, estimators__n_estimators=88\n",
      "[CV 2/5; 45/100] END estimators__bootstrap=False, estimators__max_depth=17, estimators__max_features=0.5, estimators__max_leaf_nodes=29, estimators__n_estimators=88;, score=0.852 total time=  28.8s\n",
      "[CV 1/5; 46/100] START estimators__bootstrap=True, estimators__max_depth=9, estimators__max_features=0.5, estimators__max_leaf_nodes=38, estimators__n_estimators=97\n",
      "[CV 3/5; 45/100] END estimators__bootstrap=False, estimators__max_depth=17, estimators__max_features=0.5, estimators__max_leaf_nodes=29, estimators__n_estimators=88;, score=0.849 total time=  28.9s\n",
      "[CV 2/5; 46/100] START estimators__bootstrap=True, estimators__max_depth=9, estimators__max_features=0.5, estimators__max_leaf_nodes=38, estimators__n_estimators=97\n",
      "[CV 4/5; 45/100] END estimators__bootstrap=False, estimators__max_depth=17, estimators__max_features=0.5, estimators__max_leaf_nodes=29, estimators__n_estimators=88;, score=0.854 total time=  28.8s\n",
      "[CV 3/5; 46/100] START estimators__bootstrap=True, estimators__max_depth=9, estimators__max_features=0.5, estimators__max_leaf_nodes=38, estimators__n_estimators=97\n",
      "[CV 5/5; 45/100] END estimators__bootstrap=False, estimators__max_depth=17, estimators__max_features=0.5, estimators__max_leaf_nodes=29, estimators__n_estimators=88;, score=0.836 total time=  28.5s\n",
      "[CV 4/5; 46/100] START estimators__bootstrap=True, estimators__max_depth=9, estimators__max_features=0.5, estimators__max_leaf_nodes=38, estimators__n_estimators=97\n",
      "[CV 1/5; 46/100] END estimators__bootstrap=True, estimators__max_depth=9, estimators__max_features=0.5, estimators__max_leaf_nodes=38, estimators__n_estimators=97;, score=0.845 total time=  28.3s\n",
      "[CV 5/5; 46/100] START estimators__bootstrap=True, estimators__max_depth=9, estimators__max_features=0.5, estimators__max_leaf_nodes=38, estimators__n_estimators=97\n",
      "[CV 2/5; 46/100] END estimators__bootstrap=True, estimators__max_depth=9, estimators__max_features=0.5, estimators__max_leaf_nodes=38, estimators__n_estimators=97;, score=0.855 total time=  28.1s\n",
      "[CV 1/5; 47/100] START estimators__bootstrap=False, estimators__max_depth=16, estimators__max_features=sqrt, estimators__max_leaf_nodes=19, estimators__n_estimators=60\n",
      "[CV 3/5; 46/100] END estimators__bootstrap=True, estimators__max_depth=9, estimators__max_features=0.5, estimators__max_leaf_nodes=38, estimators__n_estimators=97;, score=0.853 total time=  28.8s\n",
      "[CV 2/5; 47/100] START estimators__bootstrap=False, estimators__max_depth=16, estimators__max_features=sqrt, estimators__max_leaf_nodes=19, estimators__n_estimators=60\n",
      "[CV 4/5; 46/100] END estimators__bootstrap=True, estimators__max_depth=9, estimators__max_features=0.5, estimators__max_leaf_nodes=38, estimators__n_estimators=97;, score=0.856 total time=  28.3s\n",
      "[CV 3/5; 47/100] START estimators__bootstrap=False, estimators__max_depth=16, estimators__max_features=sqrt, estimators__max_leaf_nodes=19, estimators__n_estimators=60\n",
      "[CV 1/5; 47/100] END estimators__bootstrap=False, estimators__max_depth=16, estimators__max_features=sqrt, estimators__max_leaf_nodes=19, estimators__n_estimators=60;, score=0.841 total time=  21.9s\n",
      "[CV 4/5; 47/100] START estimators__bootstrap=False, estimators__max_depth=16, estimators__max_features=sqrt, estimators__max_leaf_nodes=19, estimators__n_estimators=60\n",
      "[CV 2/5; 47/100] END estimators__bootstrap=False, estimators__max_depth=16, estimators__max_features=sqrt, estimators__max_leaf_nodes=19, estimators__n_estimators=60;, score=0.849 total time=  21.9s\n",
      "[CV 5/5; 47/100] START estimators__bootstrap=False, estimators__max_depth=16, estimators__max_features=sqrt, estimators__max_leaf_nodes=19, estimators__n_estimators=60\n",
      "[CV 5/5; 46/100] END estimators__bootstrap=True, estimators__max_depth=9, estimators__max_features=0.5, estimators__max_leaf_nodes=38, estimators__n_estimators=97;, score=0.840 total time=  30.4s\n",
      "[CV 1/5; 48/100] START estimators__bootstrap=True, estimators__max_depth=14, estimators__max_features=sqrt, estimators__max_leaf_nodes=11, estimators__n_estimators=23\n",
      "[CV 3/5; 47/100] END estimators__bootstrap=False, estimators__max_depth=16, estimators__max_features=sqrt, estimators__max_leaf_nodes=19, estimators__n_estimators=60;, score=0.851 total time=  22.6s\n",
      "[CV 2/5; 48/100] START estimators__bootstrap=True, estimators__max_depth=14, estimators__max_features=sqrt, estimators__max_leaf_nodes=11, estimators__n_estimators=23\n",
      "[CV 4/5; 47/100] END estimators__bootstrap=False, estimators__max_depth=16, estimators__max_features=sqrt, estimators__max_leaf_nodes=19, estimators__n_estimators=60;, score=0.854 total time=  22.0s\n",
      "[CV 3/5; 48/100] START estimators__bootstrap=True, estimators__max_depth=14, estimators__max_features=sqrt, estimators__max_leaf_nodes=11, estimators__n_estimators=23\n",
      "[CV 5/5; 47/100] END estimators__bootstrap=False, estimators__max_depth=16, estimators__max_features=sqrt, estimators__max_leaf_nodes=19, estimators__n_estimators=60;, score=0.838 total time=  21.7s\n",
      "[CV 4/5; 48/100] START estimators__bootstrap=True, estimators__max_depth=14, estimators__max_features=sqrt, estimators__max_leaf_nodes=11, estimators__n_estimators=23\n",
      "[CV 1/5; 48/100] END estimators__bootstrap=True, estimators__max_depth=14, estimators__max_features=sqrt, estimators__max_leaf_nodes=11, estimators__n_estimators=23;, score=0.822 total time=  20.6s\n",
      "[CV 5/5; 48/100] START estimators__bootstrap=True, estimators__max_depth=14, estimators__max_features=sqrt, estimators__max_leaf_nodes=11, estimators__n_estimators=23\n",
      "[CV 2/5; 48/100] END estimators__bootstrap=True, estimators__max_depth=14, estimators__max_features=sqrt, estimators__max_leaf_nodes=11, estimators__n_estimators=23;, score=0.845 total time=  20.6s\n",
      "[CV 1/5; 49/100] START estimators__bootstrap=True, estimators__max_depth=5, estimators__max_features=None, estimators__max_leaf_nodes=11, estimators__n_estimators=95\n",
      "[CV 3/5; 48/100] END estimators__bootstrap=True, estimators__max_depth=14, estimators__max_features=sqrt, estimators__max_leaf_nodes=11, estimators__n_estimators=23;, score=0.842 total time=  20.7s\n",
      "[CV 2/5; 49/100] START estimators__bootstrap=True, estimators__max_depth=5, estimators__max_features=None, estimators__max_leaf_nodes=11, estimators__n_estimators=95\n",
      "[CV 4/5; 48/100] END estimators__bootstrap=True, estimators__max_depth=14, estimators__max_features=sqrt, estimators__max_leaf_nodes=11, estimators__n_estimators=23;, score=0.846 total time=  20.6s\n",
      "[CV 3/5; 49/100] START estimators__bootstrap=True, estimators__max_depth=5, estimators__max_features=None, estimators__max_leaf_nodes=11, estimators__n_estimators=95\n",
      "[CV 5/5; 48/100] END estimators__bootstrap=True, estimators__max_depth=14, estimators__max_features=sqrt, estimators__max_leaf_nodes=11, estimators__n_estimators=23;, score=0.830 total time=  20.9s\n",
      "[CV 4/5; 49/100] START estimators__bootstrap=True, estimators__max_depth=5, estimators__max_features=None, estimators__max_leaf_nodes=11, estimators__n_estimators=95\n",
      "[CV 1/5; 49/100] END estimators__bootstrap=True, estimators__max_depth=5, estimators__max_features=None, estimators__max_leaf_nodes=11, estimators__n_estimators=95;, score=0.825 total time=  26.3s\n",
      "[CV 5/5; 49/100] START estimators__bootstrap=True, estimators__max_depth=5, estimators__max_features=None, estimators__max_leaf_nodes=11, estimators__n_estimators=95\n",
      "[CV 2/5; 49/100] END estimators__bootstrap=True, estimators__max_depth=5, estimators__max_features=None, estimators__max_leaf_nodes=11, estimators__n_estimators=95;, score=0.829 total time=  26.9s\n",
      "[CV 1/5; 50/100] START estimators__bootstrap=False, estimators__max_depth=6, estimators__max_features=0.5, estimators__max_leaf_nodes=26, estimators__n_estimators=89\n",
      "[CV 3/5; 49/100] END estimators__bootstrap=True, estimators__max_depth=5, estimators__max_features=None, estimators__max_leaf_nodes=11, estimators__n_estimators=95;, score=0.829 total time=  27.5s\n",
      "[CV 2/5; 50/100] START estimators__bootstrap=False, estimators__max_depth=6, estimators__max_features=0.5, estimators__max_leaf_nodes=26, estimators__n_estimators=89\n",
      "[CV 4/5; 49/100] END estimators__bootstrap=True, estimators__max_depth=5, estimators__max_features=None, estimators__max_leaf_nodes=11, estimators__n_estimators=95;, score=0.833 total time=  27.1s\n",
      "[CV 3/5; 50/100] START estimators__bootstrap=False, estimators__max_depth=6, estimators__max_features=0.5, estimators__max_leaf_nodes=26, estimators__n_estimators=89\n",
      "[CV 5/5; 49/100] END estimators__bootstrap=True, estimators__max_depth=5, estimators__max_features=None, estimators__max_leaf_nodes=11, estimators__n_estimators=95;, score=0.827 total time=  27.3s\n",
      "[CV 4/5; 50/100] START estimators__bootstrap=False, estimators__max_depth=6, estimators__max_features=0.5, estimators__max_leaf_nodes=26, estimators__n_estimators=89\n",
      "[CV 1/5; 50/100] END estimators__bootstrap=False, estimators__max_depth=6, estimators__max_features=0.5, estimators__max_leaf_nodes=26, estimators__n_estimators=89;, score=0.841 total time=  26.6s\n",
      "[CV 5/5; 50/100] START estimators__bootstrap=False, estimators__max_depth=6, estimators__max_features=0.5, estimators__max_leaf_nodes=26, estimators__n_estimators=89\n",
      "[CV 2/5; 50/100] END estimators__bootstrap=False, estimators__max_depth=6, estimators__max_features=0.5, estimators__max_leaf_nodes=26, estimators__n_estimators=89;, score=0.849 total time=  26.1s\n",
      "[CV 1/5; 51/100] START estimators__bootstrap=True, estimators__max_depth=19, estimators__max_features=sqrt, estimators__max_leaf_nodes=39, estimators__n_estimators=75\n",
      "[CV 3/5; 50/100] END estimators__bootstrap=False, estimators__max_depth=6, estimators__max_features=0.5, estimators__max_leaf_nodes=26, estimators__n_estimators=89;, score=0.849 total time=  26.4s\n",
      "[CV 2/5; 51/100] START estimators__bootstrap=True, estimators__max_depth=19, estimators__max_features=sqrt, estimators__max_leaf_nodes=39, estimators__n_estimators=75\n",
      "[CV 4/5; 50/100] END estimators__bootstrap=False, estimators__max_depth=6, estimators__max_features=0.5, estimators__max_leaf_nodes=26, estimators__n_estimators=89;, score=0.850 total time=  26.4s\n",
      "[CV 3/5; 51/100] START estimators__bootstrap=True, estimators__max_depth=19, estimators__max_features=sqrt, estimators__max_leaf_nodes=39, estimators__n_estimators=75\n",
      "[CV 1/5; 51/100] END estimators__bootstrap=True, estimators__max_depth=19, estimators__max_features=sqrt, estimators__max_leaf_nodes=39, estimators__n_estimators=75;, score=0.842 total time=  21.9s\n",
      "[CV 4/5; 51/100] START estimators__bootstrap=True, estimators__max_depth=19, estimators__max_features=sqrt, estimators__max_leaf_nodes=39, estimators__n_estimators=75\n",
      "[CV 5/5; 50/100] END estimators__bootstrap=False, estimators__max_depth=6, estimators__max_features=0.5, estimators__max_leaf_nodes=26, estimators__n_estimators=89;, score=0.835 total time=  26.7s\n",
      "[CV 5/5; 51/100] START estimators__bootstrap=True, estimators__max_depth=19, estimators__max_features=sqrt, estimators__max_leaf_nodes=39, estimators__n_estimators=75\n",
      "[CV 2/5; 51/100] END estimators__bootstrap=True, estimators__max_depth=19, estimators__max_features=sqrt, estimators__max_leaf_nodes=39, estimators__n_estimators=75;, score=0.853 total time=  21.9s\n",
      "[CV 1/5; 52/100] START estimators__bootstrap=False, estimators__max_depth=6, estimators__max_features=auto, estimators__max_leaf_nodes=41, estimators__n_estimators=40\n",
      "[CV 3/5; 51/100] END estimators__bootstrap=True, estimators__max_depth=19, estimators__max_features=sqrt, estimators__max_leaf_nodes=39, estimators__n_estimators=75;, score=0.853 total time=  22.8s\n",
      "[CV 2/5; 52/100] START estimators__bootstrap=False, estimators__max_depth=6, estimators__max_features=auto, estimators__max_leaf_nodes=41, estimators__n_estimators=40\n",
      "[CV 4/5; 51/100] END estimators__bootstrap=True, estimators__max_depth=19, estimators__max_features=sqrt, estimators__max_leaf_nodes=39, estimators__n_estimators=75;, score=0.857 total time=  22.4s\n",
      "[CV 3/5; 52/100] START estimators__bootstrap=False, estimators__max_depth=6, estimators__max_features=auto, estimators__max_leaf_nodes=41, estimators__n_estimators=40\n",
      "[CV 5/5; 51/100] END estimators__bootstrap=True, estimators__max_depth=19, estimators__max_features=sqrt, estimators__max_leaf_nodes=39, estimators__n_estimators=75;, score=0.838 total time=  22.9s\n",
      "[CV 4/5; 52/100] START estimators__bootstrap=False, estimators__max_depth=6, estimators__max_features=auto, estimators__max_leaf_nodes=41, estimators__n_estimators=40\n",
      "[CV 1/5; 52/100] END estimators__bootstrap=False, estimators__max_depth=6, estimators__max_features=auto, estimators__max_leaf_nodes=41, estimators__n_estimators=40;, score=0.842 total time=  21.5s\n",
      "[CV 5/5; 52/100] START estimators__bootstrap=False, estimators__max_depth=6, estimators__max_features=auto, estimators__max_leaf_nodes=41, estimators__n_estimators=40\n",
      "[CV 2/5; 52/100] END estimators__bootstrap=False, estimators__max_depth=6, estimators__max_features=auto, estimators__max_leaf_nodes=41, estimators__n_estimators=40;, score=0.851 total time=  21.0s\n",
      "[CV 1/5; 53/100] START estimators__bootstrap=False, estimators__max_depth=16, estimators__max_features=0.8999999999999999, estimators__max_leaf_nodes=36, estimators__n_estimators=52\n",
      "[CV 3/5; 52/100] END estimators__bootstrap=False, estimators__max_depth=6, estimators__max_features=auto, estimators__max_leaf_nodes=41, estimators__n_estimators=40;, score=0.856 total time=  21.0s\n",
      "[CV 2/5; 53/100] START estimators__bootstrap=False, estimators__max_depth=16, estimators__max_features=0.8999999999999999, estimators__max_leaf_nodes=36, estimators__n_estimators=52\n",
      "[CV 4/5; 52/100] END estimators__bootstrap=False, estimators__max_depth=6, estimators__max_features=auto, estimators__max_leaf_nodes=41, estimators__n_estimators=40;, score=0.855 total time=  20.9s\n",
      "[CV 3/5; 53/100] START estimators__bootstrap=False, estimators__max_depth=16, estimators__max_features=0.8999999999999999, estimators__max_leaf_nodes=36, estimators__n_estimators=52\n",
      "[CV 5/5; 52/100] END estimators__bootstrap=False, estimators__max_depth=6, estimators__max_features=auto, estimators__max_leaf_nodes=41, estimators__n_estimators=40;, score=0.836 total time=  21.3s\n",
      "[CV 4/5; 53/100] START estimators__bootstrap=False, estimators__max_depth=16, estimators__max_features=0.8999999999999999, estimators__max_leaf_nodes=36, estimators__n_estimators=52\n",
      "[CV 1/5; 53/100] END estimators__bootstrap=False, estimators__max_depth=16, estimators__max_features=0.8999999999999999, estimators__max_leaf_nodes=36, estimators__n_estimators=52;, score=0.834 total time=  28.9s\n",
      "[CV 5/5; 53/100] START estimators__bootstrap=False, estimators__max_depth=16, estimators__max_features=0.8999999999999999, estimators__max_leaf_nodes=36, estimators__n_estimators=52\n",
      "[CV 2/5; 53/100] END estimators__bootstrap=False, estimators__max_depth=16, estimators__max_features=0.8999999999999999, estimators__max_leaf_nodes=36, estimators__n_estimators=52;, score=0.845 total time=  28.8s\n",
      "[CV 1/5; 54/100] START estimators__bootstrap=False, estimators__max_depth=20, estimators__max_features=0.5, estimators__max_leaf_nodes=21, estimators__n_estimators=20\n",
      "[CV 3/5; 53/100] END estimators__bootstrap=False, estimators__max_depth=16, estimators__max_features=0.8999999999999999, estimators__max_leaf_nodes=36, estimators__n_estimators=52;, score=0.843 total time=  29.4s\n",
      "[CV 2/5; 54/100] START estimators__bootstrap=False, estimators__max_depth=20, estimators__max_features=0.5, estimators__max_leaf_nodes=21, estimators__n_estimators=20\n",
      "[CV 4/5; 53/100] END estimators__bootstrap=False, estimators__max_depth=16, estimators__max_features=0.8999999999999999, estimators__max_leaf_nodes=36, estimators__n_estimators=52;, score=0.850 total time=  29.3s\n",
      "[CV 3/5; 54/100] START estimators__bootstrap=False, estimators__max_depth=20, estimators__max_features=0.5, estimators__max_leaf_nodes=21, estimators__n_estimators=20\n",
      "[CV 1/5; 54/100] END estimators__bootstrap=False, estimators__max_depth=20, estimators__max_features=0.5, estimators__max_leaf_nodes=21, estimators__n_estimators=20;, score=0.836 total time=  21.9s\n",
      "[CV 4/5; 54/100] START estimators__bootstrap=False, estimators__max_depth=20, estimators__max_features=0.5, estimators__max_leaf_nodes=21, estimators__n_estimators=20\n",
      "[CV 5/5; 53/100] END estimators__bootstrap=False, estimators__max_depth=16, estimators__max_features=0.8999999999999999, estimators__max_leaf_nodes=36, estimators__n_estimators=52;, score=0.835 total time=  29.9s\n",
      "[CV 5/5; 54/100] START estimators__bootstrap=False, estimators__max_depth=20, estimators__max_features=0.5, estimators__max_leaf_nodes=21, estimators__n_estimators=20\n",
      "[CV 2/5; 54/100] END estimators__bootstrap=False, estimators__max_depth=20, estimators__max_features=0.5, estimators__max_leaf_nodes=21, estimators__n_estimators=20;, score=0.842 total time=  22.0s\n",
      "[CV 1/5; 55/100] START estimators__bootstrap=True, estimators__max_depth=7, estimators__max_features=0.8999999999999999, estimators__max_leaf_nodes=19, estimators__n_estimators=33\n",
      "[CV 3/5; 54/100] END estimators__bootstrap=False, estimators__max_depth=20, estimators__max_features=0.5, estimators__max_leaf_nodes=21, estimators__n_estimators=20;, score=0.843 total time=  21.9s\n",
      "[CV 2/5; 55/100] START estimators__bootstrap=True, estimators__max_depth=7, estimators__max_features=0.8999999999999999, estimators__max_leaf_nodes=19, estimators__n_estimators=33\n",
      "[CV 4/5; 54/100] END estimators__bootstrap=False, estimators__max_depth=20, estimators__max_features=0.5, estimators__max_leaf_nodes=21, estimators__n_estimators=20;, score=0.847 total time=  23.0s\n",
      "[CV 3/5; 55/100] START estimators__bootstrap=True, estimators__max_depth=7, estimators__max_features=0.8999999999999999, estimators__max_leaf_nodes=19, estimators__n_estimators=33\n",
      "[CV 5/5; 54/100] END estimators__bootstrap=False, estimators__max_depth=20, estimators__max_features=0.5, estimators__max_leaf_nodes=21, estimators__n_estimators=20;, score=0.832 total time=  23.1s\n",
      "[CV 4/5; 55/100] START estimators__bootstrap=True, estimators__max_depth=7, estimators__max_features=0.8999999999999999, estimators__max_leaf_nodes=19, estimators__n_estimators=33\n",
      "[CV 1/5; 55/100] END estimators__bootstrap=True, estimators__max_depth=7, estimators__max_features=0.8999999999999999, estimators__max_leaf_nodes=19, estimators__n_estimators=33;, score=0.837 total time=  24.5s\n",
      "[CV 5/5; 55/100] START estimators__bootstrap=True, estimators__max_depth=7, estimators__max_features=0.8999999999999999, estimators__max_leaf_nodes=19, estimators__n_estimators=33\n",
      "[CV 2/5; 55/100] END estimators__bootstrap=True, estimators__max_depth=7, estimators__max_features=0.8999999999999999, estimators__max_leaf_nodes=19, estimators__n_estimators=33;, score=0.839 total time=  24.7s\n",
      "[CV 1/5; 56/100] START estimators__bootstrap=True, estimators__max_depth=19, estimators__max_features=0.8999999999999999, estimators__max_leaf_nodes=24, estimators__n_estimators=33\n",
      "[CV 3/5; 55/100] END estimators__bootstrap=True, estimators__max_depth=7, estimators__max_features=0.8999999999999999, estimators__max_leaf_nodes=19, estimators__n_estimators=33;, score=0.833 total time=30.6min\n",
      "[CV 2/5; 56/100] START estimators__bootstrap=True, estimators__max_depth=19, estimators__max_features=0.8999999999999999, estimators__max_leaf_nodes=24, estimators__n_estimators=33\n",
      "[CV 4/5; 55/100] END estimators__bootstrap=True, estimators__max_depth=7, estimators__max_features=0.8999999999999999, estimators__max_leaf_nodes=19, estimators__n_estimators=33;, score=0.846 total time=30.6min\n",
      "[CV 3/5; 56/100] START estimators__bootstrap=True, estimators__max_depth=19, estimators__max_features=0.8999999999999999, estimators__max_leaf_nodes=24, estimators__n_estimators=33\n",
      "[CV 5/5; 55/100] END estimators__bootstrap=True, estimators__max_depth=7, estimators__max_features=0.8999999999999999, estimators__max_leaf_nodes=19, estimators__n_estimators=33;, score=0.829 total time=30.6min\n",
      "[CV 4/5; 56/100] START estimators__bootstrap=True, estimators__max_depth=19, estimators__max_features=0.8999999999999999, estimators__max_leaf_nodes=24, estimators__n_estimators=33\n",
      "[CV 1/5; 56/100] END estimators__bootstrap=True, estimators__max_depth=19, estimators__max_features=0.8999999999999999, estimators__max_leaf_nodes=24, estimators__n_estimators=33;, score=0.839 total time=30.6min\n",
      "[CV 5/5; 56/100] START estimators__bootstrap=True, estimators__max_depth=19, estimators__max_features=0.8999999999999999, estimators__max_leaf_nodes=24, estimators__n_estimators=33\n",
      "[CV 2/5; 56/100] END estimators__bootstrap=True, estimators__max_depth=19, estimators__max_features=0.8999999999999999, estimators__max_leaf_nodes=24, estimators__n_estimators=33;, score=0.846 total time=  28.8s\n",
      "[CV 1/5; 57/100] START estimators__bootstrap=True, estimators__max_depth=4, estimators__max_features=sqrt, estimators__max_leaf_nodes=15, estimators__n_estimators=62\n",
      "[CV 3/5; 56/100] END estimators__bootstrap=True, estimators__max_depth=19, estimators__max_features=0.8999999999999999, estimators__max_leaf_nodes=24, estimators__n_estimators=33;, score=0.840 total time=  28.8s\n",
      "[CV 2/5; 57/100] START estimators__bootstrap=True, estimators__max_depth=4, estimators__max_features=sqrt, estimators__max_leaf_nodes=15, estimators__n_estimators=62\n",
      "[CV 4/5; 56/100] END estimators__bootstrap=True, estimators__max_depth=19, estimators__max_features=0.8999999999999999, estimators__max_leaf_nodes=24, estimators__n_estimators=33;, score=0.849 total time=  28.9s\n",
      "[CV 3/5; 57/100] START estimators__bootstrap=True, estimators__max_depth=4, estimators__max_features=sqrt, estimators__max_leaf_nodes=15, estimators__n_estimators=62\n",
      "[CV 5/5; 56/100] END estimators__bootstrap=True, estimators__max_depth=19, estimators__max_features=0.8999999999999999, estimators__max_leaf_nodes=24, estimators__n_estimators=33;, score=0.834 total time=  28.9s\n",
      "[CV 4/5; 57/100] START estimators__bootstrap=True, estimators__max_depth=4, estimators__max_features=sqrt, estimators__max_leaf_nodes=15, estimators__n_estimators=62\n",
      "[CV 1/5; 57/100] END estimators__bootstrap=True, estimators__max_depth=4, estimators__max_features=sqrt, estimators__max_leaf_nodes=15, estimators__n_estimators=62;, score=0.835 total time=12.7min\n",
      "[CV 5/5; 57/100] START estimators__bootstrap=True, estimators__max_depth=4, estimators__max_features=sqrt, estimators__max_leaf_nodes=15, estimators__n_estimators=62\n",
      "[CV 2/5; 57/100] END estimators__bootstrap=True, estimators__max_depth=4, estimators__max_features=sqrt, estimators__max_leaf_nodes=15, estimators__n_estimators=62;, score=0.847 total time=12.7min\n",
      "[CV 1/5; 58/100] START estimators__bootstrap=True, estimators__max_depth=15, estimators__max_features=sqrt, estimators__max_leaf_nodes=10, estimators__n_estimators=53\n",
      "[CV 3/5; 57/100] END estimators__bootstrap=True, estimators__max_depth=4, estimators__max_features=sqrt, estimators__max_leaf_nodes=15, estimators__n_estimators=62;, score=0.848 total time=12.7min\n",
      "[CV 2/5; 58/100] START estimators__bootstrap=True, estimators__max_depth=15, estimators__max_features=sqrt, estimators__max_leaf_nodes=10, estimators__n_estimators=53\n",
      "[CV 4/5; 57/100] END estimators__bootstrap=True, estimators__max_depth=4, estimators__max_features=sqrt, estimators__max_leaf_nodes=15, estimators__n_estimators=62;, score=0.850 total time=12.7min\n",
      "[CV 3/5; 58/100] START estimators__bootstrap=True, estimators__max_depth=15, estimators__max_features=sqrt, estimators__max_leaf_nodes=10, estimators__n_estimators=53\n",
      "[CV 5/5; 57/100] END estimators__bootstrap=True, estimators__max_depth=4, estimators__max_features=sqrt, estimators__max_leaf_nodes=15, estimators__n_estimators=62;, score=0.831 total time=  41.9s\n",
      "[CV 4/5; 58/100] START estimators__bootstrap=True, estimators__max_depth=15, estimators__max_features=sqrt, estimators__max_leaf_nodes=10, estimators__n_estimators=53\n",
      "[CV 1/5; 58/100] END estimators__bootstrap=True, estimators__max_depth=15, estimators__max_features=sqrt, estimators__max_leaf_nodes=10, estimators__n_estimators=53;, score=0.834 total time=  42.5s\n",
      "[CV 5/5; 58/100] START estimators__bootstrap=True, estimators__max_depth=15, estimators__max_features=sqrt, estimators__max_leaf_nodes=10, estimators__n_estimators=53\n",
      "[CV 2/5; 58/100] END estimators__bootstrap=True, estimators__max_depth=15, estimators__max_features=sqrt, estimators__max_leaf_nodes=10, estimators__n_estimators=53;, score=0.845 total time=  47.9s\n",
      "[CV 1/5; 59/100] START estimators__bootstrap=False, estimators__max_depth=6, estimators__max_features=0.6, estimators__max_leaf_nodes=43, estimators__n_estimators=74\n",
      "[CV 3/5; 58/100] END estimators__bootstrap=True, estimators__max_depth=15, estimators__max_features=sqrt, estimators__max_leaf_nodes=10, estimators__n_estimators=53;, score=0.845 total time=  51.2s\n",
      "[CV 2/5; 59/100] START estimators__bootstrap=False, estimators__max_depth=6, estimators__max_features=0.6, estimators__max_leaf_nodes=43, estimators__n_estimators=74\n",
      "[CV 4/5; 58/100] END estimators__bootstrap=True, estimators__max_depth=15, estimators__max_features=sqrt, estimators__max_leaf_nodes=10, estimators__n_estimators=53;, score=0.843 total time=  51.2s\n",
      "[CV 3/5; 59/100] START estimators__bootstrap=False, estimators__max_depth=6, estimators__max_features=0.6, estimators__max_leaf_nodes=43, estimators__n_estimators=74\n",
      "[CV 5/5; 58/100] END estimators__bootstrap=True, estimators__max_depth=15, estimators__max_features=sqrt, estimators__max_leaf_nodes=10, estimators__n_estimators=53;, score=0.829 total time=  47.2s\n",
      "[CV 4/5; 59/100] START estimators__bootstrap=False, estimators__max_depth=6, estimators__max_features=0.6, estimators__max_leaf_nodes=43, estimators__n_estimators=74\n",
      "[CV 1/5; 59/100] END estimators__bootstrap=False, estimators__max_depth=6, estimators__max_features=0.6, estimators__max_leaf_nodes=43, estimators__n_estimators=74;, score=0.842 total time=  48.6s\n",
      "[CV 5/5; 59/100] START estimators__bootstrap=False, estimators__max_depth=6, estimators__max_features=0.6, estimators__max_leaf_nodes=43, estimators__n_estimators=74\n",
      "[CV 2/5; 59/100] END estimators__bootstrap=False, estimators__max_depth=6, estimators__max_features=0.6, estimators__max_leaf_nodes=43, estimators__n_estimators=74;, score=0.855 total time=  44.5s\n",
      "[CV 1/5; 60/100] START estimators__bootstrap=True, estimators__max_depth=6, estimators__max_features=auto, estimators__max_leaf_nodes=28, estimators__n_estimators=99\n",
      "[CV 3/5; 59/100] END estimators__bootstrap=False, estimators__max_depth=6, estimators__max_features=0.6, estimators__max_leaf_nodes=43, estimators__n_estimators=74;, score=0.854 total time=  33.9s\n",
      "[CV 2/5; 60/100] START estimators__bootstrap=True, estimators__max_depth=6, estimators__max_features=auto, estimators__max_leaf_nodes=28, estimators__n_estimators=99\n",
      "[CV 4/5; 59/100] END estimators__bootstrap=False, estimators__max_depth=6, estimators__max_features=0.6, estimators__max_leaf_nodes=43, estimators__n_estimators=74;, score=0.854 total time=  33.4s\n",
      "[CV 3/5; 60/100] START estimators__bootstrap=True, estimators__max_depth=6, estimators__max_features=auto, estimators__max_leaf_nodes=28, estimators__n_estimators=99\n",
      "[CV 1/5; 60/100] END estimators__bootstrap=True, estimators__max_depth=6, estimators__max_features=auto, estimators__max_leaf_nodes=28, estimators__n_estimators=99;, score=0.842 total time=  26.7s\n",
      "[CV 4/5; 60/100] START estimators__bootstrap=True, estimators__max_depth=6, estimators__max_features=auto, estimators__max_leaf_nodes=28, estimators__n_estimators=99\n",
      "[CV 5/5; 59/100] END estimators__bootstrap=False, estimators__max_depth=6, estimators__max_features=0.6, estimators__max_leaf_nodes=43, estimators__n_estimators=74;, score=0.838 total time=  33.9s\n",
      "[CV 5/5; 60/100] START estimators__bootstrap=True, estimators__max_depth=6, estimators__max_features=auto, estimators__max_leaf_nodes=28, estimators__n_estimators=99\n",
      "[CV 2/5; 60/100] END estimators__bootstrap=True, estimators__max_depth=6, estimators__max_features=auto, estimators__max_leaf_nodes=28, estimators__n_estimators=99;, score=0.852 total time=  26.6s\n",
      "[CV 1/5; 61/100] START estimators__bootstrap=True, estimators__max_depth=13, estimators__max_features=0.6, estimators__max_leaf_nodes=16, estimators__n_estimators=97\n",
      "[CV 3/5; 60/100] END estimators__bootstrap=True, estimators__max_depth=6, estimators__max_features=auto, estimators__max_leaf_nodes=28, estimators__n_estimators=99;, score=0.856 total time=  27.3s\n",
      "[CV 2/5; 61/100] START estimators__bootstrap=True, estimators__max_depth=13, estimators__max_features=0.6, estimators__max_leaf_nodes=16, estimators__n_estimators=97\n",
      "[CV 4/5; 60/100] END estimators__bootstrap=True, estimators__max_depth=6, estimators__max_features=auto, estimators__max_leaf_nodes=28, estimators__n_estimators=99;, score=0.854 total time=  29.3s\n",
      "[CV 3/5; 61/100] START estimators__bootstrap=True, estimators__max_depth=13, estimators__max_features=0.6, estimators__max_leaf_nodes=16, estimators__n_estimators=97\n",
      "[CV 5/5; 60/100] END estimators__bootstrap=True, estimators__max_depth=6, estimators__max_features=auto, estimators__max_leaf_nodes=28, estimators__n_estimators=99;, score=0.840 total time=  36.3s\n",
      "[CV 4/5; 61/100] START estimators__bootstrap=True, estimators__max_depth=13, estimators__max_features=0.6, estimators__max_leaf_nodes=16, estimators__n_estimators=97\n",
      "[CV 1/5; 61/100] END estimators__bootstrap=True, estimators__max_depth=13, estimators__max_features=0.6, estimators__max_leaf_nodes=16, estimators__n_estimators=97;, score=0.835 total time=  50.9s\n",
      "[CV 5/5; 61/100] START estimators__bootstrap=True, estimators__max_depth=13, estimators__max_features=0.6, estimators__max_leaf_nodes=16, estimators__n_estimators=97\n",
      "[CV 2/5; 61/100] END estimators__bootstrap=True, estimators__max_depth=13, estimators__max_features=0.6, estimators__max_leaf_nodes=16, estimators__n_estimators=97;, score=0.846 total time=  52.0s\n",
      "[CV 1/5; 62/100] START estimators__bootstrap=False, estimators__max_depth=7, estimators__max_features=0.6, estimators__max_leaf_nodes=50, estimators__n_estimators=73\n",
      "[CV 3/5; 61/100] END estimators__bootstrap=True, estimators__max_depth=13, estimators__max_features=0.6, estimators__max_leaf_nodes=16, estimators__n_estimators=97;, score=0.839 total time=  51.3s\n",
      "[CV 2/5; 62/100] START estimators__bootstrap=False, estimators__max_depth=7, estimators__max_features=0.6, estimators__max_leaf_nodes=50, estimators__n_estimators=73\n",
      "[CV 4/5; 61/100] END estimators__bootstrap=True, estimators__max_depth=13, estimators__max_features=0.6, estimators__max_leaf_nodes=16, estimators__n_estimators=97;, score=0.843 total time=  45.2s\n",
      "[CV 3/5; 62/100] START estimators__bootstrap=False, estimators__max_depth=7, estimators__max_features=0.6, estimators__max_leaf_nodes=50, estimators__n_estimators=73\n",
      "[CV 5/5; 61/100] END estimators__bootstrap=True, estimators__max_depth=13, estimators__max_features=0.6, estimators__max_leaf_nodes=16, estimators__n_estimators=97;, score=0.831 total time=  32.1s\n",
      "[CV 4/5; 62/100] START estimators__bootstrap=False, estimators__max_depth=7, estimators__max_features=0.6, estimators__max_leaf_nodes=50, estimators__n_estimators=73\n",
      "[CV 1/5; 62/100] END estimators__bootstrap=False, estimators__max_depth=7, estimators__max_features=0.6, estimators__max_leaf_nodes=50, estimators__n_estimators=73;, score=0.843 total time=  34.0s\n",
      "[CV 5/5; 62/100] START estimators__bootstrap=False, estimators__max_depth=7, estimators__max_features=0.6, estimators__max_leaf_nodes=50, estimators__n_estimators=73\n",
      "[CV 2/5; 62/100] END estimators__bootstrap=False, estimators__max_depth=7, estimators__max_features=0.6, estimators__max_leaf_nodes=50, estimators__n_estimators=73;, score=0.856 total time=  32.0s\n",
      "[CV 1/5; 63/100] START estimators__bootstrap=False, estimators__max_depth=5, estimators__max_features=None, estimators__max_leaf_nodes=28, estimators__n_estimators=89\n",
      "[CV 3/5; 62/100] END estimators__bootstrap=False, estimators__max_depth=7, estimators__max_features=0.6, estimators__max_leaf_nodes=50, estimators__n_estimators=73;, score=0.853 total time=  30.9s\n",
      "[CV 2/5; 63/100] START estimators__bootstrap=False, estimators__max_depth=5, estimators__max_features=None, estimators__max_leaf_nodes=28, estimators__n_estimators=89\n",
      "[CV 4/5; 62/100] END estimators__bootstrap=False, estimators__max_depth=7, estimators__max_features=0.6, estimators__max_leaf_nodes=50, estimators__n_estimators=73;, score=0.854 total time=  36.0s\n",
      "[CV 3/5; 63/100] START estimators__bootstrap=False, estimators__max_depth=5, estimators__max_features=None, estimators__max_leaf_nodes=28, estimators__n_estimators=89\n",
      "[CV 5/5; 62/100] END estimators__bootstrap=False, estimators__max_depth=7, estimators__max_features=0.6, estimators__max_leaf_nodes=50, estimators__n_estimators=73;, score=0.839 total time=  35.9s\n",
      "[CV 4/5; 63/100] START estimators__bootstrap=False, estimators__max_depth=5, estimators__max_features=None, estimators__max_leaf_nodes=28, estimators__n_estimators=89\n",
      "[CV 1/5; 63/100] END estimators__bootstrap=False, estimators__max_depth=5, estimators__max_features=None, estimators__max_leaf_nodes=28, estimators__n_estimators=89;, score=0.827 total time=  35.4s\n",
      "[CV 5/5; 63/100] START estimators__bootstrap=False, estimators__max_depth=5, estimators__max_features=None, estimators__max_leaf_nodes=28, estimators__n_estimators=89\n",
      "[CV 2/5; 63/100] END estimators__bootstrap=False, estimators__max_depth=5, estimators__max_features=None, estimators__max_leaf_nodes=28, estimators__n_estimators=89;, score=0.843 total time=  34.4s\n",
      "[CV 1/5; 64/100] START estimators__bootstrap=False, estimators__max_depth=14, estimators__max_features=auto, estimators__max_leaf_nodes=20, estimators__n_estimators=86\n",
      "[CV 3/5; 63/100] END estimators__bootstrap=False, estimators__max_depth=5, estimators__max_features=None, estimators__max_leaf_nodes=28, estimators__n_estimators=89;, score=0.838 total time=  29.4s\n",
      "[CV 2/5; 64/100] START estimators__bootstrap=False, estimators__max_depth=14, estimators__max_features=auto, estimators__max_leaf_nodes=20, estimators__n_estimators=86\n",
      "[CV 4/5; 63/100] END estimators__bootstrap=False, estimators__max_depth=5, estimators__max_features=None, estimators__max_leaf_nodes=28, estimators__n_estimators=89;, score=0.839 total time=  29.7s\n",
      "[CV 3/5; 64/100] START estimators__bootstrap=False, estimators__max_depth=14, estimators__max_features=auto, estimators__max_leaf_nodes=20, estimators__n_estimators=86\n",
      "[CV 1/5; 64/100] END estimators__bootstrap=False, estimators__max_depth=14, estimators__max_features=auto, estimators__max_leaf_nodes=20, estimators__n_estimators=86;, score=0.838 total time=  22.2s\n",
      "[CV 4/5; 64/100] START estimators__bootstrap=False, estimators__max_depth=14, estimators__max_features=auto, estimators__max_leaf_nodes=20, estimators__n_estimators=86\n",
      "[CV 5/5; 63/100] END estimators__bootstrap=False, estimators__max_depth=5, estimators__max_features=None, estimators__max_leaf_nodes=28, estimators__n_estimators=89;, score=0.823 total time=  29.8s\n",
      "[CV 5/5; 64/100] START estimators__bootstrap=False, estimators__max_depth=14, estimators__max_features=auto, estimators__max_leaf_nodes=20, estimators__n_estimators=86\n",
      "[CV 2/5; 64/100] END estimators__bootstrap=False, estimators__max_depth=14, estimators__max_features=auto, estimators__max_leaf_nodes=20, estimators__n_estimators=86;, score=0.851 total time=  22.1s\n",
      "[CV 1/5; 65/100] START estimators__bootstrap=True, estimators__max_depth=None, estimators__max_features=0.7, estimators__max_leaf_nodes=10, estimators__n_estimators=93\n",
      "[CV 3/5; 64/100] END estimators__bootstrap=False, estimators__max_depth=14, estimators__max_features=auto, estimators__max_leaf_nodes=20, estimators__n_estimators=86;, score=0.852 total time=  21.3s\n",
      "[CV 2/5; 65/100] START estimators__bootstrap=True, estimators__max_depth=None, estimators__max_features=0.7, estimators__max_leaf_nodes=10, estimators__n_estimators=93\n",
      "[CV 4/5; 64/100] END estimators__bootstrap=False, estimators__max_depth=14, estimators__max_features=auto, estimators__max_leaf_nodes=20, estimators__n_estimators=86;, score=0.854 total time=  21.3s\n",
      "[CV 3/5; 65/100] START estimators__bootstrap=True, estimators__max_depth=None, estimators__max_features=0.7, estimators__max_leaf_nodes=10, estimators__n_estimators=93\n",
      "[CV 5/5; 64/100] END estimators__bootstrap=False, estimators__max_depth=14, estimators__max_features=auto, estimators__max_leaf_nodes=20, estimators__n_estimators=86;, score=0.834 total time=  21.4s\n",
      "[CV 4/5; 65/100] START estimators__bootstrap=True, estimators__max_depth=None, estimators__max_features=0.7, estimators__max_leaf_nodes=10, estimators__n_estimators=93\n",
      "[CV 1/5; 65/100] END estimators__bootstrap=True, estimators__max_depth=None, estimators__max_features=0.7, estimators__max_leaf_nodes=10, estimators__n_estimators=93;, score=0.829 total time=  24.2s\n",
      "[CV 5/5; 65/100] START estimators__bootstrap=True, estimators__max_depth=None, estimators__max_features=0.7, estimators__max_leaf_nodes=10, estimators__n_estimators=93\n",
      "[CV 2/5; 65/100] END estimators__bootstrap=True, estimators__max_depth=None, estimators__max_features=0.7, estimators__max_leaf_nodes=10, estimators__n_estimators=93;, score=0.834 total time=  24.4s\n",
      "[CV 1/5; 66/100] START estimators__bootstrap=True, estimators__max_depth=5, estimators__max_features=0.5, estimators__max_leaf_nodes=10, estimators__n_estimators=32\n",
      "[CV 3/5; 65/100] END estimators__bootstrap=True, estimators__max_depth=None, estimators__max_features=0.7, estimators__max_leaf_nodes=10, estimators__n_estimators=93;, score=0.828 total time=  24.6s\n",
      "[CV 2/5; 66/100] START estimators__bootstrap=True, estimators__max_depth=5, estimators__max_features=0.5, estimators__max_leaf_nodes=10, estimators__n_estimators=32\n",
      "[CV 4/5; 65/100] END estimators__bootstrap=True, estimators__max_depth=None, estimators__max_features=0.7, estimators__max_leaf_nodes=10, estimators__n_estimators=93;, score=0.836 total time=  24.6s\n",
      "[CV 3/5; 66/100] START estimators__bootstrap=True, estimators__max_depth=5, estimators__max_features=0.5, estimators__max_leaf_nodes=10, estimators__n_estimators=32\n",
      "[CV 5/5; 65/100] END estimators__bootstrap=True, estimators__max_depth=None, estimators__max_features=0.7, estimators__max_leaf_nodes=10, estimators__n_estimators=93;, score=0.829 total time=  37.4s\n",
      "[CV 4/5; 66/100] START estimators__bootstrap=True, estimators__max_depth=5, estimators__max_features=0.5, estimators__max_leaf_nodes=10, estimators__n_estimators=32\n",
      "[CV 1/5; 66/100] END estimators__bootstrap=True, estimators__max_depth=5, estimators__max_features=0.5, estimators__max_leaf_nodes=10, estimators__n_estimators=32;, score=0.826 total time=  35.4s\n",
      "[CV 5/5; 66/100] START estimators__bootstrap=True, estimators__max_depth=5, estimators__max_features=0.5, estimators__max_leaf_nodes=10, estimators__n_estimators=32\n",
      "[CV 2/5; 66/100] END estimators__bootstrap=True, estimators__max_depth=5, estimators__max_features=0.5, estimators__max_leaf_nodes=10, estimators__n_estimators=32;, score=0.839 total time=  35.5s\n",
      "[CV 1/5; 67/100] START estimators__bootstrap=True, estimators__max_depth=None, estimators__max_features=0.8999999999999999, estimators__max_leaf_nodes=12, estimators__n_estimators=81\n",
      "[CV 3/5; 66/100] END estimators__bootstrap=True, estimators__max_depth=5, estimators__max_features=0.5, estimators__max_leaf_nodes=10, estimators__n_estimators=32;, score=0.834 total time=  38.6s\n",
      "[CV 2/5; 67/100] START estimators__bootstrap=True, estimators__max_depth=None, estimators__max_features=0.8999999999999999, estimators__max_leaf_nodes=12, estimators__n_estimators=81\n",
      "[CV 4/5; 66/100] END estimators__bootstrap=True, estimators__max_depth=5, estimators__max_features=0.5, estimators__max_leaf_nodes=10, estimators__n_estimators=32;, score=0.838 total time=  37.3s\n",
      "[CV 3/5; 67/100] START estimators__bootstrap=True, estimators__max_depth=None, estimators__max_features=0.8999999999999999, estimators__max_leaf_nodes=12, estimators__n_estimators=81\n",
      "[CV 5/5; 66/100] END estimators__bootstrap=True, estimators__max_depth=5, estimators__max_features=0.5, estimators__max_leaf_nodes=10, estimators__n_estimators=32;, score=0.828 total time=  36.3s\n",
      "[CV 4/5; 67/100] START estimators__bootstrap=True, estimators__max_depth=None, estimators__max_features=0.8999999999999999, estimators__max_leaf_nodes=12, estimators__n_estimators=81\n",
      "[CV 1/5; 67/100] END estimators__bootstrap=True, estimators__max_depth=None, estimators__max_features=0.8999999999999999, estimators__max_leaf_nodes=12, estimators__n_estimators=81;, score=0.829 total time=  40.3s\n",
      "[CV 5/5; 67/100] START estimators__bootstrap=True, estimators__max_depth=None, estimators__max_features=0.8999999999999999, estimators__max_leaf_nodes=12, estimators__n_estimators=81\n",
      "[CV 2/5; 67/100] END estimators__bootstrap=True, estimators__max_depth=None, estimators__max_features=0.8999999999999999, estimators__max_leaf_nodes=12, estimators__n_estimators=81;, score=0.833 total time=  38.2s\n",
      "[CV 1/5; 68/100] START estimators__bootstrap=False, estimators__max_depth=5, estimators__max_features=0.5, estimators__max_leaf_nodes=31, estimators__n_estimators=65\n",
      "[CV 3/5; 67/100] END estimators__bootstrap=True, estimators__max_depth=None, estimators__max_features=0.8999999999999999, estimators__max_leaf_nodes=12, estimators__n_estimators=81;, score=0.831 total time=  29.4s\n",
      "[CV 2/5; 68/100] START estimators__bootstrap=False, estimators__max_depth=5, estimators__max_features=0.5, estimators__max_leaf_nodes=31, estimators__n_estimators=65\n",
      "[CV 4/5; 67/100] END estimators__bootstrap=True, estimators__max_depth=None, estimators__max_features=0.8999999999999999, estimators__max_leaf_nodes=12, estimators__n_estimators=81;, score=0.836 total time=  29.3s\n",
      "[CV 3/5; 68/100] START estimators__bootstrap=False, estimators__max_depth=5, estimators__max_features=0.5, estimators__max_leaf_nodes=31, estimators__n_estimators=65\n",
      "[CV 5/5; 67/100] END estimators__bootstrap=True, estimators__max_depth=None, estimators__max_features=0.8999999999999999, estimators__max_leaf_nodes=12, estimators__n_estimators=81;, score=0.828 total time=  29.6s\n",
      "[CV 4/5; 68/100] START estimators__bootstrap=False, estimators__max_depth=5, estimators__max_features=0.5, estimators__max_leaf_nodes=31, estimators__n_estimators=65\n",
      "[CV 1/5; 68/100] END estimators__bootstrap=False, estimators__max_depth=5, estimators__max_features=0.5, estimators__max_leaf_nodes=31, estimators__n_estimators=65;, score=0.842 total time=  26.7s\n",
      "[CV 5/5; 68/100] START estimators__bootstrap=False, estimators__max_depth=5, estimators__max_features=0.5, estimators__max_leaf_nodes=31, estimators__n_estimators=65\n",
      "[CV 2/5; 68/100] END estimators__bootstrap=False, estimators__max_depth=5, estimators__max_features=0.5, estimators__max_leaf_nodes=31, estimators__n_estimators=65;, score=0.851 total time=  26.5s\n",
      "[CV 1/5; 69/100] START estimators__bootstrap=True, estimators__max_depth=13, estimators__max_features=0.7999999999999999, estimators__max_leaf_nodes=48, estimators__n_estimators=81\n",
      "[CV 3/5; 68/100] END estimators__bootstrap=False, estimators__max_depth=5, estimators__max_features=0.5, estimators__max_leaf_nodes=31, estimators__n_estimators=65;, score=0.848 total time=  26.7s\n",
      "[CV 2/5; 69/100] START estimators__bootstrap=True, estimators__max_depth=13, estimators__max_features=0.7999999999999999, estimators__max_leaf_nodes=48, estimators__n_estimators=81\n",
      "[CV 4/5; 68/100] END estimators__bootstrap=False, estimators__max_depth=5, estimators__max_features=0.5, estimators__max_leaf_nodes=31, estimators__n_estimators=65;, score=0.853 total time=  26.5s\n",
      "[CV 3/5; 69/100] START estimators__bootstrap=True, estimators__max_depth=13, estimators__max_features=0.7999999999999999, estimators__max_leaf_nodes=48, estimators__n_estimators=81\n",
      "[CV 5/5; 68/100] END estimators__bootstrap=False, estimators__max_depth=5, estimators__max_features=0.5, estimators__max_leaf_nodes=31, estimators__n_estimators=65;, score=0.836 total time=  26.8s\n",
      "[CV 4/5; 69/100] START estimators__bootstrap=True, estimators__max_depth=13, estimators__max_features=0.7999999999999999, estimators__max_leaf_nodes=48, estimators__n_estimators=81\n",
      "[CV 1/5; 69/100] END estimators__bootstrap=True, estimators__max_depth=13, estimators__max_features=0.7999999999999999, estimators__max_leaf_nodes=48, estimators__n_estimators=81;, score=0.846 total time=  36.7s\n",
      "[CV 5/5; 69/100] START estimators__bootstrap=True, estimators__max_depth=13, estimators__max_features=0.7999999999999999, estimators__max_leaf_nodes=48, estimators__n_estimators=81\n",
      "[CV 2/5; 69/100] END estimators__bootstrap=True, estimators__max_depth=13, estimators__max_features=0.7999999999999999, estimators__max_leaf_nodes=48, estimators__n_estimators=81;, score=0.855 total time=  36.6s\n",
      "[CV 1/5; 70/100] START estimators__bootstrap=True, estimators__max_depth=7, estimators__max_features=0.5, estimators__max_leaf_nodes=25, estimators__n_estimators=54\n",
      "[CV 3/5; 69/100] END estimators__bootstrap=True, estimators__max_depth=13, estimators__max_features=0.7999999999999999, estimators__max_leaf_nodes=48, estimators__n_estimators=81;, score=0.852 total time=  36.9s\n",
      "[CV 2/5; 70/100] START estimators__bootstrap=True, estimators__max_depth=7, estimators__max_features=0.5, estimators__max_leaf_nodes=25, estimators__n_estimators=54\n",
      "[CV 4/5; 69/100] END estimators__bootstrap=True, estimators__max_depth=13, estimators__max_features=0.7999999999999999, estimators__max_leaf_nodes=48, estimators__n_estimators=81;, score=0.858 total time=  36.9s\n",
      "[CV 3/5; 70/100] START estimators__bootstrap=True, estimators__max_depth=7, estimators__max_features=0.5, estimators__max_leaf_nodes=25, estimators__n_estimators=54\n",
      "[CV 1/5; 70/100] END estimators__bootstrap=True, estimators__max_depth=7, estimators__max_features=0.5, estimators__max_leaf_nodes=25, estimators__n_estimators=54;, score=0.842 total time=  26.5s\n",
      "[CV 4/5; 70/100] START estimators__bootstrap=True, estimators__max_depth=7, estimators__max_features=0.5, estimators__max_leaf_nodes=25, estimators__n_estimators=54\n",
      "[CV 2/5; 70/100] END estimators__bootstrap=True, estimators__max_depth=7, estimators__max_features=0.5, estimators__max_leaf_nodes=25, estimators__n_estimators=54;, score=0.852 total time=  26.5s\n",
      "[CV 5/5; 70/100] START estimators__bootstrap=True, estimators__max_depth=7, estimators__max_features=0.5, estimators__max_leaf_nodes=25, estimators__n_estimators=54\n",
      "[CV 3/5; 70/100] END estimators__bootstrap=True, estimators__max_depth=7, estimators__max_features=0.5, estimators__max_leaf_nodes=25, estimators__n_estimators=54;, score=0.850 total time=  26.8s\n",
      "[CV 1/5; 71/100] START estimators__bootstrap=True, estimators__max_depth=13, estimators__max_features=0.6, estimators__max_leaf_nodes=40, estimators__n_estimators=89\n",
      "[CV 5/5; 69/100] END estimators__bootstrap=True, estimators__max_depth=13, estimators__max_features=0.7999999999999999, estimators__max_leaf_nodes=48, estimators__n_estimators=81;, score=0.840 total time=  37.2s\n",
      "[CV 2/5; 71/100] START estimators__bootstrap=True, estimators__max_depth=13, estimators__max_features=0.6, estimators__max_leaf_nodes=40, estimators__n_estimators=89\n",
      "[CV 4/5; 70/100] END estimators__bootstrap=True, estimators__max_depth=7, estimators__max_features=0.5, estimators__max_leaf_nodes=25, estimators__n_estimators=54;, score=0.852 total time=  27.3s\n",
      "[CV 3/5; 71/100] START estimators__bootstrap=True, estimators__max_depth=13, estimators__max_features=0.6, estimators__max_leaf_nodes=40, estimators__n_estimators=89\n",
      "[CV 5/5; 70/100] END estimators__bootstrap=True, estimators__max_depth=7, estimators__max_features=0.5, estimators__max_leaf_nodes=25, estimators__n_estimators=54;, score=0.839 total time=  27.8s\n",
      "[CV 4/5; 71/100] START estimators__bootstrap=True, estimators__max_depth=13, estimators__max_features=0.6, estimators__max_leaf_nodes=40, estimators__n_estimators=89\n",
      "[CV 1/5; 71/100] END estimators__bootstrap=True, estimators__max_depth=13, estimators__max_features=0.6, estimators__max_leaf_nodes=40, estimators__n_estimators=89;, score=0.845 total time=  34.0s\n",
      "[CV 5/5; 71/100] START estimators__bootstrap=True, estimators__max_depth=13, estimators__max_features=0.6, estimators__max_leaf_nodes=40, estimators__n_estimators=89\n",
      "[CV 2/5; 71/100] END estimators__bootstrap=True, estimators__max_depth=13, estimators__max_features=0.6, estimators__max_leaf_nodes=40, estimators__n_estimators=89;, score=0.854 total time=  33.7s\n",
      "[CV 1/5; 72/100] START estimators__bootstrap=True, estimators__max_depth=6, estimators__max_features=0.7999999999999999, estimators__max_leaf_nodes=18, estimators__n_estimators=13\n",
      "[CV 3/5; 71/100] END estimators__bootstrap=True, estimators__max_depth=13, estimators__max_features=0.6, estimators__max_leaf_nodes=40, estimators__n_estimators=89;, score=0.852 total time=  33.6s\n",
      "[CV 2/5; 72/100] START estimators__bootstrap=True, estimators__max_depth=6, estimators__max_features=0.7999999999999999, estimators__max_leaf_nodes=18, estimators__n_estimators=13\n",
      "[CV 1/5; 72/100] END estimators__bootstrap=True, estimators__max_depth=6, estimators__max_features=0.7999999999999999, estimators__max_leaf_nodes=18, estimators__n_estimators=13;, score=0.834 total time=  24.1s\n",
      "[CV 3/5; 72/100] START estimators__bootstrap=True, estimators__max_depth=6, estimators__max_features=0.7999999999999999, estimators__max_leaf_nodes=18, estimators__n_estimators=13\n",
      "[CV 4/5; 71/100] END estimators__bootstrap=True, estimators__max_depth=13, estimators__max_features=0.6, estimators__max_leaf_nodes=40, estimators__n_estimators=89;, score=0.857 total time=  33.8s\n",
      "[CV 4/5; 72/100] START estimators__bootstrap=True, estimators__max_depth=6, estimators__max_features=0.7999999999999999, estimators__max_leaf_nodes=18, estimators__n_estimators=13\n",
      "[CV 5/5; 71/100] END estimators__bootstrap=True, estimators__max_depth=13, estimators__max_features=0.6, estimators__max_leaf_nodes=40, estimators__n_estimators=89;, score=0.840 total time=  34.1s\n",
      "[CV 5/5; 72/100] START estimators__bootstrap=True, estimators__max_depth=6, estimators__max_features=0.7999999999999999, estimators__max_leaf_nodes=18, estimators__n_estimators=13\n",
      "[CV 2/5; 72/100] END estimators__bootstrap=True, estimators__max_depth=6, estimators__max_features=0.7999999999999999, estimators__max_leaf_nodes=18, estimators__n_estimators=13;, score=0.839 total time=  24.6s\n",
      "[CV 1/5; 73/100] START estimators__bootstrap=False, estimators__max_depth=4, estimators__max_features=0.8999999999999999, estimators__max_leaf_nodes=19, estimators__n_estimators=85\n",
      "[CV 3/5; 72/100] END estimators__bootstrap=True, estimators__max_depth=6, estimators__max_features=0.7999999999999999, estimators__max_leaf_nodes=18, estimators__n_estimators=13;, score=0.837 total time=  24.8s\n",
      "[CV 2/5; 73/100] START estimators__bootstrap=False, estimators__max_depth=4, estimators__max_features=0.8999999999999999, estimators__max_leaf_nodes=19, estimators__n_estimators=85\n",
      "[CV 4/5; 72/100] END estimators__bootstrap=True, estimators__max_depth=6, estimators__max_features=0.7999999999999999, estimators__max_leaf_nodes=18, estimators__n_estimators=13;, score=0.842 total time=  24.7s\n",
      "[CV 3/5; 73/100] START estimators__bootstrap=False, estimators__max_depth=4, estimators__max_features=0.8999999999999999, estimators__max_leaf_nodes=19, estimators__n_estimators=85\n",
      "[CV 5/5; 72/100] END estimators__bootstrap=True, estimators__max_depth=6, estimators__max_features=0.7999999999999999, estimators__max_leaf_nodes=18, estimators__n_estimators=13;, score=0.830 total time=  24.8s\n",
      "[CV 4/5; 73/100] START estimators__bootstrap=False, estimators__max_depth=4, estimators__max_features=0.8999999999999999, estimators__max_leaf_nodes=19, estimators__n_estimators=85\n",
      "[CV 1/5; 73/100] END estimators__bootstrap=False, estimators__max_depth=4, estimators__max_features=0.8999999999999999, estimators__max_leaf_nodes=19, estimators__n_estimators=85;, score=0.829 total time=  28.1s\n",
      "[CV 5/5; 73/100] START estimators__bootstrap=False, estimators__max_depth=4, estimators__max_features=0.8999999999999999, estimators__max_leaf_nodes=19, estimators__n_estimators=85\n",
      "[CV 2/5; 73/100] END estimators__bootstrap=False, estimators__max_depth=4, estimators__max_features=0.8999999999999999, estimators__max_leaf_nodes=19, estimators__n_estimators=85;, score=0.839 total time=  28.2s\n",
      "[CV 1/5; 74/100] START estimators__bootstrap=False, estimators__max_depth=17, estimators__max_features=0.6, estimators__max_leaf_nodes=10, estimators__n_estimators=99\n",
      "[CV 3/5; 73/100] END estimators__bootstrap=False, estimators__max_depth=4, estimators__max_features=0.8999999999999999, estimators__max_leaf_nodes=19, estimators__n_estimators=85;, score=0.833 total time=  28.4s\n",
      "[CV 2/5; 74/100] START estimators__bootstrap=False, estimators__max_depth=17, estimators__max_features=0.6, estimators__max_leaf_nodes=10, estimators__n_estimators=99\n",
      "[CV 4/5; 73/100] END estimators__bootstrap=False, estimators__max_depth=4, estimators__max_features=0.8999999999999999, estimators__max_leaf_nodes=19, estimators__n_estimators=85;, score=0.837 total time=  28.1s\n",
      "[CV 3/5; 74/100] START estimators__bootstrap=False, estimators__max_depth=17, estimators__max_features=0.6, estimators__max_leaf_nodes=10, estimators__n_estimators=99\n",
      "[CV 5/5; 73/100] END estimators__bootstrap=False, estimators__max_depth=4, estimators__max_features=0.8999999999999999, estimators__max_leaf_nodes=19, estimators__n_estimators=85;, score=0.826 total time=  28.3s\n",
      "[CV 4/5; 74/100] START estimators__bootstrap=False, estimators__max_depth=17, estimators__max_features=0.6, estimators__max_leaf_nodes=10, estimators__n_estimators=99\n",
      "[CV 1/5; 74/100] END estimators__bootstrap=False, estimators__max_depth=17, estimators__max_features=0.6, estimators__max_leaf_nodes=10, estimators__n_estimators=99;, score=0.826 total time=  28.3s\n",
      "[CV 5/5; 74/100] START estimators__bootstrap=False, estimators__max_depth=17, estimators__max_features=0.6, estimators__max_leaf_nodes=10, estimators__n_estimators=99\n",
      "[CV 2/5; 74/100] END estimators__bootstrap=False, estimators__max_depth=17, estimators__max_features=0.6, estimators__max_leaf_nodes=10, estimators__n_estimators=99;, score=0.835 total time=  28.6s\n",
      "[CV 1/5; 75/100] START estimators__bootstrap=False, estimators__max_depth=6, estimators__max_features=0.6, estimators__max_leaf_nodes=42, estimators__n_estimators=97\n",
      "[CV 3/5; 74/100] END estimators__bootstrap=False, estimators__max_depth=17, estimators__max_features=0.6, estimators__max_leaf_nodes=10, estimators__n_estimators=99;, score=0.832 total time=  29.5s\n",
      "[CV 2/5; 75/100] START estimators__bootstrap=False, estimators__max_depth=6, estimators__max_features=0.6, estimators__max_leaf_nodes=42, estimators__n_estimators=97\n",
      "[CV 4/5; 74/100] END estimators__bootstrap=False, estimators__max_depth=17, estimators__max_features=0.6, estimators__max_leaf_nodes=10, estimators__n_estimators=99;, score=0.834 total time=  29.8s\n",
      "[CV 3/5; 75/100] START estimators__bootstrap=False, estimators__max_depth=6, estimators__max_features=0.6, estimators__max_leaf_nodes=42, estimators__n_estimators=97\n",
      "[CV 5/5; 74/100] END estimators__bootstrap=False, estimators__max_depth=17, estimators__max_features=0.6, estimators__max_leaf_nodes=10, estimators__n_estimators=99;, score=0.825 total time=  30.1s\n",
      "[CV 4/5; 75/100] START estimators__bootstrap=False, estimators__max_depth=6, estimators__max_features=0.6, estimators__max_leaf_nodes=42, estimators__n_estimators=97\n",
      "[CV 1/5; 75/100] END estimators__bootstrap=False, estimators__max_depth=6, estimators__max_features=0.6, estimators__max_leaf_nodes=42, estimators__n_estimators=97;, score=0.843 total time=  34.8s\n",
      "[CV 5/5; 75/100] START estimators__bootstrap=False, estimators__max_depth=6, estimators__max_features=0.6, estimators__max_leaf_nodes=42, estimators__n_estimators=97\n",
      "[CV 2/5; 75/100] END estimators__bootstrap=False, estimators__max_depth=6, estimators__max_features=0.6, estimators__max_leaf_nodes=42, estimators__n_estimators=97;, score=0.855 total time=  34.7s\n",
      "[CV 1/5; 76/100] START estimators__bootstrap=False, estimators__max_depth=12, estimators__max_features=0.7, estimators__max_leaf_nodes=23, estimators__n_estimators=80\n",
      "[CV 3/5; 75/100] END estimators__bootstrap=False, estimators__max_depth=6, estimators__max_features=0.6, estimators__max_leaf_nodes=42, estimators__n_estimators=97;, score=0.853 total time=  34.5s\n",
      "[CV 2/5; 76/100] START estimators__bootstrap=False, estimators__max_depth=12, estimators__max_features=0.7, estimators__max_leaf_nodes=23, estimators__n_estimators=80\n",
      "[CV 4/5; 75/100] END estimators__bootstrap=False, estimators__max_depth=6, estimators__max_features=0.6, estimators__max_leaf_nodes=42, estimators__n_estimators=97;, score=0.852 total time=  34.5s\n",
      "[CV 3/5; 76/100] START estimators__bootstrap=False, estimators__max_depth=12, estimators__max_features=0.7, estimators__max_leaf_nodes=23, estimators__n_estimators=80\n",
      "[CV 5/5; 75/100] END estimators__bootstrap=False, estimators__max_depth=6, estimators__max_features=0.6, estimators__max_leaf_nodes=42, estimators__n_estimators=97;, score=0.837 total time=  34.9s\n",
      "[CV 4/5; 76/100] START estimators__bootstrap=False, estimators__max_depth=12, estimators__max_features=0.7, estimators__max_leaf_nodes=23, estimators__n_estimators=80\n",
      "[CV 1/5; 76/100] END estimators__bootstrap=False, estimators__max_depth=12, estimators__max_features=0.7, estimators__max_leaf_nodes=23, estimators__n_estimators=80;, score=0.837 total time=  32.5s\n",
      "[CV 5/5; 76/100] START estimators__bootstrap=False, estimators__max_depth=12, estimators__max_features=0.7, estimators__max_leaf_nodes=23, estimators__n_estimators=80\n",
      "[CV 2/5; 76/100] END estimators__bootstrap=False, estimators__max_depth=12, estimators__max_features=0.7, estimators__max_leaf_nodes=23, estimators__n_estimators=80;, score=0.844 total time=  32.2s\n",
      "[CV 1/5; 77/100] START estimators__bootstrap=True, estimators__max_depth=10, estimators__max_features=None, estimators__max_leaf_nodes=13, estimators__n_estimators=26\n",
      "[CV 3/5; 76/100] END estimators__bootstrap=False, estimators__max_depth=12, estimators__max_features=0.7, estimators__max_leaf_nodes=23, estimators__n_estimators=80;, score=0.838 total time=  32.1s\n",
      "[CV 2/5; 77/100] START estimators__bootstrap=True, estimators__max_depth=10, estimators__max_features=None, estimators__max_leaf_nodes=13, estimators__n_estimators=26\n",
      "[CV 4/5; 76/100] END estimators__bootstrap=False, estimators__max_depth=12, estimators__max_features=0.7, estimators__max_leaf_nodes=23, estimators__n_estimators=80;, score=0.846 total time=  31.5s\n",
      "[CV 3/5; 77/100] START estimators__bootstrap=True, estimators__max_depth=10, estimators__max_features=None, estimators__max_leaf_nodes=13, estimators__n_estimators=26\n",
      "[CV 5/5; 76/100] END estimators__bootstrap=False, estimators__max_depth=12, estimators__max_features=0.7, estimators__max_leaf_nodes=23, estimators__n_estimators=80;, score=0.834 total time=  31.6s\n",
      "[CV 4/5; 77/100] START estimators__bootstrap=True, estimators__max_depth=10, estimators__max_features=None, estimators__max_leaf_nodes=13, estimators__n_estimators=26\n",
      "[CV 1/5; 77/100] END estimators__bootstrap=True, estimators__max_depth=10, estimators__max_features=None, estimators__max_leaf_nodes=13, estimators__n_estimators=26;, score=0.828 total time=  25.2s\n",
      "[CV 5/5; 77/100] START estimators__bootstrap=True, estimators__max_depth=10, estimators__max_features=None, estimators__max_leaf_nodes=13, estimators__n_estimators=26\n",
      "[CV 2/5; 77/100] END estimators__bootstrap=True, estimators__max_depth=10, estimators__max_features=None, estimators__max_leaf_nodes=13, estimators__n_estimators=26;, score=0.834 total time=  25.2s\n",
      "[CV 1/5; 78/100] START estimators__bootstrap=True, estimators__max_depth=11, estimators__max_features=0.6, estimators__max_leaf_nodes=18, estimators__n_estimators=90\n",
      "[CV 3/5; 77/100] END estimators__bootstrap=True, estimators__max_depth=10, estimators__max_features=None, estimators__max_leaf_nodes=13, estimators__n_estimators=26;, score=0.826 total time=  25.7s\n",
      "[CV 2/5; 78/100] START estimators__bootstrap=True, estimators__max_depth=11, estimators__max_features=0.6, estimators__max_leaf_nodes=18, estimators__n_estimators=90\n",
      "[CV 4/5; 77/100] END estimators__bootstrap=True, estimators__max_depth=10, estimators__max_features=None, estimators__max_leaf_nodes=13, estimators__n_estimators=26;, score=0.836 total time=  26.1s\n",
      "[CV 3/5; 78/100] START estimators__bootstrap=True, estimators__max_depth=11, estimators__max_features=0.6, estimators__max_leaf_nodes=18, estimators__n_estimators=90\n",
      "[CV 5/5; 77/100] END estimators__bootstrap=True, estimators__max_depth=10, estimators__max_features=None, estimators__max_leaf_nodes=13, estimators__n_estimators=26;, score=0.827 total time=  26.3s\n",
      "[CV 4/5; 78/100] START estimators__bootstrap=True, estimators__max_depth=11, estimators__max_features=0.6, estimators__max_leaf_nodes=18, estimators__n_estimators=90\n",
      "[CV 1/5; 78/100] END estimators__bootstrap=True, estimators__max_depth=11, estimators__max_features=0.6, estimators__max_leaf_nodes=18, estimators__n_estimators=90;, score=0.838 total time=  29.8s\n",
      "[CV 5/5; 78/100] START estimators__bootstrap=True, estimators__max_depth=11, estimators__max_features=0.6, estimators__max_leaf_nodes=18, estimators__n_estimators=90\n",
      "[CV 2/5; 78/100] END estimators__bootstrap=True, estimators__max_depth=11, estimators__max_features=0.6, estimators__max_leaf_nodes=18, estimators__n_estimators=90;, score=0.848 total time=  29.6s\n",
      "[CV 1/5; 79/100] START estimators__bootstrap=False, estimators__max_depth=5, estimators__max_features=0.7, estimators__max_leaf_nodes=22, estimators__n_estimators=53\n",
      "[CV 3/5; 78/100] END estimators__bootstrap=True, estimators__max_depth=11, estimators__max_features=0.6, estimators__max_leaf_nodes=18, estimators__n_estimators=90;, score=0.843 total time=  29.5s\n",
      "[CV 2/5; 79/100] START estimators__bootstrap=False, estimators__max_depth=5, estimators__max_features=0.7, estimators__max_leaf_nodes=22, estimators__n_estimators=53\n",
      "[CV 4/5; 78/100] END estimators__bootstrap=True, estimators__max_depth=11, estimators__max_features=0.6, estimators__max_leaf_nodes=18, estimators__n_estimators=90;, score=0.848 total time=  29.6s\n",
      "[CV 3/5; 79/100] START estimators__bootstrap=False, estimators__max_depth=5, estimators__max_features=0.7, estimators__max_leaf_nodes=22, estimators__n_estimators=53\n",
      "[CV 5/5; 78/100] END estimators__bootstrap=True, estimators__max_depth=11, estimators__max_features=0.6, estimators__max_leaf_nodes=18, estimators__n_estimators=90;, score=0.833 total time=  29.7s\n",
      "[CV 4/5; 79/100] START estimators__bootstrap=False, estimators__max_depth=5, estimators__max_features=0.7, estimators__max_leaf_nodes=22, estimators__n_estimators=53\n",
      "[CV 1/5; 79/100] END estimators__bootstrap=False, estimators__max_depth=5, estimators__max_features=0.7, estimators__max_leaf_nodes=22, estimators__n_estimators=53;, score=0.838 total time=  27.4s\n",
      "[CV 5/5; 79/100] START estimators__bootstrap=False, estimators__max_depth=5, estimators__max_features=0.7, estimators__max_leaf_nodes=22, estimators__n_estimators=53\n",
      "[CV 2/5; 79/100] END estimators__bootstrap=False, estimators__max_depth=5, estimators__max_features=0.7, estimators__max_leaf_nodes=22, estimators__n_estimators=53;, score=0.847 total time=  29.6s\n",
      "[CV 1/5; 80/100] START estimators__bootstrap=True, estimators__max_depth=18, estimators__max_features=0.5, estimators__max_leaf_nodes=43, estimators__n_estimators=19\n",
      "[CV 3/5; 79/100] END estimators__bootstrap=False, estimators__max_depth=5, estimators__max_features=0.7, estimators__max_leaf_nodes=22, estimators__n_estimators=53;, score=0.842 total time=  30.3s\n",
      "[CV 2/5; 80/100] START estimators__bootstrap=True, estimators__max_depth=18, estimators__max_features=0.5, estimators__max_leaf_nodes=43, estimators__n_estimators=19\n",
      "[CV 4/5; 79/100] END estimators__bootstrap=False, estimators__max_depth=5, estimators__max_features=0.7, estimators__max_leaf_nodes=22, estimators__n_estimators=53;, score=0.847 total time=  31.2s\n",
      "[CV 3/5; 80/100] START estimators__bootstrap=True, estimators__max_depth=18, estimators__max_features=0.5, estimators__max_leaf_nodes=43, estimators__n_estimators=19\n",
      "[CV 5/5; 79/100] END estimators__bootstrap=False, estimators__max_depth=5, estimators__max_features=0.7, estimators__max_leaf_nodes=22, estimators__n_estimators=53;, score=0.833 total time=  31.6s\n",
      "[CV 4/5; 80/100] START estimators__bootstrap=True, estimators__max_depth=18, estimators__max_features=0.5, estimators__max_leaf_nodes=43, estimators__n_estimators=19\n",
      "[CV 1/5; 80/100] END estimators__bootstrap=True, estimators__max_depth=18, estimators__max_features=0.5, estimators__max_leaf_nodes=43, estimators__n_estimators=19;, score=0.843 total time=  26.9s\n",
      "[CV 5/5; 80/100] START estimators__bootstrap=True, estimators__max_depth=18, estimators__max_features=0.5, estimators__max_leaf_nodes=43, estimators__n_estimators=19\n",
      "[CV 2/5; 80/100] END estimators__bootstrap=True, estimators__max_depth=18, estimators__max_features=0.5, estimators__max_leaf_nodes=43, estimators__n_estimators=19;, score=0.856 total time=  27.8s\n",
      "[CV 1/5; 81/100] START estimators__bootstrap=False, estimators__max_depth=7, estimators__max_features=0.8999999999999999, estimators__max_leaf_nodes=28, estimators__n_estimators=57\n",
      "[CV 3/5; 80/100] END estimators__bootstrap=True, estimators__max_depth=18, estimators__max_features=0.5, estimators__max_leaf_nodes=43, estimators__n_estimators=19;, score=0.852 total time=  27.6s\n",
      "[CV 2/5; 81/100] START estimators__bootstrap=False, estimators__max_depth=7, estimators__max_features=0.8999999999999999, estimators__max_leaf_nodes=28, estimators__n_estimators=57\n",
      "[CV 4/5; 80/100] END estimators__bootstrap=True, estimators__max_depth=18, estimators__max_features=0.5, estimators__max_leaf_nodes=43, estimators__n_estimators=19;, score=0.854 total time=  27.2s\n",
      "[CV 3/5; 81/100] START estimators__bootstrap=False, estimators__max_depth=7, estimators__max_features=0.8999999999999999, estimators__max_leaf_nodes=28, estimators__n_estimators=57\n",
      "[CV 5/5; 80/100] END estimators__bootstrap=True, estimators__max_depth=18, estimators__max_features=0.5, estimators__max_leaf_nodes=43, estimators__n_estimators=19;, score=0.840 total time=  27.6s\n",
      "[CV 4/5; 81/100] START estimators__bootstrap=False, estimators__max_depth=7, estimators__max_features=0.8999999999999999, estimators__max_leaf_nodes=28, estimators__n_estimators=57\n",
      "[CV 1/5; 81/100] END estimators__bootstrap=False, estimators__max_depth=7, estimators__max_features=0.8999999999999999, estimators__max_leaf_nodes=28, estimators__n_estimators=57;, score=0.834 total time=  33.9s\n",
      "[CV 5/5; 81/100] START estimators__bootstrap=False, estimators__max_depth=7, estimators__max_features=0.8999999999999999, estimators__max_leaf_nodes=28, estimators__n_estimators=57\n",
      "[CV 2/5; 81/100] END estimators__bootstrap=False, estimators__max_depth=7, estimators__max_features=0.8999999999999999, estimators__max_leaf_nodes=28, estimators__n_estimators=57;, score=0.845 total time=  33.1s\n",
      "[CV 1/5; 82/100] START estimators__bootstrap=False, estimators__max_depth=4, estimators__max_features=0.6, estimators__max_leaf_nodes=12, estimators__n_estimators=89\n",
      "[CV 3/5; 81/100] END estimators__bootstrap=False, estimators__max_depth=7, estimators__max_features=0.8999999999999999, estimators__max_leaf_nodes=28, estimators__n_estimators=57;, score=0.838 total time=  33.1s\n",
      "[CV 2/5; 82/100] START estimators__bootstrap=False, estimators__max_depth=4, estimators__max_features=0.6, estimators__max_leaf_nodes=12, estimators__n_estimators=89\n",
      "[CV 4/5; 81/100] END estimators__bootstrap=False, estimators__max_depth=7, estimators__max_features=0.8999999999999999, estimators__max_leaf_nodes=28, estimators__n_estimators=57;, score=0.847 total time=  32.8s\n",
      "[CV 3/5; 82/100] START estimators__bootstrap=False, estimators__max_depth=4, estimators__max_features=0.6, estimators__max_leaf_nodes=12, estimators__n_estimators=89\n",
      "[CV 5/5; 81/100] END estimators__bootstrap=False, estimators__max_depth=7, estimators__max_features=0.8999999999999999, estimators__max_leaf_nodes=28, estimators__n_estimators=57;, score=0.834 total time=  31.8s\n",
      "[CV 4/5; 82/100] START estimators__bootstrap=False, estimators__max_depth=4, estimators__max_features=0.6, estimators__max_leaf_nodes=12, estimators__n_estimators=89\n",
      "[CV 1/5; 82/100] END estimators__bootstrap=False, estimators__max_depth=4, estimators__max_features=0.6, estimators__max_leaf_nodes=12, estimators__n_estimators=89;, score=0.829 total time=  26.9s\n",
      "[CV 5/5; 82/100] START estimators__bootstrap=False, estimators__max_depth=4, estimators__max_features=0.6, estimators__max_leaf_nodes=12, estimators__n_estimators=89\n",
      "[CV 2/5; 82/100] END estimators__bootstrap=False, estimators__max_depth=4, estimators__max_features=0.6, estimators__max_leaf_nodes=12, estimators__n_estimators=89;, score=0.840 total time=  27.5s\n",
      "[CV 1/5; 83/100] START estimators__bootstrap=True, estimators__max_depth=14, estimators__max_features=None, estimators__max_leaf_nodes=46, estimators__n_estimators=29\n",
      "[CV 3/5; 82/100] END estimators__bootstrap=False, estimators__max_depth=4, estimators__max_features=0.6, estimators__max_leaf_nodes=12, estimators__n_estimators=89;, score=0.833 total time=  27.6s\n",
      "[CV 2/5; 83/100] START estimators__bootstrap=True, estimators__max_depth=14, estimators__max_features=None, estimators__max_leaf_nodes=46, estimators__n_estimators=29\n",
      "[CV 4/5; 82/100] END estimators__bootstrap=False, estimators__max_depth=4, estimators__max_features=0.6, estimators__max_leaf_nodes=12, estimators__n_estimators=89;, score=0.837 total time=  28.2s\n",
      "[CV 3/5; 83/100] START estimators__bootstrap=True, estimators__max_depth=14, estimators__max_features=None, estimators__max_leaf_nodes=46, estimators__n_estimators=29\n",
      "[CV 5/5; 82/100] END estimators__bootstrap=False, estimators__max_depth=4, estimators__max_features=0.6, estimators__max_leaf_nodes=12, estimators__n_estimators=89;, score=0.826 total time=  28.4s\n",
      "[CV 4/5; 83/100] START estimators__bootstrap=True, estimators__max_depth=14, estimators__max_features=None, estimators__max_leaf_nodes=46, estimators__n_estimators=29\n",
      "[CV 1/5; 83/100] END estimators__bootstrap=True, estimators__max_depth=14, estimators__max_features=None, estimators__max_leaf_nodes=46, estimators__n_estimators=29;, score=0.844 total time=  30.0s\n",
      "[CV 5/5; 83/100] START estimators__bootstrap=True, estimators__max_depth=14, estimators__max_features=None, estimators__max_leaf_nodes=46, estimators__n_estimators=29\n",
      "[CV 2/5; 83/100] END estimators__bootstrap=True, estimators__max_depth=14, estimators__max_features=None, estimators__max_leaf_nodes=46, estimators__n_estimators=29;, score=0.854 total time=  30.2s\n",
      "[CV 1/5; 84/100] START estimators__bootstrap=False, estimators__max_depth=18, estimators__max_features=sqrt, estimators__max_leaf_nodes=47, estimators__n_estimators=20\n",
      "[CV 3/5; 83/100] END estimators__bootstrap=True, estimators__max_depth=14, estimators__max_features=None, estimators__max_leaf_nodes=46, estimators__n_estimators=29;, score=0.848 total time=  31.0s\n",
      "[CV 2/5; 84/100] START estimators__bootstrap=False, estimators__max_depth=18, estimators__max_features=sqrt, estimators__max_leaf_nodes=47, estimators__n_estimators=20\n",
      "[CV 4/5; 83/100] END estimators__bootstrap=True, estimators__max_depth=14, estimators__max_features=None, estimators__max_leaf_nodes=46, estimators__n_estimators=29;, score=0.856 total time= 8.8min\n",
      "[CV 3/5; 84/100] START estimators__bootstrap=False, estimators__max_depth=18, estimators__max_features=sqrt, estimators__max_leaf_nodes=47, estimators__n_estimators=20\n",
      "[CV 1/5; 84/100] END estimators__bootstrap=False, estimators__max_depth=18, estimators__max_features=sqrt, estimators__max_leaf_nodes=47, estimators__n_estimators=20;, score=0.847 total time= 8.7min\n",
      "[CV 4/5; 84/100] START estimators__bootstrap=False, estimators__max_depth=18, estimators__max_features=sqrt, estimators__max_leaf_nodes=47, estimators__n_estimators=20\n",
      "[CV 5/5; 83/100] END estimators__bootstrap=True, estimators__max_depth=14, estimators__max_features=None, estimators__max_leaf_nodes=46, estimators__n_estimators=29;, score=0.837 total time= 8.8min\n",
      "[CV 5/5; 84/100] START estimators__bootstrap=False, estimators__max_depth=18, estimators__max_features=sqrt, estimators__max_leaf_nodes=47, estimators__n_estimators=20\n",
      "[CV 2/5; 84/100] END estimators__bootstrap=False, estimators__max_depth=18, estimators__max_features=sqrt, estimators__max_leaf_nodes=47, estimators__n_estimators=20;, score=0.851 total time= 8.9min\n",
      "[CV 1/5; 85/100] START estimators__bootstrap=False, estimators__max_depth=12, estimators__max_features=auto, estimators__max_leaf_nodes=12, estimators__n_estimators=47\n",
      "[CV 3/5; 84/100] END estimators__bootstrap=False, estimators__max_depth=18, estimators__max_features=sqrt, estimators__max_leaf_nodes=47, estimators__n_estimators=20;, score=0.856 total time=  36.7s\n",
      "[CV 2/5; 85/100] START estimators__bootstrap=False, estimators__max_depth=12, estimators__max_features=auto, estimators__max_leaf_nodes=12, estimators__n_estimators=47\n",
      "[CV 4/5; 84/100] END estimators__bootstrap=False, estimators__max_depth=18, estimators__max_features=sqrt, estimators__max_leaf_nodes=47, estimators__n_estimators=20;, score=0.852 total time=  37.2s\n",
      "[CV 3/5; 85/100] START estimators__bootstrap=False, estimators__max_depth=12, estimators__max_features=auto, estimators__max_leaf_nodes=12, estimators__n_estimators=47\n",
      "[CV 5/5; 84/100] END estimators__bootstrap=False, estimators__max_depth=18, estimators__max_features=sqrt, estimators__max_leaf_nodes=47, estimators__n_estimators=20;, score=0.836 total time=  37.0s\n",
      "[CV 4/5; 85/100] START estimators__bootstrap=False, estimators__max_depth=12, estimators__max_features=auto, estimators__max_leaf_nodes=12, estimators__n_estimators=47\n",
      "[CV 1/5; 85/100] END estimators__bootstrap=False, estimators__max_depth=12, estimators__max_features=auto, estimators__max_leaf_nodes=12, estimators__n_estimators=47;, score=0.834 total time=  30.1s\n",
      "[CV 5/5; 85/100] START estimators__bootstrap=False, estimators__max_depth=12, estimators__max_features=auto, estimators__max_leaf_nodes=12, estimators__n_estimators=47\n",
      "[CV 2/5; 85/100] END estimators__bootstrap=False, estimators__max_depth=12, estimators__max_features=auto, estimators__max_leaf_nodes=12, estimators__n_estimators=47;, score=0.846 total time=  30.8s\n",
      "[CV 1/5; 86/100] START estimators__bootstrap=True, estimators__max_depth=9, estimators__max_features=0.7, estimators__max_leaf_nodes=45, estimators__n_estimators=71\n",
      "[CV 3/5; 85/100] END estimators__bootstrap=False, estimators__max_depth=12, estimators__max_features=auto, estimators__max_leaf_nodes=12, estimators__n_estimators=47;, score=0.846 total time=  29.5s\n",
      "[CV 2/5; 86/100] START estimators__bootstrap=True, estimators__max_depth=9, estimators__max_features=0.7, estimators__max_leaf_nodes=45, estimators__n_estimators=71\n",
      "[CV 4/5; 85/100] END estimators__bootstrap=False, estimators__max_depth=12, estimators__max_features=auto, estimators__max_leaf_nodes=12, estimators__n_estimators=47;, score=0.847 total time=  29.4s\n",
      "[CV 3/5; 86/100] START estimators__bootstrap=True, estimators__max_depth=9, estimators__max_features=0.7, estimators__max_leaf_nodes=45, estimators__n_estimators=71\n",
      "[CV 5/5; 85/100] END estimators__bootstrap=False, estimators__max_depth=12, estimators__max_features=auto, estimators__max_leaf_nodes=12, estimators__n_estimators=47;, score=0.833 total time=  26.6s\n",
      "[CV 4/5; 86/100] START estimators__bootstrap=True, estimators__max_depth=9, estimators__max_features=0.7, estimators__max_leaf_nodes=45, estimators__n_estimators=71\n",
      "[CV 1/5; 86/100] END estimators__bootstrap=True, estimators__max_depth=9, estimators__max_features=0.7, estimators__max_leaf_nodes=45, estimators__n_estimators=71;, score=0.845 total time=  33.7s\n",
      "[CV 5/5; 86/100] START estimators__bootstrap=True, estimators__max_depth=9, estimators__max_features=0.7, estimators__max_leaf_nodes=45, estimators__n_estimators=71\n",
      "[CV 2/5; 86/100] END estimators__bootstrap=True, estimators__max_depth=9, estimators__max_features=0.7, estimators__max_leaf_nodes=45, estimators__n_estimators=71;, score=0.856 total time=  33.5s\n",
      "[CV 1/5; 87/100] START estimators__bootstrap=False, estimators__max_depth=9, estimators__max_features=auto, estimators__max_leaf_nodes=39, estimators__n_estimators=56\n",
      "[CV 3/5; 86/100] END estimators__bootstrap=True, estimators__max_depth=9, estimators__max_features=0.7, estimators__max_leaf_nodes=45, estimators__n_estimators=71;, score=0.852 total time=  33.8s\n",
      "[CV 2/5; 87/100] START estimators__bootstrap=False, estimators__max_depth=9, estimators__max_features=auto, estimators__max_leaf_nodes=39, estimators__n_estimators=56\n",
      "[CV 4/5; 86/100] END estimators__bootstrap=True, estimators__max_depth=9, estimators__max_features=0.7, estimators__max_leaf_nodes=45, estimators__n_estimators=71;, score=0.856 total time=  32.3s\n",
      "[CV 3/5; 87/100] START estimators__bootstrap=False, estimators__max_depth=9, estimators__max_features=auto, estimators__max_leaf_nodes=39, estimators__n_estimators=56\n",
      "[CV 1/5; 87/100] END estimators__bootstrap=False, estimators__max_depth=9, estimators__max_features=auto, estimators__max_leaf_nodes=39, estimators__n_estimators=56;, score=0.845 total time=  23.6s\n",
      "[CV 4/5; 87/100] START estimators__bootstrap=False, estimators__max_depth=9, estimators__max_features=auto, estimators__max_leaf_nodes=39, estimators__n_estimators=56\n",
      "[CV 2/5; 87/100] END estimators__bootstrap=False, estimators__max_depth=9, estimators__max_features=auto, estimators__max_leaf_nodes=39, estimators__n_estimators=56;, score=0.853 total time=  23.8s\n",
      "[CV 5/5; 87/100] START estimators__bootstrap=False, estimators__max_depth=9, estimators__max_features=auto, estimators__max_leaf_nodes=39, estimators__n_estimators=56\n",
      "[CV 5/5; 86/100] END estimators__bootstrap=True, estimators__max_depth=9, estimators__max_features=0.7, estimators__max_leaf_nodes=45, estimators__n_estimators=71;, score=0.840 total time=  32.9s\n",
      "[CV 1/5; 88/100] START estimators__bootstrap=False, estimators__max_depth=17, estimators__max_features=0.6, estimators__max_leaf_nodes=48, estimators__n_estimators=67\n",
      "[CV 3/5; 87/100] END estimators__bootstrap=False, estimators__max_depth=9, estimators__max_features=auto, estimators__max_leaf_nodes=39, estimators__n_estimators=56;, score=0.856 total time=  24.4s\n",
      "[CV 2/5; 88/100] START estimators__bootstrap=False, estimators__max_depth=17, estimators__max_features=0.6, estimators__max_leaf_nodes=48, estimators__n_estimators=67\n",
      "[CV 4/5; 87/100] END estimators__bootstrap=False, estimators__max_depth=9, estimators__max_features=auto, estimators__max_leaf_nodes=39, estimators__n_estimators=56;, score=0.853 total time=  24.8s\n",
      "[CV 3/5; 88/100] START estimators__bootstrap=False, estimators__max_depth=17, estimators__max_features=0.6, estimators__max_leaf_nodes=48, estimators__n_estimators=67\n",
      "[CV 5/5; 87/100] END estimators__bootstrap=False, estimators__max_depth=9, estimators__max_features=auto, estimators__max_leaf_nodes=39, estimators__n_estimators=56;, score=0.841 total time=  24.8s\n",
      "[CV 4/5; 88/100] START estimators__bootstrap=False, estimators__max_depth=17, estimators__max_features=0.6, estimators__max_leaf_nodes=48, estimators__n_estimators=67\n",
      "[CV 1/5; 88/100] END estimators__bootstrap=False, estimators__max_depth=17, estimators__max_features=0.6, estimators__max_leaf_nodes=48, estimators__n_estimators=67;, score=0.844 total time=  33.5s\n",
      "[CV 5/5; 88/100] START estimators__bootstrap=False, estimators__max_depth=17, estimators__max_features=0.6, estimators__max_leaf_nodes=48, estimators__n_estimators=67\n",
      "[CV 2/5; 88/100] END estimators__bootstrap=False, estimators__max_depth=17, estimators__max_features=0.6, estimators__max_leaf_nodes=48, estimators__n_estimators=67;, score=0.858 total time=  33.3s\n",
      "[CV 1/5; 89/100] START estimators__bootstrap=True, estimators__max_depth=4, estimators__max_features=0.8999999999999999, estimators__max_leaf_nodes=49, estimators__n_estimators=11\n",
      "[CV 3/5; 88/100] END estimators__bootstrap=False, estimators__max_depth=17, estimators__max_features=0.6, estimators__max_leaf_nodes=48, estimators__n_estimators=67;, score=0.853 total time=  33.0s\n",
      "[CV 2/5; 89/100] START estimators__bootstrap=True, estimators__max_depth=4, estimators__max_features=0.8999999999999999, estimators__max_leaf_nodes=49, estimators__n_estimators=11\n",
      "[CV 4/5; 88/100] END estimators__bootstrap=False, estimators__max_depth=17, estimators__max_features=0.6, estimators__max_leaf_nodes=48, estimators__n_estimators=67;, score=0.856 total time=  33.0s\n",
      "[CV 3/5; 89/100] START estimators__bootstrap=True, estimators__max_depth=4, estimators__max_features=0.8999999999999999, estimators__max_leaf_nodes=49, estimators__n_estimators=11\n",
      "[CV 5/5; 88/100] END estimators__bootstrap=False, estimators__max_depth=17, estimators__max_features=0.6, estimators__max_leaf_nodes=48, estimators__n_estimators=67;, score=0.840 total time=  33.2s\n",
      "[CV 4/5; 89/100] START estimators__bootstrap=True, estimators__max_depth=4, estimators__max_features=0.8999999999999999, estimators__max_leaf_nodes=49, estimators__n_estimators=11\n",
      "[CV 1/5; 89/100] END estimators__bootstrap=True, estimators__max_depth=4, estimators__max_features=0.8999999999999999, estimators__max_leaf_nodes=49, estimators__n_estimators=11;, score=0.830 total time=  23.3s\n",
      "[CV 5/5; 89/100] START estimators__bootstrap=True, estimators__max_depth=4, estimators__max_features=0.8999999999999999, estimators__max_leaf_nodes=49, estimators__n_estimators=11\n",
      "[CV 2/5; 89/100] END estimators__bootstrap=True, estimators__max_depth=4, estimators__max_features=0.8999999999999999, estimators__max_leaf_nodes=49, estimators__n_estimators=11;, score=0.840 total time=  23.2s\n",
      "[CV 1/5; 90/100] START estimators__bootstrap=False, estimators__max_depth=18, estimators__max_features=None, estimators__max_leaf_nodes=33, estimators__n_estimators=91\n",
      "[CV 3/5; 89/100] END estimators__bootstrap=True, estimators__max_depth=4, estimators__max_features=0.8999999999999999, estimators__max_leaf_nodes=49, estimators__n_estimators=11;, score=0.833 total time=  23.7s\n",
      "[CV 2/5; 90/100] START estimators__bootstrap=False, estimators__max_depth=18, estimators__max_features=None, estimators__max_leaf_nodes=33, estimators__n_estimators=91\n",
      "[CV 4/5; 89/100] END estimators__bootstrap=True, estimators__max_depth=4, estimators__max_features=0.8999999999999999, estimators__max_leaf_nodes=49, estimators__n_estimators=11;, score=0.839 total time=  23.9s\n",
      "[CV 3/5; 90/100] START estimators__bootstrap=False, estimators__max_depth=18, estimators__max_features=None, estimators__max_leaf_nodes=33, estimators__n_estimators=91\n",
      "[CV 5/5; 89/100] END estimators__bootstrap=True, estimators__max_depth=4, estimators__max_features=0.8999999999999999, estimators__max_leaf_nodes=49, estimators__n_estimators=11;, score=0.826 total time=  24.1s\n",
      "[CV 4/5; 90/100] START estimators__bootstrap=False, estimators__max_depth=18, estimators__max_features=None, estimators__max_leaf_nodes=33, estimators__n_estimators=91\n",
      "[CV 1/5; 90/100] END estimators__bootstrap=False, estimators__max_depth=18, estimators__max_features=None, estimators__max_leaf_nodes=33, estimators__n_estimators=91;, score=0.829 total time=  41.0s\n",
      "[CV 5/5; 90/100] START estimators__bootstrap=False, estimators__max_depth=18, estimators__max_features=None, estimators__max_leaf_nodes=33, estimators__n_estimators=91\n",
      "[CV 2/5; 90/100] END estimators__bootstrap=False, estimators__max_depth=18, estimators__max_features=None, estimators__max_leaf_nodes=33, estimators__n_estimators=91;, score=0.838 total time=  40.2s\n",
      "[CV 1/5; 91/100] START estimators__bootstrap=False, estimators__max_depth=6, estimators__max_features=0.5, estimators__max_leaf_nodes=17, estimators__n_estimators=71\n",
      "[CV 3/5; 90/100] END estimators__bootstrap=False, estimators__max_depth=18, estimators__max_features=None, estimators__max_leaf_nodes=33, estimators__n_estimators=91;, score=0.832 total time=  40.6s\n",
      "[CV 2/5; 91/100] START estimators__bootstrap=False, estimators__max_depth=6, estimators__max_features=0.5, estimators__max_leaf_nodes=17, estimators__n_estimators=71\n",
      "[CV 4/5; 90/100] END estimators__bootstrap=False, estimators__max_depth=18, estimators__max_features=None, estimators__max_leaf_nodes=33, estimators__n_estimators=91;, score=0.847 total time=  40.9s\n",
      "[CV 3/5; 91/100] START estimators__bootstrap=False, estimators__max_depth=6, estimators__max_features=0.5, estimators__max_leaf_nodes=17, estimators__n_estimators=71\n",
      "[CV 1/5; 91/100] END estimators__bootstrap=False, estimators__max_depth=6, estimators__max_features=0.5, estimators__max_leaf_nodes=17, estimators__n_estimators=71;, score=0.837 total time=  28.1s\n",
      "[CV 4/5; 91/100] START estimators__bootstrap=False, estimators__max_depth=6, estimators__max_features=0.5, estimators__max_leaf_nodes=17, estimators__n_estimators=71\n",
      "[CV 2/5; 91/100] END estimators__bootstrap=False, estimators__max_depth=6, estimators__max_features=0.5, estimators__max_leaf_nodes=17, estimators__n_estimators=71;, score=0.845 total time=  27.6s\n",
      "[CV 5/5; 91/100] START estimators__bootstrap=False, estimators__max_depth=6, estimators__max_features=0.5, estimators__max_leaf_nodes=17, estimators__n_estimators=71\n",
      "[CV 5/5; 90/100] END estimators__bootstrap=False, estimators__max_depth=18, estimators__max_features=None, estimators__max_leaf_nodes=33, estimators__n_estimators=91;, score=0.829 total time=  42.4s\n",
      "[CV 1/5; 92/100] START estimators__bootstrap=True, estimators__max_depth=3, estimators__max_features=None, estimators__max_leaf_nodes=18, estimators__n_estimators=15\n",
      "[CV 3/5; 91/100] END estimators__bootstrap=False, estimators__max_depth=6, estimators__max_features=0.5, estimators__max_leaf_nodes=17, estimators__n_estimators=71;, score=0.842 total time=  28.0s\n",
      "[CV 2/5; 92/100] START estimators__bootstrap=True, estimators__max_depth=3, estimators__max_features=None, estimators__max_leaf_nodes=18, estimators__n_estimators=15\n",
      "[CV 4/5; 91/100] END estimators__bootstrap=False, estimators__max_depth=6, estimators__max_features=0.5, estimators__max_leaf_nodes=17, estimators__n_estimators=71;, score=0.844 total time=  26.8s\n",
      "[CV 3/5; 92/100] START estimators__bootstrap=True, estimators__max_depth=3, estimators__max_features=None, estimators__max_leaf_nodes=18, estimators__n_estimators=15\n",
      "[CV 1/5; 92/100] END estimators__bootstrap=True, estimators__max_depth=3, estimators__max_features=None, estimators__max_leaf_nodes=18, estimators__n_estimators=15;, score=0.811 total time=  22.8s\n",
      "[CV 4/5; 92/100] START estimators__bootstrap=True, estimators__max_depth=3, estimators__max_features=None, estimators__max_leaf_nodes=18, estimators__n_estimators=15\n",
      "[CV 2/5; 92/100] END estimators__bootstrap=True, estimators__max_depth=3, estimators__max_features=None, estimators__max_leaf_nodes=18, estimators__n_estimators=15;, score=0.821 total time=  23.0s\n",
      "[CV 5/5; 92/100] START estimators__bootstrap=True, estimators__max_depth=3, estimators__max_features=None, estimators__max_leaf_nodes=18, estimators__n_estimators=15\n",
      "[CV 5/5; 91/100] END estimators__bootstrap=False, estimators__max_depth=6, estimators__max_features=0.5, estimators__max_leaf_nodes=17, estimators__n_estimators=71;, score=0.828 total time=  27.4s\n",
      "[CV 1/5; 93/100] START estimators__bootstrap=True, estimators__max_depth=15, estimators__max_features=0.7, estimators__max_leaf_nodes=45, estimators__n_estimators=42\n",
      "[CV 3/5; 92/100] END estimators__bootstrap=True, estimators__max_depth=3, estimators__max_features=None, estimators__max_leaf_nodes=18, estimators__n_estimators=15;, score=0.799 total time=  23.9s\n",
      "[CV 2/5; 93/100] START estimators__bootstrap=True, estimators__max_depth=15, estimators__max_features=0.7, estimators__max_leaf_nodes=45, estimators__n_estimators=42\n",
      "[CV 4/5; 92/100] END estimators__bootstrap=True, estimators__max_depth=3, estimators__max_features=None, estimators__max_leaf_nodes=18, estimators__n_estimators=15;, score=0.812 total time=  24.0s\n",
      "[CV 3/5; 93/100] START estimators__bootstrap=True, estimators__max_depth=15, estimators__max_features=0.7, estimators__max_leaf_nodes=45, estimators__n_estimators=42\n",
      "[CV 5/5; 92/100] END estimators__bootstrap=True, estimators__max_depth=3, estimators__max_features=None, estimators__max_leaf_nodes=18, estimators__n_estimators=15;, score=0.812 total time=  24.3s\n",
      "[CV 4/5; 93/100] START estimators__bootstrap=True, estimators__max_depth=15, estimators__max_features=0.7, estimators__max_leaf_nodes=45, estimators__n_estimators=42\n",
      "[CV 1/5; 93/100] END estimators__bootstrap=True, estimators__max_depth=15, estimators__max_features=0.7, estimators__max_leaf_nodes=45, estimators__n_estimators=42;, score=0.845 total time=  37.1s\n",
      "[CV 5/5; 93/100] START estimators__bootstrap=True, estimators__max_depth=15, estimators__max_features=0.7, estimators__max_leaf_nodes=45, estimators__n_estimators=42\n",
      "[CV 2/5; 93/100] END estimators__bootstrap=True, estimators__max_depth=15, estimators__max_features=0.7, estimators__max_leaf_nodes=45, estimators__n_estimators=42;, score=0.856 total time=  41.6s\n",
      "[CV 1/5; 94/100] START estimators__bootstrap=False, estimators__max_depth=3, estimators__max_features=0.6, estimators__max_leaf_nodes=31, estimators__n_estimators=42\n",
      "[CV 3/5; 93/100] END estimators__bootstrap=True, estimators__max_depth=15, estimators__max_features=0.7, estimators__max_leaf_nodes=45, estimators__n_estimators=42;, score=0.851 total time=  40.6s\n",
      "[CV 2/5; 94/100] START estimators__bootstrap=False, estimators__max_depth=3, estimators__max_features=0.6, estimators__max_leaf_nodes=31, estimators__n_estimators=42\n",
      "[CV 4/5; 93/100] END estimators__bootstrap=True, estimators__max_depth=15, estimators__max_features=0.7, estimators__max_leaf_nodes=45, estimators__n_estimators=42;, score=0.855 total time=  40.4s\n",
      "[CV 3/5; 94/100] START estimators__bootstrap=False, estimators__max_depth=3, estimators__max_features=0.6, estimators__max_leaf_nodes=31, estimators__n_estimators=42\n",
      "[CV 5/5; 93/100] END estimators__bootstrap=True, estimators__max_depth=15, estimators__max_features=0.7, estimators__max_leaf_nodes=45, estimators__n_estimators=42;, score=0.841 total time=  32.0s\n",
      "[CV 4/5; 94/100] START estimators__bootstrap=False, estimators__max_depth=3, estimators__max_features=0.6, estimators__max_leaf_nodes=31, estimators__n_estimators=42\n",
      "[CV 1/5; 94/100] END estimators__bootstrap=False, estimators__max_depth=3, estimators__max_features=0.6, estimators__max_leaf_nodes=31, estimators__n_estimators=42;, score=0.815 total time=  21.5s\n",
      "[CV 5/5; 94/100] START estimators__bootstrap=False, estimators__max_depth=3, estimators__max_features=0.6, estimators__max_leaf_nodes=31, estimators__n_estimators=42\n",
      "[CV 2/5; 94/100] END estimators__bootstrap=False, estimators__max_depth=3, estimators__max_features=0.6, estimators__max_leaf_nodes=31, estimators__n_estimators=42;, score=0.825 total time=  21.5s\n",
      "[CV 1/5; 95/100] START estimators__bootstrap=False, estimators__max_depth=7, estimators__max_features=None, estimators__max_leaf_nodes=15, estimators__n_estimators=97\n",
      "[CV 3/5; 94/100] END estimators__bootstrap=False, estimators__max_depth=3, estimators__max_features=0.6, estimators__max_leaf_nodes=31, estimators__n_estimators=42;, score=0.823 total time=  21.5s\n",
      "[CV 2/5; 95/100] START estimators__bootstrap=False, estimators__max_depth=7, estimators__max_features=None, estimators__max_leaf_nodes=15, estimators__n_estimators=97\n",
      "[CV 4/5; 94/100] END estimators__bootstrap=False, estimators__max_depth=3, estimators__max_features=0.6, estimators__max_leaf_nodes=31, estimators__n_estimators=42;, score=0.830 total time=  22.1s\n",
      "[CV 3/5; 95/100] START estimators__bootstrap=False, estimators__max_depth=7, estimators__max_features=None, estimators__max_leaf_nodes=15, estimators__n_estimators=97\n",
      "[CV 5/5; 94/100] END estimators__bootstrap=False, estimators__max_depth=3, estimators__max_features=0.6, estimators__max_leaf_nodes=31, estimators__n_estimators=42;, score=0.821 total time=  22.2s\n",
      "[CV 4/5; 95/100] START estimators__bootstrap=False, estimators__max_depth=7, estimators__max_features=None, estimators__max_leaf_nodes=15, estimators__n_estimators=97\n",
      "[CV 1/5; 95/100] END estimators__bootstrap=False, estimators__max_depth=7, estimators__max_features=None, estimators__max_leaf_nodes=15, estimators__n_estimators=97;, score=0.819 total time=  30.6s\n",
      "[CV 5/5; 95/100] START estimators__bootstrap=False, estimators__max_depth=7, estimators__max_features=None, estimators__max_leaf_nodes=15, estimators__n_estimators=97\n",
      "[CV 2/5; 95/100] END estimators__bootstrap=False, estimators__max_depth=7, estimators__max_features=None, estimators__max_leaf_nodes=15, estimators__n_estimators=97;, score=0.827 total time=  31.0s\n",
      "[CV 1/5; 96/100] START estimators__bootstrap=True, estimators__max_depth=14, estimators__max_features=None, estimators__max_leaf_nodes=26, estimators__n_estimators=90\n",
      "[CV 3/5; 95/100] END estimators__bootstrap=False, estimators__max_depth=7, estimators__max_features=None, estimators__max_leaf_nodes=15, estimators__n_estimators=97;, score=0.822 total time=  30.7s\n",
      "[CV 2/5; 96/100] START estimators__bootstrap=True, estimators__max_depth=14, estimators__max_features=None, estimators__max_leaf_nodes=26, estimators__n_estimators=90\n",
      "[CV 4/5; 95/100] END estimators__bootstrap=False, estimators__max_depth=7, estimators__max_features=None, estimators__max_leaf_nodes=15, estimators__n_estimators=97;, score=0.831 total time=  30.8s\n",
      "[CV 3/5; 96/100] START estimators__bootstrap=True, estimators__max_depth=14, estimators__max_features=None, estimators__max_leaf_nodes=26, estimators__n_estimators=90\n",
      "[CV 5/5; 95/100] END estimators__bootstrap=False, estimators__max_depth=7, estimators__max_features=None, estimators__max_leaf_nodes=15, estimators__n_estimators=97;, score=0.819 total time=  31.4s\n",
      "[CV 4/5; 96/100] START estimators__bootstrap=True, estimators__max_depth=14, estimators__max_features=None, estimators__max_leaf_nodes=26, estimators__n_estimators=90\n",
      "[CV 1/5; 96/100] END estimators__bootstrap=True, estimators__max_depth=14, estimators__max_features=None, estimators__max_leaf_nodes=26, estimators__n_estimators=90;, score=0.839 total time=  32.4s\n",
      "[CV 5/5; 96/100] START estimators__bootstrap=True, estimators__max_depth=14, estimators__max_features=None, estimators__max_leaf_nodes=26, estimators__n_estimators=90\n",
      "[CV 2/5; 96/100] END estimators__bootstrap=True, estimators__max_depth=14, estimators__max_features=None, estimators__max_leaf_nodes=26, estimators__n_estimators=90;, score=0.847 total time=  32.7s\n",
      "[CV 1/5; 97/100] START estimators__bootstrap=False, estimators__max_depth=14, estimators__max_features=0.7999999999999999, estimators__max_leaf_nodes=10, estimators__n_estimators=71\n",
      "[CV 3/5; 96/100] END estimators__bootstrap=True, estimators__max_depth=14, estimators__max_features=None, estimators__max_leaf_nodes=26, estimators__n_estimators=90;, score=0.841 total time=  32.5s\n",
      "[CV 2/5; 97/100] START estimators__bootstrap=False, estimators__max_depth=14, estimators__max_features=0.7999999999999999, estimators__max_leaf_nodes=10, estimators__n_estimators=71\n",
      "[CV 4/5; 96/100] END estimators__bootstrap=True, estimators__max_depth=14, estimators__max_features=None, estimators__max_leaf_nodes=26, estimators__n_estimators=90;, score=0.850 total time=  32.1s\n",
      "[CV 3/5; 97/100] START estimators__bootstrap=False, estimators__max_depth=14, estimators__max_features=0.7999999999999999, estimators__max_leaf_nodes=10, estimators__n_estimators=71\n",
      "[CV 1/5; 97/100] END estimators__bootstrap=False, estimators__max_depth=14, estimators__max_features=0.7999999999999999, estimators__max_leaf_nodes=10, estimators__n_estimators=71;, score=0.824 total time=  24.5s\n",
      "[CV 4/5; 97/100] START estimators__bootstrap=False, estimators__max_depth=14, estimators__max_features=0.7999999999999999, estimators__max_leaf_nodes=10, estimators__n_estimators=71\n",
      "[CV 5/5; 96/100] END estimators__bootstrap=True, estimators__max_depth=14, estimators__max_features=None, estimators__max_leaf_nodes=26, estimators__n_estimators=90;, score=0.835 total time=  32.8s\n",
      "[CV 5/5; 97/100] START estimators__bootstrap=False, estimators__max_depth=14, estimators__max_features=0.7999999999999999, estimators__max_leaf_nodes=10, estimators__n_estimators=71\n",
      "[CV 2/5; 97/100] END estimators__bootstrap=False, estimators__max_depth=14, estimators__max_features=0.7999999999999999, estimators__max_leaf_nodes=10, estimators__n_estimators=71;, score=0.828 total time=  24.8s\n",
      "[CV 1/5; 98/100] START estimators__bootstrap=False, estimators__max_depth=6, estimators__max_features=0.5, estimators__max_leaf_nodes=39, estimators__n_estimators=33\n",
      "[CV 3/5; 97/100] END estimators__bootstrap=False, estimators__max_depth=14, estimators__max_features=0.7999999999999999, estimators__max_leaf_nodes=10, estimators__n_estimators=71;, score=0.821 total time=  24.8s\n",
      "[CV 2/5; 98/100] START estimators__bootstrap=False, estimators__max_depth=6, estimators__max_features=0.5, estimators__max_leaf_nodes=39, estimators__n_estimators=33\n",
      "[CV 4/5; 97/100] END estimators__bootstrap=False, estimators__max_depth=14, estimators__max_features=0.7999999999999999, estimators__max_leaf_nodes=10, estimators__n_estimators=71;, score=0.833 total time=  24.6s\n",
      "[CV 3/5; 98/100] START estimators__bootstrap=False, estimators__max_depth=6, estimators__max_features=0.5, estimators__max_leaf_nodes=39, estimators__n_estimators=33\n",
      "[CV 5/5; 97/100] END estimators__bootstrap=False, estimators__max_depth=14, estimators__max_features=0.7999999999999999, estimators__max_leaf_nodes=10, estimators__n_estimators=71;, score=0.826 total time=  24.9s\n",
      "[CV 4/5; 98/100] START estimators__bootstrap=False, estimators__max_depth=6, estimators__max_features=0.5, estimators__max_leaf_nodes=39, estimators__n_estimators=33\n",
      "[CV 1/5; 98/100] END estimators__bootstrap=False, estimators__max_depth=6, estimators__max_features=0.5, estimators__max_leaf_nodes=39, estimators__n_estimators=33;, score=0.843 total time=  22.9s\n",
      "[CV 5/5; 98/100] START estimators__bootstrap=False, estimators__max_depth=6, estimators__max_features=0.5, estimators__max_leaf_nodes=39, estimators__n_estimators=33\n",
      "[CV 2/5; 98/100] END estimators__bootstrap=False, estimators__max_depth=6, estimators__max_features=0.5, estimators__max_leaf_nodes=39, estimators__n_estimators=33;, score=0.855 total time=  24.0s\n",
      "[CV 1/5; 99/100] START estimators__bootstrap=True, estimators__max_depth=16, estimators__max_features=0.7999999999999999, estimators__max_leaf_nodes=10, estimators__n_estimators=82\n",
      "[CV 3/5; 98/100] END estimators__bootstrap=False, estimators__max_depth=6, estimators__max_features=0.5, estimators__max_leaf_nodes=39, estimators__n_estimators=33;, score=0.855 total time=  24.1s\n",
      "[CV 2/5; 99/100] START estimators__bootstrap=True, estimators__max_depth=16, estimators__max_features=0.7999999999999999, estimators__max_leaf_nodes=10, estimators__n_estimators=82\n",
      "[CV 4/5; 98/100] END estimators__bootstrap=False, estimators__max_depth=6, estimators__max_features=0.5, estimators__max_leaf_nodes=39, estimators__n_estimators=33;, score=0.852 total time=  23.9s\n",
      "[CV 3/5; 99/100] START estimators__bootstrap=True, estimators__max_depth=16, estimators__max_features=0.7999999999999999, estimators__max_leaf_nodes=10, estimators__n_estimators=82\n",
      "[CV 5/5; 98/100] END estimators__bootstrap=False, estimators__max_depth=6, estimators__max_features=0.5, estimators__max_leaf_nodes=39, estimators__n_estimators=33;, score=0.835 total time=  24.2s\n",
      "[CV 4/5; 99/100] START estimators__bootstrap=True, estimators__max_depth=16, estimators__max_features=0.7999999999999999, estimators__max_leaf_nodes=10, estimators__n_estimators=82\n",
      "[CV 1/5; 99/100] END estimators__bootstrap=True, estimators__max_depth=16, estimators__max_features=0.7999999999999999, estimators__max_leaf_nodes=10, estimators__n_estimators=82;, score=0.822 total time=  25.1s\n",
      "[CV 5/5; 99/100] START estimators__bootstrap=True, estimators__max_depth=16, estimators__max_features=0.7999999999999999, estimators__max_leaf_nodes=10, estimators__n_estimators=82\n",
      "[CV 2/5; 99/100] END estimators__bootstrap=True, estimators__max_depth=16, estimators__max_features=0.7999999999999999, estimators__max_leaf_nodes=10, estimators__n_estimators=82;, score=0.833 total time=  25.8s\n",
      "[CV 1/5; 100/100] START estimators__bootstrap=True, estimators__max_depth=7, estimators__max_features=0.7999999999999999, estimators__max_leaf_nodes=30, estimators__n_estimators=20\n",
      "[CV 3/5; 99/100] END estimators__bootstrap=True, estimators__max_depth=16, estimators__max_features=0.7999999999999999, estimators__max_leaf_nodes=10, estimators__n_estimators=82;, score=0.828 total time=  25.8s\n",
      "[CV 2/5; 100/100] START estimators__bootstrap=True, estimators__max_depth=7, estimators__max_features=0.7999999999999999, estimators__max_leaf_nodes=30, estimators__n_estimators=20\n",
      "[CV 4/5; 99/100] END estimators__bootstrap=True, estimators__max_depth=16, estimators__max_features=0.7999999999999999, estimators__max_leaf_nodes=10, estimators__n_estimators=82;, score=0.834 total time=  25.5s\n",
      "[CV 3/5; 100/100] START estimators__bootstrap=True, estimators__max_depth=7, estimators__max_features=0.7999999999999999, estimators__max_leaf_nodes=30, estimators__n_estimators=20\n",
      "[CV 5/5; 99/100] END estimators__bootstrap=True, estimators__max_depth=16, estimators__max_features=0.7999999999999999, estimators__max_leaf_nodes=10, estimators__n_estimators=82;, score=0.828 total time=  26.1s\n",
      "[CV 4/5; 100/100] START estimators__bootstrap=True, estimators__max_depth=7, estimators__max_features=0.7999999999999999, estimators__max_leaf_nodes=30, estimators__n_estimators=20\n",
      "[CV 1/5; 100/100] END estimators__bootstrap=True, estimators__max_depth=7, estimators__max_features=0.7999999999999999, estimators__max_leaf_nodes=30, estimators__n_estimators=20;, score=0.841 total time=  23.5s\n",
      "[CV 5/5; 100/100] START estimators__bootstrap=True, estimators__max_depth=7, estimators__max_features=0.7999999999999999, estimators__max_leaf_nodes=30, estimators__n_estimators=20\n",
      "[CV 2/5; 100/100] END estimators__bootstrap=True, estimators__max_depth=7, estimators__max_features=0.7999999999999999, estimators__max_leaf_nodes=30, estimators__n_estimators=20;, score=0.850 total time=  23.5s\n",
      "[CV 3/5; 100/100] END estimators__bootstrap=True, estimators__max_depth=7, estimators__max_features=0.7999999999999999, estimators__max_leaf_nodes=30, estimators__n_estimators=20;, score=0.843 total time=  23.1s\n",
      "[CV 4/5; 100/100] END estimators__bootstrap=True, estimators__max_depth=7, estimators__max_features=0.7999999999999999, estimators__max_leaf_nodes=30, estimators__n_estimators=20;, score=0.850 total time=  14.0s\n",
      "[CV 5/5; 100/100] END estimators__bootstrap=True, estimators__max_depth=7, estimators__max_features=0.7999999999999999, estimators__max_leaf_nodes=30, estimators__n_estimators=20;, score=0.837 total time=  13.8s\n"
     ]
    }
   ],
   "source": [
    "rand_forst_unilabel = grid_rand_forst_unilabel.fit(X_no_vacc_train,  y_h1n1_vacc_train)"
   ]
  },
  {
   "cell_type": "code",
   "execution_count": 57,
   "metadata": {},
   "outputs": [
    {
     "name": "stdout",
     "output_type": "stream",
     "text": [
      "Best score:\n",
      "0.85\n",
      "Best parameters:\n",
      "{'estimators__n_estimators': 67, 'estimators__max_leaf_nodes': 48, 'estimators__max_features': 'auto', 'estimators__max_depth': 16, 'estimators__bootstrap': True}\n"
     ]
    }
   ],
   "source": [
    "# Show best parameters\n",
    "print('Best score:\\n{:.2f}'.format(rand_forst_unilabel.best_score_))\n",
    "print(\"Best parameters:\\n{}\".format(rand_forst_unilabel.best_params_))"
   ]
  },
  {
   "cell_type": "code",
   "execution_count": 58,
   "metadata": {},
   "outputs": [],
   "source": [
    "# Save best model\n",
    "\n",
    "best_model_rand_forst_unilabel = rand_forst_unilabel.best_estimator_['estimators']"
   ]
  },
  {
   "cell_type": "code",
   "execution_count": 59,
   "metadata": {},
   "outputs": [
    {
     "data": {
      "text/plain": [
       "RandomForestClassifier(max_depth=16, max_leaf_nodes=48, n_estimators=67)"
      ]
     },
     "execution_count": 59,
     "metadata": {},
     "output_type": "execute_result"
    }
   ],
   "source": [
    "best_model_rand_forst_unilabel"
   ]
  },
  {
   "cell_type": "code",
   "execution_count": 60,
   "metadata": {},
   "outputs": [],
   "source": [
    "# Creating an adapted pipeline \n",
    "\n",
    "rand_forst_unilabel_pipeline_tuned = Pipeline([\n",
    "    (\"preprocessor\", preprocessor),\n",
    "    (\"estimators\", best_model_rand_forst_unilabel),\n",
    "])"
   ]
  },
  {
   "cell_type": "markdown",
   "metadata": {},
   "source": [
    "Training the optimized model on the data "
   ]
  },
  {
   "cell_type": "code",
   "execution_count": 61,
   "metadata": {},
   "outputs": [
    {
     "data": {
      "text/plain": [
       "'svm_unilabel_no_vacc = svm_unilabel_pipeline.fit(X_no_vacc_train, y_h1n1_vacc_train)'"
      ]
     },
     "execution_count": 61,
     "metadata": {},
     "output_type": "execute_result"
    }
   ],
   "source": [
    "# for Random Forest\n",
    "# fitting the data to the new tuned model \n",
    "\n",
    "best_model_rand_forst_unilabel = rand_forst_unilabel_pipeline_tuned.fit(X_no_vacc_train,  y_h1n1_vacc_train)\n",
    "\n",
    "#for SVM\n",
    "'''svm_unilabel_no_vacc = svm_unilabel_pipeline.fit(X_no_vacc_train, y_h1n1_vacc_train)'''"
   ]
  },
  {
   "cell_type": "code",
   "execution_count": null,
   "metadata": {},
   "outputs": [],
   "source": [
    "# Figure out later what this does and if we want to use it\n",
    "\n",
    "\n",
    "#y_train_predicted = cross_val_predict(full_pipeline, X_train, y_train, cv=5)"
   ]
  },
  {
   "cell_type": "markdown",
   "metadata": {},
   "source": [
    "Making predictions based on train and test data:"
   ]
  },
  {
   "cell_type": "code",
   "execution_count": 62,
   "metadata": {},
   "outputs": [],
   "source": [
    "# for Random Forest\n",
    "rand_forst_unilabel_no_vacc_trainpreds_best = best_model_rand_forst_unilabel.predict(X_no_vacc_train)\n",
    "rand_forst_unilabel_no_vacc_testpreds_best = best_model_rand_forst_unilabel.predict(X_no_vacc_test)\n",
    "\n",
    "# for SVM\n",
    "#svm_unilabel_no_vacc_trainpreds = svm_unilabel_no_vacc.predict(X_no_vacc_train)\n",
    "#svm_unilabel_no_vacc_testpreds = svm_unilabel_no_vacc.predict(X_no_vacc_test)"
   ]
  },
  {
   "cell_type": "markdown",
   "metadata": {},
   "source": [
    "### Model evaluation"
   ]
  },
  {
   "cell_type": "markdown",
   "metadata": {},
   "source": [
    "#### Train data"
   ]
  },
  {
   "cell_type": "code",
   "execution_count": 63,
   "metadata": {},
   "outputs": [],
   "source": [
    "# Random Forest--Train data evaluation Metrics\n",
    "#check if these metrics are changing compared to previous results\n",
    "h1n1_rand_forst_unilabel_no_vacc_train_acc_best = accuracy_score(y_h1n1_vacc_train, rand_forst_unilabel_no_vacc_trainpreds_best)\n",
    "h1n1_rand_forst_unilabel_no_vacc_train_recall_best = recall_score(y_h1n1_vacc_train, rand_forst_unilabel_no_vacc_trainpreds_best)\n",
    "h1n1_rand_forst_unilabel_no_vacc_train_precision_best = precision_score(y_h1n1_vacc_train, rand_forst_unilabel_no_vacc_trainpreds_best)\n",
    "h1n1_rand_forst_unilabel_no_vacc_train_f1_best = f1_score(y_h1n1_vacc_train, rand_forst_unilabel_no_vacc_trainpreds_best)\n",
    "h1n1_rand_forst_unilabel_no_vacc_train_roc_best = roc_auc_score(y_h1n1_vacc_train, rand_forst_unilabel_no_vacc_trainpreds_best)\n",
    "\n",
    "#print(\"Accuracy: {:.2f}\".format(accuracy_score(y_h1n1_vacc_train, rand_forst_unilabel_no_vacc_trainpreds)))\n",
    "#print(\"Recall: {:.2f}\".format(recall_score(y_h1n1_vacc_train, rand_forst_unilabel_no_vacc_trainpreds)))\n",
    "#print(\"Precision: {:.2f}\".format(precision_score(y_h1n1_vacc_train, rand_forst_unilabel_no_vacc_trainpreds)))\n",
    "#print(\"F1: {:.2f}\".format(f1_score(y_h1n1_vacc_train, rand_forst_unilabel_no_vacc_trainpreds)))\n",
    "#print(\"ROC: {:.2f}\".format(roc_auc_score(y_h1n1_vacc_train, rand_forst_unilabel_no_vacc_trainpreds)))"
   ]
  },
  {
   "cell_type": "code",
   "execution_count": null,
   "metadata": {},
   "outputs": [],
   "source": [
    "# SVM--Train data evaluation Metrics\n",
    "'''h1n1_svm_unilabel_no_vacc_train_acc = accuracy_score(y_h1n1_vacc_train, svm_unilabel_no_vacc_trainpreds)\n",
    "h1n1_svm_unilabel_no_vacc_train_recall = recall_score(y_h1n1_vacc_train, svm_unilabel_no_vacc_trainpreds)\n",
    "h1n1_svm_unilabel_no_vacc_train_precision = precision_score(y_h1n1_vacc_train, svm_unilabel_no_vacc_trainpreds)\n",
    "h1n1_svm_unilabel_no_vacc_train_f1 = f1_score(y_h1n1_vacc_train, svm_unilabel_no_vacc_trainpreds)\n",
    "h1n1_svm_unilabel_no_vacc_train_roc = roc_auc_score(y_h1n1_vacc_train, svm_unilabel_no_vacc_trainpreds)'''\n",
    "\n",
    "#print(\"Accuracy: {:.2f}\".format(accuracy_score(y_h1n1_vacc_train, svm_unilabel_no_vacc_trainpreds)))\n",
    "#print(\"Recall: {:.2f}\".format(recall_score(y_h1n1_vacc_train, svm_unilabel_no_vacc_trainpreds)))\n",
    "#print(\"Precision: {:.2f}\".format(precision_score(y_h1n1_vacc_train, svm_unilabel_no_vacc_trainpreds)))\n",
    "#print(\"F1: {:.2f}\".format(f1_score(y_h1n1_vacc_train, svm_unilabel_no_vacc_trainpreds)))\n",
    "#print(\"ROC: {:.2f}\".format(roc_auc_score(y_h1n1_vacc_train, svm_unilabel_no_vacc_trainpreds)))"
   ]
  },
  {
   "cell_type": "markdown",
   "metadata": {},
   "source": [
    "#### Test data"
   ]
  },
  {
   "cell_type": "code",
   "execution_count": 64,
   "metadata": {},
   "outputs": [],
   "source": [
    "# Random Forest--Test data evaluation Metrics\n",
    "#check if these metrics are changing compared to previous results\n",
    "h1n1_rand_forst_unilabel_no_vacc_test_acc_best = accuracy_score(y_h1n1_vacc_test, rand_forst_unilabel_no_vacc_testpreds_best)\n",
    "h1n1_rand_forst_unilabel_no_vacc_test_recall_best = recall_score(y_h1n1_vacc_test, rand_forst_unilabel_no_vacc_testpreds_best)\n",
    "h1n1_rand_forst_unilabel_no_vacc_test_precision_best = precision_score(y_h1n1_vacc_test, rand_forst_unilabel_no_vacc_testpreds_best)\n",
    "h1n1_rand_forst_unilabel_no_vacc_test_f1_best = f1_score(y_h1n1_vacc_test, rand_forst_unilabel_no_vacc_testpreds_best)\n",
    "h1n1_rand_forst_unilabel_no_vacc_test_roc_best = roc_auc_score(y_h1n1_vacc_test, rand_forst_unilabel_no_vacc_testpreds_best)\n",
    "\n",
    "#print(\"Accuracy: {:.2f}\".format(accuracy_score(y_h1n1_vacc_test, rand_forst_unilabel_no_vacc_testpreds)))\n",
    "#print(\"Recall: {:.2f}\".format(recall_score(y_h1n1_vacc_test, rand_forst_unilabel_no_vacc_testpreds)))\n",
    "#print(\"Precision: {:.2f}\".format(precision_score(y_h1n1_vacc_test, rand_forst_unilabel_no_vacc_testpreds)))\n",
    "#print(\"F1: {:.2f}\".format(f1_score(y_h1n1_vacc_test, rand_forst_unilabel_no_vacc_testpreds)))\n",
    "#print(\"ROC: {:.2f}\".format(roc_auc_score(y_h1n1_vacc_test, rand_forst_unilabel_no_vacc_testpreds)))"
   ]
  },
  {
   "cell_type": "code",
   "execution_count": null,
   "metadata": {},
   "outputs": [],
   "source": [
    "# SVM--Test data evaluation Metrics\n",
    "'''h1n1_svm_unilabel_no_vacc_test_acc = accuracy_score(y_h1n1_vacc_test, svm_unilabel_no_vacc_testpreds)\n",
    "h1n1_svm_unilabel_no_vacc_test_recall = recall_score(y_h1n1_vacc_test, svm_unilabel_no_vacc_testpreds)\n",
    "h1n1_svm_unilabel_no_vacc_test_precision = precision_score(y_h1n1_vacc_test, svm_unilabel_no_vacc_testpreds)\n",
    "h1n1_svm_unilabel_no_vacc_test_f1 = f1_score(y_h1n1_vacc_test, svm_unilabel_no_vacc_testpreds)\n",
    "h1n1_svm_unilabel_no_vacc_test_roc = roc_auc_score(y_h1n1_vacc_test, svm_unilabel_no_vacc_testpreds)'''\n",
    "\n",
    "#print(\"Accuracy: {:.2f}\".format(accuracy_score(y_h1n1_vacc_test, svm_unilabel_no_vacc_testpreds)))\n",
    "#print(\"Recall: {:.2f}\".format(recall_score(y_h1n1_vacc_test, svm_unilabel_no_vacc_testpreds)))\n",
    "#print(\"Precision: {:.2f}\".format(precision_score(y_h1n1_vacc_test, svm_unilabel_no_vacc_testpreds)))\n",
    "#print(\"F1: {:.2f}\".format(f1_score(y_h1n1_vacc_test, svm_unilabel_no_vacc_testpreds)))\n",
    "#print(\"ROC: {:.2f}\".format(roc_auc_score(y_h1n1_vacc_test, svm_unilabel_no_vacc_testpreds)))"
   ]
  },
  {
   "cell_type": "markdown",
   "metadata": {},
   "source": [
    "## Tracking the model with MLFlow"
   ]
  },
  {
   "cell_type": "markdown",
   "metadata": {},
   "source": [
    "### H1N1 vaccine output"
   ]
  },
  {
   "cell_type": "markdown",
   "metadata": {},
   "source": [
    "#### Random forest"
   ]
  },
  {
   "cell_type": "code",
   "execution_count": 65,
   "metadata": {
    "slideshow": {
     "slide_type": "slide"
    }
   },
   "outputs": [],
   "source": [
    "# setting the MLFlow connection and experiment\n",
    "mlflow.set_tracking_uri(TRACKING_URI)\n",
    "mlflow.set_experiment(EXPERIMENT_NAME_h1n1)\n",
    "name = 'rand_forst_unilabel_h1n1' #specify the run name here; name it with model used\n",
    "mlflow.start_run(run_name = name) \n",
    "run = mlflow.active_run()"
   ]
  },
  {
   "cell_type": "code",
   "execution_count": 66,
   "metadata": {
    "slideshow": {
     "slide_type": "subslide"
    }
   },
   "outputs": [
    {
     "name": "stdout",
     "output_type": "stream",
     "text": [
      "Active run_id: c76d90eda22a4576922e621259c2a550\n"
     ]
    }
   ],
   "source": [
    "print(\"Active run_id: {}\".format(run.info.run_id))"
   ]
  },
  {
   "cell_type": "code",
   "execution_count": 67,
   "metadata": {
    "slideshow": {
     "slide_type": "slide"
    }
   },
   "outputs": [],
   "source": [
    "#parameters are to keep track of everything for re-running the experiment (e.g. what features are being engineered, hyperparameters of model, etc)\n",
    "#to be adjusted as needed\n",
    "params = {\n",
    "    \"Data cleaning\": \"Full dataset\",\n",
    "    \"Data balancing\": \"None\",\n",
    "    \"Hyperparameters\": {'estimators__n_estimators': 67, 'estimators__max_leaf_nodes': 48, 'estimators__max_features': 'auto', 'estimators__max_depth': 16, 'estimators__bootstrap': True}\n",
    "  }"
   ]
  },
  {
   "cell_type": "code",
   "execution_count": 68,
   "metadata": {
    "slideshow": {
     "slide_type": "slide"
    }
   },
   "outputs": [],
   "source": [
    "mlflow.log_params(params)\n",
    "#tags = data used\n",
    "mlflow.set_tag(\"Vaccines in features\", \"None\") #set tags for more details of what we've done\n",
    "mlflow.log_metric(\"train -\" + \"ROC\", h1n1_rand_forst_unilabel_no_vacc_train_roc_best)\n",
    "mlflow.log_metric(\"test -\" + \"ROC\", h1n1_rand_forst_unilabel_no_vacc_test_roc_best)\n",
    "mlflow.log_metric(\"train -\" + \"accuracy\", h1n1_rand_forst_unilabel_no_vacc_train_acc_best)\n",
    "mlflow.log_metric(\"test -\" + \"accuracy\", h1n1_rand_forst_unilabel_no_vacc_test_acc_best)\n",
    "mlflow.log_metric(\"train -\" + \"recall\", h1n1_rand_forst_unilabel_no_vacc_train_recall_best)\n",
    "mlflow.log_metric(\"test -\" + \"recall\", h1n1_rand_forst_unilabel_no_vacc_test_recall_best)\n",
    "mlflow.log_metric(\"train -\" + \"precision\", h1n1_rand_forst_unilabel_no_vacc_train_precision_best)\n",
    "mlflow.log_metric(\"test -\" + \"precision\", h1n1_rand_forst_unilabel_no_vacc_test_precision_best)\n",
    "mlflow.log_metric(\"train -\" + \"f1\", h1n1_rand_forst_unilabel_no_vacc_train_f1_best)\n",
    "mlflow.log_metric(\"test -\" + \"f1\", h1n1_rand_forst_unilabel_no_vacc_test_f1_best)\n",
    "#mlflow.log_artifact(\"../models\")\n",
    "#mlflow.sklearn.log_model(reg, \"model\")\n",
    "mlflow.end_run()"
   ]
  },
  {
   "cell_type": "code",
   "execution_count": null,
   "metadata": {
    "slideshow": {
     "slide_type": "subslide"
    }
   },
   "outputs": [],
   "source": [
    "#mlflow.get_run(run_id=run.info.run_id)"
   ]
  },
  {
   "cell_type": "markdown",
   "metadata": {},
   "source": [
    "#### SVM"
   ]
  },
  {
   "cell_type": "code",
   "execution_count": null,
   "metadata": {
    "slideshow": {
     "slide_type": "slide"
    }
   },
   "outputs": [],
   "source": [
    "# setting the MLFlow connection and experiment\n",
    "mlflow.set_tracking_uri(TRACKING_URI)\n",
    "mlflow.set_experiment(EXPERIMENT_NAME_h1n1)\n",
    "name = 'svm_unilabel_h1n1' #specify the run name here; name it with model used\n",
    "mlflow.start_run(run_name = name) \n",
    "run = mlflow.active_run()"
   ]
  },
  {
   "cell_type": "code",
   "execution_count": null,
   "metadata": {
    "slideshow": {
     "slide_type": "subslide"
    }
   },
   "outputs": [],
   "source": [
    "print(\"Active run_id: {}\".format(run.info.run_id))"
   ]
  },
  {
   "cell_type": "code",
   "execution_count": null,
   "metadata": {
    "slideshow": {
     "slide_type": "slide"
    }
   },
   "outputs": [],
   "source": [
    "#parameters are to keep track of everything for re-running the experiment (e.g. what features are being engineered, hyperparameters of model, etc)\n",
    "#to be adjusted as needed\n",
    "params = {\n",
    "    \"Data cleaning\": \"Full dataset\",\n",
    "    \"Data balancing\": \"None\",\n",
    "    \"Hyperparameters\": \"None\"\n",
    "  }"
   ]
  },
  {
   "cell_type": "code",
   "execution_count": null,
   "metadata": {
    "slideshow": {
     "slide_type": "slide"
    }
   },
   "outputs": [],
   "source": [
    "mlflow.log_params(params)\n",
    "#tags = data used\n",
    "mlflow.set_tag(\"Vaccines in features\", \"None\") #set tags for more details of what we've done\n",
    "mlflow.log_metric(\"train -\" + \"ROC\", h1n1_svm_unilabel_no_vacc_train_roc)\n",
    "mlflow.log_metric(\"test -\" + \"ROC\", h1n1_svm_unilabel_no_vacc_test_roc)\n",
    "mlflow.log_metric(\"train -\" + \"accuracy\", h1n1_svm_unilabel_no_vacc_train_acc)\n",
    "mlflow.log_metric(\"test -\" + \"accuracy\", h1n1_svm_unilabel_no_vacc_test_acc)\n",
    "mlflow.log_metric(\"train -\" + \"recall\", h1n1_svm_unilabel_no_vacc_train_recall)\n",
    "mlflow.log_metric(\"test -\" + \"recall\", h1n1_svm_unilabel_no_vacc_test_recall)\n",
    "mlflow.log_metric(\"train -\" + \"precision\", h1n1_svm_unilabel_no_vacc_train_precision)\n",
    "mlflow.log_metric(\"test -\" + \"precision\", h1n1_svm_unilabel_no_vacc_test_precision)\n",
    "mlflow.log_metric(\"train -\" + \"f1\", h1n1_svm_unilabel_no_vacc_train_f1)\n",
    "mlflow.log_metric(\"test -\" + \"f1\", h1n1_svm_unilabel_no_vacc_test_f1)\n",
    "#mlflow.log_artifact(\"../models\")\n",
    "#mlflow.sklearn.log_model(reg, \"model\")\n",
    "mlflow.end_run()"
   ]
  },
  {
   "cell_type": "code",
   "execution_count": null,
   "metadata": {
    "slideshow": {
     "slide_type": "subslide"
    }
   },
   "outputs": [],
   "source": [
    "#mlflow.get_run(run_id=run.info.run_id)"
   ]
  },
  {
   "cell_type": "markdown",
   "metadata": {},
   "source": [
    "## Single Label Modelling, output H1N1 vaccine -> Seasonal Flu Vaccine is in features"
   ]
  },
  {
   "cell_type": "markdown",
   "metadata": {},
   "source": [
    "The y_h1n1_vacc remains the same from the previous model; the X feature and cat_features (for the preprocessor) need to be adjusted:"
   ]
  },
  {
   "cell_type": "code",
   "execution_count": null,
   "metadata": {},
   "outputs": [],
   "source": [
    "cat_features_seas_vacc = cat_features.copy()"
   ]
  },
  {
   "cell_type": "code",
   "execution_count": null,
   "metadata": {},
   "outputs": [],
   "source": [
    "cat_features_seas_vacc.remove('h1n1_vaccine')"
   ]
  },
  {
   "cell_type": "code",
   "execution_count": null,
   "metadata": {},
   "outputs": [],
   "source": [
    "#NB: dropping the 'h1n1_vaccine' and 'seasonal_vaccine' columns\n",
    "X_seas_vacc = df.drop(columns=['h1n1_vaccine'])"
   ]
  },
  {
   "cell_type": "code",
   "execution_count": null,
   "metadata": {},
   "outputs": [],
   "source": [
    "X_seas_vacc.columns"
   ]
  },
  {
   "cell_type": "markdown",
   "metadata": {},
   "source": [
    "Performing test-train split (the same data can be used for each model in multilabelling):"
   ]
  },
  {
   "cell_type": "code",
   "execution_count": null,
   "metadata": {},
   "outputs": [],
   "source": [
    "X_seas_vacc_train, X_seas_vacc_test, y_h1n1_vacc_train, y_h1n1_vacc_test = train_test_split(X_seas_vacc, y_h1n1_vacc, stratify = y_h1n1_vacc, test_size=0.2, random_state=RSEED)"
   ]
  },
  {
   "cell_type": "code",
   "execution_count": null,
   "metadata": {},
   "outputs": [],
   "source": [
    "print('X_seas_vacc_train shape:', X_seas_vacc_train.shape)\n",
    "print('X_seas_vacc_test shape:', X_seas_vacc_test.shape)\n",
    "print('y_h1n1_vacc_train:', y_h1n1_vacc_train.shape)\n",
    "print('y_h1n1_vacc_test:', y_h1n1_vacc_test.shape)"
   ]
  },
  {
   "cell_type": "markdown",
   "metadata": {},
   "source": [
    "Preprocessor is adjusted:"
   ]
  },
  {
   "cell_type": "code",
   "execution_count": null,
   "metadata": {},
   "outputs": [],
   "source": [
    "preprocessor_seas_vacc = ColumnTransformer([\n",
    "    ('cat', cat_pipeline, cat_features_seas_vacc)\n",
    "])"
   ]
  },
  {
   "cell_type": "markdown",
   "metadata": {},
   "source": [
    "Pipeline is adjusted:"
   ]
  },
  {
   "cell_type": "code",
   "execution_count": null,
   "metadata": {},
   "outputs": [],
   "source": [
    "# for logreg\n",
    "logreg_seas_vacc_unilabel_pipeline = Pipeline([\n",
    "    (\"preprocessor\", preprocessor_seas_vacc),\n",
    "    (\"estimators\", logreg),\n",
    "])\n",
    "\n",
    "# for KNN\n",
    "knn_seas_vacc_unilabel_pipeline = Pipeline([\n",
    "    (\"preprocessor\", preprocessor_seas_vacc),\n",
    "    (\"estimators\", knn),\n",
    "])\n",
    "\n",
    "# for Random Forest\n",
    "\n",
    "rand_forst_seas_vacc_unilabel_pipeline = Pipeline([\n",
    "    (\"preprocessor\", preprocessor_seas_vacc),\n",
    "    (\"estimators\", rand_forst),\n",
    "])\n",
    "\n",
    "#for SVM\n",
    "svm_seas_vacc_unilabel_pipeline = Pipeline([\n",
    "    (\"preprocessor\", preprocessor_seas_vacc),\n",
    "    (\"estimators\", svm),\n",
    "])"
   ]
  },
  {
   "cell_type": "markdown",
   "metadata": {},
   "source": [
    "Training the models:"
   ]
  },
  {
   "cell_type": "code",
   "execution_count": null,
   "metadata": {},
   "outputs": [],
   "source": [
    "# for logreg\n",
    "logreg_unilabel_seas_vacc = logreg_seas_vacc_unilabel_pipeline.fit(X_seas_vacc_train, y_h1n1_vacc_train)\n",
    "\n",
    "# for KNN\n",
    "knn_unilabel_seas_vacc = knn_seas_vacc_unilabel_pipeline.fit(X_seas_vacc_train, y_h1n1_vacc_train)\n",
    "\n",
    "# for Random Forest\n",
    "rand_forst_unilabel_seas_vacc = rand_forst_seas_vacc_unilabel_pipeline.fit(X_seas_vacc_train, y_h1n1_vacc_train)\n",
    "\n",
    "#for SVM\n",
    "svm_unilabel_seas_vacc = svm_seas_vacc_unilabel_pipeline.fit(X_seas_vacc_train, y_h1n1_vacc_train)"
   ]
  },
  {
   "cell_type": "code",
   "execution_count": null,
   "metadata": {},
   "outputs": [],
   "source": [
    "# Figure out later what this does and if we want to use it\n",
    "\n",
    "\n",
    "#y_train_predicted = cross_val_predict(full_pipeline, X_train, y_train, cv=5)"
   ]
  },
  {
   "cell_type": "markdown",
   "metadata": {},
   "source": [
    "Making predictions based on train and test data:"
   ]
  },
  {
   "cell_type": "code",
   "execution_count": null,
   "metadata": {},
   "outputs": [],
   "source": [
    "# for logreg\n",
    "logreg_unilabel_seas_vacc_trainpreds = logreg_unilabel_seas_vacc.predict(X_seas_vacc_train)\n",
    "logreg_unilabel_seas_vacc_testpreds = logreg_unilabel_seas_vacc.predict(X_seas_vacc_test)\n",
    "\n",
    "# for KNN\n",
    "knn_unilabel_seas_vacc_trainpreds = knn_unilabel_seas_vacc.predict(X_seas_vacc_train)\n",
    "knn_unilabel_seas_vacc_testpreds = knn_unilabel_seas_vacc.predict(X_seas_vacc_test)\n",
    "\n",
    "# for Random Forest\n",
    "rand_forst_unilabel_seas_vacc_trainpreds = rand_forst_unilabel_seas_vacc.predict(X_seas_vacc_train)\n",
    "rand_forst_unilabel_seas_vacc_testpreds = rand_forst_unilabel_seas_vacc.predict(X_seas_vacc_test)\n",
    "\n",
    "# for SVM\n",
    "svm_unilabel_seas_vacc_trainpreds = svm_unilabel_seas_vacc.predict(X_seas_vacc_train)\n",
    "svm_unilabel_seas_vacc_testpreds = svm_unilabel_seas_vacc.predict(X_seas_vacc_test)"
   ]
  },
  {
   "cell_type": "markdown",
   "metadata": {},
   "source": [
    "### Model evaluation"
   ]
  },
  {
   "cell_type": "markdown",
   "metadata": {},
   "source": [
    "#### Train data"
   ]
  },
  {
   "cell_type": "code",
   "execution_count": null,
   "metadata": {},
   "outputs": [],
   "source": [
    "# Logreg--Train data evaluation Metrics\n",
    "h1n1_logreg_unilabel_seas_vacc_train_acc = accuracy_score(y_h1n1_vacc_train, logreg_unilabel_seas_vacc_trainpreds)\n",
    "h1n1_logreg_unilabel_seas_vacc_train_recall = recall_score(y_h1n1_vacc_train, logreg_unilabel_seas_vacc_trainpreds)\n",
    "h1n1_logreg_unilabel_seas_vacc_train_precision = precision_score(y_h1n1_vacc_train, logreg_unilabel_seas_vacc_trainpreds)\n",
    "h1n1_logreg_unilabel_seas_vacc_train_f1 = f1_score(y_h1n1_vacc_train, logreg_unilabel_seas_vacc_trainpreds)\n",
    "h1n1_logreg_unilabel_seas_vacc_train_roc = roc_auc_score(y_h1n1_vacc_train, logreg_unilabel_seas_vacc_trainpreds)\n",
    "\n",
    "#print(\"Accuracy: {:.2f}\".format(accuracy_score(y_h1n1_vacc_train, logreg_unilabel_seas_vacc_trainpreds)))\n",
    "#print(\"Recall: {:.2f}\".format(recall_score(y_h1n1_vacc_train, logreg_unilabel_seas_vacc_trainpreds)))\n",
    "#print(\"Precision: {:.2f}\".format(precision_score(y_h1n1_vacc_train, logreg_unilabel_seas_vacc_trainpreds)))\n",
    "#print(\"F1: {:.2f}\".format(f1_score(y_h1n1_vacc_train, logreg_unilabel_seas_vacc_trainpreds)))\n",
    "#print(\"ROC: {:.2f}\".format(roc_auc_score(y_h1n1_vacc_train, logreg_unilabel_seas_vacc_trainpreds)))"
   ]
  },
  {
   "cell_type": "code",
   "execution_count": null,
   "metadata": {},
   "outputs": [],
   "source": [
    "# KNN--Train data evaluation Metrics\n",
    "h1n1_knn_unilabel_seas_vacc_train_acc = accuracy_score(y_h1n1_vacc_train, knn_unilabel_seas_vacc_trainpreds)\n",
    "h1n1_knn_unilabel_seas_vacc_train_recall = recall_score(y_h1n1_vacc_train, knn_unilabel_seas_vacc_trainpreds)\n",
    "h1n1_knn_unilabel_seas_vacc_train_precision = precision_score(y_h1n1_vacc_train, knn_unilabel_seas_vacc_trainpreds)\n",
    "h1n1_knn_unilabel_seas_vacc_train_f1 = f1_score(y_h1n1_vacc_train, knn_unilabel_seas_vacc_trainpreds)\n",
    "h1n1_knn_unilabel_seas_vacc_train_roc = roc_auc_score(y_h1n1_vacc_train, knn_unilabel_seas_vacc_trainpreds)\n",
    "\n",
    "#print(\"Accuracy: {:.2f}\".format(accuracy_score(y_h1n1_vacc_train, knn_unilabel_seas_vacc_trainpreds)))\n",
    "#print(\"Recall: {:.2f}\".format(recall_score(y_h1n1_vacc_train, knn_unilabel_seas_vacc_trainpreds)))\n",
    "#print(\"Precision: {:.2f}\".format(precision_score(y_h1n1_vacc_train, knn_unilabel_seas_vacc_trainpreds)))\n",
    "#print(\"F1: {:.2f}\".format(f1_score(y_h1n1_vacc_train, knn_unilabel_seas_vacc_trainpreds)))\n",
    "#print(\"ROC: {:.2f}\".format(roc_auc_score(y_h1n1_vacc_train, knn_unilabel_seas_vacc_trainpreds)))"
   ]
  },
  {
   "cell_type": "code",
   "execution_count": null,
   "metadata": {},
   "outputs": [],
   "source": [
    "# Random Forest--Train data evaluation Metrics\n",
    "#check if these metrics are changing compared to previous results\n",
    "h1n1_rand_forst_unilabel_seas_vacc_train_acc = accuracy_score(y_h1n1_vacc_train, rand_forst_unilabel_seas_vacc_trainpreds)\n",
    "h1n1_rand_forst_unilabel_seas_vacc_train_recall = recall_score(y_h1n1_vacc_train, rand_forst_unilabel_seas_vacc_trainpreds)\n",
    "h1n1_rand_forst_unilabel_seas_vacc_train_precision = precision_score(y_h1n1_vacc_train, rand_forst_unilabel_seas_vacc_trainpreds)\n",
    "h1n1_rand_forst_unilabel_seas_vacc_train_f1 = f1_score(y_h1n1_vacc_train, rand_forst_unilabel_seas_vacc_trainpreds)\n",
    "h1n1_rand_forst_unilabel_seas_vacc_train_roc = roc_auc_score(y_h1n1_vacc_train, rand_forst_unilabel_seas_vacc_trainpreds)\n",
    "\n",
    "#print(\"Accuracy: {:.2f}\".format(accuracy_score(y_h1n1_vacc_train, rand_forst_unilabel_seas_vacc_trainpreds)))\n",
    "#print(\"Recall: {:.2f}\".format(recall_score(y_h1n1_vacc_train, rand_forst_unilabel_seas_vacc_trainpreds)))\n",
    "#print(\"Precision: {:.2f}\".format(precision_score(y_h1n1_vacc_train, rand_forst_unilabel_seas_vacc_trainpreds)))\n",
    "#print(\"F1: {:.2f}\".format(f1_score(y_h1n1_vacc_train, rand_forst_unilabel_seas_vacc_trainpreds)))\n",
    "#print(\"ROC: {:.2f}\".format(roc_auc_score(y_h1n1_vacc_train, rand_forst_unilabel_seas_vacc_trainpreds)))"
   ]
  },
  {
   "cell_type": "code",
   "execution_count": null,
   "metadata": {},
   "outputs": [],
   "source": [
    "# SVM--Train data evaluation Metrics\n",
    "h1n1_svm_unilabel_seas_vacc_train_acc = accuracy_score(y_h1n1_vacc_train, svm_unilabel_seas_vacc_trainpreds)\n",
    "h1n1_svm_unilabel_seas_vacc_train_recall = recall_score(y_h1n1_vacc_train, svm_unilabel_seas_vacc_trainpreds)\n",
    "h1n1_svm_unilabel_seas_vacc_train_precision = precision_score(y_h1n1_vacc_train, svm_unilabel_seas_vacc_trainpreds)\n",
    "h1n1_svm_unilabel_seas_vacc_train_f1 = f1_score(y_h1n1_vacc_train, svm_unilabel_seas_vacc_trainpreds)\n",
    "h1n1_svm_unilabel_seas_vacc_train_roc = roc_auc_score(y_h1n1_vacc_train, svm_unilabel_seas_vacc_trainpreds)\n",
    "\n",
    "#print(\"Accuracy: {:.2f}\".format(accuracy_score(y_h1n1_vacc_train, svm_unilabel_seas_vacc_trainpreds)))\n",
    "#print(\"Recall: {:.2f}\".format(recall_score(y_h1n1_vacc_train, svm_unilabel_seas_vacc_trainpreds)))\n",
    "#print(\"Precision: {:.2f}\".format(precision_score(y_h1n1_vacc_train, svm_unilabel_seas_vacc_trainpreds)))\n",
    "#print(\"F1: {:.2f}\".format(f1_score(y_h1n1_vacc_train, svm_unilabel_seas_vacc_trainpreds)))\n",
    "#print(\"ROC: {:.2f}\".format(roc_auc_score(y_h1n1_vacc_train, svm_unilabel_seas_vacc_trainpreds)))"
   ]
  },
  {
   "cell_type": "markdown",
   "metadata": {},
   "source": [
    "#### Test data"
   ]
  },
  {
   "cell_type": "code",
   "execution_count": null,
   "metadata": {},
   "outputs": [],
   "source": [
    "# Logreg--Test data evaluation Metrics\n",
    "h1n1_logreg_unilabel_seas_vacc_test_acc = accuracy_score(y_h1n1_vacc_test, logreg_unilabel_seas_vacc_testpreds)\n",
    "h1n1_logreg_unilabel_seas_vacc_test_recall = recall_score(y_h1n1_vacc_test, logreg_unilabel_seas_vacc_testpreds)\n",
    "h1n1_logreg_unilabel_seas_vacc_test_precision = precision_score(y_h1n1_vacc_test, logreg_unilabel_seas_vacc_testpreds)\n",
    "h1n1_logreg_unilabel_seas_vacc_test_f1 = f1_score(y_h1n1_vacc_test, logreg_unilabel_seas_vacc_testpreds)\n",
    "h1n1_logreg_unilabel_seas_vacc_test_roc = roc_auc_score(y_h1n1_vacc_test, logreg_unilabel_seas_vacc_testpreds)\n",
    "\n",
    "#print(\"Accuracy: {:.2f}\".format(accuracy_score(y_h1n1_vacc_test, logreg_unilabel_seas_vacc_testpreds)))\n",
    "#print(\"Recall: {:.2f}\".format(recall_score(y_h1n1_vacc_test, logreg_unilabel_seas_vacc_testpreds)))\n",
    "#print(\"Precision: {:.2f}\".format(precision_score(y_h1n1_vacc_test, logreg_unilabel_seas_vacc_testpreds)))\n",
    "#print(\"F1: {:.2f}\".format(f1_score(y_h1n1_vacc_test, logreg_unilabel_seas_vacc_testpreds)))\n",
    "#print(\"ROC: {:.2f}\".format(roc_auc_score(y_h1n1_vacc_test, logreg_unilabel_seas_vacc_testpreds)))"
   ]
  },
  {
   "cell_type": "code",
   "execution_count": null,
   "metadata": {},
   "outputs": [],
   "source": [
    "# KNN--Test data evaluation Metrics\n",
    "h1n1_knn_unilabel_seas_vacc_test_acc = accuracy_score(y_h1n1_vacc_test, knn_unilabel_seas_vacc_testpreds)\n",
    "h1n1_knn_unilabel_seas_vacc_test_recall = recall_score(y_h1n1_vacc_test, knn_unilabel_seas_vacc_testpreds)\n",
    "h1n1_knn_unilabel_seas_vacc_test_precision = precision_score(y_h1n1_vacc_test, knn_unilabel_seas_vacc_testpreds)\n",
    "h1n1_knn_unilabel_seas_vacc_test_f1 = f1_score(y_h1n1_vacc_test, knn_unilabel_seas_vacc_testpreds)\n",
    "h1n1_knn_unilabel_seas_vacc_test_roc = roc_auc_score(y_h1n1_vacc_test, knn_unilabel_seas_vacc_testpreds)\n",
    "\n",
    "#print(\"Accuracy: {:.2f}\".format(accuracy_score(y_h1n1_vacc_test, knn_unilabel_seas_vacc_testpreds)))\n",
    "#print(\"Recall: {:.2f}\".format(recall_score(y_h1n1_vacc_test, knn_unilabel_seas_vacc_testpreds)))\n",
    "#print(\"Precision: {:.2f}\".format(precision_score(y_h1n1_vacc_test, knn_unilabel_seas_vacc_testpreds)))\n",
    "#print(\"F1: {:.2f}\".format(f1_score(y_h1n1_vacc_test, knn_unilabel_seas_vacc_testpreds)))\n",
    "#print(\"ROC: {:.2f}\".format(roc_auc_score(y_h1n1_vacc_test, knn_unilabel_seas_vacc_testpreds)))"
   ]
  },
  {
   "cell_type": "code",
   "execution_count": null,
   "metadata": {},
   "outputs": [],
   "source": [
    "# Random Forest--Test data evaluation Metrics\n",
    "#check if these metrics are changing compared to previous results\n",
    "h1n1_rand_forst_unilabel_seas_vacc_test_acc = accuracy_score(y_h1n1_vacc_test, rand_forst_unilabel_seas_vacc_testpreds)\n",
    "h1n1_rand_forst_unilabel_seas_vacc_test_recall = recall_score(y_h1n1_vacc_test, rand_forst_unilabel_seas_vacc_testpreds)\n",
    "h1n1_rand_forst_unilabel_seas_vacc_test_precision = precision_score(y_h1n1_vacc_test, rand_forst_unilabel_seas_vacc_testpreds)\n",
    "h1n1_rand_forst_unilabel_seas_vacc_test_f1 = f1_score(y_h1n1_vacc_test, rand_forst_unilabel_seas_vacc_testpreds)\n",
    "h1n1_rand_forst_unilabel_seas_vacc_test_roc = roc_auc_score(y_h1n1_vacc_test, rand_forst_unilabel_seas_vacc_testpreds)\n",
    "\n",
    "#print(\"Accuracy: {:.2f}\".format(accuracy_score(y_h1n1_vacc_test, rand_forst_unilabel_seas_vacc_testpreds)))\n",
    "#print(\"Recall: {:.2f}\".format(recall_score(y_h1n1_vacc_test, rand_forst_unilabel_seas_vacc_testpreds)))\n",
    "#print(\"Precision: {:.2f}\".format(precision_score(y_h1n1_vacc_test, rand_forst_unilabel_seas_vacc_testpreds)))\n",
    "#print(\"F1: {:.2f}\".format(f1_score(y_h1n1_vacc_test, rand_forst_unilabel_seas_vacc_testpreds)))\n",
    "#print(\"ROC: {:.2f}\".format(roc_auc_score(y_h1n1_vacc_test, rand_forst_unilabel_seas_vacc_testpreds)))"
   ]
  },
  {
   "cell_type": "code",
   "execution_count": null,
   "metadata": {},
   "outputs": [],
   "source": [
    "# SVM--Test data evaluation Metrics\n",
    "h1n1_svm_unilabel_seas_vacc_test_acc = accuracy_score(y_h1n1_vacc_test, svm_unilabel_seas_vacc_testpreds)\n",
    "h1n1_svm_unilabel_seas_vacc_test_recall = recall_score(y_h1n1_vacc_test, svm_unilabel_seas_vacc_testpreds)\n",
    "h1n1_svm_unilabel_seas_vacc_test_precision = precision_score(y_h1n1_vacc_test, svm_unilabel_seas_vacc_testpreds)\n",
    "h1n1_svm_unilabel_seas_vacc_test_f1 = f1_score(y_h1n1_vacc_test, svm_unilabel_seas_vacc_testpreds)\n",
    "h1n1_svm_unilabel_seas_vacc_test_roc = roc_auc_score(y_h1n1_vacc_test, svm_unilabel_seas_vacc_testpreds)\n",
    "\n",
    "#print(\"Accuracy: {:.2f}\".format(accuracy_score(y_h1n1_vacc_test, svm_unilabel_seas_vacc_testpreds)))\n",
    "#print(\"Recall: {:.2f}\".format(recall_score(y_h1n1_vacc_test, svm_unilabel_seas_vacc_testpreds)))\n",
    "#print(\"Precision: {:.2f}\".format(precision_score(y_h1n1_vacc_test, svm_unilabel_seas_vacc_testpreds)))\n",
    "#print(\"F1: {:.2f}\".format(f1_score(y_h1n1_vacc_test, svm_unilabel_seas_vacc_testpreds)))\n",
    "#print(\"ROC: {:.2f}\".format(roc_auc_score(y_h1n1_vacc_test, svm_unilabel_seas_vacc_testpreds)))"
   ]
  },
  {
   "cell_type": "markdown",
   "metadata": {},
   "source": [
    "## Tracking the model with MLFlow"
   ]
  },
  {
   "cell_type": "markdown",
   "metadata": {},
   "source": [
    "### H1N1 vaccine output"
   ]
  },
  {
   "cell_type": "markdown",
   "metadata": {},
   "source": [
    "#### Logistic regression"
   ]
  },
  {
   "cell_type": "code",
   "execution_count": null,
   "metadata": {
    "slideshow": {
     "slide_type": "slide"
    }
   },
   "outputs": [],
   "source": [
    "# setting the MLFlow connection and experiment\n",
    "mlflow.set_tracking_uri(TRACKING_URI)\n",
    "mlflow.set_experiment(EXPERIMENT_NAME_h1n1) #this needs to be adjusted for each experiment\n",
    "name = 'logreg_unilabel_h1n1' #specify the run name here; name it with model used\n",
    "mlflow.start_run(run_name = name) \n",
    "run = mlflow.active_run()"
   ]
  },
  {
   "cell_type": "code",
   "execution_count": null,
   "metadata": {
    "slideshow": {
     "slide_type": "subslide"
    }
   },
   "outputs": [],
   "source": [
    "print(\"Active run_id: {}\".format(run.info.run_id))"
   ]
  },
  {
   "cell_type": "code",
   "execution_count": null,
   "metadata": {
    "slideshow": {
     "slide_type": "slide"
    }
   },
   "outputs": [],
   "source": [
    "#parameters are to keep track of everything for re-running the experiment (e.g. what features are being engineered, hyperparameters of model, etc)\n",
    "#to be adjusted as needed\n",
    "params = {\n",
    "    \"Data cleaning\": \"Full dataset\",\n",
    "    \"Data balancing\": \"None\",\n",
    "    \"Hyperparameters\": \"None\"\n",
    "  }"
   ]
  },
  {
   "cell_type": "code",
   "execution_count": null,
   "metadata": {
    "slideshow": {
     "slide_type": "slide"
    }
   },
   "outputs": [],
   "source": [
    "mlflow.log_params(params)\n",
    "#tags = data used\n",
    "mlflow.set_tag(\"Vaccines in features\", \"Seasonal\") #set tags for more details of what we've done\n",
    "mlflow.log_metric(\"train -\" + \"ROC\", h1n1_logreg_unilabel_seas_vacc_train_roc)\n",
    "mlflow.log_metric(\"test -\" + \"ROC\", h1n1_logreg_unilabel_seas_vacc_test_roc)\n",
    "mlflow.log_metric(\"train -\" + \"accuracy\", h1n1_logreg_unilabel_seas_vacc_train_acc)\n",
    "mlflow.log_metric(\"test -\" + \"accuracy\", h1n1_logreg_unilabel_seas_vacc_test_acc)\n",
    "mlflow.log_metric(\"train -\" + \"recall\", h1n1_logreg_unilabel_seas_vacc_train_recall)\n",
    "mlflow.log_metric(\"test -\" + \"recall\", h1n1_logreg_unilabel_seas_vacc_test_recall)\n",
    "mlflow.log_metric(\"train -\" + \"precision\", h1n1_logreg_unilabel_seas_vacc_train_precision)\n",
    "mlflow.log_metric(\"test -\" + \"precision\", h1n1_logreg_unilabel_seas_vacc_test_precision)\n",
    "mlflow.log_metric(\"train -\" + \"f1\", h1n1_logreg_unilabel_seas_vacc_train_f1)\n",
    "mlflow.log_metric(\"test -\" + \"f1\", h1n1_logreg_unilabel_seas_vacc_test_f1)\n",
    "#mlflow.log_artifact(\"../models\")\n",
    "#mlflow.sklearn.log_model(reg, \"model\")\n",
    "mlflow.end_run()"
   ]
  },
  {
   "cell_type": "code",
   "execution_count": null,
   "metadata": {
    "slideshow": {
     "slide_type": "subslide"
    }
   },
   "outputs": [],
   "source": [
    "#mlflow.get_run(run_id=run.info.run_id)"
   ]
  },
  {
   "cell_type": "markdown",
   "metadata": {},
   "source": [
    "#### KNN"
   ]
  },
  {
   "cell_type": "code",
   "execution_count": null,
   "metadata": {
    "slideshow": {
     "slide_type": "slide"
    }
   },
   "outputs": [],
   "source": [
    "# setting the MLFlow connection and experiment\n",
    "mlflow.set_tracking_uri(TRACKING_URI)\n",
    "mlflow.set_experiment(EXPERIMENT_NAME_h1n1)\n",
    "name = 'knn_unilabel_h1n1' #specify the run name here; name it with model used\n",
    "mlflow.start_run(run_name = name) \n",
    "run = mlflow.active_run()"
   ]
  },
  {
   "cell_type": "code",
   "execution_count": null,
   "metadata": {
    "slideshow": {
     "slide_type": "subslide"
    }
   },
   "outputs": [],
   "source": [
    "print(\"Active run_id: {}\".format(run.info.run_id))"
   ]
  },
  {
   "cell_type": "code",
   "execution_count": null,
   "metadata": {
    "slideshow": {
     "slide_type": "slide"
    }
   },
   "outputs": [],
   "source": [
    "#parameters are to keep track of everything for re-running the experiment (e.g. what features are being engineered, hyperparameters of model, etc)\n",
    "#to be adjusted as needed\n",
    "params = {\n",
    "    \"Data cleaning\": \"Full dataset\",\n",
    "    \"Data balancing\": \"None\",\n",
    "    \"Hyperparameters\": \"None\"\n",
    "  }"
   ]
  },
  {
   "cell_type": "code",
   "execution_count": null,
   "metadata": {
    "slideshow": {
     "slide_type": "slide"
    }
   },
   "outputs": [],
   "source": [
    "mlflow.log_params(params)\n",
    "#tags = data used\n",
    "mlflow.set_tag(\"Vaccines in features\", \"Seasonal\") #set tags for more details of what we've done\n",
    "mlflow.log_metric(\"train -\" + \"ROC\", h1n1_knn_unilabel_seas_vacc_train_roc)\n",
    "mlflow.log_metric(\"test -\" + \"ROC\", h1n1_knn_unilabel_seas_vacc_test_roc)\n",
    "mlflow.log_metric(\"train -\" + \"accuracy\", h1n1_knn_unilabel_seas_vacc_train_acc)\n",
    "mlflow.log_metric(\"test -\" + \"accuracy\", h1n1_knn_unilabel_seas_vacc_test_acc)\n",
    "mlflow.log_metric(\"train -\" + \"recall\", h1n1_knn_unilabel_seas_vacc_train_recall)\n",
    "mlflow.log_metric(\"test -\" + \"recall\", h1n1_knn_unilabel_seas_vacc_test_recall)\n",
    "mlflow.log_metric(\"train -\" + \"precision\", h1n1_knn_unilabel_seas_vacc_train_precision)\n",
    "mlflow.log_metric(\"test -\" + \"precision\", h1n1_knn_unilabel_seas_vacc_test_precision)\n",
    "mlflow.log_metric(\"train -\" + \"f1\", h1n1_knn_unilabel_seas_vacc_train_f1)\n",
    "mlflow.log_metric(\"test -\" + \"f1\", h1n1_knn_unilabel_seas_vacc_test_f1)\n",
    "#mlflow.log_artifact(\"../models\")\n",
    "#mlflow.sklearn.log_model(reg, \"model\")\n",
    "mlflow.end_run()"
   ]
  },
  {
   "cell_type": "code",
   "execution_count": null,
   "metadata": {
    "slideshow": {
     "slide_type": "subslide"
    }
   },
   "outputs": [],
   "source": [
    "#mlflow.get_run(run_id=run.info.run_id)"
   ]
  },
  {
   "cell_type": "markdown",
   "metadata": {},
   "source": [
    "#### Random forest"
   ]
  },
  {
   "cell_type": "code",
   "execution_count": null,
   "metadata": {
    "slideshow": {
     "slide_type": "slide"
    }
   },
   "outputs": [],
   "source": [
    "# setting the MLFlow connection and experiment\n",
    "mlflow.set_tracking_uri(TRACKING_URI)\n",
    "mlflow.set_experiment(EXPERIMENT_NAME_h1n1)\n",
    "name = 'rand_forst_unilabel_h1n1' #specify the run name here; name it with model used\n",
    "mlflow.start_run(run_name = name) \n",
    "run = mlflow.active_run()"
   ]
  },
  {
   "cell_type": "code",
   "execution_count": null,
   "metadata": {
    "slideshow": {
     "slide_type": "subslide"
    }
   },
   "outputs": [],
   "source": [
    "print(\"Active run_id: {}\".format(run.info.run_id))"
   ]
  },
  {
   "cell_type": "code",
   "execution_count": null,
   "metadata": {
    "slideshow": {
     "slide_type": "slide"
    }
   },
   "outputs": [],
   "source": [
    "#parameters are to keep track of everything for re-running the experiment (e.g. what features are being engineered, hyperparameters of model, etc)\n",
    "#to be adjusted as needed\n",
    "params = {\n",
    "    \"Data cleaning\": \"Full dataset\",\n",
    "    \"Data balancing\": \"None\",\n",
    "    \"Hyperparameters\": \"None\"\n",
    "  }"
   ]
  },
  {
   "cell_type": "code",
   "execution_count": null,
   "metadata": {
    "slideshow": {
     "slide_type": "slide"
    }
   },
   "outputs": [],
   "source": [
    "mlflow.log_params(params)\n",
    "#tags = data used\n",
    "mlflow.set_tag(\"Vaccines in features\", \"Seasonal\") #set tags for more details of what we've done\n",
    "mlflow.log_metric(\"train -\" + \"ROC\", h1n1_rand_forst_unilabel_seas_vacc_train_roc)\n",
    "mlflow.log_metric(\"test -\" + \"ROC\", h1n1_rand_forst_unilabel_seas_vacc_test_roc)\n",
    "mlflow.log_metric(\"train -\" + \"accuracy\", h1n1_rand_forst_unilabel_seas_vacc_train_acc)\n",
    "mlflow.log_metric(\"test -\" + \"accuracy\", h1n1_rand_forst_unilabel_seas_vacc_test_acc)\n",
    "mlflow.log_metric(\"train -\" + \"recall\", h1n1_rand_forst_unilabel_seas_vacc_train_recall)\n",
    "mlflow.log_metric(\"test -\" + \"recall\", h1n1_rand_forst_unilabel_seas_vacc_test_recall)\n",
    "mlflow.log_metric(\"train -\" + \"precision\", h1n1_rand_forst_unilabel_seas_vacc_train_precision)\n",
    "mlflow.log_metric(\"test -\" + \"precision\", h1n1_rand_forst_unilabel_seas_vacc_test_precision)\n",
    "mlflow.log_metric(\"train -\" + \"f1\", h1n1_rand_forst_unilabel_seas_vacc_train_f1)\n",
    "mlflow.log_metric(\"test -\" + \"f1\", h1n1_rand_forst_unilabel_seas_vacc_test_f1)\n",
    "#mlflow.log_artifact(\"../models\")\n",
    "#mlflow.sklearn.log_model(reg, \"model\")\n",
    "mlflow.end_run()"
   ]
  },
  {
   "cell_type": "code",
   "execution_count": null,
   "metadata": {
    "slideshow": {
     "slide_type": "subslide"
    }
   },
   "outputs": [],
   "source": [
    "#mlflow.get_run(run_id=run.info.run_id)"
   ]
  },
  {
   "cell_type": "markdown",
   "metadata": {},
   "source": [
    "#### SVM"
   ]
  },
  {
   "cell_type": "code",
   "execution_count": null,
   "metadata": {
    "slideshow": {
     "slide_type": "slide"
    }
   },
   "outputs": [],
   "source": [
    "# setting the MLFlow connection and experiment\n",
    "mlflow.set_tracking_uri(TRACKING_URI)\n",
    "mlflow.set_experiment(EXPERIMENT_NAME_h1n1)\n",
    "name = 'svm_unilabel_h1n1' #specify the run name here; name it with model used\n",
    "mlflow.start_run(run_name = name) \n",
    "run = mlflow.active_run()"
   ]
  },
  {
   "cell_type": "code",
   "execution_count": null,
   "metadata": {
    "slideshow": {
     "slide_type": "subslide"
    }
   },
   "outputs": [],
   "source": [
    "print(\"Active run_id: {}\".format(run.info.run_id))"
   ]
  },
  {
   "cell_type": "code",
   "execution_count": null,
   "metadata": {
    "slideshow": {
     "slide_type": "slide"
    }
   },
   "outputs": [],
   "source": [
    "#parameters are to keep track of everything for re-running the experiment (e.g. what features are being engineered, hyperparameters of model, etc)\n",
    "#to be adjusted as needed\n",
    "params = {\n",
    "    \"Data cleaning\": \"Full dataset\",\n",
    "    \"Data balancing\": \"None\",\n",
    "    \"Hyperparameters\": \"None\"\n",
    "  }"
   ]
  },
  {
   "cell_type": "code",
   "execution_count": null,
   "metadata": {
    "slideshow": {
     "slide_type": "slide"
    }
   },
   "outputs": [],
   "source": [
    "mlflow.log_params(params)\n",
    "#tags = data used\n",
    "mlflow.set_tag(\"Vaccines in features\", \"Seasonal\") #set tags for more details of what we've done\n",
    "mlflow.log_metric(\"train -\" + \"ROC\", h1n1_svm_unilabel_seas_vacc_train_roc)\n",
    "mlflow.log_metric(\"test -\" + \"ROC\", h1n1_svm_unilabel_seas_vacc_test_roc)\n",
    "mlflow.log_metric(\"train -\" + \"accuracy\", h1n1_svm_unilabel_seas_vacc_train_acc)\n",
    "mlflow.log_metric(\"test -\" + \"accuracy\", h1n1_svm_unilabel_seas_vacc_test_acc)\n",
    "mlflow.log_metric(\"train -\" + \"recall\", h1n1_svm_unilabel_seas_vacc_train_recall)\n",
    "mlflow.log_metric(\"test -\" + \"recall\", h1n1_svm_unilabel_seas_vacc_test_recall)\n",
    "mlflow.log_metric(\"train -\" + \"precision\", h1n1_svm_unilabel_seas_vacc_train_precision)\n",
    "mlflow.log_metric(\"test -\" + \"precision\", h1n1_svm_unilabel_seas_vacc_test_precision)\n",
    "mlflow.log_metric(\"train -\" + \"f1\", h1n1_svm_unilabel_seas_vacc_train_f1)\n",
    "mlflow.log_metric(\"test -\" + \"f1\", h1n1_svm_unilabel_seas_vacc_test_f1)\n",
    "#mlflow.log_artifact(\"../models\")\n",
    "#mlflow.sklearn.log_model(reg, \"model\")\n",
    "mlflow.end_run()"
   ]
  },
  {
   "cell_type": "code",
   "execution_count": null,
   "metadata": {
    "slideshow": {
     "slide_type": "subslide"
    }
   },
   "outputs": [],
   "source": [
    "#mlflow.get_run(run_id=run.info.run_id)"
   ]
  },
  {
   "cell_type": "markdown",
   "metadata": {},
   "source": [
    "# TheFluShot_seasonal: Single Label Modelling, output seasonal vaccine"
   ]
  },
  {
   "cell_type": "markdown",
   "metadata": {},
   "source": [
    "## Single Label Modelling, output seasonal vaccine -> H1N1 Flu Vaccine not in features"
   ]
  },
  {
   "cell_type": "markdown",
   "metadata": {},
   "source": [
    "The cat_features_no_vacc and X_no_vacc variables and the preprocessor remain the same from the multilabel modelling:"
   ]
  },
  {
   "cell_type": "markdown",
   "metadata": {},
   "source": [
    "Set up the target variable:"
   ]
  },
  {
   "cell_type": "code",
   "execution_count": null,
   "metadata": {},
   "outputs": [],
   "source": [
    "y_seas_vacc = df['seasonal_vaccine'].copy()"
   ]
  },
  {
   "cell_type": "code",
   "execution_count": null,
   "metadata": {},
   "outputs": [],
   "source": [
    "y_seas_vacc = y_seas_vacc.to_numpy()\n",
    "y_seas_vacc"
   ]
  },
  {
   "cell_type": "code",
   "execution_count": null,
   "metadata": {},
   "outputs": [],
   "source": [
    "len(y_seas_vacc)"
   ]
  },
  {
   "cell_type": "markdown",
   "metadata": {},
   "source": [
    "Performing test-train split:"
   ]
  },
  {
   "cell_type": "code",
   "execution_count": null,
   "metadata": {},
   "outputs": [],
   "source": [
    "X_no_vacc_train, X_no_vacc_test, y_seas_vacc_train, y_seas_vacc_test = train_test_split(X_no_vacc, y_seas_vacc, stratify = y_seas_vacc, test_size=0.2, random_state=RSEED)"
   ]
  },
  {
   "cell_type": "code",
   "execution_count": null,
   "metadata": {},
   "outputs": [],
   "source": [
    "print('X_no_vacc_train shape:', X_no_vacc_train.shape)\n",
    "print('X_no_vacc_test shape:', X_no_vacc_test.shape)\n",
    "print('y_seas_vacc_train:', y_seas_vacc_train.shape)\n",
    "print('y_seas_vacc_test:', y_seas_vacc_test.shape)"
   ]
  },
  {
   "cell_type": "markdown",
   "metadata": {},
   "source": [
    "Setting up the pipeline for each model:"
   ]
  },
  {
   "cell_type": "code",
   "execution_count": null,
   "metadata": {},
   "outputs": [],
   "source": [
    "# for logreg\n",
    "logreg_unilabel_pipeline = Pipeline([\n",
    "    (\"preprocessor\", preprocessor),\n",
    "    (\"estimators\", logreg),\n",
    "])\n",
    "\n",
    "# for KNN\n",
    "knn_unilabel_pipeline = Pipeline([\n",
    "    (\"preprocessor\", preprocessor),\n",
    "    (\"estimators\", knn),\n",
    "])\n",
    "\n",
    "# for Random Forest\n",
    "\n",
    "rand_forst_unilabel_pipeline = Pipeline([\n",
    "    (\"preprocessor\", preprocessor),\n",
    "    (\"estimators\", rand_forst),\n",
    "])\n",
    "\n",
    "#for SVM\n",
    "svm_unilabel_pipeline = Pipeline([\n",
    "    (\"preprocessor\", preprocessor),\n",
    "    (\"estimators\", svm),\n",
    "])"
   ]
  },
  {
   "cell_type": "markdown",
   "metadata": {},
   "source": [
    "Training the models:"
   ]
  },
  {
   "cell_type": "code",
   "execution_count": null,
   "metadata": {},
   "outputs": [],
   "source": [
    "# for logreg\n",
    "logreg_unilabel_no_vacc = logreg_unilabel_pipeline.fit(X_no_vacc_train, y_seas_vacc_train)\n",
    "\n",
    "# for KNN\n",
    "knn_unilabel_no_vacc = knn_unilabel_pipeline.fit(X_no_vacc_train, y_seas_vacc_train)\n",
    "\n",
    "# for Random Forest\n",
    "rand_forst_unilabel_no_vacc = rand_forst_unilabel_pipeline.fit(X_no_vacc_train, y_seas_vacc_train)\n",
    "\n",
    "#for SVM\n",
    "svm_unilabel_no_vacc = svm_unilabel_pipeline.fit(X_no_vacc_train, y_seas_vacc_train)"
   ]
  },
  {
   "cell_type": "code",
   "execution_count": null,
   "metadata": {},
   "outputs": [],
   "source": [
    "# Figure out later what this does and if we want to use it\n",
    "\n",
    "\n",
    "#y_train_predicted = cross_val_predict(full_pipeline, X_train, y_train, cv=5)"
   ]
  },
  {
   "cell_type": "markdown",
   "metadata": {},
   "source": [
    "Making predictions based on train and test data:"
   ]
  },
  {
   "cell_type": "code",
   "execution_count": null,
   "metadata": {},
   "outputs": [],
   "source": [
    "# for logreg\n",
    "logreg_unilabel_no_vacc_trainpreds = logreg_unilabel_no_vacc.predict(X_no_vacc_train)\n",
    "logreg_unilabel_no_vacc_testpreds = logreg_unilabel_no_vacc.predict(X_no_vacc_test)\n",
    "\n",
    "# for KNN\n",
    "knn_unilabel_no_vacc_trainpreds = knn_unilabel_no_vacc.predict(X_no_vacc_train)\n",
    "knn_unilabel_no_vacc_testpreds = knn_unilabel_no_vacc.predict(X_no_vacc_test)\n",
    "\n",
    "# for Random Forest\n",
    "rand_forst_unilabel_no_vacc_trainpreds = rand_forst_unilabel_no_vacc.predict(X_no_vacc_train)\n",
    "rand_forst_unilabel_no_vacc_testpreds = rand_forst_unilabel_no_vacc.predict(X_no_vacc_test)\n",
    "\n",
    "# for SVM\n",
    "svm_unilabel_no_vacc_trainpreds = svm_unilabel_no_vacc.predict(X_no_vacc_train)\n",
    "svm_unilabel_no_vacc_testpreds = svm_unilabel_no_vacc.predict(X_no_vacc_test)"
   ]
  },
  {
   "cell_type": "markdown",
   "metadata": {},
   "source": [
    "### Model evaluation"
   ]
  },
  {
   "cell_type": "markdown",
   "metadata": {},
   "source": [
    "#### Train data"
   ]
  },
  {
   "cell_type": "code",
   "execution_count": null,
   "metadata": {},
   "outputs": [],
   "source": [
    "# Logreg--Train data evaluation Metrics\n",
    "seas_logreg_unilabel_no_vacc_train_acc = accuracy_score(y_seas_vacc_train, logreg_unilabel_no_vacc_trainpreds)\n",
    "seas_logreg_unilabel_no_vacc_train_recall = recall_score(y_seas_vacc_train, logreg_unilabel_no_vacc_trainpreds)\n",
    "seas_logreg_unilabel_no_vacc_train_precision = precision_score(y_seas_vacc_train, logreg_unilabel_no_vacc_trainpreds)\n",
    "seas_logreg_unilabel_no_vacc_train_f1 = f1_score(y_seas_vacc_train, logreg_unilabel_no_vacc_trainpreds)\n",
    "seas_logreg_unilabel_no_vacc_train_roc = roc_auc_score(y_seas_vacc_train, logreg_unilabel_no_vacc_trainpreds)\n",
    "\n",
    "#print(\"Accuracy: {:.2f}\".format(accuracy_score(y_seas_vacc_train, logreg_unilabel_no_vacc_trainpreds)))\n",
    "#print(\"Recall: {:.2f}\".format(recall_score(y_seas_vacc_train, logreg_unilabel_no_vacc_trainpreds)))\n",
    "#print(\"Precision: {:.2f}\".format(precision_score(y_seas_vacc_train, logreg_unilabel_no_vacc_trainpreds)))\n",
    "#print(\"F1: {:.2f}\".format(f1_score(y_seas_vacc_train, logreg_unilabel_no_vacc_trainpreds)))\n",
    "#print(\"ROC: {:.2f}\".format(roc_auc_score(y_seas_vacc_train, logreg_unilabel_no_vacc_trainpreds)))"
   ]
  },
  {
   "cell_type": "code",
   "execution_count": null,
   "metadata": {},
   "outputs": [],
   "source": [
    "# KNN--Train data evaluation Metrics\n",
    "seas_knn_unilabel_no_vacc_train_acc = accuracy_score(y_seas_vacc_train, knn_unilabel_no_vacc_trainpreds)\n",
    "seas_knn_unilabel_no_vacc_train_recall = recall_score(y_seas_vacc_train, knn_unilabel_no_vacc_trainpreds)\n",
    "seas_knn_unilabel_no_vacc_train_precision = precision_score(y_seas_vacc_train, knn_unilabel_no_vacc_trainpreds)\n",
    "seas_knn_unilabel_no_vacc_train_f1 = f1_score(y_seas_vacc_train, knn_unilabel_no_vacc_trainpreds)\n",
    "seas_knn_unilabel_no_vacc_train_roc = roc_auc_score(y_seas_vacc_train, knn_unilabel_no_vacc_trainpreds)\n",
    "\n",
    "#print(\"Accuracy: {:.2f}\".format(accuracy_score(y_seas_vacc_train, knn_unilabel_no_vacc_trainpreds)))\n",
    "#print(\"Recall: {:.2f}\".format(recall_score(y_seas_vacc_train, knn_unilabel_no_vacc_trainpreds)))\n",
    "#print(\"Precision: {:.2f}\".format(precision_score(y_seas_vacc_train, knn_unilabel_no_vacc_trainpreds)))\n",
    "#print(\"F1: {:.2f}\".format(f1_score(y_seas_vacc_train, knn_unilabel_no_vacc_trainpreds)))\n",
    "#print(\"ROC: {:.2f}\".format(roc_auc_score(y_seas_vacc_train, knn_unilabel_no_vacc_trainpreds)))"
   ]
  },
  {
   "cell_type": "code",
   "execution_count": null,
   "metadata": {},
   "outputs": [],
   "source": [
    "# Random Forest--Train data evaluation Metrics\n",
    "#check if these metrics are changing compared to previous results\n",
    "seas_rand_forst_unilabel_no_vacc_train_acc = accuracy_score(y_seas_vacc_train, rand_forst_unilabel_no_vacc_trainpreds)\n",
    "seas_rand_forst_unilabel_no_vacc_train_recall = recall_score(y_seas_vacc_train, rand_forst_unilabel_no_vacc_trainpreds)\n",
    "seas_rand_forst_unilabel_no_vacc_train_precision = precision_score(y_seas_vacc_train, rand_forst_unilabel_no_vacc_trainpreds)\n",
    "seas_rand_forst_unilabel_no_vacc_train_f1 = f1_score(y_seas_vacc_train, rand_forst_unilabel_no_vacc_trainpreds)\n",
    "seas_rand_forst_unilabel_no_vacc_train_roc = roc_auc_score(y_seas_vacc_train, rand_forst_unilabel_no_vacc_trainpreds)\n",
    "\n",
    "#print(\"Accuracy: {:.2f}\".format(accuracy_score(y_seas_vacc_train, rand_forst_unilabel_no_vacc_trainpreds)))\n",
    "#print(\"Recall: {:.2f}\".format(recall_score(y_seas_vacc_train, rand_forst_unilabel_no_vacc_trainpreds)))\n",
    "#print(\"Precision: {:.2f}\".format(precision_score(y_seas_vacc_train, rand_forst_unilabel_no_vacc_trainpreds)))\n",
    "#print(\"F1: {:.2f}\".format(f1_score(y_seas_vacc_train, rand_forst_unilabel_no_vacc_trainpreds)))\n",
    "#print(\"ROC: {:.2f}\".format(roc_auc_score(y_seas_vacc_train, rand_forst_unilabel_no_vacc_trainpreds)))"
   ]
  },
  {
   "cell_type": "code",
   "execution_count": null,
   "metadata": {},
   "outputs": [],
   "source": [
    "# SVM--Train data evaluation Metrics\n",
    "seas_svm_unilabel_no_vacc_train_acc = accuracy_score(y_seas_vacc_train, svm_unilabel_no_vacc_trainpreds)\n",
    "seas_svm_unilabel_no_vacc_train_recall = recall_score(y_seas_vacc_train, svm_unilabel_no_vacc_trainpreds)\n",
    "seas_svm_unilabel_no_vacc_train_precision = precision_score(y_seas_vacc_train, svm_unilabel_no_vacc_trainpreds)\n",
    "seas_svm_unilabel_no_vacc_train_f1 = f1_score(y_seas_vacc_train, svm_unilabel_no_vacc_trainpreds)\n",
    "seas_svm_unilabel_no_vacc_train_roc = roc_auc_score(y_seas_vacc_train, svm_unilabel_no_vacc_trainpreds)\n",
    "\n",
    "#print(\"Accuracy: {:.2f}\".format(accuracy_score(y_seas_vacc_train, svm_unilabel_no_vacc_trainpreds)))\n",
    "#print(\"Recall: {:.2f}\".format(recall_score(y_seas_vacc_train, svm_unilabel_no_vacc_trainpreds)))\n",
    "#print(\"Precision: {:.2f}\".format(precision_score(y_seas_vacc_train, svm_unilabel_no_vacc_trainpreds)))\n",
    "#print(\"F1: {:.2f}\".format(f1_score(y_seas_vacc_train, svm_unilabel_no_vacc_trainpreds)))\n",
    "#print(\"ROC: {:.2f}\".format(roc_auc_score(y_seas_vacc_train, svm_unilabel_no_vacc_trainpreds)))"
   ]
  },
  {
   "cell_type": "markdown",
   "metadata": {},
   "source": [
    "#### Test data"
   ]
  },
  {
   "cell_type": "code",
   "execution_count": null,
   "metadata": {},
   "outputs": [],
   "source": [
    "# Logreg--Test data evaluation Metrics\n",
    "seas_logreg_unilabel_no_vacc_test_acc = accuracy_score(y_seas_vacc_test, logreg_unilabel_no_vacc_testpreds)\n",
    "seas_logreg_unilabel_no_vacc_test_recall = recall_score(y_seas_vacc_test, logreg_unilabel_no_vacc_testpreds)\n",
    "seas_logreg_unilabel_no_vacc_test_precision = precision_score(y_seas_vacc_test, logreg_unilabel_no_vacc_testpreds)\n",
    "seas_logreg_unilabel_no_vacc_test_f1 = f1_score(y_seas_vacc_test, logreg_unilabel_no_vacc_testpreds)\n",
    "seas_logreg_unilabel_no_vacc_test_roc = roc_auc_score(y_seas_vacc_test, logreg_unilabel_no_vacc_testpreds)\n",
    "\n",
    "#print(\"Accuracy: {:.2f}\".format(accuracy_score(y_seas_vacc_test, logreg_unilabel_no_vacc_testpreds)))\n",
    "#print(\"Recall: {:.2f}\".format(recall_score(y_seas_vacc_test, logreg_unilabel_no_vacc_testpreds)))\n",
    "#print(\"Precision: {:.2f}\".format(precision_score(y_seas_vacc_test, logreg_unilabel_no_vacc_testpreds)))\n",
    "#print(\"F1: {:.2f}\".format(f1_score(y_seas_vacc_test, logreg_unilabel_no_vacc_testpreds)))\n",
    "#print(\"ROC: {:.2f}\".format(roc_auc_score(y_seas_vacc_test, logreg_unilabel_no_vacc_testpreds)))"
   ]
  },
  {
   "cell_type": "code",
   "execution_count": null,
   "metadata": {},
   "outputs": [],
   "source": [
    "# KNN--Test data evaluation Metrics\n",
    "seas_knn_unilabel_no_vacc_test_acc = accuracy_score(y_seas_vacc_test, knn_unilabel_no_vacc_testpreds)\n",
    "seas_knn_unilabel_no_vacc_test_recall = recall_score(y_seas_vacc_test, knn_unilabel_no_vacc_testpreds)\n",
    "seas_knn_unilabel_no_vacc_test_precision = precision_score(y_seas_vacc_test, knn_unilabel_no_vacc_testpreds)\n",
    "seas_knn_unilabel_no_vacc_test_f1 = f1_score(y_seas_vacc_test, knn_unilabel_no_vacc_testpreds)\n",
    "seas_knn_unilabel_no_vacc_test_roc = roc_auc_score(y_seas_vacc_test, knn_unilabel_no_vacc_testpreds)\n",
    "\n",
    "print(\"Accuracy: {:.2f}\".format(accuracy_score(y_seas_vacc_test, knn_unilabel_no_vacc_testpreds)))\n",
    "print(\"Recall: {:.2f}\".format(recall_score(y_seas_vacc_test, knn_unilabel_no_vacc_testpreds)))\n",
    "print(\"Precision: {:.2f}\".format(precision_score(y_seas_vacc_test, knn_unilabel_no_vacc_testpreds)))\n",
    "print(\"F1: {:.2f}\".format(f1_score(y_seas_vacc_test, knn_unilabel_no_vacc_testpreds)))\n",
    "print(\"ROC: {:.2f}\".format(roc_auc_score(y_seas_vacc_test, knn_unilabel_no_vacc_testpreds)))"
   ]
  },
  {
   "cell_type": "code",
   "execution_count": null,
   "metadata": {},
   "outputs": [],
   "source": [
    "print(seas_knn_unilabel_no_vacc_test_acc)\n",
    "print(seas_knn_unilabel_no_vacc_test_recall)\n",
    "print(seas_knn_unilabel_no_vacc_test_precision)\n",
    "print(seas_knn_unilabel_no_vacc_test_f1)\n",
    "print(seas_knn_unilabel_no_vacc_test_roc)"
   ]
  },
  {
   "cell_type": "code",
   "execution_count": null,
   "metadata": {},
   "outputs": [],
   "source": [
    "# Random Forest--Test data evaluation Metrics\n",
    "#check if these metrics are changing compared to previous results\n",
    "seas_rand_forst_unilabel_no_vacc_test_acc = accuracy_score(y_seas_vacc_test, rand_forst_unilabel_no_vacc_testpreds)\n",
    "seas_rand_forst_unilabel_no_vacc_test_recall = recall_score(y_seas_vacc_test, rand_forst_unilabel_no_vacc_testpreds)\n",
    "seas_rand_forst_unilabel_no_vacc_test_precision = precision_score(y_seas_vacc_test, rand_forst_unilabel_no_vacc_testpreds)\n",
    "seas_rand_forst_unilabel_no_vacc_test_f1 = f1_score(y_seas_vacc_test, rand_forst_unilabel_no_vacc_testpreds)\n",
    "seas_rand_forst_unilabel_no_vacc_test_roc = roc_auc_score(y_seas_vacc_test, rand_forst_unilabel_no_vacc_testpreds)\n",
    "\n",
    "print(\"Accuracy: {:.2f}\".format(accuracy_score(y_seas_vacc_test, rand_forst_unilabel_no_vacc_testpreds)))\n",
    "print(\"Recall: {:.2f}\".format(recall_score(y_seas_vacc_test, rand_forst_unilabel_no_vacc_testpreds)))\n",
    "print(\"Precision: {:.2f}\".format(precision_score(y_seas_vacc_test, rand_forst_unilabel_no_vacc_testpreds)))\n",
    "print(\"F1: {:.2f}\".format(f1_score(y_seas_vacc_test, rand_forst_unilabel_no_vacc_testpreds)))\n",
    "print(\"ROC: {:.2f}\".format(roc_auc_score(y_seas_vacc_test, rand_forst_unilabel_no_vacc_testpreds)))"
   ]
  },
  {
   "cell_type": "code",
   "execution_count": null,
   "metadata": {},
   "outputs": [],
   "source": [
    "print(seas_rand_forst_unilabel_no_vacc_test_acc)\n",
    "print(seas_rand_forst_unilabel_no_vacc_test_recall)\n",
    "print(seas_rand_forst_unilabel_no_vacc_test_precision)\n",
    "print(seas_rand_forst_unilabel_no_vacc_test_f1)\n",
    "print(seas_rand_forst_unilabel_no_vacc_test_roc)"
   ]
  },
  {
   "cell_type": "code",
   "execution_count": null,
   "metadata": {},
   "outputs": [],
   "source": [
    "# SVM--Test data evaluation Metrics\n",
    "seas_svm_unilabel_no_vacc_test_acc = accuracy_score(y_seas_vacc_test, svm_unilabel_no_vacc_testpreds)\n",
    "seas_svm_unilabel_no_vacc_test_recall = recall_score(y_seas_vacc_test, svm_unilabel_no_vacc_testpreds)\n",
    "seas_svm_unilabel_no_vacc_test_precision = precision_score(y_seas_vacc_test, svm_unilabel_no_vacc_testpreds)\n",
    "seas_svm_unilabel_no_vacc_test_f1 = f1_score(y_seas_vacc_test, svm_unilabel_no_vacc_testpreds)\n",
    "seas_svm_unilabel_no_vacc_test_roc = roc_auc_score(y_seas_vacc_test, svm_unilabel_no_vacc_testpreds)\n",
    "\n",
    "#print(\"Accuracy: {:.2f}\".format(accuracy_score(y_seas_vacc_test, svm_unilabel_no_vacc_testpreds)))\n",
    "#print(\"Recall: {:.2f}\".format(recall_score(y_seas_vacc_test, svm_unilabel_no_vacc_testpreds)))\n",
    "#print(\"Precision: {:.2f}\".format(precision_score(y_seas_vacc_test, svm_unilabel_no_vacc_testpreds)))\n",
    "#print(\"F1: {:.2f}\".format(f1_score(y_seas_vacc_test, svm_unilabel_no_vacc_testpreds)))\n",
    "#print(\"ROC: {:.2f}\".format(roc_auc_score(y_seas_vacc_test, svm_unilabel_no_vacc_testpreds)))"
   ]
  },
  {
   "cell_type": "markdown",
   "metadata": {},
   "source": [
    "## Tracking the model with MLFlow"
   ]
  },
  {
   "cell_type": "markdown",
   "metadata": {},
   "source": [
    "### Seasonal vaccine output"
   ]
  },
  {
   "cell_type": "markdown",
   "metadata": {},
   "source": [
    "#### Logistic regression"
   ]
  },
  {
   "cell_type": "code",
   "execution_count": null,
   "metadata": {
    "slideshow": {
     "slide_type": "slide"
    }
   },
   "outputs": [],
   "source": [
    "# setting the MLFlow connection and experiment\n",
    "mlflow.set_tracking_uri(TRACKING_URI)\n",
    "mlflow.set_experiment(EXPERIMENT_NAME_seasonal) #this needs to be adjusted for each experiment\n",
    "name = 'logreg_unilabel_seasonal' #specify the run name here; name it with model used\n",
    "mlflow.start_run(run_name = name) \n",
    "run = mlflow.active_run()"
   ]
  },
  {
   "cell_type": "code",
   "execution_count": null,
   "metadata": {
    "slideshow": {
     "slide_type": "subslide"
    }
   },
   "outputs": [],
   "source": [
    "print(\"Active run_id: {}\".format(run.info.run_id))"
   ]
  },
  {
   "cell_type": "code",
   "execution_count": null,
   "metadata": {
    "slideshow": {
     "slide_type": "slide"
    }
   },
   "outputs": [],
   "source": [
    "#parameters are to keep track of everything for re-running the experiment (e.g. what features are being engineered, hyperparameters of model, etc)\n",
    "#to be adjusted as needed\n",
    "params = {\n",
    "    \"Data cleaning\": \"Full dataset\",\n",
    "    \"Data balancing\": \"None\",\n",
    "    \"Hyperparameters\": \"None\"\n",
    "  }"
   ]
  },
  {
   "cell_type": "code",
   "execution_count": null,
   "metadata": {
    "slideshow": {
     "slide_type": "slide"
    }
   },
   "outputs": [],
   "source": [
    "mlflow.log_params(params)\n",
    "#tags = data used\n",
    "mlflow.set_tag(\"Vaccines in features\", \"None\") #set tags for more details of what we've done\n",
    "mlflow.log_metric(\"train -\" + \"ROC\", seas_logreg_unilabel_no_vacc_train_roc)\n",
    "mlflow.log_metric(\"test -\" + \"ROC\", seas_logreg_unilabel_no_vacc_test_roc)\n",
    "mlflow.log_metric(\"train -\" + \"accuracy\", seas_logreg_unilabel_no_vacc_train_acc)\n",
    "mlflow.log_metric(\"test -\" + \"accuracy\", seas_logreg_unilabel_no_vacc_test_acc)\n",
    "mlflow.log_metric(\"train -\" + \"recall\", seas_logreg_unilabel_no_vacc_train_recall)\n",
    "mlflow.log_metric(\"test -\" + \"recall\", seas_logreg_unilabel_no_vacc_test_recall)\n",
    "mlflow.log_metric(\"train -\" + \"precision\", seas_logreg_unilabel_no_vacc_train_precision)\n",
    "mlflow.log_metric(\"test -\" + \"precision\", seas_logreg_unilabel_no_vacc_test_precision)\n",
    "mlflow.log_metric(\"train -\" + \"f1\", seas_logreg_unilabel_no_vacc_train_f1)\n",
    "mlflow.log_metric(\"test -\" + \"f1\", seas_logreg_unilabel_no_vacc_test_f1)\n",
    "#mlflow.log_artifact(\"../models\")\n",
    "#mlflow.sklearn.log_model(reg, \"model\")\n",
    "mlflow.end_run()"
   ]
  },
  {
   "cell_type": "code",
   "execution_count": null,
   "metadata": {
    "slideshow": {
     "slide_type": "subslide"
    }
   },
   "outputs": [],
   "source": [
    "#mlflow.get_run(run_id=run.info.run_id)"
   ]
  },
  {
   "cell_type": "markdown",
   "metadata": {},
   "source": [
    "#### KNN"
   ]
  },
  {
   "cell_type": "code",
   "execution_count": null,
   "metadata": {
    "slideshow": {
     "slide_type": "slide"
    }
   },
   "outputs": [],
   "source": [
    "# setting the MLFlow connection and experiment\n",
    "mlflow.set_tracking_uri(TRACKING_URI)\n",
    "mlflow.set_experiment(EXPERIMENT_NAME_seasonal)\n",
    "name = 'knn_unilabel_seasonal' #specify the run name here; name it with model used\n",
    "mlflow.start_run(run_name = name) \n",
    "run = mlflow.active_run()"
   ]
  },
  {
   "cell_type": "code",
   "execution_count": null,
   "metadata": {
    "slideshow": {
     "slide_type": "subslide"
    }
   },
   "outputs": [],
   "source": [
    "print(\"Active run_id: {}\".format(run.info.run_id))"
   ]
  },
  {
   "cell_type": "code",
   "execution_count": null,
   "metadata": {
    "slideshow": {
     "slide_type": "slide"
    }
   },
   "outputs": [],
   "source": [
    "#parameters are to keep track of everything for re-running the experiment (e.g. what features are being engineered, hyperparameters of model, etc)\n",
    "#to be adjusted as needed\n",
    "params = {\n",
    "    \"Data cleaning\": \"Full dataset\",\n",
    "    \"Data balancing\": \"None\",\n",
    "    \"Hyperparameters\": \"None\"\n",
    "  }"
   ]
  },
  {
   "cell_type": "code",
   "execution_count": null,
   "metadata": {
    "slideshow": {
     "slide_type": "slide"
    }
   },
   "outputs": [],
   "source": [
    "mlflow.log_params(params)\n",
    "#tags = data used\n",
    "mlflow.set_tag(\"Vaccines in features\", \"None\") #set tags for more details of what we've done\n",
    "mlflow.log_metric(\"train -\" + \"ROC\", seas_knn_unilabel_no_vacc_train_roc)\n",
    "mlflow.log_metric(\"test -\" + \"ROC\", seas_knn_unilabel_no_vacc_test_roc)\n",
    "mlflow.log_metric(\"train -\" + \"accuracy\", seas_knn_unilabel_no_vacc_train_acc)\n",
    "mlflow.log_metric(\"test -\" + \"accuracy\", seas_knn_unilabel_no_vacc_test_acc)\n",
    "mlflow.log_metric(\"train -\" + \"recall\", seas_knn_unilabel_no_vacc_train_recall)\n",
    "mlflow.log_metric(\"test -\" + \"recall\", seas_knn_unilabel_no_vacc_test_recall)\n",
    "mlflow.log_metric(\"train -\" + \"precision\", seas_knn_unilabel_no_vacc_train_precision)\n",
    "mlflow.log_metric(\"test -\" + \"precision\", seas_knn_unilabel_no_vacc_test_precision)\n",
    "mlflow.log_metric(\"train -\" + \"f1\", seas_knn_unilabel_no_vacc_train_f1)\n",
    "mlflow.log_metric(\"test -\" + \"f1\", seas_knn_unilabel_no_vacc_test_f1)\n",
    "#mlflow.log_artifact(\"../models\")\n",
    "#mlflow.sklearn.log_model(reg, \"model\")\n",
    "mlflow.end_run()"
   ]
  },
  {
   "cell_type": "code",
   "execution_count": null,
   "metadata": {
    "slideshow": {
     "slide_type": "subslide"
    }
   },
   "outputs": [],
   "source": [
    "#mlflow.get_run(run_id=run.info.run_id)"
   ]
  },
  {
   "cell_type": "markdown",
   "metadata": {},
   "source": [
    "#### Random forest"
   ]
  },
  {
   "cell_type": "code",
   "execution_count": null,
   "metadata": {
    "slideshow": {
     "slide_type": "slide"
    }
   },
   "outputs": [],
   "source": [
    "# setting the MLFlow connection and experiment\n",
    "mlflow.set_tracking_uri(TRACKING_URI)\n",
    "mlflow.set_experiment(EXPERIMENT_NAME_seasonal)\n",
    "name = 'rand_forst_unilabel_seasonal' #specify the run name here; name it with model used\n",
    "mlflow.start_run(run_name = name) \n",
    "run = mlflow.active_run()"
   ]
  },
  {
   "cell_type": "code",
   "execution_count": null,
   "metadata": {
    "slideshow": {
     "slide_type": "subslide"
    }
   },
   "outputs": [],
   "source": [
    "print(\"Active run_id: {}\".format(run.info.run_id))"
   ]
  },
  {
   "cell_type": "code",
   "execution_count": null,
   "metadata": {
    "slideshow": {
     "slide_type": "slide"
    }
   },
   "outputs": [],
   "source": [
    "#parameters are to keep track of everything for re-running the experiment (e.g. what features are being engineered, hyperparameters of model, etc)\n",
    "#to be adjusted as needed\n",
    "params = {\n",
    "    \"Data cleaning\": \"Full dataset\",\n",
    "    \"Data balancing\": \"None\",\n",
    "    \"Hyperparameters\": \"None\"\n",
    "  }"
   ]
  },
  {
   "cell_type": "code",
   "execution_count": null,
   "metadata": {
    "slideshow": {
     "slide_type": "slide"
    }
   },
   "outputs": [],
   "source": [
    "mlflow.log_params(params)\n",
    "#tags = data used\n",
    "mlflow.set_tag(\"Vaccines in features\", \"None\") #set tags for more details of what we've done\n",
    "mlflow.log_metric(\"train -\" + \"ROC\", seas_rand_forst_unilabel_no_vacc_train_roc)\n",
    "mlflow.log_metric(\"test -\" + \"ROC\", seas_rand_forst_unilabel_no_vacc_test_roc)\n",
    "mlflow.log_metric(\"train -\" + \"accuracy\", seas_rand_forst_unilabel_no_vacc_train_acc)\n",
    "mlflow.log_metric(\"test -\" + \"accuracy\", seas_rand_forst_unilabel_no_vacc_test_acc)\n",
    "mlflow.log_metric(\"train -\" + \"recall\", seas_rand_forst_unilabel_no_vacc_train_recall)\n",
    "mlflow.log_metric(\"test -\" + \"recall\", seas_rand_forst_unilabel_no_vacc_test_recall)\n",
    "mlflow.log_metric(\"train -\" + \"precision\", seas_rand_forst_unilabel_no_vacc_train_precision)\n",
    "mlflow.log_metric(\"test -\" + \"precision\", seas_rand_forst_unilabel_no_vacc_test_precision)\n",
    "mlflow.log_metric(\"train -\" + \"f1\", seas_rand_forst_unilabel_no_vacc_train_f1)\n",
    "mlflow.log_metric(\"test -\" + \"f1\", seas_rand_forst_unilabel_no_vacc_test_f1)\n",
    "#mlflow.log_artifact(\"../models\")\n",
    "#mlflow.sklearn.log_model(reg, \"model\")\n",
    "mlflow.end_run()"
   ]
  },
  {
   "cell_type": "code",
   "execution_count": null,
   "metadata": {
    "slideshow": {
     "slide_type": "subslide"
    }
   },
   "outputs": [],
   "source": [
    "#mlflow.get_run(run_id=run.info.run_id)"
   ]
  },
  {
   "cell_type": "markdown",
   "metadata": {},
   "source": [
    "#### SVM"
   ]
  },
  {
   "cell_type": "code",
   "execution_count": null,
   "metadata": {
    "slideshow": {
     "slide_type": "slide"
    }
   },
   "outputs": [],
   "source": [
    "# setting the MLFlow connection and experiment\n",
    "mlflow.set_tracking_uri(TRACKING_URI)\n",
    "mlflow.set_experiment(EXPERIMENT_NAME_seasonal)\n",
    "name = 'svm_unilabel_seasonal' #specify the run name here; name it with model used\n",
    "mlflow.start_run(run_name = name) \n",
    "run = mlflow.active_run()"
   ]
  },
  {
   "cell_type": "code",
   "execution_count": null,
   "metadata": {
    "slideshow": {
     "slide_type": "subslide"
    }
   },
   "outputs": [],
   "source": [
    "print(\"Active run_id: {}\".format(run.info.run_id))"
   ]
  },
  {
   "cell_type": "code",
   "execution_count": null,
   "metadata": {
    "slideshow": {
     "slide_type": "slide"
    }
   },
   "outputs": [],
   "source": [
    "#parameters are to keep track of everything for re-running the experiment (e.g. what features are being engineered, hyperparameters of model, etc)\n",
    "#to be adjusted as needed\n",
    "params = {\n",
    "    \"Data cleaning\": \"Full dataset\",\n",
    "    \"Data balancing\": \"None\",\n",
    "    \"Hyperparameters\": \"None\"\n",
    "  }"
   ]
  },
  {
   "cell_type": "code",
   "execution_count": null,
   "metadata": {
    "slideshow": {
     "slide_type": "slide"
    }
   },
   "outputs": [],
   "source": [
    "mlflow.log_params(params)\n",
    "#tags = data used\n",
    "mlflow.set_tag(\"Vaccines in features\", \"None\") #set tags for more details of what we've done\n",
    "mlflow.log_metric(\"train -\" + \"ROC\", seas_svm_unilabel_no_vacc_train_roc)\n",
    "mlflow.log_metric(\"test -\" + \"ROC\", seas_svm_unilabel_no_vacc_test_roc)\n",
    "mlflow.log_metric(\"train -\" + \"accuracy\", seas_svm_unilabel_no_vacc_train_acc)\n",
    "mlflow.log_metric(\"test -\" + \"accuracy\", seas_svm_unilabel_no_vacc_test_acc)\n",
    "mlflow.log_metric(\"train -\" + \"recall\", seas_svm_unilabel_no_vacc_train_recall)\n",
    "mlflow.log_metric(\"test -\" + \"recall\", seas_svm_unilabel_no_vacc_test_recall)\n",
    "mlflow.log_metric(\"train -\" + \"precision\", seas_svm_unilabel_no_vacc_train_precision)\n",
    "mlflow.log_metric(\"test -\" + \"precision\", seas_svm_unilabel_no_vacc_test_precision)\n",
    "mlflow.log_metric(\"train -\" + \"f1\", seas_svm_unilabel_no_vacc_train_f1)\n",
    "mlflow.log_metric(\"test -\" + \"f1\", seas_svm_unilabel_no_vacc_test_f1)\n",
    "#mlflow.log_artifact(\"../models\")\n",
    "#mlflow.sklearn.log_model(reg, \"model\")\n",
    "mlflow.end_run()"
   ]
  },
  {
   "cell_type": "code",
   "execution_count": null,
   "metadata": {
    "slideshow": {
     "slide_type": "subslide"
    }
   },
   "outputs": [],
   "source": [
    "#mlflow.get_run(run_id=run.info.run_id)"
   ]
  },
  {
   "cell_type": "markdown",
   "metadata": {},
   "source": [
    "## Single Label Modelling, output seasonal vaccine -> H1N1 Flu Vaccine is in features"
   ]
  },
  {
   "cell_type": "markdown",
   "metadata": {},
   "source": [
    "The y_seas_vacc remains the same from the previous model; the X feature and cat_features (for the preprocessor) need to be adjusted:"
   ]
  },
  {
   "cell_type": "code",
   "execution_count": null,
   "metadata": {},
   "outputs": [],
   "source": [
    "cat_features_h1n1_vacc = cat_features.copy()"
   ]
  },
  {
   "cell_type": "code",
   "execution_count": null,
   "metadata": {},
   "outputs": [],
   "source": [
    "cat_features_h1n1_vacc.remove('seasonal_vaccine')"
   ]
  },
  {
   "cell_type": "code",
   "execution_count": null,
   "metadata": {},
   "outputs": [],
   "source": [
    "#NB: dropping the 'h1n1_vaccine' and 'seasonal_vaccine' columns\n",
    "X_h1n1_vacc = df.drop(columns=['seasonal_vaccine'])"
   ]
  },
  {
   "cell_type": "markdown",
   "metadata": {},
   "source": [
    "Performing test-train split (the same data can be used for each model in multilabelling):"
   ]
  },
  {
   "cell_type": "code",
   "execution_count": null,
   "metadata": {},
   "outputs": [],
   "source": [
    "X_h1n1_vacc_train, X_h1n1_vacc_test, y_seas_vacc_train, y_seas_vacc_test = train_test_split(X_h1n1_vacc, y_seas_vacc, stratify = y_seas_vacc, test_size=0.2, random_state=RSEED)"
   ]
  },
  {
   "cell_type": "code",
   "execution_count": null,
   "metadata": {},
   "outputs": [],
   "source": [
    "print('X_h1n1_vacc_train shape:', X_h1n1_vacc_train.shape)\n",
    "print('X_h1n1_vacc_test shape:', X_h1n1_vacc_test.shape)\n",
    "print('y_seas_vacc_train:', y_seas_vacc_train.shape)\n",
    "print('y_seas_vacc_test:', y_seas_vacc_test.shape)"
   ]
  },
  {
   "cell_type": "markdown",
   "metadata": {},
   "source": [
    "The preprocessor is adjusted:"
   ]
  },
  {
   "cell_type": "code",
   "execution_count": null,
   "metadata": {},
   "outputs": [],
   "source": [
    "preprocessor_h1n1_vacc = ColumnTransformer([\n",
    "    ('cat', cat_pipeline, cat_features_h1n1_vacc)\n",
    "])"
   ]
  },
  {
   "cell_type": "markdown",
   "metadata": {},
   "source": [
    "The pipeline is adjusted:"
   ]
  },
  {
   "cell_type": "code",
   "execution_count": null,
   "metadata": {},
   "outputs": [],
   "source": [
    "# for logreg\n",
    "logreg_h1n1_vacc_unilabel_pipeline = Pipeline([\n",
    "    (\"preprocessor\", preprocessor_h1n1_vacc),\n",
    "    (\"estimators\", logreg),\n",
    "])\n",
    "\n",
    "# for KNN\n",
    "knn_h1n1_vacc_unilabel_pipeline = Pipeline([\n",
    "    (\"preprocessor\", preprocessor_h1n1_vacc),\n",
    "    (\"estimators\", knn),\n",
    "])\n",
    "\n",
    "# for Random Forest\n",
    "\n",
    "rand_forst_h1n1_vacc_unilabel_pipeline = Pipeline([\n",
    "    (\"preprocessor\", preprocessor_h1n1_vacc),\n",
    "    (\"estimators\", rand_forst),\n",
    "])\n",
    "\n",
    "#for SVM\n",
    "svm_h1n1_vacc_unilabel_pipeline = Pipeline([\n",
    "    (\"preprocessor\", preprocessor_h1n1_vacc),\n",
    "    (\"estimators\", svm),\n",
    "])"
   ]
  },
  {
   "cell_type": "markdown",
   "metadata": {},
   "source": [
    "Training the models:"
   ]
  },
  {
   "cell_type": "code",
   "execution_count": null,
   "metadata": {},
   "outputs": [],
   "source": [
    "# for logreg\n",
    "logreg_unilabel_h1n1_vacc = logreg_h1n1_vacc_unilabel_pipeline.fit(X_h1n1_vacc_train, y_seas_vacc_train)\n",
    "\n",
    "# for KNN\n",
    "knn_unilabel_h1n1_vacc = knn_h1n1_vacc_unilabel_pipeline.fit(X_h1n1_vacc_train, y_seas_vacc_train)\n",
    "\n",
    "# for Random Forest\n",
    "rand_forst_unilabel_h1n1_vacc = rand_forst_h1n1_vacc_unilabel_pipeline.fit(X_h1n1_vacc_train, y_seas_vacc_train)\n",
    "\n",
    "#for SVM\n",
    "svm_unilabel_h1n1_vacc = svm_h1n1_vacc_unilabel_pipeline.fit(X_h1n1_vacc_train, y_seas_vacc_train)"
   ]
  },
  {
   "cell_type": "code",
   "execution_count": null,
   "metadata": {},
   "outputs": [],
   "source": [
    "# Figure out later what this does and if we want to use it\n",
    "\n",
    "\n",
    "#y_train_predicted = cross_val_predict(full_pipeline, X_train, y_train, cv=5)"
   ]
  },
  {
   "cell_type": "markdown",
   "metadata": {},
   "source": [
    "Making predictions based on train and test data:"
   ]
  },
  {
   "cell_type": "code",
   "execution_count": null,
   "metadata": {},
   "outputs": [],
   "source": [
    "# for logreg\n",
    "logreg_unilabel_h1n1_vacc_trainpreds = logreg_unilabel_h1n1_vacc.predict(X_h1n1_vacc_train)\n",
    "logreg_unilabel_h1n1_vacc_testpreds = logreg_unilabel_h1n1_vacc.predict(X_h1n1_vacc_test)\n",
    "\n",
    "# for KNN\n",
    "knn_unilabel_h1n1_vacc_trainpreds = knn_unilabel_h1n1_vacc.predict(X_h1n1_vacc_train)\n",
    "knn_unilabel_h1n1_vacc_testpreds = knn_unilabel_h1n1_vacc.predict(X_h1n1_vacc_test)\n",
    "\n",
    "# for Random Forest\n",
    "rand_forst_unilabel_h1n1_vacc_trainpreds = rand_forst_unilabel_h1n1_vacc.predict(X_h1n1_vacc_train)\n",
    "rand_forst_unilabel_h1n1_vacc_testpreds = rand_forst_unilabel_h1n1_vacc.predict(X_h1n1_vacc_test)\n",
    "\n",
    "# for SVM\n",
    "svm_unilabel_h1n1_vacc_trainpreds = svm_unilabel_h1n1_vacc.predict(X_h1n1_vacc_train)\n",
    "svm_unilabel_h1n1_vacc_testpreds = svm_unilabel_h1n1_vacc.predict(X_h1n1_vacc_test)"
   ]
  },
  {
   "cell_type": "markdown",
   "metadata": {},
   "source": [
    "### Model evaluation"
   ]
  },
  {
   "cell_type": "markdown",
   "metadata": {},
   "source": [
    "#### Train data"
   ]
  },
  {
   "cell_type": "code",
   "execution_count": null,
   "metadata": {},
   "outputs": [],
   "source": [
    "# Logreg--Train data evaluation Metrics\n",
    "seas_logreg_unilabel_h1n1_vacc_train_acc = accuracy_score(y_seas_vacc_train, logreg_unilabel_h1n1_vacc_trainpreds)\n",
    "seas_logreg_unilabel_h1n1_vacc_train_recall = recall_score(y_seas_vacc_train, logreg_unilabel_h1n1_vacc_trainpreds)\n",
    "seas_logreg_unilabel_h1n1_vacc_train_precision = precision_score(y_seas_vacc_train, logreg_unilabel_h1n1_vacc_trainpreds)\n",
    "seas_logreg_unilabel_h1n1_vacc_train_f1 = f1_score(y_seas_vacc_train, logreg_unilabel_h1n1_vacc_trainpreds)\n",
    "seas_logreg_unilabel_h1n1_vacc_train_roc = roc_auc_score(y_seas_vacc_train, logreg_unilabel_h1n1_vacc_trainpreds)\n",
    "\n",
    "#print(\"Accuracy: {:.2f}\".format(accuracy_score(y_seas_vacc_train, logreg_unilabel_h1n1_vacc_trainpreds)))\n",
    "#print(\"Recall: {:.2f}\".format(recall_score(y_seas_vacc_train, logreg_unilabel_h1n1_vacc_trainpreds)))\n",
    "#print(\"Precision: {:.2f}\".format(precision_score(y_seas_vacc_train, logreg_unilabel_h1n1_vacc_trainpreds)))\n",
    "#print(\"F1: {:.2f}\".format(f1_score(y_seas_vacc_train, logreg_unilabel_h1n1_vacc_trainpreds)))\n",
    "#print(\"ROC: {:.2f}\".format(roc_auc_score(y_seas_vacc_train, logreg_unilabel_h1n1_vacc_trainpreds)))"
   ]
  },
  {
   "cell_type": "code",
   "execution_count": null,
   "metadata": {},
   "outputs": [],
   "source": [
    "# KNN--Train data evaluation Metrics\n",
    "seas_knn_unilabel_h1n1_vacc_train_acc = accuracy_score(y_seas_vacc_train, knn_unilabel_h1n1_vacc_trainpreds)\n",
    "seas_knn_unilabel_h1n1_vacc_train_recall = recall_score(y_seas_vacc_train, knn_unilabel_h1n1_vacc_trainpreds)\n",
    "seas_knn_unilabel_h1n1_vacc_train_precision = precision_score(y_seas_vacc_train, knn_unilabel_h1n1_vacc_trainpreds)\n",
    "seas_knn_unilabel_h1n1_vacc_train_f1 = f1_score(y_seas_vacc_train, knn_unilabel_h1n1_vacc_trainpreds)\n",
    "seas_knn_unilabel_h1n1_vacc_train_roc = roc_auc_score(y_seas_vacc_train, knn_unilabel_h1n1_vacc_trainpreds)\n",
    "\n",
    "#print(\"Accuracy: {:.2f}\".format(accuracy_score(y_seas_vacc_train, knn_unilabel_h1n1_vacc_trainpreds)))\n",
    "#print(\"Recall: {:.2f}\".format(recall_score(y_seas_vacc_train, knn_unilabel_h1n1_vacc_trainpreds)))\n",
    "#print(\"Precision: {:.2f}\".format(precision_score(y_seas_vacc_train, knn_unilabel_h1n1_vacc_trainpreds)))\n",
    "#print(\"F1: {:.2f}\".format(f1_score(y_seas_vacc_train, knn_unilabel_h1n1_vacc_trainpreds)))\n",
    "#print(\"ROC: {:.2f}\".format(roc_auc_score(y_seas_vacc_train, knn_unilabel_h1n1_vacc_trainpreds)))"
   ]
  },
  {
   "cell_type": "code",
   "execution_count": null,
   "metadata": {},
   "outputs": [],
   "source": [
    "# Random Forest--Train data evaluation Metrics\n",
    "#check if these metrics are changing compared to previous results\n",
    "seas_rand_forst_unilabel_h1n1_vacc_train_acc = accuracy_score(y_seas_vacc_train, rand_forst_unilabel_h1n1_vacc_trainpreds)\n",
    "seas_rand_forst_unilabel_h1n1_vacc_train_recall = recall_score(y_seas_vacc_train, rand_forst_unilabel_h1n1_vacc_trainpreds)\n",
    "seas_rand_forst_unilabel_h1n1_vacc_train_precision = precision_score(y_seas_vacc_train, rand_forst_unilabel_h1n1_vacc_trainpreds)\n",
    "seas_rand_forst_unilabel_h1n1_vacc_train_f1 = f1_score(y_seas_vacc_train, rand_forst_unilabel_h1n1_vacc_trainpreds)\n",
    "seas_rand_forst_unilabel_h1n1_vacc_train_roc = roc_auc_score(y_seas_vacc_train, rand_forst_unilabel_h1n1_vacc_trainpreds)\n",
    "\n",
    "#print(\"Accuracy: {:.2f}\".format(accuracy_score(y_seas_vacc_train, rand_forst_unilabel_h1n1_vacc_trainpreds)))\n",
    "#print(\"Recall: {:.2f}\".format(recall_score(y_seas_vacc_train, rand_forst_unilabel_h1n1_vacc_trainpreds)))\n",
    "#print(\"Precision: {:.2f}\".format(precision_score(y_seas_vacc_train, rand_forst_unilabel_h1n1_vacc_trainpreds)))\n",
    "#print(\"F1: {:.2f}\".format(f1_score(y_seas_vacc_train, rand_forst_unilabel_h1n1_vacc_trainpreds)))\n",
    "#print(\"ROC: {:.2f}\".format(roc_auc_score(y_seas_vacc_train, rand_forst_unilabel_h1n1_vacc_trainpreds)))"
   ]
  },
  {
   "cell_type": "code",
   "execution_count": null,
   "metadata": {},
   "outputs": [],
   "source": [
    "# SVM--Train data evaluation Metrics\n",
    "seas_svm_unilabel_h1n1_vacc_train_acc = accuracy_score(y_seas_vacc_train, svm_unilabel_h1n1_vacc_trainpreds)\n",
    "seas_svm_unilabel_h1n1_vacc_train_recall = recall_score(y_seas_vacc_train, svm_unilabel_h1n1_vacc_trainpreds)\n",
    "seas_svm_unilabel_h1n1_vacc_train_precision = precision_score(y_seas_vacc_train, svm_unilabel_h1n1_vacc_trainpreds)\n",
    "seas_svm_unilabel_h1n1_vacc_train_f1 = f1_score(y_seas_vacc_train, svm_unilabel_h1n1_vacc_trainpreds)\n",
    "seas_svm_unilabel_h1n1_vacc_train_roc = roc_auc_score(y_seas_vacc_train, svm_unilabel_h1n1_vacc_trainpreds)\n",
    "\n",
    "#print(\"Accuracy: {:.2f}\".format(accuracy_score(y_seas_vacc_train, svm_unilabel_h1n1_vacc_trainpreds)))\n",
    "#print(\"Recall: {:.2f}\".format(recall_score(y_seas_vacc_train, svm_unilabel_h1n1_vacc_trainpreds)))\n",
    "#print(\"Precision: {:.2f}\".format(precision_score(y_seas_vacc_train, svm_unilabel_h1n1_vacc_trainpreds)))\n",
    "#print(\"F1: {:.2f}\".format(f1_score(y_seas_vacc_train, svm_unilabel_h1n1_vacc_trainpreds)))\n",
    "#print(\"ROC: {:.2f}\".format(roc_auc_score(y_seas_vacc_train, svm_unilabel_h1n1_vacc_trainpreds)))"
   ]
  },
  {
   "cell_type": "markdown",
   "metadata": {},
   "source": [
    "#### Test data"
   ]
  },
  {
   "cell_type": "code",
   "execution_count": null,
   "metadata": {},
   "outputs": [],
   "source": [
    "# Logreg--Test data evaluation Metrics\n",
    "seas_logreg_unilabel_h1n1_vacc_test_acc = accuracy_score(y_seas_vacc_test, logreg_unilabel_h1n1_vacc_testpreds)\n",
    "seas_logreg_unilabel_h1n1_vacc_test_recall = recall_score(y_seas_vacc_test, logreg_unilabel_h1n1_vacc_testpreds)\n",
    "seas_logreg_unilabel_h1n1_vacc_test_precision = precision_score(y_seas_vacc_test, logreg_unilabel_h1n1_vacc_testpreds)\n",
    "seas_logreg_unilabel_h1n1_vacc_test_f1 = f1_score(y_seas_vacc_test, logreg_unilabel_h1n1_vacc_testpreds)\n",
    "seas_logreg_unilabel_h1n1_vacc_test_roc = roc_auc_score(y_seas_vacc_test, logreg_unilabel_h1n1_vacc_testpreds)\n",
    "\n",
    "#print(\"Accuracy: {:.2f}\".format(accuracy_score(y_seas_vacc_test, logreg_unilabel_h1n1_vacc_testpreds)))\n",
    "#print(\"Recall: {:.2f}\".format(recall_score(y_seas_vacc_test, logreg_unilabel_h1n1_vacc_testpreds)))\n",
    "#print(\"Precision: {:.2f}\".format(precision_score(y_seas_vacc_test, logreg_unilabel_h1n1_vacc_testpreds)))\n",
    "#print(\"F1: {:.2f}\".format(f1_score(y_seas_vacc_test, logreg_unilabel_h1n1_vacc_testpreds)))\n",
    "#print(\"ROC: {:.2f}\".format(roc_auc_score(y_seas_vacc_test, logreg_unilabel_h1n1_vacc_testpreds)))"
   ]
  },
  {
   "cell_type": "code",
   "execution_count": null,
   "metadata": {},
   "outputs": [],
   "source": [
    "# KNN--Test data evaluation Metrics\n",
    "seas_knn_unilabel_h1n1_vacc_test_acc = accuracy_score(y_seas_vacc_test, knn_unilabel_h1n1_vacc_testpreds)\n",
    "seas_knn_unilabel_h1n1_vacc_test_recall = recall_score(y_seas_vacc_test, knn_unilabel_h1n1_vacc_testpreds)\n",
    "seas_knn_unilabel_h1n1_vacc_test_precision = precision_score(y_seas_vacc_test, knn_unilabel_h1n1_vacc_testpreds)\n",
    "seas_knn_unilabel_h1n1_vacc_test_f1 = f1_score(y_seas_vacc_test, knn_unilabel_h1n1_vacc_testpreds)\n",
    "seas_knn_unilabel_h1n1_vacc_test_roc = roc_auc_score(y_seas_vacc_test, knn_unilabel_h1n1_vacc_testpreds)\n",
    "\n",
    "#print(\"Accuracy: {:.2f}\".format(accuracy_score(y_seas_vacc_test, knn_unilabel_h1n1_vacc_testpreds)))\n",
    "#print(\"Recall: {:.2f}\".format(recall_score(y_seas_vacc_test, knn_unilabel_h1n1_vacc_testpreds)))\n",
    "#print(\"Precision: {:.2f}\".format(precision_score(y_seas_vacc_test, knn_unilabel_h1n1_vacc_testpreds)))\n",
    "#print(\"F1: {:.2f}\".format(f1_score(y_seas_vacc_test, knn_unilabel_h1n1_vacc_testpreds)))\n",
    "#print(\"ROC: {:.2f}\".format(roc_auc_score(y_seas_vacc_test, knn_unilabel_h1n1_vacc_testpreds)))"
   ]
  },
  {
   "cell_type": "code",
   "execution_count": null,
   "metadata": {},
   "outputs": [],
   "source": [
    "# Random Forest--Test data evaluation Metrics\n",
    "#check if these metrics are changing compared to previous results\n",
    "seas_rand_forst_unilabel_h1n1_vacc_test_acc = accuracy_score(y_seas_vacc_test, rand_forst_unilabel_h1n1_vacc_testpreds)\n",
    "seas_rand_forst_unilabel_h1n1_vacc_test_recall = recall_score(y_seas_vacc_test, rand_forst_unilabel_h1n1_vacc_testpreds)\n",
    "seas_rand_forst_unilabel_h1n1_vacc_test_precision = precision_score(y_seas_vacc_test, rand_forst_unilabel_h1n1_vacc_testpreds)\n",
    "seas_rand_forst_unilabel_h1n1_vacc_test_f1 = f1_score(y_seas_vacc_test, rand_forst_unilabel_h1n1_vacc_testpreds)\n",
    "seas_rand_forst_unilabel_h1n1_vacc_test_roc = roc_auc_score(y_seas_vacc_test, rand_forst_unilabel_h1n1_vacc_testpreds)\n",
    "\n",
    "#print(\"Accuracy: {:.2f}\".format(accuracy_score(y_seas_vacc_test, rand_forst_unilabel_h1n1_vacc_testpreds)))\n",
    "#print(\"Recall: {:.2f}\".format(recall_score(y_seas_vacc_test, rand_forst_unilabel_h1n1_vacc_testpreds)))\n",
    "#print(\"Precision: {:.2f}\".format(precision_score(y_seas_vacc_test, rand_forst_unilabel_h1n1_vacc_testpreds)))\n",
    "#print(\"F1: {:.2f}\".format(f1_score(y_seas_vacc_test, rand_forst_unilabel_h1n1_vacc_testpreds)))\n",
    "#print(\"ROC: {:.2f}\".format(roc_auc_score(y_seas_vacc_test, rand_forst_unilabel_h1n1_vacc_testpreds)))"
   ]
  },
  {
   "cell_type": "code",
   "execution_count": null,
   "metadata": {},
   "outputs": [],
   "source": [
    "# SVM--Test data evaluation Metrics\n",
    "seas_svm_unilabel_h1n1_vacc_test_acc = accuracy_score(y_seas_vacc_test, svm_unilabel_h1n1_vacc_testpreds)\n",
    "seas_svm_unilabel_h1n1_vacc_test_recall = recall_score(y_seas_vacc_test, svm_unilabel_h1n1_vacc_testpreds)\n",
    "seas_svm_unilabel_h1n1_vacc_test_precision = precision_score(y_seas_vacc_test, svm_unilabel_h1n1_vacc_testpreds)\n",
    "seas_svm_unilabel_h1n1_vacc_test_f1 = f1_score(y_seas_vacc_test, svm_unilabel_h1n1_vacc_testpreds)\n",
    "seas_svm_unilabel_h1n1_vacc_test_roc = roc_auc_score(y_seas_vacc_test, svm_unilabel_h1n1_vacc_testpreds)\n",
    "\n",
    "#print(\"Accuracy: {:.2f}\".format(accuracy_score(y_seas_vacc_test, svm_unilabel_h1n1_vacc_testpreds)))\n",
    "#print(\"Recall: {:.2f}\".format(recall_score(y_seas_vacc_test, svm_unilabel_h1n1_vacc_testpreds)))\n",
    "#print(\"Precision: {:.2f}\".format(precision_score(y_seas_vacc_test, svm_unilabel_h1n1_vacc_testpreds)))\n",
    "#print(\"F1: {:.2f}\".format(f1_score(y_seas_vacc_test, svm_unilabel_h1n1_vacc_testpreds)))\n",
    "#print(\"ROC: {:.2f}\".format(roc_auc_score(y_seas_vacc_test, svm_unilabel_h1n1_vacc_testpreds)))"
   ]
  },
  {
   "cell_type": "markdown",
   "metadata": {},
   "source": [
    "## Tracking the model with MLFlow"
   ]
  },
  {
   "cell_type": "markdown",
   "metadata": {},
   "source": [
    "### H1N1 vaccine output"
   ]
  },
  {
   "cell_type": "markdown",
   "metadata": {},
   "source": [
    "#### Logistic regression"
   ]
  },
  {
   "cell_type": "code",
   "execution_count": null,
   "metadata": {
    "slideshow": {
     "slide_type": "slide"
    }
   },
   "outputs": [],
   "source": [
    "# setting the MLFlow connection and experiment\n",
    "mlflow.set_tracking_uri(TRACKING_URI)\n",
    "mlflow.set_experiment(EXPERIMENT_NAME_seasonal) #this needs to be adjusted for each experiment\n",
    "name = 'logreg_unilabel_seasonal' #specify the run name here; name it with model used\n",
    "mlflow.start_run(run_name = name) \n",
    "run = mlflow.active_run()"
   ]
  },
  {
   "cell_type": "code",
   "execution_count": null,
   "metadata": {
    "slideshow": {
     "slide_type": "subslide"
    }
   },
   "outputs": [],
   "source": [
    "print(\"Active run_id: {}\".format(run.info.run_id))"
   ]
  },
  {
   "cell_type": "code",
   "execution_count": null,
   "metadata": {
    "slideshow": {
     "slide_type": "slide"
    }
   },
   "outputs": [],
   "source": [
    "#parameters are to keep track of everything for re-running the experiment (e.g. what features are being engineered, hyperparameters of model, etc)\n",
    "#to be adjusted as needed\n",
    "params = {\n",
    "    \"Data cleaning\": \"Full dataset\",\n",
    "    \"Data balancing\": \"None\",\n",
    "    \"Hyperparameters\": \"None\"\n",
    "  }"
   ]
  },
  {
   "cell_type": "code",
   "execution_count": null,
   "metadata": {
    "slideshow": {
     "slide_type": "slide"
    }
   },
   "outputs": [],
   "source": [
    "mlflow.log_params(params)\n",
    "#tags = data used\n",
    "mlflow.set_tag(\"Vaccines in features\", \"H1N1\") #set tags for more details of what we've done\n",
    "mlflow.log_metric(\"train -\" + \"ROC\", seas_logreg_unilabel_h1n1_vacc_train_roc)\n",
    "mlflow.log_metric(\"test -\" + \"ROC\", seas_logreg_unilabel_h1n1_vacc_test_roc)\n",
    "mlflow.log_metric(\"train -\" + \"accuracy\", seas_logreg_unilabel_h1n1_vacc_train_acc)\n",
    "mlflow.log_metric(\"test -\" + \"accuracy\", seas_logreg_unilabel_h1n1_vacc_test_acc)\n",
    "mlflow.log_metric(\"train -\" + \"recall\", seas_logreg_unilabel_h1n1_vacc_train_recall)\n",
    "mlflow.log_metric(\"test -\" + \"recall\", seas_logreg_unilabel_h1n1_vacc_test_recall)\n",
    "mlflow.log_metric(\"train -\" + \"precision\", seas_logreg_unilabel_h1n1_vacc_train_precision)\n",
    "mlflow.log_metric(\"test -\" + \"precision\", seas_logreg_unilabel_h1n1_vacc_test_precision)\n",
    "mlflow.log_metric(\"train -\" + \"f1\", seas_logreg_unilabel_h1n1_vacc_train_f1)\n",
    "mlflow.log_metric(\"test -\" + \"f1\", seas_logreg_unilabel_h1n1_vacc_test_f1)\n",
    "#mlflow.log_artifact(\"../models\")\n",
    "#mlflow.sklearn.log_model(reg, \"model\")\n",
    "mlflow.end_run()"
   ]
  },
  {
   "cell_type": "code",
   "execution_count": null,
   "metadata": {
    "slideshow": {
     "slide_type": "subslide"
    }
   },
   "outputs": [],
   "source": [
    "#mlflow.get_run(run_id=run.info.run_id)"
   ]
  },
  {
   "cell_type": "markdown",
   "metadata": {},
   "source": [
    "#### KNN"
   ]
  },
  {
   "cell_type": "code",
   "execution_count": null,
   "metadata": {
    "slideshow": {
     "slide_type": "slide"
    }
   },
   "outputs": [],
   "source": [
    "# setting the MLFlow connection and experiment\n",
    "mlflow.set_tracking_uri(TRACKING_URI)\n",
    "mlflow.set_experiment(EXPERIMENT_NAME_seasonal)\n",
    "name = 'knn_unilabel_seasonal' #specify the run name here; name it with model used\n",
    "mlflow.start_run(run_name = name) \n",
    "run = mlflow.active_run()"
   ]
  },
  {
   "cell_type": "code",
   "execution_count": null,
   "metadata": {
    "slideshow": {
     "slide_type": "subslide"
    }
   },
   "outputs": [],
   "source": [
    "print(\"Active run_id: {}\".format(run.info.run_id))"
   ]
  },
  {
   "cell_type": "code",
   "execution_count": null,
   "metadata": {
    "slideshow": {
     "slide_type": "slide"
    }
   },
   "outputs": [],
   "source": [
    "#parameters are to keep track of everything for re-running the experiment (e.g. what features are being engineered, hyperparameters of model, etc)\n",
    "#to be adjusted as needed\n",
    "params = {\n",
    "    \"Data cleaning\": \"Full dataset\",\n",
    "    \"Data balancing\": \"None\",\n",
    "    \"Hyperparameters\": \"None\"\n",
    "  }"
   ]
  },
  {
   "cell_type": "code",
   "execution_count": null,
   "metadata": {
    "slideshow": {
     "slide_type": "slide"
    }
   },
   "outputs": [],
   "source": [
    "mlflow.log_params(params)\n",
    "#tags = data used\n",
    "mlflow.set_tag(\"Vaccines in features\", \"H1N1\") #set tags for more details of what we've done\n",
    "mlflow.log_metric(\"train -\" + \"ROC\", seas_knn_unilabel_h1n1_vacc_train_roc)\n",
    "mlflow.log_metric(\"test -\" + \"ROC\", seas_knn_unilabel_h1n1_vacc_test_roc)\n",
    "mlflow.log_metric(\"train -\" + \"accuracy\", seas_knn_unilabel_h1n1_vacc_train_acc)\n",
    "mlflow.log_metric(\"test -\" + \"accuracy\", seas_knn_unilabel_h1n1_vacc_test_acc)\n",
    "mlflow.log_metric(\"train -\" + \"recall\", seas_knn_unilabel_h1n1_vacc_train_recall)\n",
    "mlflow.log_metric(\"test -\" + \"recall\", seas_knn_unilabel_h1n1_vacc_test_recall)\n",
    "mlflow.log_metric(\"train -\" + \"precision\", seas_knn_unilabel_h1n1_vacc_train_precision)\n",
    "mlflow.log_metric(\"test -\" + \"precision\", seas_knn_unilabel_h1n1_vacc_test_precision)\n",
    "mlflow.log_metric(\"train -\" + \"f1\", seas_knn_unilabel_h1n1_vacc_train_f1)\n",
    "mlflow.log_metric(\"test -\" + \"f1\", seas_knn_unilabel_h1n1_vacc_test_f1)\n",
    "#mlflow.log_artifact(\"../models\")\n",
    "#mlflow.sklearn.log_model(reg, \"model\")\n",
    "mlflow.end_run()"
   ]
  },
  {
   "cell_type": "code",
   "execution_count": null,
   "metadata": {
    "slideshow": {
     "slide_type": "subslide"
    }
   },
   "outputs": [],
   "source": [
    "#mlflow.get_run(run_id=run.info.run_id)"
   ]
  },
  {
   "cell_type": "markdown",
   "metadata": {},
   "source": [
    "#### Random forest"
   ]
  },
  {
   "cell_type": "code",
   "execution_count": null,
   "metadata": {
    "slideshow": {
     "slide_type": "slide"
    }
   },
   "outputs": [],
   "source": [
    "# setting the MLFlow connection and experiment\n",
    "mlflow.set_tracking_uri(TRACKING_URI)\n",
    "mlflow.set_experiment(EXPERIMENT_NAME_seasonal)\n",
    "name = 'rand_forst_unilabel_seasonal' #specify the run name here; name it with model used\n",
    "mlflow.start_run(run_name = name) \n",
    "run = mlflow.active_run()"
   ]
  },
  {
   "cell_type": "code",
   "execution_count": null,
   "metadata": {
    "slideshow": {
     "slide_type": "subslide"
    }
   },
   "outputs": [],
   "source": [
    "print(\"Active run_id: {}\".format(run.info.run_id))"
   ]
  },
  {
   "cell_type": "code",
   "execution_count": null,
   "metadata": {
    "slideshow": {
     "slide_type": "slide"
    }
   },
   "outputs": [],
   "source": [
    "#parameters are to keep track of everything for re-running the experiment (e.g. what features are being engineered, hyperparameters of model, etc)\n",
    "#to be adjusted as needed\n",
    "params = {\n",
    "    \"Data cleaning\": \"Full dataset\",\n",
    "    \"Data balancing\": \"None\",\n",
    "    \"Hyperparameters\": \"None\"\n",
    "  }"
   ]
  },
  {
   "cell_type": "code",
   "execution_count": null,
   "metadata": {
    "slideshow": {
     "slide_type": "slide"
    }
   },
   "outputs": [],
   "source": [
    "mlflow.log_params(params)\n",
    "#tags = data used\n",
    "mlflow.set_tag(\"Vaccines in features\", \"H1N1\") #set tags for more details of what we've done\n",
    "mlflow.log_metric(\"train -\" + \"ROC\", seas_rand_forst_unilabel_h1n1_vacc_train_roc)\n",
    "mlflow.log_metric(\"test -\" + \"ROC\", seas_rand_forst_unilabel_h1n1_vacc_test_roc)\n",
    "mlflow.log_metric(\"train -\" + \"accuracy\", seas_rand_forst_unilabel_h1n1_vacc_train_acc)\n",
    "mlflow.log_metric(\"test -\" + \"accuracy\", seas_rand_forst_unilabel_h1n1_vacc_test_acc)\n",
    "mlflow.log_metric(\"train -\" + \"recall\", seas_rand_forst_unilabel_h1n1_vacc_train_recall)\n",
    "mlflow.log_metric(\"test -\" + \"recall\", seas_rand_forst_unilabel_h1n1_vacc_test_recall)\n",
    "mlflow.log_metric(\"train -\" + \"precision\", seas_rand_forst_unilabel_h1n1_vacc_train_precision)\n",
    "mlflow.log_metric(\"test -\" + \"precision\", seas_rand_forst_unilabel_h1n1_vacc_test_precision)\n",
    "mlflow.log_metric(\"train -\" + \"f1\", seas_rand_forst_unilabel_h1n1_vacc_train_f1)\n",
    "mlflow.log_metric(\"test -\" + \"f1\", seas_rand_forst_unilabel_h1n1_vacc_test_f1)\n",
    "#mlflow.log_artifact(\"../models\")\n",
    "#mlflow.sklearn.log_model(reg, \"model\")\n",
    "mlflow.end_run()"
   ]
  },
  {
   "cell_type": "code",
   "execution_count": null,
   "metadata": {
    "slideshow": {
     "slide_type": "subslide"
    }
   },
   "outputs": [],
   "source": [
    "#mlflow.get_run(run_id=run.info.run_id)"
   ]
  },
  {
   "cell_type": "markdown",
   "metadata": {},
   "source": [
    "#### SVM"
   ]
  },
  {
   "cell_type": "code",
   "execution_count": null,
   "metadata": {
    "slideshow": {
     "slide_type": "slide"
    }
   },
   "outputs": [],
   "source": [
    "# setting the MLFlow connection and experiment\n",
    "mlflow.set_tracking_uri(TRACKING_URI)\n",
    "mlflow.set_experiment(EXPERIMENT_NAME_seasonal)\n",
    "name = 'svm_unilabel_seasonal' #specify the run name here; name it with model used\n",
    "mlflow.start_run(run_name = name) \n",
    "run = mlflow.active_run()"
   ]
  },
  {
   "cell_type": "code",
   "execution_count": null,
   "metadata": {
    "slideshow": {
     "slide_type": "subslide"
    }
   },
   "outputs": [],
   "source": [
    "print(\"Active run_id: {}\".format(run.info.run_id))"
   ]
  },
  {
   "cell_type": "code",
   "execution_count": null,
   "metadata": {
    "slideshow": {
     "slide_type": "slide"
    }
   },
   "outputs": [],
   "source": [
    "#parameters are to keep track of everything for re-running the experiment (e.g. what features are being engineered, hyperparameters of model, etc)\n",
    "#to be adjusted as needed\n",
    "params = {\n",
    "    \"Data cleaning\": \"Full dataset\",\n",
    "    \"Data balancing\": \"None\",\n",
    "    \"Hyperparameters\": \"None\"\n",
    "  }"
   ]
  },
  {
   "cell_type": "code",
   "execution_count": null,
   "metadata": {
    "slideshow": {
     "slide_type": "slide"
    }
   },
   "outputs": [],
   "source": [
    "mlflow.log_params(params)\n",
    "#tags = data used\n",
    "mlflow.set_tag(\"Vaccines in features\", \"H1N1\") #set tags for more details of what we've done\n",
    "mlflow.log_metric(\"train -\" + \"ROC\", seas_svm_unilabel_h1n1_vacc_train_roc)\n",
    "mlflow.log_metric(\"test -\" + \"ROC\", seas_svm_unilabel_h1n1_vacc_test_roc)\n",
    "mlflow.log_metric(\"train -\" + \"accuracy\", seas_svm_unilabel_h1n1_vacc_train_acc)\n",
    "mlflow.log_metric(\"test -\" + \"accuracy\", seas_svm_unilabel_h1n1_vacc_test_acc)\n",
    "mlflow.log_metric(\"train -\" + \"recall\", seas_svm_unilabel_h1n1_vacc_train_recall)\n",
    "mlflow.log_metric(\"test -\" + \"recall\", seas_svm_unilabel_h1n1_vacc_test_recall)\n",
    "mlflow.log_metric(\"train -\" + \"precision\", seas_svm_unilabel_h1n1_vacc_train_precision)\n",
    "mlflow.log_metric(\"test -\" + \"precision\", seas_svm_unilabel_h1n1_vacc_test_precision)\n",
    "mlflow.log_metric(\"train -\" + \"f1\", seas_svm_unilabel_h1n1_vacc_train_f1)\n",
    "mlflow.log_metric(\"test -\" + \"f1\", seas_svm_unilabel_h1n1_vacc_test_f1)\n",
    "#mlflow.log_artifact(\"../models\")\n",
    "#mlflow.sklearn.log_model(reg, \"model\")\n",
    "mlflow.end_run()"
   ]
  },
  {
   "cell_type": "code",
   "execution_count": null,
   "metadata": {
    "slideshow": {
     "slide_type": "subslide"
    }
   },
   "outputs": [],
   "source": [
    "#mlflow.get_run(run_id=run.info.run_id)"
   ]
  }
 ],
 "metadata": {
  "interpreter": {
   "hash": "c0c25dab8ee693e846481bd08863e7cb648266bb2d9a40c015c16febc8ddeeb0"
  },
  "kernelspec": {
   "display_name": "Python 3.8.5 64-bit ('.venv': venv)",
   "name": "python3"
  },
  "language_info": {
   "codemirror_mode": {
    "name": "ipython",
    "version": 3
   },
   "file_extension": ".py",
   "mimetype": "text/x-python",
   "name": "python",
   "nbconvert_exporter": "python",
   "pygments_lexer": "ipython3",
   "version": "3.8.5"
  },
  "metadata": {
   "interpreter": {
    "hash": "aee8b7b246df8f9039afb4144a1f6fd8d2ca17a180786b69acc140d282b71a49"
   }
  },
  "toc-autonumbering": false,
  "toc-showmarkdowntxt": false
 },
 "nbformat": 4,
 "nbformat_minor": 4
}