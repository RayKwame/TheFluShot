{
 "cells": [
  {
   "cell_type": "markdown",
   "id": "31a433d3",
   "metadata": {},
   "source": [
    "# Flu shot acceptance: learning from a previous pandemic"
   ]
  },
  {
   "cell_type": "markdown",
   "id": "64461b5f",
   "metadata": {},
   "source": [
    "This is the capstone project of the neue fische Data Science Bootcamp. It was a collaborative effort between [Christina Rudolf](https://github.com/christinarudolf), [Raymond Boateng](https://github.com/RayKwame) and [Juliane Berek](https://github.com/julianeberek).\n",
    "\n",
    "## Introduction\n",
    "\n",
    "The H1N1 influenza pandemic (also known as swine influenza) was caused by H1N1 influenza virus and affected the world between June 2009 to August 2010 (according to WHO declaration). It was the most recent pandemic prior to COVID19. An estimated 11 - 21% of the global population was affected, with deaths in the U.S. totalling 12,469.\n",
    "\n",
    "This project aimed to:\n",
    "- Help to increase vaccination rates for seasonal and pandemic flu in the overall population (this reducing the burden of influenza by decreasing hospitalisations/ deaths)\n",
    "- Identify factors that determine the chance of getting vaccinated\n",
    "- Identify groups with lower likelihood for getting vaccinated, in order to target them with promotions\n",
    "- Determine differences of seasonal vs. H1N1 (pandemic) vaccinations\n",
    "\n",
    "## Description of dataset\n",
    "\n",
    "The original data was collected through the National 2009 H1N1 Flu Survey in the U.S. between 2009 - 2010. The current dataset formed part of the DrivenData Challenge [\"Flu Shot Learning: Predict H1N1 and Seasonal Flu Vaccines\"](https://www.drivendata.org/competitions/66/flu-shot-learning/).\n",
    "\n",
    "The dataset consists of approximately 27 000 participant responses. The main outcome variables in the dataset:\n",
    "- whether the participant received the vaccination against the H1N1 flu\n",
    "- whether the participant received the vaccination against the seasonal flu\n",
    "\n",
    "The remainder of the dataset consists of [35 categorical variables](https://www.drivendata.org/competitions/66/flu-shot-learning/page/211/), broadly falling into participant demographics, attitudes and knowledge about H1N1 and seasonal flu and vaccination, and healthcare information.\n",
    "\n",
    "## Hypotheses\n",
    "\n",
    "We had two main hypotheses we intended to address in our project:\n",
    "\n",
    "- Some features affect the likelihood of vaccination more than others, e.g. attitudes and knowledge, recommendations by doctors\n",
    "- H1N1 vaccination is taken more due to the pandemic context "
   ]
  },
  {
   "cell_type": "markdown",
   "id": "e1899aea",
   "metadata": {},
   "source": [
    "## Notebook description\n",
    "\n",
    "![](https://raw.githubusercontent.com/RayKwame/TheFluShot/main/images/Model_creation.JPG?token=ATDLUYNGNEFYDG52Z7FUCSDBCFXSK)\n",
    "\n",
    "This notebook describes the steps taken to create the final prediction model (based on the Random Forest Classifier) for predicting vaccination against the flu. Two models are developed--the first for prediction of H1N1 flu vaccination, the second for prediction of seasonal flu vaccination. It also describes the identification and exploration of the important features for vaccination prediction.\n",
    "\n",
    "It includes the following sections:\n",
    "\n",
    "1. Import of necessary packages and libraries\n",
    "2. Import and examination of data\n",
    "3. EDA\n",
    "4. Feature engineering\n",
    "5. Data cleaning\n",
    "6. Prediction of H1N1 flu vaccination  \n",
    "    6.1 Separation of data into features and target variable\n",
    "    6.2 Performing test-train split\n",
    "    6.3 Data balancing by downsampling the majority class  \n",
    "    6.4 Modelling and prediction  \n",
    "    6.5 Evaluation of model performance  \n",
    "    6.6 Hyperparameter tuning  \n",
    "    6.7 Error evaluation of model  \n",
    "7. Prediction of seasonal flu vaccination  \n",
    "    7.1 Separation of data into features and target variable\n",
    "    7.2 Performing test-train split\n",
    "    7.3 Modelling and prediction  \n",
    "    7.4 Evaluation of model performance  \n",
    "    7.5 Hyperparameter tuning  \n",
    "    7.6 Error evaluation of model  \n",
    "8. Summary and conclusions"
   ]
  },
  {
   "cell_type": "markdown",
   "id": "1ece3ea3",
   "metadata": {},
   "source": [
    "## 1. Import of necessary packages and libraries"
   ]
  },
  {
   "cell_type": "code",
   "execution_count": 1,
   "id": "6353bf68",
   "metadata": {},
   "outputs": [
    {
     "name": "stdout",
     "output_type": "stream",
     "text": [
      "Requirement already satisfied: eli5 in ./.venv/lib/python3.8/site-packages (0.11.0)\n",
      "Requirement already satisfied: attrs>16.0.0 in ./.venv/lib/python3.8/site-packages (from eli5) (21.2.0)\n",
      "Requirement already satisfied: scikit-learn>=0.20 in ./.venv/lib/python3.8/site-packages (from eli5) (0.24.2)\n",
      "Requirement already satisfied: numpy>=1.9.0 in ./.venv/lib/python3.8/site-packages (from eli5) (1.20.1)\n",
      "Requirement already satisfied: graphviz in ./.venv/lib/python3.8/site-packages (from eli5) (0.17)\n",
      "Requirement already satisfied: scipy in ./.venv/lib/python3.8/site-packages (from eli5) (1.6.0)\n",
      "Requirement already satisfied: jinja2 in ./.venv/lib/python3.8/site-packages (from eli5) (3.0.1)\n",
      "Requirement already satisfied: six in ./.venv/lib/python3.8/site-packages (from eli5) (1.16.0)\n",
      "Requirement already satisfied: tabulate>=0.7.7 in ./.venv/lib/python3.8/site-packages (from eli5) (0.8.9)\n",
      "Requirement already satisfied: joblib>=0.11 in ./.venv/lib/python3.8/site-packages (from scikit-learn>=0.20->eli5) (1.0.1)\n",
      "Requirement already satisfied: threadpoolctl>=2.0.0 in ./.venv/lib/python3.8/site-packages (from scikit-learn>=0.20->eli5) (2.2.0)\n",
      "Requirement already satisfied: MarkupSafe>=2.0 in ./.venv/lib/python3.8/site-packages (from jinja2->eli5) (2.0.1)\n"
     ]
    }
   ],
   "source": [
    "import sys\n",
    "# adding to the path variables the one folder higher (locally, not changing system variables)\n",
    "sys.path.append(\"..\")\n",
    "import pandas as pd\n",
    "import numpy as np\n",
    "import warnings\n",
    "import mlflow\n",
    "#from modeling.config import TRACKING_URI, EXPERIMENT_NAME\n",
    "\n",
    "RSEED = 42\n",
    "# Modeling Libraries\n",
    "\n",
    "import numpy as np\n",
    "import pandas as pd\n",
    "import matplotlib.pyplot as plt\n",
    "import seaborn as sns\n",
    "\n",
    "from sklearn.impute import SimpleImputer\n",
    "\n",
    "from sklearn.dummy import DummyClassifier\n",
    "from sklearn.multioutput import MultiOutputClassifier\n",
    "from sklearn.linear_model import LinearRegression\n",
    "from sklearn.pipeline import Pipeline\n",
    "from sklearn.compose import ColumnTransformer\n",
    "from sklearn.preprocessing import OneHotEncoder, StandardScaler\n",
    "from sklearn.impute import SimpleImputer\n",
    "from sklearn.model_selection import train_test_split\n",
    "from sklearn.model_selection import GridSearchCV, RandomizedSearchCV\n",
    "from sklearn.model_selection import cross_val_predict, cross_val_score, cross_validate\n",
    "from sklearn.metrics import roc_curve, confusion_matrix, accuracy_score, recall_score, precision_score, f1_score, roc_auc_score\n",
    "from sklearn import metrics\n",
    "\n",
    "from sklearn.linear_model import LogisticRegression\n",
    "from sklearn.linear_model import SGDClassifier\n",
    "from sklearn.ensemble import RandomForestClassifier\n",
    "\n",
    "# for resampling (data balancing)\n",
    "from sklearn.utils import resample\n",
    "\n",
    "# for feature importance\n",
    "!pip install eli5\n",
    "import eli5\n",
    "from eli5.sklearn import PermutationImportance\n",
    "\n",
    "warnings.filterwarnings('ignore')"
   ]
  },
  {
   "cell_type": "markdown",
   "id": "923b35a5",
   "metadata": {},
   "source": [
    "## 2. Import and examination of data"
   ]
  },
  {
   "cell_type": "markdown",
   "id": "3d422032",
   "metadata": {},
   "source": [
    "The description of the data, from [DrivenData](https://www.drivendata.org/competitions/66/flu-shot-learning/page/211/):\n",
    "\n",
    "For all binary variables: 0 = No; 1 = Yes.\n",
    "\n",
    "    h1n1_concern - Level of concern about the H1N1 flu.  \n",
    "        0 = Not at all concerned; 1 = Not very concerned; 2 = Somewhat concerned; 3 = Very concerned.  \n",
    "    h1n1_knowledge - Level of knowledge about H1N1 flu.  \n",
    "        0 = No knowledge; 1 = A little knowledge; 2 = A lot of knowledge.  \n",
    "    behavioral_antiviral_meds - Has taken antiviral medications. (binary)  \n",
    "    behavioral_avoidance - Has avoided close contact with others with flu-like symptoms. (binary)  \n",
    "    behavioral_face_mask - Has bought a face mask. (binary)  \n",
    "    behavioral_wash_hands - Has frequently washed hands or used hand sanitizer. (binary)  \n",
    "    behavioral_large_gatherings - Has reduced time at large gatherings. (binary)  \n",
    "    behavioral_outside_home - Has reduced contact with people outside of own household. (binary)  \n",
    "    behavioral_touch_face - Has avoided touching eyes, nose, or mouth. (binary)  \n",
    "    doctor_recc_h1n1 - H1N1 flu vaccine was recommended by doctor. (binary)  \n",
    "    doctor_recc_seasonal - Seasonal flu vaccine was recommended by doctor. (binary)  \n",
    "    chronic_med_condition - Has any of the following chronic medical conditions: asthma or an other lung condition, diabetes, a heart condition, a kidney condition, sickle cell anemia or other anemia, a neurological or neuromuscular condition, a liver condition, or a weakened immune system caused by a chronic illness or by medicines taken for a chronic illness. (binary)  \n",
    "    child_under_6_months - Has regular close contact with a child under the age of six months. (binary)  \n",
    "    health_worker - Is a healthcare worker. (binary)  \n",
    "    health_insurance - Has health insurance. (binary)  \n",
    "    opinion_h1n1_vacc_effective - Respondent's opinion about H1N1 vaccine effectiveness.  \n",
    "        1 = Not at all effective; 2 = Not very effective; 3 = Don't know; 4 = Somewhat effective; 5 = Very effective.  \n",
    "    opinion_h1n1_risk - Respondent's opinion about risk of getting sick with H1N1 flu without vaccine.  \n",
    "        1 = Very Low; 2 = Somewhat low; 3 = Don't know; 4 = Somewhat high; 5 = Very high.  \n",
    "    opinion_h1n1_sick_from_vacc - Respondent's worry of getting sick from taking H1N1 vaccine.  \n",
    "        1 = Not at all worried; 2 = Not very worried; 3 = Don't know; 4 = Somewhat worried; 5 = Very worried.  \n",
    "    opinion_seas_vacc_effective - Respondent's opinion about seasonal flu vaccine effectiveness.  \n",
    "        1 = Not at all effective; 2 = Not very effective; 3 = Don't know; 4 = Somewhat effective; 5 = Very effective.  \n",
    "    opinion_seas_risk - Respondent's opinion about risk of getting sick with seasonal flu without vaccine.  \n",
    "        1 = Very Low; 2 = Somewhat low; 3 = Don't know; 4 = Somewhat high; 5 = Very high.  \n",
    "    opinion_seas_sick_from_vacc - Respondent's worry of getting sick from taking seasonal flu vaccine.  \n",
    "        1 = Not at all worried; 2 = Not very worried; 3 = Don't know; 4 = Somewhat worried; 5 = Very worried.  \n",
    "    age_group - Age group of respondent.  \n",
    "    education - Self-reported education level.  \n",
    "    race - Race of respondent.  \n",
    "    sex - Sex of respondent.  \n",
    "    income_poverty - Household annual income of respondent with respect to 2008 Census poverty thresholds.  \n",
    "    marital_status - Marital status of respondent.  \n",
    "    rent_or_own - Housing situation of respondent.  \n",
    "    employment_status - Employment status of respondent.  \n",
    "    hhs_geo_region - Respondent's residence using a 10-region geographic classification defined by the U.S. Dept. of Health and Human Services. Values are represented as short random character strings.  \n",
    "    census_msa - Respondent's residence within metropolitan statistical areas (MSA) as defined by the U.S. Census.  \n",
    "    household_adults - Number of other adults in household, top-coded to 3.  \n",
    "    household_children - Number of children in household, top-coded to 3.  \n",
    "    employment_industry - Type of industry respondent is employed in. Values are represented as short random character strings.  \n",
    "    employment_occupation - Type of occupation of respondent. Values are represented as short random character strings.  "
   ]
  },
  {
   "cell_type": "markdown",
   "id": "e087fcda",
   "metadata": {},
   "source": [
    "Data was imported and saved to a dataframe:"
   ]
  },
  {
   "cell_type": "code",
   "execution_count": 2,
   "id": "90c485bb",
   "metadata": {},
   "outputs": [],
   "source": [
    "df = pd.read_csv('data/Flu_Shot_Data_cleaned_2.csv')\n",
    "\n",
    "# Getting rid of erroneous column 'Unnamed: 0'\n",
    "df = df.drop('Unnamed: 0', axis=1)"
   ]
  },
  {
   "cell_type": "markdown",
   "id": "cc17e253",
   "metadata": {},
   "source": [
    "Examination of data:"
   ]
  },
  {
   "cell_type": "code",
   "execution_count": 3,
   "id": "33f974a5",
   "metadata": {},
   "outputs": [
    {
     "name": "stdout",
     "output_type": "stream",
     "text": [
      "<class 'pandas.core.frame.DataFrame'>\n",
      "RangeIndex: 26707 entries, 0 to 26706\n",
      "Data columns (total 37 columns):\n",
      " #   Column                       Non-Null Count  Dtype  \n",
      "---  ------                       --------------  -----  \n",
      " 0   h1n1_vaccine                 26707 non-null  int64  \n",
      " 1   seasonal_vaccine             26707 non-null  int64  \n",
      " 2   h1n1_concern                 26615 non-null  float64\n",
      " 3   h1n1_knowledge               26591 non-null  float64\n",
      " 4   behavioral_antiviral_meds    26636 non-null  float64\n",
      " 5   behavioral_avoidance         26499 non-null  float64\n",
      " 6   behavioral_face_mask         26688 non-null  float64\n",
      " 7   behavioral_wash_hands        26665 non-null  float64\n",
      " 8   behavioral_large_gatherings  26620 non-null  float64\n",
      " 9   behavioral_outside_home      26625 non-null  float64\n",
      " 10  behavioral_touch_face        26579 non-null  float64\n",
      " 11  doctor_recc_h1n1             24547 non-null  float64\n",
      " 12  doctor_recc_seasonal         24547 non-null  float64\n",
      " 13  chronic_med_condition        25736 non-null  float64\n",
      " 14  child_under_6_months         25887 non-null  float64\n",
      " 15  health_worker                25903 non-null  float64\n",
      " 16  health_insurance             14433 non-null  float64\n",
      " 17  opinion_h1n1_vacc_effective  26316 non-null  float64\n",
      " 18  opinion_h1n1_risk            26319 non-null  float64\n",
      " 19  opinion_h1n1_sick_from_vacc  26312 non-null  float64\n",
      " 20  opinion_seas_vacc_effective  26245 non-null  float64\n",
      " 21  opinion_seas_risk            26193 non-null  float64\n",
      " 22  opinion_seas_sick_from_vacc  26170 non-null  float64\n",
      " 23  age_group                    26707 non-null  object \n",
      " 24  education                    25300 non-null  object \n",
      " 25  race                         26707 non-null  object \n",
      " 26  sex                          26707 non-null  object \n",
      " 27  income_poverty               22284 non-null  object \n",
      " 28  marital_status               25299 non-null  object \n",
      " 29  rent_or_own                  24665 non-null  object \n",
      " 30  employment_status            25244 non-null  object \n",
      " 31  hhs_geo_region               26707 non-null  object \n",
      " 32  census_msa                   26707 non-null  object \n",
      " 33  household_adults             26458 non-null  float64\n",
      " 34  household_children           26458 non-null  float64\n",
      " 35  employment_industry          13377 non-null  object \n",
      " 36  employment_occupation        13237 non-null  object \n",
      "dtypes: float64(23), int64(2), object(12)\n",
      "memory usage: 7.5+ MB\n"
     ]
    }
   ],
   "source": [
    "df.info()"
   ]
  },
  {
   "cell_type": "markdown",
   "id": "09d13076",
   "metadata": {},
   "source": [
    "- Our target variables are h1n1_vaccine and seasonal_vaccine\n",
    "- We are working with 35 feature variables--all categorical\n",
    "- Twelve of the feature variables are strings--these will be encoded numerically for the Random Forest Classifier, as part of data cleaning\n",
    "\n",
    "Missing values were checked:"
   ]
  },
  {
   "cell_type": "code",
   "execution_count": 4,
   "id": "e181c944",
   "metadata": {},
   "outputs": [
    {
     "data": {
      "text/plain": [
       "h1n1_vaccine                       0\n",
       "seasonal_vaccine                   0\n",
       "h1n1_concern                      92\n",
       "h1n1_knowledge                   116\n",
       "behavioral_antiviral_meds         71\n",
       "behavioral_avoidance             208\n",
       "behavioral_face_mask              19\n",
       "behavioral_wash_hands             42\n",
       "behavioral_large_gatherings       87\n",
       "behavioral_outside_home           82\n",
       "behavioral_touch_face            128\n",
       "doctor_recc_h1n1                2160\n",
       "doctor_recc_seasonal            2160\n",
       "chronic_med_condition            971\n",
       "child_under_6_months             820\n",
       "health_worker                    804\n",
       "health_insurance               12274\n",
       "opinion_h1n1_vacc_effective      391\n",
       "opinion_h1n1_risk                388\n",
       "opinion_h1n1_sick_from_vacc      395\n",
       "opinion_seas_vacc_effective      462\n",
       "opinion_seas_risk                514\n",
       "opinion_seas_sick_from_vacc      537\n",
       "age_group                          0\n",
       "education                       1407\n",
       "race                               0\n",
       "sex                                0\n",
       "income_poverty                  4423\n",
       "marital_status                  1408\n",
       "rent_or_own                     2042\n",
       "employment_status               1463\n",
       "hhs_geo_region                     0\n",
       "census_msa                         0\n",
       "household_adults                 249\n",
       "household_children               249\n",
       "employment_industry            13330\n",
       "employment_occupation          13470\n",
       "dtype: int64"
      ]
     },
     "execution_count": 4,
     "metadata": {},
     "output_type": "execute_result"
    }
   ],
   "source": [
    "df.isnull().sum(axis = 0)"
   ]
  },
  {
   "cell_type": "markdown",
   "id": "103415b8",
   "metadata": {},
   "source": [
    "Five of the features were complete, but others had a considerable amount of missing data (up to 50%, e.g. employment_occupation).\n",
    "\n",
    "The Random Forest Classifier is able to work with missing data, but the NaN values first need to be [filled with dummy values (such as -999) prior](https://www.analyticsvidhya.com/blog/2021/05/dealing-with-missing-values-in-python-a-complete-guide/). This will be done as part of data cleaning."
   ]
  },
  {
   "cell_type": "markdown",
   "id": "a2701247",
   "metadata": {},
   "source": [
    "## 3. EDA"
   ]
  },
  {
   "cell_type": "markdown",
   "id": "4b498787",
   "metadata": {},
   "source": [
    "The distribution of the two target variables between the negative and positive class were examined:"
   ]
  },
  {
   "cell_type": "code",
   "execution_count": 5,
   "id": "93ab2b01",
   "metadata": {},
   "outputs": [
    {
     "name": "stdout",
     "output_type": "stream",
     "text": [
      "Percent vaccinated against H1N1 flu: 78.75%\n",
      "Percent not vaccinated against H1N1 flu: 21.25%\n",
      "Percent vaccinated against seasonal flu: 53.44%\n",
      "Percent not vaccinated against seasonal flu: 46.56%\n"
     ]
    }
   ],
   "source": [
    "perc_h1n1_pos = (df.h1n1_vaccine.value_counts() / df.h1n1_vaccine.count())[0] * 100\n",
    "perc_h1n1_neg = (df.h1n1_vaccine.value_counts() / df.h1n1_vaccine.count())[1] * 100\n",
    "perc_seas_pos = (df.seasonal_vaccine.value_counts() / df.seasonal_vaccine.count())[0] * 100\n",
    "perc_seas_neg = (df.seasonal_vaccine.value_counts() / df.seasonal_vaccine.count())[1] * 100\n",
    "\n",
    "print(\"Percent vaccinated against H1N1 flu: {:.2f}%\".format(perc_h1n1_pos))\n",
    "print(\"Percent not vaccinated against H1N1 flu: {:.2f}%\".format(perc_h1n1_neg))\n",
    "\n",
    "print(\"Percent vaccinated against seasonal flu: {:.2f}%\".format(perc_seas_pos))\n",
    "print(\"Percent not vaccinated against seasonal flu: {:.2f}%\".format(perc_seas_neg))"
   ]
  },
  {
   "cell_type": "markdown",
   "id": "f9d680ab",
   "metadata": {},
   "source": [
    "The H1N1 flu vaccination was taken up less than the seasonal flu vaccination (thus disproving our second hypothesis). 53% of participants took the seasonal flu vaccine, while only 21% took the H1N1 flu vaccine.\n",
    "\n",
    "For the seasonal flu vaccine, the distribution between the positive and negative classes was fairly even.\n",
    "\n",
    "For the H1N1 flu vaccine, the distribution between positive and negative classes was not even--the majority class was 0 (i.e. participants who didn' take the vaccine).\n",
    "\n",
    "Next, we looked at the correlation between variables in order to identify multicollinear features. As many prediction models assume independence between predictive features, such features would need to be modified to eliminate this multicollinearity:"
   ]
  },
  {
   "cell_type": "code",
   "execution_count": 6,
   "id": "b7a55687",
   "metadata": {},
   "outputs": [
    {
     "name": "stdout",
     "output_type": "stream",
     "text": [
      "doctor_recc_seasonal         doctor_recc_h1n1               0.591868\n",
      "behavioral_outside_home      behavioral_large_gatherings    0.584085\n",
      "opinion_seas_risk            opinion_h1n1_risk              0.564522\n",
      "opinion_h1n1_sick_from_vacc  opinion_seas_sick_from_vacc    0.502192\n",
      "opinion_h1n1_vacc_effective  opinion_seas_vacc_effective    0.444043\n",
      "seasonal_vaccine             opinion_seas_vacc_effective    0.397874\n",
      "h1n1_vaccine                 doctor_recc_h1n1               0.393890\n",
      "seasonal_vaccine             opinion_seas_risk              0.389286\n",
      "h1n1_concern                 opinion_h1n1_risk              0.386032\n",
      "dtype: float64\n"
     ]
    }
   ],
   "source": [
    "s = df.corr(method='spearman').unstack().sort_values(kind=\"quicksort\", ascending=False).drop_duplicates()\n",
    "print(s[1:10])"
   ]
  },
  {
   "cell_type": "markdown",
   "id": "bdbb4c4c",
   "metadata": {},
   "source": [
    "Four combinations of features had a Spearman correlation of over 0.5, which was considered to be \"highly correlated\":\n",
    "- doctor_recc_seasonal, doctor_recc_h1n1\n",
    "- behavioral_outside_home, behavioral_large_gatherings\n",
    "- opinion_seas_risk, opinion_h1n1_risk\n",
    "- opinion_h1n1_sick_from_vacc, opinion_seas_sick_from_vacc\n",
    "\n",
    "This will be addressed as part of feature engineering."
   ]
  },
  {
   "cell_type": "markdown",
   "id": "a4413b68",
   "metadata": {},
   "source": [
    "## 4. Feature engineering"
   ]
  },
  {
   "cell_type": "markdown",
   "id": "de7b1ee3",
   "metadata": {},
   "source": [
    "The multicollinear features were addressed using one of the following two strategies:\n",
    "- Binary features will be combined into categories (4 combinations)\n",
    "- Non-binary features will be dropped according to the target variable\n",
    "\n",
    "\n",
    "1. Creation of a new column based on doctor's reccomendation of vaccine\n",
    "\n",
    "This combined the columns doctor_recc_seasonal and doctor_recc_h1n1, based on whether both, neither, or only one of the vaccines have been recommended:"
   ]
  },
  {
   "cell_type": "code",
   "execution_count": 7,
   "id": "881e15ba",
   "metadata": {},
   "outputs": [
    {
     "data": {
      "text/plain": [
       "0.0    15659\n",
       "3.0     4614\n",
       "2.0     3480\n",
       "1.0      794\n",
       "Name: reco_vaccines, dtype: int64"
      ]
     },
     "execution_count": 7,
     "metadata": {},
     "output_type": "execute_result"
    }
   ],
   "source": [
    "# set up of function to combine columns\n",
    "\n",
    "def get_reco(row):\n",
    "    # none of the vaccines has been recommended\n",
    "    if row['doctor_recc_seasonal'] == 0 and row['doctor_recc_h1n1'] == 0:\n",
    "        val = 0\n",
    "    # both vaccines have been recommended\n",
    "    elif row['doctor_recc_seasonal'] == 0 and row['doctor_recc_h1n1'] == 1:\n",
    "        val = 1\n",
    "    # only seasonal vaccine has been recommended \n",
    "    elif row['doctor_recc_seasonal'] == 1 and row['doctor_recc_h1n1'] == 0:\n",
    "        val = 2\n",
    "    # only H1N1 vaccine has been recommended\n",
    "    elif row['doctor_recc_seasonal'] == 1 and row['doctor_recc_h1n1'] == 1:\n",
    "        val = 3\n",
    "    else:\n",
    "        val = None\n",
    "    return val\n",
    "\n",
    "# applying the function\n",
    "# values will be converted to categorical\n",
    "\n",
    "df['reco_vaccines'] = df.apply(get_reco, axis=1).astype('category')\n",
    "\n",
    "# removal of old columns\n",
    "\n",
    "removal = ['doctor_recc_seasonal', 'doctor_recc_h1n1']\n",
    "\n",
    "df.drop(removal, axis=1, inplace=True)\n",
    "\n",
    "# checking distribution of values between new categories\n",
    "\n",
    "df['reco_vaccines'].value_counts()"
   ]
  },
  {
   "cell_type": "markdown",
   "id": "54daa0d5",
   "metadata": {},
   "source": [
    "2. Creation of a new column based on behaviour at large gatherings and behaviour outside of home\n",
    "\n",
    "This combined the columns behavioral_large_gatherings and behavioral_outside_home. Note: we need to make an assumption that '0' refers to not having done it and '1' refers to having done it"
   ]
  },
  {
   "cell_type": "code",
   "execution_count": 8,
   "id": "35a1e1a9",
   "metadata": {},
   "outputs": [
    {
     "data": {
      "text/plain": [
       "0.0    14808\n",
       "3.0     6723\n",
       "2.0     2796\n",
       "1.0     2224\n",
       "Name: behaviour_gather_home, dtype: int64"
      ]
     },
     "execution_count": 8,
     "metadata": {},
     "output_type": "execute_result"
    }
   ],
   "source": [
    "# set up of function to combine columns\n",
    "\n",
    "def get_behaviour(row):\n",
    "    # none of the behaviours applies \n",
    "    if row['behavioral_large_gatherings'] == 0 and row['behavioral_outside_home'] == 0:\n",
    "        val = 0\n",
    "    # both behaviours apply \n",
    "    elif row['behavioral_large_gatherings'] == 0 and row['behavioral_outside_home'] == 1:\n",
    "        val = 1\n",
    "    # only reducing time at large gatherings applies \n",
    "    elif row['behavioral_large_gatherings'] == 1 and row['behavioral_outside_home'] == 0:\n",
    "        val = 2\n",
    "    # only reduced contact with people outside of household applies \n",
    "    elif row['behavioral_large_gatherings'] == 1 and row['behavioral_outside_home'] == 1:\n",
    "        val = 3\n",
    "    else:\n",
    "        val = None\n",
    "    return val\n",
    "\n",
    "# applying the function\n",
    "# values will be converted to categorical\n",
    "\n",
    "df['behaviour_gather_home'] = df.apply(get_behaviour, axis=1).astype('category')\n",
    "\n",
    "# removal of old columns\n",
    "\n",
    "removal = ['behavioral_large_gatherings', 'behavioral_outside_home']\n",
    "\n",
    "df.drop(removal, axis=1, inplace=True)\n",
    "\n",
    "# checking distribution of values between new categories\n",
    "\n",
    "df.behaviour_gather_home.value_counts()"
   ]
  },
  {
   "cell_type": "markdown",
   "id": "57b4d53b",
   "metadata": {},
   "source": [
    "3. Removal of feature depending on target variable\n",
    "\n",
    "Two further feature combinations were found to be multicollinear:\n",
    "\n",
    "- opinion_seas_risk, opinion_h1n1_risk\n",
    "- opinion_h1n1_sick_from_vacc, opinion_seas_sick_from_vacc\n",
    "\n",
    "Each pairing had one feature relevant to the H1N1 flu vaccine and one relevant to the seasonal flu vaccine. Therefore, one feature in each pair was dropped, according to what the target variable of the model was (i.e. for the model predicting H1N1 flu vaccination, the columns opinion_seas_risk and opinion_seas_sick_from_vacc were dropped; for the model predicting seasonal flu vaccination, the columns opinion_h1n1_risk and opinion_h1n1_sick_from_vacc were dropped).\n",
    "\n",
    "This dropping of features was done after data cleaning."
   ]
  },
  {
   "cell_type": "markdown",
   "id": "be59329b",
   "metadata": {},
   "source": [
    "## 5. Data cleaning"
   ]
  },
  {
   "cell_type": "markdown",
   "id": "2660cdf2",
   "metadata": {},
   "source": [
    "The features consisting of string data were converted to numerical data:"
   ]
  },
  {
   "cell_type": "code",
   "execution_count": 10,
   "id": "b7ce4b1e",
   "metadata": {},
   "outputs": [],
   "source": [
    "cleanup = {\"age_group\": {\"18 - 34 Years\": 1, \"35 - 44 Years\": 2, \"45 - 54 Years\": 3, \"55 - 64 Years\": 4,\n",
    "                                  \"65+ Years\": 5},\n",
    "            \"education\": {\"< 12 Years\": 1, \"12 Years\": 2, \"Some College\": 3, \"College Graduate\": 4},\n",
    "            \"race\": {\"White\": 1, \"Black\": 2, \"Hispanic\": 3, \"Other or Multiple\": 4},\n",
    "            \"sex\" : {\"Female\": 1, \"Male\": 2},\n",
    "            \"rent_or_own\" : {\"Own\": 1, \"Rent\": 2},\n",
    "            \"hhs_geo_region\" : {\"lzgpxyit\": 1, \"fpwskwrf\": 2, \"qufhixun\": 3, \"bhuqouqj\": 4, \"oxchjgsf\": 5, \"kbazzjca\": 6, \"mlyzmhmf\": 7, \"atmpeygn\": 8, \"lrircsnp\": 9, \"dqpwygqj\": 10},\n",
    "            \"census_msa\" : {\"MSA, Principle City\": 1, \"MSA, Not Principle  City\": 2, \"Non-MSA\": 3},\n",
    "            \"income_poverty\" : {\"Below Poverty\": 1, \"<= $75,000, Above Poverty\": 2, \"> $75,000\": 3},\n",
    "            \"employment_industry\" : {\"fcxhlnwr\": 1, \"wxleyezf\": 2, \"ldnlellj\": 3, \"pxcmvdjn\": 4, \"atmlpfrs\": 5, \"arjwrbjb\": 6, \"xicduogh\": 7, \"mfikgejo\": 8, \"vjjrobsf\": 9,\n",
    "                                    \"rucpziij\": 10, \"xqicxuve\": 11, \"saaquncn\": 12, \"cfqqtusy\": 13, \"nduyfdeo\": 14, \"mcubkhph\": 15, \"wlfvacwt\": 16, \"dotnnunm\": 17, \"haxffmxo\": 18, \"msuufmds\": 19, \"phxvnwax\": 20,\n",
    "                                    \"qnlwzans\": 21},\n",
    "           \"employment_occupation\" : {\"xtkaffoo\": 1, \"mxkfnird\": 2, \"emcorrxb\": 3, \"cmhcxjea\": 4, \"xgwztkwe\": 5, \"hfxkjkmi\": 6, \"qxajmpny\": 7, \"xqwwgdyp\": 8, \"kldqjyjy\": 9,\n",
    "                                    \"uqqtjvyb\": 10, \"tfqavkke\": 11, \"ukymxvdu\": 12, \"vlluhbov\": 13, \"oijqvulv\": 14, \"ccgxvspp\": 15, \"bxpfxfdn\": 16, \"haliazsg\": 17, \"rcertsgn\": 18, \"xzmlyyjv\": 19, \"dlvbwzss\": 20,\n",
    "                                    \"hodpvpew\": 21, \"dcjcmpih\": 22, \"pvmttkik\": 23},\n",
    "           \"marital_status\" : {\"Married\": 1, \"Not Married\": 2},\n",
    "           \"employment_status\" : {\"Employed\": 1, \"Not in Labor Force\": 2, \"Unemployed\": 3}\n",
    "                                  }"
   ]
  },
  {
   "cell_type": "code",
   "execution_count": 11,
   "id": "1149bef8",
   "metadata": {},
   "outputs": [],
   "source": [
    "df = df.replace(cleanup)"
   ]
  },
  {
   "cell_type": "markdown",
   "id": "56ac44b9",
   "metadata": {},
   "source": [
    "Checking that the conversion to numerical data was successful:"
   ]
  },
  {
   "cell_type": "code",
   "execution_count": 12,
   "id": "a4214cd5",
   "metadata": {},
   "outputs": [
    {
     "name": "stdout",
     "output_type": "stream",
     "text": [
      "<class 'pandas.core.frame.DataFrame'>\n",
      "RangeIndex: 26707 entries, 0 to 26706\n",
      "Data columns (total 35 columns):\n",
      " #   Column                       Non-Null Count  Dtype   \n",
      "---  ------                       --------------  -----   \n",
      " 0   h1n1_vaccine                 26707 non-null  int64   \n",
      " 1   seasonal_vaccine             26707 non-null  int64   \n",
      " 2   h1n1_concern                 26615 non-null  float64 \n",
      " 3   h1n1_knowledge               26591 non-null  float64 \n",
      " 4   behavioral_antiviral_meds    26636 non-null  float64 \n",
      " 5   behavioral_avoidance         26499 non-null  float64 \n",
      " 6   behavioral_face_mask         26688 non-null  float64 \n",
      " 7   behavioral_wash_hands        26665 non-null  float64 \n",
      " 8   behavioral_touch_face        26579 non-null  float64 \n",
      " 9   chronic_med_condition        25736 non-null  float64 \n",
      " 10  child_under_6_months         25887 non-null  float64 \n",
      " 11  health_worker                25903 non-null  float64 \n",
      " 12  health_insurance             14433 non-null  float64 \n",
      " 13  opinion_h1n1_vacc_effective  26316 non-null  float64 \n",
      " 14  opinion_h1n1_risk            26319 non-null  float64 \n",
      " 15  opinion_h1n1_sick_from_vacc  26312 non-null  float64 \n",
      " 16  opinion_seas_vacc_effective  26245 non-null  float64 \n",
      " 17  opinion_seas_risk            26193 non-null  float64 \n",
      " 18  opinion_seas_sick_from_vacc  26170 non-null  float64 \n",
      " 19  age_group                    26707 non-null  int64   \n",
      " 20  education                    25300 non-null  float64 \n",
      " 21  race                         26707 non-null  int64   \n",
      " 22  sex                          26707 non-null  int64   \n",
      " 23  income_poverty               22284 non-null  float64 \n",
      " 24  marital_status               25299 non-null  float64 \n",
      " 25  rent_or_own                  24665 non-null  float64 \n",
      " 26  employment_status            25244 non-null  float64 \n",
      " 27  hhs_geo_region               26707 non-null  int64   \n",
      " 28  census_msa                   26707 non-null  int64   \n",
      " 29  household_adults             26458 non-null  float64 \n",
      " 30  household_children           26458 non-null  float64 \n",
      " 31  employment_industry          13377 non-null  float64 \n",
      " 32  employment_occupation        13237 non-null  float64 \n",
      " 33  reco_vaccines                24547 non-null  category\n",
      " 34  behaviour_gather_home        26551 non-null  category\n",
      "dtypes: category(2), float64(26), int64(7)\n",
      "memory usage: 6.8 MB\n"
     ]
    }
   ],
   "source": [
    "df.info()"
   ]
  },
  {
   "cell_type": "markdown",
   "id": "a9a9dbae",
   "metadata": {},
   "source": [
    "Next, the missing NaN values were filled with dummy values (-999):"
   ]
  },
  {
   "cell_type": "code",
   "execution_count": 13,
   "id": "a799bc4f",
   "metadata": {},
   "outputs": [],
   "source": [
    "# extracting column names (needed for reconstituting the dataframe)\n",
    "cols = df.columns\n",
    "\n",
    "# sklearn SimpleImputer was instantiated with the dummy value\n",
    "imp_const = SimpleImputer(strategy='constant', fill_value=-999)\n",
    "\n",
    "# filling of NaN values\n",
    "df = imp_const.fit_transform(df)\n",
    "\n",
    "# reconstituting the dataframe (SimpleImputer outputs an array)\n",
    "df = pd.DataFrame(df, columns=cols)"
   ]
  },
  {
   "cell_type": "markdown",
   "id": "85d38bab",
   "metadata": {},
   "source": [
    "Looking at the resultant dataframe, we see that there is no non-null data remaining:"
   ]
  },
  {
   "cell_type": "code",
   "execution_count": 14,
   "id": "48d34e8c",
   "metadata": {},
   "outputs": [
    {
     "name": "stdout",
     "output_type": "stream",
     "text": [
      "<class 'pandas.core.frame.DataFrame'>\n",
      "RangeIndex: 26707 entries, 0 to 26706\n",
      "Data columns (total 35 columns):\n",
      " #   Column                       Non-Null Count  Dtype  \n",
      "---  ------                       --------------  -----  \n",
      " 0   h1n1_vaccine                 26707 non-null  float64\n",
      " 1   seasonal_vaccine             26707 non-null  float64\n",
      " 2   h1n1_concern                 26707 non-null  float64\n",
      " 3   h1n1_knowledge               26707 non-null  float64\n",
      " 4   behavioral_antiviral_meds    26707 non-null  float64\n",
      " 5   behavioral_avoidance         26707 non-null  float64\n",
      " 6   behavioral_face_mask         26707 non-null  float64\n",
      " 7   behavioral_wash_hands        26707 non-null  float64\n",
      " 8   behavioral_touch_face        26707 non-null  float64\n",
      " 9   chronic_med_condition        26707 non-null  float64\n",
      " 10  child_under_6_months         26707 non-null  float64\n",
      " 11  health_worker                26707 non-null  float64\n",
      " 12  health_insurance             26707 non-null  float64\n",
      " 13  opinion_h1n1_vacc_effective  26707 non-null  float64\n",
      " 14  opinion_h1n1_risk            26707 non-null  float64\n",
      " 15  opinion_h1n1_sick_from_vacc  26707 non-null  float64\n",
      " 16  opinion_seas_vacc_effective  26707 non-null  float64\n",
      " 17  opinion_seas_risk            26707 non-null  float64\n",
      " 18  opinion_seas_sick_from_vacc  26707 non-null  float64\n",
      " 19  age_group                    26707 non-null  float64\n",
      " 20  education                    26707 non-null  float64\n",
      " 21  race                         26707 non-null  float64\n",
      " 22  sex                          26707 non-null  float64\n",
      " 23  income_poverty               26707 non-null  float64\n",
      " 24  marital_status               26707 non-null  float64\n",
      " 25  rent_or_own                  26707 non-null  float64\n",
      " 26  employment_status            26707 non-null  float64\n",
      " 27  hhs_geo_region               26707 non-null  float64\n",
      " 28  census_msa                   26707 non-null  float64\n",
      " 29  household_adults             26707 non-null  float64\n",
      " 30  household_children           26707 non-null  float64\n",
      " 31  employment_industry          26707 non-null  float64\n",
      " 32  employment_occupation        26707 non-null  float64\n",
      " 33  reco_vaccines                26707 non-null  float64\n",
      " 34  behaviour_gather_home        26707 non-null  float64\n",
      "dtypes: float64(35)\n",
      "memory usage: 7.1 MB\n"
     ]
    }
   ],
   "source": [
    "df.info()"
   ]
  }
 ],
 "metadata": {
  "kernelspec": {
   "display_name": "Python 3 (ipykernel)",
   "language": "python",
   "name": "python3"
  },
  "language_info": {
   "codemirror_mode": {
    "name": "ipython",
    "version": 3
   },
   "file_extension": ".py",
   "mimetype": "text/x-python",
   "name": "python",
   "nbconvert_exporter": "python",
   "pygments_lexer": "ipython3",
   "version": "3.8.5"
  }
 },
 "nbformat": 4,
 "nbformat_minor": 5
}
